{
 "cells": [
  {
   "cell_type": "code",
   "execution_count": null,
   "outputs": [],
   "source": [
    "!pip install plotly dash dash-html-components dash-core-components dash-table"
   ],
   "metadata": {
    "collapsed": false
   },
   "id": "a805e34f9f14b4b3"
  },
  {
   "cell_type": "code",
   "execution_count": 1,
   "outputs": [],
   "source": [
    "import numpy as np\n",
    "import pandas as pd\n",
    "\n",
    "from dash import Dash, dcc, html, Input, Output\n",
    "import plotly.express as px"
   ],
   "metadata": {
    "collapsed": false,
    "ExecuteTime": {
     "end_time": "2023-08-01T16:20:22.779207Z",
     "start_time": "2023-08-01T16:20:21.794735900Z"
    }
   },
   "id": "1aba5b4e8bbabddc"
  },
  {
   "cell_type": "code",
   "execution_count": 2,
   "outputs": [],
   "source": [
    "# Obtain data and format\n",
    "data = pd.read_csv('../../data/AllData.tsv.xz', sep='\\t')\n",
    "data_counts = pd.read_csv('../../data/stats_per_accession.txt', sep='\\t', usecols=['accession', 'num_datapoints', 'datapoints_mutant_percentage'])\n",
    "data_counts['balance_ratio'] = (50 - data_counts.datapoints_mutant_percentage).abs()\n",
    "# Add data counts and balance ratio\n",
    "data_counts = data_counts.drop(columns='datapoints_mutant_percentage')\n",
    "subplot1_data = (data[(data.crossval == 'random') & (data.folds == 'Mean') & (data.subset == 'complete')]\n",
    "                 .drop(columns=[col for col in data.columns if  col not in ['Pearson r', 'modeltype', 'accession']]))\n",
    "subplot1_data = (subplot1_data.merge(data_counts, on='accession')\n",
    "                 .drop(columns=['accession']))"
   ],
   "metadata": {
    "collapsed": false,
    "ExecuteTime": {
     "end_time": "2023-08-01T16:20:22.921543300Z",
     "start_time": "2023-08-01T16:20:22.779207Z"
    }
   },
   "id": "8976e0f04b994dde"
  },
  {
   "cell_type": "code",
   "execution_count": 26,
   "id": "initial_id",
   "metadata": {
    "collapsed": true,
    "ExecuteTime": {
     "end_time": "2023-08-01T16:41:40.179035800Z",
     "start_time": "2023-08-01T16:41:39.939082600Z"
    }
   },
   "outputs": [
    {
     "data": {
      "text/plain": "<IPython.lib.display.IFrame at 0x24c0175f190>",
      "text/html": "\n        <iframe\n            width=\"100%\"\n            height=\"650\"\n            src=\"http://127.0.0.1:8050/\"\n            frameborder=\"0\"\n            allowfullscreen\n            \n        ></iframe>\n        "
     },
     "metadata": {},
     "output_type": "display_data"
    }
   ],
   "source": [
    "app = Dash(__name__)\n",
    "\n",
    "app.layout = html.Div([\n",
    "                       dcc.Graph(id=\"heatmap-graph\"),\n",
    "                       html.P(\"#datapoints:\"),\n",
    "                       dcc.RangeSlider(\n",
    "                           id='heatmap-x-range-slider',\n",
    "                           min=subplot1_data.num_datapoints.min(),\n",
    "                           max=subplot1_data.num_datapoints.max(),\n",
    "                           step=1000,\n",
    "                           value=[3000, 5000]\n",
    "                           ),\n",
    "                       html.P(\"balance ratio:\"),\n",
    "                       dcc.RangeSlider(\n",
    "                            id='heatmap-y-range-slider',\n",
    "                            min=0, max=50, step=1,\n",
    "                            value=[12, 40]\n",
    "                            )\n",
    "                       ])\n",
    "\n",
    "\n",
    "@app.callback(\n",
    "    Output(\"heatmap-graph\", \"figure\"),\n",
    "    [Input(\"heatmap-x-range-slider\", \"value\"),\n",
    "     Input(\"heatmap-y-range-slider\", \"value\")])\n",
    "def update_bar_chart(slider_x, slider_y):\n",
    "    # Obvtain data\n",
    "    global subplot1_data\n",
    "    subplot_data = subplot1_data.copy()\n",
    "    # Slider values\n",
    "    low_x, high_x = slider_x\n",
    "    low_y, high_y = slider_y\n",
    "    # Obtain categories\n",
    "    num_intervals = pd.IntervalIndex.from_tuples([(subplot_data.num_datapoints.min() - 1, low_x),\n",
    "                                                  (low_x, high_x),\n",
    "                                                  (high_x, subplot_data.num_datapoints.max() + 1)])\n",
    "    ratio_intervals = pd.IntervalIndex.from_tuples([(subplot_data.balance_ratio.min() - 0.01, low_y),\n",
    "                                                    (low_y, high_y),\n",
    "                                                    (high_y, subplot_data.balance_ratio.max() + 0.01)])\n",
    "    subplot_data['num_bins'] = pd.cut(subplot_data.num_datapoints.values, num_intervals)\n",
    "    subplot_data['num_bins'] = subplot_data['num_bins'].astype(str)#.cat.rename_categories(dict(zip(num_intervals, ['low', 'medium', 'high'])))\n",
    "    subplot_data['ratio_bins'] = pd.cut(subplot_data.balance_ratio.values, ratio_intervals)\n",
    "    subplot_data['ratio_bins'] = subplot_data['ratio_bins'].astype(str)#.cat.rename_categories(dict(zip(ratio_intervals, ['low', 'medium', 'high'])))\n",
    "    subplot_data = subplot_data.drop(columns=['num_datapoints', 'balance_ratio'])\n",
    "    subplot_data = subplot_data.groupby(['modeltype', 'num_bins', 'ratio_bins']).agg('mean').reset_index()\n",
    "    subplot_data = subplot_data.pivot(columns=['num_bins'], values='Pearson r',\n",
    "                                      index=['modeltype', 'ratio_bins']).reset_index()\n",
    "    subplot_data.iloc[np.where(subplot_data.modeltype == 'QSAR')[0], 2:] = -subplot_data.iloc[np.where(subplot_data.modeltype == 'QSAR')[0], 2:]\n",
    "    subplot_data = subplot_data.drop(columns='modeltype').groupby('ratio_bins').agg('sum')\n",
    "    \n",
    "    fig = px.imshow(subplot_data, color_continuous_scale='RdYlGn', origin='lower', #zmin=0.0, zmax=0.1\n",
    "                    labels=dict(x=\"Amount of data\", y=\"Data balance\", color=\"Difference between PCM and QSAR (random CV)\"))\n",
    "    # fig.update_xaxes(categoryorder='array', categoryarray= [f'({subplot_data.num_datapoints.min()}, {low_x}]',\n",
    "    #                                                         f'({low_x}, {high_x}]',\n",
    "    #                                                         f'({high_x}, {subplot_data.num_datapoints.max()}]'])\n",
    "\n",
    "    return fig\n",
    "\n",
    "if __name__ == '__main__':\n",
    "    app.run_server(debug=False)"
   ]
  },
  {
   "cell_type": "code",
   "execution_count": null,
   "outputs": [],
   "source": [],
   "metadata": {
    "collapsed": false
   },
   "id": "6924e258c2beede"
  }
 ],
 "metadata": {
  "kernelspec": {
   "display_name": "Python 3",
   "language": "python",
   "name": "python3"
  },
  "language_info": {
   "codemirror_mode": {
    "name": "ipython",
    "version": 2
   },
   "file_extension": ".py",
   "mimetype": "text/x-python",
   "name": "python",
   "nbconvert_exporter": "python",
   "pygments_lexer": "ipython2",
   "version": "2.7.6"
  }
 },
 "nbformat": 4,
 "nbformat_minor": 5
}
