{
 "cells": [
  {
   "cell_type": "code",
   "execution_count": 1,
   "metadata": {
    "collapsed": true
   },
   "outputs": [],
   "source": [
    "import numpy as np\n",
    "\n",
    "from preprocessing import obtain_chembl_data\n",
    "from annotation import *"
   ]
  },
  {
   "cell_type": "markdown",
   "source": [
    "### Annotation workflow"
   ],
   "metadata": {
    "collapsed": false,
    "pycharm": {
     "name": "#%% md\n"
    }
   }
  },
  {
   "cell_type": "code",
   "execution_count": 2,
   "outputs": [
    {
     "name": "stderr",
     "output_type": "stream",
     "text": [
      "C:\\Users\\gorostiolam\\AppData\\Local\\Continuum\\anaconda3\\envs\\mutants-in-pcm\\lib\\site-packages\\ipykernel_launcher.py:1: DtypeWarning: Columns (4,6,7,11) have mixed types.Specify dtype option on import or set low_memory=False.\n",
      "  \"\"\"Entry point for launching an IPython kernel.\n"
     ]
    },
    {
     "data": {
      "text/plain": "                                               description  assay_id  \\\n0        In vivo inhibitory activity against human Hepa...     83907   \n1        In vivo inhibitory activity against human Hepa...     83907   \n2        Inhibitory activity against Palmitoyl-CoA oxid...    154606   \n3        Inhibitory activity against Palmitoyl-CoA oxid...    154606   \n4        Inhibitory activity against Palmitoyl-CoA oxid...    154606   \n...                                                    ...       ...   \n5270179              KinomeScan assay: inhibition of LATS2   2136225   \n5270180              KinomeScan assay: inhibition of ROCK1   2136385   \n5270181              KinomeScan assay: inhibition of ROCK2   2136386   \n5270182             KinomeScan assay: inhibition of TGFBR2   2136430   \n5270183               KinomeScan assay: inhibition of ULK1   2136450   \n\n         variant_id      chembl_id assay_organism    year  \\\n0               NaN   CHEMBL872937            NaN  2004.0   \n1               NaN   CHEMBL872937            NaN  2004.0   \n2               NaN   CHEMBL760688            NaN  2004.0   \n3               NaN   CHEMBL760688            NaN  2004.0   \n4               NaN   CHEMBL760688            NaN  2004.0   \n...             ...            ...            ...     ...   \n5270179         NaN  CHEMBL4879778   Homo sapiens  2021.0   \n5270180         NaN  CHEMBL4879938   Homo sapiens  2021.0   \n5270181         NaN  CHEMBL4879939   Homo sapiens  2021.0   \n5270182         NaN  CHEMBL4879983   Homo sapiens  2021.0   \n5270183         NaN  CHEMBL4880003   Homo sapiens  2021.0   \n\n                                                  abstract mutation  \\\n0        A novel class of 2,3-dihydro-1,3-dioxo-1H-isoi...      NaN   \n1        A novel class of 2,3-dihydro-1,3-dioxo-1H-isoi...      NaN   \n2        New inhibitors of palmitoylCoA oxidation were ...      NaN   \n3        New inhibitors of palmitoylCoA oxidation were ...      NaN   \n4        New inhibitors of palmitoylCoA oxidation were ...      NaN   \n...                                                    ...      ...   \n5270179  DiscoverX KinomeScan assays for SGC Frankfurt ...      NaN   \n5270180  DiscoverX KinomeScan assays for SGC Frankfurt ...      NaN   \n5270181  DiscoverX KinomeScan assays for SGC Frankfurt ...      NaN   \n5270182  DiscoverX KinomeScan assays for SGC Frankfurt ...      NaN   \n5270183  DiscoverX KinomeScan assays for SGC Frankfurt ...      NaN   \n\n         activity_id  pchembl_value standard_type activity_comment  \\\n0              31864           5.60          IC50              NaN   \n1              31866           5.05          IC50              NaN   \n2              31868           5.40          IC50              NaN   \n3              31870           4.77          IC50              NaN   \n4              31872           6.75          IC50              NaN   \n...              ...            ...           ...              ...   \n5270179     23347581           7.26            Kd       Not Active   \n5270180     23347583           7.01            Kd       Not Active   \n5270181     23347585           7.09            Kd       Not Active   \n5270182     23347587           7.27            Kd       Not Active   \n5270183     23347589           6.85            Kd       Not Active   \n\n           chembl_id.1                                   canonical_smiles  \\\n0         CHEMBL324340  Cc1ccc2oc(-c3cccc(N4C(=O)c5ccc(C(=O)O)cc5C4=O)...   \n1         CHEMBL109600  COc1ccccc1-c1ccc2oc(-c3ccc(OC)c(N4C(=O)c5ccc(C...   \n2         CHEMBL357278  Cc1nc2cc(OC[C@H](O)CN3CCN(CC(=O)Nc4ccc(Cl)c(C(...   \n3         CHEMBL357119  Cc1nc2cc(OC[C@H](O)CN3CCN(CC(=O)NCCc4ccccc4)CC...   \n4         CHEMBL152968  Cc1nc2cc(OC[C@H](O)CN3CCN(CC(=O)Nc4cccc(-c5ccc...   \n...                ...                                                ...   \n5270179  CHEMBL4538174       C[C@@H](NC(=O)Nc1cc2[nH]ncc2c(CO)n1)c1ccccc1   \n5270180  CHEMBL4538174       C[C@@H](NC(=O)Nc1cc2[nH]ncc2c(CO)n1)c1ccccc1   \n5270181  CHEMBL4538174       C[C@@H](NC(=O)Nc1cc2[nH]ncc2c(CO)n1)c1ccccc1   \n5270182  CHEMBL4538174       C[C@@H](NC(=O)Nc1cc2[nH]ncc2c(CO)n1)c1ccccc1   \n5270183  CHEMBL4538174       C[C@@H](NC(=O)Nc1cc2[nH]ncc2c(CO)n1)c1ccccc1   \n\n        accession                                           sequence  \\\n0          Q9Y251  MLLRSKPALPPPLMLLLLGPLGPLSPGALPRPAQAQDVVDLDFFTQ...   \n1          Q9Y251  MLLRSKPALPPPLMLLLLGPLGPLSPGALPRPAQAQDVVDLDFFTQ...   \n2          P07872  MNPDLRKERASATFNPELITHILDGSPENTRRRREIENLILNDPDF...   \n3          P07872  MNPDLRKERASATFNPELITHILDGSPENTRRRREIENLILNDPDF...   \n4          P07872  MNPDLRKERASATFNPELITHILDGSPENTRRRREIENLILNDPDF...   \n...           ...                                                ...   \n5270179    Q9NRM7  MRPKTFPATTYSGNSRQRLQEIREGLKQPSKSSVQGLPAGPNSDTS...   \n5270180    Q13464  MSTGDSFETRFEKMDNLLRDPKSEVNSDCLLDGLDALVYDLDFPAL...   \n5270181    O75116  MSRPPPTGKMPGAPETAPGDGAGASRQRKLEALIRDPRSPINVESL...   \n5270182    P37173  MGRGLLRGLWPLHIVLWTRIASTIPPHVQKSVNNDMIVTDNNGAVK...   \n5270183    O75385  MEPGRGGTETVGKFEFSRKDLIGHGAFAVVFKGRHREKHDLEVAVK...   \n\n                  organism  \n0             Homo sapiens  \n1             Homo sapiens  \n2        Rattus norvegicus  \n3        Rattus norvegicus  \n4        Rattus norvegicus  \n...                    ...  \n5270179       Homo sapiens  \n5270180       Homo sapiens  \n5270181       Homo sapiens  \n5270182       Homo sapiens  \n5270183       Homo sapiens  \n\n[5270184 rows x 17 columns]",
      "text/html": "<div>\n<style scoped>\n    .dataframe tbody tr th:only-of-type {\n        vertical-align: middle;\n    }\n\n    .dataframe tbody tr th {\n        vertical-align: top;\n    }\n\n    .dataframe thead th {\n        text-align: right;\n    }\n</style>\n<table border=\"1\" class=\"dataframe\">\n  <thead>\n    <tr style=\"text-align: right;\">\n      <th></th>\n      <th>description</th>\n      <th>assay_id</th>\n      <th>variant_id</th>\n      <th>chembl_id</th>\n      <th>assay_organism</th>\n      <th>year</th>\n      <th>abstract</th>\n      <th>mutation</th>\n      <th>activity_id</th>\n      <th>pchembl_value</th>\n      <th>standard_type</th>\n      <th>activity_comment</th>\n      <th>chembl_id.1</th>\n      <th>canonical_smiles</th>\n      <th>accession</th>\n      <th>sequence</th>\n      <th>organism</th>\n    </tr>\n  </thead>\n  <tbody>\n    <tr>\n      <th>0</th>\n      <td>In vivo inhibitory activity against human Hepa...</td>\n      <td>83907</td>\n      <td>NaN</td>\n      <td>CHEMBL872937</td>\n      <td>NaN</td>\n      <td>2004.0</td>\n      <td>A novel class of 2,3-dihydro-1,3-dioxo-1H-isoi...</td>\n      <td>NaN</td>\n      <td>31864</td>\n      <td>5.60</td>\n      <td>IC50</td>\n      <td>NaN</td>\n      <td>CHEMBL324340</td>\n      <td>Cc1ccc2oc(-c3cccc(N4C(=O)c5ccc(C(=O)O)cc5C4=O)...</td>\n      <td>Q9Y251</td>\n      <td>MLLRSKPALPPPLMLLLLGPLGPLSPGALPRPAQAQDVVDLDFFTQ...</td>\n      <td>Homo sapiens</td>\n    </tr>\n    <tr>\n      <th>1</th>\n      <td>In vivo inhibitory activity against human Hepa...</td>\n      <td>83907</td>\n      <td>NaN</td>\n      <td>CHEMBL872937</td>\n      <td>NaN</td>\n      <td>2004.0</td>\n      <td>A novel class of 2,3-dihydro-1,3-dioxo-1H-isoi...</td>\n      <td>NaN</td>\n      <td>31866</td>\n      <td>5.05</td>\n      <td>IC50</td>\n      <td>NaN</td>\n      <td>CHEMBL109600</td>\n      <td>COc1ccccc1-c1ccc2oc(-c3ccc(OC)c(N4C(=O)c5ccc(C...</td>\n      <td>Q9Y251</td>\n      <td>MLLRSKPALPPPLMLLLLGPLGPLSPGALPRPAQAQDVVDLDFFTQ...</td>\n      <td>Homo sapiens</td>\n    </tr>\n    <tr>\n      <th>2</th>\n      <td>Inhibitory activity against Palmitoyl-CoA oxid...</td>\n      <td>154606</td>\n      <td>NaN</td>\n      <td>CHEMBL760688</td>\n      <td>NaN</td>\n      <td>2004.0</td>\n      <td>New inhibitors of palmitoylCoA oxidation were ...</td>\n      <td>NaN</td>\n      <td>31868</td>\n      <td>5.40</td>\n      <td>IC50</td>\n      <td>NaN</td>\n      <td>CHEMBL357278</td>\n      <td>Cc1nc2cc(OC[C@H](O)CN3CCN(CC(=O)Nc4ccc(Cl)c(C(...</td>\n      <td>P07872</td>\n      <td>MNPDLRKERASATFNPELITHILDGSPENTRRRREIENLILNDPDF...</td>\n      <td>Rattus norvegicus</td>\n    </tr>\n    <tr>\n      <th>3</th>\n      <td>Inhibitory activity against Palmitoyl-CoA oxid...</td>\n      <td>154606</td>\n      <td>NaN</td>\n      <td>CHEMBL760688</td>\n      <td>NaN</td>\n      <td>2004.0</td>\n      <td>New inhibitors of palmitoylCoA oxidation were ...</td>\n      <td>NaN</td>\n      <td>31870</td>\n      <td>4.77</td>\n      <td>IC50</td>\n      <td>NaN</td>\n      <td>CHEMBL357119</td>\n      <td>Cc1nc2cc(OC[C@H](O)CN3CCN(CC(=O)NCCc4ccccc4)CC...</td>\n      <td>P07872</td>\n      <td>MNPDLRKERASATFNPELITHILDGSPENTRRRREIENLILNDPDF...</td>\n      <td>Rattus norvegicus</td>\n    </tr>\n    <tr>\n      <th>4</th>\n      <td>Inhibitory activity against Palmitoyl-CoA oxid...</td>\n      <td>154606</td>\n      <td>NaN</td>\n      <td>CHEMBL760688</td>\n      <td>NaN</td>\n      <td>2004.0</td>\n      <td>New inhibitors of palmitoylCoA oxidation were ...</td>\n      <td>NaN</td>\n      <td>31872</td>\n      <td>6.75</td>\n      <td>IC50</td>\n      <td>NaN</td>\n      <td>CHEMBL152968</td>\n      <td>Cc1nc2cc(OC[C@H](O)CN3CCN(CC(=O)Nc4cccc(-c5ccc...</td>\n      <td>P07872</td>\n      <td>MNPDLRKERASATFNPELITHILDGSPENTRRRREIENLILNDPDF...</td>\n      <td>Rattus norvegicus</td>\n    </tr>\n    <tr>\n      <th>...</th>\n      <td>...</td>\n      <td>...</td>\n      <td>...</td>\n      <td>...</td>\n      <td>...</td>\n      <td>...</td>\n      <td>...</td>\n      <td>...</td>\n      <td>...</td>\n      <td>...</td>\n      <td>...</td>\n      <td>...</td>\n      <td>...</td>\n      <td>...</td>\n      <td>...</td>\n      <td>...</td>\n      <td>...</td>\n    </tr>\n    <tr>\n      <th>5270179</th>\n      <td>KinomeScan assay: inhibition of LATS2</td>\n      <td>2136225</td>\n      <td>NaN</td>\n      <td>CHEMBL4879778</td>\n      <td>Homo sapiens</td>\n      <td>2021.0</td>\n      <td>DiscoverX KinomeScan assays for SGC Frankfurt ...</td>\n      <td>NaN</td>\n      <td>23347581</td>\n      <td>7.26</td>\n      <td>Kd</td>\n      <td>Not Active</td>\n      <td>CHEMBL4538174</td>\n      <td>C[C@@H](NC(=O)Nc1cc2[nH]ncc2c(CO)n1)c1ccccc1</td>\n      <td>Q9NRM7</td>\n      <td>MRPKTFPATTYSGNSRQRLQEIREGLKQPSKSSVQGLPAGPNSDTS...</td>\n      <td>Homo sapiens</td>\n    </tr>\n    <tr>\n      <th>5270180</th>\n      <td>KinomeScan assay: inhibition of ROCK1</td>\n      <td>2136385</td>\n      <td>NaN</td>\n      <td>CHEMBL4879938</td>\n      <td>Homo sapiens</td>\n      <td>2021.0</td>\n      <td>DiscoverX KinomeScan assays for SGC Frankfurt ...</td>\n      <td>NaN</td>\n      <td>23347583</td>\n      <td>7.01</td>\n      <td>Kd</td>\n      <td>Not Active</td>\n      <td>CHEMBL4538174</td>\n      <td>C[C@@H](NC(=O)Nc1cc2[nH]ncc2c(CO)n1)c1ccccc1</td>\n      <td>Q13464</td>\n      <td>MSTGDSFETRFEKMDNLLRDPKSEVNSDCLLDGLDALVYDLDFPAL...</td>\n      <td>Homo sapiens</td>\n    </tr>\n    <tr>\n      <th>5270181</th>\n      <td>KinomeScan assay: inhibition of ROCK2</td>\n      <td>2136386</td>\n      <td>NaN</td>\n      <td>CHEMBL4879939</td>\n      <td>Homo sapiens</td>\n      <td>2021.0</td>\n      <td>DiscoverX KinomeScan assays for SGC Frankfurt ...</td>\n      <td>NaN</td>\n      <td>23347585</td>\n      <td>7.09</td>\n      <td>Kd</td>\n      <td>Not Active</td>\n      <td>CHEMBL4538174</td>\n      <td>C[C@@H](NC(=O)Nc1cc2[nH]ncc2c(CO)n1)c1ccccc1</td>\n      <td>O75116</td>\n      <td>MSRPPPTGKMPGAPETAPGDGAGASRQRKLEALIRDPRSPINVESL...</td>\n      <td>Homo sapiens</td>\n    </tr>\n    <tr>\n      <th>5270182</th>\n      <td>KinomeScan assay: inhibition of TGFBR2</td>\n      <td>2136430</td>\n      <td>NaN</td>\n      <td>CHEMBL4879983</td>\n      <td>Homo sapiens</td>\n      <td>2021.0</td>\n      <td>DiscoverX KinomeScan assays for SGC Frankfurt ...</td>\n      <td>NaN</td>\n      <td>23347587</td>\n      <td>7.27</td>\n      <td>Kd</td>\n      <td>Not Active</td>\n      <td>CHEMBL4538174</td>\n      <td>C[C@@H](NC(=O)Nc1cc2[nH]ncc2c(CO)n1)c1ccccc1</td>\n      <td>P37173</td>\n      <td>MGRGLLRGLWPLHIVLWTRIASTIPPHVQKSVNNDMIVTDNNGAVK...</td>\n      <td>Homo sapiens</td>\n    </tr>\n    <tr>\n      <th>5270183</th>\n      <td>KinomeScan assay: inhibition of ULK1</td>\n      <td>2136450</td>\n      <td>NaN</td>\n      <td>CHEMBL4880003</td>\n      <td>Homo sapiens</td>\n      <td>2021.0</td>\n      <td>DiscoverX KinomeScan assays for SGC Frankfurt ...</td>\n      <td>NaN</td>\n      <td>23347589</td>\n      <td>6.85</td>\n      <td>Kd</td>\n      <td>Not Active</td>\n      <td>CHEMBL4538174</td>\n      <td>C[C@@H](NC(=O)Nc1cc2[nH]ncc2c(CO)n1)c1ccccc1</td>\n      <td>O75385</td>\n      <td>MEPGRGGTETVGKFEFSRKDLIGHGAFAVVFKGRHREKHDLEVAVK...</td>\n      <td>Homo sapiens</td>\n    </tr>\n  </tbody>\n</table>\n<p>5270184 rows × 17 columns</p>\n</div>"
     },
     "execution_count": 2,
     "metadata": {},
     "output_type": "execute_result"
    }
   ],
   "source": [
    "chembl_data = obtain_chembl_data(chembl_version='31', chunksize= 100_000)\n",
    "chembl_data"
   ],
   "metadata": {
    "collapsed": false,
    "pycharm": {
     "name": "#%%\n"
    }
   }
  },
  {
   "cell_type": "code",
   "execution_count": 3,
   "outputs": [
    {
     "data": {
      "text/plain": "         assay_id                                        description  \\\n0           83907  In vivo inhibitory activity against human Hepa...   \n2          154606  Inhibitory activity against Palmitoyl-CoA oxid...   \n5           51352  Inhibition of cytochrome P450 1A2 of isolated ...   \n6           51895  Inhibition of cytochrome P450 3A4 of isolated ...   \n7           51528  Inhibition of cytochrome P450 2C9 of isolated ...   \n...           ...                                                ...   \n5270179   2136225              KinomeScan assay: inhibition of LATS2   \n5270180   2136385              KinomeScan assay: inhibition of ROCK1   \n5270181   2136386              KinomeScan assay: inhibition of ROCK2   \n5270182   2136430             KinomeScan assay: inhibition of TGFBR2   \n5270183   2136450               KinomeScan assay: inhibition of ULK1   \n\n        accession                                           sequence mutation  \n0          Q9Y251  MLLRSKPALPPPLMLLLLGPLGPLSPGALPRPAQAQDVVDLDFFTQ...      NaN  \n2          P07872  MNPDLRKERASATFNPELITHILDGSPENTRRRREIENLILNDPDF...      NaN  \n5          P05177  MALSQSVPFSATELLLASAIFCLVFWVLKGLRPRVPKGLKSPPEPW...      NaN  \n6          P08684  MALIPDLAMETWLLLAVSLVLLYLYGTHSHGLFKKLGIPGPTPLPF...      NaN  \n7          P11712  MDSLVVLVLCLSCLLLLSLWRQSSGRGKLPPGPTPLPVIGNILQIG...      NaN  \n...           ...                                                ...      ...  \n5270179    Q9NRM7  MRPKTFPATTYSGNSRQRLQEIREGLKQPSKSSVQGLPAGPNSDTS...      NaN  \n5270180    Q13464  MSTGDSFETRFEKMDNLLRDPKSEVNSDCLLDGLDALVYDLDFPAL...      NaN  \n5270181    O75116  MSRPPPTGKMPGAPETAPGDGAGASRQRKLEALIRDPRSPINVESL...      NaN  \n5270182    P37173  MGRGLLRGLWPLHIVLWTRIASTIPPHVQKSVNNDMIVTDNNGAVK...      NaN  \n5270183    O75385  MEPGRGGTETVGKFEFSRKDLIGHGAFAVVFKGRHREKHDLEVAVK...      NaN  \n\n[376233 rows x 5 columns]",
      "text/html": "<div>\n<style scoped>\n    .dataframe tbody tr th:only-of-type {\n        vertical-align: middle;\n    }\n\n    .dataframe tbody tr th {\n        vertical-align: top;\n    }\n\n    .dataframe thead th {\n        text-align: right;\n    }\n</style>\n<table border=\"1\" class=\"dataframe\">\n  <thead>\n    <tr style=\"text-align: right;\">\n      <th></th>\n      <th>assay_id</th>\n      <th>description</th>\n      <th>accession</th>\n      <th>sequence</th>\n      <th>mutation</th>\n    </tr>\n  </thead>\n  <tbody>\n    <tr>\n      <th>0</th>\n      <td>83907</td>\n      <td>In vivo inhibitory activity against human Hepa...</td>\n      <td>Q9Y251</td>\n      <td>MLLRSKPALPPPLMLLLLGPLGPLSPGALPRPAQAQDVVDLDFFTQ...</td>\n      <td>NaN</td>\n    </tr>\n    <tr>\n      <th>2</th>\n      <td>154606</td>\n      <td>Inhibitory activity against Palmitoyl-CoA oxid...</td>\n      <td>P07872</td>\n      <td>MNPDLRKERASATFNPELITHILDGSPENTRRRREIENLILNDPDF...</td>\n      <td>NaN</td>\n    </tr>\n    <tr>\n      <th>5</th>\n      <td>51352</td>\n      <td>Inhibition of cytochrome P450 1A2 of isolated ...</td>\n      <td>P05177</td>\n      <td>MALSQSVPFSATELLLASAIFCLVFWVLKGLRPRVPKGLKSPPEPW...</td>\n      <td>NaN</td>\n    </tr>\n    <tr>\n      <th>6</th>\n      <td>51895</td>\n      <td>Inhibition of cytochrome P450 3A4 of isolated ...</td>\n      <td>P08684</td>\n      <td>MALIPDLAMETWLLLAVSLVLLYLYGTHSHGLFKKLGIPGPTPLPF...</td>\n      <td>NaN</td>\n    </tr>\n    <tr>\n      <th>7</th>\n      <td>51528</td>\n      <td>Inhibition of cytochrome P450 2C9 of isolated ...</td>\n      <td>P11712</td>\n      <td>MDSLVVLVLCLSCLLLLSLWRQSSGRGKLPPGPTPLPVIGNILQIG...</td>\n      <td>NaN</td>\n    </tr>\n    <tr>\n      <th>...</th>\n      <td>...</td>\n      <td>...</td>\n      <td>...</td>\n      <td>...</td>\n      <td>...</td>\n    </tr>\n    <tr>\n      <th>5270179</th>\n      <td>2136225</td>\n      <td>KinomeScan assay: inhibition of LATS2</td>\n      <td>Q9NRM7</td>\n      <td>MRPKTFPATTYSGNSRQRLQEIREGLKQPSKSSVQGLPAGPNSDTS...</td>\n      <td>NaN</td>\n    </tr>\n    <tr>\n      <th>5270180</th>\n      <td>2136385</td>\n      <td>KinomeScan assay: inhibition of ROCK1</td>\n      <td>Q13464</td>\n      <td>MSTGDSFETRFEKMDNLLRDPKSEVNSDCLLDGLDALVYDLDFPAL...</td>\n      <td>NaN</td>\n    </tr>\n    <tr>\n      <th>5270181</th>\n      <td>2136386</td>\n      <td>KinomeScan assay: inhibition of ROCK2</td>\n      <td>O75116</td>\n      <td>MSRPPPTGKMPGAPETAPGDGAGASRQRKLEALIRDPRSPINVESL...</td>\n      <td>NaN</td>\n    </tr>\n    <tr>\n      <th>5270182</th>\n      <td>2136430</td>\n      <td>KinomeScan assay: inhibition of TGFBR2</td>\n      <td>P37173</td>\n      <td>MGRGLLRGLWPLHIVLWTRIASTIPPHVQKSVNNDMIVTDNNGAVK...</td>\n      <td>NaN</td>\n    </tr>\n    <tr>\n      <th>5270183</th>\n      <td>2136450</td>\n      <td>KinomeScan assay: inhibition of ULK1</td>\n      <td>O75385</td>\n      <td>MEPGRGGTETVGKFEFSRKDLIGHGAFAVVFKGRHREKHDLEVAVK...</td>\n      <td>NaN</td>\n    </tr>\n  </tbody>\n</table>\n<p>376233 rows × 5 columns</p>\n</div>"
     },
     "execution_count": 3,
     "metadata": {},
     "output_type": "execute_result"
    }
   ],
   "source": [
    "chembl_assays = filter_assay_data(chembl_data)\n",
    "chembl_assays"
   ],
   "metadata": {
    "collapsed": false,
    "pycharm": {
     "name": "#%%\n"
    }
   }
  },
  {
   "cell_type": "code",
   "execution_count": 4,
   "outputs": [
    {
     "data": {
      "text/plain": "         assay_id                                        description  \\\n0           83907  In vivo inhibitory activity against human Hepa...   \n2          154606  Inhibitory activity against Palmitoyl-CoA oxid...   \n5           51352  Inhibition of cytochrome P450 1A2 of isolated ...   \n6           51895  Inhibition of cytochrome P450 3A4 of isolated ...   \n7           51528  Inhibition of cytochrome P450 2C9 of isolated ...   \n...           ...                                                ...   \n5270179   2136225              KinomeScan assay: inhibition of LATS2   \n5270180   2136385              KinomeScan assay: inhibition of ROCK1   \n5270181   2136386              KinomeScan assay: inhibition of ROCK2   \n5270182   2136430             KinomeScan assay: inhibition of TGFBR2   \n5270183   2136450               KinomeScan assay: inhibition of ULK1   \n\n        accession                                           sequence mutation  \\\n0          Q9Y251  MLLRSKPALPPPLMLLLLGPLGPLSPGALPRPAQAQDVVDLDFFTQ...      NaN   \n2          P07872  MNPDLRKERASATFNPELITHILDGSPENTRRRREIENLILNDPDF...      NaN   \n5          P05177  MALSQSVPFSATELLLASAIFCLVFWVLKGLRPRVPKGLKSPPEPW...      NaN   \n6          P08684  MALIPDLAMETWLLLAVSLVLLYLYGTHSHGLFKKLGIPGPTPLPF...      NaN   \n7          P11712  MDSLVVLVLCLSCLLLLSLWRQSSGRGKLPPGPTPLPVIGNILQIG...      NaN   \n...           ...                                                ...      ...   \n5270179    Q9NRM7  MRPKTFPATTYSGNSRQRLQEIREGLKQPSKSSVQGLPAGPNSDTS...      NaN   \n5270180    Q13464  MSTGDSFETRFEKMDNLLRDPKSEVNSDCLLDGLDALVYDLDFPAL...      NaN   \n5270181    O75116  MSRPPPTGKMPGAPETAPGDGAGASRQRKLEALIRDPRSPINVESL...      NaN   \n5270182    P37173  MGRGLLRGLWPLHIVLWTRIASTIPPHVQKSVNNDMIVTDNNGAVK...      NaN   \n5270183    O75385  MEPGRGGTETVGKFEFSRKDLIGHGAFAVVFKGRHREKHDLEVAVK...      NaN   \n\n        aa_change  \n0              []  \n2              []  \n5              []  \n6              []  \n7              []  \n...           ...  \n5270179        []  \n5270180        []  \n5270181        []  \n5270182        []  \n5270183        []  \n\n[376233 rows x 6 columns]",
      "text/html": "<div>\n<style scoped>\n    .dataframe tbody tr th:only-of-type {\n        vertical-align: middle;\n    }\n\n    .dataframe tbody tr th {\n        vertical-align: top;\n    }\n\n    .dataframe thead th {\n        text-align: right;\n    }\n</style>\n<table border=\"1\" class=\"dataframe\">\n  <thead>\n    <tr style=\"text-align: right;\">\n      <th></th>\n      <th>assay_id</th>\n      <th>description</th>\n      <th>accession</th>\n      <th>sequence</th>\n      <th>mutation</th>\n      <th>aa_change</th>\n    </tr>\n  </thead>\n  <tbody>\n    <tr>\n      <th>0</th>\n      <td>83907</td>\n      <td>In vivo inhibitory activity against human Hepa...</td>\n      <td>Q9Y251</td>\n      <td>MLLRSKPALPPPLMLLLLGPLGPLSPGALPRPAQAQDVVDLDFFTQ...</td>\n      <td>NaN</td>\n      <td>[]</td>\n    </tr>\n    <tr>\n      <th>2</th>\n      <td>154606</td>\n      <td>Inhibitory activity against Palmitoyl-CoA oxid...</td>\n      <td>P07872</td>\n      <td>MNPDLRKERASATFNPELITHILDGSPENTRRRREIENLILNDPDF...</td>\n      <td>NaN</td>\n      <td>[]</td>\n    </tr>\n    <tr>\n      <th>5</th>\n      <td>51352</td>\n      <td>Inhibition of cytochrome P450 1A2 of isolated ...</td>\n      <td>P05177</td>\n      <td>MALSQSVPFSATELLLASAIFCLVFWVLKGLRPRVPKGLKSPPEPW...</td>\n      <td>NaN</td>\n      <td>[]</td>\n    </tr>\n    <tr>\n      <th>6</th>\n      <td>51895</td>\n      <td>Inhibition of cytochrome P450 3A4 of isolated ...</td>\n      <td>P08684</td>\n      <td>MALIPDLAMETWLLLAVSLVLLYLYGTHSHGLFKKLGIPGPTPLPF...</td>\n      <td>NaN</td>\n      <td>[]</td>\n    </tr>\n    <tr>\n      <th>7</th>\n      <td>51528</td>\n      <td>Inhibition of cytochrome P450 2C9 of isolated ...</td>\n      <td>P11712</td>\n      <td>MDSLVVLVLCLSCLLLLSLWRQSSGRGKLPPGPTPLPVIGNILQIG...</td>\n      <td>NaN</td>\n      <td>[]</td>\n    </tr>\n    <tr>\n      <th>...</th>\n      <td>...</td>\n      <td>...</td>\n      <td>...</td>\n      <td>...</td>\n      <td>...</td>\n      <td>...</td>\n    </tr>\n    <tr>\n      <th>5270179</th>\n      <td>2136225</td>\n      <td>KinomeScan assay: inhibition of LATS2</td>\n      <td>Q9NRM7</td>\n      <td>MRPKTFPATTYSGNSRQRLQEIREGLKQPSKSSVQGLPAGPNSDTS...</td>\n      <td>NaN</td>\n      <td>[]</td>\n    </tr>\n    <tr>\n      <th>5270180</th>\n      <td>2136385</td>\n      <td>KinomeScan assay: inhibition of ROCK1</td>\n      <td>Q13464</td>\n      <td>MSTGDSFETRFEKMDNLLRDPKSEVNSDCLLDGLDALVYDLDFPAL...</td>\n      <td>NaN</td>\n      <td>[]</td>\n    </tr>\n    <tr>\n      <th>5270181</th>\n      <td>2136386</td>\n      <td>KinomeScan assay: inhibition of ROCK2</td>\n      <td>O75116</td>\n      <td>MSRPPPTGKMPGAPETAPGDGAGASRQRKLEALIRDPRSPINVESL...</td>\n      <td>NaN</td>\n      <td>[]</td>\n    </tr>\n    <tr>\n      <th>5270182</th>\n      <td>2136430</td>\n      <td>KinomeScan assay: inhibition of TGFBR2</td>\n      <td>P37173</td>\n      <td>MGRGLLRGLWPLHIVLWTRIASTIPPHVQKSVNNDMIVTDNNGAVK...</td>\n      <td>NaN</td>\n      <td>[]</td>\n    </tr>\n    <tr>\n      <th>5270183</th>\n      <td>2136450</td>\n      <td>KinomeScan assay: inhibition of ULK1</td>\n      <td>O75385</td>\n      <td>MEPGRGGTETVGKFEFSRKDLIGHGAFAVVFKGRHREKHDLEVAVK...</td>\n      <td>NaN</td>\n      <td>[]</td>\n    </tr>\n  </tbody>\n</table>\n<p>376233 rows × 6 columns</p>\n</div>"
     },
     "execution_count": 4,
     "metadata": {},
     "output_type": "execute_result"
    }
   ],
   "source": [
    "chembl_assays_extracted = extract_aa_change(chembl_assays)\n",
    "chembl_assays_extracted"
   ],
   "metadata": {
    "collapsed": false,
    "pycharm": {
     "name": "#%%\n"
    }
   }
  },
  {
   "cell_type": "code",
   "execution_count": 5,
   "outputs": [
    {
     "data": {
      "text/plain": "        assay_id                                        description accession  \\\n84         59914  Binding affinity to cloned human Dopamine rece...    P14416   \n174       106820  Agonist activity at human melanocortin recepto...    P32245   \n175       106816  Agonistic activity against human melanocortin ...    Q01726   \n176       106815  Agonist activity at human melanocortin recepto...    Q01726   \n312         2560  Ability to stimulate phosphoinositide hydrolys...    P14842   \n...          ...                                                ...       ...   \n376205   2135964  Inhibition of human PI3K p110beta/p85alpha by ...    P42338   \n376206   2135965  Inhibition of human PI3K p110delta/p85alpha by...    P27986   \n376207   2135965  Inhibition of human PI3K p110delta/p85alpha by...    O00329   \n376208   2135966        Inhibition of human PI3Kgamma by HTRF assay    P48736   \n376215   2135993              Inhibition of CYP2C9 (unknown origin)    P11712   \n\n                                                 sequence mutation aa_change  \\\n84      MDPLNLSWYDDDLERQNWSRPFNGSDGKADRPHYNYYATLLTLLIA...      NaN     [A9L]   \n174     MVNSTHRGMHTSLHLWNRSSYRLHSNASESLGKGYSDGGCYEQLFV...      NaN     [C4R]   \n175     MAVQGSQRRLLGSLNSTPTAIPQLGLAANQTGARCLEVSISDGLFL...      NaN     [C1R]   \n176     MAVQGSQRRLLGSLNSTPTAIPQLGLAANQTGARCLEVSISDGLFL...      NaN     [C1R]   \n312     MEILCEDNISLSSIPNSLMQLGDGPRLYHNDFNSRDANTSEASNWT...      NaN     [H3T]   \n...                                                   ...      ...       ...   \n376205  MCFSFIMPPAMADILDIWAVDSQIASDGSIPVDFLLPTGIYIQLEV...      NaN     [I3K]   \n376206  MSAEGYQYRALYDYKKEREEDIDLHLGDILTVNKGSLVALGFSDGQ...      NaN     [I3K]   \n376207  MPPGVDCPMEFWTKEENQSVVVDFLLPTGVYLNFPVSRNANLSTIK...      NaN     [I3K]   \n376208  MELENYKQPVVLREDNCRRRRRMKPRSAAASLSSMELIPIEFVLPT...      NaN     [I3K]   \n376215  MDSLVVLVLCLSCLLLLSLWRQSSGRGKLPPGPTPLPVIGNILQIG...      NaN     [P2C]   \n\n       exception_flags    exception_reasons  \n84              [True]    [assay_cell_type]  \n174             [True]  [component_synonym]  \n175             [True]  [component_synonym]  \n176             [True]  [component_synonym]  \n312             [True]          [cell_name]  \n...                ...                  ...  \n376205          [True]          [pref_name]  \n376206          [True]  [component_synonym]  \n376207          [True]  [component_synonym]  \n376208          [True]  [component_synonym]  \n376215          [True]  [component_synonym]  \n\n[52922 rows x 8 columns]",
      "text/html": "<div>\n<style scoped>\n    .dataframe tbody tr th:only-of-type {\n        vertical-align: middle;\n    }\n\n    .dataframe tbody tr th {\n        vertical-align: top;\n    }\n\n    .dataframe thead th {\n        text-align: right;\n    }\n</style>\n<table border=\"1\" class=\"dataframe\">\n  <thead>\n    <tr style=\"text-align: right;\">\n      <th></th>\n      <th>assay_id</th>\n      <th>description</th>\n      <th>accession</th>\n      <th>sequence</th>\n      <th>mutation</th>\n      <th>aa_change</th>\n      <th>exception_flags</th>\n      <th>exception_reasons</th>\n    </tr>\n  </thead>\n  <tbody>\n    <tr>\n      <th>84</th>\n      <td>59914</td>\n      <td>Binding affinity to cloned human Dopamine rece...</td>\n      <td>P14416</td>\n      <td>MDPLNLSWYDDDLERQNWSRPFNGSDGKADRPHYNYYATLLTLLIA...</td>\n      <td>NaN</td>\n      <td>[A9L]</td>\n      <td>[True]</td>\n      <td>[assay_cell_type]</td>\n    </tr>\n    <tr>\n      <th>174</th>\n      <td>106820</td>\n      <td>Agonist activity at human melanocortin recepto...</td>\n      <td>P32245</td>\n      <td>MVNSTHRGMHTSLHLWNRSSYRLHSNASESLGKGYSDGGCYEQLFV...</td>\n      <td>NaN</td>\n      <td>[C4R]</td>\n      <td>[True]</td>\n      <td>[component_synonym]</td>\n    </tr>\n    <tr>\n      <th>175</th>\n      <td>106816</td>\n      <td>Agonistic activity against human melanocortin ...</td>\n      <td>Q01726</td>\n      <td>MAVQGSQRRLLGSLNSTPTAIPQLGLAANQTGARCLEVSISDGLFL...</td>\n      <td>NaN</td>\n      <td>[C1R]</td>\n      <td>[True]</td>\n      <td>[component_synonym]</td>\n    </tr>\n    <tr>\n      <th>176</th>\n      <td>106815</td>\n      <td>Agonist activity at human melanocortin recepto...</td>\n      <td>Q01726</td>\n      <td>MAVQGSQRRLLGSLNSTPTAIPQLGLAANQTGARCLEVSISDGLFL...</td>\n      <td>NaN</td>\n      <td>[C1R]</td>\n      <td>[True]</td>\n      <td>[component_synonym]</td>\n    </tr>\n    <tr>\n      <th>312</th>\n      <td>2560</td>\n      <td>Ability to stimulate phosphoinositide hydrolys...</td>\n      <td>P14842</td>\n      <td>MEILCEDNISLSSIPNSLMQLGDGPRLYHNDFNSRDANTSEASNWT...</td>\n      <td>NaN</td>\n      <td>[H3T]</td>\n      <td>[True]</td>\n      <td>[cell_name]</td>\n    </tr>\n    <tr>\n      <th>...</th>\n      <td>...</td>\n      <td>...</td>\n      <td>...</td>\n      <td>...</td>\n      <td>...</td>\n      <td>...</td>\n      <td>...</td>\n      <td>...</td>\n    </tr>\n    <tr>\n      <th>376205</th>\n      <td>2135964</td>\n      <td>Inhibition of human PI3K p110beta/p85alpha by ...</td>\n      <td>P42338</td>\n      <td>MCFSFIMPPAMADILDIWAVDSQIASDGSIPVDFLLPTGIYIQLEV...</td>\n      <td>NaN</td>\n      <td>[I3K]</td>\n      <td>[True]</td>\n      <td>[pref_name]</td>\n    </tr>\n    <tr>\n      <th>376206</th>\n      <td>2135965</td>\n      <td>Inhibition of human PI3K p110delta/p85alpha by...</td>\n      <td>P27986</td>\n      <td>MSAEGYQYRALYDYKKEREEDIDLHLGDILTVNKGSLVALGFSDGQ...</td>\n      <td>NaN</td>\n      <td>[I3K]</td>\n      <td>[True]</td>\n      <td>[component_synonym]</td>\n    </tr>\n    <tr>\n      <th>376207</th>\n      <td>2135965</td>\n      <td>Inhibition of human PI3K p110delta/p85alpha by...</td>\n      <td>O00329</td>\n      <td>MPPGVDCPMEFWTKEENQSVVVDFLLPTGVYLNFPVSRNANLSTIK...</td>\n      <td>NaN</td>\n      <td>[I3K]</td>\n      <td>[True]</td>\n      <td>[component_synonym]</td>\n    </tr>\n    <tr>\n      <th>376208</th>\n      <td>2135966</td>\n      <td>Inhibition of human PI3Kgamma by HTRF assay</td>\n      <td>P48736</td>\n      <td>MELENYKQPVVLREDNCRRRRRMKPRSAAASLSSMELIPIEFVLPT...</td>\n      <td>NaN</td>\n      <td>[I3K]</td>\n      <td>[True]</td>\n      <td>[component_synonym]</td>\n    </tr>\n    <tr>\n      <th>376215</th>\n      <td>2135993</td>\n      <td>Inhibition of CYP2C9 (unknown origin)</td>\n      <td>P11712</td>\n      <td>MDSLVVLVLCLSCLLLLSLWRQSSGRGKLPPGPTPLPVIGNILQIG...</td>\n      <td>NaN</td>\n      <td>[P2C]</td>\n      <td>[True]</td>\n      <td>[component_synonym]</td>\n    </tr>\n  </tbody>\n</table>\n<p>52922 rows × 8 columns</p>\n</div>"
     },
     "execution_count": 5,
     "metadata": {},
     "output_type": "execute_result"
    }
   ],
   "source": [
    "# Visualize exceptions defined by matches with cell lines, targets and genes\n",
    "# This step is included in validate_aa_change()\n",
    "exceptions = define_aa_change_exceptions(chembl_assays_extracted, chembl_version='31')\n",
    "print_exceptions =  exceptions[exceptions.apply(lambda x: len(x['exception_reasons']) > 0, axis=1)]\n",
    "print_exceptions"
   ],
   "metadata": {
    "collapsed": false,
    "pycharm": {
     "name": "#%%\n"
    }
   }
  },
  {
   "cell_type": "code",
   "execution_count": 6,
   "outputs": [
    {
     "data": {
      "text/plain": "        assay_id                                        description accession  \\\n329       231739                  Selectivity ratio of hA2A to hA2B    P29275   \n330       231739                  Selectivity ratio of hA2A to hA2B    P29274   \n394       147717  Evaluated for agonist activity against phospho...    P49652   \n395       147736  Agonist activity against phospholipase C coupl...    Q96G91   \n396       147742  Antagonist activity against phospholipase C co...    Q9EPX4   \n...          ...                                                ...       ...   \n375993   2135261  Inhibition of N-terminal His6-tagged KDM4E (1 ...    B2RXH2   \n375994   2135262  Inhibition of N-terminal His6-tagged KDM4E (1 ...    B2RXH2   \n375995   2135263  Inhibition of N-terminal His6-tagged KDM4E (1 ...    B2RXH2   \n375996   2135264  Inhibition of N-terminal His6-tagged KDM4E (1 ...    B2RXH2   \n375997   2135265  Inhibition of N-terminal His6-tagged KDM4E (1 ...    B2RXH2   \n\n                                                 sequence mutation  \\\n329     MLLETQDALYVALELVIAALSVAGNVLVCAAVGTANTLQTPTNYFL...      NaN   \n330     MPIMGSSVYITVELAIAVLAILGNVLVCWAVWLNSNLQNVTNYFVV...      NaN   \n394     MTEALISAALNGTQPELLAGGWAAGNASTKCSLTKTGFQFYYLPTV...      NaN   \n395     MAANVSGAKSCPANFLAAADDKLSGFQGDFLWPILVVEFLVAVASN...      NaN   \n396     MEVPGANATSANTTSIPGTSTLCSRDYKITQVLFPLLYTVLFFAGL...      NaN   \n...                                                   ...      ...   \n375993  MKSVHSSPQNTSHTIMTFYPTMEEFADFNTYVAYMESQGAHQAGLA...      NaN   \n375994  MKSVHSSPQNTSHTIMTFYPTMEEFADFNTYVAYMESQGAHQAGLA...      NaN   \n375995  MKSVHSSPQNTSHTIMTFYPTMEEFADFNTYVAYMESQGAHQAGLA...      NaN   \n375996  MKSVHSSPQNTSHTIMTFYPTMEEFADFNTYVAYMESQGAHQAGLA...      NaN   \n375997  MKSVHSSPQNTSHTIMTFYPTMEEFADFNTYVAYMESQGAHQAGLA...      NaN   \n\n         aa_change exception_flags                       exception_reasons  \n329     [A2A, A2B]    [True, True]  [component_synonym, component_synonym]  \n330     [A2A, A2B]    [True, True]  [component_synonym, component_synonym]  \n394     [P2Y, P2Y]    [True, True]                  [pref_name, pref_name]  \n395     [P2Y, P2Y]    [True, True]                  [pref_name, pref_name]  \n396     [P2Y, P2Y]    [True, True]                  [pref_name, pref_name]  \n...            ...             ...                                     ...  \n375993  [M4E, H3K]   [True, False]               [component_synonym, None]  \n375994  [M4E, H3K]   [True, False]               [component_synonym, None]  \n375995  [M4E, H3K]   [True, False]               [component_synonym, None]  \n375996  [M4E, H3K]   [True, False]               [component_synonym, None]  \n375997  [M4E, H3K]   [True, False]               [component_synonym, None]  \n\n[3178 rows x 8 columns]",
      "text/html": "<div>\n<style scoped>\n    .dataframe tbody tr th:only-of-type {\n        vertical-align: middle;\n    }\n\n    .dataframe tbody tr th {\n        vertical-align: top;\n    }\n\n    .dataframe thead th {\n        text-align: right;\n    }\n</style>\n<table border=\"1\" class=\"dataframe\">\n  <thead>\n    <tr style=\"text-align: right;\">\n      <th></th>\n      <th>assay_id</th>\n      <th>description</th>\n      <th>accession</th>\n      <th>sequence</th>\n      <th>mutation</th>\n      <th>aa_change</th>\n      <th>exception_flags</th>\n      <th>exception_reasons</th>\n    </tr>\n  </thead>\n  <tbody>\n    <tr>\n      <th>329</th>\n      <td>231739</td>\n      <td>Selectivity ratio of hA2A to hA2B</td>\n      <td>P29275</td>\n      <td>MLLETQDALYVALELVIAALSVAGNVLVCAAVGTANTLQTPTNYFL...</td>\n      <td>NaN</td>\n      <td>[A2A, A2B]</td>\n      <td>[True, True]</td>\n      <td>[component_synonym, component_synonym]</td>\n    </tr>\n    <tr>\n      <th>330</th>\n      <td>231739</td>\n      <td>Selectivity ratio of hA2A to hA2B</td>\n      <td>P29274</td>\n      <td>MPIMGSSVYITVELAIAVLAILGNVLVCWAVWLNSNLQNVTNYFVV...</td>\n      <td>NaN</td>\n      <td>[A2A, A2B]</td>\n      <td>[True, True]</td>\n      <td>[component_synonym, component_synonym]</td>\n    </tr>\n    <tr>\n      <th>394</th>\n      <td>147717</td>\n      <td>Evaluated for agonist activity against phospho...</td>\n      <td>P49652</td>\n      <td>MTEALISAALNGTQPELLAGGWAAGNASTKCSLTKTGFQFYYLPTV...</td>\n      <td>NaN</td>\n      <td>[P2Y, P2Y]</td>\n      <td>[True, True]</td>\n      <td>[pref_name, pref_name]</td>\n    </tr>\n    <tr>\n      <th>395</th>\n      <td>147736</td>\n      <td>Agonist activity against phospholipase C coupl...</td>\n      <td>Q96G91</td>\n      <td>MAANVSGAKSCPANFLAAADDKLSGFQGDFLWPILVVEFLVAVASN...</td>\n      <td>NaN</td>\n      <td>[P2Y, P2Y]</td>\n      <td>[True, True]</td>\n      <td>[pref_name, pref_name]</td>\n    </tr>\n    <tr>\n      <th>396</th>\n      <td>147742</td>\n      <td>Antagonist activity against phospholipase C co...</td>\n      <td>Q9EPX4</td>\n      <td>MEVPGANATSANTTSIPGTSTLCSRDYKITQVLFPLLYTVLFFAGL...</td>\n      <td>NaN</td>\n      <td>[P2Y, P2Y]</td>\n      <td>[True, True]</td>\n      <td>[pref_name, pref_name]</td>\n    </tr>\n    <tr>\n      <th>...</th>\n      <td>...</td>\n      <td>...</td>\n      <td>...</td>\n      <td>...</td>\n      <td>...</td>\n      <td>...</td>\n      <td>...</td>\n      <td>...</td>\n    </tr>\n    <tr>\n      <th>375993</th>\n      <td>2135261</td>\n      <td>Inhibition of N-terminal His6-tagged KDM4E (1 ...</td>\n      <td>B2RXH2</td>\n      <td>MKSVHSSPQNTSHTIMTFYPTMEEFADFNTYVAYMESQGAHQAGLA...</td>\n      <td>NaN</td>\n      <td>[M4E, H3K]</td>\n      <td>[True, False]</td>\n      <td>[component_synonym, None]</td>\n    </tr>\n    <tr>\n      <th>375994</th>\n      <td>2135262</td>\n      <td>Inhibition of N-terminal His6-tagged KDM4E (1 ...</td>\n      <td>B2RXH2</td>\n      <td>MKSVHSSPQNTSHTIMTFYPTMEEFADFNTYVAYMESQGAHQAGLA...</td>\n      <td>NaN</td>\n      <td>[M4E, H3K]</td>\n      <td>[True, False]</td>\n      <td>[component_synonym, None]</td>\n    </tr>\n    <tr>\n      <th>375995</th>\n      <td>2135263</td>\n      <td>Inhibition of N-terminal His6-tagged KDM4E (1 ...</td>\n      <td>B2RXH2</td>\n      <td>MKSVHSSPQNTSHTIMTFYPTMEEFADFNTYVAYMESQGAHQAGLA...</td>\n      <td>NaN</td>\n      <td>[M4E, H3K]</td>\n      <td>[True, False]</td>\n      <td>[component_synonym, None]</td>\n    </tr>\n    <tr>\n      <th>375996</th>\n      <td>2135264</td>\n      <td>Inhibition of N-terminal His6-tagged KDM4E (1 ...</td>\n      <td>B2RXH2</td>\n      <td>MKSVHSSPQNTSHTIMTFYPTMEEFADFNTYVAYMESQGAHQAGLA...</td>\n      <td>NaN</td>\n      <td>[M4E, H3K]</td>\n      <td>[True, False]</td>\n      <td>[component_synonym, None]</td>\n    </tr>\n    <tr>\n      <th>375997</th>\n      <td>2135265</td>\n      <td>Inhibition of N-terminal His6-tagged KDM4E (1 ...</td>\n      <td>B2RXH2</td>\n      <td>MKSVHSSPQNTSHTIMTFYPTMEEFADFNTYVAYMESQGAHQAGLA...</td>\n      <td>NaN</td>\n      <td>[M4E, H3K]</td>\n      <td>[True, False]</td>\n      <td>[component_synonym, None]</td>\n    </tr>\n  </tbody>\n</table>\n<p>3178 rows × 8 columns</p>\n</div>"
     },
     "execution_count": 6,
     "metadata": {},
     "output_type": "execute_result"
    }
   ],
   "source": [
    "# Extract assay for figure 1\n",
    "exceptions[exceptions.apply(lambda x: len(x['exception_reasons']) == 2, axis=1) & exceptions[\"mutation\"].isnull()]"
   ],
   "metadata": {
    "collapsed": false,
    "pycharm": {
     "name": "#%%\n"
    }
   }
  },
  {
   "cell_type": "code",
   "execution_count": 7,
   "outputs": [],
   "source": [
    "fig1_assay_id = 306767"
   ],
   "metadata": {
    "collapsed": false,
    "pycharm": {
     "name": "#%%\n"
    }
   }
  },
  {
   "cell_type": "code",
   "execution_count": 8,
   "outputs": [
    {
     "name": "stdout",
     "output_type": "stream",
     "text": [
      "Inhibition concentration required against human Y306F mutant strain P2Y1 receptor expressed in COS-7 cells is determined using [3H]MRS2279 as radioligand\n"
     ]
    },
    {
     "data": {
      "text/plain": "       assay_id                                        description accession  \\\n90500    306767  Inhibition concentration required against huma...    P47900   \n\n                                                sequence mutation  \\\n90500  MTEVLWPAVPNGTDAAFLAGPGSSWGNSTVASTAAVSSSFKCALTK...      NaN   \n\n          aa_change exception_flags  exception_reasons  \n90500  [Y306F, P2Y]   [False, True]  [None, pref_name]  ",
      "text/html": "<div>\n<style scoped>\n    .dataframe tbody tr th:only-of-type {\n        vertical-align: middle;\n    }\n\n    .dataframe tbody tr th {\n        vertical-align: top;\n    }\n\n    .dataframe thead th {\n        text-align: right;\n    }\n</style>\n<table border=\"1\" class=\"dataframe\">\n  <thead>\n    <tr style=\"text-align: right;\">\n      <th></th>\n      <th>assay_id</th>\n      <th>description</th>\n      <th>accession</th>\n      <th>sequence</th>\n      <th>mutation</th>\n      <th>aa_change</th>\n      <th>exception_flags</th>\n      <th>exception_reasons</th>\n    </tr>\n  </thead>\n  <tbody>\n    <tr>\n      <th>90500</th>\n      <td>306767</td>\n      <td>Inhibition concentration required against huma...</td>\n      <td>P47900</td>\n      <td>MTEVLWPAVPNGTDAAFLAGPGSSWGNSTVASTAAVSSSFKCALTK...</td>\n      <td>NaN</td>\n      <td>[Y306F, P2Y]</td>\n      <td>[False, True]</td>\n      <td>[None, pref_name]</td>\n    </tr>\n  </tbody>\n</table>\n</div>"
     },
     "execution_count": 8,
     "metadata": {},
     "output_type": "execute_result"
    }
   ],
   "source": [
    "print(str(exceptions[exceptions[\"assay_id\"] == fig1_assay_id].description.tolist()[0]))\n",
    "exceptions[exceptions[\"assay_id\"] == fig1_assay_id]"
   ],
   "metadata": {
    "collapsed": false,
    "pycharm": {
     "name": "#%%\n"
    }
   }
  },
  {
   "cell_type": "code",
   "execution_count": 9,
   "outputs": [
    {
     "data": {
      "text/plain": "        assay_id                                        description accession  \\\n0          83907  In vivo inhibitory activity against human Hepa...    Q9Y251   \n1         154606  Inhibitory activity against Palmitoyl-CoA oxid...    P07872   \n2          51352  Inhibition of cytochrome P450 1A2 of isolated ...    P05177   \n3          51895  Inhibition of cytochrome P450 3A4 of isolated ...    P08684   \n4          51528  Inhibition of cytochrome P450 2C9 of isolated ...    P11712   \n...          ...                                                ...       ...   \n376228   2136225              KinomeScan assay: inhibition of LATS2    Q9NRM7   \n376229   2136385              KinomeScan assay: inhibition of ROCK1    Q13464   \n376230   2136386              KinomeScan assay: inhibition of ROCK2    O75116   \n376231   2136430             KinomeScan assay: inhibition of TGFBR2    P37173   \n376232   2136450               KinomeScan assay: inhibition of ULK1    O75385   \n\n                                                 sequence mutation aa_change  \\\n0       MLLRSKPALPPPLMLLLLGPLGPLSPGALPRPAQAQDVVDLDFFTQ...      NaN        []   \n1       MNPDLRKERASATFNPELITHILDGSPENTRRRREIENLILNDPDF...      NaN        []   \n2       MALSQSVPFSATELLLASAIFCLVFWVLKGLRPRVPKGLKSPPEPW...      NaN        []   \n3       MALIPDLAMETWLLLAVSLVLLYLYGTHSHGLFKKLGIPGPTPLPF...      NaN        []   \n4       MDSLVVLVLCLSCLLLLSLWRQSSGRGKLPPGPTPLPVIGNILQIG...      NaN        []   \n...                                                   ...      ...       ...   \n376228  MRPKTFPATTYSGNSRQRLQEIREGLKQPSKSSVQGLPAGPNSDTS...      NaN        []   \n376229  MSTGDSFETRFEKMDNLLRDPKSEVNSDCLLDGLDALVYDLDFPAL...      NaN        []   \n376230  MSRPPPTGKMPGAPETAPGDGAGASRQRKLEALIRDPRSPINVESL...      NaN        []   \n376231  MGRGLLRGLWPLHIVLWTRIASTIPPHVQKSVNNDMIVTDNNGAVK...      NaN        []   \n376232  MEPGRGGTETVGKFEFSRKDLIGHGAFAVVFKGRHREKHDLEVAVK...      NaN        []   \n\n       mutants  \n0           []  \n1           []  \n2           []  \n3           []  \n4           []  \n...        ...  \n376228      []  \n376229      []  \n376230      []  \n376231      []  \n376232      []  \n\n[376233 rows x 7 columns]",
      "text/html": "<div>\n<style scoped>\n    .dataframe tbody tr th:only-of-type {\n        vertical-align: middle;\n    }\n\n    .dataframe tbody tr th {\n        vertical-align: top;\n    }\n\n    .dataframe thead th {\n        text-align: right;\n    }\n</style>\n<table border=\"1\" class=\"dataframe\">\n  <thead>\n    <tr style=\"text-align: right;\">\n      <th></th>\n      <th>assay_id</th>\n      <th>description</th>\n      <th>accession</th>\n      <th>sequence</th>\n      <th>mutation</th>\n      <th>aa_change</th>\n      <th>mutants</th>\n    </tr>\n  </thead>\n  <tbody>\n    <tr>\n      <th>0</th>\n      <td>83907</td>\n      <td>In vivo inhibitory activity against human Hepa...</td>\n      <td>Q9Y251</td>\n      <td>MLLRSKPALPPPLMLLLLGPLGPLSPGALPRPAQAQDVVDLDFFTQ...</td>\n      <td>NaN</td>\n      <td>[]</td>\n      <td>[]</td>\n    </tr>\n    <tr>\n      <th>1</th>\n      <td>154606</td>\n      <td>Inhibitory activity against Palmitoyl-CoA oxid...</td>\n      <td>P07872</td>\n      <td>MNPDLRKERASATFNPELITHILDGSPENTRRRREIENLILNDPDF...</td>\n      <td>NaN</td>\n      <td>[]</td>\n      <td>[]</td>\n    </tr>\n    <tr>\n      <th>2</th>\n      <td>51352</td>\n      <td>Inhibition of cytochrome P450 1A2 of isolated ...</td>\n      <td>P05177</td>\n      <td>MALSQSVPFSATELLLASAIFCLVFWVLKGLRPRVPKGLKSPPEPW...</td>\n      <td>NaN</td>\n      <td>[]</td>\n      <td>[]</td>\n    </tr>\n    <tr>\n      <th>3</th>\n      <td>51895</td>\n      <td>Inhibition of cytochrome P450 3A4 of isolated ...</td>\n      <td>P08684</td>\n      <td>MALIPDLAMETWLLLAVSLVLLYLYGTHSHGLFKKLGIPGPTPLPF...</td>\n      <td>NaN</td>\n      <td>[]</td>\n      <td>[]</td>\n    </tr>\n    <tr>\n      <th>4</th>\n      <td>51528</td>\n      <td>Inhibition of cytochrome P450 2C9 of isolated ...</td>\n      <td>P11712</td>\n      <td>MDSLVVLVLCLSCLLLLSLWRQSSGRGKLPPGPTPLPVIGNILQIG...</td>\n      <td>NaN</td>\n      <td>[]</td>\n      <td>[]</td>\n    </tr>\n    <tr>\n      <th>...</th>\n      <td>...</td>\n      <td>...</td>\n      <td>...</td>\n      <td>...</td>\n      <td>...</td>\n      <td>...</td>\n      <td>...</td>\n    </tr>\n    <tr>\n      <th>376228</th>\n      <td>2136225</td>\n      <td>KinomeScan assay: inhibition of LATS2</td>\n      <td>Q9NRM7</td>\n      <td>MRPKTFPATTYSGNSRQRLQEIREGLKQPSKSSVQGLPAGPNSDTS...</td>\n      <td>NaN</td>\n      <td>[]</td>\n      <td>[]</td>\n    </tr>\n    <tr>\n      <th>376229</th>\n      <td>2136385</td>\n      <td>KinomeScan assay: inhibition of ROCK1</td>\n      <td>Q13464</td>\n      <td>MSTGDSFETRFEKMDNLLRDPKSEVNSDCLLDGLDALVYDLDFPAL...</td>\n      <td>NaN</td>\n      <td>[]</td>\n      <td>[]</td>\n    </tr>\n    <tr>\n      <th>376230</th>\n      <td>2136386</td>\n      <td>KinomeScan assay: inhibition of ROCK2</td>\n      <td>O75116</td>\n      <td>MSRPPPTGKMPGAPETAPGDGAGASRQRKLEALIRDPRSPINVESL...</td>\n      <td>NaN</td>\n      <td>[]</td>\n      <td>[]</td>\n    </tr>\n    <tr>\n      <th>376231</th>\n      <td>2136430</td>\n      <td>KinomeScan assay: inhibition of TGFBR2</td>\n      <td>P37173</td>\n      <td>MGRGLLRGLWPLHIVLWTRIASTIPPHVQKSVNNDMIVTDNNGAVK...</td>\n      <td>NaN</td>\n      <td>[]</td>\n      <td>[]</td>\n    </tr>\n    <tr>\n      <th>376232</th>\n      <td>2136450</td>\n      <td>KinomeScan assay: inhibition of ULK1</td>\n      <td>O75385</td>\n      <td>MEPGRGGTETVGKFEFSRKDLIGHGAFAVVFKGRHREKHDLEVAVK...</td>\n      <td>NaN</td>\n      <td>[]</td>\n      <td>[]</td>\n    </tr>\n  </tbody>\n</table>\n<p>376233 rows × 7 columns</p>\n</div>"
     },
     "execution_count": 9,
     "metadata": {},
     "output_type": "execute_result"
    }
   ],
   "source": [
    "chembl_assays_validated = validate_aa_change(chembl_assays_extracted, chembl_version='31')\n",
    "chembl_assays_validated"
   ],
   "metadata": {
    "collapsed": false,
    "pycharm": {
     "name": "#%%\n"
    }
   }
  },
  {
   "cell_type": "code",
   "execution_count": 10,
   "outputs": [
    {
     "data": {
      "text/plain": "       assay_id                                        description accession  \\\n90500    306767  Inhibition concentration required against huma...    P47900   \n\n                                                sequence mutation  \\\n90500  MTEVLWPAVPNGTDAAFLAGPGSSWGNSTVASTAAVSSSFKCALTK...      NaN   \n\n          aa_change  mutants  \n90500  [Y306F, P2Y]  [Y306F]  ",
      "text/html": "<div>\n<style scoped>\n    .dataframe tbody tr th:only-of-type {\n        vertical-align: middle;\n    }\n\n    .dataframe tbody tr th {\n        vertical-align: top;\n    }\n\n    .dataframe thead th {\n        text-align: right;\n    }\n</style>\n<table border=\"1\" class=\"dataframe\">\n  <thead>\n    <tr style=\"text-align: right;\">\n      <th></th>\n      <th>assay_id</th>\n      <th>description</th>\n      <th>accession</th>\n      <th>sequence</th>\n      <th>mutation</th>\n      <th>aa_change</th>\n      <th>mutants</th>\n    </tr>\n  </thead>\n  <tbody>\n    <tr>\n      <th>90500</th>\n      <td>306767</td>\n      <td>Inhibition concentration required against huma...</td>\n      <td>P47900</td>\n      <td>MTEVLWPAVPNGTDAAFLAGPGSSWGNSTVASTAAVSSSFKCALTK...</td>\n      <td>NaN</td>\n      <td>[Y306F, P2Y]</td>\n      <td>[Y306F]</td>\n    </tr>\n  </tbody>\n</table>\n</div>"
     },
     "execution_count": 10,
     "metadata": {},
     "output_type": "execute_result"
    }
   ],
   "source": [
    "chembl_assays_validated[chembl_assays_validated[\"assay_id\"] == fig1_assay_id]"
   ],
   "metadata": {
    "collapsed": false,
    "pycharm": {
     "name": "#%%\n"
    }
   }
  },
  {
   "cell_type": "code",
   "execution_count": 11,
   "outputs": [
    {
     "data": {
      "text/plain": "        assay_id                                        description accession  \\\n0          83907  In vivo inhibitory activity against human Hepa...    Q9Y251   \n1         154606  Inhibitory activity against Palmitoyl-CoA oxid...    P07872   \n2          51352  Inhibition of cytochrome P450 1A2 of isolated ...    P05177   \n3          51895  Inhibition of cytochrome P450 3A4 of isolated ...    P08684   \n4          51528  Inhibition of cytochrome P450 2C9 of isolated ...    P11712   \n...          ...                                                ...       ...   \n376228   2136225              KinomeScan assay: inhibition of LATS2    Q9NRM7   \n376229   2136385              KinomeScan assay: inhibition of ROCK1    Q13464   \n376230   2136386              KinomeScan assay: inhibition of ROCK2    O75116   \n376231   2136430             KinomeScan assay: inhibition of TGFBR2    P37173   \n376232   2136450               KinomeScan assay: inhibition of ULK1    O75385   \n\n                                                 sequence mutation aa_change  \\\n0       MLLRSKPALPPPLMLLLLGPLGPLSPGALPRPAQAQDVVDLDFFTQ...      NaN        []   \n1       MNPDLRKERASATFNPELITHILDGSPENTRRRREIENLILNDPDF...      NaN        []   \n2       MALSQSVPFSATELLLASAIFCLVFWVLKGLRPRVPKGLKSPPEPW...      NaN        []   \n3       MALIPDLAMETWLLLAVSLVLLYLYGTHSHGLFKKLGIPGPTPLPF...      NaN        []   \n4       MDSLVVLVLCLSCLLLLSLWRQSSGRGKLPPGPTPLPVIGNILQIG...      NaN        []   \n...                                                   ...      ...       ...   \n376228  MRPKTFPATTYSGNSRQRLQEIREGLKQPSKSSVQGLPAGPNSDTS...      NaN        []   \n376229  MSTGDSFETRFEKMDNLLRDPKSEVNSDCLLDGLDALVYDLDFPAL...      NaN        []   \n376230  MSRPPPTGKMPGAPETAPGDGAGASRQRKLEALIRDPRSPINVESL...      NaN        []   \n376231  MGRGLLRGLWPLHIVLWTRIASTIPPHVQKSVNNDMIVTDNNGAVK...      NaN        []   \n376232  MEPGRGGTETVGKFEFSRKDLIGHGAFAVVFKGRHREKHDLEVAVK...      NaN        []   \n\n       mutants  target_id Protein_Type  \n0           []  Q9Y251_WT           WT  \n1           []  P07872_WT           WT  \n2           []  P05177_WT           WT  \n3           []  P08684_WT           WT  \n4           []  P11712_WT           WT  \n...        ...        ...          ...  \n376228      []  Q9NRM7_WT           WT  \n376229      []  Q13464_WT           WT  \n376230      []  O75116_WT           WT  \n376231      []  P37173_WT           WT  \n376232      []  O75385_WT           WT  \n\n[376233 rows x 9 columns]",
      "text/html": "<div>\n<style scoped>\n    .dataframe tbody tr th:only-of-type {\n        vertical-align: middle;\n    }\n\n    .dataframe tbody tr th {\n        vertical-align: top;\n    }\n\n    .dataframe thead th {\n        text-align: right;\n    }\n</style>\n<table border=\"1\" class=\"dataframe\">\n  <thead>\n    <tr style=\"text-align: right;\">\n      <th></th>\n      <th>assay_id</th>\n      <th>description</th>\n      <th>accession</th>\n      <th>sequence</th>\n      <th>mutation</th>\n      <th>aa_change</th>\n      <th>mutants</th>\n      <th>target_id</th>\n      <th>Protein_Type</th>\n    </tr>\n  </thead>\n  <tbody>\n    <tr>\n      <th>0</th>\n      <td>83907</td>\n      <td>In vivo inhibitory activity against human Hepa...</td>\n      <td>Q9Y251</td>\n      <td>MLLRSKPALPPPLMLLLLGPLGPLSPGALPRPAQAQDVVDLDFFTQ...</td>\n      <td>NaN</td>\n      <td>[]</td>\n      <td>[]</td>\n      <td>Q9Y251_WT</td>\n      <td>WT</td>\n    </tr>\n    <tr>\n      <th>1</th>\n      <td>154606</td>\n      <td>Inhibitory activity against Palmitoyl-CoA oxid...</td>\n      <td>P07872</td>\n      <td>MNPDLRKERASATFNPELITHILDGSPENTRRRREIENLILNDPDF...</td>\n      <td>NaN</td>\n      <td>[]</td>\n      <td>[]</td>\n      <td>P07872_WT</td>\n      <td>WT</td>\n    </tr>\n    <tr>\n      <th>2</th>\n      <td>51352</td>\n      <td>Inhibition of cytochrome P450 1A2 of isolated ...</td>\n      <td>P05177</td>\n      <td>MALSQSVPFSATELLLASAIFCLVFWVLKGLRPRVPKGLKSPPEPW...</td>\n      <td>NaN</td>\n      <td>[]</td>\n      <td>[]</td>\n      <td>P05177_WT</td>\n      <td>WT</td>\n    </tr>\n    <tr>\n      <th>3</th>\n      <td>51895</td>\n      <td>Inhibition of cytochrome P450 3A4 of isolated ...</td>\n      <td>P08684</td>\n      <td>MALIPDLAMETWLLLAVSLVLLYLYGTHSHGLFKKLGIPGPTPLPF...</td>\n      <td>NaN</td>\n      <td>[]</td>\n      <td>[]</td>\n      <td>P08684_WT</td>\n      <td>WT</td>\n    </tr>\n    <tr>\n      <th>4</th>\n      <td>51528</td>\n      <td>Inhibition of cytochrome P450 2C9 of isolated ...</td>\n      <td>P11712</td>\n      <td>MDSLVVLVLCLSCLLLLSLWRQSSGRGKLPPGPTPLPVIGNILQIG...</td>\n      <td>NaN</td>\n      <td>[]</td>\n      <td>[]</td>\n      <td>P11712_WT</td>\n      <td>WT</td>\n    </tr>\n    <tr>\n      <th>...</th>\n      <td>...</td>\n      <td>...</td>\n      <td>...</td>\n      <td>...</td>\n      <td>...</td>\n      <td>...</td>\n      <td>...</td>\n      <td>...</td>\n      <td>...</td>\n    </tr>\n    <tr>\n      <th>376228</th>\n      <td>2136225</td>\n      <td>KinomeScan assay: inhibition of LATS2</td>\n      <td>Q9NRM7</td>\n      <td>MRPKTFPATTYSGNSRQRLQEIREGLKQPSKSSVQGLPAGPNSDTS...</td>\n      <td>NaN</td>\n      <td>[]</td>\n      <td>[]</td>\n      <td>Q9NRM7_WT</td>\n      <td>WT</td>\n    </tr>\n    <tr>\n      <th>376229</th>\n      <td>2136385</td>\n      <td>KinomeScan assay: inhibition of ROCK1</td>\n      <td>Q13464</td>\n      <td>MSTGDSFETRFEKMDNLLRDPKSEVNSDCLLDGLDALVYDLDFPAL...</td>\n      <td>NaN</td>\n      <td>[]</td>\n      <td>[]</td>\n      <td>Q13464_WT</td>\n      <td>WT</td>\n    </tr>\n    <tr>\n      <th>376230</th>\n      <td>2136386</td>\n      <td>KinomeScan assay: inhibition of ROCK2</td>\n      <td>O75116</td>\n      <td>MSRPPPTGKMPGAPETAPGDGAGASRQRKLEALIRDPRSPINVESL...</td>\n      <td>NaN</td>\n      <td>[]</td>\n      <td>[]</td>\n      <td>O75116_WT</td>\n      <td>WT</td>\n    </tr>\n    <tr>\n      <th>376231</th>\n      <td>2136430</td>\n      <td>KinomeScan assay: inhibition of TGFBR2</td>\n      <td>P37173</td>\n      <td>MGRGLLRGLWPLHIVLWTRIASTIPPHVQKSVNNDMIVTDNNGAVK...</td>\n      <td>NaN</td>\n      <td>[]</td>\n      <td>[]</td>\n      <td>P37173_WT</td>\n      <td>WT</td>\n    </tr>\n    <tr>\n      <th>376232</th>\n      <td>2136450</td>\n      <td>KinomeScan assay: inhibition of ULK1</td>\n      <td>O75385</td>\n      <td>MEPGRGGTETVGKFEFSRKDLIGHGAFAVVFKGRHREKHDLEVAVK...</td>\n      <td>NaN</td>\n      <td>[]</td>\n      <td>[]</td>\n      <td>O75385_WT</td>\n      <td>WT</td>\n    </tr>\n  </tbody>\n</table>\n<p>376233 rows × 9 columns</p>\n</div>"
     },
     "execution_count": 11,
     "metadata": {},
     "output_type": "execute_result"
    }
   ],
   "source": [
    "chembl_assays_annotated = create_papyrus_columns(chembl_assays_validated)\n",
    "chembl_assays_annotated"
   ],
   "metadata": {
    "collapsed": false,
    "pycharm": {
     "name": "#%%\n"
    }
   }
  },
  {
   "cell_type": "code",
   "execution_count": 12,
   "outputs": [
    {
     "data": {
      "text/plain": "            target_id      chembl_id  \\\n0       A0A024AXB9_WT  CHEMBL4334288   \n1       A0A024AXB9_WT  CHEMBL4334289   \n2       A0A024AXB9_WT  CHEMBL4334290   \n3       A0A024AXB9_WT  CHEMBL4334291   \n4       A0A024AXB9_WT  CHEMBL4338581   \n...               ...            ...   \n193773         nan_WT   CHEMBL973662   \n193774         nan_WT   CHEMBL974097   \n193775         nan_WT   CHEMBL974511   \n193776         nan_WT   CHEMBL977029   \n193777         nan_WT   CHEMBL977305   \n\n                                                 assay_id  \\\n0           [1834280, 1834280, 1834280, 1834280, 1834280]   \n1           [1834281, 1834281, 1834281, 1834281, 1834281]   \n2       [1834282, 1834282, 1834282, 1834282, 1834282, ...   \n3           [1834283, 1834283, 1834283, 1834283, 1834283]   \n4                                               [1838448]   \n...                                                   ...   \n193773   [576186, 576186, 576186, 576186, 576186, 576186]   \n193774   [576188, 576188, 576188, 576188, 576188, 576188]   \n193775   [576182, 576182, 576182, 576182, 576182, 576182]   \n193776   [576189, 576189, 576189, 576189, 576189, 576189]   \n193777                           [576183, 576183, 576183]   \n\n                                              activity_id   accession  \\\n0       [18961431, 18961432, 18961433, 18961434, 18961...  A0A024AXB9   \n1       [18961437, 18961438, 18961439, 18961440, 18961...  A0A024AXB9   \n2       [18961442, 18961443, 18961444, 18961445, 18961...  A0A024AXB9   \n3       [18961448, 18961449, 18961450, 18961451, 18961...  A0A024AXB9   \n4                                              [18977999]  A0A024AXB9   \n...                                                   ...         ...   \n193773  [2663803, 2663803, 2663803, 2663813, 2663813, ...         NaN   \n193774  [2663801, 2663801, 2663801, 2663815, 2663815, ...         NaN   \n193775  [2663799, 2663799, 2663799, 2663817, 2663817, ...         NaN   \n193776  [2663800, 2663800, 2663800, 2663816, 2663816, ...         NaN   \n193777                        [2663798, 2663798, 2663798]         NaN   \n\n                               pchembl_value                activity_comment  \\\n0               [6.1, 6.36, 5.7, 4.69, 5.46]       [nan, nan, nan, nan, nan]   \n1             [5.88, 6.21, 5.48, 4.78, 5.15]       [nan, nan, nan, nan, nan]   \n2          [7.7, 8.05, 8.1, 8.05, 8.3, 6.78]  [nan, nan, nan, nan, nan, nan]   \n3               [5.82, 6.6, 5.66, 5.34, 5.5]       [nan, nan, nan, nan, nan]   \n4                                     [5.85]                           [nan]   \n...                                      ...                             ...   \n193773  [6.77, 6.77, 6.77, 6.96, 6.96, 6.96]  [nan, nan, nan, nan, nan, nan]   \n193774  [4.06, 4.06, 4.06, 6.58, 6.58, 6.58]  [nan, nan, nan, nan, nan, nan]   \n193775  [7.96, 7.96, 7.96, 7.58, 7.58, 7.58]  [nan, nan, nan, nan, nan, nan]   \n193776  [5.72, 5.72, 5.72, 6.72, 6.72, 6.72]  [nan, nan, nan, nan, nan, nan]   \n193777                    [7.54, 7.54, 7.54]                 [nan, nan, nan]   \n\n                                         canonical_smiles mutation    year  \\\n0       CC[C@H](C)[C@@H]1NC(=O)[C@H](CC(N)=O)NC(=O)[C@...      NaN  2019.0   \n1       CC[C@H](C)[C@@H]1NC(=O)[C@H](CC(N)=O)NC(=O)[C@...      NaN  2019.0   \n2       CC[C@H](C)[C@@H]1NC(=O)[C@H](CC(N)=O)NC(=O)[C@...      NaN  2019.0   \n3       CC[C@H](C)[C@@H]1NC(=O)[C@H](CC(N)=O)NC(=O)[C@...      NaN  2019.0   \n4       O=C(Nc1nc2cc(O)c(O)cc2s1)c1ccccc1Oc1ccc2cc(O)c...      NaN  2019.0   \n...                                                   ...      ...     ...   \n193773  CC[C@H]1OC(=O)[C@H](C)[C@@H](O[C@H]2C[C@@](C)(...      NaN  2007.0   \n193774  CC[C@H]1OC(=O)[C@H](C)[C@@H](O[C@H]2C[C@@](C)(...      NaN  2007.0   \n193775  CC[C@H]1OC(=O)[C@H](C)[C@@H](O[C@H]2C[C@@](C)(...      NaN  2007.0   \n193776  CC[C@H]1OC(=O)[C@H](C)[C@@H](O[C@H]2C[C@@](C)(...      NaN  2007.0   \n193777  CC[C@H]1OC(=O)[C@H](C)[C@@H](O[C@H]2C[C@@](C)(...      NaN  2007.0   \n\n                                                 sequence  pchembl_value_Mean  \\\n0       AETDEDHAHWLEARMLLDNIYLQDGLIASLYRPEADKVAAIEGEFK...               5.662   \n1       AETDEDHAHWLEARMLLDNIYLQDGLIASLYRPEADKVAAIEGEFK...               5.500   \n2       AETDEDHAHWLEARMLLDNIYLQDGLIASLYRPEADKVAAIEGEFK...               7.830   \n3       AETDEDHAHWLEARMLLDNIYLQDGLIASLYRPEADKVAAIEGEFK...               5.784   \n4       AETDEDHAHWLEARMLLDNIYLQDGLIASLYRPEADKVAAIEGEFK...               5.850   \n...                                                   ...                 ...   \n193773  UGCCUGGCGGCCGUAGCGCGGUGGUCCCACCUGACCCCAUGCCGAA...               6.865   \n193774  UGCCUGGCGGCCGUAGCGCGGUGGUCCCACCUGACCCCAUGCCGAA...               5.320   \n193775  UGCCUGGCGGCCGUAGCGCGGUGGUCCCACCUGACCCCAUGCCGAA...               7.770   \n193776  UGCCUGGCGGCCGUAGCGCGGUGGUCCCACCUGACCCCAUGCCGAA...               6.220   \n193777  UGCCUGGCGGCCGUAGCGCGGUGGUCCCACCUGACCCCAUGCCGAA...               7.540   \n\n       Activity_class  \n0                 NaN  \n1                 NaN  \n2                 NaN  \n3                 NaN  \n4                 NaN  \n...               ...  \n193773            NaN  \n193774            NaN  \n193775            NaN  \n193776            NaN  \n193777            NaN  \n\n[193778 rows x 13 columns]",
      "text/html": "<div>\n<style scoped>\n    .dataframe tbody tr th:only-of-type {\n        vertical-align: middle;\n    }\n\n    .dataframe tbody tr th {\n        vertical-align: top;\n    }\n\n    .dataframe thead th {\n        text-align: right;\n    }\n</style>\n<table border=\"1\" class=\"dataframe\">\n  <thead>\n    <tr style=\"text-align: right;\">\n      <th></th>\n      <th>target_id</th>\n      <th>chembl_id</th>\n      <th>assay_id</th>\n      <th>activity_id</th>\n      <th>accession</th>\n      <th>pchembl_value</th>\n      <th>activity_comment</th>\n      <th>canonical_smiles</th>\n      <th>mutation</th>\n      <th>year</th>\n      <th>sequence</th>\n      <th>pchembl_value_Mean</th>\n      <th>Activity_class</th>\n    </tr>\n  </thead>\n  <tbody>\n    <tr>\n      <th>0</th>\n      <td>A0A024AXB9_WT</td>\n      <td>CHEMBL4334288</td>\n      <td>[1834280, 1834280, 1834280, 1834280, 1834280]</td>\n      <td>[18961431, 18961432, 18961433, 18961434, 18961...</td>\n      <td>A0A024AXB9</td>\n      <td>[6.1, 6.36, 5.7, 4.69, 5.46]</td>\n      <td>[nan, nan, nan, nan, nan]</td>\n      <td>CC[C@H](C)[C@@H]1NC(=O)[C@H](CC(N)=O)NC(=O)[C@...</td>\n      <td>NaN</td>\n      <td>2019.0</td>\n      <td>AETDEDHAHWLEARMLLDNIYLQDGLIASLYRPEADKVAAIEGEFK...</td>\n      <td>5.662</td>\n      <td>NaN</td>\n    </tr>\n    <tr>\n      <th>1</th>\n      <td>A0A024AXB9_WT</td>\n      <td>CHEMBL4334289</td>\n      <td>[1834281, 1834281, 1834281, 1834281, 1834281]</td>\n      <td>[18961437, 18961438, 18961439, 18961440, 18961...</td>\n      <td>A0A024AXB9</td>\n      <td>[5.88, 6.21, 5.48, 4.78, 5.15]</td>\n      <td>[nan, nan, nan, nan, nan]</td>\n      <td>CC[C@H](C)[C@@H]1NC(=O)[C@H](CC(N)=O)NC(=O)[C@...</td>\n      <td>NaN</td>\n      <td>2019.0</td>\n      <td>AETDEDHAHWLEARMLLDNIYLQDGLIASLYRPEADKVAAIEGEFK...</td>\n      <td>5.500</td>\n      <td>NaN</td>\n    </tr>\n    <tr>\n      <th>2</th>\n      <td>A0A024AXB9_WT</td>\n      <td>CHEMBL4334290</td>\n      <td>[1834282, 1834282, 1834282, 1834282, 1834282, ...</td>\n      <td>[18961442, 18961443, 18961444, 18961445, 18961...</td>\n      <td>A0A024AXB9</td>\n      <td>[7.7, 8.05, 8.1, 8.05, 8.3, 6.78]</td>\n      <td>[nan, nan, nan, nan, nan, nan]</td>\n      <td>CC[C@H](C)[C@@H]1NC(=O)[C@H](CC(N)=O)NC(=O)[C@...</td>\n      <td>NaN</td>\n      <td>2019.0</td>\n      <td>AETDEDHAHWLEARMLLDNIYLQDGLIASLYRPEADKVAAIEGEFK...</td>\n      <td>7.830</td>\n      <td>NaN</td>\n    </tr>\n    <tr>\n      <th>3</th>\n      <td>A0A024AXB9_WT</td>\n      <td>CHEMBL4334291</td>\n      <td>[1834283, 1834283, 1834283, 1834283, 1834283]</td>\n      <td>[18961448, 18961449, 18961450, 18961451, 18961...</td>\n      <td>A0A024AXB9</td>\n      <td>[5.82, 6.6, 5.66, 5.34, 5.5]</td>\n      <td>[nan, nan, nan, nan, nan]</td>\n      <td>CC[C@H](C)[C@@H]1NC(=O)[C@H](CC(N)=O)NC(=O)[C@...</td>\n      <td>NaN</td>\n      <td>2019.0</td>\n      <td>AETDEDHAHWLEARMLLDNIYLQDGLIASLYRPEADKVAAIEGEFK...</td>\n      <td>5.784</td>\n      <td>NaN</td>\n    </tr>\n    <tr>\n      <th>4</th>\n      <td>A0A024AXB9_WT</td>\n      <td>CHEMBL4338581</td>\n      <td>[1838448]</td>\n      <td>[18977999]</td>\n      <td>A0A024AXB9</td>\n      <td>[5.85]</td>\n      <td>[nan]</td>\n      <td>O=C(Nc1nc2cc(O)c(O)cc2s1)c1ccccc1Oc1ccc2cc(O)c...</td>\n      <td>NaN</td>\n      <td>2019.0</td>\n      <td>AETDEDHAHWLEARMLLDNIYLQDGLIASLYRPEADKVAAIEGEFK...</td>\n      <td>5.850</td>\n      <td>NaN</td>\n    </tr>\n    <tr>\n      <th>...</th>\n      <td>...</td>\n      <td>...</td>\n      <td>...</td>\n      <td>...</td>\n      <td>...</td>\n      <td>...</td>\n      <td>...</td>\n      <td>...</td>\n      <td>...</td>\n      <td>...</td>\n      <td>...</td>\n      <td>...</td>\n      <td>...</td>\n    </tr>\n    <tr>\n      <th>193773</th>\n      <td>nan_WT</td>\n      <td>CHEMBL973662</td>\n      <td>[576186, 576186, 576186, 576186, 576186, 576186]</td>\n      <td>[2663803, 2663803, 2663803, 2663813, 2663813, ...</td>\n      <td>NaN</td>\n      <td>[6.77, 6.77, 6.77, 6.96, 6.96, 6.96]</td>\n      <td>[nan, nan, nan, nan, nan, nan]</td>\n      <td>CC[C@H]1OC(=O)[C@H](C)[C@@H](O[C@H]2C[C@@](C)(...</td>\n      <td>NaN</td>\n      <td>2007.0</td>\n      <td>UGCCUGGCGGCCGUAGCGCGGUGGUCCCACCUGACCCCAUGCCGAA...</td>\n      <td>6.865</td>\n      <td>NaN</td>\n    </tr>\n    <tr>\n      <th>193774</th>\n      <td>nan_WT</td>\n      <td>CHEMBL974097</td>\n      <td>[576188, 576188, 576188, 576188, 576188, 576188]</td>\n      <td>[2663801, 2663801, 2663801, 2663815, 2663815, ...</td>\n      <td>NaN</td>\n      <td>[4.06, 4.06, 4.06, 6.58, 6.58, 6.58]</td>\n      <td>[nan, nan, nan, nan, nan, nan]</td>\n      <td>CC[C@H]1OC(=O)[C@H](C)[C@@H](O[C@H]2C[C@@](C)(...</td>\n      <td>NaN</td>\n      <td>2007.0</td>\n      <td>UGCCUGGCGGCCGUAGCGCGGUGGUCCCACCUGACCCCAUGCCGAA...</td>\n      <td>5.320</td>\n      <td>NaN</td>\n    </tr>\n    <tr>\n      <th>193775</th>\n      <td>nan_WT</td>\n      <td>CHEMBL974511</td>\n      <td>[576182, 576182, 576182, 576182, 576182, 576182]</td>\n      <td>[2663799, 2663799, 2663799, 2663817, 2663817, ...</td>\n      <td>NaN</td>\n      <td>[7.96, 7.96, 7.96, 7.58, 7.58, 7.58]</td>\n      <td>[nan, nan, nan, nan, nan, nan]</td>\n      <td>CC[C@H]1OC(=O)[C@H](C)[C@@H](O[C@H]2C[C@@](C)(...</td>\n      <td>NaN</td>\n      <td>2007.0</td>\n      <td>UGCCUGGCGGCCGUAGCGCGGUGGUCCCACCUGACCCCAUGCCGAA...</td>\n      <td>7.770</td>\n      <td>NaN</td>\n    </tr>\n    <tr>\n      <th>193776</th>\n      <td>nan_WT</td>\n      <td>CHEMBL977029</td>\n      <td>[576189, 576189, 576189, 576189, 576189, 576189]</td>\n      <td>[2663800, 2663800, 2663800, 2663816, 2663816, ...</td>\n      <td>NaN</td>\n      <td>[5.72, 5.72, 5.72, 6.72, 6.72, 6.72]</td>\n      <td>[nan, nan, nan, nan, nan, nan]</td>\n      <td>CC[C@H]1OC(=O)[C@H](C)[C@@H](O[C@H]2C[C@@](C)(...</td>\n      <td>NaN</td>\n      <td>2007.0</td>\n      <td>UGCCUGGCGGCCGUAGCGCGGUGGUCCCACCUGACCCCAUGCCGAA...</td>\n      <td>6.220</td>\n      <td>NaN</td>\n    </tr>\n    <tr>\n      <th>193777</th>\n      <td>nan_WT</td>\n      <td>CHEMBL977305</td>\n      <td>[576183, 576183, 576183]</td>\n      <td>[2663798, 2663798, 2663798]</td>\n      <td>NaN</td>\n      <td>[7.54, 7.54, 7.54]</td>\n      <td>[nan, nan, nan]</td>\n      <td>CC[C@H]1OC(=O)[C@H](C)[C@@H](O[C@H]2C[C@@](C)(...</td>\n      <td>NaN</td>\n      <td>2007.0</td>\n      <td>UGCCUGGCGGCCGUAGCGCGGUGGUCCCACCUGACCCCAUGCCGAA...</td>\n      <td>7.540</td>\n      <td>NaN</td>\n    </tr>\n  </tbody>\n</table>\n<p>193778 rows × 13 columns</p>\n</div>"
     },
     "execution_count": 12,
     "metadata": {},
     "output_type": "execute_result"
    }
   ],
   "source": [
    "chembl_bioactivity_dataset = map_activity_mutations(chembl_data, chembl_assays_annotated)\n",
    "chembl_bioactivity_dataset"
   ],
   "metadata": {
    "collapsed": false,
    "pycharm": {
     "name": "#%%\n"
    }
   }
  },
  {
   "cell_type": "code",
   "execution_count": 13,
   "outputs": [
    {
     "data": {
      "text/plain": "           target_id     chembl_id          assay_id         activity_id  \\\n122351  P47900_Y306F  CHEMBL829019          [304377]           [1473905]   \n122352  P47900_Y306F  CHEMBL832660  [306767, 306767]  [1473884, 1474155]   \n\n       accession pchembl_value activity_comment  \\\n122351    P47900        [7.72]            [nan]   \n122352    P47900  [6.44, 6.01]       [nan, nan]   \n\n                                         canonical_smiles mutation    year  \\\n122351  CSc1nc(N)c2ncn([C@@H]3O[C@H](COP(=O)(O)OP(=O)(...    Y306F  2004.0   \n122352  CSc1nc(N)c2ncn([C@@H]3O[C@H](COP(=O)(O)OP(=O)(...      NaN  2004.0   \n\n                                                 sequence  pchembl_value_Mean  \\\n122351  MTEVLWPAVPNGTDAAFLAGPGSSWGNSTVASTAAVSSSFKCALTK...               7.720   \n122352  MTEVLWPAVPNGTDAAFLAGPGSSWGNSTVASTAAVSSSFKCALTK...               6.225   \n\n       Activity_class  \n122351            NaN  \n122352            NaN  ",
      "text/html": "<div>\n<style scoped>\n    .dataframe tbody tr th:only-of-type {\n        vertical-align: middle;\n    }\n\n    .dataframe tbody tr th {\n        vertical-align: top;\n    }\n\n    .dataframe thead th {\n        text-align: right;\n    }\n</style>\n<table border=\"1\" class=\"dataframe\">\n  <thead>\n    <tr style=\"text-align: right;\">\n      <th></th>\n      <th>target_id</th>\n      <th>chembl_id</th>\n      <th>assay_id</th>\n      <th>activity_id</th>\n      <th>accession</th>\n      <th>pchembl_value</th>\n      <th>activity_comment</th>\n      <th>canonical_smiles</th>\n      <th>mutation</th>\n      <th>year</th>\n      <th>sequence</th>\n      <th>pchembl_value_Mean</th>\n      <th>Activity_class</th>\n    </tr>\n  </thead>\n  <tbody>\n    <tr>\n      <th>122351</th>\n      <td>P47900_Y306F</td>\n      <td>CHEMBL829019</td>\n      <td>[304377]</td>\n      <td>[1473905]</td>\n      <td>P47900</td>\n      <td>[7.72]</td>\n      <td>[nan]</td>\n      <td>CSc1nc(N)c2ncn([C@@H]3O[C@H](COP(=O)(O)OP(=O)(...</td>\n      <td>Y306F</td>\n      <td>2004.0</td>\n      <td>MTEVLWPAVPNGTDAAFLAGPGSSWGNSTVASTAAVSSSFKCALTK...</td>\n      <td>7.720</td>\n      <td>NaN</td>\n    </tr>\n    <tr>\n      <th>122352</th>\n      <td>P47900_Y306F</td>\n      <td>CHEMBL832660</td>\n      <td>[306767, 306767]</td>\n      <td>[1473884, 1474155]</td>\n      <td>P47900</td>\n      <td>[6.44, 6.01]</td>\n      <td>[nan, nan]</td>\n      <td>CSc1nc(N)c2ncn([C@@H]3O[C@H](COP(=O)(O)OP(=O)(...</td>\n      <td>NaN</td>\n      <td>2004.0</td>\n      <td>MTEVLWPAVPNGTDAAFLAGPGSSWGNSTVASTAAVSSSFKCALTK...</td>\n      <td>6.225</td>\n      <td>NaN</td>\n    </tr>\n  </tbody>\n</table>\n</div>"
     },
     "execution_count": 13,
     "metadata": {},
     "output_type": "execute_result"
    }
   ],
   "source": [
    "chembl_bioactivity_dataset[chembl_bioactivity_dataset[\"target_id\"] == \"P47900_Y306F\"]"
   ],
   "metadata": {
    "collapsed": false,
    "pycharm": {
     "name": "#%%\n"
    }
   }
  },
  {
   "cell_type": "markdown",
   "source": [
    "#### Easy statistics"
   ],
   "metadata": {
    "collapsed": false
   }
  },
  {
   "cell_type": "code",
   "execution_count": null,
   "outputs": [],
   "source": [
    "# Check for how many assay-accession pairs we have extracted and validated mutants\n",
    "chembl_mutants_extracted = chembl_assays_annotated[chembl_assays_annotated.apply(lambda x: x['Protein_Type'] != 'WT', axis=1)]\n",
    "chembl_mutants_extracted"
   ],
   "metadata": {
    "collapsed": false,
    "pycharm": {
     "name": "#%%\n"
    }
   }
  },
  {
   "cell_type": "code",
   "execution_count": null,
   "outputs": [],
   "source": [
    "# Check how many of the extracted mutants were not previously defined in ChEMBL's variant variable 'mutation'\n",
    "chembl_new_mutants_extracted1 = chembl_mutants_extracted[(chembl_mutants_extracted['mutation'].isna())]\n",
    "chembl_new_mutants_extracted1"
   ],
   "metadata": {
    "collapsed": false,
    "pycharm": {
     "name": "#%%\n"
    }
   }
  },
  {
   "cell_type": "code",
   "execution_count": null,
   "outputs": [],
   "source": [
    "# Check how many of the extracted mutants were defined as mutated by the actual mutation was not specified on ChEMBL\n",
    "chembl_new_mutants_extracted2 = chembl_mutants_extracted[chembl_mutants_extracted['mutation'] == 'UNDEFINED MUTATION']\n",
    "chembl_new_mutants_extracted2"
   ],
   "metadata": {
    "collapsed": false,
    "pycharm": {
     "name": "#%%\n"
    }
   }
  },
  {
   "cell_type": "code",
   "execution_count": null,
   "outputs": [],
   "source": [
    "# Check number of assays per target if target is defined as 'accession' AND 'Protein_Type' (i.e. 'target_id')\n",
    "chembl_assays_annotated.groupby(['accession','Protein_Type'])['assay_id'].count()"
   ],
   "metadata": {
    "collapsed": false,
    "pycharm": {
     "name": "#%%\n"
    }
   }
  },
  {
   "cell_type": "code",
   "execution_count": null,
   "outputs": [],
   "source": [
    "# Check number of assays per target if target is defined as 'Protein_Type'\n",
    "# i.e. all WT proteins together and every mutant separately\n",
    "chembl_assays_annotated.groupby(['Protein_Type'])['assay_id'].count()"
   ],
   "metadata": {
    "collapsed": false,
    "pycharm": {
     "name": "#%%\n"
    }
   }
  },
  {
   "cell_type": "code",
   "execution_count": null,
   "outputs": [],
   "source": [
    "# Check number of assays per target if target is defined as 'accession'\n",
    "chembl_assays_annotated.groupby(['accession'])['assay_id'].count()"
   ],
   "metadata": {
    "collapsed": false,
    "pycharm": {
     "name": "#%%\n"
    }
   }
  }
 ],
 "metadata": {
  "kernelspec": {
   "display_name": "Python 3",
   "language": "python",
   "name": "python3"
  },
  "language_info": {
   "codemirror_mode": {
    "name": "ipython",
    "version": 2
   },
   "file_extension": ".py",
   "mimetype": "text/x-python",
   "name": "python",
   "nbconvert_exporter": "python",
   "pygments_lexer": "ipython2",
   "version": "2.7.6"
  }
 },
 "nbformat": 4,
 "nbformat_minor": 0
}