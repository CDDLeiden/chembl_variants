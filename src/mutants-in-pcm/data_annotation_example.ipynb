{
 "cells": [
  {
   "cell_type": "code",
   "execution_count": 1,
   "metadata": {
    "collapsed": true
   },
   "outputs": [],
   "source": [
    "from preprocessing import obtain_chembl_data\n",
    "from annotation import *"
   ]
  },
  {
   "cell_type": "markdown",
   "source": [
    "### Annotation workflow"
   ],
   "metadata": {
    "collapsed": false,
    "pycharm": {
     "name": "#%% md\n"
    }
   }
  },
  {
   "cell_type": "code",
   "execution_count": 2,
   "outputs": [
    {
     "name": "stderr",
     "output_type": "stream",
     "text": [
      "C:\\Users\\gorostiolam\\AppData\\Local\\Continuum\\anaconda3\\envs\\mutants-in-pcm\\lib\\site-packages\\ipykernel_launcher.py:1: DtypeWarning: Columns (5) have mixed types.Specify dtype option on import or set low_memory=False.\n",
      "  \"\"\"Entry point for launching an IPython kernel.\n"
     ]
    },
    {
     "data": {
      "text/plain": "                                               description  assay_id  \\\n0        Inhibitory concentration of compound required ...    200081   \n1        The blocking of apamin-sensitive [Ca2+]-activa...    177948   \n2        The blocking of apamin-sensitive [Ca2+]-activa...    177948   \n3        The blocking of apamin-sensitive [Ca2+]-activa...    177948   \n4        The ratio of compound concentrations and dequa...    226446   \n...                                                    ...       ...   \n9008495  Inhibition of human recombinant SHP1 expressed...   2122151   \n9008496  Inhibition of human recombinant MEG2 expressed...   2122152   \n9008497  Inhibition of human recombinant SHP2 expressed...   2122153   \n9008498  Inhibition of human recombinant PTP1B expresse...   2122154   \n9008499  Inhibition of human recombinant CD45 expressed...   2122155   \n\n         variant_id      chembl_id     assay_organism mutation  activity_id  \\\n0               NaN   CHEMBL805641  Rattus norvegicus      NaN       284903   \n1               NaN   CHEMBL785164                NaN      NaN       492214   \n2               NaN   CHEMBL785164                NaN      NaN       492214   \n3               NaN   CHEMBL785164                NaN      NaN       492214   \n4               NaN   CHEMBL844912                NaN      NaN       492215   \n...             ...            ...                ...      ...          ...   \n9008495         NaN  CHEMBL4831298       Homo sapiens      NaN     23251996   \n9008496         NaN  CHEMBL4831299       Homo sapiens      NaN     23252009   \n9008497         NaN  CHEMBL4831300       Homo sapiens      NaN     23252022   \n9008498         NaN  CHEMBL4831301       Homo sapiens      NaN     23252035   \n9008499         NaN  CHEMBL4831302       Homo sapiens      NaN     23252048   \n\n         pchembl_value standard_type    chembl_id.1  \\\n0                 6.96          IC50   CHEMBL268556   \n1                 6.96          IC50   CHEMBL268556   \n2                 6.96          IC50   CHEMBL268556   \n3                 6.96          IC50   CHEMBL268556   \n4                  NaN           EMR   CHEMBL268556   \n...                ...           ...            ...   \n9008495            NaN    Inhibition  CHEMBL5027916   \n9008496            NaN    Inhibition  CHEMBL5027916   \n9008497            NaN    Inhibition  CHEMBL5027916   \n9008498            NaN    Inhibition  CHEMBL5027916   \n9008499            NaN    Inhibition  CHEMBL5027916   \n\n                                          canonical_smiles accession  \\\n0        c1cc2cc(c1)-c1cccc(c1)C[n+]1ccc(c3ccccc31)NCCC...    P70604   \n1        c1cc2cc(c1)-c1cccc(c1)C[n+]1ccc(c3ccccc31)NCCC...    P70604   \n2        c1cc2cc(c1)-c1cccc(c1)C[n+]1ccc(c3ccccc31)NCCC...    P70606   \n3        c1cc2cc(c1)-c1cccc(c1)C[n+]1ccc(c3ccccc31)NCCC...    P70605   \n4        c1cc2cc(c1)-c1cccc(c1)C[n+]1ccc(c3ccccc31)NCCC...    P70604   \n...                                                    ...       ...   \n9008495  COC(=O)[C@]12C3=C(C)O[C@@H]4OC(=O)[C@](C)(C[C@...    P29350   \n9008496  COC(=O)[C@]12C3=C(C)O[C@@H]4OC(=O)[C@](C)(C[C@...    P43378   \n9008497  COC(=O)[C@]12C3=C(C)O[C@@H]4OC(=O)[C@](C)(C[C@...    Q06124   \n9008498  COC(=O)[C@]12C3=C(C)O[C@@H]4OC(=O)[C@](C)(C[C@...    P18031   \n9008499  COC(=O)[C@]12C3=C(C)O[C@@H]4OC(=O)[C@](C)(C[C@...    P08575   \n\n                                                  sequence           organism  \n0        MSSCRYNGGVMRPLSNLSSSRRNLHEMDSEAQPLQPPASVVGGGGG...  Rattus norvegicus  \n1        MSSCRYNGGVMRPLSNLSSSRRNLHEMDSEAQPLQPPASVVGGGGG...  Rattus norvegicus  \n2        MSSRSHNGSVGRPLGSGPGFLGWEPVDPEAGRPRQPTQGPGLQMMA...  Rattus norvegicus  \n3        MDTSGHFHDSGVGDLDEDPKCPCPSSGDEQQQQQQPPPPSAPPAVP...  Rattus norvegicus  \n4        MSSCRYNGGVMRPLSNLSSSRRNLHEMDSEAQPLQPPASVVGGGGG...  Rattus norvegicus  \n...                                                    ...                ...  \n9008495  MVRWFHRDLSGLDAETLLKGRGVHGSFLARPSRKNQGDFSLSVRVG...       Homo sapiens  \n9008496  MEPATAPRPDMAPELTPEEEQATKQFLEEINKWTVQYNVSPLSWNV...       Homo sapiens  \n9008497  MTSRRWFHPNITGVEAENLLLTRGVDGSFLARPSKSNPGDFTLSVR...       Homo sapiens  \n9008498  MEMEKEFEQIDKSGSWAAIYQDIRHEASDFPCRVAKLPKNKNRNRY...       Homo sapiens  \n9008499  MTMYLWLKLLAFGFAFLDTEVFVTGQSPTPSPTGLTTAKMPSVPLS...       Homo sapiens  \n\n[9008500 rows x 14 columns]",
      "text/html": "<div>\n<style scoped>\n    .dataframe tbody tr th:only-of-type {\n        vertical-align: middle;\n    }\n\n    .dataframe tbody tr th {\n        vertical-align: top;\n    }\n\n    .dataframe thead th {\n        text-align: right;\n    }\n</style>\n<table border=\"1\" class=\"dataframe\">\n  <thead>\n    <tr style=\"text-align: right;\">\n      <th></th>\n      <th>description</th>\n      <th>assay_id</th>\n      <th>variant_id</th>\n      <th>chembl_id</th>\n      <th>assay_organism</th>\n      <th>mutation</th>\n      <th>activity_id</th>\n      <th>pchembl_value</th>\n      <th>standard_type</th>\n      <th>chembl_id.1</th>\n      <th>canonical_smiles</th>\n      <th>accession</th>\n      <th>sequence</th>\n      <th>organism</th>\n    </tr>\n  </thead>\n  <tbody>\n    <tr>\n      <th>0</th>\n      <td>Inhibitory concentration of compound required ...</td>\n      <td>200081</td>\n      <td>NaN</td>\n      <td>CHEMBL805641</td>\n      <td>Rattus norvegicus</td>\n      <td>NaN</td>\n      <td>284903</td>\n      <td>6.96</td>\n      <td>IC50</td>\n      <td>CHEMBL268556</td>\n      <td>c1cc2cc(c1)-c1cccc(c1)C[n+]1ccc(c3ccccc31)NCCC...</td>\n      <td>P70604</td>\n      <td>MSSCRYNGGVMRPLSNLSSSRRNLHEMDSEAQPLQPPASVVGGGGG...</td>\n      <td>Rattus norvegicus</td>\n    </tr>\n    <tr>\n      <th>1</th>\n      <td>The blocking of apamin-sensitive [Ca2+]-activa...</td>\n      <td>177948</td>\n      <td>NaN</td>\n      <td>CHEMBL785164</td>\n      <td>NaN</td>\n      <td>NaN</td>\n      <td>492214</td>\n      <td>6.96</td>\n      <td>IC50</td>\n      <td>CHEMBL268556</td>\n      <td>c1cc2cc(c1)-c1cccc(c1)C[n+]1ccc(c3ccccc31)NCCC...</td>\n      <td>P70604</td>\n      <td>MSSCRYNGGVMRPLSNLSSSRRNLHEMDSEAQPLQPPASVVGGGGG...</td>\n      <td>Rattus norvegicus</td>\n    </tr>\n    <tr>\n      <th>2</th>\n      <td>The blocking of apamin-sensitive [Ca2+]-activa...</td>\n      <td>177948</td>\n      <td>NaN</td>\n      <td>CHEMBL785164</td>\n      <td>NaN</td>\n      <td>NaN</td>\n      <td>492214</td>\n      <td>6.96</td>\n      <td>IC50</td>\n      <td>CHEMBL268556</td>\n      <td>c1cc2cc(c1)-c1cccc(c1)C[n+]1ccc(c3ccccc31)NCCC...</td>\n      <td>P70606</td>\n      <td>MSSRSHNGSVGRPLGSGPGFLGWEPVDPEAGRPRQPTQGPGLQMMA...</td>\n      <td>Rattus norvegicus</td>\n    </tr>\n    <tr>\n      <th>3</th>\n      <td>The blocking of apamin-sensitive [Ca2+]-activa...</td>\n      <td>177948</td>\n      <td>NaN</td>\n      <td>CHEMBL785164</td>\n      <td>NaN</td>\n      <td>NaN</td>\n      <td>492214</td>\n      <td>6.96</td>\n      <td>IC50</td>\n      <td>CHEMBL268556</td>\n      <td>c1cc2cc(c1)-c1cccc(c1)C[n+]1ccc(c3ccccc31)NCCC...</td>\n      <td>P70605</td>\n      <td>MDTSGHFHDSGVGDLDEDPKCPCPSSGDEQQQQQQPPPPSAPPAVP...</td>\n      <td>Rattus norvegicus</td>\n    </tr>\n    <tr>\n      <th>4</th>\n      <td>The ratio of compound concentrations and dequa...</td>\n      <td>226446</td>\n      <td>NaN</td>\n      <td>CHEMBL844912</td>\n      <td>NaN</td>\n      <td>NaN</td>\n      <td>492215</td>\n      <td>NaN</td>\n      <td>EMR</td>\n      <td>CHEMBL268556</td>\n      <td>c1cc2cc(c1)-c1cccc(c1)C[n+]1ccc(c3ccccc31)NCCC...</td>\n      <td>P70604</td>\n      <td>MSSCRYNGGVMRPLSNLSSSRRNLHEMDSEAQPLQPPASVVGGGGG...</td>\n      <td>Rattus norvegicus</td>\n    </tr>\n    <tr>\n      <th>...</th>\n      <td>...</td>\n      <td>...</td>\n      <td>...</td>\n      <td>...</td>\n      <td>...</td>\n      <td>...</td>\n      <td>...</td>\n      <td>...</td>\n      <td>...</td>\n      <td>...</td>\n      <td>...</td>\n      <td>...</td>\n      <td>...</td>\n      <td>...</td>\n    </tr>\n    <tr>\n      <th>9008495</th>\n      <td>Inhibition of human recombinant SHP1 expressed...</td>\n      <td>2122151</td>\n      <td>NaN</td>\n      <td>CHEMBL4831298</td>\n      <td>Homo sapiens</td>\n      <td>NaN</td>\n      <td>23251996</td>\n      <td>NaN</td>\n      <td>Inhibition</td>\n      <td>CHEMBL5027916</td>\n      <td>COC(=O)[C@]12C3=C(C)O[C@@H]4OC(=O)[C@](C)(C[C@...</td>\n      <td>P29350</td>\n      <td>MVRWFHRDLSGLDAETLLKGRGVHGSFLARPSRKNQGDFSLSVRVG...</td>\n      <td>Homo sapiens</td>\n    </tr>\n    <tr>\n      <th>9008496</th>\n      <td>Inhibition of human recombinant MEG2 expressed...</td>\n      <td>2122152</td>\n      <td>NaN</td>\n      <td>CHEMBL4831299</td>\n      <td>Homo sapiens</td>\n      <td>NaN</td>\n      <td>23252009</td>\n      <td>NaN</td>\n      <td>Inhibition</td>\n      <td>CHEMBL5027916</td>\n      <td>COC(=O)[C@]12C3=C(C)O[C@@H]4OC(=O)[C@](C)(C[C@...</td>\n      <td>P43378</td>\n      <td>MEPATAPRPDMAPELTPEEEQATKQFLEEINKWTVQYNVSPLSWNV...</td>\n      <td>Homo sapiens</td>\n    </tr>\n    <tr>\n      <th>9008497</th>\n      <td>Inhibition of human recombinant SHP2 expressed...</td>\n      <td>2122153</td>\n      <td>NaN</td>\n      <td>CHEMBL4831300</td>\n      <td>Homo sapiens</td>\n      <td>NaN</td>\n      <td>23252022</td>\n      <td>NaN</td>\n      <td>Inhibition</td>\n      <td>CHEMBL5027916</td>\n      <td>COC(=O)[C@]12C3=C(C)O[C@@H]4OC(=O)[C@](C)(C[C@...</td>\n      <td>Q06124</td>\n      <td>MTSRRWFHPNITGVEAENLLLTRGVDGSFLARPSKSNPGDFTLSVR...</td>\n      <td>Homo sapiens</td>\n    </tr>\n    <tr>\n      <th>9008498</th>\n      <td>Inhibition of human recombinant PTP1B expresse...</td>\n      <td>2122154</td>\n      <td>NaN</td>\n      <td>CHEMBL4831301</td>\n      <td>Homo sapiens</td>\n      <td>NaN</td>\n      <td>23252035</td>\n      <td>NaN</td>\n      <td>Inhibition</td>\n      <td>CHEMBL5027916</td>\n      <td>COC(=O)[C@]12C3=C(C)O[C@@H]4OC(=O)[C@](C)(C[C@...</td>\n      <td>P18031</td>\n      <td>MEMEKEFEQIDKSGSWAAIYQDIRHEASDFPCRVAKLPKNKNRNRY...</td>\n      <td>Homo sapiens</td>\n    </tr>\n    <tr>\n      <th>9008499</th>\n      <td>Inhibition of human recombinant CD45 expressed...</td>\n      <td>2122155</td>\n      <td>NaN</td>\n      <td>CHEMBL4831302</td>\n      <td>Homo sapiens</td>\n      <td>NaN</td>\n      <td>23252048</td>\n      <td>NaN</td>\n      <td>Inhibition</td>\n      <td>CHEMBL5027916</td>\n      <td>COC(=O)[C@]12C3=C(C)O[C@@H]4OC(=O)[C@](C)(C[C@...</td>\n      <td>P08575</td>\n      <td>MTMYLWLKLLAFGFAFLDTEVFVTGQSPTPSPTGLTTAKMPSVPLS...</td>\n      <td>Homo sapiens</td>\n    </tr>\n  </tbody>\n</table>\n<p>9008500 rows × 14 columns</p>\n</div>"
     },
     "execution_count": 2,
     "metadata": {},
     "output_type": "execute_result"
    }
   ],
   "source": [
    "chembl_data = obtain_chembl_data(chembl_version='31', chunksize= 100_000)\n",
    "chembl_data"
   ],
   "metadata": {
    "collapsed": false,
    "pycharm": {
     "name": "#%%\n"
    }
   }
  },
  {
   "cell_type": "code",
   "execution_count": 3,
   "outputs": [
    {
     "data": {
      "text/plain": "         assay_id                                        description  \\\n0          200081  Inhibitory concentration of compound required ...   \n1          177948  The blocking of apamin-sensitive [Ca2+]-activa...   \n2          177948  The blocking of apamin-sensitive [Ca2+]-activa...   \n3          177948  The blocking of apamin-sensitive [Ca2+]-activa...   \n4          226446  The ratio of compound concentrations and dequa...   \n...           ...                                                ...   \n9008483   2116709  Inhibition of CIB1 in human MDA-MB-468 cells a...   \n9008484   2116710  Inhibition of CIB1 in human MDA-MB-231 cells a...   \n9008489   2142322                           Biochemical assay (AKT1)   \n9008490   2142323                           Biochemical assay (AKT2)   \n9008491   2142643                   In vitro assay with human PDE10A   \n\n        accession                                           sequence mutation  \n0          P70604  MSSCRYNGGVMRPLSNLSSSRRNLHEMDSEAQPLQPPASVVGGGGG...      NaN  \n1          P70604  MSSCRYNGGVMRPLSNLSSSRRNLHEMDSEAQPLQPPASVVGGGGG...      NaN  \n2          P70606  MSSRSHNGSVGRPLGSGPGFLGWEPVDPEAGRPRQPTQGPGLQMMA...      NaN  \n3          P70605  MDTSGHFHDSGVGDLDEDPKCPCPSSGDEQQQQQQPPPPSAPPAVP...      NaN  \n4          P70604  MSSCRYNGGVMRPLSNLSSSRRNLHEMDSEAQPLQPPASVVGGGGG...      NaN  \n...           ...                                                ...      ...  \n9008483    Q99828  MGGSGSRLSKELLAEYQDLTFLTKQEILLAHRRFCELLPQEQRSVE...      NaN  \n9008484    Q99828  MGGSGSRLSKELLAEYQDLTFLTKQEILLAHRRFCELLPQEQRSVE...      NaN  \n9008489    P31749  MSDVAIVKEGWLHKRGEYIKTWRPRYFLLKNDGTFIGYKERPQDVD...      NaN  \n9008490    P31751  MNEVSVIKEGWLHKRGEYIKTWRPRYFLLKSDGSFIGYKERPEAPD...      NaN  \n9008491    Q9Y233  MRIEERKSQHLTGLTDEKVKAYLSLHPQVLDEFVSESVSAETVEKW...      NaN  \n\n[542757 rows x 5 columns]",
      "text/html": "<div>\n<style scoped>\n    .dataframe tbody tr th:only-of-type {\n        vertical-align: middle;\n    }\n\n    .dataframe tbody tr th {\n        vertical-align: top;\n    }\n\n    .dataframe thead th {\n        text-align: right;\n    }\n</style>\n<table border=\"1\" class=\"dataframe\">\n  <thead>\n    <tr style=\"text-align: right;\">\n      <th></th>\n      <th>assay_id</th>\n      <th>description</th>\n      <th>accession</th>\n      <th>sequence</th>\n      <th>mutation</th>\n    </tr>\n  </thead>\n  <tbody>\n    <tr>\n      <th>0</th>\n      <td>200081</td>\n      <td>Inhibitory concentration of compound required ...</td>\n      <td>P70604</td>\n      <td>MSSCRYNGGVMRPLSNLSSSRRNLHEMDSEAQPLQPPASVVGGGGG...</td>\n      <td>NaN</td>\n    </tr>\n    <tr>\n      <th>1</th>\n      <td>177948</td>\n      <td>The blocking of apamin-sensitive [Ca2+]-activa...</td>\n      <td>P70604</td>\n      <td>MSSCRYNGGVMRPLSNLSSSRRNLHEMDSEAQPLQPPASVVGGGGG...</td>\n      <td>NaN</td>\n    </tr>\n    <tr>\n      <th>2</th>\n      <td>177948</td>\n      <td>The blocking of apamin-sensitive [Ca2+]-activa...</td>\n      <td>P70606</td>\n      <td>MSSRSHNGSVGRPLGSGPGFLGWEPVDPEAGRPRQPTQGPGLQMMA...</td>\n      <td>NaN</td>\n    </tr>\n    <tr>\n      <th>3</th>\n      <td>177948</td>\n      <td>The blocking of apamin-sensitive [Ca2+]-activa...</td>\n      <td>P70605</td>\n      <td>MDTSGHFHDSGVGDLDEDPKCPCPSSGDEQQQQQQPPPPSAPPAVP...</td>\n      <td>NaN</td>\n    </tr>\n    <tr>\n      <th>4</th>\n      <td>226446</td>\n      <td>The ratio of compound concentrations and dequa...</td>\n      <td>P70604</td>\n      <td>MSSCRYNGGVMRPLSNLSSSRRNLHEMDSEAQPLQPPASVVGGGGG...</td>\n      <td>NaN</td>\n    </tr>\n    <tr>\n      <th>...</th>\n      <td>...</td>\n      <td>...</td>\n      <td>...</td>\n      <td>...</td>\n      <td>...</td>\n    </tr>\n    <tr>\n      <th>9008483</th>\n      <td>2116709</td>\n      <td>Inhibition of CIB1 in human MDA-MB-468 cells a...</td>\n      <td>Q99828</td>\n      <td>MGGSGSRLSKELLAEYQDLTFLTKQEILLAHRRFCELLPQEQRSVE...</td>\n      <td>NaN</td>\n    </tr>\n    <tr>\n      <th>9008484</th>\n      <td>2116710</td>\n      <td>Inhibition of CIB1 in human MDA-MB-231 cells a...</td>\n      <td>Q99828</td>\n      <td>MGGSGSRLSKELLAEYQDLTFLTKQEILLAHRRFCELLPQEQRSVE...</td>\n      <td>NaN</td>\n    </tr>\n    <tr>\n      <th>9008489</th>\n      <td>2142322</td>\n      <td>Biochemical assay (AKT1)</td>\n      <td>P31749</td>\n      <td>MSDVAIVKEGWLHKRGEYIKTWRPRYFLLKNDGTFIGYKERPQDVD...</td>\n      <td>NaN</td>\n    </tr>\n    <tr>\n      <th>9008490</th>\n      <td>2142323</td>\n      <td>Biochemical assay (AKT2)</td>\n      <td>P31751</td>\n      <td>MNEVSVIKEGWLHKRGEYIKTWRPRYFLLKSDGSFIGYKERPEAPD...</td>\n      <td>NaN</td>\n    </tr>\n    <tr>\n      <th>9008491</th>\n      <td>2142643</td>\n      <td>In vitro assay with human PDE10A</td>\n      <td>Q9Y233</td>\n      <td>MRIEERKSQHLTGLTDEKVKAYLSLHPQVLDEFVSESVSAETVEKW...</td>\n      <td>NaN</td>\n    </tr>\n  </tbody>\n</table>\n<p>542757 rows × 5 columns</p>\n</div>"
     },
     "execution_count": 3,
     "metadata": {},
     "output_type": "execute_result"
    }
   ],
   "source": [
    "chembl_assays = filter_assay_data(chembl_data)\n",
    "chembl_assays"
   ],
   "metadata": {
    "collapsed": false,
    "pycharm": {
     "name": "#%%\n"
    }
   }
  },
  {
   "cell_type": "code",
   "execution_count": 4,
   "outputs": [
    {
     "data": {
      "text/plain": "         assay_id                                        description  \\\n0          200081  Inhibitory concentration of compound required ...   \n1          177948  The blocking of apamin-sensitive [Ca2+]-activa...   \n2          177948  The blocking of apamin-sensitive [Ca2+]-activa...   \n3          177948  The blocking of apamin-sensitive [Ca2+]-activa...   \n4          226446  The ratio of compound concentrations and dequa...   \n...           ...                                                ...   \n9008483   2116709  Inhibition of CIB1 in human MDA-MB-468 cells a...   \n9008484   2116710  Inhibition of CIB1 in human MDA-MB-231 cells a...   \n9008489   2142322                           Biochemical assay (AKT1)   \n9008490   2142323                           Biochemical assay (AKT2)   \n9008491   2142643                   In vitro assay with human PDE10A   \n\n        accession                                           sequence mutation  \\\n0          P70604  MSSCRYNGGVMRPLSNLSSSRRNLHEMDSEAQPLQPPASVVGGGGG...      NaN   \n1          P70604  MSSCRYNGGVMRPLSNLSSSRRNLHEMDSEAQPLQPPASVVGGGGG...      NaN   \n2          P70606  MSSRSHNGSVGRPLGSGPGFLGWEPVDPEAGRPRQPTQGPGLQMMA...      NaN   \n3          P70605  MDTSGHFHDSGVGDLDEDPKCPCPSSGDEQQQQQQPPPPSAPPAVP...      NaN   \n4          P70604  MSSCRYNGGVMRPLSNLSSSRRNLHEMDSEAQPLQPPASVVGGGGG...      NaN   \n...           ...                                                ...      ...   \n9008483    Q99828  MGGSGSRLSKELLAEYQDLTFLTKQEILLAHRRFCELLPQEQRSVE...      NaN   \n9008484    Q99828  MGGSGSRLSKELLAEYQDLTFLTKQEILLAHRRFCELLPQEQRSVE...      NaN   \n9008489    P31749  MSDVAIVKEGWLHKRGEYIKTWRPRYFLLKNDGTFIGYKERPQDVD...      NaN   \n9008490    P31751  MNEVSVIKEGWLHKRGEYIKTWRPRYFLLKSDGSFIGYKERPEAPD...      NaN   \n9008491    Q9Y233  MRIEERKSQHLTGLTDEKVKAYLSLHPQVLDEFVSESVSAETVEKW...      NaN   \n\n        aa_change  \n0              []  \n1              []  \n2              []  \n3              []  \n4              []  \n...           ...  \n9008483        []  \n9008484        []  \n9008489        []  \n9008490        []  \n9008491    [E10A]  \n\n[542757 rows x 6 columns]",
      "text/html": "<div>\n<style scoped>\n    .dataframe tbody tr th:only-of-type {\n        vertical-align: middle;\n    }\n\n    .dataframe tbody tr th {\n        vertical-align: top;\n    }\n\n    .dataframe thead th {\n        text-align: right;\n    }\n</style>\n<table border=\"1\" class=\"dataframe\">\n  <thead>\n    <tr style=\"text-align: right;\">\n      <th></th>\n      <th>assay_id</th>\n      <th>description</th>\n      <th>accession</th>\n      <th>sequence</th>\n      <th>mutation</th>\n      <th>aa_change</th>\n    </tr>\n  </thead>\n  <tbody>\n    <tr>\n      <th>0</th>\n      <td>200081</td>\n      <td>Inhibitory concentration of compound required ...</td>\n      <td>P70604</td>\n      <td>MSSCRYNGGVMRPLSNLSSSRRNLHEMDSEAQPLQPPASVVGGGGG...</td>\n      <td>NaN</td>\n      <td>[]</td>\n    </tr>\n    <tr>\n      <th>1</th>\n      <td>177948</td>\n      <td>The blocking of apamin-sensitive [Ca2+]-activa...</td>\n      <td>P70604</td>\n      <td>MSSCRYNGGVMRPLSNLSSSRRNLHEMDSEAQPLQPPASVVGGGGG...</td>\n      <td>NaN</td>\n      <td>[]</td>\n    </tr>\n    <tr>\n      <th>2</th>\n      <td>177948</td>\n      <td>The blocking of apamin-sensitive [Ca2+]-activa...</td>\n      <td>P70606</td>\n      <td>MSSRSHNGSVGRPLGSGPGFLGWEPVDPEAGRPRQPTQGPGLQMMA...</td>\n      <td>NaN</td>\n      <td>[]</td>\n    </tr>\n    <tr>\n      <th>3</th>\n      <td>177948</td>\n      <td>The blocking of apamin-sensitive [Ca2+]-activa...</td>\n      <td>P70605</td>\n      <td>MDTSGHFHDSGVGDLDEDPKCPCPSSGDEQQQQQQPPPPSAPPAVP...</td>\n      <td>NaN</td>\n      <td>[]</td>\n    </tr>\n    <tr>\n      <th>4</th>\n      <td>226446</td>\n      <td>The ratio of compound concentrations and dequa...</td>\n      <td>P70604</td>\n      <td>MSSCRYNGGVMRPLSNLSSSRRNLHEMDSEAQPLQPPASVVGGGGG...</td>\n      <td>NaN</td>\n      <td>[]</td>\n    </tr>\n    <tr>\n      <th>...</th>\n      <td>...</td>\n      <td>...</td>\n      <td>...</td>\n      <td>...</td>\n      <td>...</td>\n      <td>...</td>\n    </tr>\n    <tr>\n      <th>9008483</th>\n      <td>2116709</td>\n      <td>Inhibition of CIB1 in human MDA-MB-468 cells a...</td>\n      <td>Q99828</td>\n      <td>MGGSGSRLSKELLAEYQDLTFLTKQEILLAHRRFCELLPQEQRSVE...</td>\n      <td>NaN</td>\n      <td>[]</td>\n    </tr>\n    <tr>\n      <th>9008484</th>\n      <td>2116710</td>\n      <td>Inhibition of CIB1 in human MDA-MB-231 cells a...</td>\n      <td>Q99828</td>\n      <td>MGGSGSRLSKELLAEYQDLTFLTKQEILLAHRRFCELLPQEQRSVE...</td>\n      <td>NaN</td>\n      <td>[]</td>\n    </tr>\n    <tr>\n      <th>9008489</th>\n      <td>2142322</td>\n      <td>Biochemical assay (AKT1)</td>\n      <td>P31749</td>\n      <td>MSDVAIVKEGWLHKRGEYIKTWRPRYFLLKNDGTFIGYKERPQDVD...</td>\n      <td>NaN</td>\n      <td>[]</td>\n    </tr>\n    <tr>\n      <th>9008490</th>\n      <td>2142323</td>\n      <td>Biochemical assay (AKT2)</td>\n      <td>P31751</td>\n      <td>MNEVSVIKEGWLHKRGEYIKTWRPRYFLLKSDGSFIGYKERPEAPD...</td>\n      <td>NaN</td>\n      <td>[]</td>\n    </tr>\n    <tr>\n      <th>9008491</th>\n      <td>2142643</td>\n      <td>In vitro assay with human PDE10A</td>\n      <td>Q9Y233</td>\n      <td>MRIEERKSQHLTGLTDEKVKAYLSLHPQVLDEFVSESVSAETVEKW...</td>\n      <td>NaN</td>\n      <td>[E10A]</td>\n    </tr>\n  </tbody>\n</table>\n<p>542757 rows × 6 columns</p>\n</div>"
     },
     "execution_count": 4,
     "metadata": {},
     "output_type": "execute_result"
    }
   ],
   "source": [
    "chembl_assays_extracted = extract_aa_change(chembl_assays)\n",
    "chembl_assays_extracted"
   ],
   "metadata": {
    "collapsed": false,
    "pycharm": {
     "name": "#%%\n"
    }
   }
  },
  {
   "cell_type": "code",
   "execution_count": 5,
   "outputs": [
    {
     "data": {
      "text/plain": "        assay_id                                        description accession  \\\n0         200081  Inhibitory concentration of compound required ...    P70604   \n1         177948  The blocking of apamin-sensitive [Ca2+]-activa...    P70604   \n2         177948  The blocking of apamin-sensitive [Ca2+]-activa...    P70606   \n3         177948  The blocking of apamin-sensitive [Ca2+]-activa...    P70605   \n4         226446  The ratio of compound concentrations and dequa...    P70604   \n...          ...                                                ...       ...   \n542752   2116709  Inhibition of CIB1 in human MDA-MB-468 cells a...    Q99828   \n542753   2116710  Inhibition of CIB1 in human MDA-MB-231 cells a...    Q99828   \n542754   2142322                           Biochemical assay (AKT1)    P31749   \n542755   2142323                           Biochemical assay (AKT2)    P31751   \n542756   2142643                   In vitro assay with human PDE10A    Q9Y233   \n\n                                                 sequence mutation aa_change  \\\n0       MSSCRYNGGVMRPLSNLSSSRRNLHEMDSEAQPLQPPASVVGGGGG...      NaN        []   \n1       MSSCRYNGGVMRPLSNLSSSRRNLHEMDSEAQPLQPPASVVGGGGG...      NaN        []   \n2       MSSRSHNGSVGRPLGSGPGFLGWEPVDPEAGRPRQPTQGPGLQMMA...      NaN        []   \n3       MDTSGHFHDSGVGDLDEDPKCPCPSSGDEQQQQQQPPPPSAPPAVP...      NaN        []   \n4       MSSCRYNGGVMRPLSNLSSSRRNLHEMDSEAQPLQPPASVVGGGGG...      NaN        []   \n...                                                   ...      ...       ...   \n542752  MGGSGSRLSKELLAEYQDLTFLTKQEILLAHRRFCELLPQEQRSVE...      NaN        []   \n542753  MGGSGSRLSKELLAEYQDLTFLTKQEILLAHRRFCELLPQEQRSVE...      NaN        []   \n542754  MSDVAIVKEGWLHKRGEYIKTWRPRYFLLKNDGTFIGYKERPQDVD...      NaN        []   \n542755  MNEVSVIKEGWLHKRGEYIKTWRPRYFLLKSDGSFIGYKERPEAPD...      NaN        []   \n542756  MRIEERKSQHLTGLTDEKVKAYLSLHPQVLDEFVSESVSAETVEKW...      NaN    [E10A]   \n\n       mutants  \n0           []  \n1           []  \n2           []  \n3           []  \n4           []  \n...        ...  \n542752      []  \n542753      []  \n542754      []  \n542755      []  \n542756      []  \n\n[542757 rows x 7 columns]",
      "text/html": "<div>\n<style scoped>\n    .dataframe tbody tr th:only-of-type {\n        vertical-align: middle;\n    }\n\n    .dataframe tbody tr th {\n        vertical-align: top;\n    }\n\n    .dataframe thead th {\n        text-align: right;\n    }\n</style>\n<table border=\"1\" class=\"dataframe\">\n  <thead>\n    <tr style=\"text-align: right;\">\n      <th></th>\n      <th>assay_id</th>\n      <th>description</th>\n      <th>accession</th>\n      <th>sequence</th>\n      <th>mutation</th>\n      <th>aa_change</th>\n      <th>mutants</th>\n    </tr>\n  </thead>\n  <tbody>\n    <tr>\n      <th>0</th>\n      <td>200081</td>\n      <td>Inhibitory concentration of compound required ...</td>\n      <td>P70604</td>\n      <td>MSSCRYNGGVMRPLSNLSSSRRNLHEMDSEAQPLQPPASVVGGGGG...</td>\n      <td>NaN</td>\n      <td>[]</td>\n      <td>[]</td>\n    </tr>\n    <tr>\n      <th>1</th>\n      <td>177948</td>\n      <td>The blocking of apamin-sensitive [Ca2+]-activa...</td>\n      <td>P70604</td>\n      <td>MSSCRYNGGVMRPLSNLSSSRRNLHEMDSEAQPLQPPASVVGGGGG...</td>\n      <td>NaN</td>\n      <td>[]</td>\n      <td>[]</td>\n    </tr>\n    <tr>\n      <th>2</th>\n      <td>177948</td>\n      <td>The blocking of apamin-sensitive [Ca2+]-activa...</td>\n      <td>P70606</td>\n      <td>MSSRSHNGSVGRPLGSGPGFLGWEPVDPEAGRPRQPTQGPGLQMMA...</td>\n      <td>NaN</td>\n      <td>[]</td>\n      <td>[]</td>\n    </tr>\n    <tr>\n      <th>3</th>\n      <td>177948</td>\n      <td>The blocking of apamin-sensitive [Ca2+]-activa...</td>\n      <td>P70605</td>\n      <td>MDTSGHFHDSGVGDLDEDPKCPCPSSGDEQQQQQQPPPPSAPPAVP...</td>\n      <td>NaN</td>\n      <td>[]</td>\n      <td>[]</td>\n    </tr>\n    <tr>\n      <th>4</th>\n      <td>226446</td>\n      <td>The ratio of compound concentrations and dequa...</td>\n      <td>P70604</td>\n      <td>MSSCRYNGGVMRPLSNLSSSRRNLHEMDSEAQPLQPPASVVGGGGG...</td>\n      <td>NaN</td>\n      <td>[]</td>\n      <td>[]</td>\n    </tr>\n    <tr>\n      <th>...</th>\n      <td>...</td>\n      <td>...</td>\n      <td>...</td>\n      <td>...</td>\n      <td>...</td>\n      <td>...</td>\n      <td>...</td>\n    </tr>\n    <tr>\n      <th>542752</th>\n      <td>2116709</td>\n      <td>Inhibition of CIB1 in human MDA-MB-468 cells a...</td>\n      <td>Q99828</td>\n      <td>MGGSGSRLSKELLAEYQDLTFLTKQEILLAHRRFCELLPQEQRSVE...</td>\n      <td>NaN</td>\n      <td>[]</td>\n      <td>[]</td>\n    </tr>\n    <tr>\n      <th>542753</th>\n      <td>2116710</td>\n      <td>Inhibition of CIB1 in human MDA-MB-231 cells a...</td>\n      <td>Q99828</td>\n      <td>MGGSGSRLSKELLAEYQDLTFLTKQEILLAHRRFCELLPQEQRSVE...</td>\n      <td>NaN</td>\n      <td>[]</td>\n      <td>[]</td>\n    </tr>\n    <tr>\n      <th>542754</th>\n      <td>2142322</td>\n      <td>Biochemical assay (AKT1)</td>\n      <td>P31749</td>\n      <td>MSDVAIVKEGWLHKRGEYIKTWRPRYFLLKNDGTFIGYKERPQDVD...</td>\n      <td>NaN</td>\n      <td>[]</td>\n      <td>[]</td>\n    </tr>\n    <tr>\n      <th>542755</th>\n      <td>2142323</td>\n      <td>Biochemical assay (AKT2)</td>\n      <td>P31751</td>\n      <td>MNEVSVIKEGWLHKRGEYIKTWRPRYFLLKSDGSFIGYKERPEAPD...</td>\n      <td>NaN</td>\n      <td>[]</td>\n      <td>[]</td>\n    </tr>\n    <tr>\n      <th>542756</th>\n      <td>2142643</td>\n      <td>In vitro assay with human PDE10A</td>\n      <td>Q9Y233</td>\n      <td>MRIEERKSQHLTGLTDEKVKAYLSLHPQVLDEFVSESVSAETVEKW...</td>\n      <td>NaN</td>\n      <td>[E10A]</td>\n      <td>[]</td>\n    </tr>\n  </tbody>\n</table>\n<p>542757 rows × 7 columns</p>\n</div>"
     },
     "execution_count": 5,
     "metadata": {},
     "output_type": "execute_result"
    }
   ],
   "source": [
    "chembl_assays_validated = validate_aa_change(chembl_assays_extracted, chembl_version='31')\n",
    "chembl_assays_validated"
   ],
   "metadata": {
    "collapsed": false,
    "pycharm": {
     "name": "#%%\n"
    }
   }
  },
  {
   "cell_type": "code",
   "execution_count": 7,
   "outputs": [
    {
     "data": {
      "text/plain": "        assay_id                                        description accession  \\\n0         200081  Inhibitory concentration of compound required ...    P70604   \n1         177948  The blocking of apamin-sensitive [Ca2+]-activa...    P70604   \n2         177948  The blocking of apamin-sensitive [Ca2+]-activa...    P70606   \n3         177948  The blocking of apamin-sensitive [Ca2+]-activa...    P70605   \n4         226446  The ratio of compound concentrations and dequa...    P70604   \n...          ...                                                ...       ...   \n542752   2116709  Inhibition of CIB1 in human MDA-MB-468 cells a...    Q99828   \n542753   2116710  Inhibition of CIB1 in human MDA-MB-231 cells a...    Q99828   \n542754   2142322                           Biochemical assay (AKT1)    P31749   \n542755   2142323                           Biochemical assay (AKT2)    P31751   \n542756   2142643                   In vitro assay with human PDE10A    Q9Y233   \n\n                                                 sequence mutation aa_change  \\\n0       MSSCRYNGGVMRPLSNLSSSRRNLHEMDSEAQPLQPPASVVGGGGG...      NaN        []   \n1       MSSCRYNGGVMRPLSNLSSSRRNLHEMDSEAQPLQPPASVVGGGGG...      NaN        []   \n2       MSSRSHNGSVGRPLGSGPGFLGWEPVDPEAGRPRQPTQGPGLQMMA...      NaN        []   \n3       MDTSGHFHDSGVGDLDEDPKCPCPSSGDEQQQQQQPPPPSAPPAVP...      NaN        []   \n4       MSSCRYNGGVMRPLSNLSSSRRNLHEMDSEAQPLQPPASVVGGGGG...      NaN        []   \n...                                                   ...      ...       ...   \n542752  MGGSGSRLSKELLAEYQDLTFLTKQEILLAHRRFCELLPQEQRSVE...      NaN        []   \n542753  MGGSGSRLSKELLAEYQDLTFLTKQEILLAHRRFCELLPQEQRSVE...      NaN        []   \n542754  MSDVAIVKEGWLHKRGEYIKTWRPRYFLLKNDGTFIGYKERPQDVD...      NaN        []   \n542755  MNEVSVIKEGWLHKRGEYIKTWRPRYFLLKSDGSFIGYKERPEAPD...      NaN        []   \n542756  MRIEERKSQHLTGLTDEKVKAYLSLHPQVLDEFVSESVSAETVEKW...      NaN    [E10A]   \n\n       mutants  target_id Protein_Type  \n0           []  P70604_WT           WT  \n1           []  P70604_WT           WT  \n2           []  P70606_WT           WT  \n3           []  P70605_WT           WT  \n4           []  P70604_WT           WT  \n...        ...        ...          ...  \n542752      []  Q99828_WT           WT  \n542753      []  Q99828_WT           WT  \n542754      []  P31749_WT           WT  \n542755      []  P31751_WT           WT  \n542756      []  Q9Y233_WT           WT  \n\n[542757 rows x 9 columns]",
      "text/html": "<div>\n<style scoped>\n    .dataframe tbody tr th:only-of-type {\n        vertical-align: middle;\n    }\n\n    .dataframe tbody tr th {\n        vertical-align: top;\n    }\n\n    .dataframe thead th {\n        text-align: right;\n    }\n</style>\n<table border=\"1\" class=\"dataframe\">\n  <thead>\n    <tr style=\"text-align: right;\">\n      <th></th>\n      <th>assay_id</th>\n      <th>description</th>\n      <th>accession</th>\n      <th>sequence</th>\n      <th>mutation</th>\n      <th>aa_change</th>\n      <th>mutants</th>\n      <th>target_id</th>\n      <th>Protein_Type</th>\n    </tr>\n  </thead>\n  <tbody>\n    <tr>\n      <th>0</th>\n      <td>200081</td>\n      <td>Inhibitory concentration of compound required ...</td>\n      <td>P70604</td>\n      <td>MSSCRYNGGVMRPLSNLSSSRRNLHEMDSEAQPLQPPASVVGGGGG...</td>\n      <td>NaN</td>\n      <td>[]</td>\n      <td>[]</td>\n      <td>P70604_WT</td>\n      <td>WT</td>\n    </tr>\n    <tr>\n      <th>1</th>\n      <td>177948</td>\n      <td>The blocking of apamin-sensitive [Ca2+]-activa...</td>\n      <td>P70604</td>\n      <td>MSSCRYNGGVMRPLSNLSSSRRNLHEMDSEAQPLQPPASVVGGGGG...</td>\n      <td>NaN</td>\n      <td>[]</td>\n      <td>[]</td>\n      <td>P70604_WT</td>\n      <td>WT</td>\n    </tr>\n    <tr>\n      <th>2</th>\n      <td>177948</td>\n      <td>The blocking of apamin-sensitive [Ca2+]-activa...</td>\n      <td>P70606</td>\n      <td>MSSRSHNGSVGRPLGSGPGFLGWEPVDPEAGRPRQPTQGPGLQMMA...</td>\n      <td>NaN</td>\n      <td>[]</td>\n      <td>[]</td>\n      <td>P70606_WT</td>\n      <td>WT</td>\n    </tr>\n    <tr>\n      <th>3</th>\n      <td>177948</td>\n      <td>The blocking of apamin-sensitive [Ca2+]-activa...</td>\n      <td>P70605</td>\n      <td>MDTSGHFHDSGVGDLDEDPKCPCPSSGDEQQQQQQPPPPSAPPAVP...</td>\n      <td>NaN</td>\n      <td>[]</td>\n      <td>[]</td>\n      <td>P70605_WT</td>\n      <td>WT</td>\n    </tr>\n    <tr>\n      <th>4</th>\n      <td>226446</td>\n      <td>The ratio of compound concentrations and dequa...</td>\n      <td>P70604</td>\n      <td>MSSCRYNGGVMRPLSNLSSSRRNLHEMDSEAQPLQPPASVVGGGGG...</td>\n      <td>NaN</td>\n      <td>[]</td>\n      <td>[]</td>\n      <td>P70604_WT</td>\n      <td>WT</td>\n    </tr>\n    <tr>\n      <th>...</th>\n      <td>...</td>\n      <td>...</td>\n      <td>...</td>\n      <td>...</td>\n      <td>...</td>\n      <td>...</td>\n      <td>...</td>\n      <td>...</td>\n      <td>...</td>\n    </tr>\n    <tr>\n      <th>542752</th>\n      <td>2116709</td>\n      <td>Inhibition of CIB1 in human MDA-MB-468 cells a...</td>\n      <td>Q99828</td>\n      <td>MGGSGSRLSKELLAEYQDLTFLTKQEILLAHRRFCELLPQEQRSVE...</td>\n      <td>NaN</td>\n      <td>[]</td>\n      <td>[]</td>\n      <td>Q99828_WT</td>\n      <td>WT</td>\n    </tr>\n    <tr>\n      <th>542753</th>\n      <td>2116710</td>\n      <td>Inhibition of CIB1 in human MDA-MB-231 cells a...</td>\n      <td>Q99828</td>\n      <td>MGGSGSRLSKELLAEYQDLTFLTKQEILLAHRRFCELLPQEQRSVE...</td>\n      <td>NaN</td>\n      <td>[]</td>\n      <td>[]</td>\n      <td>Q99828_WT</td>\n      <td>WT</td>\n    </tr>\n    <tr>\n      <th>542754</th>\n      <td>2142322</td>\n      <td>Biochemical assay (AKT1)</td>\n      <td>P31749</td>\n      <td>MSDVAIVKEGWLHKRGEYIKTWRPRYFLLKNDGTFIGYKERPQDVD...</td>\n      <td>NaN</td>\n      <td>[]</td>\n      <td>[]</td>\n      <td>P31749_WT</td>\n      <td>WT</td>\n    </tr>\n    <tr>\n      <th>542755</th>\n      <td>2142323</td>\n      <td>Biochemical assay (AKT2)</td>\n      <td>P31751</td>\n      <td>MNEVSVIKEGWLHKRGEYIKTWRPRYFLLKSDGSFIGYKERPEAPD...</td>\n      <td>NaN</td>\n      <td>[]</td>\n      <td>[]</td>\n      <td>P31751_WT</td>\n      <td>WT</td>\n    </tr>\n    <tr>\n      <th>542756</th>\n      <td>2142643</td>\n      <td>In vitro assay with human PDE10A</td>\n      <td>Q9Y233</td>\n      <td>MRIEERKSQHLTGLTDEKVKAYLSLHPQVLDEFVSESVSAETVEKW...</td>\n      <td>NaN</td>\n      <td>[E10A]</td>\n      <td>[]</td>\n      <td>Q9Y233_WT</td>\n      <td>WT</td>\n    </tr>\n  </tbody>\n</table>\n<p>542757 rows × 9 columns</p>\n</div>"
     },
     "execution_count": 7,
     "metadata": {},
     "output_type": "execute_result"
    }
   ],
   "source": [
    "chembl_assays_annotated = create_papyrus_columns(chembl_assays_validated)\n",
    "chembl_assays_annotated"
   ],
   "metadata": {
    "collapsed": false,
    "pycharm": {
     "name": "#%%\n"
    }
   }
  },
  {
   "cell_type": "code",
   "execution_count": 8,
   "outputs": [
    {
     "data": {
      "text/plain": "            chembl_id  target_id                          assay_id accession  \\\n0       CHEMBL1000068  P09884_WT                          [483267]    P09884   \n1       CHEMBL1000069  P06746_WT                          [483268]    P06746   \n2       CHEMBL1000070  P54098_WT                          [483269]    P54098   \n3       CHEMBL1000097  P11387_WT                          [481084]    P11387   \n4       CHEMBL1000099  P11387_WT  [481086, 481086, 481086, 481086]    P11387   \n...               ...        ...                               ...       ...   \n542752   CHEMBL999948  P03372_WT                          [550394]    P03372   \n542753   CHEMBL999963  P12821_WT          [550611, 550611, 550611]    P12821   \n542754   CHEMBL999964  P12821_WT  [550612, 550612, 550612, 550612]    P12821   \n542755   CHEMBL999967  P12821_WT          [550615, 550615, 550615]    P12821   \n542756   CHEMBL999990  P04054_WT          [551195, 551195, 551195]    P04054   \n\n               pchembl_value  pchembl_value_Mean  \\\n0                      [nan]                 NaN   \n1                      [nan]                 NaN   \n2                      [nan]                 NaN   \n3                      [nan]                 NaN   \n4       [nan, nan, nan, nan]                 NaN   \n...                      ...                 ...   \n542752                 [nan]                 NaN   \n542753       [nan, nan, nan]                 NaN   \n542754  [nan, nan, nan, nan]                 NaN   \n542755       [nan, nan, nan]                 NaN   \n542756       [nan, nan, nan]                 NaN   \n\n                                         canonical_smiles  \\\n0       (O=C(Oc1c(O)cc(C(=O)O[C@@H]2C[C@@](O)(C(=O)O)C...   \n1       (O=C(Oc1c(O)cc(C(=O)O[C@@H]2C[C@@](O)(C(=O)O)C...   \n2       (O=C(Oc1c(O)cc(C(=O)O[C@@H]2C[C@@](O)(C(=O)O)C...   \n3       (CC[C@@]1(O)C(=O)OCc2c1cc1n(c2=O)Cc2cc3c(N)ccc...   \n4       (Cn1cc2c3c1C(=O)c1[nH]cc(-c4ccc(O)cc4)c1C3=NCC2,)   \n...                                                   ...   \n542752  (O=c1c(-c2ccc(O)cc2)coc2c([C@@H]3O[C@H](CO)[C@...   \n542753  (COc1cc(/C=C/C(=O)O[C@H]2[C@H](O[C@@H]3O[C@@H]...   \n542754  (COc1cc(/C=C/C(=O)O[C@H]2[C@H](O[C@@H]3O[C@@H]...   \n542755  (COc1cc(/C=C/C(=O)O[C@H]2[C@H](O[C@@H]3O[C@@H]...   \n542756  (Cc1ccc(O)cc1CC[C@H]1[C@@H]2CC[C@H]([C@H](C)CC...   \n\n                                                 sequence  \n0       MAPVHGDDSLSDSGSFVSSRARREKKSKKGRQEALERLKKAKAGEK...  \n1       MSKRKAPQETLNGGITDMLTELANFEKNVSQAIHKYNAYRKAASVI...  \n2       MSRLLWRKVAGATVGPGPVPAPGRWVSSSVPASDPSDGQRRRQQQQ...  \n3       MSGDHLHNDSQIEADFRLNDSHKHKDKHKDREHRHKEHKKEKDREK...  \n4       MSGDHLHNDSQIEADFRLNDSHKHKDKHKDREHRHKEHKKEKDREK...  \n...                                                   ...  \n542752  MTMTLHTKASGMALLHQIQGNELEPLNRPQLKIPLERPLGEVYLDS...  \n542753  MGAASGRRGPGLLLPLPLLLLLPPQPALALDPGLQPGNFSADEAGA...  \n542754  MGAASGRRGPGLLLPLPLLLLLPPQPALALDPGLQPGNFSADEAGA...  \n542755  MGAASGRRGPGLLLPLPLLLLLPPQPALALDPGLQPGNFSADEAGA...  \n542756  MKLLVLAVLLTVAAADSGISPRAVWQFRKMIKCVIPGSDPFLEYNN...  \n\n[542757 rows x 8 columns]",
      "text/html": "<div>\n<style scoped>\n    .dataframe tbody tr th:only-of-type {\n        vertical-align: middle;\n    }\n\n    .dataframe tbody tr th {\n        vertical-align: top;\n    }\n\n    .dataframe thead th {\n        text-align: right;\n    }\n</style>\n<table border=\"1\" class=\"dataframe\">\n  <thead>\n    <tr style=\"text-align: right;\">\n      <th></th>\n      <th>chembl_id</th>\n      <th>target_id</th>\n      <th>assay_id</th>\n      <th>accession</th>\n      <th>pchembl_value</th>\n      <th>pchembl_value_Mean</th>\n      <th>canonical_smiles</th>\n      <th>sequence</th>\n    </tr>\n  </thead>\n  <tbody>\n    <tr>\n      <th>0</th>\n      <td>CHEMBL1000068</td>\n      <td>P09884_WT</td>\n      <td>[483267]</td>\n      <td>P09884</td>\n      <td>[nan]</td>\n      <td>NaN</td>\n      <td>(O=C(Oc1c(O)cc(C(=O)O[C@@H]2C[C@@](O)(C(=O)O)C...</td>\n      <td>MAPVHGDDSLSDSGSFVSSRARREKKSKKGRQEALERLKKAKAGEK...</td>\n    </tr>\n    <tr>\n      <th>1</th>\n      <td>CHEMBL1000069</td>\n      <td>P06746_WT</td>\n      <td>[483268]</td>\n      <td>P06746</td>\n      <td>[nan]</td>\n      <td>NaN</td>\n      <td>(O=C(Oc1c(O)cc(C(=O)O[C@@H]2C[C@@](O)(C(=O)O)C...</td>\n      <td>MSKRKAPQETLNGGITDMLTELANFEKNVSQAIHKYNAYRKAASVI...</td>\n    </tr>\n    <tr>\n      <th>2</th>\n      <td>CHEMBL1000070</td>\n      <td>P54098_WT</td>\n      <td>[483269]</td>\n      <td>P54098</td>\n      <td>[nan]</td>\n      <td>NaN</td>\n      <td>(O=C(Oc1c(O)cc(C(=O)O[C@@H]2C[C@@](O)(C(=O)O)C...</td>\n      <td>MSRLLWRKVAGATVGPGPVPAPGRWVSSSVPASDPSDGQRRRQQQQ...</td>\n    </tr>\n    <tr>\n      <th>3</th>\n      <td>CHEMBL1000097</td>\n      <td>P11387_WT</td>\n      <td>[481084]</td>\n      <td>P11387</td>\n      <td>[nan]</td>\n      <td>NaN</td>\n      <td>(CC[C@@]1(O)C(=O)OCc2c1cc1n(c2=O)Cc2cc3c(N)ccc...</td>\n      <td>MSGDHLHNDSQIEADFRLNDSHKHKDKHKDREHRHKEHKKEKDREK...</td>\n    </tr>\n    <tr>\n      <th>4</th>\n      <td>CHEMBL1000099</td>\n      <td>P11387_WT</td>\n      <td>[481086, 481086, 481086, 481086]</td>\n      <td>P11387</td>\n      <td>[nan, nan, nan, nan]</td>\n      <td>NaN</td>\n      <td>(Cn1cc2c3c1C(=O)c1[nH]cc(-c4ccc(O)cc4)c1C3=NCC2,)</td>\n      <td>MSGDHLHNDSQIEADFRLNDSHKHKDKHKDREHRHKEHKKEKDREK...</td>\n    </tr>\n    <tr>\n      <th>...</th>\n      <td>...</td>\n      <td>...</td>\n      <td>...</td>\n      <td>...</td>\n      <td>...</td>\n      <td>...</td>\n      <td>...</td>\n      <td>...</td>\n    </tr>\n    <tr>\n      <th>542752</th>\n      <td>CHEMBL999948</td>\n      <td>P03372_WT</td>\n      <td>[550394]</td>\n      <td>P03372</td>\n      <td>[nan]</td>\n      <td>NaN</td>\n      <td>(O=c1c(-c2ccc(O)cc2)coc2c([C@@H]3O[C@H](CO)[C@...</td>\n      <td>MTMTLHTKASGMALLHQIQGNELEPLNRPQLKIPLERPLGEVYLDS...</td>\n    </tr>\n    <tr>\n      <th>542753</th>\n      <td>CHEMBL999963</td>\n      <td>P12821_WT</td>\n      <td>[550611, 550611, 550611]</td>\n      <td>P12821</td>\n      <td>[nan, nan, nan]</td>\n      <td>NaN</td>\n      <td>(COc1cc(/C=C/C(=O)O[C@H]2[C@H](O[C@@H]3O[C@@H]...</td>\n      <td>MGAASGRRGPGLLLPLPLLLLLPPQPALALDPGLQPGNFSADEAGA...</td>\n    </tr>\n    <tr>\n      <th>542754</th>\n      <td>CHEMBL999964</td>\n      <td>P12821_WT</td>\n      <td>[550612, 550612, 550612, 550612]</td>\n      <td>P12821</td>\n      <td>[nan, nan, nan, nan]</td>\n      <td>NaN</td>\n      <td>(COc1cc(/C=C/C(=O)O[C@H]2[C@H](O[C@@H]3O[C@@H]...</td>\n      <td>MGAASGRRGPGLLLPLPLLLLLPPQPALALDPGLQPGNFSADEAGA...</td>\n    </tr>\n    <tr>\n      <th>542755</th>\n      <td>CHEMBL999967</td>\n      <td>P12821_WT</td>\n      <td>[550615, 550615, 550615]</td>\n      <td>P12821</td>\n      <td>[nan, nan, nan]</td>\n      <td>NaN</td>\n      <td>(COc1cc(/C=C/C(=O)O[C@H]2[C@H](O[C@@H]3O[C@@H]...</td>\n      <td>MGAASGRRGPGLLLPLPLLLLLPPQPALALDPGLQPGNFSADEAGA...</td>\n    </tr>\n    <tr>\n      <th>542756</th>\n      <td>CHEMBL999990</td>\n      <td>P04054_WT</td>\n      <td>[551195, 551195, 551195]</td>\n      <td>P04054</td>\n      <td>[nan, nan, nan]</td>\n      <td>NaN</td>\n      <td>(Cc1ccc(O)cc1CC[C@H]1[C@@H]2CC[C@H]([C@H](C)CC...</td>\n      <td>MKLLVLAVLLTVAAADSGISPRAVWQFRKMIKCVIPGSDPFLEYNN...</td>\n    </tr>\n  </tbody>\n</table>\n<p>542757 rows × 8 columns</p>\n</div>"
     },
     "execution_count": 8,
     "metadata": {},
     "output_type": "execute_result"
    }
   ],
   "source": [
    "chembl_bioactivity_dataset = map_activity_mutations(chembl_data, chembl_assays_annotated)\n",
    "chembl_bioactivity_dataset"
   ],
   "metadata": {
    "collapsed": false,
    "pycharm": {
     "name": "#%%\n"
    }
   }
  },
  {
   "cell_type": "markdown",
   "source": [
    "#### Easy statistics"
   ],
   "metadata": {
    "collapsed": false
   }
  },
  {
   "cell_type": "code",
   "execution_count": null,
   "outputs": [],
   "source": [
    "# Check for how many assay-accession pairs we have extracted and validated mutants\n",
    "chembl_mutants_extracted = chembl_assays_annotated[chembl_assays_annotated.apply(lambda x: x['Protein_Type'] != 'WT', axis=1)]\n",
    "chembl_mutants_extracted"
   ],
   "metadata": {
    "collapsed": false,
    "pycharm": {
     "name": "#%%\n"
    }
   }
  },
  {
   "cell_type": "code",
   "execution_count": null,
   "outputs": [],
   "source": [
    "# Check how many of the extracted mutants were not previously defined in ChEMBL's variant variable 'mutation'\n",
    "chembl_new_mutants_extracted1 = chembl_mutants_extracted[(chembl_mutants_extracted['mutation'].isna())]\n",
    "chembl_new_mutants_extracted1"
   ],
   "metadata": {
    "collapsed": false,
    "pycharm": {
     "name": "#%%\n"
    }
   }
  },
  {
   "cell_type": "code",
   "execution_count": null,
   "outputs": [],
   "source": [
    "# Check how many of the extracted mutants were defined as mutated by the actual mutation was not specified on ChEMBL\n",
    "chembl_new_mutants_extracted2 = chembl_mutants_extracted[chembl_mutants_extracted['mutation'] == 'UNDEFINED MUTATION']\n",
    "chembl_new_mutants_extracted2"
   ],
   "metadata": {
    "collapsed": false,
    "pycharm": {
     "name": "#%%\n"
    }
   }
  },
  {
   "cell_type": "code",
   "execution_count": null,
   "outputs": [],
   "source": [
    "# Check number of assays per target if target is defined as 'accession' AND 'Protein_Type' (i.e. 'target_id')\n",
    "chembl_assays_annotated.groupby(['accession','Protein_Type'])['assay_id'].count()"
   ],
   "metadata": {
    "collapsed": false,
    "pycharm": {
     "name": "#%%\n"
    }
   }
  },
  {
   "cell_type": "code",
   "execution_count": null,
   "outputs": [],
   "source": [
    "# Check number of assays per target if target is defined as 'Protein_Type'\n",
    "# i.e. all WT proteins together and every mutant separately\n",
    "chembl_assays_annotated.groupby(['Protein_Type'])['assay_id'].count()"
   ],
   "metadata": {
    "collapsed": false,
    "pycharm": {
     "name": "#%%\n"
    }
   }
  },
  {
   "cell_type": "code",
   "execution_count": null,
   "outputs": [],
   "source": [
    "# Check number of assays per target if target is defined as 'accession'\n",
    "chembl_assays_annotated.groupby(['accession'])['assay_id'].count()"
   ],
   "metadata": {
    "collapsed": false,
    "pycharm": {
     "name": "#%%\n"
    }
   }
  }
 ],
 "metadata": {
  "kernelspec": {
   "display_name": "Python 3",
   "language": "python",
   "name": "python3"
  },
  "language_info": {
   "codemirror_mode": {
    "name": "ipython",
    "version": 2
   },
   "file_extension": ".py",
   "mimetype": "text/x-python",
   "name": "python",
   "nbconvert_exporter": "python",
   "pygments_lexer": "ipython2",
   "version": "2.7.6"
  }
 },
 "nbformat": 4,
 "nbformat_minor": 0
}