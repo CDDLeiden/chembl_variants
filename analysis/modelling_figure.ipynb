{
 "cells": [
  {
   "cell_type": "code",
   "execution_count": 1,
   "id": "ab36dc985289ab13",
   "metadata": {
    "ExecuteTime": {
     "end_time": "2023-09-13T09:28:50.428169Z",
     "start_time": "2023-09-13T09:28:50.241846600Z"
    }
   },
   "outputs": [],
   "source": [
    "%reload_ext autoreload\n",
    "%autoreload 2"
   ]
  },
  {
   "cell_type": "markdown",
   "id": "c6b67b4f-41d9-4447-8292-725b028b88ee",
   "metadata": {},
   "source": [
    "Ensure `plotly-orca` is installed."
   ]
  },
  {
   "cell_type": "code",
   "execution_count": 2,
   "id": "7dad64af-adb5-44ed-aa45-b670dfa76b69",
   "metadata": {
    "ExecuteTime": {
     "end_time": "2023-09-11T14:27:07.585304200Z",
     "start_time": "2023-09-11T14:27:05.572116400Z"
    }
   },
   "outputs": [],
   "source": [
    "%%capture\n",
    "!pip install kaleido==0.1.0.post1"
   ]
  },
  {
   "cell_type": "code",
   "execution_count": 3,
   "id": "a805e34f9f14b4b3",
   "metadata": {
    "ExecuteTime": {
     "end_time": "2023-09-11T14:27:41.653427800Z",
     "start_time": "2023-09-11T14:27:07.586295900Z"
    }
   },
   "outputs": [],
   "source": [
    "%%capture\n",
    "!conda install -y plotly-orca -c plotly"
   ]
  },
  {
   "cell_type": "markdown",
   "id": "ca9f1770-124b-4690-a474-98347e33cfd3",
   "metadata": {},
   "source": [
    "### Imports"
   ]
  },
  {
   "cell_type": "code",
   "execution_count": 2,
   "id": "1aba5b4e8bbabddc",
   "metadata": {
    "ExecuteTime": {
     "end_time": "2023-09-13T09:28:51.005169400Z",
     "start_time": "2023-09-13T09:28:50.384169600Z"
    }
   },
   "outputs": [],
   "source": [
    "import os\n",
    "from base64 import b64encode\n",
    "\n",
    "import numpy as np\n",
    "import pandas as pd\n",
    "from dash import Dash, dcc, html, Input, Output\n",
    "import plotly.graph_objects as go\n",
    "from plotly.subplots import  make_subplots\n",
    "from IPython.display import display, SVG"
   ]
  },
  {
   "cell_type": "markdown",
   "id": "e1d91b44-6f60-4591-aaa1-19ad246413d5",
   "metadata": {},
   "source": [
    "Define the directories containing (i) the processed data and (ii) the processed results."
   ]
  },
  {
   "cell_type": "markdown",
   "id": "82e6d234-5526-4bd0-8c47-c08f826910e6",
   "metadata": {},
   "source": [
    "### Load modelling data"
   ]
  },
  {
   "cell_type": "code",
   "execution_count": 3,
   "id": "59542ff7-2b82-4e73-87d6-0f24f84a1f02",
   "metadata": {
    "ExecuteTime": {
     "end_time": "2023-09-13T09:28:51.245170600Z",
     "start_time": "2023-09-13T09:28:50.997169200Z"
    }
   },
   "outputs": [],
   "source": [
    "modelling_data_dir = '../analysis/modelling'"
   ]
  },
  {
   "cell_type": "code",
   "execution_count": 4,
   "id": "8976e0f04b994dde",
   "metadata": {
    "ExecuteTime": {
     "end_time": "2023-09-13T09:28:51.533169100Z",
     "start_time": "2023-09-13T09:28:51.142169700Z"
    }
   },
   "outputs": [],
   "source": [
    "# Obtain data and format\n",
    "data = pd.read_csv(os.path.join(modelling_data_dir, 'all_modelling_results.tsv.xz'), sep='\\t')\n",
    "data_counts = pd.read_csv(os.path.join(modelling_data_dir, 'all_modelling_counts.tsv.xz'), sep='\\t')\n",
    "data_counts['datapoints_mutant_percentage'] = data_counts.num_datapoints_mutants / data_counts.num_datapoints_total * 100\n",
    "data_counts['datapoints_WT_percentage'] = 100 - data_counts.datapoints_mutant_percentage\n",
    "data_counts['minority_percentage'] = data_counts[['datapoints_mutant_percentage', 'datapoints_WT_percentage']].min(axis=1)"
   ]
  },
  {
   "cell_type": "code",
   "execution_count": 5,
   "id": "6037967c-5b70-41e4-bbe9-8d9390f1e2d9",
   "metadata": {
    "ExecuteTime": {
     "end_time": "2023-09-13T09:28:51.730170Z",
     "start_time": "2023-09-13T09:28:51.519169200Z"
    }
   },
   "outputs": [],
   "source": [
    "# Add data counts and minority percentage\n",
    "data_counts = data_counts.drop(columns='datapoints_mutant_percentage')"
   ]
  },
  {
   "cell_type": "markdown",
   "id": "974f1dbe8a3b95fc",
   "metadata": {},
   "source": [
    "Get data counts for the common subsets"
   ]
  },
  {
   "cell_type": "code",
   "execution_count": 6,
   "id": "538e4bfe8595adcc",
   "metadata": {
    "ExecuteTime": {
     "end_time": "2023-09-13T09:28:51.824169200Z",
     "start_time": "2023-09-13T09:28:51.648169Z"
    }
   },
   "outputs": [],
   "source": [
    "data_counts_common = (data[(data.subset == 'common') & (data.modeltype == 'PCM') & (data.crossval == 'random') & (~data.folds.isin(['Mean', 'SD'])) & data.contains_mutants]\n",
    "                        .groupby('accession')\n",
    "                        .agg({'number': 'sum'})\n",
    "                        .sort_values('number', ascending=False)\n",
    "                        .reset_index()\n",
    "                        .rename(columns={'number': 'num_common_datapoints_total'})\n",
    ")\n",
    "data_counts_common_mutants = (data[(data.subset == 'common') & (data.modeltype == 'PCM') & (data.crossval == 'random') & (~data.folds.isin(['Mean', 'SD'])) & ~data.contains_mutants]\n",
    "                        .groupby('accession')\n",
    "                        .agg({'number': 'sum'})\n",
    "                        .sort_values('number', ascending=False)\n",
    "                        .reset_index()\n",
    "                        .rename(columns={'number': 'num_common_datapoints_WT'})\n",
    ")\n",
    "data_counts_common = data_counts_common.merge(data_counts_common_mutants, on='accession', how='outer').fillna(0)\n",
    "data_counts_common['num_common_datapoints_mutants'] = data_counts_common.num_common_datapoints_total - data_counts_common.num_common_datapoints_WT\n",
    "data_counts_common['common_datapoints_WT_percentage'] = data_counts_common.num_common_datapoints_WT / data_counts_common.num_common_datapoints_total * 100\n",
    "data_counts_common['minority_percentage'] = pd.DataFrame([data_counts_common.common_datapoints_WT_percentage, 100 - data_counts_common.common_datapoints_WT_percentage]).min(axis=0)\n",
    "data_counts_common.to_csv(os.path.join(modelling_data_dir, 'common_modelling_counts.tsv.xz'), sep='\\t', index=False)"
   ]
  },
  {
   "cell_type": "code",
   "execution_count": 7,
   "id": "ace9c4c5-db5a-4317-ba82-d78486f4b0ce",
   "metadata": {
    "ExecuteTime": {
     "end_time": "2023-09-13T09:28:52.053168900Z",
     "start_time": "2023-09-13T09:28:51.804169900Z"
    }
   },
   "outputs": [],
   "source": [
    "# Obtain data of accessions modelled with QSAR and PCM on the complete set (random CV)\n",
    "subplot1_data = (data[(data.crossval == 'random') & (data.folds == 'Mean') & (data.subset == 'complete') & data.contains_mutants]\n",
    "                 .drop(columns=[col for col in data.columns if  col not in ['Pearson r', 'modeltype', 'accession']]))\n",
    "subplot1_data = subplot1_data.merge(data_counts, on='accession')"
   ]
  },
  {
   "cell_type": "code",
   "execution_count": 8,
   "id": "94e9d2216b787959",
   "metadata": {
    "ExecuteTime": {
     "end_time": "2023-09-13T09:28:52.181169400Z",
     "start_time": "2023-09-13T09:28:51.952169600Z"
    }
   },
   "outputs": [],
   "source": [
    "# Obtain data of accessions modelled with QSAR on the complete set both with and without mutants (random CV)\n",
    "subplot2_data = (pd.concat([data[(data.crossval == 'random') & (data.folds == 'Mean') & (data.subset == 'complete') & (data.modeltype == 'QSAR') & data.contains_mutants],\n",
    "                            data[(data.crossval == 'random') & (data.folds == 'Mean') & (data.subset == 'complete') & (data.modeltype == 'QSAR') & ~data.contains_mutants]])\n",
    "                 .drop(columns=[col for col in data.columns if col not in ['Pearson r', 'accession', 'contains_mutants']]))\n",
    "subplot2_data = subplot2_data.merge(data_counts, on='accession')\n",
    "# Keep accessions that were modelled only with and without mutants\n",
    "subplot2_data = (subplot2_data.groupby('accession')\n",
    "                 .filter(lambda x: len(x['contains_mutants']) == 2))"
   ]
  },
  {
   "cell_type": "code",
   "execution_count": 9,
   "id": "4bb1d0ad3fa561ff",
   "metadata": {
    "ExecuteTime": {
     "end_time": "2023-09-13T09:28:52.328170200Z",
     "start_time": "2023-09-13T09:28:52.121181100Z"
    }
   },
   "outputs": [],
   "source": [
    "# Obtain data of accessions modelled with QSAR and PCM on common subset (random CV)\n",
    "subplot3_data = (pd.concat([data[(data.crossval == 'random') & (data.folds == 'Mean') & (data.subset == 'common') & (data.modeltype == 'PCM') & data.contains_mutants],\n",
    "                            data[(data.crossval == 'random') & (data.folds == 'Mean') & (data.subset == 'common') & (data.modeltype == 'QSAR') & data.contains_mutants]])\n",
    "                 .drop(columns=[col for col in data.columns if col not in ['Pearson r', 'accession', 'modeltype']]))\n",
    "subplot3_data = subplot3_data.merge(data_counts_common, on='accession')\n",
    "# Keep accessions that were modelled with mutants only\n",
    "subplot3_data = (subplot3_data.groupby('accession')\n",
    "                 .filter(lambda x: len(x['modeltype']) == 2))"
   ]
  },
  {
   "cell_type": "code",
   "execution_count": 10,
   "id": "439a8fd50a1cfcd0",
   "metadata": {
    "ExecuteTime": {
     "end_time": "2023-09-13T09:28:52.452169500Z",
     "start_time": "2023-09-13T09:28:52.294169700Z"
    }
   },
   "outputs": [],
   "source": [
    "# Obtain data of accessions modelled with QSAR and PCM on the complete set (random CV)\n",
    "subplot4_data = (data[(data.crossval == 'random') & (data.folds == 'Mean') & (data.subset == 'complete') & ~data.contains_mutants]\n",
    "                 .drop(columns=[col for col in data.columns if  col not in ['Pearson r', 'modeltype', 'accession']]))\n",
    "subplot4_data = (subplot4_data.merge(data_counts, on='accession'))"
   ]
  },
  {
   "cell_type": "code",
   "execution_count": 11,
   "id": "78995f71edcb22",
   "metadata": {
    "ExecuteTime": {
     "end_time": "2023-09-13T09:28:52.625167700Z",
     "start_time": "2023-09-13T09:28:52.459170Z"
    }
   },
   "outputs": [],
   "source": [
    "# Obtain 33rd and 66th percentiles\n",
    "num_33_percentile = round(pd.concat([subplot1_data.num_datapoints_total, subplot2_data.num_datapoints_total]).quantile(1/3), 0)\n",
    "num_33_percentile_common = subplot3_data.num_common_datapoints_total.quantile(1/3).round(0)\n",
    "num_66_percentile = round(pd.concat([subplot1_data.num_datapoints_total, subplot2_data.num_datapoints_total, subplot3_data.num_common_datapoints_total]).quantile(2/3), 0)\n",
    "num_66_percentile_common = subplot3_data.num_common_datapoints_total.quantile(2/3).round(0)\n",
    "ratio_33_percentile = round(pd.concat([subplot1_data.minority_percentage, subplot2_data.minority_percentage]).quantile(1/3), 0)\n",
    "ratio_33_percentile_common = subplot3_data.num_common_datapoints_total.quantile(1/3).round(0)\n",
    "ratio_66_percentile = round(pd.concat([subplot1_data.minority_percentage, subplot2_data.minority_percentage]).quantile(2/3), 0)\n",
    "ratio_66_percentile_common = subplot3_data.num_common_datapoints_total.quantile(2/3).round(0)\n",
    "\n",
    "# Obtain X/9th percentiles\n",
    "num_11_percentile = round(pd.concat([subplot1_data.num_datapoints_total, subplot2_data.num_datapoints_total]).quantile(1/9), 0)\n",
    "num_22_percentile = round(pd.concat([subplot1_data.num_datapoints_total, subplot2_data.num_datapoints_total]).quantile(2/9), 0)\n",
    "num_44_percentile = round(pd.concat([subplot1_data.num_datapoints_total, subplot2_data.num_datapoints_total]).quantile(4/9), 0)\n",
    "num_55_percentile = round(pd.concat([subplot1_data.num_datapoints_total, subplot2_data.num_datapoints_total]).quantile(5/9), 0)\n",
    "num_77_percentile = round(pd.concat([subplot1_data.num_datapoints_total, subplot2_data.num_datapoints_total, subplot3_data.num_common_datapoints_total]).quantile(7/9), 0)\n",
    "num_88_percentile = round(pd.concat([subplot1_data.num_datapoints_total, subplot2_data.num_datapoints_total]).quantile(8/9), 0)\n",
    "num_11_percentile_common = subplot3_data.num_common_datapoints_total.quantile(1/9).round(0)\n",
    "num_22_percentile_common = subplot3_data.num_common_datapoints_total.quantile(2/9).round(0)\n",
    "num_44_percentile_common = subplot3_data.num_common_datapoints_total.quantile(4/9).round(0)\n",
    "num_55_percentile_common = subplot3_data.num_common_datapoints_total.quantile(6/9).round(0)\n",
    "num_77_percentile_common = subplot3_data.num_common_datapoints_total.quantile(7/9).round(0)\n",
    "num_88_percentile_common = subplot3_data.num_common_datapoints_total.quantile(8/9).round(0)\n",
    "\n",
    "\n",
    "ratio_11_percentile = round(pd.concat([subplot1_data.minority_percentage, subplot2_data.minority_percentage]).quantile(1/9), 0)\n",
    "ratio_22_percentile = round(pd.concat([subplot1_data.minority_percentage, subplot2_data.minority_percentage]).quantile(2/9), 0)\n",
    "ratio_44_percentile = round(pd.concat([subplot1_data.minority_percentage, subplot2_data.minority_percentage]).quantile(4/9), 0)\n",
    "ratio_55_percentile = round(pd.concat([subplot1_data.minority_percentage, subplot2_data.minority_percentage]).quantile(5/9), 0)\n",
    "ratio_77_percentile = round(pd.concat([subplot1_data.minority_percentage, subplot2_data.minority_percentage]).quantile(7/9), 0)\n",
    "ratio_88_percentile = round(pd.concat([subplot1_data.minority_percentage, subplot2_data.minority_percentage]).quantile(8/9), 0)\n",
    "\n",
    "ratio_11_percentile_common = subplot3_data.minority_percentage.quantile(1/9).round(0)\n",
    "ratio_22_percentile_common = subplot3_data.minority_percentage.quantile(2/9).round(0)\n",
    "ratio_44_percentile_common = subplot3_data.minority_percentage.quantile(4/9).round(0)\n",
    "ratio_55_percentile_common = subplot3_data.minority_percentage.quantile(5/9).round(0)\n",
    "ratio_77_percentile_common = subplot3_data.minority_percentage.quantile(7/9).round(0)\n",
    "ratio_88_percentile_common = subplot3_data.minority_percentage.quantile(8/9).round(0)"
   ]
  },
  {
   "cell_type": "code",
   "execution_count": 12,
   "id": "initial_id",
   "metadata": {
    "ExecuteTime": {
     "end_time": "2023-09-13T09:28:52.920077700Z",
     "start_time": "2023-09-13T09:28:52.633178200Z"
    }
   },
   "outputs": [
    {
     "data": {
      "text/html": [
       "\n",
       "        <iframe\n",
       "            width=\"100%\"\n",
       "            height=\"650\"\n",
       "            src=\"http://127.0.0.1:8050/\"\n",
       "            frameborder=\"0\"\n",
       "            allowfullscreen\n",
       "            \n",
       "        ></iframe>\n",
       "        "
      ],
      "text/plain": [
       "<IPython.lib.display.IFrame at 0x13d0b3f9d90>"
      ]
     },
     "metadata": {},
     "output_type": "display_data"
    }
   ],
   "source": [
    "app = Dash(__name__)\n",
    "\n",
    "app.layout = html.Div([\n",
    "                       dcc.Graph(id=\"heatmap-graph\"),\n",
    "                       html.P(\"#datapoints:\"),\n",
    "                       dcc.RangeSlider(\n",
    "                           id='heatmap-x-range-slider',\n",
    "                           min=subplot1_data.num_datapoints_total.min(),\n",
    "                           max=subplot1_data.num_datapoints_total.max(),\n",
    "                           step=1000,\n",
    "                           value=[subplot1_data.num_datapoints_total.min(), 1_000, 10_000, subplot1_data.num_datapoints_total.max()]\n",
    "                           ),\n",
    "                       html.P(\"balance ratio:\"),\n",
    "                       dcc.RangeSlider(\n",
    "                            id='heatmap-y-range-slider',\n",
    "                            min=0, max=50, step=1,\n",
    "                            value=[0, 15, 30, 50]\n",
    "                            ),\n",
    "                       html.P(\"zmax:\"),\n",
    "                       dcc.Slider(\n",
    "                            id='heatmap-zmax-slider',\n",
    "                            min=0, max=1, step=0.1,\n",
    "                            value=1.0\n",
    "                            ),\n",
    "                       html.P(\"num datapoints (common)\"),\n",
    "                       dcc.RangeSlider(\n",
    "                            id='heatmap-binscommon-slider',\n",
    "                            min=subplot3_data.num_common_datapoints_total.min(),\n",
    "                            max=subplot3_data.num_common_datapoints_total.max(),\n",
    "                            step=10,\n",
    "                            value=[subplot3_data.num_common_datapoints_total.min(), 100, 500, subplot3_data.num_common_datapoints_total.max()]\n",
    "                            ),\n",
    "                       html.P(\"balance ratio (common)\"),\n",
    "                       dcc.RangeSlider(\n",
    "                            id='heatmap-balancecommon-slider',\n",
    "                            min=0, max=50, step=1,\n",
    "                            value=[0, 15, 30, 50]\n",
    "                            ),\n",
    "                       ])\n",
    "\n",
    "@app.callback(\n",
    "    Output(\"heatmap-graph\", \"figure\"),\n",
    "    [Input(\"heatmap-x-range-slider\", \"value\"),\n",
    "     Input(\"heatmap-y-range-slider\", \"value\"),\n",
    "     Input(\"heatmap-binscommon-slider\", \"value\"),\n",
    "     Input(\"heatmap-balancecommon-slider\", \"value\"),\n",
    "     Input(\"heatmap-zmax-slider\", \"value\"),\n",
    "     ])\n",
    "def update_diff_bar_chart(slider_x, slider_y, slider_x_common, slider_y_common, slider_zmax=1):\n",
    "    # Obtain data\n",
    "    global subplot1_data, subplot2_data, subplot3_data\n",
    "    subplot_data1 = subplot1_data.copy().drop(columns='accession')\n",
    "    subplot_data2 = subplot2_data.copy().drop(columns='accession')\n",
    "    subplot_data3 = subplot3_data.copy().drop(columns='accession')\n",
    "    # Slider values\n",
    "    min_x, low_x, high_x, max_x = slider_x\n",
    "    min_y, low_y, high_y, max_y = slider_y\n",
    "    \n",
    "    min_x_common, low_x_common, high_x_common, max_x_common = slider_x_common\n",
    "    min_y_common, low_y_common, high_y_common, max_y_common = slider_y_common\n",
    "    \n",
    "    # Obtain categories\n",
    "    intervals_num_datapoints = [(min_x - 0.1, low_x),\n",
    "                            (low_x, high_x),\n",
    "                            (high_x, max_x)]\n",
    "    intervals_ratio = [(min_y - 0.1, low_y),\n",
    "                       (low_y, high_y),\n",
    "                       (high_y, max_y)]\n",
    "    \n",
    "    intervals_num_datapoints_common = [(min_x_common - 0.1, low_x_common),\n",
    "                            (low_x_common, high_x_common),\n",
    "                            (high_x_common, max_x_common)]\n",
    "    intervals_ratio_common = [(min_y_common - 0.1, low_y_common),\n",
    "                       (low_y_common, high_y_common),\n",
    "                       (high_y_common, max_y_common)]\n",
    "    \n",
    "    num_intervals = pd.IntervalIndex.from_tuples(intervals_num_datapoints)\n",
    "    ratio_intervals = pd.IntervalIndex.from_tuples(intervals_ratio)\n",
    "    \n",
    "    num_intervals_common = pd.IntervalIndex.from_tuples(intervals_num_datapoints_common)\n",
    "    ratio_intervals_common = pd.IntervalIndex.from_tuples(intervals_ratio_common)\n",
    "\n",
    "    # Put data in bins\n",
    "    subplot_data1['num_bins'] = pd.cut(subplot_data1.num_datapoints_total.values, num_intervals)\n",
    "    subplot_data2['num_bins'] = pd.cut(subplot_data2.num_datapoints_total.values, num_intervals)\n",
    "    subplot_data3['num_bins'] = pd.cut(subplot_data3.num_common_datapoints_total.values, num_intervals_common)\n",
    "    subplot_data1['ratio_bins'] = pd.cut(subplot_data1.minority_percentage.values, ratio_intervals)\n",
    "    subplot_data2['ratio_bins'] = pd.cut(subplot_data2.minority_percentage.values, ratio_intervals)\n",
    "    subplot_data3['ratio_bins'] = pd.cut(subplot_data3.minority_percentage.values, ratio_intervals_common)\n",
    "    \n",
    "    # Rename intervals\n",
    "    subplot_data1['num_bins'] = subplot_data1['num_bins'].astype(str)#.cat.rename_categories(dict(zip(num_intervals, ['low', 'medium', 'high'])))\n",
    "    subplot_data2['num_bins'] = subplot_data2['num_bins'].astype(str)#.cat.rename_categories(dict(zip(num_intervals, ['low', 'medium', 'high'])))\n",
    "    subplot_data3['num_bins'] = subplot_data3['num_bins'].astype(str)#.cat.rename_categories(dict(zip(num_intervals, ['low', 'medium', 'high'])))\n",
    "    subplot_data1['ratio_bins'] = subplot_data1['ratio_bins'].astype(str)#.cat.rename_categories(dict(zip(ratio_intervals, ['low', 'medium', 'high'])))\n",
    "    subplot_data2['ratio_bins'] = subplot_data2['ratio_bins'].astype(str)#.cat.rename_categories(dict(zip(ratio_intervals, ['low', 'medium', 'high'])))\n",
    "    subplot_data3['ratio_bins'] = subplot_data3['ratio_bins'].astype(str)#.cat.rename_categories(dict(zip(ratio_intervals, ['low', 'medium', 'high'])))\n",
    "    # Clean up columns\n",
    "    subplot_data1 = subplot_data1.drop(columns=['num_datapoints_total', 'minority_percentage'])\n",
    "    subplot_data2 = subplot_data2.drop(columns=['num_datapoints_total', 'minority_percentage'])\n",
    "    subplot_data3 = subplot_data3.drop(columns=['num_common_datapoints_total', 'minority_percentage'])\n",
    "    \n",
    "    # Remove nan bins\n",
    "    subplot_data1 = subplot_data1[subplot_data1.num_bins != 'nan']\n",
    "    subplot_data2 = subplot_data2[subplot_data2.num_bins != 'nan']\n",
    "    subplot_data3 = subplot_data3[subplot_data3.num_bins != 'nan']\n",
    "    \n",
    "    # Group by, pivot and obtain difference\n",
    "    subplot_data1 = subplot_data1.groupby(['modeltype', 'num_bins', 'ratio_bins']).agg('mean').reset_index()\n",
    "    subplot_data1 = subplot_data1.pivot(columns=['num_bins'], values='Pearson r',\n",
    "                                      index=['modeltype', 'ratio_bins']).reset_index()\n",
    "    subplot_data1.iloc[np.where(subplot_data1.modeltype == 'QSAR')[0], 2:] = -subplot_data1.iloc[np.where(subplot_data1.modeltype == 'QSAR')[0], 2:]\n",
    "    subplot_data1 = subplot_data1.drop(columns='modeltype').groupby('ratio_bins').agg('sum')\n",
    "    # subplot_data1\n",
    "    \n",
    "    subplot_data2 = subplot_data2.groupby(['contains_mutants', 'num_bins', 'ratio_bins']).agg('mean').reset_index()\n",
    "    subplot_data2 = subplot_data2.pivot(columns=['num_bins'], values='Pearson r',\n",
    "                                      index=['contains_mutants', 'ratio_bins']).reset_index()\n",
    "    subplot_data2.iloc[np.where(~subplot_data2.contains_mutants)[0], 2:] = -subplot_data2.iloc[np.where(~subplot_data2.contains_mutants)[0], 2:]\n",
    "    subplot_data2 = subplot_data2.drop(columns='contains_mutants').groupby('ratio_bins').agg('sum')\n",
    "    # subplot_data2\n",
    "    \n",
    "    subplot_data3 = subplot_data3.groupby(['modeltype', 'num_bins', 'ratio_bins']).agg('mean').reset_index()\n",
    "    subplot_data3 = subplot_data3.pivot(columns=['num_bins'], values='Pearson r',\n",
    "                                      index=['modeltype', 'ratio_bins']).reset_index()\n",
    "    subplot_data3.iloc[np.where(subplot_data3.modeltype == 'QSAR')[0], 2:] = -subplot_data3.iloc[np.where(subplot_data3.modeltype == 'QSAR')[0], 2:]\n",
    "    subplot_data3 = subplot_data3.drop(columns='modeltype').groupby('ratio_bins').agg('sum')\n",
    "    # Melt dataframes \n",
    "    subplot_data1 = pd.melt(subplot_data1.reset_index(), id_vars=['ratio_bins']) \n",
    "    subplot_data2 = pd.melt(subplot_data2.reset_index(), id_vars=['ratio_bins'])\n",
    "    subplot_data3 = pd.melt(subplot_data3.reset_index(), id_vars=['ratio_bins'])\n",
    "\n",
    "    # Determine bins without values\n",
    "    # empty_ratio_bins = \n",
    "        \n",
    "    \n",
    "    # Rename intervals\n",
    "    subplot_data1['num_bins'] = subplot_data1['num_bins'].replace({str(num_intervals[0]): f'[{intervals_num_datapoints[0][0] + 0.1:.0f}, {intervals_num_datapoints[1][0]:.0f}]'})\n",
    "    subplot_data1['num_bins'] = subplot_data1['num_bins'].replace({str(num_intervals[1]): f'({intervals_num_datapoints[1][0]:.0f}, {intervals_num_datapoints[1][1]:.0f}]'})\n",
    "    subplot_data1['num_bins'] = subplot_data1['num_bins'].replace({str(num_intervals[2]): f'({intervals_num_datapoints[2][0]:.0f}, {intervals_num_datapoints[2][1]:.0f}]'})\n",
    "    subplot_data1['ratio_bins'] = subplot_data1['ratio_bins'].replace({str(ratio_intervals[0]): f'[{intervals_ratio[0][0]:.0f}, {intervals_ratio[0][1]:.0f}]'})\n",
    "    subplot_data1['ratio_bins'] = subplot_data1['ratio_bins'].replace({str(ratio_intervals[0]): f'({intervals_ratio[1][0]:.0f}, {intervals_ratio[1][1]:.0f}]'})\n",
    "    subplot_data1['ratio_bins'] = subplot_data1['ratio_bins'].replace({str(ratio_intervals[0]): f'({intervals_ratio[2][0]:.0f}, {intervals_ratio[2][1]:.0f}]'})\n",
    "    \n",
    "    subplot_data2['num_bins'] = subplot_data2['num_bins'].replace({str(num_intervals[0]): f'[{intervals_num_datapoints[0][0] + 0.1:.0f}, {intervals_num_datapoints[1][0]:.0f}]'})\n",
    "    subplot_data2['num_bins'] = subplot_data2['num_bins'].replace({str(num_intervals[1]): f'({intervals_num_datapoints[1][0]:.0f}, {intervals_num_datapoints[1][1]:.0f}]'})\n",
    "    subplot_data2['num_bins'] = subplot_data2['num_bins'].replace({str(num_intervals[2]): f'({intervals_num_datapoints[2][0]:.0f}, {intervals_num_datapoints[2][1]:.0f}]'})\n",
    "    subplot_data2['ratio_bins'] = subplot_data2['ratio_bins'].replace({str(ratio_intervals[0]): f'[{intervals_ratio[0][0]:.0f}, {intervals_ratio[0][1]:.0f}]'})\n",
    "    subplot_data2['ratio_bins'] = subplot_data2['ratio_bins'].replace({str(ratio_intervals[0]): f'({intervals_ratio[1][0]:.0f}, {intervals_ratio[1][1]:.0f}]'})\n",
    "    subplot_data2['ratio_bins'] = subplot_data2['ratio_bins'].replace({str(ratio_intervals[0]): f'({intervals_ratio[2][0]:.0f}, {intervals_ratio[2][1]:.0f}]'})\n",
    "    \n",
    "    subplot_data3['num_bins'] = subplot_data3['num_bins'].replace({str(num_intervals_common[0]): f'[{intervals_num_datapoints_common[0][0] + 0.1:.0f}, {intervals_num_datapoints_common[1][0]:.0f}]'})\n",
    "    subplot_data3['num_bins'] = subplot_data3['num_bins'].replace({str(num_intervals_common[1]): f'({intervals_num_datapoints_common[1][0]:.0f}, {intervals_num_datapoints_common[1][1]:.0f}]'})\n",
    "    subplot_data3['num_bins'] = subplot_data3['num_bins'].replace({str(num_intervals_common[2]): f'({intervals_num_datapoints_common[2][0]:.0f}, {intervals_num_datapoints_common[2][1]:.0f}]'})\n",
    "    subplot_data3['ratio_bins'] = subplot_data3['ratio_bins'].replace({str(ratio_intervals_common[0]): f'[{intervals_ratio_common[0][0]:.0f}, {intervals_ratio_common[0][1]:.0f}]'})\n",
    "    subplot_data3['ratio_bins'] = subplot_data3['ratio_bins'].replace({str(ratio_intervals_common[0]): f'({intervals_ratio_common[1][0]:.0f}, {intervals_ratio_common[1][1]:.0f}]'})\n",
    "    subplot_data3['ratio_bins'] = subplot_data3['ratio_bins'].replace({str(ratio_intervals_common[0]): f'({intervals_ratio_common[2][0]:.0f}, {intervals_ratio_common[2][1]:.0f}]'})\n",
    "    \n",
    "    # Determine zmax for colorbar\n",
    "    zmax = max((subplot_data1.value.max(),\n",
    "                subplot_data2.value.max(),\n",
    "                subplot_data3.value.max()))\n",
    "    \n",
    "    # Figure\n",
    "    fig = make_subplots(rows=1, cols=3,\n",
    "                        shared_yaxes=True,\n",
    "                        subplot_titles=['PCM complete - QSAR complete', 'QSAR complete - QSAR no mutant', 'PCM common - QSAR common'],\n",
    "                       )\n",
    "    \n",
    "    fig.add_trace(go.Heatmap(x=subplot_data1.num_bins, y=subplot_data1.ratio_bins, z=subplot_data1.value, \n",
    "                             zmin=0, zmax=slider_zmax,\n",
    "                             showscale=False,\n",
    "                             colorscale='RdYlGn',\n",
    "                             ),\n",
    "                  row=1, col=1)\n",
    "    \n",
    "    fig.add_trace(go.Heatmap(x=subplot_data2.num_bins, y=subplot_data2.ratio_bins, z=subplot_data2.value,\n",
    "                             zmin=0, zmax=slider_zmax,\n",
    "                             showscale=False,\n",
    "                             colorscale='RdYlGn',\n",
    "                             ),\n",
    "                  row=1, col=2)\n",
    "    \n",
    "    fig.add_trace(go.Heatmap(x=subplot_data3.num_bins, y=subplot_data3.ratio_bins, z=subplot_data3.value,\n",
    "                             zmin=0, zmax=slider_zmax,\n",
    "                             colorscale='RdYlGn',\n",
    "                             colorbar={\"title\": 'd(Pearson r)'}\n",
    "                             ),\n",
    "                  row=1, col=3)\n",
    "    # Add title\n",
    "    fig.update_layout({'xaxis': {'categoryarray': [f'[{intervals_num_datapoints[0][0] + 0.1:.0f}, {intervals_num_datapoints[1][0]:.0f}]',\n",
    "                                                   f'({intervals_num_datapoints[1][0]:.0f}, {intervals_num_datapoints[1][1]:.0f}]',\n",
    "                                                   f'({intervals_num_datapoints[2][0]:.0f}, {intervals_num_datapoints[2][1]:.0f}]'],\n",
    "                                 'title': '#compound-target pairs per accession'},\n",
    "                       'xaxis2': {'categoryarray': [f'[{intervals_num_datapoints[0][0] + 0.1:.0f}, {intervals_num_datapoints[1][0]:.0f}]',\n",
    "                                                   f'({intervals_num_datapoints[1][0]:.0f}, {intervals_num_datapoints[1][1]:.0f}]',\n",
    "                                                   f'({intervals_num_datapoints[2][0]:.0f}, {intervals_num_datapoints[2][1]:.0f}]'],\n",
    "                                 'title': '#compound-target pairs per accession'},\n",
    "                       'xaxis3': {'categoryarray': [f'[{intervals_num_datapoints_common[0][0] + 0.1:.0f}, {intervals_num_datapoints_common[1][0]:.0f}]',\n",
    "                                                   f'({intervals_num_datapoints_common[1][0]:.0f}, {intervals_num_datapoints_common[1][1]:.0f}]',\n",
    "                                                   f'({intervals_num_datapoints_common[2][0]:.0f}, {intervals_num_datapoints_common[2][1]:.0f}]'],\n",
    "                                 'title': '#compound-target pairs per accession'},\n",
    "                       'yaxis': {'title': 'Minority class (WT/mutant) %'},\n",
    "                       })\n",
    "\n",
    "    fig.update_traces(row=1, col=1, text=subplot_data1.value, texttemplate=\"%{text:.3f}\", hovertemplate=None)\n",
    "    fig.update_traces(row=1, col=2, text=subplot_data2.value, texttemplate=\"%{text:.3f}\", hovertemplate=None)\n",
    "    fig.update_traces(row=1, col=3, text=subplot_data3.value, texttemplate=\"%{text:.3f}\", hovertemplate=None)\n",
    "\n",
    "    fig.update_layout(autosize=False, width=1050, height=430)\n",
    "\n",
    "        \n",
    "    return fig\n",
    "\n",
    "if __name__ == '__main__':\n",
    "    app.run_server(debug=False)"
   ]
  },
  {
   "cell_type": "markdown",
   "id": "2f3c6971e57f02b3",
   "metadata": {},
   "source": [
    "Export heatmaps to SVG "
   ]
  },
  {
   "cell_type": "code",
   "execution_count": 13,
   "id": "bc8d948d-a06c-4171-a064-a28bbf01f11b",
   "metadata": {
    "ExecuteTime": {
     "end_time": "2023-09-13T09:28:53.220272100Z",
     "start_time": "2023-09-13T09:28:52.891046100Z"
    }
   },
   "outputs": [],
   "source": [
    "USE_PERCENTILE = True"
   ]
  },
  {
   "cell_type": "code",
   "execution_count": 14,
   "id": "c3fe7b34-e962-43ec-b4e0-d9e85b472111",
   "metadata": {
    "ExecuteTime": {
     "end_time": "2023-09-13T09:28:53.347274200Z",
     "start_time": "2023-09-13T09:28:53.117276300Z"
    }
   },
   "outputs": [],
   "source": [
    "if not os.path.exists(os.path.join(modelling_data_dir, 'heatmaps')):\n",
    "    os.makedirs(os.path.join(os.path.join(modelling_data_dir, 'heatmaps')), exist_ok=True)"
   ]
  },
  {
   "cell_type": "code",
   "execution_count": 78,
   "id": "25573e83-36d0-4106-9b89-878889e29cc0",
   "metadata": {
    "ExecuteTime": {
     "end_time": "2023-09-13T09:28:58.221169300Z",
     "start_time": "2023-09-13T09:28:53.347274200Z"
    }
   },
   "outputs": [
    {
     "data": {
      "image/svg+xml": [
       "<svg xmlns=\"http://www.w3.org/2000/svg\" xmlns:xlink=\"http://www.w3.org/1999/xlink\" class=\"main-svg\" width=\"1050\" height=\"430\" style=\"\" viewBox=\"0 0 1050 430\"><rect x=\"0\" y=\"0\" width=\"1050\" height=\"430\" style=\"fill: rgb(255, 255, 255); fill-opacity: 1;\"/><defs id=\"defs-2f6a3d\"><g class=\"clips\"><clipPath id=\"clip2f6a3dxyplot\" class=\"plotclip\"><rect width=\"231.68888888888893\" height=\"250\"/></clipPath><clipPath id=\"clip2f6a3dx2y2plot\" class=\"plotclip\"><rect width=\"231.68888888888893\" height=\"250\"/></clipPath><clipPath id=\"clip2f6a3dx3y3plot\" class=\"plotclip\"><rect width=\"231.68888888888887\" height=\"250\"/></clipPath><clipPath class=\"axesclip\" id=\"clip2f6a3dx\"><rect x=\"112\" y=\"0\" width=\"231.68888888888893\" height=\"430\"/></clipPath><clipPath class=\"axesclip\" id=\"clip2f6a3dy\"><rect x=\"0\" y=\"100\" width=\"1050\" height=\"250\"/></clipPath><clipPath class=\"axesclip\" id=\"clip2f6a3dxy\"><rect x=\"112\" y=\"100\" width=\"231.68888888888893\" height=\"250\"/></clipPath><clipPath class=\"axesclip\" id=\"clip2f6a3dy2\"><rect x=\"0\" y=\"100\" width=\"1050\" height=\"250\"/></clipPath><clipPath class=\"axesclip\" id=\"clip2f6a3dxy2\"><rect x=\"112\" y=\"100\" width=\"231.68888888888893\" height=\"250\"/></clipPath><clipPath class=\"axesclip\" id=\"clip2f6a3dy3\"><rect x=\"0\" y=\"100\" width=\"1050\" height=\"250\"/></clipPath><clipPath class=\"axesclip\" id=\"clip2f6a3dxy3\"><rect x=\"112\" y=\"100\" width=\"231.68888888888893\" height=\"250\"/></clipPath><clipPath class=\"axesclip\" id=\"clip2f6a3dx2\"><rect x=\"397.15555555555557\" y=\"0\" width=\"231.68888888888893\" height=\"430\"/></clipPath><clipPath class=\"axesclip\" id=\"clip2f6a3dx2y\"><rect x=\"397.15555555555557\" y=\"100\" width=\"231.68888888888893\" height=\"250\"/></clipPath><clipPath class=\"axesclip\" id=\"clip2f6a3dx2y2\"><rect x=\"397.15555555555557\" y=\"100\" width=\"231.68888888888893\" height=\"250\"/></clipPath><clipPath class=\"axesclip\" id=\"clip2f6a3dx2y3\"><rect x=\"397.15555555555557\" y=\"100\" width=\"231.68888888888893\" height=\"250\"/></clipPath><clipPath class=\"axesclip\" id=\"clip2f6a3dx3\"><rect x=\"682.3111111111111\" y=\"0\" width=\"231.68888888888887\" height=\"430\"/></clipPath><clipPath class=\"axesclip\" id=\"clip2f6a3dx3y\"><rect x=\"682.3111111111111\" y=\"100\" width=\"231.68888888888887\" height=\"250\"/></clipPath><clipPath class=\"axesclip\" id=\"clip2f6a3dx3y2\"><rect x=\"682.3111111111111\" y=\"100\" width=\"231.68888888888887\" height=\"250\"/></clipPath><clipPath class=\"axesclip\" id=\"clip2f6a3dx3y3\"><rect x=\"682.3111111111111\" y=\"100\" width=\"231.68888888888887\" height=\"250\"/></clipPath></g><g class=\"gradients\"><linearGradient x1=\"0\" x2=\"0\" y1=\"1\" y2=\"0\" id=\"g2f6a3d-cbae2a27\"><stop offset=\"0%\" stop-color=\"rgb(165, 0, 38)\" stop-opacity=\"1\"/><stop offset=\"10%\" stop-color=\"rgb(215, 48, 39)\" stop-opacity=\"1\"/><stop offset=\"20%\" stop-color=\"rgb(244, 109, 67)\" stop-opacity=\"1\"/><stop offset=\"30%\" stop-color=\"rgb(253, 174, 97)\" stop-opacity=\"1\"/><stop offset=\"40%\" stop-color=\"rgb(254, 224, 139)\" stop-opacity=\"1\"/><stop offset=\"50%\" stop-color=\"rgb(255, 255, 191)\" stop-opacity=\"1\"/><stop offset=\"60%\" stop-color=\"rgb(217, 239, 139)\" stop-opacity=\"1\"/><stop offset=\"70%\" stop-color=\"rgb(166, 217, 106)\" stop-opacity=\"1\"/><stop offset=\"80%\" stop-color=\"rgb(102, 189, 99)\" stop-opacity=\"1\"/><stop offset=\"90%\" stop-color=\"rgb(26, 152, 80)\" stop-opacity=\"1\"/><stop offset=\"100%\" stop-color=\"rgb(0, 104, 55)\" stop-opacity=\"1\"/></linearGradient></g><g class=\"patterns\"/></defs><g class=\"bglayer\"><rect class=\"bg\" x=\"112\" y=\"100\" width=\"231.68888888888893\" height=\"250\" style=\"fill: rgb(229, 236, 246); fill-opacity: 1; stroke-width: 0;\"/><rect class=\"bg\" x=\"397.15555555555557\" y=\"100\" width=\"231.68888888888893\" height=\"250\" style=\"fill: rgb(229, 236, 246); fill-opacity: 1; stroke-width: 0;\"/><rect class=\"bg\" x=\"682.3111111111111\" y=\"100\" width=\"231.68888888888887\" height=\"250\" style=\"fill: rgb(229, 236, 246); fill-opacity: 1; stroke-width: 0;\"/></g><g class=\"layer-below\"><g class=\"imagelayer\"/><g class=\"shapelayer\"/></g><g class=\"cartesianlayer\"><g class=\"subplot xy\"><g class=\"layer-subplot\"><g class=\"shapelayer\"/><g class=\"imagelayer\"/></g><g class=\"minor-gridlayer\"><g class=\"x\"/><g class=\"y\"/></g><g class=\"gridlayer\"><g class=\"x\"><path class=\"xgrid crisp\" transform=\"translate(150.61,0)\" d=\"M0,100v250\" style=\"stroke: rgb(255, 255, 255); stroke-opacity: 1; stroke-width: 1px;\"/><path class=\"xgrid crisp\" transform=\"translate(227.84,0)\" d=\"M0,100v250\" style=\"stroke: rgb(255, 255, 255); stroke-opacity: 1; stroke-width: 1px;\"/><path class=\"xgrid crisp\" transform=\"translate(305.07,0)\" d=\"M0,100v250\" style=\"stroke: rgb(255, 255, 255); stroke-opacity: 1; stroke-width: 1px;\"/></g><g class=\"y\"><path class=\"ygrid crisp\" transform=\"translate(0,308.33000000000004)\" d=\"M112,0h231.68888888888893\" style=\"stroke: rgb(255, 255, 255); stroke-opacity: 1; stroke-width: 1px;\"/><path class=\"ygrid crisp\" transform=\"translate(0,225)\" d=\"M112,0h231.68888888888893\" style=\"stroke: rgb(255, 255, 255); stroke-opacity: 1; stroke-width: 1px;\"/><path class=\"ygrid crisp\" transform=\"translate(0,141.67000000000002)\" d=\"M112,0h231.68888888888893\" style=\"stroke: rgb(255, 255, 255); stroke-opacity: 1; stroke-width: 1px;\"/></g></g><g class=\"zerolinelayer\"/><path class=\"xlines-below\"/><path class=\"ylines-below\"/><g class=\"overlines-below\"/><g class=\"xaxislayer-below\"/><g class=\"yaxislayer-below\"/><g class=\"overaxes-below\"/><g class=\"plot\" transform=\"translate(112,100)\" clip-path=\"url(#clip2f6a3dxyplot)\"><g class=\"heatmaplayer mlayer\"><g class=\"hm\"><image xmlns=\"http://www.w3.org/2000/svg\" preserveAspectRatio=\"none\" height=\"250\" width=\"232\" x=\"0\" y=\"0\" xlink:href=\"data:image/png;base64,iVBORw0KGgoAAAANSUhEUgAAAAMAAAADCAYAAABWKLW/AAAAMklEQVQYVwEnANj/Ae9iPv8PZzoAx1avAAH7n1r/1YrNABsxEwABuRQm//f3AAD7+wAASKIQYhP9recAAAAASUVORK5CYII=\" style=\"image-rendering: pixelated; opacity: 1;\"/><g class=\"heatmap-label\"><text text-anchor=\"middle\" data-notex=\"1\" x=\"39\" y=\"212.2\" style=\"font-family: 'Open Sans', verdana, arial, sans-serif; font-size: 12px; fill: rgb(255, 255, 255); fill-opacity: 1; white-space: pre;\">0.012</text></g><g class=\"heatmap-label\"><text text-anchor=\"middle\" data-notex=\"1\" x=\"116\" y=\"212.2\" style=\"font-family: 'Open Sans', verdana, arial, sans-serif; font-size: 12px; fill: rgb(255, 255, 255); fill-opacity: 1; white-space: pre;\">0.007</text></g><g class=\"heatmap-label\"><text text-anchor=\"middle\" data-notex=\"1\" x=\"193\" y=\"212.2\" style=\"font-family: 'Open Sans', verdana, arial, sans-serif; font-size: 12px; fill: rgb(255, 255, 255); fill-opacity: 1; white-space: pre;\">0.004</text></g><g class=\"heatmap-label\"><text text-anchor=\"middle\" data-notex=\"1\" x=\"39\" y=\"129.2\" style=\"font-family: 'Open Sans', verdana, arial, sans-serif; font-size: 12px; fill: rgb(68, 68, 68); fill-opacity: 1; white-space: pre;\">0.083</text></g><g class=\"heatmap-label\"><text text-anchor=\"middle\" data-notex=\"1\" x=\"116\" y=\"129.2\" style=\"font-family: 'Open Sans', verdana, arial, sans-serif; font-size: 12px; fill: rgb(255, 255, 255); fill-opacity: 1; white-space: pre;\">0.026</text></g><g class=\"heatmap-label\"><text text-anchor=\"middle\" data-notex=\"1\" x=\"193\" y=\"129.2\" style=\"font-family: 'Open Sans', verdana, arial, sans-serif; font-size: 12px; fill: rgb(68, 68, 68); fill-opacity: 1; white-space: pre;\">0.050</text></g><g class=\"heatmap-label\"><text text-anchor=\"middle\" data-notex=\"1\" x=\"39\" y=\"46.2\" style=\"font-family: 'Open Sans', verdana, arial, sans-serif; font-size: 12px; fill: rgb(68, 68, 68); fill-opacity: 1; white-space: pre;\">0.054</text></g><g class=\"heatmap-label\"><text text-anchor=\"middle\" data-notex=\"1\" x=\"116\" y=\"46.2\" style=\"font-family: 'Open Sans', verdana, arial, sans-serif; font-size: 12px; fill: rgb(68, 68, 68); fill-opacity: 1; white-space: pre;\">0.106</text></g><g class=\"heatmap-label\"><text text-anchor=\"middle\" data-notex=\"1\" x=\"193\" y=\"46.2\" style=\"font-family: 'Open Sans', verdana, arial, sans-serif; font-size: 12px; fill: rgb(255, 255, 255); fill-opacity: 1; white-space: pre;\">0.019</text></g></g></g></g><g class=\"overplot\"/><path class=\"xlines-above crisp\" style=\"fill: none;\" d=\"M0,0\"/><path class=\"ylines-above crisp\" style=\"fill: none;\" d=\"M0,0\"/><g class=\"overlines-above\"/><g class=\"xaxislayer-above\"><g class=\"xtick\"><text text-anchor=\"middle\" x=\"0\" y=\"363\" transform=\"translate(150.61,0)\" style=\"font-family: 'Open Sans', verdana, arial, sans-serif; font-size: 12px; fill: rgb(42, 63, 95); fill-opacity: 1; white-space: pre; opacity: 1;\">[0, 198]</text></g><g class=\"xtick\"><text text-anchor=\"middle\" x=\"0\" y=\"363\" transform=\"translate(227.84,0)\" style=\"font-family: 'Open Sans', verdana, arial, sans-serif; font-size: 12px; fill: rgb(42, 63, 95); fill-opacity: 1; white-space: pre; opacity: 1;\">(198, 694]</text></g><g class=\"xtick\"><text text-anchor=\"middle\" x=\"0\" y=\"363\" transform=\"translate(305.07,0)\" style=\"font-family: 'Open Sans', verdana, arial, sans-serif; font-size: 12px; fill: rgb(42, 63, 95); fill-opacity: 1; white-space: pre; opacity: 1;\">(694, 20056]</text></g></g><g class=\"yaxislayer-above\"><g class=\"ytick\"><text text-anchor=\"end\" x=\"111\" y=\"4.199999999999999\" transform=\"translate(0,308.33000000000004)\" style=\"font-family: 'Open Sans', verdana, arial, sans-serif; font-size: 12px; fill: rgb(42, 63, 95); fill-opacity: 1; white-space: pre; opacity: 1;\">[-0, 15]</text></g><g class=\"ytick\"><text text-anchor=\"end\" x=\"111\" y=\"4.199999999999999\" transform=\"translate(0,225)\" style=\"font-family: 'Open Sans', verdana, arial, sans-serif; font-size: 12px; fill: rgb(42, 63, 95); fill-opacity: 1; white-space: pre; opacity: 1;\">(15.0, 30.0]</text></g><g class=\"ytick\"><text text-anchor=\"end\" x=\"111\" y=\"4.199999999999999\" transform=\"translate(0,141.67000000000002)\" style=\"font-family: 'Open Sans', verdana, arial, sans-serif; font-size: 12px; fill: rgb(42, 63, 95); fill-opacity: 1; white-space: pre; opacity: 1;\">(30.0, 50.0]</text></g></g><g class=\"overaxes-above\"/></g><g class=\"subplot x2y2\"><g class=\"layer-subplot\"><g class=\"shapelayer\"/><g class=\"imagelayer\"/></g><g class=\"minor-gridlayer\"><g class=\"x2\"/><g class=\"y2\"/></g><g class=\"gridlayer\"><g class=\"x2\"><path class=\"x2grid crisp\" transform=\"translate(435.7655555555556,0)\" d=\"M0,100v250\" style=\"stroke: rgb(255, 255, 255); stroke-opacity: 1; stroke-width: 1px;\"/><path class=\"x2grid crisp\" transform=\"translate(512.9955555555556,0)\" d=\"M0,100v250\" style=\"stroke: rgb(255, 255, 255); stroke-opacity: 1; stroke-width: 1px;\"/><path class=\"x2grid crisp\" transform=\"translate(590.2255555555555,0)\" d=\"M0,100v250\" style=\"stroke: rgb(255, 255, 255); stroke-opacity: 1; stroke-width: 1px;\"/></g><g class=\"y2\"><path class=\"y2grid crisp\" transform=\"translate(0,308.33000000000004)\" d=\"M397.15555555555557,0h231.68888888888893\" style=\"stroke: rgb(255, 255, 255); stroke-opacity: 1; stroke-width: 1px;\"/><path class=\"y2grid crisp\" transform=\"translate(0,225)\" d=\"M397.15555555555557,0h231.68888888888893\" style=\"stroke: rgb(255, 255, 255); stroke-opacity: 1; stroke-width: 1px;\"/><path class=\"y2grid crisp\" transform=\"translate(0,141.67000000000002)\" d=\"M397.15555555555557,0h231.68888888888893\" style=\"stroke: rgb(255, 255, 255); stroke-opacity: 1; stroke-width: 1px;\"/></g></g><g class=\"zerolinelayer\"/><path class=\"xlines-below\"/><path class=\"ylines-below\"/><g class=\"overlines-below\"/><g class=\"xaxislayer-below\"/><g class=\"yaxislayer-below\"/><g class=\"overaxes-below\"/><g class=\"plot\" transform=\"translate(397.15555555555557,100)\" clip-path=\"url(#clip2f6a3dx2y2plot)\"><g class=\"heatmaplayer mlayer\"><g class=\"hm\"><image xmlns=\"http://www.w3.org/2000/svg\" preserveAspectRatio=\"none\" height=\"250\" width=\"232\" x=\"0\" y=\"0\" xlink:href=\"data:image/png;base64,iVBORw0KGgoAAAANSUhEUgAAAAMAAAADCAYAAABWKLW/AAAAK0lEQVQYV2P80Rv0n4mXjeHGpPMMjLfMtf6fPvmHAQQYj8qp/3/w6D+YAwA6pQ68pPxvkgAAAABJRU5ErkJggg==\" style=\"image-rendering: pixelated; opacity: 1;\"/><g class=\"heatmap-label\"><text text-anchor=\"middle\" data-notex=\"1\" x=\"39\" y=\"212.2\" style=\"font-family: 'Open Sans', verdana, arial, sans-serif; font-size: 12px; fill: rgb(255, 255, 255); fill-opacity: 1; white-space: pre;\">0.019</text></g><g class=\"heatmap-label\"><text text-anchor=\"middle\" data-notex=\"1\" x=\"116\" y=\"212.2\" style=\"font-family: 'Open Sans', verdana, arial, sans-serif; font-size: 12px; fill: rgb(255, 255, 255); fill-opacity: 1; white-space: pre;\">-0.009</text></g><g class=\"heatmap-label\"><text text-anchor=\"middle\" data-notex=\"1\" x=\"193\" y=\"212.2\" style=\"font-family: 'Open Sans', verdana, arial, sans-serif; font-size: 12px; fill: rgb(255, 255, 255); fill-opacity: 1; white-space: pre;\">-0.003</text></g><g class=\"heatmap-label\"><text text-anchor=\"middle\" data-notex=\"1\" x=\"39\" y=\"129.2\" style=\"font-family: 'Open Sans', verdana, arial, sans-serif; font-size: 12px; fill: rgb(255, 255, 255); fill-opacity: 1; white-space: pre;\">0.033</text></g><g class=\"heatmap-label\"><text text-anchor=\"middle\" data-notex=\"1\" x=\"116\" y=\"129.2\" style=\"font-family: 'Open Sans', verdana, arial, sans-serif; font-size: 12px; fill: rgb(255, 255, 255); fill-opacity: 1; white-space: pre;\">-0.029</text></g><g class=\"heatmap-label\"><text text-anchor=\"middle\" data-notex=\"1\" x=\"193\" y=\"129.2\" style=\"font-family: 'Open Sans', verdana, arial, sans-serif; font-size: 12px; fill: rgb(255, 255, 255); fill-opacity: 1; white-space: pre;\">-0.068</text></g><g class=\"heatmap-label\"><text text-anchor=\"middle\" data-notex=\"1\" x=\"39\" y=\"46.2\" style=\"font-family: 'Open Sans', verdana, arial, sans-serif; font-size: 12px; fill: rgb(68, 68, 68); fill-opacity: 1; white-space: pre;\">0.075</text></g><g class=\"heatmap-label\"><text text-anchor=\"middle\" data-notex=\"1\" x=\"116\" y=\"46.2\" style=\"font-family: 'Open Sans', verdana, arial, sans-serif; font-size: 12px; fill: rgb(68, 68, 68); fill-opacity: 1; white-space: pre;\">0.081</text></g><g class=\"heatmap-label\"><text text-anchor=\"middle\" data-notex=\"1\" x=\"193\" y=\"46.2\" style=\"font-family: 'Open Sans', verdana, arial, sans-serif; font-size: 12px; fill: rgb(255, 255, 255); fill-opacity: 1; white-space: pre;\">0.027</text></g></g></g></g><g class=\"overplot\"/><path class=\"xlines-above crisp\" style=\"fill: none;\" d=\"M0,0\"/><path class=\"ylines-above crisp\" style=\"fill: none;\" d=\"M0,0\"/><g class=\"overlines-above\"/><g class=\"xaxislayer-above\"><g class=\"x2tick\"><text text-anchor=\"middle\" x=\"0\" y=\"363\" transform=\"translate(435.7655555555556,0)\" style=\"font-family: 'Open Sans', verdana, arial, sans-serif; font-size: 12px; fill: rgb(42, 63, 95); fill-opacity: 1; white-space: pre; opacity: 1;\">[0, 198]</text></g><g class=\"x2tick\"><text text-anchor=\"middle\" x=\"0\" y=\"363\" transform=\"translate(512.9955555555556,0)\" style=\"font-family: 'Open Sans', verdana, arial, sans-serif; font-size: 12px; fill: rgb(42, 63, 95); fill-opacity: 1; white-space: pre; opacity: 1;\">(198, 694]</text></g><g class=\"x2tick\"><text text-anchor=\"middle\" x=\"0\" y=\"363\" transform=\"translate(590.2255555555555,0)\" style=\"font-family: 'Open Sans', verdana, arial, sans-serif; font-size: 12px; fill: rgb(42, 63, 95); fill-opacity: 1; white-space: pre; opacity: 1;\">(694, 20056]</text></g></g><g class=\"yaxislayer-above\"/><g class=\"overaxes-above\"/></g><g class=\"subplot x3y3\"><g class=\"layer-subplot\"><g class=\"shapelayer\"/><g class=\"imagelayer\"/></g><g class=\"minor-gridlayer\"><g class=\"x3\"/><g class=\"y3\"/></g><g class=\"gridlayer\"><g class=\"x3\"><path class=\"x3grid crisp\" transform=\"translate(720.9211111111111,0)\" d=\"M0,100v250\" style=\"stroke: rgb(255, 255, 255); stroke-opacity: 1; stroke-width: 1px;\"/><path class=\"x3grid crisp\" transform=\"translate(798.1511111111112,0)\" d=\"M0,100v250\" style=\"stroke: rgb(255, 255, 255); stroke-opacity: 1; stroke-width: 1px;\"/><path class=\"x3grid crisp\" transform=\"translate(875.3811111111111,0)\" d=\"M0,100v250\" style=\"stroke: rgb(255, 255, 255); stroke-opacity: 1; stroke-width: 1px;\"/></g><g class=\"y3\"><path class=\"y3grid crisp\" transform=\"translate(0,308.33000000000004)\" d=\"M682.3111111111111,0h231.68888888888887\" style=\"stroke: rgb(255, 255, 255); stroke-opacity: 1; stroke-width: 1px;\"/><path class=\"y3grid crisp\" transform=\"translate(0,225)\" d=\"M682.3111111111111,0h231.68888888888887\" style=\"stroke: rgb(255, 255, 255); stroke-opacity: 1; stroke-width: 1px;\"/><path class=\"y3grid crisp\" transform=\"translate(0,141.67000000000002)\" d=\"M682.3111111111111,0h231.68888888888887\" style=\"stroke: rgb(255, 255, 255); stroke-opacity: 1; stroke-width: 1px;\"/></g></g><g class=\"zerolinelayer\"/><path class=\"xlines-below\"/><path class=\"ylines-below\"/><g class=\"overlines-below\"/><g class=\"xaxislayer-below\"/><g class=\"yaxislayer-below\"/><g class=\"overaxes-below\"/><g class=\"plot\" transform=\"translate(682.3111111111111,100)\" clip-path=\"url(#clip2f6a3dx3y3plot)\"><g class=\"heatmaplayer mlayer\"><g class=\"hm\"><image xmlns=\"http://www.w3.org/2000/svg\" preserveAspectRatio=\"none\" height=\"250\" width=\"232\" x=\"0\" y=\"0\" xlink:href=\"data:image/png;base64,iVBORw0KGgoAAAANSUhEUgAAAAMAAAADCAYAAABWKLW/AAAAMklEQVQYVwEnANj/AcIcJ/+koTwAiTtHAAGlACb/WeRrAAiPrAAB/bZn//9IVACu3bIAK5AQOrNFPqoAAAAASUVORK5CYII=\" style=\"image-rendering: pixelated; opacity: 1;\"/><g class=\"heatmap-label\"><text text-anchor=\"middle\" data-notex=\"1\" x=\"39\" y=\"212.2\" style=\"font-family: 'Open Sans', verdana, arial, sans-serif; font-size: 12px; fill: rgb(68, 68, 68); fill-opacity: 1; white-space: pre;\">0.095</text></g><g class=\"heatmap-label\"><text text-anchor=\"middle\" data-notex=\"1\" x=\"116\" y=\"212.2\" style=\"font-family: 'Open Sans', verdana, arial, sans-serif; font-size: 12px; fill: rgb(68, 68, 68); fill-opacity: 1; white-space: pre;\">0.152</text></g><g class=\"heatmap-label\"><text text-anchor=\"middle\" data-notex=\"1\" x=\"193\" y=\"212.2\" style=\"font-family: 'Open Sans', verdana, arial, sans-serif; font-size: 12px; fill: rgb(68, 68, 68); fill-opacity: 1; white-space: pre;\">0.208</text></g><g class=\"heatmap-label\"><text text-anchor=\"middle\" data-notex=\"1\" x=\"39\" y=\"129.2\" style=\"font-family: 'Open Sans', verdana, arial, sans-serif; font-size: 12px; fill: rgb(255, 255, 255); fill-opacity: 1; white-space: pre;\">0.000</text></g><g class=\"heatmap-label\"><text text-anchor=\"middle\" data-notex=\"1\" x=\"116\" y=\"129.2\" style=\"font-family: 'Open Sans', verdana, arial, sans-serif; font-size: 12px; fill: rgb(68, 68, 68); fill-opacity: 1; white-space: pre;\">0.124</text></g><g class=\"heatmap-label\"><text text-anchor=\"middle\" data-notex=\"1\" x=\"193\" y=\"129.2\" style=\"font-family: 'Open Sans', verdana, arial, sans-serif; font-size: 12px; fill: rgb(255, 255, 255); fill-opacity: 1; white-space: pre;\">0.293</text></g><g class=\"heatmap-label\"><text text-anchor=\"middle\" data-notex=\"1\" x=\"39\" y=\"46.2\" style=\"font-family: 'Open Sans', verdana, arial, sans-serif; font-size: 12px; fill: rgb(255, 255, 255); fill-opacity: 1; white-space: pre;\">0.018</text></g><g class=\"heatmap-label\"><text text-anchor=\"middle\" data-notex=\"1\" x=\"116\" y=\"46.2\" style=\"font-family: 'Open Sans', verdana, arial, sans-serif; font-size: 12px; fill: rgb(68, 68, 68); fill-opacity: 1; white-space: pre;\">0.240</text></g><g class=\"heatmap-label\"><text text-anchor=\"middle\" data-notex=\"1\" x=\"193\" y=\"46.2\" style=\"font-family: 'Open Sans', verdana, arial, sans-serif; font-size: 12px; fill: rgb(68, 68, 68); fill-opacity: 1; white-space: pre;\">0.162</text></g></g></g></g><g class=\"overplot\"/><path class=\"xlines-above crisp\" style=\"fill: none;\" d=\"M0,0\"/><path class=\"ylines-above crisp\" style=\"fill: none;\" d=\"M0,0\"/><g class=\"overlines-above\"/><g class=\"xaxislayer-above\"><g class=\"x3tick\"><text text-anchor=\"middle\" x=\"0\" y=\"363\" transform=\"translate(720.9211111111111,0)\" style=\"font-family: 'Open Sans', verdana, arial, sans-serif; font-size: 12px; fill: rgb(42, 63, 95); fill-opacity: 1; white-space: pre; opacity: 1;\">[0, 13]</text></g><g class=\"x3tick\"><text text-anchor=\"middle\" x=\"0\" y=\"363\" transform=\"translate(798.1511111111112,0)\" style=\"font-family: 'Open Sans', verdana, arial, sans-serif; font-size: 12px; fill: rgb(42, 63, 95); fill-opacity: 1; white-space: pre; opacity: 1;\">(13, 33]</text></g><g class=\"x3tick\"><text text-anchor=\"middle\" x=\"0\" y=\"363\" transform=\"translate(875.3811111111111,0)\" style=\"font-family: 'Open Sans', verdana, arial, sans-serif; font-size: 12px; fill: rgb(42, 63, 95); fill-opacity: 1; white-space: pre; opacity: 1;\">(33, 2854]</text></g></g><g class=\"yaxislayer-above\"/><g class=\"overaxes-above\"/></g></g><g class=\"polarlayer\"/><g class=\"smithlayer\"/><g class=\"ternarylayer\"/><g class=\"geolayer\"/><g class=\"funnelarealayer\"/><g class=\"pielayer\"/><g class=\"iciclelayer\"/><g class=\"treemaplayer\"/><g class=\"sunburstlayer\"/><g class=\"glimages\"/><defs id=\"topdefs-2f6a3d\"><g class=\"clips\"/></defs><g class=\"layer-above\"><g class=\"imagelayer\"/><g class=\"shapelayer\"/></g><g class=\"infolayer\"><g class=\"cbae2a27 colorbar\" transform=\"translate(112,100)\"><rect class=\"cbbg\" x=\"818\" y=\"0\" width=\"107.859375\" height=\"250\" style=\"fill: rgb(0, 0, 0); fill-opacity: 0; stroke: rgb(68, 68, 68); stroke-opacity: 1; stroke-width: 0;\"/><g class=\"cbfills\" transform=\"translate(0,33)\"><rect class=\"cbfill gradient_filled\" style=\"fill: url('#g2f6a3d-cbae2a27');\" x=\"828\" y=\"0\" width=\"30\" height=\"207\"/></g><g class=\"cblines\" transform=\"translate(0,33)\"/><g class=\"cbaxis crisp\" transform=\"translate(0,-100)\"><g class=\"ycbae2a27tick\"><text text-anchor=\"start\" x=\"860.9\" y=\"4.199999999999999\" transform=\"translate(0,339.999375)\" style=\"font-family: 'Open Sans', verdana, arial, sans-serif; font-size: 12px; fill: rgb(42, 63, 95); fill-opacity: 1; white-space: pre; opacity: 1;\">0</text></g><g class=\"ycbae2a27tick\"><text text-anchor=\"start\" x=\"860.9\" y=\"4.199999999999999\" style=\"font-family: 'Open Sans', verdana, arial, sans-serif; font-size: 12px; fill: rgb(42, 63, 95); fill-opacity: 1; white-space: pre; opacity: 1;\" transform=\"translate(0,305.43937500000004)\">0.05</text></g><g class=\"ycbae2a27tick\"><text text-anchor=\"start\" x=\"860.9\" y=\"4.199999999999999\" style=\"font-family: 'Open Sans', verdana, arial, sans-serif; font-size: 12px; fill: rgb(42, 63, 95); fill-opacity: 1; white-space: pre; opacity: 1;\" transform=\"translate(0,270.869375)\">0.1</text></g><g class=\"ycbae2a27tick\"><text text-anchor=\"start\" x=\"860.9\" y=\"4.199999999999999\" style=\"font-family: 'Open Sans', verdana, arial, sans-serif; font-size: 12px; fill: rgb(42, 63, 95); fill-opacity: 1; white-space: pre; opacity: 1;\" transform=\"translate(0,236.309375)\">0.15</text></g><g class=\"ycbae2a27tick\"><text text-anchor=\"start\" x=\"860.9\" y=\"4.199999999999999\" style=\"font-family: 'Open Sans', verdana, arial, sans-serif; font-size: 12px; fill: rgb(42, 63, 95); fill-opacity: 1; white-space: pre; opacity: 1;\" transform=\"translate(0,201.739375)\">0.2</text></g><g class=\"ycbae2a27tick\"><text text-anchor=\"start\" x=\"860.9\" y=\"4.199999999999999\" style=\"font-family: 'Open Sans', verdana, arial, sans-serif; font-size: 12px; fill: rgb(42, 63, 95); fill-opacity: 1; white-space: pre; opacity: 1;\" transform=\"translate(0,167.179375)\">0.25</text></g><g class=\"ycbae2a27tick\"><text text-anchor=\"start\" x=\"860.9\" y=\"4.199999999999999\" style=\"font-family: 'Open Sans', verdana, arial, sans-serif; font-size: 12px; fill: rgb(42, 63, 95); fill-opacity: 1; white-space: pre; opacity: 1;\" transform=\"translate(0,132.609375)\">0.3</text></g></g><g class=\"cbtitleunshift\" transform=\"translate(-112,-100)\"><g class=\"cbtitle\" transform=\"\"><text class=\"ycbae2a27title\" x=\"940.04\" y=\"123.5\" text-anchor=\"start\" style=\"font-family: 'Open Sans', verdana, arial, sans-serif; font-size: 14px; fill: rgb(42, 63, 95); opacity: 1; font-weight: normal; white-space: pre;\">d(Pearson r)</text></g></g><rect class=\"cboutline\" x=\"828\" y=\"32.609375\" width=\"30\" height=\"207.390625\" style=\"stroke: rgb(68, 68, 68); stroke-opacity: 1; fill: none; stroke-width: 0;\"/></g><g class=\"g-gtitle\"/><g class=\"g-xtitle\"><text class=\"xtitle\" x=\"227.84444444444446\" y=\"389.70625\" text-anchor=\"middle\" style=\"font-family: 'Open Sans', verdana, arial, sans-serif; font-size: 14px; fill: rgb(42, 63, 95); opacity: 1; font-weight: normal; white-space: pre;\">#compound-target pairs per accession</text></g><g class=\"g-x2title\"><text class=\"x2title\" x=\"513\" y=\"389.70625\" text-anchor=\"middle\" style=\"font-family: 'Open Sans', verdana, arial, sans-serif; font-size: 14px; fill: rgb(42, 63, 95); opacity: 1; font-weight: normal; white-space: pre;\">#compound-target pairs per accession</text></g><g class=\"g-x3title\"><text class=\"x3title\" x=\"798.1555555555556\" y=\"389.70625\" text-anchor=\"middle\" style=\"font-family: 'Open Sans', verdana, arial, sans-serif; font-size: 14px; fill: rgb(42, 63, 95); opacity: 1; font-weight: normal; white-space: pre;\">#compound-target pairs per accession</text></g><g class=\"g-ytitle\" transform=\"translate(1.7060546875,0)\"><text class=\"ytitle\" transform=\"rotate(-90,12.700000000000003,225)\" x=\"12.700000000000003\" y=\"225\" text-anchor=\"middle\" style=\"font-family: 'Open Sans', verdana, arial, sans-serif; font-size: 14px; fill: rgb(42, 63, 95); opacity: 1; font-weight: normal; white-space: pre;\">Minority class (WT/mutant) %</text></g><g class=\"g-y2title\"/><g class=\"g-y3title\"/><g class=\"annotation\" data-index=\"0\" style=\"opacity: 1;\"><g class=\"annotation-text-g\" transform=\"rotate(0,227.84444444444446,88.5)\"><g class=\"cursor-pointer\" transform=\"translate(98,77)\"><rect class=\"bg\" x=\"0.5\" y=\"0.5\" width=\"259\" height=\"22\" style=\"stroke-width: 1px; stroke: rgb(0, 0, 0); stroke-opacity: 0; fill: rgb(0, 0, 0); fill-opacity: 0;\"/><text class=\"annotation-text\" text-anchor=\"middle\" x=\"130.09375\" y=\"18\" style=\"font-family: 'Open Sans', verdana, arial, sans-serif; font-size: 16px; fill: rgb(42, 63, 95); fill-opacity: 1; white-space: pre;\">PCM complete - QSAR complete</text></g></g></g><g class=\"annotation\" data-index=\"1\" style=\"opacity: 1;\"><g class=\"annotation-text-g\" transform=\"rotate(0,513,88.49999999999999)\"><g class=\"cursor-pointer\" transform=\"translate(372,77)\"><rect class=\"bg\" x=\"0.5\" y=\"0.5\" width=\"281\" height=\"22\" style=\"stroke-width: 1px; stroke: rgb(0, 0, 0); stroke-opacity: 0; fill: rgb(0, 0, 0); fill-opacity: 0;\"/><text class=\"annotation-text\" text-anchor=\"middle\" x=\"140.734375\" y=\"18\" style=\"font-family: 'Open Sans', verdana, arial, sans-serif; font-size: 16px; fill: rgb(42, 63, 95); fill-opacity: 1; white-space: pre;\">QSAR complete - QSAR no mutant</text></g></g></g><g class=\"annotation\" data-index=\"2\" style=\"opacity: 1;\"><g class=\"annotation-text-g\" transform=\"rotate(0,798.1555555555556,88.5)\"><g class=\"cursor-pointer\" transform=\"translate(672,77)\"><rect class=\"bg\" x=\"0.5\" y=\"0.5\" width=\"251\" height=\"22\" style=\"stroke-width: 1px; stroke: rgb(0, 0, 0); stroke-opacity: 0; fill: rgb(0, 0, 0); fill-opacity: 0;\"/><text class=\"annotation-text\" text-anchor=\"middle\" x=\"125.765625\" y=\"18\" style=\"font-family: 'Open Sans', verdana, arial, sans-serif; font-size: 16px; fill: rgb(42, 63, 95); fill-opacity: 1; white-space: pre;\">PCM common - QSAR common</text></g></g></g></g></svg>"
      ],
      "text/plain": [
       "<IPython.core.display.SVG object>"
      ]
     },
     "metadata": {},
     "output_type": "display_data"
    },
    {
     "data": {
      "image/svg+xml": [
       "<svg xmlns=\"http://www.w3.org/2000/svg\" xmlns:xlink=\"http://www.w3.org/1999/xlink\" class=\"main-svg\" width=\"1050\" height=\"430\" style=\"\" viewBox=\"0 0 1050 430\"><rect x=\"0\" y=\"0\" width=\"1050\" height=\"430\" style=\"fill: rgb(255, 255, 255); fill-opacity: 1;\"/><defs id=\"defs-1d585c\"><g class=\"clips\"><clipPath id=\"clip1d585cxyplot\" class=\"plotclip\"><rect width=\"231.68888888888893\" height=\"250\"/></clipPath><clipPath id=\"clip1d585cx2y2plot\" class=\"plotclip\"><rect width=\"231.68888888888893\" height=\"250\"/></clipPath><clipPath id=\"clip1d585cx3y3plot\" class=\"plotclip\"><rect width=\"231.68888888888887\" height=\"250\"/></clipPath><clipPath class=\"axesclip\" id=\"clip1d585cx\"><rect x=\"112\" y=\"0\" width=\"231.68888888888893\" height=\"430\"/></clipPath><clipPath class=\"axesclip\" id=\"clip1d585cy\"><rect x=\"0\" y=\"100\" width=\"1050\" height=\"250\"/></clipPath><clipPath class=\"axesclip\" id=\"clip1d585cxy\"><rect x=\"112\" y=\"100\" width=\"231.68888888888893\" height=\"250\"/></clipPath><clipPath class=\"axesclip\" id=\"clip1d585cy2\"><rect x=\"0\" y=\"100\" width=\"1050\" height=\"250\"/></clipPath><clipPath class=\"axesclip\" id=\"clip1d585cxy2\"><rect x=\"112\" y=\"100\" width=\"231.68888888888893\" height=\"250\"/></clipPath><clipPath class=\"axesclip\" id=\"clip1d585cy3\"><rect x=\"0\" y=\"100\" width=\"1050\" height=\"250\"/></clipPath><clipPath class=\"axesclip\" id=\"clip1d585cxy3\"><rect x=\"112\" y=\"100\" width=\"231.68888888888893\" height=\"250\"/></clipPath><clipPath class=\"axesclip\" id=\"clip1d585cx2\"><rect x=\"397.15555555555557\" y=\"0\" width=\"231.68888888888893\" height=\"430\"/></clipPath><clipPath class=\"axesclip\" id=\"clip1d585cx2y\"><rect x=\"397.15555555555557\" y=\"100\" width=\"231.68888888888893\" height=\"250\"/></clipPath><clipPath class=\"axesclip\" id=\"clip1d585cx2y2\"><rect x=\"397.15555555555557\" y=\"100\" width=\"231.68888888888893\" height=\"250\"/></clipPath><clipPath class=\"axesclip\" id=\"clip1d585cx2y3\"><rect x=\"397.15555555555557\" y=\"100\" width=\"231.68888888888893\" height=\"250\"/></clipPath><clipPath class=\"axesclip\" id=\"clip1d585cx3\"><rect x=\"682.3111111111111\" y=\"0\" width=\"231.68888888888887\" height=\"430\"/></clipPath><clipPath class=\"axesclip\" id=\"clip1d585cx3y\"><rect x=\"682.3111111111111\" y=\"100\" width=\"231.68888888888887\" height=\"250\"/></clipPath><clipPath class=\"axesclip\" id=\"clip1d585cx3y2\"><rect x=\"682.3111111111111\" y=\"100\" width=\"231.68888888888887\" height=\"250\"/></clipPath><clipPath class=\"axesclip\" id=\"clip1d585cx3y3\"><rect x=\"682.3111111111111\" y=\"100\" width=\"231.68888888888887\" height=\"250\"/></clipPath></g><g class=\"gradients\"><linearGradient x1=\"0\" x2=\"0\" y1=\"1\" y2=\"0\" id=\"g1d585c-cbec795c\"><stop offset=\"0%\" stop-color=\"rgb(165, 0, 38)\" stop-opacity=\"1\"/><stop offset=\"10%\" stop-color=\"rgb(215, 48, 39)\" stop-opacity=\"1\"/><stop offset=\"20%\" stop-color=\"rgb(244, 109, 67)\" stop-opacity=\"1\"/><stop offset=\"30%\" stop-color=\"rgb(253, 174, 97)\" stop-opacity=\"1\"/><stop offset=\"40%\" stop-color=\"rgb(254, 224, 139)\" stop-opacity=\"1\"/><stop offset=\"50%\" stop-color=\"rgb(255, 255, 191)\" stop-opacity=\"1\"/><stop offset=\"60%\" stop-color=\"rgb(217, 239, 139)\" stop-opacity=\"1\"/><stop offset=\"70%\" stop-color=\"rgb(166, 217, 106)\" stop-opacity=\"1\"/><stop offset=\"80%\" stop-color=\"rgb(102, 189, 99)\" stop-opacity=\"1\"/><stop offset=\"90%\" stop-color=\"rgb(26, 152, 80)\" stop-opacity=\"1\"/><stop offset=\"100%\" stop-color=\"rgb(0, 104, 55)\" stop-opacity=\"1\"/></linearGradient></g><g class=\"patterns\"/></defs><g class=\"bglayer\"><rect class=\"bg\" x=\"112\" y=\"100\" width=\"231.68888888888893\" height=\"250\" style=\"fill: rgb(229, 236, 246); fill-opacity: 1; stroke-width: 0;\"/><rect class=\"bg\" x=\"397.15555555555557\" y=\"100\" width=\"231.68888888888893\" height=\"250\" style=\"fill: rgb(229, 236, 246); fill-opacity: 1; stroke-width: 0;\"/><rect class=\"bg\" x=\"682.3111111111111\" y=\"100\" width=\"231.68888888888887\" height=\"250\" style=\"fill: rgb(229, 236, 246); fill-opacity: 1; stroke-width: 0;\"/></g><g class=\"layer-below\"><g class=\"imagelayer\"/><g class=\"shapelayer\"/></g><g class=\"cartesianlayer\"><g class=\"subplot xy\"><g class=\"layer-subplot\"><g class=\"shapelayer\"/><g class=\"imagelayer\"/></g><g class=\"minor-gridlayer\"><g class=\"x\"/><g class=\"y\"/></g><g class=\"gridlayer\"><g class=\"x\"><path class=\"xgrid crisp\" transform=\"translate(150.61,0)\" d=\"M0,100v250\" style=\"stroke: rgb(255, 255, 255); stroke-opacity: 1; stroke-width: 1px;\"/><path class=\"xgrid crisp\" transform=\"translate(227.84,0)\" d=\"M0,100v250\" style=\"stroke: rgb(255, 255, 255); stroke-opacity: 1; stroke-width: 1px;\"/><path class=\"xgrid crisp\" transform=\"translate(305.07,0)\" d=\"M0,100v250\" style=\"stroke: rgb(255, 255, 255); stroke-opacity: 1; stroke-width: 1px;\"/></g><g class=\"y\"><path class=\"ygrid crisp\" transform=\"translate(0,308.33000000000004)\" d=\"M112,0h231.68888888888893\" style=\"stroke: rgb(255, 255, 255); stroke-opacity: 1; stroke-width: 1px;\"/><path class=\"ygrid crisp\" transform=\"translate(0,225)\" d=\"M112,0h231.68888888888893\" style=\"stroke: rgb(255, 255, 255); stroke-opacity: 1; stroke-width: 1px;\"/><path class=\"ygrid crisp\" transform=\"translate(0,141.67000000000002)\" d=\"M112,0h231.68888888888893\" style=\"stroke: rgb(255, 255, 255); stroke-opacity: 1; stroke-width: 1px;\"/></g></g><g class=\"zerolinelayer\"/><path class=\"xlines-below\"/><path class=\"ylines-below\"/><g class=\"overlines-below\"/><g class=\"xaxislayer-below\"/><g class=\"yaxislayer-below\"/><g class=\"overaxes-below\"/><g class=\"plot\" transform=\"translate(112,100)\" clip-path=\"url(#clip1d585cxyplot)\"><g class=\"heatmaplayer mlayer\"><g class=\"hm\"><image xmlns=\"http://www.w3.org/2000/svg\" preserveAspectRatio=\"none\" height=\"250\" width=\"232\" x=\"0\" y=\"0\" xlink:href=\"data:image/png;base64,iVBORw0KGgoAAAANSUhEUgAAAAMAAAADCAYAAABWKLW/AAAAKUlEQVQYV2M8KK3+//9/BgYQZgRxVIz5GM7s/cjAeFRO/f+DR/8ZQAAATVgPrTXre14AAAAASUVORK5CYII=\" style=\"image-rendering: pixelated; opacity: 1;\"/><g class=\"heatmap-label\"><text text-anchor=\"middle\" data-notex=\"1\" x=\"39\" y=\"212.2\" style=\"font-family: 'Open Sans', verdana, arial, sans-serif; font-size: 12px; fill: rgb(255, 255, 255); fill-opacity: 1; white-space: pre;\">0.063</text></g><g class=\"heatmap-label\"><text text-anchor=\"middle\" data-notex=\"1\" x=\"116\" y=\"212.2\" style=\"font-family: 'Open Sans', verdana, arial, sans-serif; font-size: 12px; fill: rgb(255, 255, 255); fill-opacity: 1; white-space: pre;\">-0.037</text></g><g class=\"heatmap-label\"><text text-anchor=\"middle\" data-notex=\"1\" x=\"193\" y=\"212.2\" style=\"font-family: 'Open Sans', verdana, arial, sans-serif; font-size: 12px; fill: rgb(255, 255, 255); fill-opacity: 1; white-space: pre;\">-0.002</text></g><g class=\"heatmap-label\"><text text-anchor=\"middle\" data-notex=\"1\" x=\"39\" y=\"129.2\" style=\"font-family: 'Open Sans', verdana, arial, sans-serif; font-size: 12px; fill: rgb(255, 255, 255); fill-opacity: 1; white-space: pre;\">0.056</text></g><g class=\"heatmap-label\"><text text-anchor=\"middle\" data-notex=\"1\" x=\"116\" y=\"129.2\" style=\"font-family: 'Open Sans', verdana, arial, sans-serif; font-size: 12px; fill: rgb(255, 255, 255); fill-opacity: 1; white-space: pre;\">0.148</text></g><g class=\"heatmap-label\"><text text-anchor=\"middle\" data-notex=\"1\" x=\"193\" y=\"129.2\" style=\"font-family: 'Open Sans', verdana, arial, sans-serif; font-size: 12px; fill: rgb(255, 255, 255); fill-opacity: 1; white-space: pre;\">0.023</text></g><g class=\"heatmap-label\"><text text-anchor=\"middle\" data-notex=\"1\" x=\"39\" y=\"46.2\" style=\"font-family: 'Open Sans', verdana, arial, sans-serif; font-size: 12px; fill: rgb(255, 255, 255); fill-opacity: 1; white-space: pre;\">0.056</text></g><g class=\"heatmap-label\"><text text-anchor=\"middle\" data-notex=\"1\" x=\"116\" y=\"46.2\" style=\"font-family: 'Open Sans', verdana, arial, sans-serif; font-size: 12px; fill: rgb(255, 255, 255); fill-opacity: 1; white-space: pre;\">0.053</text></g><g class=\"heatmap-label\"><text text-anchor=\"middle\" data-notex=\"1\" x=\"193\" y=\"46.2\" style=\"font-family: 'Open Sans', verdana, arial, sans-serif; font-size: 12px; fill: rgb(255, 255, 255); fill-opacity: 1; white-space: pre;\">0.052</text></g></g></g></g><g class=\"overplot\"/><path class=\"xlines-above crisp\" style=\"fill: none;\" d=\"M0,0\"/><path class=\"ylines-above crisp\" style=\"fill: none;\" d=\"M0,0\"/><g class=\"overlines-above\"/><g class=\"xaxislayer-above\"><g class=\"xtick\"><text text-anchor=\"middle\" x=\"0\" y=\"363\" transform=\"translate(150.61,0)\" style=\"font-family: 'Open Sans', verdana, arial, sans-serif; font-size: 12px; fill: rgb(42, 63, 95); fill-opacity: 1; white-space: pre; opacity: 1;\">[0, 37]</text></g><g class=\"xtick\"><text text-anchor=\"middle\" x=\"0\" y=\"363\" transform=\"translate(227.84,0)\" style=\"font-family: 'Open Sans', verdana, arial, sans-serif; font-size: 12px; fill: rgb(42, 63, 95); fill-opacity: 1; white-space: pre; opacity: 1;\">(37, 88]</text></g><g class=\"xtick\"><text text-anchor=\"middle\" x=\"0\" y=\"363\" transform=\"translate(305.07,0)\" style=\"font-family: 'Open Sans', verdana, arial, sans-serif; font-size: 12px; fill: rgb(42, 63, 95); fill-opacity: 1; white-space: pre; opacity: 1;\">(88, 198]</text></g></g><g class=\"yaxislayer-above\"><g class=\"ytick\"><text text-anchor=\"end\" x=\"111\" y=\"4.199999999999999\" transform=\"translate(0,308.33000000000004)\" style=\"font-family: 'Open Sans', verdana, arial, sans-serif; font-size: 12px; fill: rgb(42, 63, 95); fill-opacity: 1; white-space: pre; opacity: 1;\">[-0, 15]</text></g><g class=\"ytick\"><text text-anchor=\"end\" x=\"111\" y=\"4.199999999999999\" transform=\"translate(0,225)\" style=\"font-family: 'Open Sans', verdana, arial, sans-serif; font-size: 12px; fill: rgb(42, 63, 95); fill-opacity: 1; white-space: pre; opacity: 1;\">(15.0, 30.0]</text></g><g class=\"ytick\"><text text-anchor=\"end\" x=\"111\" y=\"4.199999999999999\" transform=\"translate(0,141.67000000000002)\" style=\"font-family: 'Open Sans', verdana, arial, sans-serif; font-size: 12px; fill: rgb(42, 63, 95); fill-opacity: 1; white-space: pre; opacity: 1;\">(30.0, 50.0]</text></g></g><g class=\"overaxes-above\"/></g><g class=\"subplot x2y2\"><g class=\"layer-subplot\"><g class=\"shapelayer\"/><g class=\"imagelayer\"/></g><g class=\"minor-gridlayer\"><g class=\"x2\"/><g class=\"y2\"/></g><g class=\"gridlayer\"><g class=\"x2\"><path class=\"x2grid crisp\" transform=\"translate(435.7655555555556,0)\" d=\"M0,100v250\" style=\"stroke: rgb(255, 255, 255); stroke-opacity: 1; stroke-width: 1px;\"/><path class=\"x2grid crisp\" transform=\"translate(512.9955555555556,0)\" d=\"M0,100v250\" style=\"stroke: rgb(255, 255, 255); stroke-opacity: 1; stroke-width: 1px;\"/><path class=\"x2grid crisp\" transform=\"translate(590.2255555555555,0)\" d=\"M0,100v250\" style=\"stroke: rgb(255, 255, 255); stroke-opacity: 1; stroke-width: 1px;\"/></g><g class=\"y2\"><path class=\"y2grid crisp\" transform=\"translate(0,308.33000000000004)\" d=\"M397.15555555555557,0h231.68888888888893\" style=\"stroke: rgb(255, 255, 255); stroke-opacity: 1; stroke-width: 1px;\"/><path class=\"y2grid crisp\" transform=\"translate(0,225)\" d=\"M397.15555555555557,0h231.68888888888893\" style=\"stroke: rgb(255, 255, 255); stroke-opacity: 1; stroke-width: 1px;\"/><path class=\"y2grid crisp\" transform=\"translate(0,141.67000000000002)\" d=\"M397.15555555555557,0h231.68888888888893\" style=\"stroke: rgb(255, 255, 255); stroke-opacity: 1; stroke-width: 1px;\"/></g></g><g class=\"zerolinelayer\"/><path class=\"xlines-below\"/><path class=\"ylines-below\"/><g class=\"overlines-below\"/><g class=\"xaxislayer-below\"/><g class=\"yaxislayer-below\"/><g class=\"overaxes-below\"/><g class=\"plot\" transform=\"translate(397.15555555555557,100)\" clip-path=\"url(#clip1d585cx2y2plot)\"><g class=\"heatmaplayer mlayer\"><g class=\"hm\"><image xmlns=\"http://www.w3.org/2000/svg\" preserveAspectRatio=\"none\" height=\"250\" width=\"232\" x=\"0\" y=\"0\" xlink:href=\"data:image/png;base64,iVBORw0KGgoAAAANSUhEUgAAAAMAAAADCAYAAABWKLW/AAAALklEQVQYV2O8rKP+n4WFgeH8xf8MjM/8Tf/v3/iRAQQYlzKo/ZeWYmR4/uI/AwAfbA5omfFQNAAAAABJRU5ErkJggg==\" style=\"image-rendering: pixelated; opacity: 1;\"/><g class=\"heatmap-label\"><text text-anchor=\"middle\" data-notex=\"1\" x=\"39\" y=\"212.2\" style=\"font-family: 'Open Sans', verdana, arial, sans-serif; font-size: 12px; fill: rgb(255, 255, 255); fill-opacity: 1; white-space: pre;\">-0.011</text></g><g class=\"heatmap-label\"><text text-anchor=\"middle\" data-notex=\"1\" x=\"116\" y=\"212.2\" style=\"font-family: 'Open Sans', verdana, arial, sans-serif; font-size: 12px; fill: rgb(255, 255, 255); fill-opacity: 1; white-space: pre;\">0.055</text></g><g class=\"heatmap-label\"><text text-anchor=\"middle\" data-notex=\"1\" x=\"193\" y=\"212.2\" style=\"font-family: 'Open Sans', verdana, arial, sans-serif; font-size: 12px; fill: rgb(255, 255, 255); fill-opacity: 1; white-space: pre;\">0.004</text></g><g class=\"heatmap-label\"><text text-anchor=\"middle\" data-notex=\"1\" x=\"39\" y=\"129.2\" style=\"font-family: 'Open Sans', verdana, arial, sans-serif; font-size: 12px; fill: rgb(255, 255, 255); fill-opacity: 1; white-space: pre;\">0.152</text></g><g class=\"heatmap-label\"><text text-anchor=\"middle\" data-notex=\"1\" x=\"116\" y=\"129.2\" style=\"font-family: 'Open Sans', verdana, arial, sans-serif; font-size: 12px; fill: rgb(255, 255, 255); fill-opacity: 1; white-space: pre;\">-0.108</text></g><g class=\"heatmap-label\"><text text-anchor=\"middle\" data-notex=\"1\" x=\"193\" y=\"129.2\" style=\"font-family: 'Open Sans', verdana, arial, sans-serif; font-size: 12px; fill: rgb(255, 255, 255); fill-opacity: 1; white-space: pre;\">-0.033</text></g><g class=\"heatmap-label\"><text text-anchor=\"middle\" data-notex=\"1\" x=\"39\" y=\"46.2\" style=\"font-family: 'Open Sans', verdana, arial, sans-serif; font-size: 12px; fill: rgb(255, 255, 255); fill-opacity: 1; white-space: pre;\">0.092</text></g><g class=\"heatmap-label\"><text text-anchor=\"middle\" data-notex=\"1\" x=\"116\" y=\"46.2\" style=\"font-family: 'Open Sans', verdana, arial, sans-serif; font-size: 12px; fill: rgb(255, 255, 255); fill-opacity: 1; white-space: pre;\">0.101</text></g><g class=\"heatmap-label\"><text text-anchor=\"middle\" data-notex=\"1\" x=\"193\" y=\"46.2\" style=\"font-family: 'Open Sans', verdana, arial, sans-serif; font-size: 12px; fill: rgb(255, 255, 255); fill-opacity: 1; white-space: pre;\">0.002</text></g></g></g></g><g class=\"overplot\"/><path class=\"xlines-above crisp\" style=\"fill: none;\" d=\"M0,0\"/><path class=\"ylines-above crisp\" style=\"fill: none;\" d=\"M0,0\"/><g class=\"overlines-above\"/><g class=\"xaxislayer-above\"><g class=\"x2tick\"><text text-anchor=\"middle\" x=\"0\" y=\"363\" transform=\"translate(435.7655555555556,0)\" style=\"font-family: 'Open Sans', verdana, arial, sans-serif; font-size: 12px; fill: rgb(42, 63, 95); fill-opacity: 1; white-space: pre; opacity: 1;\">[0, 37]</text></g><g class=\"x2tick\"><text text-anchor=\"middle\" x=\"0\" y=\"363\" transform=\"translate(512.9955555555556,0)\" style=\"font-family: 'Open Sans', verdana, arial, sans-serif; font-size: 12px; fill: rgb(42, 63, 95); fill-opacity: 1; white-space: pre; opacity: 1;\">(37, 88]</text></g><g class=\"x2tick\"><text text-anchor=\"middle\" x=\"0\" y=\"363\" transform=\"translate(590.2255555555555,0)\" style=\"font-family: 'Open Sans', verdana, arial, sans-serif; font-size: 12px; fill: rgb(42, 63, 95); fill-opacity: 1; white-space: pre; opacity: 1;\">(88, 198]</text></g></g><g class=\"yaxislayer-above\"/><g class=\"overaxes-above\"/></g><g class=\"subplot x3y3\"><g class=\"layer-subplot\"><g class=\"shapelayer\"/><g class=\"imagelayer\"/></g><g class=\"minor-gridlayer\"><g class=\"x3\"/><g class=\"y3\"/></g><g class=\"gridlayer\"><g class=\"x3\"><path class=\"x3grid crisp\" transform=\"translate(720.9211111111111,0)\" d=\"M0,100v250\" style=\"stroke: rgb(255, 255, 255); stroke-opacity: 1; stroke-width: 1px;\"/><path class=\"x3grid crisp\" transform=\"translate(798.1511111111112,0)\" d=\"M0,100v250\" style=\"stroke: rgb(255, 255, 255); stroke-opacity: 1; stroke-width: 1px;\"/><path class=\"x3grid crisp\" transform=\"translate(875.3811111111111,0)\" d=\"M0,100v250\" style=\"stroke: rgb(255, 255, 255); stroke-opacity: 1; stroke-width: 1px;\"/></g><g class=\"y3\"><path class=\"y3grid crisp\" transform=\"translate(0,308.33000000000004)\" d=\"M682.3111111111111,0h231.68888888888887\" style=\"stroke: rgb(255, 255, 255); stroke-opacity: 1; stroke-width: 1px;\"/><path class=\"y3grid crisp\" transform=\"translate(0,225)\" d=\"M682.3111111111111,0h231.68888888888887\" style=\"stroke: rgb(255, 255, 255); stroke-opacity: 1; stroke-width: 1px;\"/><path class=\"y3grid crisp\" transform=\"translate(0,141.67000000000002)\" d=\"M682.3111111111111,0h231.68888888888887\" style=\"stroke: rgb(255, 255, 255); stroke-opacity: 1; stroke-width: 1px;\"/></g></g><g class=\"zerolinelayer\"/><path class=\"xlines-below\"/><path class=\"ylines-below\"/><g class=\"overlines-below\"/><g class=\"xaxislayer-below\"/><g class=\"yaxislayer-below\"/><g class=\"overaxes-below\"/><g class=\"plot\" transform=\"translate(682.3111111111111,100)\" clip-path=\"url(#clip1d585cx3y3plot)\"><g class=\"heatmaplayer mlayer\"><g class=\"hm\"><image xmlns=\"http://www.w3.org/2000/svg\" preserveAspectRatio=\"none\" height=\"250\" width=\"232\" x=\"0\" y=\"0\" xlink:href=\"data:image/png;base64,iVBORw0KGgoAAAANSUhEUgAAAAMAAAADCAYAAABWKLW/AAAAKUlEQVQYV2NcyqD2n4GBgcErSYKBEcYJrFNlYLxrq/tfQJGf4cGJ1wwAsY4KacRPbrYAAAAASUVORK5CYII=\" style=\"image-rendering: pixelated; opacity: 1;\"/><g class=\"heatmap-label\"><text text-anchor=\"middle\" data-notex=\"1\" x=\"39\" y=\"212.2\" style=\"font-family: 'Open Sans', verdana, arial, sans-serif; font-size: 12px; fill: rgb(255, 255, 255); fill-opacity: 1; white-space: pre;\">0.121</text></g><g class=\"heatmap-label\"><text text-anchor=\"middle\" data-notex=\"1\" x=\"116\" y=\"212.2\" style=\"font-family: 'Open Sans', verdana, arial, sans-serif; font-size: 12px; fill: rgb(68, 68, 68); fill-opacity: 1; white-space: pre;\">0.175</text></g><g class=\"heatmap-label\"><text text-anchor=\"middle\" data-notex=\"1\" x=\"193\" y=\"212.2\" style=\"font-family: 'Open Sans', verdana, arial, sans-serif; font-size: 12px; fill: rgb(255, 255, 255); fill-opacity: 1; white-space: pre;\">0.079</text></g><g class=\"heatmap-label\"><text text-anchor=\"middle\" data-notex=\"1\" x=\"39\" y=\"129.2\" style=\"font-family: 'Open Sans', verdana, arial, sans-serif; font-size: 12px; fill: rgb(255, 255, 255); fill-opacity: 1; white-space: pre;\">0.000</text></g><g class=\"heatmap-label\"><text text-anchor=\"middle\" data-notex=\"1\" x=\"116\" y=\"129.2\" style=\"font-family: 'Open Sans', verdana, arial, sans-serif; font-size: 12px; fill: rgb(255, 255, 255); fill-opacity: 1; white-space: pre;\">0.000</text></g><g class=\"heatmap-label\"><text text-anchor=\"middle\" data-notex=\"1\" x=\"193\" y=\"129.2\" style=\"font-family: 'Open Sans', verdana, arial, sans-serif; font-size: 12px; fill: rgb(68, 68, 68); fill-opacity: 1; white-space: pre;\">0.227</text></g><g class=\"heatmap-label\"><text text-anchor=\"middle\" data-notex=\"1\" x=\"39\" y=\"46.2\" style=\"font-family: 'Open Sans', verdana, arial, sans-serif; font-size: 12px; fill: rgb(255, 255, 255); fill-opacity: 1; white-space: pre;\">0.000</text></g><g class=\"heatmap-label\"><text text-anchor=\"middle\" data-notex=\"1\" x=\"116\" y=\"46.2\" style=\"font-family: 'Open Sans', verdana, arial, sans-serif; font-size: 12px; fill: rgb(255, 255, 255); fill-opacity: 1; white-space: pre;\">0.000</text></g><g class=\"heatmap-label\"><text text-anchor=\"middle\" data-notex=\"1\" x=\"193\" y=\"46.2\" style=\"font-family: 'Open Sans', verdana, arial, sans-serif; font-size: 12px; fill: rgb(68, 68, 68); fill-opacity: 1; white-space: pre;\">0.182</text></g></g></g></g><g class=\"overplot\"/><path class=\"xlines-above crisp\" style=\"fill: none;\" d=\"M0,0\"/><path class=\"ylines-above crisp\" style=\"fill: none;\" d=\"M0,0\"/><g class=\"overlines-above\"/><g class=\"xaxislayer-above\"><g class=\"x3tick\"><text text-anchor=\"middle\" x=\"0\" y=\"363\" transform=\"translate(720.9211111111111,0)\" style=\"font-family: 'Open Sans', verdana, arial, sans-serif; font-size: 12px; fill: rgb(42, 63, 95); fill-opacity: 1; white-space: pre; opacity: 1;\">[0, 6]</text></g><g class=\"x3tick\"><text text-anchor=\"middle\" x=\"0\" y=\"363\" transform=\"translate(798.1511111111112,0)\" style=\"font-family: 'Open Sans', verdana, arial, sans-serif; font-size: 12px; fill: rgb(42, 63, 95); fill-opacity: 1; white-space: pre; opacity: 1;\">(6, 9]</text></g><g class=\"x3tick\"><text text-anchor=\"middle\" x=\"0\" y=\"363\" transform=\"translate(875.3811111111111,0)\" style=\"font-family: 'Open Sans', verdana, arial, sans-serif; font-size: 12px; fill: rgb(42, 63, 95); fill-opacity: 1; white-space: pre; opacity: 1;\">(9, 2854]</text></g></g><g class=\"yaxislayer-above\"/><g class=\"overaxes-above\"/></g></g><g class=\"polarlayer\"/><g class=\"smithlayer\"/><g class=\"ternarylayer\"/><g class=\"geolayer\"/><g class=\"funnelarealayer\"/><g class=\"pielayer\"/><g class=\"iciclelayer\"/><g class=\"treemaplayer\"/><g class=\"sunburstlayer\"/><g class=\"glimages\"/><defs id=\"topdefs-1d585c\"><g class=\"clips\"/></defs><g class=\"layer-above\"><g class=\"imagelayer\"/><g class=\"shapelayer\"/></g><g class=\"infolayer\"><g class=\"cbec795c colorbar\" transform=\"translate(112,100)\"><rect class=\"cbbg\" x=\"818\" y=\"0\" width=\"107.859375\" height=\"250\" style=\"fill: rgb(0, 0, 0); fill-opacity: 0; stroke: rgb(68, 68, 68); stroke-opacity: 1; stroke-width: 0;\"/><g class=\"cbfills\" transform=\"translate(0,33)\"><rect class=\"cbfill gradient_filled\" style=\"fill: url('#g1d585c-cbec795c');\" x=\"828\" y=\"0\" width=\"30\" height=\"207\"/></g><g class=\"cblines\" transform=\"translate(0,33)\"/><g class=\"cbaxis crisp\" transform=\"translate(0,-100)\"><g class=\"ycbec795ctick\"><text text-anchor=\"start\" x=\"860.9\" y=\"4.199999999999999\" transform=\"translate(0,339.999375)\" style=\"font-family: 'Open Sans', verdana, arial, sans-serif; font-size: 12px; fill: rgb(42, 63, 95); fill-opacity: 1; white-space: pre; opacity: 1;\">0</text></g><g class=\"ycbec795ctick\"><text text-anchor=\"start\" x=\"860.9\" y=\"4.199999999999999\" style=\"font-family: 'Open Sans', verdana, arial, sans-serif; font-size: 12px; fill: rgb(42, 63, 95); fill-opacity: 1; white-space: pre; opacity: 1;\" transform=\"translate(0,298.51937499999997)\">0.2</text></g><g class=\"ycbec795ctick\"><text text-anchor=\"start\" x=\"860.9\" y=\"4.199999999999999\" style=\"font-family: 'Open Sans', verdana, arial, sans-serif; font-size: 12px; fill: rgb(42, 63, 95); fill-opacity: 1; white-space: pre; opacity: 1;\" transform=\"translate(0,257.039375)\">0.4</text></g><g class=\"ycbec795ctick\"><text text-anchor=\"start\" x=\"860.9\" y=\"4.199999999999999\" style=\"font-family: 'Open Sans', verdana, arial, sans-serif; font-size: 12px; fill: rgb(42, 63, 95); fill-opacity: 1; white-space: pre; opacity: 1;\" transform=\"translate(0,215.56937499999998)\">0.6</text></g><g class=\"ycbec795ctick\"><text text-anchor=\"start\" x=\"860.9\" y=\"4.199999999999999\" style=\"font-family: 'Open Sans', verdana, arial, sans-serif; font-size: 12px; fill: rgb(42, 63, 95); fill-opacity: 1; white-space: pre; opacity: 1;\" transform=\"translate(0,174.089375)\">0.8</text></g><g class=\"ycbec795ctick\"><text text-anchor=\"start\" x=\"860.9\" y=\"4.199999999999999\" style=\"font-family: 'Open Sans', verdana, arial, sans-serif; font-size: 12px; fill: rgb(42, 63, 95); fill-opacity: 1; white-space: pre; opacity: 1;\" transform=\"translate(0,132.609375)\">1</text></g></g><g class=\"cbtitleunshift\" transform=\"translate(-112,-100)\"><g class=\"cbtitle\" transform=\"\"><text class=\"ycbec795ctitle\" x=\"940.04\" y=\"123.5\" text-anchor=\"start\" style=\"font-family: 'Open Sans', verdana, arial, sans-serif; font-size: 14px; fill: rgb(42, 63, 95); opacity: 1; font-weight: normal; white-space: pre;\">d(Pearson r)</text></g></g><rect class=\"cboutline\" x=\"828\" y=\"32.609375\" width=\"30\" height=\"207.390625\" style=\"stroke: rgb(68, 68, 68); stroke-opacity: 1; fill: none; stroke-width: 0;\"/></g><g class=\"g-gtitle\"/><g class=\"g-xtitle\"><text class=\"xtitle\" x=\"227.84444444444446\" y=\"389.70625\" text-anchor=\"middle\" style=\"font-family: 'Open Sans', verdana, arial, sans-serif; font-size: 14px; fill: rgb(42, 63, 95); opacity: 1; font-weight: normal; white-space: pre;\">#compound-target pairs per accession</text></g><g class=\"g-x2title\"><text class=\"x2title\" x=\"513\" y=\"389.70625\" text-anchor=\"middle\" style=\"font-family: 'Open Sans', verdana, arial, sans-serif; font-size: 14px; fill: rgb(42, 63, 95); opacity: 1; font-weight: normal; white-space: pre;\">#compound-target pairs per accession</text></g><g class=\"g-x3title\"><text class=\"x3title\" x=\"798.1555555555556\" y=\"389.70625\" text-anchor=\"middle\" style=\"font-family: 'Open Sans', verdana, arial, sans-serif; font-size: 14px; fill: rgb(42, 63, 95); opacity: 1; font-weight: normal; white-space: pre;\">#compound-target pairs per accession</text></g><g class=\"g-ytitle\" transform=\"translate(1.7060546875,0)\"><text class=\"ytitle\" transform=\"rotate(-90,12.700000000000003,225)\" x=\"12.700000000000003\" y=\"225\" text-anchor=\"middle\" style=\"font-family: 'Open Sans', verdana, arial, sans-serif; font-size: 14px; fill: rgb(42, 63, 95); opacity: 1; font-weight: normal; white-space: pre;\">Minority class (WT/mutant) %</text></g><g class=\"g-y2title\"/><g class=\"g-y3title\"/><g class=\"annotation\" data-index=\"0\" style=\"opacity: 1;\"><g class=\"annotation-text-g\" transform=\"rotate(0,227.84444444444446,88.5)\"><g class=\"cursor-pointer\" transform=\"translate(98,77)\"><rect class=\"bg\" x=\"0.5\" y=\"0.5\" width=\"259\" height=\"22\" style=\"stroke-width: 1px; stroke: rgb(0, 0, 0); stroke-opacity: 0; fill: rgb(0, 0, 0); fill-opacity: 0;\"/><text class=\"annotation-text\" text-anchor=\"middle\" x=\"130.09375\" y=\"18\" style=\"font-family: 'Open Sans', verdana, arial, sans-serif; font-size: 16px; fill: rgb(42, 63, 95); fill-opacity: 1; white-space: pre;\">PCM complete - QSAR complete</text></g></g></g><g class=\"annotation\" data-index=\"1\" style=\"opacity: 1;\"><g class=\"annotation-text-g\" transform=\"rotate(0,513,88.49999999999999)\"><g class=\"cursor-pointer\" transform=\"translate(372,77)\"><rect class=\"bg\" x=\"0.5\" y=\"0.5\" width=\"281\" height=\"22\" style=\"stroke-width: 1px; stroke: rgb(0, 0, 0); stroke-opacity: 0; fill: rgb(0, 0, 0); fill-opacity: 0;\"/><text class=\"annotation-text\" text-anchor=\"middle\" x=\"140.734375\" y=\"18\" style=\"font-family: 'Open Sans', verdana, arial, sans-serif; font-size: 16px; fill: rgb(42, 63, 95); fill-opacity: 1; white-space: pre;\">QSAR complete - QSAR no mutant</text></g></g></g><g class=\"annotation\" data-index=\"2\" style=\"opacity: 1;\"><g class=\"annotation-text-g\" transform=\"rotate(0,798.1555555555556,88.5)\"><g class=\"cursor-pointer\" transform=\"translate(672,77)\"><rect class=\"bg\" x=\"0.5\" y=\"0.5\" width=\"251\" height=\"22\" style=\"stroke-width: 1px; stroke: rgb(0, 0, 0); stroke-opacity: 0; fill: rgb(0, 0, 0); fill-opacity: 0;\"/><text class=\"annotation-text\" text-anchor=\"middle\" x=\"125.765625\" y=\"18\" style=\"font-family: 'Open Sans', verdana, arial, sans-serif; font-size: 16px; fill: rgb(42, 63, 95); fill-opacity: 1; white-space: pre;\">PCM common - QSAR common</text></g></g></g></g></svg>"
      ],
      "text/plain": [
       "<IPython.core.display.SVG object>"
      ]
     },
     "metadata": {},
     "output_type": "display_data"
    },
    {
     "data": {
      "image/svg+xml": [
       "<svg xmlns=\"http://www.w3.org/2000/svg\" xmlns:xlink=\"http://www.w3.org/1999/xlink\" class=\"main-svg\" width=\"1050\" height=\"430\" style=\"\" viewBox=\"0 0 1050 430\"><rect x=\"0\" y=\"0\" width=\"1050\" height=\"430\" style=\"fill: rgb(255, 255, 255); fill-opacity: 1;\"/><defs id=\"defs-4caeea\"><g class=\"clips\"><clipPath id=\"clip4caeeaxyplot\" class=\"plotclip\"><rect width=\"231.68888888888893\" height=\"250\"/></clipPath><clipPath id=\"clip4caeeax2y2plot\" class=\"plotclip\"><rect width=\"231.68888888888893\" height=\"250\"/></clipPath><clipPath id=\"clip4caeeax3y3plot\" class=\"plotclip\"><rect width=\"231.68888888888887\" height=\"250\"/></clipPath><clipPath class=\"axesclip\" id=\"clip4caeeax\"><rect x=\"112\" y=\"0\" width=\"231.68888888888893\" height=\"430\"/></clipPath><clipPath class=\"axesclip\" id=\"clip4caeeay\"><rect x=\"0\" y=\"100\" width=\"1050\" height=\"250\"/></clipPath><clipPath class=\"axesclip\" id=\"clip4caeeaxy\"><rect x=\"112\" y=\"100\" width=\"231.68888888888893\" height=\"250\"/></clipPath><clipPath class=\"axesclip\" id=\"clip4caeeay2\"><rect x=\"0\" y=\"100\" width=\"1050\" height=\"250\"/></clipPath><clipPath class=\"axesclip\" id=\"clip4caeeaxy2\"><rect x=\"112\" y=\"100\" width=\"231.68888888888893\" height=\"250\"/></clipPath><clipPath class=\"axesclip\" id=\"clip4caeeay3\"><rect x=\"0\" y=\"100\" width=\"1050\" height=\"250\"/></clipPath><clipPath class=\"axesclip\" id=\"clip4caeeaxy3\"><rect x=\"112\" y=\"100\" width=\"231.68888888888893\" height=\"250\"/></clipPath><clipPath class=\"axesclip\" id=\"clip4caeeax2\"><rect x=\"397.15555555555557\" y=\"0\" width=\"231.68888888888893\" height=\"430\"/></clipPath><clipPath class=\"axesclip\" id=\"clip4caeeax2y\"><rect x=\"397.15555555555557\" y=\"100\" width=\"231.68888888888893\" height=\"250\"/></clipPath><clipPath class=\"axesclip\" id=\"clip4caeeax2y2\"><rect x=\"397.15555555555557\" y=\"100\" width=\"231.68888888888893\" height=\"250\"/></clipPath><clipPath class=\"axesclip\" id=\"clip4caeeax2y3\"><rect x=\"397.15555555555557\" y=\"100\" width=\"231.68888888888893\" height=\"250\"/></clipPath><clipPath class=\"axesclip\" id=\"clip4caeeax3\"><rect x=\"682.3111111111111\" y=\"0\" width=\"231.68888888888887\" height=\"430\"/></clipPath><clipPath class=\"axesclip\" id=\"clip4caeeax3y\"><rect x=\"682.3111111111111\" y=\"100\" width=\"231.68888888888887\" height=\"250\"/></clipPath><clipPath class=\"axesclip\" id=\"clip4caeeax3y2\"><rect x=\"682.3111111111111\" y=\"100\" width=\"231.68888888888887\" height=\"250\"/></clipPath><clipPath class=\"axesclip\" id=\"clip4caeeax3y3\"><rect x=\"682.3111111111111\" y=\"100\" width=\"231.68888888888887\" height=\"250\"/></clipPath></g><g class=\"gradients\"><linearGradient x1=\"0\" x2=\"0\" y1=\"1\" y2=\"0\" id=\"g4caeea-cb25bb97\"><stop offset=\"0%\" stop-color=\"rgb(165, 0, 38)\" stop-opacity=\"1\"/><stop offset=\"10%\" stop-color=\"rgb(215, 48, 39)\" stop-opacity=\"1\"/><stop offset=\"20%\" stop-color=\"rgb(244, 109, 67)\" stop-opacity=\"1\"/><stop offset=\"30%\" stop-color=\"rgb(253, 174, 97)\" stop-opacity=\"1\"/><stop offset=\"40%\" stop-color=\"rgb(254, 224, 139)\" stop-opacity=\"1\"/><stop offset=\"50%\" stop-color=\"rgb(255, 255, 191)\" stop-opacity=\"1\"/><stop offset=\"60%\" stop-color=\"rgb(217, 239, 139)\" stop-opacity=\"1\"/><stop offset=\"70%\" stop-color=\"rgb(166, 217, 106)\" stop-opacity=\"1\"/><stop offset=\"80%\" stop-color=\"rgb(102, 189, 99)\" stop-opacity=\"1\"/><stop offset=\"90%\" stop-color=\"rgb(26, 152, 80)\" stop-opacity=\"1\"/><stop offset=\"100%\" stop-color=\"rgb(0, 104, 55)\" stop-opacity=\"1\"/></linearGradient></g><g class=\"patterns\"/></defs><g class=\"bglayer\"><rect class=\"bg\" x=\"112\" y=\"100\" width=\"231.68888888888893\" height=\"250\" style=\"fill: rgb(229, 236, 246); fill-opacity: 1; stroke-width: 0;\"/><rect class=\"bg\" x=\"397.15555555555557\" y=\"100\" width=\"231.68888888888893\" height=\"250\" style=\"fill: rgb(229, 236, 246); fill-opacity: 1; stroke-width: 0;\"/><rect class=\"bg\" x=\"682.3111111111111\" y=\"100\" width=\"231.68888888888887\" height=\"250\" style=\"fill: rgb(229, 236, 246); fill-opacity: 1; stroke-width: 0;\"/></g><g class=\"layer-below\"><g class=\"imagelayer\"/><g class=\"shapelayer\"/></g><g class=\"cartesianlayer\"><g class=\"subplot xy\"><g class=\"layer-subplot\"><g class=\"shapelayer\"/><g class=\"imagelayer\"/></g><g class=\"minor-gridlayer\"><g class=\"x\"/><g class=\"y\"/></g><g class=\"gridlayer\"><g class=\"x\"><path class=\"xgrid crisp\" transform=\"translate(150.61,0)\" d=\"M0,100v250\" style=\"stroke: rgb(255, 255, 255); stroke-opacity: 1; stroke-width: 1px;\"/><path class=\"xgrid crisp\" transform=\"translate(227.84,0)\" d=\"M0,100v250\" style=\"stroke: rgb(255, 255, 255); stroke-opacity: 1; stroke-width: 1px;\"/><path class=\"xgrid crisp\" transform=\"translate(305.07,0)\" d=\"M0,100v250\" style=\"stroke: rgb(255, 255, 255); stroke-opacity: 1; stroke-width: 1px;\"/></g><g class=\"y\"><path class=\"ygrid crisp\" transform=\"translate(0,308.33000000000004)\" d=\"M112,0h231.68888888888893\" style=\"stroke: rgb(255, 255, 255); stroke-opacity: 1; stroke-width: 1px;\"/><path class=\"ygrid crisp\" transform=\"translate(0,225)\" d=\"M112,0h231.68888888888893\" style=\"stroke: rgb(255, 255, 255); stroke-opacity: 1; stroke-width: 1px;\"/><path class=\"ygrid crisp\" transform=\"translate(0,141.67000000000002)\" d=\"M112,0h231.68888888888893\" style=\"stroke: rgb(255, 255, 255); stroke-opacity: 1; stroke-width: 1px;\"/></g></g><g class=\"zerolinelayer\"/><path class=\"xlines-below\"/><path class=\"ylines-below\"/><g class=\"overlines-below\"/><g class=\"xaxislayer-below\"/><g class=\"yaxislayer-below\"/><g class=\"overaxes-below\"/><g class=\"plot\" transform=\"translate(112,100)\" clip-path=\"url(#clip4caeeaxyplot)\"><g class=\"heatmaplayer mlayer\"><g class=\"hm\"><image xmlns=\"http://www.w3.org/2000/svg\" preserveAspectRatio=\"none\" height=\"250\" width=\"232\" x=\"0\" y=\"0\" xlink:href=\"data:image/png;base64,iVBORw0KGgoAAAANSUhEUgAAAAMAAAADCAYAAABWKLW/AAAAMElEQVQYV2M8paL+X1aXn2Hf+g8MjGvY1f4LCjAwvHjJwMC4hk3t/89fDAyMjAwMAAi6DGT8m3HGAAAAAElFTkSuQmCC\" style=\"image-rendering: pixelated; opacity: 1;\"/><g class=\"heatmap-label\"><text text-anchor=\"middle\" data-notex=\"1\" x=\"39\" y=\"212.2\" style=\"font-family: 'Open Sans', verdana, arial, sans-serif; font-size: 12px; fill: rgb(255, 255, 255); fill-opacity: 1; white-space: pre;\">0.013</text></g><g class=\"heatmap-label\"><text text-anchor=\"middle\" data-notex=\"1\" x=\"116\" y=\"212.2\" style=\"font-family: 'Open Sans', verdana, arial, sans-serif; font-size: 12px; fill: rgb(255, 255, 255); fill-opacity: 1; white-space: pre;\">0.000</text></g><g class=\"heatmap-label\"><text text-anchor=\"middle\" data-notex=\"1\" x=\"193\" y=\"212.2\" style=\"font-family: 'Open Sans', verdana, arial, sans-serif; font-size: 12px; fill: rgb(255, 255, 255); fill-opacity: 1; white-space: pre;\">0.002</text></g><g class=\"heatmap-label\"><text text-anchor=\"middle\" data-notex=\"1\" x=\"39\" y=\"129.2\" style=\"font-family: 'Open Sans', verdana, arial, sans-serif; font-size: 12px; fill: rgb(255, 255, 255); fill-opacity: 1; white-space: pre;\">0.014</text></g><g class=\"heatmap-label\"><text text-anchor=\"middle\" data-notex=\"1\" x=\"116\" y=\"129.2\" style=\"font-family: 'Open Sans', verdana, arial, sans-serif; font-size: 12px; fill: rgb(255, 255, 255); fill-opacity: 1; white-space: pre;\">0.049</text></g><g class=\"heatmap-label\"><text text-anchor=\"middle\" data-notex=\"1\" x=\"193\" y=\"129.2\" style=\"font-family: 'Open Sans', verdana, arial, sans-serif; font-size: 12px; fill: rgb(255, 255, 255); fill-opacity: 1; white-space: pre;\">0.000</text></g><g class=\"heatmap-label\"><text text-anchor=\"middle\" data-notex=\"1\" x=\"39\" y=\"46.2\" style=\"font-family: 'Open Sans', verdana, arial, sans-serif; font-size: 12px; fill: rgb(255, 255, 255); fill-opacity: 1; white-space: pre;\">0.074</text></g><g class=\"heatmap-label\"><text text-anchor=\"middle\" data-notex=\"1\" x=\"116\" y=\"46.2\" style=\"font-family: 'Open Sans', verdana, arial, sans-serif; font-size: 12px; fill: rgb(255, 255, 255); fill-opacity: 1; white-space: pre;\">0.154</text></g><g class=\"heatmap-label\"><text text-anchor=\"middle\" data-notex=\"1\" x=\"193\" y=\"46.2\" style=\"font-family: 'Open Sans', verdana, arial, sans-serif; font-size: 12px; fill: rgb(255, 255, 255); fill-opacity: 1; white-space: pre;\">0.000</text></g></g></g></g><g class=\"overplot\"/><path class=\"xlines-above crisp\" style=\"fill: none;\" d=\"M0,0\"/><path class=\"ylines-above crisp\" style=\"fill: none;\" d=\"M0,0\"/><g class=\"overlines-above\"/><g class=\"xaxislayer-above\"><g class=\"xtick\"><text text-anchor=\"middle\" x=\"0\" y=\"363\" transform=\"translate(150.61,0)\" style=\"font-family: 'Open Sans', verdana, arial, sans-serif; font-size: 12px; fill: rgb(42, 63, 95); fill-opacity: 1; white-space: pre; opacity: 1;\">[198, 400]</text></g><g class=\"xtick\"><text text-anchor=\"middle\" x=\"0\" y=\"363\" transform=\"translate(227.84,0)\" style=\"font-family: 'Open Sans', verdana, arial, sans-serif; font-size: 12px; fill: rgb(42, 63, 95); fill-opacity: 1; white-space: pre; opacity: 1;\">(400, 680]</text></g><g class=\"xtick\"><text text-anchor=\"middle\" x=\"0\" y=\"363\" transform=\"translate(305.07,0)\" style=\"font-family: 'Open Sans', verdana, arial, sans-serif; font-size: 12px; fill: rgb(42, 63, 95); fill-opacity: 1; white-space: pre; opacity: 1;\">(680, 694]</text></g></g><g class=\"yaxislayer-above\"><g class=\"ytick\"><text text-anchor=\"end\" x=\"111\" y=\"4.199999999999999\" transform=\"translate(0,308.33000000000004)\" style=\"font-family: 'Open Sans', verdana, arial, sans-serif; font-size: 12px; fill: rgb(42, 63, 95); fill-opacity: 1; white-space: pre; opacity: 1;\">[-0, 15]</text></g><g class=\"ytick\"><text text-anchor=\"end\" x=\"111\" y=\"4.199999999999999\" transform=\"translate(0,225)\" style=\"font-family: 'Open Sans', verdana, arial, sans-serif; font-size: 12px; fill: rgb(42, 63, 95); fill-opacity: 1; white-space: pre; opacity: 1;\">(15.0, 30.0]</text></g><g class=\"ytick\"><text text-anchor=\"end\" x=\"111\" y=\"4.199999999999999\" transform=\"translate(0,141.67000000000002)\" style=\"font-family: 'Open Sans', verdana, arial, sans-serif; font-size: 12px; fill: rgb(42, 63, 95); fill-opacity: 1; white-space: pre; opacity: 1;\">(30.0, 50.0]</text></g></g><g class=\"overaxes-above\"/></g><g class=\"subplot x2y2\"><g class=\"layer-subplot\"><g class=\"shapelayer\"/><g class=\"imagelayer\"/></g><g class=\"minor-gridlayer\"><g class=\"x2\"/><g class=\"y2\"/></g><g class=\"gridlayer\"><g class=\"x2\"><path class=\"x2grid crisp\" transform=\"translate(435.7655555555556,0)\" d=\"M0,100v250\" style=\"stroke: rgb(255, 255, 255); stroke-opacity: 1; stroke-width: 1px;\"/><path class=\"x2grid crisp\" transform=\"translate(512.9955555555556,0)\" d=\"M0,100v250\" style=\"stroke: rgb(255, 255, 255); stroke-opacity: 1; stroke-width: 1px;\"/><path class=\"x2grid crisp\" transform=\"translate(590.2255555555555,0)\" d=\"M0,100v250\" style=\"stroke: rgb(255, 255, 255); stroke-opacity: 1; stroke-width: 1px;\"/></g><g class=\"y2\"><path class=\"y2grid crisp\" transform=\"translate(0,308.33000000000004)\" d=\"M397.15555555555557,0h231.68888888888893\" style=\"stroke: rgb(255, 255, 255); stroke-opacity: 1; stroke-width: 1px;\"/><path class=\"y2grid crisp\" transform=\"translate(0,225)\" d=\"M397.15555555555557,0h231.68888888888893\" style=\"stroke: rgb(255, 255, 255); stroke-opacity: 1; stroke-width: 1px;\"/><path class=\"y2grid crisp\" transform=\"translate(0,141.67000000000002)\" d=\"M397.15555555555557,0h231.68888888888893\" style=\"stroke: rgb(255, 255, 255); stroke-opacity: 1; stroke-width: 1px;\"/></g></g><g class=\"zerolinelayer\"/><path class=\"xlines-below\"/><path class=\"ylines-below\"/><g class=\"overlines-below\"/><g class=\"xaxislayer-below\"/><g class=\"yaxislayer-below\"/><g class=\"overaxes-below\"/><g class=\"plot\" transform=\"translate(397.15555555555557,100)\" clip-path=\"url(#clip4caeeax2y2plot)\"><g class=\"heatmaplayer mlayer\"><g class=\"hm\"><image xmlns=\"http://www.w3.org/2000/svg\" preserveAspectRatio=\"none\" height=\"250\" width=\"232\" x=\"0\" y=\"0\" xlink:href=\"data:image/png;base64,iVBORw0KGgoAAAANSUhEUgAAAAMAAAADCAYAAABWKLW/AAAAH0lEQVQYV2O876T//9Sh7wx//jAwMC5lUPvPAAUoHAAdCwpisOoOUgAAAABJRU5ErkJggg==\" style=\"image-rendering: pixelated; opacity: 1;\"/><g class=\"heatmap-label\"><text text-anchor=\"middle\" data-notex=\"1\" x=\"39\" y=\"212.2\" style=\"font-family: 'Open Sans', verdana, arial, sans-serif; font-size: 12px; fill: rgb(255, 255, 255); fill-opacity: 1; white-space: pre;\">-0.009</text></g><g class=\"heatmap-label\"><text text-anchor=\"middle\" data-notex=\"1\" x=\"116\" y=\"212.2\" style=\"font-family: 'Open Sans', verdana, arial, sans-serif; font-size: 12px; fill: rgb(255, 255, 255); fill-opacity: 1; white-space: pre;\">-0.007</text></g><g class=\"heatmap-label\"><text text-anchor=\"middle\" data-notex=\"1\" x=\"193\" y=\"212.2\" style=\"font-family: 'Open Sans', verdana, arial, sans-serif; font-size: 12px; fill: rgb(255, 255, 255); fill-opacity: 1; white-space: pre;\">-0.008</text></g><g class=\"heatmap-label\"><text text-anchor=\"middle\" data-notex=\"1\" x=\"39\" y=\"129.2\" style=\"font-family: 'Open Sans', verdana, arial, sans-serif; font-size: 12px; fill: rgb(255, 255, 255); fill-opacity: 1; white-space: pre;\">-0.003</text></g><g class=\"heatmap-label\"><text text-anchor=\"middle\" data-notex=\"1\" x=\"116\" y=\"129.2\" style=\"font-family: 'Open Sans', verdana, arial, sans-serif; font-size: 12px; fill: rgb(255, 255, 255); fill-opacity: 1; white-space: pre;\">-0.080</text></g><g class=\"heatmap-label\"><text text-anchor=\"middle\" data-notex=\"1\" x=\"193\" y=\"129.2\" style=\"font-family: 'Open Sans', verdana, arial, sans-serif; font-size: 12px; fill: rgb(255, 255, 255); fill-opacity: 1; white-space: pre;\">0.000</text></g><g class=\"heatmap-label\"><text text-anchor=\"middle\" data-notex=\"1\" x=\"39\" y=\"46.2\" style=\"font-family: 'Open Sans', verdana, arial, sans-serif; font-size: 12px; fill: rgb(255, 255, 255); fill-opacity: 1; white-space: pre;\">0.129</text></g><g class=\"heatmap-label\"><text text-anchor=\"middle\" data-notex=\"1\" x=\"116\" y=\"46.2\" style=\"font-family: 'Open Sans', verdana, arial, sans-serif; font-size: 12px; fill: rgb(255, 255, 255); fill-opacity: 1; white-space: pre;\">0.008</text></g><g class=\"heatmap-label\"><text text-anchor=\"middle\" data-notex=\"1\" x=\"193\" y=\"46.2\" style=\"font-family: 'Open Sans', verdana, arial, sans-serif; font-size: 12px; fill: rgb(255, 255, 255); fill-opacity: 1; white-space: pre;\">0.000</text></g></g></g></g><g class=\"overplot\"/><path class=\"xlines-above crisp\" style=\"fill: none;\" d=\"M0,0\"/><path class=\"ylines-above crisp\" style=\"fill: none;\" d=\"M0,0\"/><g class=\"overlines-above\"/><g class=\"xaxislayer-above\"><g class=\"x2tick\"><text text-anchor=\"middle\" x=\"0\" y=\"363\" transform=\"translate(435.7655555555556,0)\" style=\"font-family: 'Open Sans', verdana, arial, sans-serif; font-size: 12px; fill: rgb(42, 63, 95); fill-opacity: 1; white-space: pre; opacity: 1;\">[198, 400]</text></g><g class=\"x2tick\"><text text-anchor=\"middle\" x=\"0\" y=\"363\" transform=\"translate(512.9955555555556,0)\" style=\"font-family: 'Open Sans', verdana, arial, sans-serif; font-size: 12px; fill: rgb(42, 63, 95); fill-opacity: 1; white-space: pre; opacity: 1;\">(400, 680]</text></g><g class=\"x2tick\"><text text-anchor=\"middle\" x=\"0\" y=\"363\" transform=\"translate(590.2255555555555,0)\" style=\"font-family: 'Open Sans', verdana, arial, sans-serif; font-size: 12px; fill: rgb(42, 63, 95); fill-opacity: 1; white-space: pre; opacity: 1;\">(680, 694]</text></g></g><g class=\"yaxislayer-above\"/><g class=\"overaxes-above\"/></g><g class=\"subplot x3y3\"><g class=\"layer-subplot\"><g class=\"shapelayer\"/><g class=\"imagelayer\"/></g><g class=\"minor-gridlayer\"><g class=\"x3\"/><g class=\"y3\"/></g><g class=\"gridlayer\"><g class=\"x3\"><path class=\"x3grid crisp\" transform=\"translate(720.9211111111111,0)\" d=\"M0,100v250\" style=\"stroke: rgb(255, 255, 255); stroke-opacity: 1; stroke-width: 1px;\"/><path class=\"x3grid crisp\" transform=\"translate(798.1511111111112,0)\" d=\"M0,100v250\" style=\"stroke: rgb(255, 255, 255); stroke-opacity: 1; stroke-width: 1px;\"/><path class=\"x3grid crisp\" transform=\"translate(875.3811111111111,0)\" d=\"M0,100v250\" style=\"stroke: rgb(255, 255, 255); stroke-opacity: 1; stroke-width: 1px;\"/></g><g class=\"y3\"><path class=\"y3grid crisp\" transform=\"translate(0,308.33000000000004)\" d=\"M682.3111111111111,0h231.68888888888887\" style=\"stroke: rgb(255, 255, 255); stroke-opacity: 1; stroke-width: 1px;\"/><path class=\"y3grid crisp\" transform=\"translate(0,225)\" d=\"M682.3111111111111,0h231.68888888888887\" style=\"stroke: rgb(255, 255, 255); stroke-opacity: 1; stroke-width: 1px;\"/><path class=\"y3grid crisp\" transform=\"translate(0,141.67000000000002)\" d=\"M682.3111111111111,0h231.68888888888887\" style=\"stroke: rgb(255, 255, 255); stroke-opacity: 1; stroke-width: 1px;\"/></g></g><g class=\"zerolinelayer\"/><path class=\"xlines-below\"/><path class=\"ylines-below\"/><g class=\"overlines-below\"/><g class=\"xaxislayer-below\"/><g class=\"yaxislayer-below\"/><g class=\"overaxes-below\"/><g class=\"plot\" transform=\"translate(682.3111111111111,100)\" clip-path=\"url(#clip4caeeax3y3plot)\"><g class=\"heatmaplayer mlayer\"><g class=\"hm\"><image xmlns=\"http://www.w3.org/2000/svg\" preserveAspectRatio=\"none\" height=\"250\" width=\"232\" x=\"0\" y=\"0\" xlink:href=\"data:image/png;base64,iVBORw0KGgoAAAANSUhEUgAAAAMAAAADCAYAAABWKLW/AAAAMElEQVQYV2O8Z6f7X6HPl4HJpI2R8dfM8P/3Z11iUD97nZHxrq3uf355PgaRJUcZATREDwQTMfA3AAAAAElFTkSuQmCC\" style=\"image-rendering: pixelated; opacity: 1;\"/><g class=\"heatmap-label\"><text text-anchor=\"middle\" data-notex=\"1\" x=\"39\" y=\"212.2\" style=\"font-family: 'Open Sans', verdana, arial, sans-serif; font-size: 12px; fill: rgb(255, 255, 255); fill-opacity: 1; white-space: pre;\">0.121</text></g><g class=\"heatmap-label\"><text text-anchor=\"middle\" data-notex=\"1\" x=\"116\" y=\"212.2\" style=\"font-family: 'Open Sans', verdana, arial, sans-serif; font-size: 12px; fill: rgb(68, 68, 68); fill-opacity: 1; white-space: pre;\">0.171</text></g><g class=\"heatmap-label\"><text text-anchor=\"middle\" data-notex=\"1\" x=\"193\" y=\"212.2\" style=\"font-family: 'Open Sans', verdana, arial, sans-serif; font-size: 12px; fill: rgb(255, 255, 255); fill-opacity: 1; white-space: pre;\">0.000</text></g><g class=\"heatmap-label\"><text text-anchor=\"middle\" data-notex=\"1\" x=\"39\" y=\"129.2\" style=\"font-family: 'Open Sans', verdana, arial, sans-serif; font-size: 12px; fill: rgb(68, 68, 68); fill-opacity: 1; white-space: pre;\">0.268</text></g><g class=\"heatmap-label\"><text text-anchor=\"middle\" data-notex=\"1\" x=\"116\" y=\"129.2\" style=\"font-family: 'Open Sans', verdana, arial, sans-serif; font-size: 12px; fill: rgb(255, 255, 255); fill-opacity: 1; white-space: pre;\">0.106</text></g><g class=\"heatmap-label\"><text text-anchor=\"middle\" data-notex=\"1\" x=\"193\" y=\"129.2\" style=\"font-family: 'Open Sans', verdana, arial, sans-serif; font-size: 12px; fill: rgb(255, 255, 255); fill-opacity: 1; white-space: pre;\">0.000</text></g><g class=\"heatmap-label\"><text text-anchor=\"middle\" data-notex=\"1\" x=\"39\" y=\"46.2\" style=\"font-family: 'Open Sans', verdana, arial, sans-serif; font-size: 12px; fill: rgb(255, 255, 255); fill-opacity: 1; white-space: pre;\">0.123</text></g><g class=\"heatmap-label\"><text text-anchor=\"middle\" data-notex=\"1\" x=\"116\" y=\"46.2\" style=\"font-family: 'Open Sans', verdana, arial, sans-serif; font-size: 12px; fill: rgb(68, 68, 68); fill-opacity: 1; white-space: pre;\">0.359</text></g><g class=\"heatmap-label\"><text text-anchor=\"middle\" data-notex=\"1\" x=\"193\" y=\"46.2\" style=\"font-family: 'Open Sans', verdana, arial, sans-serif; font-size: 12px; fill: rgb(255, 255, 255); fill-opacity: 1; white-space: pre;\">0.000</text></g></g></g></g><g class=\"overplot\"/><path class=\"xlines-above crisp\" style=\"fill: none;\" d=\"M0,0\"/><path class=\"ylines-above crisp\" style=\"fill: none;\" d=\"M0,0\"/><g class=\"overlines-above\"/><g class=\"xaxislayer-above\"><g class=\"x3tick\"><text text-anchor=\"middle\" x=\"0\" y=\"363\" transform=\"translate(720.9211111111111,0)\" style=\"font-family: 'Open Sans', verdana, arial, sans-serif; font-size: 12px; fill: rgb(42, 63, 95); fill-opacity: 1; white-space: pre; opacity: 1;\">[13, 17]</text></g><g class=\"x3tick\"><text text-anchor=\"middle\" x=\"0\" y=\"363\" transform=\"translate(798.1511111111112,0)\" style=\"font-family: 'Open Sans', verdana, arial, sans-serif; font-size: 12px; fill: rgb(42, 63, 95); fill-opacity: 1; white-space: pre; opacity: 1;\">(17, 33]</text></g><g class=\"x3tick\"><text text-anchor=\"middle\" x=\"0\" y=\"363\" transform=\"translate(875.3811111111111,0)\" style=\"font-family: 'Open Sans', verdana, arial, sans-serif; font-size: 12px; fill: rgb(42, 63, 95); fill-opacity: 1; white-space: pre; opacity: 1;\">(33, 33]</text></g></g><g class=\"yaxislayer-above\"/><g class=\"overaxes-above\"/></g></g><g class=\"polarlayer\"/><g class=\"smithlayer\"/><g class=\"ternarylayer\"/><g class=\"geolayer\"/><g class=\"funnelarealayer\"/><g class=\"pielayer\"/><g class=\"iciclelayer\"/><g class=\"treemaplayer\"/><g class=\"sunburstlayer\"/><g class=\"glimages\"/><defs id=\"topdefs-4caeea\"><g class=\"clips\"/></defs><g class=\"layer-above\"><g class=\"imagelayer\"/><g class=\"shapelayer\"/></g><g class=\"infolayer\"><g class=\"cb25bb97 colorbar\" transform=\"translate(112,100)\"><rect class=\"cbbg\" x=\"818\" y=\"0\" width=\"107.859375\" height=\"250\" style=\"fill: rgb(0, 0, 0); fill-opacity: 0; stroke: rgb(68, 68, 68); stroke-opacity: 1; stroke-width: 0;\"/><g class=\"cbfills\" transform=\"translate(0,33)\"><rect class=\"cbfill gradient_filled\" style=\"fill: url('#g4caeea-cb25bb97');\" x=\"828\" y=\"0\" width=\"30\" height=\"207\"/></g><g class=\"cblines\" transform=\"translate(0,33)\"/><g class=\"cbaxis crisp\" transform=\"translate(0,-100)\"><g class=\"ycb25bb97tick\"><text text-anchor=\"start\" x=\"860.9\" y=\"4.199999999999999\" transform=\"translate(0,339.999375)\" style=\"font-family: 'Open Sans', verdana, arial, sans-serif; font-size: 12px; fill: rgb(42, 63, 95); fill-opacity: 1; white-space: pre; opacity: 1;\">0</text></g><g class=\"ycb25bb97tick\"><text text-anchor=\"start\" x=\"860.9\" y=\"4.199999999999999\" style=\"font-family: 'Open Sans', verdana, arial, sans-serif; font-size: 12px; fill: rgb(42, 63, 95); fill-opacity: 1; white-space: pre; opacity: 1;\" transform=\"translate(0,298.51937499999997)\">0.2</text></g><g class=\"ycb25bb97tick\"><text text-anchor=\"start\" x=\"860.9\" y=\"4.199999999999999\" style=\"font-family: 'Open Sans', verdana, arial, sans-serif; font-size: 12px; fill: rgb(42, 63, 95); fill-opacity: 1; white-space: pre; opacity: 1;\" transform=\"translate(0,257.039375)\">0.4</text></g><g class=\"ycb25bb97tick\"><text text-anchor=\"start\" x=\"860.9\" y=\"4.199999999999999\" style=\"font-family: 'Open Sans', verdana, arial, sans-serif; font-size: 12px; fill: rgb(42, 63, 95); fill-opacity: 1; white-space: pre; opacity: 1;\" transform=\"translate(0,215.56937499999998)\">0.6</text></g><g class=\"ycb25bb97tick\"><text text-anchor=\"start\" x=\"860.9\" y=\"4.199999999999999\" style=\"font-family: 'Open Sans', verdana, arial, sans-serif; font-size: 12px; fill: rgb(42, 63, 95); fill-opacity: 1; white-space: pre; opacity: 1;\" transform=\"translate(0,174.089375)\">0.8</text></g><g class=\"ycb25bb97tick\"><text text-anchor=\"start\" x=\"860.9\" y=\"4.199999999999999\" style=\"font-family: 'Open Sans', verdana, arial, sans-serif; font-size: 12px; fill: rgb(42, 63, 95); fill-opacity: 1; white-space: pre; opacity: 1;\" transform=\"translate(0,132.609375)\">1</text></g></g><g class=\"cbtitleunshift\" transform=\"translate(-112,-100)\"><g class=\"cbtitle\" transform=\"\"><text class=\"ycb25bb97title\" x=\"940.04\" y=\"123.5\" text-anchor=\"start\" style=\"font-family: 'Open Sans', verdana, arial, sans-serif; font-size: 14px; fill: rgb(42, 63, 95); opacity: 1; font-weight: normal; white-space: pre;\">d(Pearson r)</text></g></g><rect class=\"cboutline\" x=\"828\" y=\"32.609375\" width=\"30\" height=\"207.390625\" style=\"stroke: rgb(68, 68, 68); stroke-opacity: 1; fill: none; stroke-width: 0;\"/></g><g class=\"g-gtitle\"/><g class=\"g-xtitle\"><text class=\"xtitle\" x=\"227.84444444444446\" y=\"389.70625\" text-anchor=\"middle\" style=\"font-family: 'Open Sans', verdana, arial, sans-serif; font-size: 14px; fill: rgb(42, 63, 95); opacity: 1; font-weight: normal; white-space: pre;\">#compound-target pairs per accession</text></g><g class=\"g-x2title\"><text class=\"x2title\" x=\"513\" y=\"389.70625\" text-anchor=\"middle\" style=\"font-family: 'Open Sans', verdana, arial, sans-serif; font-size: 14px; fill: rgb(42, 63, 95); opacity: 1; font-weight: normal; white-space: pre;\">#compound-target pairs per accession</text></g><g class=\"g-x3title\"><text class=\"x3title\" x=\"798.1555555555556\" y=\"389.70625\" text-anchor=\"middle\" style=\"font-family: 'Open Sans', verdana, arial, sans-serif; font-size: 14px; fill: rgb(42, 63, 95); opacity: 1; font-weight: normal; white-space: pre;\">#compound-target pairs per accession</text></g><g class=\"g-ytitle\" transform=\"translate(1.7060546875,0)\"><text class=\"ytitle\" transform=\"rotate(-90,12.700000000000003,225)\" x=\"12.700000000000003\" y=\"225\" text-anchor=\"middle\" style=\"font-family: 'Open Sans', verdana, arial, sans-serif; font-size: 14px; fill: rgb(42, 63, 95); opacity: 1; font-weight: normal; white-space: pre;\">Minority class (WT/mutant) %</text></g><g class=\"g-y2title\"/><g class=\"g-y3title\"/><g class=\"annotation\" data-index=\"0\" style=\"opacity: 1;\"><g class=\"annotation-text-g\" transform=\"rotate(0,227.84444444444446,88.5)\"><g class=\"cursor-pointer\" transform=\"translate(98,77)\"><rect class=\"bg\" x=\"0.5\" y=\"0.5\" width=\"259\" height=\"22\" style=\"stroke-width: 1px; stroke: rgb(0, 0, 0); stroke-opacity: 0; fill: rgb(0, 0, 0); fill-opacity: 0;\"/><text class=\"annotation-text\" text-anchor=\"middle\" x=\"130.09375\" y=\"18\" style=\"font-family: 'Open Sans', verdana, arial, sans-serif; font-size: 16px; fill: rgb(42, 63, 95); fill-opacity: 1; white-space: pre;\">PCM complete - QSAR complete</text></g></g></g><g class=\"annotation\" data-index=\"1\" style=\"opacity: 1;\"><g class=\"annotation-text-g\" transform=\"rotate(0,513,88.49999999999999)\"><g class=\"cursor-pointer\" transform=\"translate(372,77)\"><rect class=\"bg\" x=\"0.5\" y=\"0.5\" width=\"281\" height=\"22\" style=\"stroke-width: 1px; stroke: rgb(0, 0, 0); stroke-opacity: 0; fill: rgb(0, 0, 0); fill-opacity: 0;\"/><text class=\"annotation-text\" text-anchor=\"middle\" x=\"140.734375\" y=\"18\" style=\"font-family: 'Open Sans', verdana, arial, sans-serif; font-size: 16px; fill: rgb(42, 63, 95); fill-opacity: 1; white-space: pre;\">QSAR complete - QSAR no mutant</text></g></g></g><g class=\"annotation\" data-index=\"2\" style=\"opacity: 1;\"><g class=\"annotation-text-g\" transform=\"rotate(0,798.1555555555556,88.5)\"><g class=\"cursor-pointer\" transform=\"translate(672,77)\"><rect class=\"bg\" x=\"0.5\" y=\"0.5\" width=\"251\" height=\"22\" style=\"stroke-width: 1px; stroke: rgb(0, 0, 0); stroke-opacity: 0; fill: rgb(0, 0, 0); fill-opacity: 0;\"/><text class=\"annotation-text\" text-anchor=\"middle\" x=\"125.765625\" y=\"18\" style=\"font-family: 'Open Sans', verdana, arial, sans-serif; font-size: 16px; fill: rgb(42, 63, 95); fill-opacity: 1; white-space: pre;\">PCM common - QSAR common</text></g></g></g></g></svg>"
      ],
      "text/plain": [
       "<IPython.core.display.SVG object>"
      ]
     },
     "metadata": {},
     "output_type": "display_data"
    },
    {
     "data": {
      "image/svg+xml": [
       "<svg xmlns=\"http://www.w3.org/2000/svg\" xmlns:xlink=\"http://www.w3.org/1999/xlink\" class=\"main-svg\" width=\"1050\" height=\"430\" style=\"\" viewBox=\"0 0 1050 430\"><rect x=\"0\" y=\"0\" width=\"1050\" height=\"430\" style=\"fill: rgb(255, 255, 255); fill-opacity: 1;\"/><defs id=\"defs-7cd2a3\"><g class=\"clips\"><clipPath id=\"clip7cd2a3xyplot\" class=\"plotclip\"><rect width=\"231.68888888888893\" height=\"235\"/></clipPath><clipPath id=\"clip7cd2a3x2y2plot\" class=\"plotclip\"><rect width=\"231.68888888888893\" height=\"235\"/></clipPath><clipPath id=\"clip7cd2a3x3y3plot\" class=\"plotclip\"><rect width=\"231.68888888888887\" height=\"235\"/></clipPath><clipPath class=\"axesclip\" id=\"clip7cd2a3x\"><rect x=\"112\" y=\"0\" width=\"231.68888888888893\" height=\"430\"/></clipPath><clipPath class=\"axesclip\" id=\"clip7cd2a3y\"><rect x=\"0\" y=\"100\" width=\"1050\" height=\"235\"/></clipPath><clipPath class=\"axesclip\" id=\"clip7cd2a3xy\"><rect x=\"112\" y=\"100\" width=\"231.68888888888893\" height=\"235\"/></clipPath><clipPath class=\"axesclip\" id=\"clip7cd2a3y2\"><rect x=\"0\" y=\"100\" width=\"1050\" height=\"235\"/></clipPath><clipPath class=\"axesclip\" id=\"clip7cd2a3xy2\"><rect x=\"112\" y=\"100\" width=\"231.68888888888893\" height=\"235\"/></clipPath><clipPath class=\"axesclip\" id=\"clip7cd2a3y3\"><rect x=\"0\" y=\"100\" width=\"1050\" height=\"235\"/></clipPath><clipPath class=\"axesclip\" id=\"clip7cd2a3xy3\"><rect x=\"112\" y=\"100\" width=\"231.68888888888893\" height=\"235\"/></clipPath><clipPath class=\"axesclip\" id=\"clip7cd2a3x2\"><rect x=\"397.15555555555557\" y=\"0\" width=\"231.68888888888893\" height=\"430\"/></clipPath><clipPath class=\"axesclip\" id=\"clip7cd2a3x2y\"><rect x=\"397.15555555555557\" y=\"100\" width=\"231.68888888888893\" height=\"235\"/></clipPath><clipPath class=\"axesclip\" id=\"clip7cd2a3x2y2\"><rect x=\"397.15555555555557\" y=\"100\" width=\"231.68888888888893\" height=\"235\"/></clipPath><clipPath class=\"axesclip\" id=\"clip7cd2a3x2y3\"><rect x=\"397.15555555555557\" y=\"100\" width=\"231.68888888888893\" height=\"235\"/></clipPath><clipPath class=\"axesclip\" id=\"clip7cd2a3x3\"><rect x=\"682.3111111111111\" y=\"0\" width=\"231.68888888888887\" height=\"430\"/></clipPath><clipPath class=\"axesclip\" id=\"clip7cd2a3x3y\"><rect x=\"682.3111111111111\" y=\"100\" width=\"231.68888888888887\" height=\"235\"/></clipPath><clipPath class=\"axesclip\" id=\"clip7cd2a3x3y2\"><rect x=\"682.3111111111111\" y=\"100\" width=\"231.68888888888887\" height=\"235\"/></clipPath><clipPath class=\"axesclip\" id=\"clip7cd2a3x3y3\"><rect x=\"682.3111111111111\" y=\"100\" width=\"231.68888888888887\" height=\"235\"/></clipPath></g><g class=\"gradients\"><linearGradient x1=\"0\" x2=\"0\" y1=\"1\" y2=\"0\" id=\"g7cd2a3-cb457091\"><stop offset=\"0%\" stop-color=\"rgb(165, 0, 38)\" stop-opacity=\"1\"/><stop offset=\"10%\" stop-color=\"rgb(215, 48, 39)\" stop-opacity=\"1\"/><stop offset=\"20%\" stop-color=\"rgb(244, 109, 67)\" stop-opacity=\"1\"/><stop offset=\"30%\" stop-color=\"rgb(253, 174, 97)\" stop-opacity=\"1\"/><stop offset=\"40%\" stop-color=\"rgb(254, 224, 139)\" stop-opacity=\"1\"/><stop offset=\"50%\" stop-color=\"rgb(255, 255, 191)\" stop-opacity=\"1\"/><stop offset=\"60%\" stop-color=\"rgb(217, 239, 139)\" stop-opacity=\"1\"/><stop offset=\"70%\" stop-color=\"rgb(166, 217, 106)\" stop-opacity=\"1\"/><stop offset=\"80%\" stop-color=\"rgb(102, 189, 99)\" stop-opacity=\"1\"/><stop offset=\"90%\" stop-color=\"rgb(26, 152, 80)\" stop-opacity=\"1\"/><stop offset=\"100%\" stop-color=\"rgb(0, 104, 55)\" stop-opacity=\"1\"/></linearGradient></g><g class=\"patterns\"/></defs><g class=\"bglayer\"><rect class=\"bg\" x=\"112\" y=\"100\" width=\"231.68888888888893\" height=\"235\" style=\"fill: rgb(229, 236, 246); fill-opacity: 1; stroke-width: 0;\"/><rect class=\"bg\" x=\"397.15555555555557\" y=\"100\" width=\"231.68888888888893\" height=\"235\" style=\"fill: rgb(229, 236, 246); fill-opacity: 1; stroke-width: 0;\"/><rect class=\"bg\" x=\"682.3111111111111\" y=\"100\" width=\"231.68888888888887\" height=\"235\" style=\"fill: rgb(229, 236, 246); fill-opacity: 1; stroke-width: 0;\"/></g><g class=\"layer-below\"><g class=\"imagelayer\"/><g class=\"shapelayer\"/></g><g class=\"cartesianlayer\"><g class=\"subplot xy\"><g class=\"layer-subplot\"><g class=\"shapelayer\"/><g class=\"imagelayer\"/></g><g class=\"minor-gridlayer\"><g class=\"x\"/><g class=\"y\"/></g><g class=\"gridlayer\"><g class=\"x\"><path class=\"xgrid crisp\" transform=\"translate(150.61,0)\" d=\"M0,100v235\" style=\"stroke: rgb(255, 255, 255); stroke-opacity: 1; stroke-width: 1px;\"/><path class=\"xgrid crisp\" transform=\"translate(227.84,0)\" d=\"M0,100v235\" style=\"stroke: rgb(255, 255, 255); stroke-opacity: 1; stroke-width: 1px;\"/><path class=\"xgrid crisp\" transform=\"translate(305.07,0)\" d=\"M0,100v235\" style=\"stroke: rgb(255, 255, 255); stroke-opacity: 1; stroke-width: 1px;\"/></g><g class=\"y\"><path class=\"ygrid crisp\" transform=\"translate(0,295.83000000000004)\" d=\"M112,0h231.68888888888893\" style=\"stroke: rgb(255, 255, 255); stroke-opacity: 1; stroke-width: 1px;\"/><path class=\"ygrid crisp\" transform=\"translate(0,217.5)\" d=\"M112,0h231.68888888888893\" style=\"stroke: rgb(255, 255, 255); stroke-opacity: 1; stroke-width: 1px;\"/><path class=\"ygrid crisp\" transform=\"translate(0,139.17000000000002)\" d=\"M112,0h231.68888888888893\" style=\"stroke: rgb(255, 255, 255); stroke-opacity: 1; stroke-width: 1px;\"/></g></g><g class=\"zerolinelayer\"/><path class=\"xlines-below\"/><path class=\"ylines-below\"/><g class=\"overlines-below\"/><g class=\"xaxislayer-below\"/><g class=\"yaxislayer-below\"/><g class=\"overaxes-below\"/><g class=\"plot\" transform=\"translate(112,100)\" clip-path=\"url(#clip7cd2a3xyplot)\"><g class=\"heatmaplayer mlayer\"><g class=\"hm\"><image xmlns=\"http://www.w3.org/2000/svg\" preserveAspectRatio=\"none\" height=\"235\" width=\"232\" x=\"0\" y=\"0\" xlink:href=\"data:image/png;base64,iVBORw0KGgoAAAANSUhEUgAAAAMAAAADCAYAAABWKLW/AAAALUlEQVQYV2PcJqj2/8MHBgY+XgYGxiNy6v8/ffrPwMvLyMC4glnt/79/DGAAABQ/DL1A6GNLAAAAAElFTkSuQmCC\" style=\"image-rendering: pixelated; opacity: 1;\"/><g class=\"heatmap-label\"><text text-anchor=\"middle\" data-notex=\"1\" x=\"39\" y=\"200.2\" style=\"font-family: 'Open Sans', verdana, arial, sans-serif; font-size: 12px; fill: rgb(255, 255, 255); fill-opacity: 1; white-space: pre;\">0.006</text></g><g class=\"heatmap-label\"><text text-anchor=\"middle\" data-notex=\"1\" x=\"116\" y=\"200.2\" style=\"font-family: 'Open Sans', verdana, arial, sans-serif; font-size: 12px; fill: rgb(255, 255, 255); fill-opacity: 1; white-space: pre;\">0.003</text></g><g class=\"heatmap-label\"><text text-anchor=\"middle\" data-notex=\"1\" x=\"193\" y=\"200.2\" style=\"font-family: 'Open Sans', verdana, arial, sans-serif; font-size: 12px; fill: rgb(255, 255, 255); fill-opacity: 1; white-space: pre;\">0.002</text></g><g class=\"heatmap-label\"><text text-anchor=\"middle\" data-notex=\"1\" x=\"39\" y=\"122.2\" style=\"font-family: 'Open Sans', verdana, arial, sans-serif; font-size: 12px; fill: rgb(255, 255, 255); fill-opacity: 1; white-space: pre;\">0.062</text></g><g class=\"heatmap-label\"><text text-anchor=\"middle\" data-notex=\"1\" x=\"116\" y=\"122.2\" style=\"font-family: 'Open Sans', verdana, arial, sans-serif; font-size: 12px; fill: rgb(255, 255, 255); fill-opacity: 1; white-space: pre;\">0.033</text></g><g class=\"heatmap-label\"><text text-anchor=\"middle\" data-notex=\"1\" x=\"193\" y=\"122.2\" style=\"font-family: 'Open Sans', verdana, arial, sans-serif; font-size: 12px; fill: rgb(255, 255, 255); fill-opacity: 1; white-space: pre;\">0.060</text></g><g class=\"heatmap-label\"><text text-anchor=\"middle\" data-notex=\"1\" x=\"39\" y=\"43.2\" style=\"font-family: 'Open Sans', verdana, arial, sans-serif; font-size: 12px; fill: rgb(255, 255, 255); fill-opacity: 1; white-space: pre;\">0.035</text></g><g class=\"heatmap-label\"><text text-anchor=\"middle\" data-notex=\"1\" x=\"116\" y=\"43.2\" style=\"font-family: 'Open Sans', verdana, arial, sans-serif; font-size: 12px; fill: rgb(255, 255, 255); fill-opacity: 1; white-space: pre;\">0.001</text></g><g class=\"heatmap-label\"><text text-anchor=\"middle\" data-notex=\"1\" x=\"193\" y=\"43.2\" style=\"font-family: 'Open Sans', verdana, arial, sans-serif; font-size: 12px; fill: rgb(255, 255, 255); fill-opacity: 1; white-space: pre;\">0.029</text></g></g></g></g><g class=\"overplot\"/><path class=\"xlines-above crisp\" style=\"fill: none;\" d=\"M0,0\"/><path class=\"ylines-above crisp\" style=\"fill: none;\" d=\"M0,0\"/><g class=\"overlines-above\"/><g class=\"xaxislayer-above\"><g class=\"xtick\"><text text-anchor=\"start\" x=\"0\" y=\"348\" transform=\"translate(150.61,0) rotate(30,0,342)\" style=\"font-family: 'Open Sans', verdana, arial, sans-serif; font-size: 12px; fill: rgb(42, 63, 95); fill-opacity: 1; white-space: pre; opacity: 1;\">[694, 1408]</text></g><g class=\"xtick\"><text text-anchor=\"start\" x=\"0\" y=\"348\" transform=\"translate(227.84,0) rotate(30,0,342)\" style=\"font-family: 'Open Sans', verdana, arial, sans-serif; font-size: 12px; fill: rgb(42, 63, 95); fill-opacity: 1; white-space: pre; opacity: 1;\">(1408, 3467]</text></g><g class=\"xtick\"><text text-anchor=\"start\" x=\"0\" y=\"348\" transform=\"translate(305.07,0) rotate(30,0,342)\" style=\"font-family: 'Open Sans', verdana, arial, sans-serif; font-size: 12px; fill: rgb(42, 63, 95); fill-opacity: 1; white-space: pre; opacity: 1;\">(3467, 20056]</text></g></g><g class=\"yaxislayer-above\"><g class=\"ytick\"><text text-anchor=\"end\" x=\"111\" y=\"4.199999999999999\" transform=\"translate(0,295.83000000000004)\" style=\"font-family: 'Open Sans', verdana, arial, sans-serif; font-size: 12px; fill: rgb(42, 63, 95); fill-opacity: 1; white-space: pre; opacity: 1;\">[-0, 15]</text></g><g class=\"ytick\"><text text-anchor=\"end\" x=\"111\" y=\"4.199999999999999\" transform=\"translate(0,217.5)\" style=\"font-family: 'Open Sans', verdana, arial, sans-serif; font-size: 12px; fill: rgb(42, 63, 95); fill-opacity: 1; white-space: pre; opacity: 1;\">(15.0, 30.0]</text></g><g class=\"ytick\"><text text-anchor=\"end\" x=\"111\" y=\"4.199999999999999\" transform=\"translate(0,139.17000000000002)\" style=\"font-family: 'Open Sans', verdana, arial, sans-serif; font-size: 12px; fill: rgb(42, 63, 95); fill-opacity: 1; white-space: pre; opacity: 1;\">(30.0, 50.0]</text></g></g><g class=\"overaxes-above\"/></g><g class=\"subplot x2y2\"><g class=\"layer-subplot\"><g class=\"shapelayer\"/><g class=\"imagelayer\"/></g><g class=\"minor-gridlayer\"><g class=\"x2\"/><g class=\"y2\"/></g><g class=\"gridlayer\"><g class=\"x2\"><path class=\"x2grid crisp\" transform=\"translate(435.7655555555556,0)\" d=\"M0,100v235\" style=\"stroke: rgb(255, 255, 255); stroke-opacity: 1; stroke-width: 1px;\"/><path class=\"x2grid crisp\" transform=\"translate(512.9955555555556,0)\" d=\"M0,100v235\" style=\"stroke: rgb(255, 255, 255); stroke-opacity: 1; stroke-width: 1px;\"/><path class=\"x2grid crisp\" transform=\"translate(590.2255555555555,0)\" d=\"M0,100v235\" style=\"stroke: rgb(255, 255, 255); stroke-opacity: 1; stroke-width: 1px;\"/></g><g class=\"y2\"><path class=\"y2grid crisp\" transform=\"translate(0,295.83000000000004)\" d=\"M397.15555555555557,0h231.68888888888893\" style=\"stroke: rgb(255, 255, 255); stroke-opacity: 1; stroke-width: 1px;\"/><path class=\"y2grid crisp\" transform=\"translate(0,217.5)\" d=\"M397.15555555555557,0h231.68888888888893\" style=\"stroke: rgb(255, 255, 255); stroke-opacity: 1; stroke-width: 1px;\"/><path class=\"y2grid crisp\" transform=\"translate(0,139.17000000000002)\" d=\"M397.15555555555557,0h231.68888888888893\" style=\"stroke: rgb(255, 255, 255); stroke-opacity: 1; stroke-width: 1px;\"/></g></g><g class=\"zerolinelayer\"/><path class=\"xlines-below\"/><path class=\"ylines-below\"/><g class=\"overlines-below\"/><g class=\"xaxislayer-below\"/><g class=\"yaxislayer-below\"/><g class=\"overaxes-below\"/><g class=\"plot\" transform=\"translate(397.15555555555557,100)\" clip-path=\"url(#clip7cd2a3x2y2plot)\"><g class=\"heatmaplayer mlayer\"><g class=\"hm\"><image xmlns=\"http://www.w3.org/2000/svg\" preserveAspectRatio=\"none\" height=\"235\" width=\"232\" x=\"0\" y=\"0\" xlink:href=\"data:image/png;base64,iVBORw0KGgoAAAANSUhEUgAAAAMAAAADCAYAAABWKLW/AAAAHElEQVQYV2NcyqD231CfkeH8xf8MjCAOAxSgcADVTAhiedj3BQAAAABJRU5ErkJggg==\" style=\"image-rendering: pixelated; opacity: 1;\"/><g class=\"heatmap-label\"><text text-anchor=\"middle\" data-notex=\"1\" x=\"39\" y=\"200.2\" style=\"font-family: 'Open Sans', verdana, arial, sans-serif; font-size: 12px; fill: rgb(255, 255, 255); fill-opacity: 1; white-space: pre;\">-0.007</text></g><g class=\"heatmap-label\"><text text-anchor=\"middle\" data-notex=\"1\" x=\"116\" y=\"200.2\" style=\"font-family: 'Open Sans', verdana, arial, sans-serif; font-size: 12px; fill: rgb(255, 255, 255); fill-opacity: 1; white-space: pre;\">0.000</text></g><g class=\"heatmap-label\"><text text-anchor=\"middle\" data-notex=\"1\" x=\"193\" y=\"200.2\" style=\"font-family: 'Open Sans', verdana, arial, sans-serif; font-size: 12px; fill: rgb(255, 255, 255); fill-opacity: 1; white-space: pre;\">-0.001</text></g><g class=\"heatmap-label\"><text text-anchor=\"middle\" data-notex=\"1\" x=\"39\" y=\"122.2\" style=\"font-family: 'Open Sans', verdana, arial, sans-serif; font-size: 12px; fill: rgb(255, 255, 255); fill-opacity: 1; white-space: pre;\">-0.185</text></g><g class=\"heatmap-label\"><text text-anchor=\"middle\" data-notex=\"1\" x=\"116\" y=\"122.2\" style=\"font-family: 'Open Sans', verdana, arial, sans-serif; font-size: 12px; fill: rgb(255, 255, 255); fill-opacity: 1; white-space: pre;\">-0.004</text></g><g class=\"heatmap-label\"><text text-anchor=\"middle\" data-notex=\"1\" x=\"193\" y=\"122.2\" style=\"font-family: 'Open Sans', verdana, arial, sans-serif; font-size: 12px; fill: rgb(255, 255, 255); fill-opacity: 1; white-space: pre;\">-0.053</text></g><g class=\"heatmap-label\"><text text-anchor=\"middle\" data-notex=\"1\" x=\"39\" y=\"43.2\" style=\"font-family: 'Open Sans', verdana, arial, sans-serif; font-size: 12px; fill: rgb(255, 255, 255); fill-opacity: 1; white-space: pre;\">-0.023</text></g><g class=\"heatmap-label\"><text text-anchor=\"middle\" data-notex=\"1\" x=\"116\" y=\"43.2\" style=\"font-family: 'Open Sans', verdana, arial, sans-serif; font-size: 12px; fill: rgb(255, 255, 255); fill-opacity: 1; white-space: pre;\">0.098</text></g><g class=\"heatmap-label\"><text text-anchor=\"middle\" data-notex=\"1\" x=\"193\" y=\"43.2\" style=\"font-family: 'Open Sans', verdana, arial, sans-serif; font-size: 12px; fill: rgb(255, 255, 255); fill-opacity: 1; white-space: pre;\">-0.019</text></g></g></g></g><g class=\"overplot\"/><path class=\"xlines-above crisp\" style=\"fill: none;\" d=\"M0,0\"/><path class=\"ylines-above crisp\" style=\"fill: none;\" d=\"M0,0\"/><g class=\"overlines-above\"/><g class=\"xaxislayer-above\"><g class=\"x2tick\"><text text-anchor=\"start\" x=\"0\" y=\"348\" transform=\"translate(435.7655555555556,0) rotate(30,0,342)\" style=\"font-family: 'Open Sans', verdana, arial, sans-serif; font-size: 12px; fill: rgb(42, 63, 95); fill-opacity: 1; white-space: pre; opacity: 1;\">[694, 1408]</text></g><g class=\"x2tick\"><text text-anchor=\"start\" x=\"0\" y=\"348\" transform=\"translate(512.9955555555556,0) rotate(30,0,342)\" style=\"font-family: 'Open Sans', verdana, arial, sans-serif; font-size: 12px; fill: rgb(42, 63, 95); fill-opacity: 1; white-space: pre; opacity: 1;\">(1408, 3467]</text></g><g class=\"x2tick\"><text text-anchor=\"start\" x=\"0\" y=\"348\" transform=\"translate(590.2255555555555,0) rotate(30,0,342)\" style=\"font-family: 'Open Sans', verdana, arial, sans-serif; font-size: 12px; fill: rgb(42, 63, 95); fill-opacity: 1; white-space: pre; opacity: 1;\">(3467, 20056]</text></g></g><g class=\"yaxislayer-above\"/><g class=\"overaxes-above\"/></g><g class=\"subplot x3y3\"><g class=\"layer-subplot\"><g class=\"shapelayer\"/><g class=\"imagelayer\"/></g><g class=\"minor-gridlayer\"><g class=\"x3\"/><g class=\"y3\"/></g><g class=\"gridlayer\"><g class=\"x3\"><path class=\"x3grid crisp\" transform=\"translate(720.9211111111111,0)\" d=\"M0,100v235\" style=\"stroke: rgb(255, 255, 255); stroke-opacity: 1; stroke-width: 1px;\"/><path class=\"x3grid crisp\" transform=\"translate(798.1511111111112,0)\" d=\"M0,100v235\" style=\"stroke: rgb(255, 255, 255); stroke-opacity: 1; stroke-width: 1px;\"/><path class=\"x3grid crisp\" transform=\"translate(875.3811111111111,0)\" d=\"M0,100v235\" style=\"stroke: rgb(255, 255, 255); stroke-opacity: 1; stroke-width: 1px;\"/></g><g class=\"y3\"><path class=\"y3grid crisp\" transform=\"translate(0,295.83000000000004)\" d=\"M682.3111111111111,0h231.68888888888887\" style=\"stroke: rgb(255, 255, 255); stroke-opacity: 1; stroke-width: 1px;\"/><path class=\"y3grid crisp\" transform=\"translate(0,217.5)\" d=\"M682.3111111111111,0h231.68888888888887\" style=\"stroke: rgb(255, 255, 255); stroke-opacity: 1; stroke-width: 1px;\"/><path class=\"y3grid crisp\" transform=\"translate(0,139.17000000000002)\" d=\"M682.3111111111111,0h231.68888888888887\" style=\"stroke: rgb(255, 255, 255); stroke-opacity: 1; stroke-width: 1px;\"/></g></g><g class=\"zerolinelayer\"/><path class=\"xlines-below\"/><path class=\"ylines-below\"/><g class=\"overlines-below\"/><g class=\"xaxislayer-below\"/><g class=\"yaxislayer-below\"/><g class=\"overaxes-below\"/><g class=\"plot\" transform=\"translate(682.3111111111111,100)\" clip-path=\"url(#clip7cd2a3x3y3plot)\"><g class=\"heatmaplayer mlayer\"><g class=\"hm\"><image xmlns=\"http://www.w3.org/2000/svg\" preserveAspectRatio=\"none\" height=\"235\" width=\"232\" x=\"0\" y=\"0\" xlink:href=\"data:image/png;base64,iVBORw0KGgoAAAANSUhEUgAAAAMAAAADCAYAAABWKLW/AAAAMklEQVQYVwEnANj/Ae5gPf8IHA0A2q7dAAH9tmj/APr7AAEfGgAB/s17//OZxQDewucAVgcSiqTYxu4AAAAASUVORK5CYII=\" style=\"image-rendering: pixelated; opacity: 1;\"/><g class=\"heatmap-label\"><text text-anchor=\"middle\" data-notex=\"1\" x=\"39\" y=\"200.2\" style=\"font-family: 'Open Sans', verdana, arial, sans-serif; font-size: 12px; fill: rgb(68, 68, 68); fill-opacity: 1; white-space: pre;\">0.363</text></g><g class=\"heatmap-label\"><text text-anchor=\"middle\" data-notex=\"1\" x=\"116\" y=\"200.2\" style=\"font-family: 'Open Sans', verdana, arial, sans-serif; font-size: 12px; fill: rgb(68, 68, 68); fill-opacity: 1; white-space: pre;\">0.189</text></g><g class=\"heatmap-label\"><text text-anchor=\"middle\" data-notex=\"1\" x=\"193\" y=\"200.2\" style=\"font-family: 'Open Sans', verdana, arial, sans-serif; font-size: 12px; fill: rgb(255, 255, 255); fill-opacity: 1; white-space: pre;\">0.084</text></g><g class=\"heatmap-label\"><text text-anchor=\"middle\" data-notex=\"1\" x=\"39\" y=\"122.2\" style=\"font-family: 'Open Sans', verdana, arial, sans-serif; font-size: 12px; fill: rgb(68, 68, 68); fill-opacity: 1; white-space: pre;\">0.317</text></g><g class=\"heatmap-label\"><text text-anchor=\"middle\" data-notex=\"1\" x=\"116\" y=\"122.2\" style=\"font-family: 'Open Sans', verdana, arial, sans-serif; font-size: 12px; fill: rgb(68, 68, 68); fill-opacity: 1; white-space: pre;\">0.304</text></g><g class=\"heatmap-label\"><text text-anchor=\"middle\" data-notex=\"1\" x=\"193\" y=\"122.2\" style=\"font-family: 'Open Sans', verdana, arial, sans-serif; font-size: 12px; fill: rgb(68, 68, 68); fill-opacity: 1; white-space: pre;\">0.366</text></g><g class=\"heatmap-label\"><text text-anchor=\"middle\" data-notex=\"1\" x=\"39\" y=\"43.2\" style=\"font-family: 'Open Sans', verdana, arial, sans-serif; font-size: 12px; fill: rgb(68, 68, 68); fill-opacity: 1; white-space: pre;\">0.178</text></g><g class=\"heatmap-label\"><text text-anchor=\"middle\" data-notex=\"1\" x=\"116\" y=\"43.2\" style=\"font-family: 'Open Sans', verdana, arial, sans-serif; font-size: 12px; fill: rgb(68, 68, 68); fill-opacity: 1; white-space: pre;\">0.223</text></g><g class=\"heatmap-label\"><text text-anchor=\"middle\" data-notex=\"1\" x=\"193\" y=\"43.2\" style=\"font-family: 'Open Sans', verdana, arial, sans-serif; font-size: 12px; fill: rgb(255, 255, 255); fill-opacity: 1; white-space: pre;\">0.087</text></g></g></g></g><g class=\"overplot\"/><path class=\"xlines-above crisp\" style=\"fill: none;\" d=\"M0,0\"/><path class=\"ylines-above crisp\" style=\"fill: none;\" d=\"M0,0\"/><g class=\"overlines-above\"/><g class=\"xaxislayer-above\"><g class=\"x3tick\"><text text-anchor=\"middle\" x=\"0\" y=\"348\" transform=\"translate(720.9211111111111,0)\" style=\"font-family: 'Open Sans', verdana, arial, sans-serif; font-size: 12px; fill: rgb(42, 63, 95); fill-opacity: 1; white-space: pre; opacity: 1;\">[33, 54]</text></g><g class=\"x3tick\"><text text-anchor=\"middle\" x=\"0\" y=\"348\" transform=\"translate(798.1511111111112,0)\" style=\"font-family: 'Open Sans', verdana, arial, sans-serif; font-size: 12px; fill: rgb(42, 63, 95); fill-opacity: 1; white-space: pre; opacity: 1;\">(54, 120]</text></g><g class=\"x3tick\"><text text-anchor=\"middle\" x=\"0\" y=\"348\" transform=\"translate(875.3811111111111,0)\" style=\"font-family: 'Open Sans', verdana, arial, sans-serif; font-size: 12px; fill: rgb(42, 63, 95); fill-opacity: 1; white-space: pre; opacity: 1;\">(120, 2854]</text></g></g><g class=\"yaxislayer-above\"/><g class=\"overaxes-above\"/></g></g><g class=\"polarlayer\"/><g class=\"smithlayer\"/><g class=\"ternarylayer\"/><g class=\"geolayer\"/><g class=\"funnelarealayer\"/><g class=\"pielayer\"/><g class=\"iciclelayer\"/><g class=\"treemaplayer\"/><g class=\"sunburstlayer\"/><g class=\"glimages\"/><defs id=\"topdefs-7cd2a3\"><g class=\"clips\"/></defs><g class=\"layer-above\"><g class=\"imagelayer\"/><g class=\"shapelayer\"/></g><g class=\"infolayer\"><g class=\"cb457091 colorbar\" transform=\"translate(112,100)\"><rect class=\"cbbg\" x=\"818\" y=\"0\" width=\"107.859375\" height=\"235\" style=\"fill: rgb(0, 0, 0); fill-opacity: 0; stroke: rgb(68, 68, 68); stroke-opacity: 1; stroke-width: 0;\"/><g class=\"cbfills\" transform=\"translate(0,33)\"><rect class=\"cbfill gradient_filled\" style=\"fill: url('#g7cd2a3-cb457091');\" x=\"828\" y=\"0\" width=\"30\" height=\"192\"/></g><g class=\"cblines\" transform=\"translate(0,33)\"/><g class=\"cbaxis crisp\" transform=\"translate(0,-100)\"><g class=\"ycb457091tick\"><text text-anchor=\"start\" x=\"860.9\" y=\"4.199999999999999\" transform=\"translate(0,324.999375)\" style=\"font-family: 'Open Sans', verdana, arial, sans-serif; font-size: 12px; fill: rgb(42, 63, 95); fill-opacity: 1; white-space: pre; opacity: 1;\">0</text></g><g class=\"ycb457091tick\"><text text-anchor=\"start\" x=\"860.9\" y=\"4.199999999999999\" style=\"font-family: 'Open Sans', verdana, arial, sans-serif; font-size: 12px; fill: rgb(42, 63, 95); fill-opacity: 1; white-space: pre; opacity: 1;\" transform=\"translate(0,286.51937499999997)\">0.2</text></g><g class=\"ycb457091tick\"><text text-anchor=\"start\" x=\"860.9\" y=\"4.199999999999999\" style=\"font-family: 'Open Sans', verdana, arial, sans-serif; font-size: 12px; fill: rgb(42, 63, 95); fill-opacity: 1; white-space: pre; opacity: 1;\" transform=\"translate(0,248.03937499999998)\">0.4</text></g><g class=\"ycb457091tick\"><text text-anchor=\"start\" x=\"860.9\" y=\"4.199999999999999\" style=\"font-family: 'Open Sans', verdana, arial, sans-serif; font-size: 12px; fill: rgb(42, 63, 95); fill-opacity: 1; white-space: pre; opacity: 1;\" transform=\"translate(0,209.56937499999998)\">0.6</text></g><g class=\"ycb457091tick\"><text text-anchor=\"start\" x=\"860.9\" y=\"4.199999999999999\" style=\"font-family: 'Open Sans', verdana, arial, sans-serif; font-size: 12px; fill: rgb(42, 63, 95); fill-opacity: 1; white-space: pre; opacity: 1;\" transform=\"translate(0,171.08937499999996)\">0.8</text></g><g class=\"ycb457091tick\"><text text-anchor=\"start\" x=\"860.9\" y=\"4.199999999999999\" style=\"font-family: 'Open Sans', verdana, arial, sans-serif; font-size: 12px; fill: rgb(42, 63, 95); fill-opacity: 1; white-space: pre; opacity: 1;\" transform=\"translate(0,132.60937499999997)\">1</text></g></g><g class=\"cbtitleunshift\" transform=\"translate(-112,-100)\"><g class=\"cbtitle\" transform=\"\"><text class=\"ycb457091title\" x=\"940.04\" y=\"123.5\" text-anchor=\"start\" style=\"font-family: 'Open Sans', verdana, arial, sans-serif; font-size: 14px; fill: rgb(42, 63, 95); opacity: 1; font-weight: normal; white-space: pre;\">d(Pearson r)</text></g></g><rect class=\"cboutline\" x=\"828\" y=\"32.609375\" width=\"30\" height=\"192.390625\" style=\"stroke: rgb(68, 68, 68); stroke-opacity: 1; fill: none; stroke-width: 0;\"/></g><g class=\"g-gtitle\"/><g class=\"g-xtitle\"><text class=\"xtitle\" x=\"227.84444444444446\" y=\"417.65761642456056\" text-anchor=\"middle\" style=\"font-family: 'Open Sans', verdana, arial, sans-serif; font-size: 14px; fill: rgb(42, 63, 95); opacity: 1; font-weight: normal; white-space: pre;\">#compound-target pairs per accession</text></g><g class=\"g-x2title\"><text class=\"x2title\" x=\"513\" y=\"417.65761642456056\" text-anchor=\"middle\" style=\"font-family: 'Open Sans', verdana, arial, sans-serif; font-size: 14px; fill: rgb(42, 63, 95); opacity: 1; font-weight: normal; white-space: pre;\">#compound-target pairs per accession</text></g><g class=\"g-x3title\"><text class=\"x3title\" x=\"798.1555555555556\" y=\"374.70625\" text-anchor=\"middle\" style=\"font-family: 'Open Sans', verdana, arial, sans-serif; font-size: 14px; fill: rgb(42, 63, 95); opacity: 1; font-weight: normal; white-space: pre;\">#compound-target pairs per accession</text></g><g class=\"g-ytitle\" transform=\"translate(1.7060546875,0)\"><text class=\"ytitle\" transform=\"rotate(-90,12.700000000000003,217.5)\" x=\"12.700000000000003\" y=\"217.5\" text-anchor=\"middle\" style=\"font-family: 'Open Sans', verdana, arial, sans-serif; font-size: 14px; fill: rgb(42, 63, 95); opacity: 1; font-weight: normal; white-space: pre;\">Minority class (WT/mutant) %</text></g><g class=\"g-y2title\"/><g class=\"g-y3title\"/><g class=\"annotation\" data-index=\"0\" style=\"opacity: 1;\"><g class=\"annotation-text-g\" transform=\"rotate(0,227.84444444444446,88.5)\"><g class=\"cursor-pointer\" transform=\"translate(98,77)\"><rect class=\"bg\" x=\"0.5\" y=\"0.5\" width=\"259\" height=\"22\" style=\"stroke-width: 1px; stroke: rgb(0, 0, 0); stroke-opacity: 0; fill: rgb(0, 0, 0); fill-opacity: 0;\"/><text class=\"annotation-text\" text-anchor=\"middle\" x=\"130.09375\" y=\"18\" style=\"font-family: 'Open Sans', verdana, arial, sans-serif; font-size: 16px; fill: rgb(42, 63, 95); fill-opacity: 1; white-space: pre;\">PCM complete - QSAR complete</text></g></g></g><g class=\"annotation\" data-index=\"1\" style=\"opacity: 1;\"><g class=\"annotation-text-g\" transform=\"rotate(0,513,88.49999999999999)\"><g class=\"cursor-pointer\" transform=\"translate(372,77)\"><rect class=\"bg\" x=\"0.5\" y=\"0.5\" width=\"281\" height=\"22\" style=\"stroke-width: 1px; stroke: rgb(0, 0, 0); stroke-opacity: 0; fill: rgb(0, 0, 0); fill-opacity: 0;\"/><text class=\"annotation-text\" text-anchor=\"middle\" x=\"140.734375\" y=\"18\" style=\"font-family: 'Open Sans', verdana, arial, sans-serif; font-size: 16px; fill: rgb(42, 63, 95); fill-opacity: 1; white-space: pre;\">QSAR complete - QSAR no mutant</text></g></g></g><g class=\"annotation\" data-index=\"2\" style=\"opacity: 1;\"><g class=\"annotation-text-g\" transform=\"rotate(0,798.1555555555556,88.5)\"><g class=\"cursor-pointer\" transform=\"translate(672,77)\"><rect class=\"bg\" x=\"0.5\" y=\"0.5\" width=\"251\" height=\"22\" style=\"stroke-width: 1px; stroke: rgb(0, 0, 0); stroke-opacity: 0; fill: rgb(0, 0, 0); fill-opacity: 0;\"/><text class=\"annotation-text\" text-anchor=\"middle\" x=\"125.765625\" y=\"18\" style=\"font-family: 'Open Sans', verdana, arial, sans-serif; font-size: 16px; fill: rgb(42, 63, 95); fill-opacity: 1; white-space: pre;\">PCM common - QSAR common</text></g></g></g></g></svg>"
      ],
      "text/plain": [
       "<IPython.core.display.SVG object>"
      ]
     },
     "metadata": {},
     "output_type": "display_data"
    }
   ],
   "source": [
    "if USE_PERCENTILE:\n",
    "    #Nums  = [0, 33.34%], (33.34%, 66.67%], (66.67%, 100.0%]\n",
    "    #Ratios= [0, 16.67%], (16,67%, 33.34%], (33.34%, 50.0%]\n",
    "    update_diff_bar_chart((0, num_33_percentile, num_66_percentile, 20056), (0, 15, 30, 50),\n",
    "                          (0, num_33_percentile_common, num_66_percentile_common, 2854), (0, 15, 30, 50), 0.3\n",
    "                 ).write_image(os.path.join(modelling_data_dir, 'heatmaps/bin_diff_heatmapspercentiles.svg'), engine='orca')\n",
    "    #Nums  = [0, 11.12%], (11.12%, 22.23%], (22.23%, 33.34%]\n",
    "    #Ratios= [0, 16.67%], (16,67%, 33.34%], (33.34%, 50.0%]\n",
    "    update_diff_bar_chart((0, num_11_percentile, num_22_percentile, num_33_percentile), (0, 15, 30, 50),\n",
    "                          (0, num_11_percentile_common, num_22_percentile_common, 2854), (0, 15, 30, 50)\n",
    "                     ).write_image(os.path.join(modelling_data_dir, 'heatmaps/bin_diff_heatmapspercentiles_0-33-zoomin.svg'), engine='orca')\n",
    "    #Nums  = [33.34, 44.45%], (44.45%, 55.56%], (55.56%, 66.67%]\n",
    "    #Ratios= [0, 16.67%],     (16,67%, 33.34%], (33.34%, 50.0%]\n",
    "    update_diff_bar_chart((num_33_percentile, num_44_percentile, num_55_percentile, num_66_percentile), (0, 15, 30, 50),\n",
    "                          (num_33_percentile_common, num_44_percentile_common, num_55_percentile_common, num_66_percentile_common), (0, 15, 30, 50)\n",
    "                     ).write_image(os.path.join(modelling_data_dir, 'heatmaps/bin_diff_heatmapspercentiles_33-66-zoomin.svg'), engine='orca') \n",
    "    #Nums  = [66.67, 77.78%], (77.78%, 88.89%], (88.89%, 100.0%]\n",
    "    #Ratios= [0, 16.67%], (16,67%, 33.34%], (33.34%, 50.0%]\n",
    "    update_diff_bar_chart((num_66_percentile, num_77_percentile, num_88_percentile, 20056), (0, 15, 30, 50),\n",
    "                          (num_66_percentile_common, num_77_percentile_common, num_88_percentile_common, 2854), (0, 15, 30, 50)\n",
    "                     ).write_image(os.path.join(modelling_data_dir, 'heatmaps/bin_diff_heatmapspercentiles_66-100-zoomin.svg'), engine='orca')\n",
    "    display(SVG(data=os.path.join(modelling_data_dir, 'heatmaps/bin_diff_heatmapspercentiles.svg')))\n",
    "    display(SVG(data=os.path.join(modelling_data_dir, 'heatmaps/bin_diff_heatmapspercentiles_0-33-zoomin.svg')))\n",
    "    display(SVG(data=os.path.join(modelling_data_dir, 'heatmaps/bin_diff_heatmapspercentiles_33-66-zoomin.svg')))\n",
    "    display(SVG(data=os.path.join(modelling_data_dir, 'heatmaps/bin_diff_heatmapspercentiles_66-100-zoomin.svg')))\n",
    "else:\n",
    "    #Nums  = [0, 1_000],  (1_000, 10_000],  (10_000, 75_211]\n",
    "    #Ratios= [0, 16.67%], (16,67%, 33.34%], (33.34%, 50.0%]\n",
    "    update_diff_bar_chart((0, 1_000, 10_000, 20056), (0, 15, 30, 50), (0, 100, 500, 2854), (0, 15, 30, 50), 0.3\n",
    "                     ).write_image(os.path.join(modelling_data_dir, 'heatmaps/bin_diff_heatmapsnum-0-20k_no-zmax.svg'), engine='orca')\n",
    "    #Nums  = [0, 1_000],  (1_000, 10_000],  (10_000, 75_211]\n",
    "    #Ratios= [0, 16.67%], (16,67%, 33.34%], (33.34%, 50.0%]\n",
    "    update_diff_bar_chart((0, 1_000, 10_000, 20056), (0, 15, 30, 50), (0, 100, 500, 2854), (0, 15, 30, 50)\n",
    "                     ).write_image(os.path.join(modelling_data_dir, 'heatmaps/bin_diff_heatmapsnum-0-20k.svg'), engine='orca')\n",
    "    #Nums  = [0, 100],    (100, 500],       (500, 1_000]\n",
    "    #Ratios= [0, 16.67%], (16,67%, 33.34%], (33.34%, 50.0%]\n",
    "    update_diff_bar_chart((0, 100, 500, 1000), (0, 15, 30, 50), (0, 100, 500, 2854), (0, 15, 30, 50)\n",
    "                     ).write_image(os.path.join(modelling_data_dir, 'heatmaps/bin_diff_heatmapsnum-0k-1k-zoomin.svg'), engine='orca')\n",
    "    #Nums  = [1_000, 2_000],  (2_000, 5_000],  (5_000, 10_000]\n",
    "    #Ratios= [0, 16.67%], (16,67%, 33.34%], (33.34%, 50.0%]\n",
    "    update_diff_bar_chart((1_000, 2_000, 5_000, 10_000), (0, 15, 30, 50), (0, 100, 500, 2854), (0, 15, 30, 50)\n",
    "                     ).write_image(os.path.join(modelling_data_dir, 'heatmaps/bin_diff_heatmapsnum-1k-10k-zoomin.svg'), engine='orca')\n",
    "    #Nums  = [10_000, 15_000],  (15_000, 50_000],  (50_000, 75_211]\n",
    "    #Ratios= [0, 16.67%],       (16,67%, 33.34%],  (33.34%, 50.0%]\n",
    "    update_diff_bar_chart((10_000, 14000, 18000, 20056), (0, 15, 30, 50), (0, 100, 500, 2854), (0, 15, 30, 50)\n",
    "                     ).write_image(os.path.join(modelling_data_dir, 'heatmaps/bin_diff_heatmapsnum-10k-20k-zoomin.svg'), engine='orca')\n",
    "    display(SVG(data=os.path.join(modelling_data_dir, 'heatmaps/bin_diff_heatmapsnum-0-20k_no-zmax.svg')))\n",
    "    display(SVG(data=os.path.join(modelling_data_dir, 'heatmaps/bin_diff_heatmapsnum-0-20k.svg')))\n",
    "    display(SVG(data=os.path.join(modelling_data_dir, 'heatmaps/bin_diff_heatmapsnum-0k-1k-zoomin.svg')))\n",
    "    display(SVG(data=os.path.join(modelling_data_dir, 'heatmaps/bin_diff_heatmapsnum-1k-10k-zoomin.svg')))\n",
    "    display(SVG(data=os.path.join(modelling_data_dir, 'heatmaps/bin_diff_heatmapsnum-10k-20k-zoomin.svg')))"
   ]
  },
  {
   "cell_type": "code",
   "execution_count": 16,
   "id": "d6138a94df575190",
   "metadata": {
    "ExecuteTime": {
     "end_time": "2023-09-13T09:28:58.679167800Z",
     "start_time": "2023-09-13T09:28:58.156168Z"
    }
   },
   "outputs": [
    {
     "data": {
      "text/html": [
       "\n",
       "        <iframe\n",
       "            width=\"100%\"\n",
       "            height=\"650\"\n",
       "            src=\"http://127.0.0.1:8050/\"\n",
       "            frameborder=\"0\"\n",
       "            allowfullscreen\n",
       "            \n",
       "        ></iframe>\n",
       "        "
      ],
      "text/plain": [
       "<IPython.lib.display.IFrame at 0x13d0b938f70>"
      ]
     },
     "metadata": {},
     "output_type": "display_data"
    }
   ],
   "source": [
    "app = Dash(__name__)\n",
    "\n",
    "app.layout = html.Div([\n",
    "                       dcc.Graph(id=\"heatmap-graph\"),\n",
    "                       html.P(\"#datapoints:\"),\n",
    "                       dcc.RangeSlider(\n",
    "                           id='heatmap-x-range-slider',\n",
    "                           min=subplot1_data.num_datapoints_total.min(),\n",
    "                           max=subplot1_data.num_datapoints_total.max(),\n",
    "                           step=1000,\n",
    "                           value=[subplot1_data.num_datapoints_total.min(), 1_000, 10_000, subplot1_data.num_datapoints_total.max()]\n",
    "                           ),\n",
    "                       html.P(\"balance ratio:\"),\n",
    "                       dcc.RangeSlider(\n",
    "                            id='heatmap-y-range-slider',\n",
    "                            min=0, max=50, step=1,\n",
    "                           value=[0, 15, 30, 50]\n",
    "                            ),\n",
    "                       html.P(\"zmin-zmax:\"),\n",
    "                       dcc.RangeSlider(\n",
    "                            id='heatmap-zmax-slider',\n",
    "                            min=0, max=1, step=0.1,\n",
    "                           value=[0.5, 1.0]\n",
    "                            ),\n",
    "                       html.P(\"num datapoints (common)\"),\n",
    "                       dcc.RangeSlider(\n",
    "                            id='heatmap-binscommon-slider',\n",
    "                            min=subplot3_data.num_common_datapoints_total.min(),\n",
    "                            max=subplot3_data.num_common_datapoints_total.max(),\n",
    "                            step=10,\n",
    "                            value=[subplot3_data.num_common_datapoints_total.min(), 100, 500, subplot3_data.num_common_datapoints_total.max()]\n",
    "                            ),\n",
    "                       html.P(\"balance ratio (common)\"),\n",
    "                       dcc.RangeSlider(\n",
    "                            id='heatmap-balancecommon-slider',\n",
    "                            min=0, max=50, step=1,\n",
    "                            value=[0, 15, 30, 50]\n",
    "                            ),\n",
    "                       ])\n",
    "\n",
    "\n",
    "@app.callback(\n",
    "    Output(\"heatmap-graph\", \"figure\"),\n",
    "    [Input(\"heatmap-x-range-slider\", \"value\"),\n",
    "     Input(\"heatmap-y-range-slider\", \"value\"),\n",
    "     Input(\"heatmap-binscommon-slider\", \"value\"),\n",
    "     Input(\"heatmap-balancecommon-slider\", \"value\"),\n",
    "     Input(\"heatmap-zmax-slider\", \"value\"),])\n",
    "def update_avg_bar_chart(slider_x, slider_y, slider_x_common, slider_y_common, slider_zmax=(0, 1)):\n",
    "    # Obtain data\n",
    "    global subplot1_data, subplot3_data, subplot4_data\n",
    "    subplot_data1 = subplot1_data.copy().drop(columns='accession')\n",
    "    subplot_data2 = subplot4_data.copy().drop(columns='accession')\n",
    "    subplot_data3 = subplot3_data.copy().drop(columns='accession')\n",
    "    # Slider values\n",
    "    min_x, low_x, high_x, max_x = slider_x\n",
    "    min_y, low_y, high_y, max_y = slider_y\n",
    "    \n",
    "    min_x_common, low_x_common, high_x_common, max_x_common = slider_x_common\n",
    "    min_y_common, low_y_common, high_y_common, max_y_common = slider_y_common\n",
    "       \n",
    "    # Obtain categories\n",
    "    intervals_num_datapoints = [(min_x - 0.1, low_x),\n",
    "                            (low_x, high_x),\n",
    "                            (high_x, max_x)]\n",
    "    intervals_ratio = [(min_y - 0.1, low_y),\n",
    "                       (low_y, high_y),\n",
    "                       (high_y, max_y)]\n",
    "    \n",
    "    intervals_num_datapoints_common = [(min_x_common - 0.1, low_x_common),\n",
    "                            (low_x_common, high_x_common),\n",
    "                            (high_x_common, max_x_common)]\n",
    "    intervals_ratio_common = [(min_y_common - 0.1, low_y_common),\n",
    "                       (low_y_common, high_y_common),\n",
    "                       (high_y_common, max_y_common)]\n",
    "    \n",
    "    num_intervals = pd.IntervalIndex.from_tuples(intervals_num_datapoints)\n",
    "    ratio_intervals = pd.IntervalIndex.from_tuples(intervals_ratio)\n",
    "    \n",
    "    num_intervals_common = pd.IntervalIndex.from_tuples(intervals_num_datapoints_common)\n",
    "    ratio_intervals_common = pd.IntervalIndex.from_tuples(intervals_ratio_common)\n",
    "    \n",
    "    # Put data in bins\n",
    "    subplot_data1['num_bins'] = pd.cut(subplot_data1.num_datapoints_total.values, num_intervals)\n",
    "    subplot_data2['num_bins'] = pd.cut(subplot_data2.num_datapoints_total.values, num_intervals)\n",
    "    subplot_data3['num_bins'] = pd.cut(subplot_data3.num_common_datapoints_total.values, num_intervals_common)\n",
    "    subplot_data1['ratio_bins'] = pd.cut(subplot_data1.minority_percentage.values, ratio_intervals)\n",
    "    subplot_data2['ratio_bins'] = pd.cut(subplot_data2.minority_percentage.values, ratio_intervals)\n",
    "    subplot_data3['ratio_bins'] = pd.cut(subplot_data3.minority_percentage.values, ratio_intervals_common)\n",
    "    \n",
    "    # Rename intervals\n",
    "    subplot_data1['num_bins'] = subplot_data1['num_bins'].astype(str)#.cat.rename_categories(dict(zip(num_intervals, ['low', 'medium', 'high'])))\n",
    "    subplot_data2['num_bins'] = subplot_data2['num_bins'].astype(str)#.cat.rename_categories(dict(zip(num_intervals, ['low', 'medium', 'high'])))\n",
    "    subplot_data3['num_bins'] = subplot_data3['num_bins'].astype(str)#.cat.rename_categories(dict(zip(num_intervals, ['low', 'medium', 'high'])))\n",
    "    subplot_data1['ratio_bins'] = subplot_data1['ratio_bins'].astype(str)#.cat.rename_categories(dict(zip(ratio_intervals, ['low', 'medium', 'high'])))\n",
    "    subplot_data2['ratio_bins'] = subplot_data2['ratio_bins'].astype(str)#.cat.rename_categories(dict(zip(ratio_intervals, ['low', 'medium', 'high'])))\n",
    "    subplot_data3['ratio_bins'] = subplot_data3['ratio_bins'].astype(str)#.cat.rename_categories(dict(zip(ratio_intervals, ['low', 'medium', 'high'])))\n",
    "    # Clean up columns\n",
    "    subplot_data1 = subplot_data1.drop(columns=['num_datapoints_total', 'minority_percentage'])\n",
    "    subplot_data2 = subplot_data2.drop(columns=['num_datapoints_total', 'minority_percentage'])\n",
    "    subplot_data3 = subplot_data3.drop(columns=['num_common_datapoints_total', 'minority_percentage'])\n",
    "    \n",
    "    # Remove nan bins\n",
    "    subplot_data1 = subplot_data1[subplot_data1.num_bins != 'nan']\n",
    "    subplot_data2 = subplot_data2[subplot_data2.num_bins != 'nan']\n",
    "    subplot_data3 = subplot_data3[subplot_data3.num_bins != 'nan']\n",
    "    \n",
    "    # Group by, pivot and obtain difference\n",
    "    subplot_data1 = subplot_data1.groupby(['modeltype', 'num_bins', 'ratio_bins']).agg('mean').reset_index()\n",
    "    subplot_data1 = subplot_data1.pivot(columns=['num_bins'], values='Pearson r',\n",
    "                                      index=['modeltype', 'ratio_bins']).reset_index()\n",
    "    subplot_data1 = subplot_data1.drop(columns='modeltype').groupby('ratio_bins').agg('mean')\n",
    "    # subplot_data1\n",
    "    \n",
    "    subplot_data2 = subplot_data2.groupby(['modeltype', 'num_bins', 'ratio_bins']).agg('mean').reset_index()\n",
    "    subplot_data2 = subplot_data2.pivot(columns=['num_bins'], values='Pearson r',\n",
    "                                      index=['modeltype', 'ratio_bins']).reset_index()\n",
    "    subplot_data2 = subplot_data2.drop(columns='modeltype').groupby('ratio_bins').agg('mean')\n",
    "    # subplot_data2\n",
    "    \n",
    "    subplot_data3 = subplot_data3.groupby(['modeltype', 'num_bins', 'ratio_bins']).agg('mean').reset_index()\n",
    "    subplot_data3 = subplot_data3.pivot(columns=['num_bins'], values='Pearson r',\n",
    "                                      index=['modeltype', 'ratio_bins']).reset_index()\n",
    "    subplot_data3 = subplot_data3.drop(columns='modeltype').groupby('ratio_bins').agg('mean')\n",
    "    # Melt dataframes \n",
    "    subplot_data1 = pd.melt(subplot_data1.reset_index(), id_vars=['ratio_bins']) \n",
    "    subplot_data2 = pd.melt(subplot_data2.reset_index(), id_vars=['ratio_bins'])\n",
    "    subplot_data3 = pd.melt(subplot_data3.reset_index(), id_vars=['ratio_bins'])\n",
    "\n",
    "    # Determine bins without values\n",
    "    # empty_ratio_bins = \n",
    "        \n",
    "    \n",
    "    # Rename intervals\n",
    "    subplot_data1['num_bins'] = subplot_data1['num_bins'].replace({str(num_intervals[0]): f'[{intervals_num_datapoints[0][0] + 0.1:.0f}, {intervals_num_datapoints[1][0]:.0f}]'})\n",
    "    subplot_data1['num_bins'] = subplot_data1['num_bins'].replace({str(num_intervals[1]): f'({intervals_num_datapoints[1][0]:.0f}, {intervals_num_datapoints[1][1]:.0f}]'})\n",
    "    subplot_data1['num_bins'] = subplot_data1['num_bins'].replace({str(num_intervals[2]): f'({intervals_num_datapoints[2][0]:.0f}, {intervals_num_datapoints[2][1]:.0f}]'})\n",
    "    subplot_data1['ratio_bins'] = subplot_data1['ratio_bins'].replace({str(ratio_intervals[0]): f'[{intervals_ratio[0][0]:.0f}, {intervals_ratio[0][1]:.0f}]'})\n",
    "    subplot_data1['ratio_bins'] = subplot_data1['ratio_bins'].replace({str(ratio_intervals[0]): f'({intervals_ratio[1][0]:.0f}, {intervals_ratio[1][1]:.0f}]'})\n",
    "    subplot_data1['ratio_bins'] = subplot_data1['ratio_bins'].replace({str(ratio_intervals[0]): f'({intervals_ratio[2][0]:.0f}, {intervals_ratio[2][1]:.0f}]'})\n",
    "    \n",
    "    subplot_data2['num_bins'] = subplot_data2['num_bins'].replace({str(num_intervals[0]): f'[{intervals_num_datapoints[0][0] + 0.1:.0f}, {intervals_num_datapoints[1][0]:.0f}]'})\n",
    "    subplot_data2['num_bins'] = subplot_data2['num_bins'].replace({str(num_intervals[1]): f'({intervals_num_datapoints[1][0]:.0f}, {intervals_num_datapoints[1][1]:.0f}]'})\n",
    "    subplot_data2['num_bins'] = subplot_data2['num_bins'].replace({str(num_intervals[2]): f'({intervals_num_datapoints[2][0]:.0f}, {intervals_num_datapoints[2][1]:.0f}]'})\n",
    "    subplot_data2['ratio_bins'] = subplot_data2['ratio_bins'].replace({str(ratio_intervals[0]): f'[{intervals_ratio[0][0]:.0f}, {intervals_ratio[0][1]:.0f}]'})\n",
    "    subplot_data2['ratio_bins'] = subplot_data2['ratio_bins'].replace({str(ratio_intervals[0]): f'({intervals_ratio[1][0]:.0f}, {intervals_ratio[1][1]:.0f}]'})\n",
    "    subplot_data2['ratio_bins'] = subplot_data2['ratio_bins'].replace({str(ratio_intervals[0]): f'({intervals_ratio[2][0]:.0f}, {intervals_ratio[2][1]:.0f}]'})\n",
    "    \n",
    "    subplot_data3['num_bins'] = subplot_data3['num_bins'].replace({str(num_intervals_common[0]): f'[{intervals_num_datapoints_common[0][0] + 0.1:.0f}, {intervals_num_datapoints_common[1][0]:.0f}]'})\n",
    "    subplot_data3['num_bins'] = subplot_data3['num_bins'].replace({str(num_intervals_common[1]): f'({intervals_num_datapoints_common[1][0]:.0f}, {intervals_num_datapoints_common[1][1]:.0f}]'})\n",
    "    subplot_data3['num_bins'] = subplot_data3['num_bins'].replace({str(num_intervals_common[2]): f'({intervals_num_datapoints_common[2][0]:.0f}, {intervals_num_datapoints_common[2][1]:.0f}]'})\n",
    "    subplot_data3['ratio_bins'] = subplot_data3['ratio_bins'].replace({str(ratio_intervals_common[0]): f'[{intervals_ratio_common[0][0]:.0f}, {intervals_ratio_common[0][1]:.0f}]'})\n",
    "    subplot_data3['ratio_bins'] = subplot_data3['ratio_bins'].replace({str(ratio_intervals_common[0]): f'({intervals_ratio_common[1][0]:.0f}, {intervals_ratio_common[1][1]:.0f}]'})\n",
    "    subplot_data3['ratio_bins'] = subplot_data3['ratio_bins'].replace({str(ratio_intervals_common[0]): f'({intervals_ratio_common[2][0]:.0f}, {intervals_ratio_common[2][1]:.0f}]'})\n",
    "    \n",
    "    # Determine zmax for colorbar\n",
    "    zmax = max((subplot_data1.value.max(),\n",
    "                subplot_data2.value.max(),\n",
    "                subplot_data3.value.max()))\n",
    "    \n",
    "    # Figure\n",
    "    fig = make_subplots(rows=1, cols=3,\n",
    "                        shared_yaxes=True,\n",
    "                        subplot_titles=['complete dataset', 'no mutant', 'common subset'],\n",
    "                       )\n",
    "    \n",
    "    fig.add_trace(go.Heatmap(x=subplot_data1.num_bins, y=subplot_data1.ratio_bins, z=subplot_data1.value, \n",
    "                             zmin=slider_zmax[0], zmax=slider_zmax[1],\n",
    "                             showscale=False,\n",
    "                             colorscale='RdYlGn',\n",
    "                             ),\n",
    "                  row=1, col=1)\n",
    "    \n",
    "    fig.add_trace(go.Heatmap(x=subplot_data2.num_bins, y=subplot_data2.ratio_bins, z=subplot_data2.value,\n",
    "                             zmin=slider_zmax[0], zmax=slider_zmax[1],\n",
    "                             showscale=False,\n",
    "                             colorscale='RdYlGn',\n",
    "                             ),\n",
    "                  row=1, col=2)\n",
    "    \n",
    "    fig.add_trace(go.Heatmap(x=subplot_data3.num_bins, y=subplot_data3.ratio_bins, z=subplot_data3.value,\n",
    "                             zmin=slider_zmax[0], zmax=slider_zmax[1],\n",
    "                             colorscale='RdYlGn',\n",
    "                             colorbar={\"title\": 'Pearson r'}\n",
    "                             ),\n",
    "                  row=1, col=3)\n",
    "    # Add title\n",
    "    fig.update_layout({'xaxis': {'categoryarray': [f'[{intervals_num_datapoints[0][0] + 0.1:.0f}, {intervals_num_datapoints[1][0]:.0f}]',\n",
    "                                                   f'({intervals_num_datapoints[1][0]:.0f}, {intervals_num_datapoints[1][1]:.0f}]',\n",
    "                                                   f'({intervals_num_datapoints[2][0]:.0f}, {intervals_num_datapoints[2][1]:.0f}]'],\n",
    "                                 'title': '#compound-target pairs per accession'},\n",
    "                       'xaxis2': {'categoryarray': [f'[{intervals_num_datapoints[0][0] + 0.1:.0f}, {intervals_num_datapoints[1][0]:.0f}]',\n",
    "                                                   f'({intervals_num_datapoints[1][0]:.0f}, {intervals_num_datapoints[1][1]:.0f}]',\n",
    "                                                   f'({intervals_num_datapoints[2][0]:.0f}, {intervals_num_datapoints[2][1]:.0f}]'],\n",
    "                                 'title': '#compound-target pairs per accession'},\n",
    "                       'xaxis3': {'categoryarray': [f'[{intervals_num_datapoints_common[0][0] + 0.1:.0f}, {intervals_num_datapoints_common[1][0]:.0f}]',\n",
    "                                                   f'({intervals_num_datapoints_common[1][0]:.0f}, {intervals_num_datapoints_common[1][1]:.0f}]',\n",
    "                                                   f'({intervals_num_datapoints_common[2][0]:.0f}, {intervals_num_datapoints_common[2][1]:.0f}]'],\n",
    "                                 'title': '#compound-target pairs per accession'},\n",
    "                       'yaxis': {'title': 'Minority class (WT/mutant) %'},\n",
    "                       })\n",
    "\n",
    "    fig.update_traces(row=1, col=1, text=subplot_data1.value, texttemplate=\"%{text:.3f}\", hovertemplate=None)\n",
    "    fig.update_traces(row=1, col=2, text=subplot_data2.value, texttemplate=\"%{text:.3f}\", hovertemplate=None)\n",
    "    fig.update_traces(row=1, col=3, text=subplot_data3.value, texttemplate=\"%{text:.3f}\", hovertemplate=None)\n",
    "\n",
    "    fig.update_layout(autosize=False, width=1050, height=430)\n",
    "\n",
    "        \n",
    "    return fig\n",
    "\n",
    "if __name__ == '__main__':\n",
    "    app.run_server(debug=False)"
   ]
  },
  {
   "cell_type": "code",
   "execution_count": 79,
   "id": "82093e9d",
   "metadata": {},
   "outputs": [
    {
     "data": {
      "text/plain": [
       "{0.0: 5.0,\n",
       " 0.01: 5.0,\n",
       " 0.02: 5.0,\n",
       " 0.03: 6.0,\n",
       " 0.04: 6.0,\n",
       " 0.05: 6.0,\n",
       " 0.06: 6.0,\n",
       " 0.07: 6.0,\n",
       " 0.08: 6.0,\n",
       " 0.09: 6.0,\n",
       " 0.1: 6.0,\n",
       " 0.11: 6.0,\n",
       " 0.12: 6.0,\n",
       " 0.13: 7.0,\n",
       " 0.14: 7.0,\n",
       " 0.15: 7.0,\n",
       " 0.16: 8.0,\n",
       " 0.17: 8.0,\n",
       " 0.18: 8.0,\n",
       " 0.19: 8.0,\n",
       " 0.2: 8.0,\n",
       " 0.21: 8.0,\n",
       " 0.22: 9.0,\n",
       " 0.23: 9.590000000000003,\n",
       " 0.24: 10.0,\n",
       " 0.25: 10.0,\n",
       " 0.26: 10.0,\n",
       " 0.27: 11.0,\n",
       " 0.28: 11.0,\n",
       " 0.29: 11.569999999999993,\n",
       " 0.3: 12.0,\n",
       " 0.31: 12.0,\n",
       " 0.32: 12.0,\n",
       " 0.33: 13.0,\n",
       " 0.34: 13.219999999999999,\n",
       " 0.35: 14.0,\n",
       " 0.36: 14.0,\n",
       " 0.37: 14.0,\n",
       " 0.38: 15.0,\n",
       " 0.39: 15.0,\n",
       " 0.4: 15.0,\n",
       " 0.41: 16.0,\n",
       " 0.42: 16.0,\n",
       " 0.43: 16.0,\n",
       " 0.44: 16.0,\n",
       " 0.45: 17.0,\n",
       " 0.46: 17.180000000000007,\n",
       " 0.47: 18.0,\n",
       " 0.48: 18.0,\n",
       " 0.49: 18.0,\n",
       " 0.5: 20.0,\n",
       " 0.51: 20.0,\n",
       " 0.52: 20.0,\n",
       " 0.53: 20.0,\n",
       " 0.54: 20.0,\n",
       " 0.55: 20.0,\n",
       " 0.56: 21.0,\n",
       " 0.57: 22.0,\n",
       " 0.58: 22.0,\n",
       " 0.59: 22.47,\n",
       " 0.6: 23.0,\n",
       " 0.61: 25.0,\n",
       " 0.62: 25.0,\n",
       " 0.63: 28.0,\n",
       " 0.64: 29.0,\n",
       " 0.65: 30.0,\n",
       " 0.66: 31.56000000000006,\n",
       " 0.67: 34.0,\n",
       " 0.68: 36.0,\n",
       " 0.69: 37.0,\n",
       " 0.7: 40.19999999999993,\n",
       " 0.71: 43.43000000000001,\n",
       " 0.72: 44.75999999999999,\n",
       " 0.73: 48.0,\n",
       " 0.74: 49.0,\n",
       " 0.75: 50.0,\n",
       " 0.76: 51.15999999999997,\n",
       " 0.77: 54.0,\n",
       " 0.78: 54.74000000000001,\n",
       " 0.79: 59.0,\n",
       " 0.8: 64.0,\n",
       " 0.81: 66.0,\n",
       " 0.82: 69.30000000000001,\n",
       " 0.83: 75.38999999999999,\n",
       " 0.84: 77.0,\n",
       " 0.85: 84.0,\n",
       " 0.86: 95.0,\n",
       " 0.87: 102.0,\n",
       " 0.88: 108.32000000000016,\n",
       " 0.89: 120.37,\n",
       " 0.9: 123.39999999999998,\n",
       " 0.91: 152.0,\n",
       " 0.92: 199.0,\n",
       " 0.93: 286.0,\n",
       " 0.94: 435.2999999999997,\n",
       " 0.95: 520.099999999995,\n",
       " 0.96: 630.8000000000001,\n",
       " 0.97: 649.0,\n",
       " 0.98: 772.0,\n",
       " 0.99: 1101.0,\n",
       " 1.0: 2854.0}"
      ]
     },
     "execution_count": 79,
     "metadata": {},
     "output_type": "execute_result"
    }
   ],
   "source": [
    "subplot3_data.num_common_datapoints_total.quantile([i/100 for i in range(101)]).to_dict()"
   ]
  },
  {
   "cell_type": "code",
   "execution_count": 73,
   "id": "fbdabf5d",
   "metadata": {},
   "outputs": [
    {
     "data": {
      "text/plain": [
       "{0.0: 0.0,\n",
       " 0.01: 0.0,\n",
       " 0.02: 0.0,\n",
       " 0.03: 0.0,\n",
       " 0.04: 0.0,\n",
       " 0.05: 0.0,\n",
       " 0.06: 0.0,\n",
       " 0.07: 0.0,\n",
       " 0.08: 0.0,\n",
       " 0.09: 0.0,\n",
       " 0.1: 0.0,\n",
       " 0.11: 0.0,\n",
       " 0.12: 0.0,\n",
       " 0.13: 0.0,\n",
       " 0.14: 0.0,\n",
       " 0.15: 0.0,\n",
       " 0.16: 0.0,\n",
       " 0.17: 0.0,\n",
       " 0.18: 0.0,\n",
       " 0.19: 0.0,\n",
       " 0.2: 0.0,\n",
       " 0.21: 0.0,\n",
       " 0.22: 0.0,\n",
       " 0.23: 0.0,\n",
       " 0.24: 0.0,\n",
       " 0.25: 0.0,\n",
       " 0.26: 0.0,\n",
       " 0.27: 0.0,\n",
       " 0.28: 0.0,\n",
       " 0.29: 0.0,\n",
       " 0.3: 0.0,\n",
       " 0.31: 0.0,\n",
       " 0.32: 0.0,\n",
       " 0.33: 0.0,\n",
       " 0.34: 0.0,\n",
       " 0.35: 0.0,\n",
       " 0.36: 0.0,\n",
       " 0.37: 0.0,\n",
       " 0.38: 0.0,\n",
       " 0.39: 0.0,\n",
       " 0.4: 0.0,\n",
       " 0.41: 5.244920615341245,\n",
       " 0.42: 13.488288288288286,\n",
       " 0.43: 13.953488372093023,\n",
       " 0.44: 14.754098360655737,\n",
       " 0.45: 18.181818181818183,\n",
       " 0.46: 20.0,\n",
       " 0.47: 20.746341463414623,\n",
       " 0.48: 23.13636363636364,\n",
       " 0.49: 23.978201634877383,\n",
       " 0.5: 25.657894736842106,\n",
       " 0.51: 27.27272727272727,\n",
       " 0.52: 27.61685823754789,\n",
       " 0.53: 29.411764705882355,\n",
       " 0.54: 29.951351351351356,\n",
       " 0.55: 31.818181818181817,\n",
       " 0.56: 32.142857142857146,\n",
       " 0.57: 33.33333333333333,\n",
       " 0.58: 33.33333333333333,\n",
       " 0.59: 33.33333333333333,\n",
       " 0.6: 33.33333333333333,\n",
       " 0.61: 35.0,\n",
       " 0.62: 35.714285714285715,\n",
       " 0.63: 35.714285714285715,\n",
       " 0.64: 36.3948051948052,\n",
       " 0.65: 36.854884513441874,\n",
       " 0.66: 37.5,\n",
       " 0.67: 38.46153846153847,\n",
       " 0.68: 39.44444444444444,\n",
       " 0.69: 40.0,\n",
       " 0.7: 40.01191310441485,\n",
       " 0.71: 41.900753768844226,\n",
       " 0.72: 42.85714285714286,\n",
       " 0.73: 43.93939393939394,\n",
       " 0.74: 44.44444444444444,\n",
       " 0.75: 44.99999999999999,\n",
       " 0.76: 45.09230769230767,\n",
       " 0.77: 46.36988565302842,\n",
       " 0.78: 46.666666666666664,\n",
       " 0.79: 47.05882352941176,\n",
       " 0.8: 47.22222222222222,\n",
       " 0.81: 48.25174825174825,\n",
       " 0.82: 48.87299465240642,\n",
       " 0.83: 49.12452830188679,\n",
       " 0.84: 49.47710144927535,\n",
       " 0.85: 50.0,\n",
       " 0.86: 50.0,\n",
       " 0.87: 50.0,\n",
       " 0.88: 50.0,\n",
       " 0.89: 50.0,\n",
       " 0.9: 50.0,\n",
       " 0.91: 50.0,\n",
       " 0.92: 50.0,\n",
       " 0.93: 50.0,\n",
       " 0.94: 50.0,\n",
       " 0.95: 50.0,\n",
       " 0.96: 50.0,\n",
       " 0.97: 50.0,\n",
       " 0.98: 50.0,\n",
       " 0.99: 50.0,\n",
       " 1.0: 50.0}"
      ]
     },
     "execution_count": 73,
     "metadata": {},
     "output_type": "execute_result"
    }
   ],
   "source": [
    "subplot3_data.minority_percentage.quantile([i/100 for i in range(101)]).to_dict()"
   ]
  },
  {
   "cell_type": "code",
   "execution_count": 65,
   "id": "6f7051ae",
   "metadata": {},
   "outputs": [
    {
     "data": {
      "text/plain": [
       "38.15789473684211"
      ]
     },
     "execution_count": 65,
     "metadata": {},
     "output_type": "execute_result"
    }
   ],
   "source": [
    "subplot3_data.minority_percentage.quantile(2/3)"
   ]
  },
  {
   "cell_type": "code",
   "execution_count": 76,
   "id": "552bf340e77ab545",
   "metadata": {
    "ExecuteTime": {
     "end_time": "2023-09-13T09:29:00.112171100Z",
     "start_time": "2023-09-13T09:28:58.664168500Z"
    }
   },
   "outputs": [
    {
     "data": {
      "image/svg+xml": [
       "<svg xmlns=\"http://www.w3.org/2000/svg\" xmlns:xlink=\"http://www.w3.org/1999/xlink\" class=\"main-svg\" width=\"1050\" height=\"430\" style=\"\" viewBox=\"0 0 1050 430\"><rect x=\"0\" y=\"0\" width=\"1050\" height=\"430\" style=\"fill: rgb(255, 255, 255); fill-opacity: 1;\"/><defs id=\"defs-947270\"><g class=\"clips\"><clipPath id=\"clip947270xyplot\" class=\"plotclip\"><rect width=\"237.4666666666667\" height=\"250\"/></clipPath><clipPath id=\"clip947270x2y2plot\" class=\"plotclip\"><rect width=\"237.4666666666667\" height=\"250\"/></clipPath><clipPath id=\"clip947270x3y3plot\" class=\"plotclip\"><rect width=\"237.46666666666664\" height=\"250\"/></clipPath><clipPath class=\"axesclip\" id=\"clip947270x\"><rect x=\"112\" y=\"0\" width=\"237.4666666666667\" height=\"430\"/></clipPath><clipPath class=\"axesclip\" id=\"clip947270y\"><rect x=\"0\" y=\"100\" width=\"1050\" height=\"250\"/></clipPath><clipPath class=\"axesclip\" id=\"clip947270xy\"><rect x=\"112\" y=\"100\" width=\"237.4666666666667\" height=\"250\"/></clipPath><clipPath class=\"axesclip\" id=\"clip947270y2\"><rect x=\"0\" y=\"100\" width=\"1050\" height=\"250\"/></clipPath><clipPath class=\"axesclip\" id=\"clip947270xy2\"><rect x=\"112\" y=\"100\" width=\"237.4666666666667\" height=\"250\"/></clipPath><clipPath class=\"axesclip\" id=\"clip947270y3\"><rect x=\"0\" y=\"100\" width=\"1050\" height=\"250\"/></clipPath><clipPath class=\"axesclip\" id=\"clip947270xy3\"><rect x=\"112\" y=\"100\" width=\"237.4666666666667\" height=\"250\"/></clipPath><clipPath class=\"axesclip\" id=\"clip947270x2\"><rect x=\"404.26666666666665\" y=\"0\" width=\"237.4666666666667\" height=\"430\"/></clipPath><clipPath class=\"axesclip\" id=\"clip947270x2y\"><rect x=\"404.26666666666665\" y=\"100\" width=\"237.4666666666667\" height=\"250\"/></clipPath><clipPath class=\"axesclip\" id=\"clip947270x2y2\"><rect x=\"404.26666666666665\" y=\"100\" width=\"237.4666666666667\" height=\"250\"/></clipPath><clipPath class=\"axesclip\" id=\"clip947270x2y3\"><rect x=\"404.26666666666665\" y=\"100\" width=\"237.4666666666667\" height=\"250\"/></clipPath><clipPath class=\"axesclip\" id=\"clip947270x3\"><rect x=\"696.5333333333333\" y=\"0\" width=\"237.46666666666664\" height=\"430\"/></clipPath><clipPath class=\"axesclip\" id=\"clip947270x3y\"><rect x=\"696.5333333333333\" y=\"100\" width=\"237.46666666666664\" height=\"250\"/></clipPath><clipPath class=\"axesclip\" id=\"clip947270x3y2\"><rect x=\"696.5333333333333\" y=\"100\" width=\"237.46666666666664\" height=\"250\"/></clipPath><clipPath class=\"axesclip\" id=\"clip947270x3y3\"><rect x=\"696.5333333333333\" y=\"100\" width=\"237.46666666666664\" height=\"250\"/></clipPath></g><g class=\"gradients\"><linearGradient x1=\"0\" x2=\"0\" y1=\"1\" y2=\"0\" id=\"g947270-cbcae200\"><stop offset=\"0%\" stop-color=\"rgb(165, 0, 38)\" stop-opacity=\"1\"/><stop offset=\"10%\" stop-color=\"rgb(215, 48, 39)\" stop-opacity=\"1\"/><stop offset=\"20%\" stop-color=\"rgb(244, 109, 67)\" stop-opacity=\"1\"/><stop offset=\"30%\" stop-color=\"rgb(253, 174, 97)\" stop-opacity=\"1\"/><stop offset=\"40%\" stop-color=\"rgb(254, 224, 139)\" stop-opacity=\"1\"/><stop offset=\"50%\" stop-color=\"rgb(255, 255, 191)\" stop-opacity=\"1\"/><stop offset=\"60%\" stop-color=\"rgb(217, 239, 139)\" stop-opacity=\"1\"/><stop offset=\"70%\" stop-color=\"rgb(166, 217, 106)\" stop-opacity=\"1\"/><stop offset=\"80%\" stop-color=\"rgb(102, 189, 99)\" stop-opacity=\"1\"/><stop offset=\"90%\" stop-color=\"rgb(26, 152, 80)\" stop-opacity=\"1\"/><stop offset=\"100%\" stop-color=\"rgb(0, 104, 55)\" stop-opacity=\"1\"/></linearGradient></g><g class=\"patterns\"/></defs><g class=\"bglayer\"><rect class=\"bg\" x=\"112\" y=\"100\" width=\"237.4666666666667\" height=\"250\" style=\"fill: rgb(229, 236, 246); fill-opacity: 1; stroke-width: 0;\"/><rect class=\"bg\" x=\"404.26666666666665\" y=\"100\" width=\"237.4666666666667\" height=\"250\" style=\"fill: rgb(229, 236, 246); fill-opacity: 1; stroke-width: 0;\"/><rect class=\"bg\" x=\"696.5333333333333\" y=\"100\" width=\"237.46666666666664\" height=\"250\" style=\"fill: rgb(229, 236, 246); fill-opacity: 1; stroke-width: 0;\"/></g><g class=\"layer-below\"><g class=\"imagelayer\"/><g class=\"shapelayer\"/></g><g class=\"cartesianlayer\"><g class=\"subplot xy\"><g class=\"layer-subplot\"><g class=\"shapelayer\"/><g class=\"imagelayer\"/></g><g class=\"minor-gridlayer\"><g class=\"x\"/><g class=\"y\"/></g><g class=\"gridlayer\"><g class=\"x\"><path class=\"xgrid crisp\" transform=\"translate(151.57999999999998,0)\" d=\"M0,100v250\" style=\"stroke: rgb(255, 255, 255); stroke-opacity: 1; stroke-width: 1px;\"/><path class=\"xgrid crisp\" transform=\"translate(230.73000000000002,0)\" d=\"M0,100v250\" style=\"stroke: rgb(255, 255, 255); stroke-opacity: 1; stroke-width: 1px;\"/><path class=\"xgrid crisp\" transform=\"translate(309.89,0)\" d=\"M0,100v250\" style=\"stroke: rgb(255, 255, 255); stroke-opacity: 1; stroke-width: 1px;\"/></g><g class=\"y\"><path class=\"ygrid crisp\" transform=\"translate(0,308.33000000000004)\" d=\"M112,0h237.4666666666667\" style=\"stroke: rgb(255, 255, 255); stroke-opacity: 1; stroke-width: 1px;\"/><path class=\"ygrid crisp\" transform=\"translate(0,225)\" d=\"M112,0h237.4666666666667\" style=\"stroke: rgb(255, 255, 255); stroke-opacity: 1; stroke-width: 1px;\"/><path class=\"ygrid crisp\" transform=\"translate(0,141.67000000000002)\" d=\"M112,0h237.4666666666667\" style=\"stroke: rgb(255, 255, 255); stroke-opacity: 1; stroke-width: 1px;\"/></g></g><g class=\"zerolinelayer\"/><path class=\"xlines-below\"/><path class=\"ylines-below\"/><g class=\"overlines-below\"/><g class=\"xaxislayer-below\"/><g class=\"yaxislayer-below\"/><g class=\"overaxes-below\"/><g class=\"plot\" transform=\"translate(112,100)\" clip-path=\"url(#clip947270xyplot)\"><g class=\"heatmaplayer mlayer\"><g class=\"hm\"><image xmlns=\"http://www.w3.org/2000/svg\" preserveAspectRatio=\"none\" height=\"250\" width=\"237\" x=\"0\" y=\"0\" xlink:href=\"data:image/png;base64,iVBORw0KGgoAAAANSUhEUgAAAAMAAAADCAYAAABWKLW/AAAAMklEQVQYVwEnANj/Ad7xkf/y+vQAfsbYAAH9xnX/ZfXtACMPBAAB//ex/6PguQDe8fwA0bYWwHPAPfwAAAAASUVORK5CYII=\" style=\"image-rendering: pixelated; opacity: 1;\"/><g class=\"heatmap-label\"><text text-anchor=\"middle\" data-notex=\"1\" x=\"40\" y=\"212.2\" style=\"font-family: 'Open Sans', verdana, arial, sans-serif; font-size: 12px; fill: rgb(68, 68, 68); fill-opacity: 1; white-space: pre;\">0.474</text></g><g class=\"heatmap-label\"><text text-anchor=\"middle\" data-notex=\"1\" x=\"119\" y=\"212.2\" style=\"font-family: 'Open Sans', verdana, arial, sans-serif; font-size: 12px; fill: rgb(68, 68, 68); fill-opacity: 1; white-space: pre;\">0.706</text></g><g class=\"heatmap-label\"><text text-anchor=\"middle\" data-notex=\"1\" x=\"198\" y=\"212.2\" style=\"font-family: 'Open Sans', verdana, arial, sans-serif; font-size: 12px; fill: rgb(68, 68, 68); fill-opacity: 1; white-space: pre;\">0.759</text></g><g class=\"heatmap-label\"><text text-anchor=\"middle\" data-notex=\"1\" x=\"40\" y=\"129.2\" style=\"font-family: 'Open Sans', verdana, arial, sans-serif; font-size: 12px; fill: rgb(68, 68, 68); fill-opacity: 1; white-space: pre;\">0.347</text></g><g class=\"heatmap-label\"><text text-anchor=\"middle\" data-notex=\"1\" x=\"119\" y=\"129.2\" style=\"font-family: 'Open Sans', verdana, arial, sans-serif; font-size: 12px; fill: rgb(68, 68, 68); fill-opacity: 1; white-space: pre;\">0.805</text></g><g class=\"heatmap-label\"><text text-anchor=\"middle\" data-notex=\"1\" x=\"198\" y=\"129.2\" style=\"font-family: 'Open Sans', verdana, arial, sans-serif; font-size: 12px; fill: rgb(68, 68, 68); fill-opacity: 1; white-space: pre;\">0.752</text></g><g class=\"heatmap-label\"><text text-anchor=\"middle\" data-notex=\"1\" x=\"40\" y=\"46.2\" style=\"font-family: 'Open Sans', verdana, arial, sans-serif; font-size: 12px; fill: rgb(68, 68, 68); fill-opacity: 1; white-space: pre;\">0.588</text></g><g class=\"heatmap-label\"><text text-anchor=\"middle\" data-notex=\"1\" x=\"119\" y=\"46.2\" style=\"font-family: 'Open Sans', verdana, arial, sans-serif; font-size: 12px; fill: rgb(68, 68, 68); fill-opacity: 1; white-space: pre;\">0.618</text></g><g class=\"heatmap-label\"><text text-anchor=\"middle\" data-notex=\"1\" x=\"198\" y=\"46.2\" style=\"font-family: 'Open Sans', verdana, arial, sans-serif; font-size: 12px; fill: rgb(68, 68, 68); fill-opacity: 1; white-space: pre;\">0.832</text></g></g></g></g><g class=\"overplot\"/><path class=\"xlines-above crisp\" style=\"fill: none;\" d=\"M0,0\"/><path class=\"ylines-above crisp\" style=\"fill: none;\" d=\"M0,0\"/><g class=\"overlines-above\"/><g class=\"xaxislayer-above\"><g class=\"xtick\"><text text-anchor=\"middle\" x=\"0\" y=\"363\" transform=\"translate(151.57999999999998,0)\" style=\"font-family: 'Open Sans', verdana, arial, sans-serif; font-size: 12px; fill: rgb(42, 63, 95); fill-opacity: 1; white-space: pre; opacity: 1;\">[0, 198]</text></g><g class=\"xtick\"><text text-anchor=\"middle\" x=\"0\" y=\"363\" transform=\"translate(230.73000000000002,0)\" style=\"font-family: 'Open Sans', verdana, arial, sans-serif; font-size: 12px; fill: rgb(42, 63, 95); fill-opacity: 1; white-space: pre; opacity: 1;\">(198, 694]</text></g><g class=\"xtick\"><text text-anchor=\"middle\" x=\"0\" y=\"363\" transform=\"translate(309.89,0)\" style=\"font-family: 'Open Sans', verdana, arial, sans-serif; font-size: 12px; fill: rgb(42, 63, 95); fill-opacity: 1; white-space: pre; opacity: 1;\">(694, 20056]</text></g></g><g class=\"yaxislayer-above\"><g class=\"ytick\"><text text-anchor=\"end\" x=\"111\" y=\"4.199999999999999\" transform=\"translate(0,308.33000000000004)\" style=\"font-family: 'Open Sans', verdana, arial, sans-serif; font-size: 12px; fill: rgb(42, 63, 95); fill-opacity: 1; white-space: pre; opacity: 1;\">[-0, 15]</text></g><g class=\"ytick\"><text text-anchor=\"end\" x=\"111\" y=\"4.199999999999999\" transform=\"translate(0,225)\" style=\"font-family: 'Open Sans', verdana, arial, sans-serif; font-size: 12px; fill: rgb(42, 63, 95); fill-opacity: 1; white-space: pre; opacity: 1;\">(15.0, 30.0]</text></g><g class=\"ytick\"><text text-anchor=\"end\" x=\"111\" y=\"4.199999999999999\" transform=\"translate(0,141.67000000000002)\" style=\"font-family: 'Open Sans', verdana, arial, sans-serif; font-size: 12px; fill: rgb(42, 63, 95); fill-opacity: 1; white-space: pre; opacity: 1;\">(30.0, 50.0]</text></g></g><g class=\"overaxes-above\"/></g><g class=\"subplot x2y2\"><g class=\"layer-subplot\"><g class=\"shapelayer\"/><g class=\"imagelayer\"/></g><g class=\"minor-gridlayer\"><g class=\"x2\"/><g class=\"y2\"/></g><g class=\"gridlayer\"><g class=\"x2\"><path class=\"x2grid crisp\" transform=\"translate(443.84666666666664,0)\" d=\"M0,100v250\" style=\"stroke: rgb(255, 255, 255); stroke-opacity: 1; stroke-width: 1px;\"/><path class=\"x2grid crisp\" transform=\"translate(522.9966666666667,0)\" d=\"M0,100v250\" style=\"stroke: rgb(255, 255, 255); stroke-opacity: 1; stroke-width: 1px;\"/><path class=\"x2grid crisp\" transform=\"translate(602.1566666666666,0)\" d=\"M0,100v250\" style=\"stroke: rgb(255, 255, 255); stroke-opacity: 1; stroke-width: 1px;\"/></g><g class=\"y2\"><path class=\"y2grid crisp\" transform=\"translate(0,308.33000000000004)\" d=\"M404.26666666666665,0h237.4666666666667\" style=\"stroke: rgb(255, 255, 255); stroke-opacity: 1; stroke-width: 1px;\"/><path class=\"y2grid crisp\" transform=\"translate(0,225)\" d=\"M404.26666666666665,0h237.4666666666667\" style=\"stroke: rgb(255, 255, 255); stroke-opacity: 1; stroke-width: 1px;\"/><path class=\"y2grid crisp\" transform=\"translate(0,141.67000000000002)\" d=\"M404.26666666666665,0h237.4666666666667\" style=\"stroke: rgb(255, 255, 255); stroke-opacity: 1; stroke-width: 1px;\"/></g></g><g class=\"zerolinelayer\"/><path class=\"xlines-below\"/><path class=\"ylines-below\"/><g class=\"overlines-below\"/><g class=\"xaxislayer-below\"/><g class=\"yaxislayer-below\"/><g class=\"overaxes-below\"/><g class=\"plot\" transform=\"translate(404.26666666666665,100)\" clip-path=\"url(#clip947270x2y2plot)\"><g class=\"heatmaplayer mlayer\"><g class=\"hm\"><image xmlns=\"http://www.w3.org/2000/svg\" preserveAspectRatio=\"none\" height=\"250\" width=\"237\" x=\"0\" y=\"0\" xlink:href=\"data:image/png;base64,iVBORw0KGgoAAAANSUhEUgAAAAMAAAADCAYAAABWKLW/AAAAMklEQVQYVwEnANj/Af/7uP8A//8AasSsAAH7nFn/WxkGABQKBAAB7fem/7HfwwDi8v0AjGETxTrI730AAAAASUVORK5CYII=\" style=\"image-rendering: pixelated; opacity: 1;\"/><g class=\"heatmap-label\"><text text-anchor=\"middle\" data-notex=\"1\" x=\"40\" y=\"212.2\" style=\"font-family: 'Open Sans', verdana, arial, sans-serif; font-size: 12px; fill: rgb(68, 68, 68); fill-opacity: 1; white-space: pre;\">0.549</text></g><g class=\"heatmap-label\"><text text-anchor=\"middle\" data-notex=\"1\" x=\"119\" y=\"212.2\" style=\"font-family: 'Open Sans', verdana, arial, sans-serif; font-size: 12px; fill: rgb(68, 68, 68); fill-opacity: 1; white-space: pre;\">0.712</text></g><g class=\"heatmap-label\"><text text-anchor=\"middle\" data-notex=\"1\" x=\"198\" y=\"212.2\" style=\"font-family: 'Open Sans', verdana, arial, sans-serif; font-size: 12px; fill: rgb(68, 68, 68); fill-opacity: 1; white-space: pre;\">0.760</text></g><g class=\"heatmap-label\"><text text-anchor=\"middle\" data-notex=\"1\" x=\"40\" y=\"129.2\" style=\"font-family: 'Open Sans', verdana, arial, sans-serif; font-size: 12px; fill: rgb(68, 68, 68); fill-opacity: 1; white-space: pre;\">0.272</text></g><g class=\"heatmap-label\"><text text-anchor=\"middle\" data-notex=\"1\" x=\"119\" y=\"129.2\" style=\"font-family: 'Open Sans', verdana, arial, sans-serif; font-size: 12px; fill: rgb(68, 68, 68); fill-opacity: 1; white-space: pre;\">0.821</text></g><g class=\"heatmap-label\"><text text-anchor=\"middle\" data-notex=\"1\" x=\"198\" y=\"129.2\" style=\"font-family: 'Open Sans', verdana, arial, sans-serif; font-size: 12px; fill: rgb(68, 68, 68); fill-opacity: 1; white-space: pre;\">0.794</text></g><g class=\"heatmap-label\"><text text-anchor=\"middle\" data-notex=\"1\" x=\"40\" y=\"46.2\" style=\"font-family: 'Open Sans', verdana, arial, sans-serif; font-size: 12px; fill: rgb(68, 68, 68); fill-opacity: 1; white-space: pre;\">0.486</text></g><g class=\"heatmap-label\"><text text-anchor=\"middle\" data-notex=\"1\" x=\"119\" y=\"46.2\" style=\"font-family: 'Open Sans', verdana, arial, sans-serif; font-size: 12px; fill: rgb(68, 68, 68); fill-opacity: 1; white-space: pre;\">0.484</text></g><g class=\"heatmap-label\"><text text-anchor=\"middle\" data-notex=\"1\" x=\"198\" y=\"46.2\" style=\"font-family: 'Open Sans', verdana, arial, sans-serif; font-size: 12px; fill: rgb(68, 68, 68); fill-opacity: 1; white-space: pre;\">0.795</text></g></g></g></g><g class=\"overplot\"/><path class=\"xlines-above crisp\" style=\"fill: none;\" d=\"M0,0\"/><path class=\"ylines-above crisp\" style=\"fill: none;\" d=\"M0,0\"/><g class=\"overlines-above\"/><g class=\"xaxislayer-above\"><g class=\"x2tick\"><text text-anchor=\"middle\" x=\"0\" y=\"363\" transform=\"translate(443.84666666666664,0)\" style=\"font-family: 'Open Sans', verdana, arial, sans-serif; font-size: 12px; fill: rgb(42, 63, 95); fill-opacity: 1; white-space: pre; opacity: 1;\">[0, 198]</text></g><g class=\"x2tick\"><text text-anchor=\"middle\" x=\"0\" y=\"363\" transform=\"translate(522.9966666666667,0)\" style=\"font-family: 'Open Sans', verdana, arial, sans-serif; font-size: 12px; fill: rgb(42, 63, 95); fill-opacity: 1; white-space: pre; opacity: 1;\">(198, 694]</text></g><g class=\"x2tick\"><text text-anchor=\"middle\" x=\"0\" y=\"363\" transform=\"translate(602.1566666666666,0)\" style=\"font-family: 'Open Sans', verdana, arial, sans-serif; font-size: 12px; fill: rgb(42, 63, 95); fill-opacity: 1; white-space: pre; opacity: 1;\">(694, 20056]</text></g></g><g class=\"yaxislayer-above\"/><g class=\"overaxes-above\"/></g><g class=\"subplot x3y3\"><g class=\"layer-subplot\"><g class=\"shapelayer\"/><g class=\"imagelayer\"/></g><g class=\"minor-gridlayer\"><g class=\"x3\"/><g class=\"y3\"/></g><g class=\"gridlayer\"><g class=\"x3\"><path class=\"x3grid crisp\" transform=\"translate(736.1133333333333,0)\" d=\"M0,100v250\" style=\"stroke: rgb(255, 255, 255); stroke-opacity: 1; stroke-width: 1px;\"/><path class=\"x3grid crisp\" transform=\"translate(815.2633333333333,0)\" d=\"M0,100v250\" style=\"stroke: rgb(255, 255, 255); stroke-opacity: 1; stroke-width: 1px;\"/><path class=\"x3grid crisp\" transform=\"translate(894.4233333333333,0)\" d=\"M0,100v250\" style=\"stroke: rgb(255, 255, 255); stroke-opacity: 1; stroke-width: 1px;\"/></g><g class=\"y3\"><path class=\"y3grid crisp\" transform=\"translate(0,308.33000000000004)\" d=\"M696.5333333333333,0h237.46666666666664\" style=\"stroke: rgb(255, 255, 255); stroke-opacity: 1; stroke-width: 1px;\"/><path class=\"y3grid crisp\" transform=\"translate(0,225)\" d=\"M696.5333333333333,0h237.46666666666664\" style=\"stroke: rgb(255, 255, 255); stroke-opacity: 1; stroke-width: 1px;\"/><path class=\"y3grid crisp\" transform=\"translate(0,141.67000000000002)\" d=\"M696.5333333333333,0h237.46666666666664\" style=\"stroke: rgb(255, 255, 255); stroke-opacity: 1; stroke-width: 1px;\"/></g></g><g class=\"zerolinelayer\"/><path class=\"xlines-below\"/><path class=\"ylines-below\"/><g class=\"overlines-below\"/><g class=\"xaxislayer-below\"/><g class=\"yaxislayer-below\"/><g class=\"overaxes-below\"/><g class=\"plot\" transform=\"translate(696.5333333333333,100)\" clip-path=\"url(#clip947270x3y3plot)\"><g class=\"heatmaplayer mlayer\"><g class=\"hm\"><image xmlns=\"http://www.w3.org/2000/svg\" preserveAspectRatio=\"none\" height=\"250\" width=\"237\" x=\"0\" y=\"0\" xlink:href=\"data:image/png;base64,iVBORw0KGgoAAAANSUhEUgAAAAMAAAADCAYAAABWKLW/AAAAMklEQVQYVwEnANj/Af/8uv//4M4Azg37AAEAAAAA+Py1/+X13AAB51E2/xeRWQDEA+0ArUYTu+ixIDMAAAAASUVORK5CYII=\" style=\"image-rendering: pixelated; opacity: 1;\"/><g class=\"heatmap-label\"><text text-anchor=\"middle\" data-notex=\"1\" x=\"40\" y=\"212.2\" style=\"font-family: 'Open Sans', verdana, arial, sans-serif; font-size: 12px; fill: rgb(255, 255, 255); fill-opacity: 1; white-space: pre;\">0.154</text></g><g class=\"heatmap-label\"><text text-anchor=\"middle\" data-notex=\"1\" x=\"119\" y=\"212.2\" style=\"font-family: 'Open Sans', verdana, arial, sans-serif; font-size: 12px; fill: rgb(68, 68, 68); fill-opacity: 1; white-space: pre;\">0.408</text></g><g class=\"heatmap-label\"><text text-anchor=\"middle\" data-notex=\"1\" x=\"198\" y=\"212.2\" style=\"font-family: 'Open Sans', verdana, arial, sans-serif; font-size: 12px; fill: rgb(68, 68, 68); fill-opacity: 1; white-space: pre;\">0.646</text></g><g class=\"heatmap-label\"><text text-anchor=\"middle\" data-notex=\"1\" x=\"40\" y=\"129.2\" style=\"font-family: 'Open Sans', verdana, arial, sans-serif; font-size: 12px; fill: rgb(255, 255, 255); fill-opacity: 1; white-space: pre;\">0.000</text></g><g class=\"heatmap-label\"><text text-anchor=\"middle\" data-notex=\"1\" x=\"119\" y=\"129.2\" style=\"font-family: 'Open Sans', verdana, arial, sans-serif; font-size: 12px; fill: rgb(68, 68, 68); fill-opacity: 1; white-space: pre;\">0.519</text></g><g class=\"heatmap-label\"><text text-anchor=\"middle\" data-notex=\"1\" x=\"198\" y=\"129.2\" style=\"font-family: 'Open Sans', verdana, arial, sans-serif; font-size: 12px; fill: rgb(68, 68, 68); fill-opacity: 1; white-space: pre;\">0.589</text></g><g class=\"heatmap-label\"><text text-anchor=\"middle\" data-notex=\"1\" x=\"40\" y=\"46.2\" style=\"font-family: 'Open Sans', verdana, arial, sans-serif; font-size: 12px; fill: rgb(68, 68, 68); fill-opacity: 1; white-space: pre;\">0.490</text></g><g class=\"heatmap-label\"><text text-anchor=\"middle\" data-notex=\"1\" x=\"119\" y=\"46.2\" style=\"font-family: 'Open Sans', verdana, arial, sans-serif; font-size: 12px; fill: rgb(68, 68, 68); fill-opacity: 1; white-space: pre;\">0.392</text></g><g class=\"heatmap-label\"><text text-anchor=\"middle\" data-notex=\"1\" x=\"198\" y=\"46.2\" style=\"font-family: 'Open Sans', verdana, arial, sans-serif; font-size: 12px; fill: rgb(68, 68, 68); fill-opacity: 1; white-space: pre;\">0.625</text></g></g></g></g><g class=\"overplot\"/><path class=\"xlines-above crisp\" style=\"fill: none;\" d=\"M0,0\"/><path class=\"ylines-above crisp\" style=\"fill: none;\" d=\"M0,0\"/><g class=\"overlines-above\"/><g class=\"xaxislayer-above\"><g class=\"x3tick\"><text text-anchor=\"middle\" x=\"0\" y=\"363\" transform=\"translate(736.1133333333333,0)\" style=\"font-family: 'Open Sans', verdana, arial, sans-serif; font-size: 12px; fill: rgb(42, 63, 95); fill-opacity: 1; white-space: pre; opacity: 1;\">[0, 13]</text></g><g class=\"x3tick\"><text text-anchor=\"middle\" x=\"0\" y=\"363\" transform=\"translate(815.2633333333333,0)\" style=\"font-family: 'Open Sans', verdana, arial, sans-serif; font-size: 12px; fill: rgb(42, 63, 95); fill-opacity: 1; white-space: pre; opacity: 1;\">(13, 33]</text></g><g class=\"x3tick\"><text text-anchor=\"middle\" x=\"0\" y=\"363\" transform=\"translate(894.4233333333333,0)\" style=\"font-family: 'Open Sans', verdana, arial, sans-serif; font-size: 12px; fill: rgb(42, 63, 95); fill-opacity: 1; white-space: pre; opacity: 1;\">(33, 20056]</text></g></g><g class=\"yaxislayer-above\"/><g class=\"overaxes-above\"/></g></g><g class=\"polarlayer\"/><g class=\"smithlayer\"/><g class=\"ternarylayer\"/><g class=\"geolayer\"/><g class=\"funnelarealayer\"/><g class=\"pielayer\"/><g class=\"iciclelayer\"/><g class=\"treemaplayer\"/><g class=\"sunburstlayer\"/><g class=\"glimages\"/><defs id=\"topdefs-947270\"><g class=\"clips\"/></defs><g class=\"layer-above\"><g class=\"imagelayer\"/><g class=\"shapelayer\"/></g><g class=\"infolayer\"><g class=\"cbcae200 colorbar\" transform=\"translate(112,100)\"><rect class=\"cbbg\" x=\"838\" y=\"0\" width=\"88.046875\" height=\"250\" style=\"fill: rgb(0, 0, 0); fill-opacity: 0; stroke: rgb(68, 68, 68); stroke-opacity: 1; stroke-width: 0;\"/><g class=\"cbfills\" transform=\"translate(0,33)\"><rect class=\"cbfill gradient_filled\" style=\"fill: url('#g947270-cbcae200');\" x=\"848\" y=\"0\" width=\"30\" height=\"207\"/></g><g class=\"cblines\" transform=\"translate(0,33)\"/><g class=\"cbaxis crisp\" transform=\"translate(0,-100)\"><g class=\"ycbcae200tick\"><text text-anchor=\"start\" x=\"880.9\" y=\"4.199999999999999\" transform=\"translate(0,339.999375)\" style=\"font-family: 'Open Sans', verdana, arial, sans-serif; font-size: 12px; fill: rgb(42, 63, 95); fill-opacity: 1; white-space: pre; opacity: 1;\">0</text></g><g class=\"ycbcae200tick\"><text text-anchor=\"start\" x=\"880.9\" y=\"4.199999999999999\" style=\"font-family: 'Open Sans', verdana, arial, sans-serif; font-size: 12px; fill: rgb(42, 63, 95); fill-opacity: 1; white-space: pre; opacity: 1;\" transform=\"translate(0,298.51937499999997)\">0.2</text></g><g class=\"ycbcae200tick\"><text text-anchor=\"start\" x=\"880.9\" y=\"4.199999999999999\" style=\"font-family: 'Open Sans', verdana, arial, sans-serif; font-size: 12px; fill: rgb(42, 63, 95); fill-opacity: 1; white-space: pre; opacity: 1;\" transform=\"translate(0,257.039375)\">0.4</text></g><g class=\"ycbcae200tick\"><text text-anchor=\"start\" x=\"880.9\" y=\"4.199999999999999\" style=\"font-family: 'Open Sans', verdana, arial, sans-serif; font-size: 12px; fill: rgb(42, 63, 95); fill-opacity: 1; white-space: pre; opacity: 1;\" transform=\"translate(0,215.56937499999998)\">0.6</text></g><g class=\"ycbcae200tick\"><text text-anchor=\"start\" x=\"880.9\" y=\"4.199999999999999\" style=\"font-family: 'Open Sans', verdana, arial, sans-serif; font-size: 12px; fill: rgb(42, 63, 95); fill-opacity: 1; white-space: pre; opacity: 1;\" transform=\"translate(0,174.089375)\">0.8</text></g><g class=\"ycbcae200tick\"><text text-anchor=\"start\" x=\"880.9\" y=\"4.199999999999999\" style=\"font-family: 'Open Sans', verdana, arial, sans-serif; font-size: 12px; fill: rgb(42, 63, 95); fill-opacity: 1; white-space: pre; opacity: 1;\" transform=\"translate(0,132.609375)\">1</text></g></g><g class=\"cbtitleunshift\" transform=\"translate(-112,-100)\"><g class=\"cbtitle\" transform=\"\"><text class=\"ycbcae200title\" x=\"960.44\" y=\"123.5\" text-anchor=\"start\" style=\"font-family: 'Open Sans', verdana, arial, sans-serif; font-size: 14px; fill: rgb(42, 63, 95); opacity: 1; font-weight: normal; white-space: pre;\">Pearson r</text></g></g><rect class=\"cboutline\" x=\"848\" y=\"32.609375\" width=\"30\" height=\"207.390625\" style=\"stroke: rgb(68, 68, 68); stroke-opacity: 1; fill: none; stroke-width: 0;\"/></g><g class=\"g-gtitle\"/><g class=\"g-xtitle\"><text class=\"xtitle\" x=\"230.73333333333335\" y=\"389.70625\" text-anchor=\"middle\" style=\"font-family: 'Open Sans', verdana, arial, sans-serif; font-size: 14px; fill: rgb(42, 63, 95); opacity: 1; font-weight: normal; white-space: pre;\">#compound-target pairs per accession</text></g><g class=\"g-x2title\"><text class=\"x2title\" x=\"523\" y=\"389.70625\" text-anchor=\"middle\" style=\"font-family: 'Open Sans', verdana, arial, sans-serif; font-size: 14px; fill: rgb(42, 63, 95); opacity: 1; font-weight: normal; white-space: pre;\">#compound-target pairs per accession</text></g><g class=\"g-x3title\"><text class=\"x3title\" x=\"815.2666666666667\" y=\"389.70625\" text-anchor=\"middle\" style=\"font-family: 'Open Sans', verdana, arial, sans-serif; font-size: 14px; fill: rgb(42, 63, 95); opacity: 1; font-weight: normal; white-space: pre;\">#compound-target pairs per accession</text></g><g class=\"g-ytitle\" transform=\"translate(1.7060546875,0)\"><text class=\"ytitle\" transform=\"rotate(-90,12.700000000000003,225)\" x=\"12.700000000000003\" y=\"225\" text-anchor=\"middle\" style=\"font-family: 'Open Sans', verdana, arial, sans-serif; font-size: 14px; fill: rgb(42, 63, 95); opacity: 1; font-weight: normal; white-space: pre;\">Minority class (WT/mutant) %</text></g><g class=\"g-y2title\"/><g class=\"g-y3title\"/><g class=\"annotation\" data-index=\"0\" style=\"opacity: 1;\"><g class=\"annotation-text-g\" transform=\"rotate(0,230.73333333333335,88.5)\"><g class=\"cursor-pointer\" transform=\"translate(159,77)\"><rect class=\"bg\" x=\"0.5\" y=\"0.5\" width=\"142\" height=\"22\" style=\"stroke-width: 1px; stroke: rgb(0, 0, 0); stroke-opacity: 0; fill: rgb(0, 0, 0); fill-opacity: 0;\"/><text class=\"annotation-text\" text-anchor=\"middle\" x=\"71.3125\" y=\"18\" style=\"font-family: 'Open Sans', verdana, arial, sans-serif; font-size: 16px; fill: rgb(42, 63, 95); fill-opacity: 1; white-space: pre;\">complete dataset</text></g></g></g><g class=\"annotation\" data-index=\"1\" style=\"opacity: 1;\"><g class=\"annotation-text-g\" transform=\"rotate(0,523,88.5)\"><g class=\"cursor-pointer\" transform=\"translate(479,77)\"><rect class=\"bg\" x=\"0.5\" y=\"0.5\" width=\"87\" height=\"22\" style=\"stroke-width: 1px; stroke: rgb(0, 0, 0); stroke-opacity: 0; fill: rgb(0, 0, 0); fill-opacity: 0;\"/><text class=\"annotation-text\" text-anchor=\"middle\" x=\"43.75\" y=\"18\" style=\"font-family: 'Open Sans', verdana, arial, sans-serif; font-size: 16px; fill: rgb(42, 63, 95); fill-opacity: 1; white-space: pre;\">no mutant</text></g></g></g><g class=\"annotation\" data-index=\"2\" style=\"opacity: 1;\"><g class=\"annotation-text-g\" transform=\"rotate(0,815.2666666666668,88.5)\"><g class=\"cursor-pointer\" transform=\"translate(750,77)\"><rect class=\"bg\" x=\"0.5\" y=\"0.5\" width=\"130\" height=\"22\" style=\"stroke-width: 1px; stroke: rgb(0, 0, 0); stroke-opacity: 0; fill: rgb(0, 0, 0); fill-opacity: 0;\"/><text class=\"annotation-text\" text-anchor=\"middle\" x=\"65.625\" y=\"18\" style=\"font-family: 'Open Sans', verdana, arial, sans-serif; font-size: 16px; fill: rgb(42, 63, 95); fill-opacity: 1; white-space: pre;\">common subset</text></g></g></g></g></svg>"
      ],
      "text/plain": [
       "<IPython.core.display.SVG object>"
      ]
     },
     "metadata": {},
     "output_type": "display_data"
    },
    {
     "data": {
      "image/svg+xml": [
       "<svg xmlns=\"http://www.w3.org/2000/svg\" xmlns:xlink=\"http://www.w3.org/1999/xlink\" class=\"main-svg\" width=\"1050\" height=\"430\" style=\"\" viewBox=\"0 0 1050 430\"><rect x=\"0\" y=\"0\" width=\"1050\" height=\"430\" style=\"fill: rgb(255, 255, 255); fill-opacity: 1;\"/><defs id=\"defs-054936\"><g class=\"clips\"><clipPath id=\"clip054936xyplot\" class=\"plotclip\"><rect width=\"237.4666666666667\" height=\"250\"/></clipPath><clipPath id=\"clip054936x2y2plot\" class=\"plotclip\"><rect width=\"237.4666666666667\" height=\"250\"/></clipPath><clipPath id=\"clip054936x3y3plot\" class=\"plotclip\"><rect width=\"237.46666666666664\" height=\"250\"/></clipPath><clipPath class=\"axesclip\" id=\"clip054936x\"><rect x=\"112\" y=\"0\" width=\"237.4666666666667\" height=\"430\"/></clipPath><clipPath class=\"axesclip\" id=\"clip054936y\"><rect x=\"0\" y=\"100\" width=\"1050\" height=\"250\"/></clipPath><clipPath class=\"axesclip\" id=\"clip054936xy\"><rect x=\"112\" y=\"100\" width=\"237.4666666666667\" height=\"250\"/></clipPath><clipPath class=\"axesclip\" id=\"clip054936y2\"><rect x=\"0\" y=\"100\" width=\"1050\" height=\"250\"/></clipPath><clipPath class=\"axesclip\" id=\"clip054936xy2\"><rect x=\"112\" y=\"100\" width=\"237.4666666666667\" height=\"250\"/></clipPath><clipPath class=\"axesclip\" id=\"clip054936y3\"><rect x=\"0\" y=\"100\" width=\"1050\" height=\"250\"/></clipPath><clipPath class=\"axesclip\" id=\"clip054936xy3\"><rect x=\"112\" y=\"100\" width=\"237.4666666666667\" height=\"250\"/></clipPath><clipPath class=\"axesclip\" id=\"clip054936x2\"><rect x=\"404.26666666666665\" y=\"0\" width=\"237.4666666666667\" height=\"430\"/></clipPath><clipPath class=\"axesclip\" id=\"clip054936x2y\"><rect x=\"404.26666666666665\" y=\"100\" width=\"237.4666666666667\" height=\"250\"/></clipPath><clipPath class=\"axesclip\" id=\"clip054936x2y2\"><rect x=\"404.26666666666665\" y=\"100\" width=\"237.4666666666667\" height=\"250\"/></clipPath><clipPath class=\"axesclip\" id=\"clip054936x2y3\"><rect x=\"404.26666666666665\" y=\"100\" width=\"237.4666666666667\" height=\"250\"/></clipPath><clipPath class=\"axesclip\" id=\"clip054936x3\"><rect x=\"696.5333333333333\" y=\"0\" width=\"237.46666666666664\" height=\"430\"/></clipPath><clipPath class=\"axesclip\" id=\"clip054936x3y\"><rect x=\"696.5333333333333\" y=\"100\" width=\"237.46666666666664\" height=\"250\"/></clipPath><clipPath class=\"axesclip\" id=\"clip054936x3y2\"><rect x=\"696.5333333333333\" y=\"100\" width=\"237.46666666666664\" height=\"250\"/></clipPath><clipPath class=\"axesclip\" id=\"clip054936x3y3\"><rect x=\"696.5333333333333\" y=\"100\" width=\"237.46666666666664\" height=\"250\"/></clipPath></g><g class=\"gradients\"><linearGradient x1=\"0\" x2=\"0\" y1=\"1\" y2=\"0\" id=\"g054936-cb015f0a\"><stop offset=\"0%\" stop-color=\"rgb(165, 0, 38)\" stop-opacity=\"1\"/><stop offset=\"10%\" stop-color=\"rgb(215, 48, 39)\" stop-opacity=\"1\"/><stop offset=\"20%\" stop-color=\"rgb(244, 109, 67)\" stop-opacity=\"1\"/><stop offset=\"30%\" stop-color=\"rgb(253, 174, 97)\" stop-opacity=\"1\"/><stop offset=\"40%\" stop-color=\"rgb(254, 224, 139)\" stop-opacity=\"1\"/><stop offset=\"50%\" stop-color=\"rgb(255, 255, 191)\" stop-opacity=\"1\"/><stop offset=\"60%\" stop-color=\"rgb(217, 239, 139)\" stop-opacity=\"1\"/><stop offset=\"70%\" stop-color=\"rgb(166, 217, 106)\" stop-opacity=\"1\"/><stop offset=\"80%\" stop-color=\"rgb(102, 189, 99)\" stop-opacity=\"1\"/><stop offset=\"90%\" stop-color=\"rgb(26, 152, 80)\" stop-opacity=\"1\"/><stop offset=\"100%\" stop-color=\"rgb(0, 104, 55)\" stop-opacity=\"1\"/></linearGradient></g><g class=\"patterns\"/></defs><g class=\"bglayer\"><rect class=\"bg\" x=\"112\" y=\"100\" width=\"237.4666666666667\" height=\"250\" style=\"fill: rgb(229, 236, 246); fill-opacity: 1; stroke-width: 0;\"/><rect class=\"bg\" x=\"404.26666666666665\" y=\"100\" width=\"237.4666666666667\" height=\"250\" style=\"fill: rgb(229, 236, 246); fill-opacity: 1; stroke-width: 0;\"/><rect class=\"bg\" x=\"696.5333333333333\" y=\"100\" width=\"237.46666666666664\" height=\"250\" style=\"fill: rgb(229, 236, 246); fill-opacity: 1; stroke-width: 0;\"/></g><g class=\"layer-below\"><g class=\"imagelayer\"/><g class=\"shapelayer\"/></g><g class=\"cartesianlayer\"><g class=\"subplot xy\"><g class=\"layer-subplot\"><g class=\"shapelayer\"/><g class=\"imagelayer\"/></g><g class=\"minor-gridlayer\"><g class=\"x\"/><g class=\"y\"/></g><g class=\"gridlayer\"><g class=\"x\"><path class=\"xgrid crisp\" transform=\"translate(151.57999999999998,0)\" d=\"M0,100v250\" style=\"stroke: rgb(255, 255, 255); stroke-opacity: 1; stroke-width: 1px;\"/><path class=\"xgrid crisp\" transform=\"translate(230.73000000000002,0)\" d=\"M0,100v250\" style=\"stroke: rgb(255, 255, 255); stroke-opacity: 1; stroke-width: 1px;\"/><path class=\"xgrid crisp\" transform=\"translate(309.89,0)\" d=\"M0,100v250\" style=\"stroke: rgb(255, 255, 255); stroke-opacity: 1; stroke-width: 1px;\"/></g><g class=\"y\"><path class=\"ygrid crisp\" transform=\"translate(0,308.33000000000004)\" d=\"M112,0h237.4666666666667\" style=\"stroke: rgb(255, 255, 255); stroke-opacity: 1; stroke-width: 1px;\"/><path class=\"ygrid crisp\" transform=\"translate(0,225)\" d=\"M112,0h237.4666666666667\" style=\"stroke: rgb(255, 255, 255); stroke-opacity: 1; stroke-width: 1px;\"/><path class=\"ygrid crisp\" transform=\"translate(0,141.67000000000002)\" d=\"M112,0h237.4666666666667\" style=\"stroke: rgb(255, 255, 255); stroke-opacity: 1; stroke-width: 1px;\"/></g></g><g class=\"zerolinelayer\"/><path class=\"xlines-below\"/><path class=\"ylines-below\"/><g class=\"overlines-below\"/><g class=\"xaxislayer-below\"/><g class=\"yaxislayer-below\"/><g class=\"overaxes-below\"/><g class=\"plot\" transform=\"translate(112,100)\" clip-path=\"url(#clip054936xyplot)\"><g class=\"heatmaplayer mlayer\"><g class=\"hm\"><image xmlns=\"http://www.w3.org/2000/svg\" preserveAspectRatio=\"none\" height=\"250\" width=\"237\" x=\"0\" y=\"0\" xlink:href=\"data:image/png;base64,iVBORw0KGgoAAAANSUhEUgAAAAMAAAADCAYAAABWKLW/AAAAL0lEQVQYV2P89nvz//OvTzOAAOPbeJv/QhMzGba9P8/A+MBJ///3NdEMF988ZAAAfhcTHyDFOuoAAAAASUVORK5CYII=\" style=\"image-rendering: pixelated; opacity: 1;\"/><g class=\"heatmap-label\"><text text-anchor=\"middle\" data-notex=\"1\" x=\"40\" y=\"212.2\" style=\"font-family: 'Open Sans', verdana, arial, sans-serif; font-size: 12px; fill: rgb(255, 255, 255); fill-opacity: 1; white-space: pre;\">0.130</text></g><g class=\"heatmap-label\"><text text-anchor=\"middle\" data-notex=\"1\" x=\"119\" y=\"212.2\" style=\"font-family: 'Open Sans', verdana, arial, sans-serif; font-size: 12px; fill: rgb(68, 68, 68); fill-opacity: 1; white-space: pre;\">0.603</text></g><g class=\"heatmap-label\"><text text-anchor=\"middle\" data-notex=\"1\" x=\"198\" y=\"212.2\" style=\"font-family: 'Open Sans', verdana, arial, sans-serif; font-size: 12px; fill: rgb(68, 68, 68); fill-opacity: 1; white-space: pre;\">0.697</text></g><g class=\"heatmap-label\"><text text-anchor=\"middle\" data-notex=\"1\" x=\"40\" y=\"129.2\" style=\"font-family: 'Open Sans', verdana, arial, sans-serif; font-size: 12px; fill: rgb(68, 68, 68); fill-opacity: 1; white-space: pre;\">0.176</text></g><g class=\"heatmap-label\"><text text-anchor=\"middle\" data-notex=\"1\" x=\"119\" y=\"129.2\" style=\"font-family: 'Open Sans', verdana, arial, sans-serif; font-size: 12px; fill: rgb(68, 68, 68); fill-opacity: 1; white-space: pre;\">0.450</text></g><g class=\"heatmap-label\"><text text-anchor=\"middle\" data-notex=\"1\" x=\"198\" y=\"129.2\" style=\"font-family: 'Open Sans', verdana, arial, sans-serif; font-size: 12px; fill: rgb(68, 68, 68); fill-opacity: 1; white-space: pre;\">0.670</text></g><g class=\"heatmap-label\"><text text-anchor=\"middle\" data-notex=\"1\" x=\"40\" y=\"46.2\" style=\"font-family: 'Open Sans', verdana, arial, sans-serif; font-size: 12px; fill: rgb(68, 68, 68); fill-opacity: 1; white-space: pre;\">0.523</text></g><g class=\"heatmap-label\"><text text-anchor=\"middle\" data-notex=\"1\" x=\"119\" y=\"46.2\" style=\"font-family: 'Open Sans', verdana, arial, sans-serif; font-size: 12px; fill: rgb(68, 68, 68); fill-opacity: 1; white-space: pre;\">0.639</text></g><g class=\"heatmap-label\"><text text-anchor=\"middle\" data-notex=\"1\" x=\"198\" y=\"46.2\" style=\"font-family: 'Open Sans', verdana, arial, sans-serif; font-size: 12px; fill: rgb(68, 68, 68); fill-opacity: 1; white-space: pre;\">0.639</text></g></g></g></g><g class=\"overplot\"/><path class=\"xlines-above crisp\" style=\"fill: none;\" d=\"M0,0\"/><path class=\"ylines-above crisp\" style=\"fill: none;\" d=\"M0,0\"/><g class=\"overlines-above\"/><g class=\"xaxislayer-above\"><g class=\"xtick\"><text text-anchor=\"middle\" x=\"0\" y=\"363\" transform=\"translate(151.57999999999998,0)\" style=\"font-family: 'Open Sans', verdana, arial, sans-serif; font-size: 12px; fill: rgb(42, 63, 95); fill-opacity: 1; white-space: pre; opacity: 1;\">[0, 37]</text></g><g class=\"xtick\"><text text-anchor=\"middle\" x=\"0\" y=\"363\" transform=\"translate(230.73000000000002,0)\" style=\"font-family: 'Open Sans', verdana, arial, sans-serif; font-size: 12px; fill: rgb(42, 63, 95); fill-opacity: 1; white-space: pre; opacity: 1;\">(37, 88]</text></g><g class=\"xtick\"><text text-anchor=\"middle\" x=\"0\" y=\"363\" transform=\"translate(309.89,0)\" style=\"font-family: 'Open Sans', verdana, arial, sans-serif; font-size: 12px; fill: rgb(42, 63, 95); fill-opacity: 1; white-space: pre; opacity: 1;\">(88, 198]</text></g></g><g class=\"yaxislayer-above\"><g class=\"ytick\"><text text-anchor=\"end\" x=\"111\" y=\"4.199999999999999\" transform=\"translate(0,308.33000000000004)\" style=\"font-family: 'Open Sans', verdana, arial, sans-serif; font-size: 12px; fill: rgb(42, 63, 95); fill-opacity: 1; white-space: pre; opacity: 1;\">[-0, 15]</text></g><g class=\"ytick\"><text text-anchor=\"end\" x=\"111\" y=\"4.199999999999999\" transform=\"translate(0,225)\" style=\"font-family: 'Open Sans', verdana, arial, sans-serif; font-size: 12px; fill: rgb(42, 63, 95); fill-opacity: 1; white-space: pre; opacity: 1;\">(15.0, 30.0]</text></g><g class=\"ytick\"><text text-anchor=\"end\" x=\"111\" y=\"4.199999999999999\" transform=\"translate(0,141.67000000000002)\" style=\"font-family: 'Open Sans', verdana, arial, sans-serif; font-size: 12px; fill: rgb(42, 63, 95); fill-opacity: 1; white-space: pre; opacity: 1;\">(30.0, 50.0]</text></g></g><g class=\"overaxes-above\"/></g><g class=\"subplot x2y2\"><g class=\"layer-subplot\"><g class=\"shapelayer\"/><g class=\"imagelayer\"/></g><g class=\"minor-gridlayer\"><g class=\"x2\"/><g class=\"y2\"/></g><g class=\"gridlayer\"><g class=\"x2\"><path class=\"x2grid crisp\" transform=\"translate(443.84666666666664,0)\" d=\"M0,100v250\" style=\"stroke: rgb(255, 255, 255); stroke-opacity: 1; stroke-width: 1px;\"/><path class=\"x2grid crisp\" transform=\"translate(522.9966666666667,0)\" d=\"M0,100v250\" style=\"stroke: rgb(255, 255, 255); stroke-opacity: 1; stroke-width: 1px;\"/><path class=\"x2grid crisp\" transform=\"translate(602.1566666666666,0)\" d=\"M0,100v250\" style=\"stroke: rgb(255, 255, 255); stroke-opacity: 1; stroke-width: 1px;\"/></g><g class=\"y2\"><path class=\"y2grid crisp\" transform=\"translate(0,308.33000000000004)\" d=\"M404.26666666666665,0h237.4666666666667\" style=\"stroke: rgb(255, 255, 255); stroke-opacity: 1; stroke-width: 1px;\"/><path class=\"y2grid crisp\" transform=\"translate(0,225)\" d=\"M404.26666666666665,0h237.4666666666667\" style=\"stroke: rgb(255, 255, 255); stroke-opacity: 1; stroke-width: 1px;\"/><path class=\"y2grid crisp\" transform=\"translate(0,141.67000000000002)\" d=\"M404.26666666666665,0h237.4666666666667\" style=\"stroke: rgb(255, 255, 255); stroke-opacity: 1; stroke-width: 1px;\"/></g></g><g class=\"zerolinelayer\"/><path class=\"xlines-below\"/><path class=\"ylines-below\"/><g class=\"overlines-below\"/><g class=\"xaxislayer-below\"/><g class=\"yaxislayer-below\"/><g class=\"overaxes-below\"/><g class=\"plot\" transform=\"translate(404.26666666666665,100)\" clip-path=\"url(#clip054936x2y2plot)\"><g class=\"heatmaplayer mlayer\"><g class=\"hm\"><image xmlns=\"http://www.w3.org/2000/svg\" preserveAspectRatio=\"none\" height=\"250\" width=\"237\" x=\"0\" y=\"0\" xlink:href=\"data:image/png;base64,iVBORw0KGgoAAAANSUhEUgAAAAMAAAADCAYAAABWKLW/AAAAMklEQVQYVwEnANj/Af7hjf/9HCwA2O/OAAGlACb/WvqRAKvhtgAB1i8n/xDFdQDE59EAjNQTK0jLmxsAAAAASUVORK5CYII=\" style=\"image-rendering: pixelated; opacity: 1;\"/><g class=\"heatmap-label\"><text text-anchor=\"middle\" data-notex=\"1\" x=\"40\" y=\"212.2\" style=\"font-family: 'Open Sans', verdana, arial, sans-serif; font-size: 12px; fill: rgb(255, 255, 255); fill-opacity: 1; white-space: pre;\">0.099</text></g><g class=\"heatmap-label\"><text text-anchor=\"middle\" data-notex=\"1\" x=\"119\" y=\"212.2\" style=\"font-family: 'Open Sans', verdana, arial, sans-serif; font-size: 12px; fill: rgb(68, 68, 68); fill-opacity: 1; white-space: pre;\">0.567</text></g><g class=\"heatmap-label\"><text text-anchor=\"middle\" data-notex=\"1\" x=\"198\" y=\"212.2\" style=\"font-family: 'Open Sans', verdana, arial, sans-serif; font-size: 12px; fill: rgb(68, 68, 68); fill-opacity: 1; white-space: pre;\">0.692</text></g><g class=\"heatmap-label\"><text text-anchor=\"middle\" data-notex=\"1\" x=\"40\" y=\"129.2\" style=\"font-family: 'Open Sans', verdana, arial, sans-serif; font-size: 12px; fill: rgb(255, 255, 255); fill-opacity: 1; white-space: pre;\">-0.003</text></g><g class=\"heatmap-label\"><text text-anchor=\"middle\" data-notex=\"1\" x=\"119\" y=\"129.2\" style=\"font-family: 'Open Sans', verdana, arial, sans-serif; font-size: 12px; fill: rgb(68, 68, 68); fill-opacity: 1; white-space: pre;\">0.484</text></g><g class=\"heatmap-label\"><text text-anchor=\"middle\" data-notex=\"1\" x=\"198\" y=\"129.2\" style=\"font-family: 'Open Sans', verdana, arial, sans-serif; font-size: 12px; fill: rgb(68, 68, 68); fill-opacity: 1; white-space: pre;\">0.692</text></g><g class=\"heatmap-label\"><text text-anchor=\"middle\" data-notex=\"1\" x=\"40\" y=\"46.2\" style=\"font-family: 'Open Sans', verdana, arial, sans-serif; font-size: 12px; fill: rgb(68, 68, 68); fill-opacity: 1; white-space: pre;\">0.404</text></g><g class=\"heatmap-label\"><text text-anchor=\"middle\" data-notex=\"1\" x=\"119\" y=\"46.2\" style=\"font-family: 'Open Sans', verdana, arial, sans-serif; font-size: 12px; fill: rgb(68, 68, 68); fill-opacity: 1; white-space: pre;\">0.512</text></g><g class=\"heatmap-label\"><text text-anchor=\"middle\" data-notex=\"1\" x=\"198\" y=\"46.2\" style=\"font-family: 'Open Sans', verdana, arial, sans-serif; font-size: 12px; fill: rgb(68, 68, 68); fill-opacity: 1; white-space: pre;\">0.612</text></g></g></g></g><g class=\"overplot\"/><path class=\"xlines-above crisp\" style=\"fill: none;\" d=\"M0,0\"/><path class=\"ylines-above crisp\" style=\"fill: none;\" d=\"M0,0\"/><g class=\"overlines-above\"/><g class=\"xaxislayer-above\"><g class=\"x2tick\"><text text-anchor=\"middle\" x=\"0\" y=\"363\" transform=\"translate(443.84666666666664,0)\" style=\"font-family: 'Open Sans', verdana, arial, sans-serif; font-size: 12px; fill: rgb(42, 63, 95); fill-opacity: 1; white-space: pre; opacity: 1;\">[0, 37]</text></g><g class=\"x2tick\"><text text-anchor=\"middle\" x=\"0\" y=\"363\" transform=\"translate(522.9966666666667,0)\" style=\"font-family: 'Open Sans', verdana, arial, sans-serif; font-size: 12px; fill: rgb(42, 63, 95); fill-opacity: 1; white-space: pre; opacity: 1;\">(37, 88]</text></g><g class=\"x2tick\"><text text-anchor=\"middle\" x=\"0\" y=\"363\" transform=\"translate(602.1566666666666,0)\" style=\"font-family: 'Open Sans', verdana, arial, sans-serif; font-size: 12px; fill: rgb(42, 63, 95); fill-opacity: 1; white-space: pre; opacity: 1;\">(88, 198]</text></g></g><g class=\"yaxislayer-above\"/><g class=\"overaxes-above\"/></g><g class=\"subplot x3y3\"><g class=\"layer-subplot\"><g class=\"shapelayer\"/><g class=\"imagelayer\"/></g><g class=\"minor-gridlayer\"><g class=\"x3\"/><g class=\"y3\"/></g><g class=\"gridlayer\"><g class=\"x3\"><path class=\"x3grid crisp\" transform=\"translate(736.1133333333333,0)\" d=\"M0,100v250\" style=\"stroke: rgb(255, 255, 255); stroke-opacity: 1; stroke-width: 1px;\"/><path class=\"x3grid crisp\" transform=\"translate(815.2633333333333,0)\" d=\"M0,100v250\" style=\"stroke: rgb(255, 255, 255); stroke-opacity: 1; stroke-width: 1px;\"/><path class=\"x3grid crisp\" transform=\"translate(894.4233333333333,0)\" d=\"M0,100v250\" style=\"stroke: rgb(255, 255, 255); stroke-opacity: 1; stroke-width: 1px;\"/></g><g class=\"y3\"><path class=\"y3grid crisp\" transform=\"translate(0,308.33000000000004)\" d=\"M696.5333333333333,0h237.46666666666664\" style=\"stroke: rgb(255, 255, 255); stroke-opacity: 1; stroke-width: 1px;\"/><path class=\"y3grid crisp\" transform=\"translate(0,225)\" d=\"M696.5333333333333,0h237.46666666666664\" style=\"stroke: rgb(255, 255, 255); stroke-opacity: 1; stroke-width: 1px;\"/><path class=\"y3grid crisp\" transform=\"translate(0,141.67000000000002)\" d=\"M696.5333333333333,0h237.46666666666664\" style=\"stroke: rgb(255, 255, 255); stroke-opacity: 1; stroke-width: 1px;\"/></g></g><g class=\"zerolinelayer\"/><path class=\"xlines-below\"/><path class=\"ylines-below\"/><g class=\"overlines-below\"/><g class=\"xaxislayer-below\"/><g class=\"yaxislayer-below\"/><g class=\"overaxes-below\"/><g class=\"plot\" transform=\"translate(696.5333333333333,100)\" clip-path=\"url(#clip054936x3y3plot)\"><g class=\"heatmaplayer mlayer\"><g class=\"hm\"><image xmlns=\"http://www.w3.org/2000/svg\" preserveAspectRatio=\"none\" height=\"250\" width=\"237\" x=\"0\" y=\"0\" xlink:href=\"data:image/png;base64,iVBORw0KGgoAAAANSUhEUgAAAAMAAAADCAYAAABWKLW/AAAAIUlEQVQYV2NkgIL/f3b9Z4RxQDTjUga1/6EzDRmYlUQZAIToBttDRciQAAAAAElFTkSuQmCC\" style=\"image-rendering: pixelated; opacity: 1;\"/><g class=\"heatmap-label\"><text text-anchor=\"middle\" data-notex=\"1\" x=\"40\" y=\"212.2\" style=\"font-family: 'Open Sans', verdana, arial, sans-serif; font-size: 12px; fill: rgb(255, 255, 255); fill-opacity: 1; white-space: pre;\">-0.018</text></g><g class=\"heatmap-label\"><text text-anchor=\"middle\" data-notex=\"1\" x=\"119\" y=\"212.2\" style=\"font-family: 'Open Sans', verdana, arial, sans-serif; font-size: 12px; fill: rgb(68, 68, 68); fill-opacity: 1; white-space: pre;\">0.267</text></g><g class=\"heatmap-label\"><text text-anchor=\"middle\" data-notex=\"1\" x=\"198\" y=\"212.2\" style=\"font-family: 'Open Sans', verdana, arial, sans-serif; font-size: 12px; fill: rgb(68, 68, 68); fill-opacity: 1; white-space: pre;\">0.327</text></g><g class=\"heatmap-label\"><text text-anchor=\"middle\" data-notex=\"1\" x=\"40\" y=\"129.2\" style=\"font-family: 'Open Sans', verdana, arial, sans-serif; font-size: 12px; fill: rgb(255, 255, 255); fill-opacity: 1; white-space: pre;\">0.000</text></g><g class=\"heatmap-label\"><text text-anchor=\"middle\" data-notex=\"1\" x=\"119\" y=\"129.2\" style=\"font-family: 'Open Sans', verdana, arial, sans-serif; font-size: 12px; fill: rgb(255, 255, 255); fill-opacity: 1; white-space: pre;\">0.000</text></g><g class=\"heatmap-label\"><text text-anchor=\"middle\" data-notex=\"1\" x=\"198\" y=\"129.2\" style=\"font-family: 'Open Sans', verdana, arial, sans-serif; font-size: 12px; fill: rgb(255, 255, 255); fill-opacity: 1; white-space: pre;\">0.490</text></g><g class=\"heatmap-label\"><text text-anchor=\"middle\" data-notex=\"1\" x=\"40\" y=\"46.2\" style=\"font-family: 'Open Sans', verdana, arial, sans-serif; font-size: 12px; fill: rgb(255, 255, 255); fill-opacity: 1; white-space: pre;\">0.000</text></g><g class=\"heatmap-label\"><text text-anchor=\"middle\" data-notex=\"1\" x=\"119\" y=\"46.2\" style=\"font-family: 'Open Sans', verdana, arial, sans-serif; font-size: 12px; fill: rgb(255, 255, 255); fill-opacity: 1; white-space: pre;\">0.000</text></g><g class=\"heatmap-label\"><text text-anchor=\"middle\" data-notex=\"1\" x=\"198\" y=\"46.2\" style=\"font-family: 'Open Sans', verdana, arial, sans-serif; font-size: 12px; fill: rgb(68, 68, 68); fill-opacity: 1; white-space: pre;\">0.000</text></g></g></g></g><g class=\"overplot\"/><path class=\"xlines-above crisp\" style=\"fill: none;\" d=\"M0,0\"/><path class=\"ylines-above crisp\" style=\"fill: none;\" d=\"M0,0\"/><g class=\"overlines-above\"/><g class=\"xaxislayer-above\"><g class=\"x3tick\"><text text-anchor=\"middle\" x=\"0\" y=\"363\" transform=\"translate(736.1133333333333,0)\" style=\"font-family: 'Open Sans', verdana, arial, sans-serif; font-size: 12px; fill: rgb(42, 63, 95); fill-opacity: 1; white-space: pre; opacity: 1;\">[0, 6]</text></g><g class=\"x3tick\"><text text-anchor=\"middle\" x=\"0\" y=\"363\" transform=\"translate(815.2633333333333,0)\" style=\"font-family: 'Open Sans', verdana, arial, sans-serif; font-size: 12px; fill: rgb(42, 63, 95); fill-opacity: 1; white-space: pre; opacity: 1;\">(6, 9]</text></g><g class=\"x3tick\"><text text-anchor=\"middle\" x=\"0\" y=\"363\" transform=\"translate(894.4233333333333,0)\" style=\"font-family: 'Open Sans', verdana, arial, sans-serif; font-size: 12px; fill: rgb(42, 63, 95); fill-opacity: 1; white-space: pre; opacity: 1;\">(9, 13]</text></g></g><g class=\"yaxislayer-above\"/><g class=\"overaxes-above\"/></g></g><g class=\"polarlayer\"/><g class=\"smithlayer\"/><g class=\"ternarylayer\"/><g class=\"geolayer\"/><g class=\"funnelarealayer\"/><g class=\"pielayer\"/><g class=\"iciclelayer\"/><g class=\"treemaplayer\"/><g class=\"sunburstlayer\"/><g class=\"glimages\"/><defs id=\"topdefs-054936\"><g class=\"clips\"/></defs><g class=\"layer-above\"><g class=\"imagelayer\"/><g class=\"shapelayer\"/></g><g class=\"infolayer\"><g class=\"cb015f0a colorbar\" transform=\"translate(112,100)\"><rect class=\"cbbg\" x=\"838\" y=\"0\" width=\"88.046875\" height=\"250\" style=\"fill: rgb(0, 0, 0); fill-opacity: 0; stroke: rgb(68, 68, 68); stroke-opacity: 1; stroke-width: 0;\"/><g class=\"cbfills\" transform=\"translate(0,33)\"><rect class=\"cbfill gradient_filled\" style=\"fill: url('#g054936-cb015f0a');\" x=\"848\" y=\"0\" width=\"30\" height=\"207\"/></g><g class=\"cblines\" transform=\"translate(0,33)\"/><g class=\"cbaxis crisp\" transform=\"translate(0,-100)\"><g class=\"ycb015f0atick\"><text text-anchor=\"start\" x=\"880.9\" y=\"4.199999999999999\" transform=\"translate(0,339.999375)\" style=\"font-family: 'Open Sans', verdana, arial, sans-serif; font-size: 12px; fill: rgb(42, 63, 95); fill-opacity: 1; white-space: pre; opacity: 1;\">0</text></g><g class=\"ycb015f0atick\"><text text-anchor=\"start\" x=\"880.9\" y=\"4.199999999999999\" style=\"font-family: 'Open Sans', verdana, arial, sans-serif; font-size: 12px; fill: rgb(42, 63, 95); fill-opacity: 1; white-space: pre; opacity: 1;\" transform=\"translate(0,298.51937499999997)\">0.2</text></g><g class=\"ycb015f0atick\"><text text-anchor=\"start\" x=\"880.9\" y=\"4.199999999999999\" style=\"font-family: 'Open Sans', verdana, arial, sans-serif; font-size: 12px; fill: rgb(42, 63, 95); fill-opacity: 1; white-space: pre; opacity: 1;\" transform=\"translate(0,257.039375)\">0.4</text></g><g class=\"ycb015f0atick\"><text text-anchor=\"start\" x=\"880.9\" y=\"4.199999999999999\" style=\"font-family: 'Open Sans', verdana, arial, sans-serif; font-size: 12px; fill: rgb(42, 63, 95); fill-opacity: 1; white-space: pre; opacity: 1;\" transform=\"translate(0,215.56937499999998)\">0.6</text></g><g class=\"ycb015f0atick\"><text text-anchor=\"start\" x=\"880.9\" y=\"4.199999999999999\" style=\"font-family: 'Open Sans', verdana, arial, sans-serif; font-size: 12px; fill: rgb(42, 63, 95); fill-opacity: 1; white-space: pre; opacity: 1;\" transform=\"translate(0,174.089375)\">0.8</text></g><g class=\"ycb015f0atick\"><text text-anchor=\"start\" x=\"880.9\" y=\"4.199999999999999\" style=\"font-family: 'Open Sans', verdana, arial, sans-serif; font-size: 12px; fill: rgb(42, 63, 95); fill-opacity: 1; white-space: pre; opacity: 1;\" transform=\"translate(0,132.609375)\">1</text></g></g><g class=\"cbtitleunshift\" transform=\"translate(-112,-100)\"><g class=\"cbtitle\" transform=\"\"><text class=\"ycb015f0atitle\" x=\"960.44\" y=\"123.5\" text-anchor=\"start\" style=\"font-family: 'Open Sans', verdana, arial, sans-serif; font-size: 14px; fill: rgb(42, 63, 95); opacity: 1; font-weight: normal; white-space: pre;\">Pearson r</text></g></g><rect class=\"cboutline\" x=\"848\" y=\"32.609375\" width=\"30\" height=\"207.390625\" style=\"stroke: rgb(68, 68, 68); stroke-opacity: 1; fill: none; stroke-width: 0;\"/></g><g class=\"g-gtitle\"/><g class=\"g-xtitle\"><text class=\"xtitle\" x=\"230.73333333333335\" y=\"389.70625\" text-anchor=\"middle\" style=\"font-family: 'Open Sans', verdana, arial, sans-serif; font-size: 14px; fill: rgb(42, 63, 95); opacity: 1; font-weight: normal; white-space: pre;\">#compound-target pairs per accession</text></g><g class=\"g-x2title\"><text class=\"x2title\" x=\"523\" y=\"389.70625\" text-anchor=\"middle\" style=\"font-family: 'Open Sans', verdana, arial, sans-serif; font-size: 14px; fill: rgb(42, 63, 95); opacity: 1; font-weight: normal; white-space: pre;\">#compound-target pairs per accession</text></g><g class=\"g-x3title\"><text class=\"x3title\" x=\"815.2666666666667\" y=\"389.70625\" text-anchor=\"middle\" style=\"font-family: 'Open Sans', verdana, arial, sans-serif; font-size: 14px; fill: rgb(42, 63, 95); opacity: 1; font-weight: normal; white-space: pre;\">#compound-target pairs per accession</text></g><g class=\"g-ytitle\" transform=\"translate(1.7060546875,0)\"><text class=\"ytitle\" transform=\"rotate(-90,12.700000000000003,225)\" x=\"12.700000000000003\" y=\"225\" text-anchor=\"middle\" style=\"font-family: 'Open Sans', verdana, arial, sans-serif; font-size: 14px; fill: rgb(42, 63, 95); opacity: 1; font-weight: normal; white-space: pre;\">Minority class (WT/mutant) %</text></g><g class=\"g-y2title\"/><g class=\"g-y3title\"/><g class=\"annotation\" data-index=\"0\" style=\"opacity: 1;\"><g class=\"annotation-text-g\" transform=\"rotate(0,230.73333333333335,88.5)\"><g class=\"cursor-pointer\" transform=\"translate(159,77)\"><rect class=\"bg\" x=\"0.5\" y=\"0.5\" width=\"142\" height=\"22\" style=\"stroke-width: 1px; stroke: rgb(0, 0, 0); stroke-opacity: 0; fill: rgb(0, 0, 0); fill-opacity: 0;\"/><text class=\"annotation-text\" text-anchor=\"middle\" x=\"71.3125\" y=\"18\" style=\"font-family: 'Open Sans', verdana, arial, sans-serif; font-size: 16px; fill: rgb(42, 63, 95); fill-opacity: 1; white-space: pre;\">complete dataset</text></g></g></g><g class=\"annotation\" data-index=\"1\" style=\"opacity: 1;\"><g class=\"annotation-text-g\" transform=\"rotate(0,523,88.5)\"><g class=\"cursor-pointer\" transform=\"translate(479,77)\"><rect class=\"bg\" x=\"0.5\" y=\"0.5\" width=\"87\" height=\"22\" style=\"stroke-width: 1px; stroke: rgb(0, 0, 0); stroke-opacity: 0; fill: rgb(0, 0, 0); fill-opacity: 0;\"/><text class=\"annotation-text\" text-anchor=\"middle\" x=\"43.75\" y=\"18\" style=\"font-family: 'Open Sans', verdana, arial, sans-serif; font-size: 16px; fill: rgb(42, 63, 95); fill-opacity: 1; white-space: pre;\">no mutant</text></g></g></g><g class=\"annotation\" data-index=\"2\" style=\"opacity: 1;\"><g class=\"annotation-text-g\" transform=\"rotate(0,815.2666666666668,88.5)\"><g class=\"cursor-pointer\" transform=\"translate(750,77)\"><rect class=\"bg\" x=\"0.5\" y=\"0.5\" width=\"130\" height=\"22\" style=\"stroke-width: 1px; stroke: rgb(0, 0, 0); stroke-opacity: 0; fill: rgb(0, 0, 0); fill-opacity: 0;\"/><text class=\"annotation-text\" text-anchor=\"middle\" x=\"65.625\" y=\"18\" style=\"font-family: 'Open Sans', verdana, arial, sans-serif; font-size: 16px; fill: rgb(42, 63, 95); fill-opacity: 1; white-space: pre;\">common subset</text></g></g></g></g></svg>"
      ],
      "text/plain": [
       "<IPython.core.display.SVG object>"
      ]
     },
     "metadata": {},
     "output_type": "display_data"
    },
    {
     "data": {
      "image/svg+xml": [
       "<svg xmlns=\"http://www.w3.org/2000/svg\" xmlns:xlink=\"http://www.w3.org/1999/xlink\" class=\"main-svg\" width=\"1050\" height=\"430\" style=\"\" viewBox=\"0 0 1050 430\"><rect x=\"0\" y=\"0\" width=\"1050\" height=\"430\" style=\"fill: rgb(255, 255, 255); fill-opacity: 1;\"/><defs id=\"defs-efb81e\"><g class=\"clips\"><clipPath id=\"clipefb81exyplot\" class=\"plotclip\"><rect width=\"237.4666666666667\" height=\"250\"/></clipPath><clipPath id=\"clipefb81ex2y2plot\" class=\"plotclip\"><rect width=\"237.4666666666667\" height=\"250\"/></clipPath><clipPath id=\"clipefb81ex3y3plot\" class=\"plotclip\"><rect width=\"237.46666666666664\" height=\"250\"/></clipPath><clipPath class=\"axesclip\" id=\"clipefb81ex\"><rect x=\"112\" y=\"0\" width=\"237.4666666666667\" height=\"430\"/></clipPath><clipPath class=\"axesclip\" id=\"clipefb81ey\"><rect x=\"0\" y=\"100\" width=\"1050\" height=\"250\"/></clipPath><clipPath class=\"axesclip\" id=\"clipefb81exy\"><rect x=\"112\" y=\"100\" width=\"237.4666666666667\" height=\"250\"/></clipPath><clipPath class=\"axesclip\" id=\"clipefb81ey2\"><rect x=\"0\" y=\"100\" width=\"1050\" height=\"250\"/></clipPath><clipPath class=\"axesclip\" id=\"clipefb81exy2\"><rect x=\"112\" y=\"100\" width=\"237.4666666666667\" height=\"250\"/></clipPath><clipPath class=\"axesclip\" id=\"clipefb81ey3\"><rect x=\"0\" y=\"100\" width=\"1050\" height=\"250\"/></clipPath><clipPath class=\"axesclip\" id=\"clipefb81exy3\"><rect x=\"112\" y=\"100\" width=\"237.4666666666667\" height=\"250\"/></clipPath><clipPath class=\"axesclip\" id=\"clipefb81ex2\"><rect x=\"404.26666666666665\" y=\"0\" width=\"237.4666666666667\" height=\"430\"/></clipPath><clipPath class=\"axesclip\" id=\"clipefb81ex2y\"><rect x=\"404.26666666666665\" y=\"100\" width=\"237.4666666666667\" height=\"250\"/></clipPath><clipPath class=\"axesclip\" id=\"clipefb81ex2y2\"><rect x=\"404.26666666666665\" y=\"100\" width=\"237.4666666666667\" height=\"250\"/></clipPath><clipPath class=\"axesclip\" id=\"clipefb81ex2y3\"><rect x=\"404.26666666666665\" y=\"100\" width=\"237.4666666666667\" height=\"250\"/></clipPath><clipPath class=\"axesclip\" id=\"clipefb81ex3\"><rect x=\"696.5333333333333\" y=\"0\" width=\"237.46666666666664\" height=\"430\"/></clipPath><clipPath class=\"axesclip\" id=\"clipefb81ex3y\"><rect x=\"696.5333333333333\" y=\"100\" width=\"237.46666666666664\" height=\"250\"/></clipPath><clipPath class=\"axesclip\" id=\"clipefb81ex3y2\"><rect x=\"696.5333333333333\" y=\"100\" width=\"237.46666666666664\" height=\"250\"/></clipPath><clipPath class=\"axesclip\" id=\"clipefb81ex3y3\"><rect x=\"696.5333333333333\" y=\"100\" width=\"237.46666666666664\" height=\"250\"/></clipPath></g><g class=\"gradients\"><linearGradient x1=\"0\" x2=\"0\" y1=\"1\" y2=\"0\" id=\"gefb81e-cbb516b9\"><stop offset=\"0%\" stop-color=\"rgb(165, 0, 38)\" stop-opacity=\"1\"/><stop offset=\"10%\" stop-color=\"rgb(215, 48, 39)\" stop-opacity=\"1\"/><stop offset=\"20%\" stop-color=\"rgb(244, 109, 67)\" stop-opacity=\"1\"/><stop offset=\"30%\" stop-color=\"rgb(253, 174, 97)\" stop-opacity=\"1\"/><stop offset=\"40%\" stop-color=\"rgb(254, 224, 139)\" stop-opacity=\"1\"/><stop offset=\"50%\" stop-color=\"rgb(255, 255, 191)\" stop-opacity=\"1\"/><stop offset=\"60%\" stop-color=\"rgb(217, 239, 139)\" stop-opacity=\"1\"/><stop offset=\"70%\" stop-color=\"rgb(166, 217, 106)\" stop-opacity=\"1\"/><stop offset=\"80%\" stop-color=\"rgb(102, 189, 99)\" stop-opacity=\"1\"/><stop offset=\"90%\" stop-color=\"rgb(26, 152, 80)\" stop-opacity=\"1\"/><stop offset=\"100%\" stop-color=\"rgb(0, 104, 55)\" stop-opacity=\"1\"/></linearGradient></g><g class=\"patterns\"/></defs><g class=\"bglayer\"><rect class=\"bg\" x=\"112\" y=\"100\" width=\"237.4666666666667\" height=\"250\" style=\"fill: rgb(229, 236, 246); fill-opacity: 1; stroke-width: 0;\"/><rect class=\"bg\" x=\"404.26666666666665\" y=\"100\" width=\"237.4666666666667\" height=\"250\" style=\"fill: rgb(229, 236, 246); fill-opacity: 1; stroke-width: 0;\"/><rect class=\"bg\" x=\"696.5333333333333\" y=\"100\" width=\"237.46666666666664\" height=\"250\" style=\"fill: rgb(229, 236, 246); fill-opacity: 1; stroke-width: 0;\"/></g><g class=\"layer-below\"><g class=\"imagelayer\"/><g class=\"shapelayer\"/></g><g class=\"cartesianlayer\"><g class=\"subplot xy\"><g class=\"layer-subplot\"><g class=\"shapelayer\"/><g class=\"imagelayer\"/></g><g class=\"minor-gridlayer\"><g class=\"x\"/><g class=\"y\"/></g><g class=\"gridlayer\"><g class=\"x\"><path class=\"xgrid crisp\" transform=\"translate(151.57999999999998,0)\" d=\"M0,100v250\" style=\"stroke: rgb(255, 255, 255); stroke-opacity: 1; stroke-width: 1px;\"/><path class=\"xgrid crisp\" transform=\"translate(230.73000000000002,0)\" d=\"M0,100v250\" style=\"stroke: rgb(255, 255, 255); stroke-opacity: 1; stroke-width: 1px;\"/><path class=\"xgrid crisp\" transform=\"translate(309.89,0)\" d=\"M0,100v250\" style=\"stroke: rgb(255, 255, 255); stroke-opacity: 1; stroke-width: 1px;\"/></g><g class=\"y\"><path class=\"ygrid crisp\" transform=\"translate(0,308.33000000000004)\" d=\"M112,0h237.4666666666667\" style=\"stroke: rgb(255, 255, 255); stroke-opacity: 1; stroke-width: 1px;\"/><path class=\"ygrid crisp\" transform=\"translate(0,225)\" d=\"M112,0h237.4666666666667\" style=\"stroke: rgb(255, 255, 255); stroke-opacity: 1; stroke-width: 1px;\"/><path class=\"ygrid crisp\" transform=\"translate(0,141.67000000000002)\" d=\"M112,0h237.4666666666667\" style=\"stroke: rgb(255, 255, 255); stroke-opacity: 1; stroke-width: 1px;\"/></g></g><g class=\"zerolinelayer\"/><path class=\"xlines-below\"/><path class=\"ylines-below\"/><g class=\"overlines-below\"/><g class=\"xaxislayer-below\"/><g class=\"yaxislayer-below\"/><g class=\"overaxes-below\"/><g class=\"plot\" transform=\"translate(112,100)\" clip-path=\"url(#clipefb81exyplot)\"><g class=\"heatmaplayer mlayer\"><g class=\"hm\"><image xmlns=\"http://www.w3.org/2000/svg\" preserveAspectRatio=\"none\" height=\"250\" width=\"237\" x=\"0\" y=\"0\" xlink:href=\"data:image/png;base64,iVBORw0KGgoAAAANSUhEUgAAAAMAAAADCAYAAABWKLW/AAAAMklEQVQYVwEnANj/Aarbbf9SI04ABAJFAQFSs17/LBUIAII4mgEBqtts//L6/QDW7fsAGkUQmxDQ2ykAAAAASUVORK5CYII=\" style=\"image-rendering: pixelated; opacity: 1;\"/><g class=\"heatmap-label\"><text text-anchor=\"middle\" data-notex=\"1\" x=\"40\" y=\"212.2\" style=\"font-family: 'Open Sans', verdana, arial, sans-serif; font-size: 12px; fill: rgb(68, 68, 68); fill-opacity: 1; white-space: pre;\">0.693</text></g><g class=\"heatmap-label\"><text text-anchor=\"middle\" data-notex=\"1\" x=\"119\" y=\"212.2\" style=\"font-family: 'Open Sans', verdana, arial, sans-serif; font-size: 12px; fill: rgb(68, 68, 68); fill-opacity: 1; white-space: pre;\">0.716</text></g><g class=\"heatmap-label\"><text text-anchor=\"middle\" data-notex=\"1\" x=\"198\" y=\"212.2\" style=\"font-family: 'Open Sans', verdana, arial, sans-serif; font-size: 12px; fill: rgb(68, 68, 68); fill-opacity: 1; white-space: pre;\">0.782</text></g><g class=\"heatmap-label\"><text text-anchor=\"middle\" data-notex=\"1\" x=\"40\" y=\"129.2\" style=\"font-family: 'Open Sans', verdana, arial, sans-serif; font-size: 12px; fill: rgb(68, 68, 68); fill-opacity: 1; white-space: pre;\">0.827</text></g><g class=\"heatmap-label\"><text text-anchor=\"middle\" data-notex=\"1\" x=\"119\" y=\"129.2\" style=\"font-family: 'Open Sans', verdana, arial, sans-serif; font-size: 12px; fill: rgb(68, 68, 68); fill-opacity: 1; white-space: pre;\">0.762</text></g><g class=\"heatmap-label\"><text text-anchor=\"middle\" data-notex=\"1\" x=\"198\" y=\"129.2\" style=\"font-family: 'Open Sans', verdana, arial, sans-serif; font-size: 12px; fill: rgb(255, 255, 255); fill-opacity: 1; white-space: pre;\">0.000</text></g><g class=\"heatmap-label\"><text text-anchor=\"middle\" data-notex=\"1\" x=\"40\" y=\"46.2\" style=\"font-family: 'Open Sans', verdana, arial, sans-serif; font-size: 12px; fill: rgb(68, 68, 68); fill-opacity: 1; white-space: pre;\">0.692</text></g><g class=\"heatmap-label\"><text text-anchor=\"middle\" data-notex=\"1\" x=\"119\" y=\"46.2\" style=\"font-family: 'Open Sans', verdana, arial, sans-serif; font-size: 12px; fill: rgb(68, 68, 68); fill-opacity: 1; white-space: pre;\">0.507</text></g><g class=\"heatmap-label\"><text text-anchor=\"middle\" data-notex=\"1\" x=\"198\" y=\"46.2\" style=\"font-family: 'Open Sans', verdana, arial, sans-serif; font-size: 12px; fill: rgb(255, 255, 255); fill-opacity: 1; white-space: pre;\">0.000</text></g></g></g></g><g class=\"overplot\"/><path class=\"xlines-above crisp\" style=\"fill: none;\" d=\"M0,0\"/><path class=\"ylines-above crisp\" style=\"fill: none;\" d=\"M0,0\"/><g class=\"overlines-above\"/><g class=\"xaxislayer-above\"><g class=\"xtick\"><text text-anchor=\"middle\" x=\"0\" y=\"363\" transform=\"translate(151.57999999999998,0)\" style=\"font-family: 'Open Sans', verdana, arial, sans-serif; font-size: 12px; fill: rgb(42, 63, 95); fill-opacity: 1; white-space: pre; opacity: 1;\">[198, 400]</text></g><g class=\"xtick\"><text text-anchor=\"middle\" x=\"0\" y=\"363\" transform=\"translate(230.73000000000002,0)\" style=\"font-family: 'Open Sans', verdana, arial, sans-serif; font-size: 12px; fill: rgb(42, 63, 95); fill-opacity: 1; white-space: pre; opacity: 1;\">(400, 680]</text></g><g class=\"xtick\"><text text-anchor=\"middle\" x=\"0\" y=\"363\" transform=\"translate(309.89,0)\" style=\"font-family: 'Open Sans', verdana, arial, sans-serif; font-size: 12px; fill: rgb(42, 63, 95); fill-opacity: 1; white-space: pre; opacity: 1;\">(680, 694]</text></g></g><g class=\"yaxislayer-above\"><g class=\"ytick\"><text text-anchor=\"end\" x=\"111\" y=\"4.199999999999999\" transform=\"translate(0,308.33000000000004)\" style=\"font-family: 'Open Sans', verdana, arial, sans-serif; font-size: 12px; fill: rgb(42, 63, 95); fill-opacity: 1; white-space: pre; opacity: 1;\">[-0, 15]</text></g><g class=\"ytick\"><text text-anchor=\"end\" x=\"111\" y=\"4.199999999999999\" transform=\"translate(0,225)\" style=\"font-family: 'Open Sans', verdana, arial, sans-serif; font-size: 12px; fill: rgb(42, 63, 95); fill-opacity: 1; white-space: pre; opacity: 1;\">(15.0, 30.0]</text></g><g class=\"ytick\"><text text-anchor=\"end\" x=\"111\" y=\"4.199999999999999\" transform=\"translate(0,141.67000000000002)\" style=\"font-family: 'Open Sans', verdana, arial, sans-serif; font-size: 12px; fill: rgb(42, 63, 95); fill-opacity: 1; white-space: pre; opacity: 1;\">(30.0, 50.0]</text></g></g><g class=\"overaxes-above\"/></g><g class=\"subplot x2y2\"><g class=\"layer-subplot\"><g class=\"shapelayer\"/><g class=\"imagelayer\"/></g><g class=\"minor-gridlayer\"><g class=\"x2\"/><g class=\"y2\"/></g><g class=\"gridlayer\"><g class=\"x2\"><path class=\"x2grid crisp\" transform=\"translate(443.84666666666664,0)\" d=\"M0,100v250\" style=\"stroke: rgb(255, 255, 255); stroke-opacity: 1; stroke-width: 1px;\"/><path class=\"x2grid crisp\" transform=\"translate(522.9966666666667,0)\" d=\"M0,100v250\" style=\"stroke: rgb(255, 255, 255); stroke-opacity: 1; stroke-width: 1px;\"/><path class=\"x2grid crisp\" transform=\"translate(602.1566666666666,0)\" d=\"M0,100v250\" style=\"stroke: rgb(255, 255, 255); stroke-opacity: 1; stroke-width: 1px;\"/></g><g class=\"y2\"><path class=\"y2grid crisp\" transform=\"translate(0,308.33000000000004)\" d=\"M404.26666666666665,0h237.4666666666667\" style=\"stroke: rgb(255, 255, 255); stroke-opacity: 1; stroke-width: 1px;\"/><path class=\"y2grid crisp\" transform=\"translate(0,225)\" d=\"M404.26666666666665,0h237.4666666666667\" style=\"stroke: rgb(255, 255, 255); stroke-opacity: 1; stroke-width: 1px;\"/><path class=\"y2grid crisp\" transform=\"translate(0,141.67000000000002)\" d=\"M404.26666666666665,0h237.4666666666667\" style=\"stroke: rgb(255, 255, 255); stroke-opacity: 1; stroke-width: 1px;\"/></g></g><g class=\"zerolinelayer\"/><path class=\"xlines-below\"/><path class=\"ylines-below\"/><g class=\"overlines-below\"/><g class=\"xaxislayer-below\"/><g class=\"yaxislayer-below\"/><g class=\"overaxes-below\"/><g class=\"plot\" transform=\"translate(404.26666666666665,100)\" clip-path=\"url(#clipefb81ex2y2plot)\"><g class=\"heatmaplayer mlayer\"><g class=\"hm\"><image xmlns=\"http://www.w3.org/2000/svg\" preserveAspectRatio=\"none\" height=\"250\" width=\"237\" x=\"0\" y=\"0\" xlink:href=\"data:image/png;base64,iVBORw0KGgoAAAANSUhEUgAAAAMAAAADCAYAAABWKLW/AAAAMklEQVQYVwEnANj/AfX7sf8J7OUAAhlqAQFVtV//BAIBAKdJoAEBqNps/+/4/ADW7vwAW/cSlF2Qi18AAAAASUVORK5CYII=\" style=\"image-rendering: pixelated; opacity: 1;\"/><g class=\"heatmap-label\"><text text-anchor=\"middle\" data-notex=\"1\" x=\"40\" y=\"212.2\" style=\"font-family: 'Open Sans', verdana, arial, sans-serif; font-size: 12px; fill: rgb(68, 68, 68); fill-opacity: 1; white-space: pre;\">0.695</text></g><g class=\"heatmap-label\"><text text-anchor=\"middle\" data-notex=\"1\" x=\"119\" y=\"212.2\" style=\"font-family: 'Open Sans', verdana, arial, sans-serif; font-size: 12px; fill: rgb(68, 68, 68); fill-opacity: 1; white-space: pre;\">0.723</text></g><g class=\"heatmap-label\"><text text-anchor=\"middle\" data-notex=\"1\" x=\"198\" y=\"212.2\" style=\"font-family: 'Open Sans', verdana, arial, sans-serif; font-size: 12px; fill: rgb(68, 68, 68); fill-opacity: 1; white-space: pre;\">0.789</text></g><g class=\"heatmap-label\"><text text-anchor=\"middle\" data-notex=\"1\" x=\"40\" y=\"129.2\" style=\"font-family: 'Open Sans', verdana, arial, sans-serif; font-size: 12px; fill: rgb(68, 68, 68); fill-opacity: 1; white-space: pre;\">0.822</text></g><g class=\"heatmap-label\"><text text-anchor=\"middle\" data-notex=\"1\" x=\"119\" y=\"129.2\" style=\"font-family: 'Open Sans', verdana, arial, sans-serif; font-size: 12px; fill: rgb(68, 68, 68); fill-opacity: 1; white-space: pre;\">0.817</text></g><g class=\"heatmap-label\"><text text-anchor=\"middle\" data-notex=\"1\" x=\"198\" y=\"129.2\" style=\"font-family: 'Open Sans', verdana, arial, sans-serif; font-size: 12px; fill: rgb(255, 255, 255); fill-opacity: 1; white-space: pre;\">0.000</text></g><g class=\"heatmap-label\"><text text-anchor=\"middle\" data-notex=\"1\" x=\"40\" y=\"46.2\" style=\"font-family: 'Open Sans', verdana, arial, sans-serif; font-size: 12px; fill: rgb(68, 68, 68); fill-opacity: 1; white-space: pre;\">0.526</text></g><g class=\"heatmap-label\"><text text-anchor=\"middle\" data-notex=\"1\" x=\"119\" y=\"46.2\" style=\"font-family: 'Open Sans', verdana, arial, sans-serif; font-size: 12px; fill: rgb(68, 68, 68); fill-opacity: 1; white-space: pre;\">0.422</text></g><g class=\"heatmap-label\"><text text-anchor=\"middle\" data-notex=\"1\" x=\"198\" y=\"46.2\" style=\"font-family: 'Open Sans', verdana, arial, sans-serif; font-size: 12px; fill: rgb(255, 255, 255); fill-opacity: 1; white-space: pre;\">0.000</text></g></g></g></g><g class=\"overplot\"/><path class=\"xlines-above crisp\" style=\"fill: none;\" d=\"M0,0\"/><path class=\"ylines-above crisp\" style=\"fill: none;\" d=\"M0,0\"/><g class=\"overlines-above\"/><g class=\"xaxislayer-above\"><g class=\"x2tick\"><text text-anchor=\"middle\" x=\"0\" y=\"363\" transform=\"translate(443.84666666666664,0)\" style=\"font-family: 'Open Sans', verdana, arial, sans-serif; font-size: 12px; fill: rgb(42, 63, 95); fill-opacity: 1; white-space: pre; opacity: 1;\">[198, 400]</text></g><g class=\"x2tick\"><text text-anchor=\"middle\" x=\"0\" y=\"363\" transform=\"translate(522.9966666666667,0)\" style=\"font-family: 'Open Sans', verdana, arial, sans-serif; font-size: 12px; fill: rgb(42, 63, 95); fill-opacity: 1; white-space: pre; opacity: 1;\">(400, 680]</text></g><g class=\"x2tick\"><text text-anchor=\"middle\" x=\"0\" y=\"363\" transform=\"translate(602.1566666666666,0)\" style=\"font-family: 'Open Sans', verdana, arial, sans-serif; font-size: 12px; fill: rgb(42, 63, 95); fill-opacity: 1; white-space: pre; opacity: 1;\">(680, 694]</text></g></g><g class=\"yaxislayer-above\"/><g class=\"overaxes-above\"/></g><g class=\"subplot x3y3\"><g class=\"layer-subplot\"><g class=\"shapelayer\"/><g class=\"imagelayer\"/></g><g class=\"minor-gridlayer\"><g class=\"x3\"/><g class=\"y3\"/></g><g class=\"gridlayer\"><g class=\"x3\"><path class=\"x3grid crisp\" transform=\"translate(736.1133333333333,0)\" d=\"M0,100v250\" style=\"stroke: rgb(255, 255, 255); stroke-opacity: 1; stroke-width: 1px;\"/><path class=\"x3grid crisp\" transform=\"translate(815.2633333333333,0)\" d=\"M0,100v250\" style=\"stroke: rgb(255, 255, 255); stroke-opacity: 1; stroke-width: 1px;\"/><path class=\"x3grid crisp\" transform=\"translate(894.4233333333333,0)\" d=\"M0,100v250\" style=\"stroke: rgb(255, 255, 255); stroke-opacity: 1; stroke-width: 1px;\"/></g><g class=\"y3\"><path class=\"y3grid crisp\" transform=\"translate(0,308.33000000000004)\" d=\"M696.5333333333333,0h237.46666666666664\" style=\"stroke: rgb(255, 255, 255); stroke-opacity: 1; stroke-width: 1px;\"/><path class=\"y3grid crisp\" transform=\"translate(0,225)\" d=\"M696.5333333333333,0h237.46666666666664\" style=\"stroke: rgb(255, 255, 255); stroke-opacity: 1; stroke-width: 1px;\"/><path class=\"y3grid crisp\" transform=\"translate(0,141.67000000000002)\" d=\"M696.5333333333333,0h237.46666666666664\" style=\"stroke: rgb(255, 255, 255); stroke-opacity: 1; stroke-width: 1px;\"/></g></g><g class=\"zerolinelayer\"/><path class=\"xlines-below\"/><path class=\"ylines-below\"/><g class=\"overlines-below\"/><g class=\"xaxislayer-below\"/><g class=\"yaxislayer-below\"/><g class=\"overaxes-below\"/><g class=\"plot\" transform=\"translate(696.5333333333333,100)\" clip-path=\"url(#clipefb81ex3y3plot)\"><g class=\"heatmaplayer mlayer\"><g class=\"hm\"><image xmlns=\"http://www.w3.org/2000/svg\" preserveAspectRatio=\"none\" height=\"250\" width=\"237\" x=\"0\" y=\"0\" xlink:href=\"data:image/png;base64,iVBORw0KGgoAAAANSUhEUgAAAAMAAAADCAYAAABWKLW/AAAAMklEQVQYVwEnANj/Af7uov8A49wAAi+CAQH+6Jj/9RIXAA0GUQEB//iz///VyAACM4UBeQASBD4Zuo8AAAAASUVORK5CYII=\" style=\"image-rendering: pixelated; opacity: 1;\"/><g class=\"heatmap-label\"><text text-anchor=\"middle\" data-notex=\"1\" x=\"40\" y=\"212.2\" style=\"font-family: 'Open Sans', verdana, arial, sans-serif; font-size: 12px; fill: rgb(68, 68, 68); fill-opacity: 1; white-space: pre;\">0.478</text></g><g class=\"heatmap-label\"><text text-anchor=\"middle\" data-notex=\"1\" x=\"119\" y=\"212.2\" style=\"font-family: 'Open Sans', verdana, arial, sans-serif; font-size: 12px; fill: rgb(68, 68, 68); fill-opacity: 1; white-space: pre;\">0.362</text></g><g class=\"heatmap-label\"><text text-anchor=\"middle\" data-notex=\"1\" x=\"198\" y=\"212.2\" style=\"font-family: 'Open Sans', verdana, arial, sans-serif; font-size: 12px; fill: rgb(255, 255, 255); fill-opacity: 1; white-space: pre;\">0.000</text></g><g class=\"heatmap-label\"><text text-anchor=\"middle\" data-notex=\"1\" x=\"40\" y=\"129.2\" style=\"font-family: 'Open Sans', verdana, arial, sans-serif; font-size: 12px; fill: rgb(68, 68, 68); fill-opacity: 1; white-space: pre;\">0.426</text></g><g class=\"heatmap-label\"><text text-anchor=\"middle\" data-notex=\"1\" x=\"119\" y=\"129.2\" style=\"font-family: 'Open Sans', verdana, arial, sans-serif; font-size: 12px; fill: rgb(68, 68, 68); fill-opacity: 1; white-space: pre;\">0.531</text></g><g class=\"heatmap-label\"><text text-anchor=\"middle\" data-notex=\"1\" x=\"198\" y=\"129.2\" style=\"font-family: 'Open Sans', verdana, arial, sans-serif; font-size: 12px; fill: rgb(255, 255, 255); fill-opacity: 1; white-space: pre;\">0.000</text></g><g class=\"heatmap-label\"><text text-anchor=\"middle\" data-notex=\"1\" x=\"40\" y=\"46.2\" style=\"font-family: 'Open Sans', verdana, arial, sans-serif; font-size: 12px; fill: rgb(68, 68, 68); fill-opacity: 1; white-space: pre;\">0.444</text></g><g class=\"heatmap-label\"><text text-anchor=\"middle\" data-notex=\"1\" x=\"119\" y=\"46.2\" style=\"font-family: 'Open Sans', verdana, arial, sans-serif; font-size: 12px; fill: rgb(68, 68, 68); fill-opacity: 1; white-space: pre;\">0.369</text></g><g class=\"heatmap-label\"><text text-anchor=\"middle\" data-notex=\"1\" x=\"198\" y=\"46.2\" style=\"font-family: 'Open Sans', verdana, arial, sans-serif; font-size: 12px; fill: rgb(255, 255, 255); fill-opacity: 1; white-space: pre;\">0.000</text></g></g></g></g><g class=\"overplot\"/><path class=\"xlines-above crisp\" style=\"fill: none;\" d=\"M0,0\"/><path class=\"ylines-above crisp\" style=\"fill: none;\" d=\"M0,0\"/><g class=\"overlines-above\"/><g class=\"xaxislayer-above\"><g class=\"x3tick\"><text text-anchor=\"middle\" x=\"0\" y=\"363\" transform=\"translate(736.1133333333333,0)\" style=\"font-family: 'Open Sans', verdana, arial, sans-serif; font-size: 12px; fill: rgb(42, 63, 95); fill-opacity: 1; white-space: pre; opacity: 1;\">[13, 17]</text></g><g class=\"x3tick\"><text text-anchor=\"middle\" x=\"0\" y=\"363\" transform=\"translate(815.2633333333333,0)\" style=\"font-family: 'Open Sans', verdana, arial, sans-serif; font-size: 12px; fill: rgb(42, 63, 95); fill-opacity: 1; white-space: pre; opacity: 1;\">(17, 33]</text></g><g class=\"x3tick\"><text text-anchor=\"middle\" x=\"0\" y=\"363\" transform=\"translate(894.4233333333333,0)\" style=\"font-family: 'Open Sans', verdana, arial, sans-serif; font-size: 12px; fill: rgb(42, 63, 95); fill-opacity: 1; white-space: pre; opacity: 1;\">(33, 33]</text></g></g><g class=\"yaxislayer-above\"/><g class=\"overaxes-above\"/></g></g><g class=\"polarlayer\"/><g class=\"smithlayer\"/><g class=\"ternarylayer\"/><g class=\"geolayer\"/><g class=\"funnelarealayer\"/><g class=\"pielayer\"/><g class=\"iciclelayer\"/><g class=\"treemaplayer\"/><g class=\"sunburstlayer\"/><g class=\"glimages\"/><defs id=\"topdefs-efb81e\"><g class=\"clips\"/></defs><g class=\"layer-above\"><g class=\"imagelayer\"/><g class=\"shapelayer\"/></g><g class=\"infolayer\"><g class=\"cbb516b9 colorbar\" transform=\"translate(112,100)\"><rect class=\"cbbg\" x=\"838\" y=\"0\" width=\"88.046875\" height=\"250\" style=\"fill: rgb(0, 0, 0); fill-opacity: 0; stroke: rgb(68, 68, 68); stroke-opacity: 1; stroke-width: 0;\"/><g class=\"cbfills\" transform=\"translate(0,33)\"><rect class=\"cbfill gradient_filled\" style=\"fill: url('#gefb81e-cbb516b9');\" x=\"848\" y=\"0\" width=\"30\" height=\"207\"/></g><g class=\"cblines\" transform=\"translate(0,33)\"/><g class=\"cbaxis crisp\" transform=\"translate(0,-100)\"><g class=\"ycbb516b9tick\"><text text-anchor=\"start\" x=\"880.9\" y=\"4.199999999999999\" transform=\"translate(0,339.999375)\" style=\"font-family: 'Open Sans', verdana, arial, sans-serif; font-size: 12px; fill: rgb(42, 63, 95); fill-opacity: 1; white-space: pre; opacity: 1;\">0</text></g><g class=\"ycbb516b9tick\"><text text-anchor=\"start\" x=\"880.9\" y=\"4.199999999999999\" style=\"font-family: 'Open Sans', verdana, arial, sans-serif; font-size: 12px; fill: rgb(42, 63, 95); fill-opacity: 1; white-space: pre; opacity: 1;\" transform=\"translate(0,298.51937499999997)\">0.2</text></g><g class=\"ycbb516b9tick\"><text text-anchor=\"start\" x=\"880.9\" y=\"4.199999999999999\" style=\"font-family: 'Open Sans', verdana, arial, sans-serif; font-size: 12px; fill: rgb(42, 63, 95); fill-opacity: 1; white-space: pre; opacity: 1;\" transform=\"translate(0,257.039375)\">0.4</text></g><g class=\"ycbb516b9tick\"><text text-anchor=\"start\" x=\"880.9\" y=\"4.199999999999999\" style=\"font-family: 'Open Sans', verdana, arial, sans-serif; font-size: 12px; fill: rgb(42, 63, 95); fill-opacity: 1; white-space: pre; opacity: 1;\" transform=\"translate(0,215.56937499999998)\">0.6</text></g><g class=\"ycbb516b9tick\"><text text-anchor=\"start\" x=\"880.9\" y=\"4.199999999999999\" style=\"font-family: 'Open Sans', verdana, arial, sans-serif; font-size: 12px; fill: rgb(42, 63, 95); fill-opacity: 1; white-space: pre; opacity: 1;\" transform=\"translate(0,174.089375)\">0.8</text></g><g class=\"ycbb516b9tick\"><text text-anchor=\"start\" x=\"880.9\" y=\"4.199999999999999\" style=\"font-family: 'Open Sans', verdana, arial, sans-serif; font-size: 12px; fill: rgb(42, 63, 95); fill-opacity: 1; white-space: pre; opacity: 1;\" transform=\"translate(0,132.609375)\">1</text></g></g><g class=\"cbtitleunshift\" transform=\"translate(-112,-100)\"><g class=\"cbtitle\" transform=\"\"><text class=\"ycbb516b9title\" x=\"960.44\" y=\"123.5\" text-anchor=\"start\" style=\"font-family: 'Open Sans', verdana, arial, sans-serif; font-size: 14px; fill: rgb(42, 63, 95); opacity: 1; font-weight: normal; white-space: pre;\">Pearson r</text></g></g><rect class=\"cboutline\" x=\"848\" y=\"32.609375\" width=\"30\" height=\"207.390625\" style=\"stroke: rgb(68, 68, 68); stroke-opacity: 1; fill: none; stroke-width: 0;\"/></g><g class=\"g-gtitle\"/><g class=\"g-xtitle\"><text class=\"xtitle\" x=\"230.73333333333335\" y=\"389.70625\" text-anchor=\"middle\" style=\"font-family: 'Open Sans', verdana, arial, sans-serif; font-size: 14px; fill: rgb(42, 63, 95); opacity: 1; font-weight: normal; white-space: pre;\">#compound-target pairs per accession</text></g><g class=\"g-x2title\"><text class=\"x2title\" x=\"523\" y=\"389.70625\" text-anchor=\"middle\" style=\"font-family: 'Open Sans', verdana, arial, sans-serif; font-size: 14px; fill: rgb(42, 63, 95); opacity: 1; font-weight: normal; white-space: pre;\">#compound-target pairs per accession</text></g><g class=\"g-x3title\"><text class=\"x3title\" x=\"815.2666666666667\" y=\"389.70625\" text-anchor=\"middle\" style=\"font-family: 'Open Sans', verdana, arial, sans-serif; font-size: 14px; fill: rgb(42, 63, 95); opacity: 1; font-weight: normal; white-space: pre;\">#compound-target pairs per accession</text></g><g class=\"g-ytitle\" transform=\"translate(1.7060546875,0)\"><text class=\"ytitle\" transform=\"rotate(-90,12.700000000000003,225)\" x=\"12.700000000000003\" y=\"225\" text-anchor=\"middle\" style=\"font-family: 'Open Sans', verdana, arial, sans-serif; font-size: 14px; fill: rgb(42, 63, 95); opacity: 1; font-weight: normal; white-space: pre;\">Minority class (WT/mutant) %</text></g><g class=\"g-y2title\"/><g class=\"g-y3title\"/><g class=\"annotation\" data-index=\"0\" style=\"opacity: 1;\"><g class=\"annotation-text-g\" transform=\"rotate(0,230.73333333333335,88.5)\"><g class=\"cursor-pointer\" transform=\"translate(159,77)\"><rect class=\"bg\" x=\"0.5\" y=\"0.5\" width=\"142\" height=\"22\" style=\"stroke-width: 1px; stroke: rgb(0, 0, 0); stroke-opacity: 0; fill: rgb(0, 0, 0); fill-opacity: 0;\"/><text class=\"annotation-text\" text-anchor=\"middle\" x=\"71.3125\" y=\"18\" style=\"font-family: 'Open Sans', verdana, arial, sans-serif; font-size: 16px; fill: rgb(42, 63, 95); fill-opacity: 1; white-space: pre;\">complete dataset</text></g></g></g><g class=\"annotation\" data-index=\"1\" style=\"opacity: 1;\"><g class=\"annotation-text-g\" transform=\"rotate(0,523,88.5)\"><g class=\"cursor-pointer\" transform=\"translate(479,77)\"><rect class=\"bg\" x=\"0.5\" y=\"0.5\" width=\"87\" height=\"22\" style=\"stroke-width: 1px; stroke: rgb(0, 0, 0); stroke-opacity: 0; fill: rgb(0, 0, 0); fill-opacity: 0;\"/><text class=\"annotation-text\" text-anchor=\"middle\" x=\"43.75\" y=\"18\" style=\"font-family: 'Open Sans', verdana, arial, sans-serif; font-size: 16px; fill: rgb(42, 63, 95); fill-opacity: 1; white-space: pre;\">no mutant</text></g></g></g><g class=\"annotation\" data-index=\"2\" style=\"opacity: 1;\"><g class=\"annotation-text-g\" transform=\"rotate(0,815.2666666666668,88.5)\"><g class=\"cursor-pointer\" transform=\"translate(750,77)\"><rect class=\"bg\" x=\"0.5\" y=\"0.5\" width=\"130\" height=\"22\" style=\"stroke-width: 1px; stroke: rgb(0, 0, 0); stroke-opacity: 0; fill: rgb(0, 0, 0); fill-opacity: 0;\"/><text class=\"annotation-text\" text-anchor=\"middle\" x=\"65.625\" y=\"18\" style=\"font-family: 'Open Sans', verdana, arial, sans-serif; font-size: 16px; fill: rgb(42, 63, 95); fill-opacity: 1; white-space: pre;\">common subset</text></g></g></g></g></svg>"
      ],
      "text/plain": [
       "<IPython.core.display.SVG object>"
      ]
     },
     "metadata": {},
     "output_type": "display_data"
    },
    {
     "data": {
      "image/svg+xml": [
       "<svg xmlns=\"http://www.w3.org/2000/svg\" xmlns:xlink=\"http://www.w3.org/1999/xlink\" class=\"main-svg\" width=\"1050\" height=\"430\" style=\"\" viewBox=\"0 0 1050 430\"><rect x=\"0\" y=\"0\" width=\"1050\" height=\"430\" style=\"fill: rgb(255, 255, 255); fill-opacity: 1;\"/><defs id=\"defs-c159e3\"><g class=\"clips\"><clipPath id=\"clipc159e3xyplot\" class=\"plotclip\"><rect width=\"237.4666666666667\" height=\"235\"/></clipPath><clipPath id=\"clipc159e3x2y2plot\" class=\"plotclip\"><rect width=\"237.4666666666667\" height=\"235\"/></clipPath><clipPath id=\"clipc159e3x3y3plot\" class=\"plotclip\"><rect width=\"237.46666666666664\" height=\"235\"/></clipPath><clipPath class=\"axesclip\" id=\"clipc159e3x\"><rect x=\"112\" y=\"0\" width=\"237.4666666666667\" height=\"430\"/></clipPath><clipPath class=\"axesclip\" id=\"clipc159e3y\"><rect x=\"0\" y=\"100\" width=\"1050\" height=\"235\"/></clipPath><clipPath class=\"axesclip\" id=\"clipc159e3xy\"><rect x=\"112\" y=\"100\" width=\"237.4666666666667\" height=\"235\"/></clipPath><clipPath class=\"axesclip\" id=\"clipc159e3y2\"><rect x=\"0\" y=\"100\" width=\"1050\" height=\"235\"/></clipPath><clipPath class=\"axesclip\" id=\"clipc159e3xy2\"><rect x=\"112\" y=\"100\" width=\"237.4666666666667\" height=\"235\"/></clipPath><clipPath class=\"axesclip\" id=\"clipc159e3y3\"><rect x=\"0\" y=\"100\" width=\"1050\" height=\"235\"/></clipPath><clipPath class=\"axesclip\" id=\"clipc159e3xy3\"><rect x=\"112\" y=\"100\" width=\"237.4666666666667\" height=\"235\"/></clipPath><clipPath class=\"axesclip\" id=\"clipc159e3x2\"><rect x=\"404.26666666666665\" y=\"0\" width=\"237.4666666666667\" height=\"430\"/></clipPath><clipPath class=\"axesclip\" id=\"clipc159e3x2y\"><rect x=\"404.26666666666665\" y=\"100\" width=\"237.4666666666667\" height=\"235\"/></clipPath><clipPath class=\"axesclip\" id=\"clipc159e3x2y2\"><rect x=\"404.26666666666665\" y=\"100\" width=\"237.4666666666667\" height=\"235\"/></clipPath><clipPath class=\"axesclip\" id=\"clipc159e3x2y3\"><rect x=\"404.26666666666665\" y=\"100\" width=\"237.4666666666667\" height=\"235\"/></clipPath><clipPath class=\"axesclip\" id=\"clipc159e3x3\"><rect x=\"696.5333333333333\" y=\"0\" width=\"237.46666666666664\" height=\"430\"/></clipPath><clipPath class=\"axesclip\" id=\"clipc159e3x3y\"><rect x=\"696.5333333333333\" y=\"100\" width=\"237.46666666666664\" height=\"235\"/></clipPath><clipPath class=\"axesclip\" id=\"clipc159e3x3y2\"><rect x=\"696.5333333333333\" y=\"100\" width=\"237.46666666666664\" height=\"235\"/></clipPath><clipPath class=\"axesclip\" id=\"clipc159e3x3y3\"><rect x=\"696.5333333333333\" y=\"100\" width=\"237.46666666666664\" height=\"235\"/></clipPath></g><g class=\"gradients\"><linearGradient x1=\"0\" x2=\"0\" y1=\"1\" y2=\"0\" id=\"gc159e3-cbf7decd\"><stop offset=\"0%\" stop-color=\"rgb(165, 0, 38)\" stop-opacity=\"1\"/><stop offset=\"10%\" stop-color=\"rgb(215, 48, 39)\" stop-opacity=\"1\"/><stop offset=\"20%\" stop-color=\"rgb(244, 109, 67)\" stop-opacity=\"1\"/><stop offset=\"30%\" stop-color=\"rgb(253, 174, 97)\" stop-opacity=\"1\"/><stop offset=\"40%\" stop-color=\"rgb(254, 224, 139)\" stop-opacity=\"1\"/><stop offset=\"50%\" stop-color=\"rgb(255, 255, 191)\" stop-opacity=\"1\"/><stop offset=\"60%\" stop-color=\"rgb(217, 239, 139)\" stop-opacity=\"1\"/><stop offset=\"70%\" stop-color=\"rgb(166, 217, 106)\" stop-opacity=\"1\"/><stop offset=\"80%\" stop-color=\"rgb(102, 189, 99)\" stop-opacity=\"1\"/><stop offset=\"90%\" stop-color=\"rgb(26, 152, 80)\" stop-opacity=\"1\"/><stop offset=\"100%\" stop-color=\"rgb(0, 104, 55)\" stop-opacity=\"1\"/></linearGradient></g><g class=\"patterns\"/></defs><g class=\"bglayer\"><rect class=\"bg\" x=\"112\" y=\"100\" width=\"237.4666666666667\" height=\"235\" style=\"fill: rgb(229, 236, 246); fill-opacity: 1; stroke-width: 0;\"/><rect class=\"bg\" x=\"404.26666666666665\" y=\"100\" width=\"237.4666666666667\" height=\"235\" style=\"fill: rgb(229, 236, 246); fill-opacity: 1; stroke-width: 0;\"/><rect class=\"bg\" x=\"696.5333333333333\" y=\"100\" width=\"237.46666666666664\" height=\"235\" style=\"fill: rgb(229, 236, 246); fill-opacity: 1; stroke-width: 0;\"/></g><g class=\"layer-below\"><g class=\"imagelayer\"/><g class=\"shapelayer\"/></g><g class=\"cartesianlayer\"><g class=\"subplot xy\"><g class=\"layer-subplot\"><g class=\"shapelayer\"/><g class=\"imagelayer\"/></g><g class=\"minor-gridlayer\"><g class=\"x\"/><g class=\"y\"/></g><g class=\"gridlayer\"><g class=\"x\"><path class=\"xgrid crisp\" transform=\"translate(151.57999999999998,0)\" d=\"M0,100v235\" style=\"stroke: rgb(255, 255, 255); stroke-opacity: 1; stroke-width: 1px;\"/><path class=\"xgrid crisp\" transform=\"translate(230.73000000000002,0)\" d=\"M0,100v235\" style=\"stroke: rgb(255, 255, 255); stroke-opacity: 1; stroke-width: 1px;\"/><path class=\"xgrid crisp\" transform=\"translate(309.89,0)\" d=\"M0,100v235\" style=\"stroke: rgb(255, 255, 255); stroke-opacity: 1; stroke-width: 1px;\"/></g><g class=\"y\"><path class=\"ygrid crisp\" transform=\"translate(0,295.83000000000004)\" d=\"M112,0h237.4666666666667\" style=\"stroke: rgb(255, 255, 255); stroke-opacity: 1; stroke-width: 1px;\"/><path class=\"ygrid crisp\" transform=\"translate(0,217.5)\" d=\"M112,0h237.4666666666667\" style=\"stroke: rgb(255, 255, 255); stroke-opacity: 1; stroke-width: 1px;\"/><path class=\"ygrid crisp\" transform=\"translate(0,139.17000000000002)\" d=\"M112,0h237.4666666666667\" style=\"stroke: rgb(255, 255, 255); stroke-opacity: 1; stroke-width: 1px;\"/></g></g><g class=\"zerolinelayer\"/><path class=\"xlines-below\"/><path class=\"ylines-below\"/><g class=\"overlines-below\"/><g class=\"xaxislayer-below\"/><g class=\"yaxislayer-below\"/><g class=\"overaxes-below\"/><g class=\"plot\" transform=\"translate(112,100)\" clip-path=\"url(#clipc159e3xyplot)\"><g class=\"heatmaplayer mlayer\"><g class=\"hm\"><image xmlns=\"http://www.w3.org/2000/svg\" preserveAspectRatio=\"none\" height=\"235\" width=\"237\" x=\"0\" y=\"0\" xlink:href=\"data:image/png;base64,iVBORw0KGgoAAAANSUhEUgAAAAMAAAADCAYAAABWKLW/AAAAMklEQVQYVwEnANj/AVGzXv/t9vsAHg8HAAHM6YP/rdziAN/x+wABhMpm/+n2/gAwFQUAlAcTvgAWYdoAAAAASUVORK5CYII=\" style=\"image-rendering: pixelated; opacity: 1;\"/><g class=\"heatmap-label\"><text text-anchor=\"middle\" data-notex=\"1\" x=\"40\" y=\"200.2\" style=\"font-family: 'Open Sans', verdana, arial, sans-serif; font-size: 12px; fill: rgb(68, 68, 68); fill-opacity: 1; white-space: pre;\">0.754</text></g><g class=\"heatmap-label\"><text text-anchor=\"middle\" data-notex=\"1\" x=\"119\" y=\"200.2\" style=\"font-family: 'Open Sans', verdana, arial, sans-serif; font-size: 12px; fill: rgb(68, 68, 68); fill-opacity: 1; white-space: pre;\">0.789</text></g><g class=\"heatmap-label\"><text text-anchor=\"middle\" data-notex=\"1\" x=\"198\" y=\"200.2\" style=\"font-family: 'Open Sans', verdana, arial, sans-serif; font-size: 12px; fill: rgb(68, 68, 68); fill-opacity: 1; white-space: pre;\">0.715</text></g><g class=\"heatmap-label\"><text text-anchor=\"middle\" data-notex=\"1\" x=\"40\" y=\"122.2\" style=\"font-family: 'Open Sans', verdana, arial, sans-serif; font-size: 12px; fill: rgb(68, 68, 68); fill-opacity: 1; white-space: pre;\">0.625</text></g><g class=\"heatmap-label\"><text text-anchor=\"middle\" data-notex=\"1\" x=\"119\" y=\"122.2\" style=\"font-family: 'Open Sans', verdana, arial, sans-serif; font-size: 12px; fill: rgb(68, 68, 68); fill-opacity: 1; white-space: pre;\">0.770</text></g><g class=\"heatmap-label\"><text text-anchor=\"middle\" data-notex=\"1\" x=\"198\" y=\"122.2\" style=\"font-family: 'Open Sans', verdana, arial, sans-serif; font-size: 12px; fill: rgb(68, 68, 68); fill-opacity: 1; white-space: pre;\">0.818</text></g><g class=\"heatmap-label\"><text text-anchor=\"middle\" data-notex=\"1\" x=\"40\" y=\"43.2\" style=\"font-family: 'Open Sans', verdana, arial, sans-serif; font-size: 12px; fill: rgb(68, 68, 68); fill-opacity: 1; white-space: pre;\">0.827</text></g><g class=\"heatmap-label\"><text text-anchor=\"middle\" data-notex=\"1\" x=\"119\" y=\"43.2\" style=\"font-family: 'Open Sans', verdana, arial, sans-serif; font-size: 12px; fill: rgb(255, 255, 255); fill-opacity: 1; white-space: pre;\">0.853</text></g><g class=\"heatmap-label\"><text text-anchor=\"middle\" data-notex=\"1\" x=\"198\" y=\"43.2\" style=\"font-family: 'Open Sans', verdana, arial, sans-serif; font-size: 12px; fill: rgb(68, 68, 68); fill-opacity: 1; white-space: pre;\">0.813</text></g></g></g></g><g class=\"overplot\"/><path class=\"xlines-above crisp\" style=\"fill: none;\" d=\"M0,0\"/><path class=\"ylines-above crisp\" style=\"fill: none;\" d=\"M0,0\"/><g class=\"overlines-above\"/><g class=\"xaxislayer-above\"><g class=\"xtick\"><text text-anchor=\"start\" x=\"0\" y=\"348\" transform=\"translate(151.57999999999998,0) rotate(30,0,342)\" style=\"font-family: 'Open Sans', verdana, arial, sans-serif; font-size: 12px; fill: rgb(42, 63, 95); fill-opacity: 1; white-space: pre; opacity: 1;\">[694, 1408]</text></g><g class=\"xtick\"><text text-anchor=\"start\" x=\"0\" y=\"348\" transform=\"translate(230.73000000000002,0) rotate(30,0,342)\" style=\"font-family: 'Open Sans', verdana, arial, sans-serif; font-size: 12px; fill: rgb(42, 63, 95); fill-opacity: 1; white-space: pre; opacity: 1;\">(1408, 3467]</text></g><g class=\"xtick\"><text text-anchor=\"start\" x=\"0\" y=\"348\" transform=\"translate(309.89,0) rotate(30,0,342)\" style=\"font-family: 'Open Sans', verdana, arial, sans-serif; font-size: 12px; fill: rgb(42, 63, 95); fill-opacity: 1; white-space: pre; opacity: 1;\">(3467, 20056]</text></g></g><g class=\"yaxislayer-above\"><g class=\"ytick\"><text text-anchor=\"end\" x=\"111\" y=\"4.199999999999999\" transform=\"translate(0,295.83000000000004)\" style=\"font-family: 'Open Sans', verdana, arial, sans-serif; font-size: 12px; fill: rgb(42, 63, 95); fill-opacity: 1; white-space: pre; opacity: 1;\">[-0, 15]</text></g><g class=\"ytick\"><text text-anchor=\"end\" x=\"111\" y=\"4.199999999999999\" transform=\"translate(0,217.5)\" style=\"font-family: 'Open Sans', verdana, arial, sans-serif; font-size: 12px; fill: rgb(42, 63, 95); fill-opacity: 1; white-space: pre; opacity: 1;\">(15.0, 30.0]</text></g><g class=\"ytick\"><text text-anchor=\"end\" x=\"111\" y=\"4.199999999999999\" transform=\"translate(0,139.17000000000002)\" style=\"font-family: 'Open Sans', verdana, arial, sans-serif; font-size: 12px; fill: rgb(42, 63, 95); fill-opacity: 1; white-space: pre; opacity: 1;\">(30.0, 50.0]</text></g></g><g class=\"overaxes-above\"/></g><g class=\"subplot x2y2\"><g class=\"layer-subplot\"><g class=\"shapelayer\"/><g class=\"imagelayer\"/></g><g class=\"minor-gridlayer\"><g class=\"x2\"/><g class=\"y2\"/></g><g class=\"gridlayer\"><g class=\"x2\"><path class=\"x2grid crisp\" transform=\"translate(443.84666666666664,0)\" d=\"M0,100v235\" style=\"stroke: rgb(255, 255, 255); stroke-opacity: 1; stroke-width: 1px;\"/><path class=\"x2grid crisp\" transform=\"translate(522.9966666666667,0)\" d=\"M0,100v235\" style=\"stroke: rgb(255, 255, 255); stroke-opacity: 1; stroke-width: 1px;\"/><path class=\"x2grid crisp\" transform=\"translate(602.1566666666666,0)\" d=\"M0,100v235\" style=\"stroke: rgb(255, 255, 255); stroke-opacity: 1; stroke-width: 1px;\"/></g><g class=\"y2\"><path class=\"y2grid crisp\" transform=\"translate(0,295.83000000000004)\" d=\"M404.26666666666665,0h237.4666666666667\" style=\"stroke: rgb(255, 255, 255); stroke-opacity: 1; stroke-width: 1px;\"/><path class=\"y2grid crisp\" transform=\"translate(0,217.5)\" d=\"M404.26666666666665,0h237.4666666666667\" style=\"stroke: rgb(255, 255, 255); stroke-opacity: 1; stroke-width: 1px;\"/><path class=\"y2grid crisp\" transform=\"translate(0,139.17000000000002)\" d=\"M404.26666666666665,0h237.4666666666667\" style=\"stroke: rgb(255, 255, 255); stroke-opacity: 1; stroke-width: 1px;\"/></g></g><g class=\"zerolinelayer\"/><path class=\"xlines-below\"/><path class=\"ylines-below\"/><g class=\"overlines-below\"/><g class=\"xaxislayer-below\"/><g class=\"yaxislayer-below\"/><g class=\"overaxes-below\"/><g class=\"plot\" transform=\"translate(404.26666666666665,100)\" clip-path=\"url(#clipc159e3x2y2plot)\"><g class=\"heatmaplayer mlayer\"><g class=\"hm\"><image xmlns=\"http://www.w3.org/2000/svg\" preserveAspectRatio=\"none\" height=\"235\" width=\"237\" x=\"0\" y=\"0\" xlink:href=\"data:image/png;base64,iVBORw0KGgoAAAANSUhEUgAAAAMAAAADCAYAAABWKLW/AAAAMklEQVQYVwEnANj/AU2xXf82GQkA1u36AAFzw2T/DgYCAMXl9QABgslm/+z3/gAuFQUASPMQml3ueQ4AAAAASUVORK5CYII=\" style=\"image-rendering: pixelated; opacity: 1;\"/><g class=\"heatmap-label\"><text text-anchor=\"middle\" data-notex=\"1\" x=\"40\" y=\"200.2\" style=\"font-family: 'Open Sans', verdana, arial, sans-serif; font-size: 12px; fill: rgb(68, 68, 68); fill-opacity: 1; white-space: pre;\">0.757</text></g><g class=\"heatmap-label\"><text text-anchor=\"middle\" data-notex=\"1\" x=\"119\" y=\"200.2\" style=\"font-family: 'Open Sans', verdana, arial, sans-serif; font-size: 12px; fill: rgb(68, 68, 68); fill-opacity: 1; white-space: pre;\">0.788</text></g><g class=\"heatmap-label\"><text text-anchor=\"middle\" data-notex=\"1\" x=\"198\" y=\"200.2\" style=\"font-family: 'Open Sans', verdana, arial, sans-serif; font-size: 12px; fill: rgb(68, 68, 68); fill-opacity: 1; white-space: pre;\">0.715</text></g><g class=\"heatmap-label\"><text text-anchor=\"middle\" data-notex=\"1\" x=\"40\" y=\"122.2\" style=\"font-family: 'Open Sans', verdana, arial, sans-serif; font-size: 12px; fill: rgb(68, 68, 68); fill-opacity: 1; white-space: pre;\">0.779</text></g><g class=\"heatmap-label\"><text text-anchor=\"middle\" data-notex=\"1\" x=\"119\" y=\"122.2\" style=\"font-family: 'Open Sans', verdana, arial, sans-serif; font-size: 12px; fill: rgb(68, 68, 68); fill-opacity: 1; white-space: pre;\">0.758</text></g><g class=\"heatmap-label\"><text text-anchor=\"middle\" data-notex=\"1\" x=\"198\" y=\"122.2\" style=\"font-family: 'Open Sans', verdana, arial, sans-serif; font-size: 12px; fill: rgb(68, 68, 68); fill-opacity: 1; white-space: pre;\">0.841</text></g><g class=\"heatmap-label\"><text text-anchor=\"middle\" data-notex=\"1\" x=\"40\" y=\"43.2\" style=\"font-family: 'Open Sans', verdana, arial, sans-serif; font-size: 12px; fill: rgb(68, 68, 68); fill-opacity: 1; white-space: pre;\">0.833</text></g><g class=\"heatmap-label\"><text text-anchor=\"middle\" data-notex=\"1\" x=\"119\" y=\"43.2\" style=\"font-family: 'Open Sans', verdana, arial, sans-serif; font-size: 12px; fill: rgb(68, 68, 68); fill-opacity: 1; white-space: pre;\">0.754</text></g><g class=\"heatmap-label\"><text text-anchor=\"middle\" data-notex=\"1\" x=\"198\" y=\"43.2\" style=\"font-family: 'Open Sans', verdana, arial, sans-serif; font-size: 12px; fill: rgb(68, 68, 68); fill-opacity: 1; white-space: pre;\">0.817</text></g></g></g></g><g class=\"overplot\"/><path class=\"xlines-above crisp\" style=\"fill: none;\" d=\"M0,0\"/><path class=\"ylines-above crisp\" style=\"fill: none;\" d=\"M0,0\"/><g class=\"overlines-above\"/><g class=\"xaxislayer-above\"><g class=\"x2tick\"><text text-anchor=\"start\" x=\"0\" y=\"348\" transform=\"translate(443.84666666666664,0) rotate(30,0,342)\" style=\"font-family: 'Open Sans', verdana, arial, sans-serif; font-size: 12px; fill: rgb(42, 63, 95); fill-opacity: 1; white-space: pre; opacity: 1;\">[694, 1408]</text></g><g class=\"x2tick\"><text text-anchor=\"start\" x=\"0\" y=\"348\" transform=\"translate(522.9966666666667,0) rotate(30,0,342)\" style=\"font-family: 'Open Sans', verdana, arial, sans-serif; font-size: 12px; fill: rgb(42, 63, 95); fill-opacity: 1; white-space: pre; opacity: 1;\">(1408, 3467]</text></g><g class=\"x2tick\"><text text-anchor=\"start\" x=\"0\" y=\"348\" transform=\"translate(602.1566666666666,0) rotate(30,0,342)\" style=\"font-family: 'Open Sans', verdana, arial, sans-serif; font-size: 12px; fill: rgb(42, 63, 95); fill-opacity: 1; white-space: pre; opacity: 1;\">(3467, 20056]</text></g></g><g class=\"yaxislayer-above\"/><g class=\"overaxes-above\"/></g><g class=\"subplot x3y3\"><g class=\"layer-subplot\"><g class=\"shapelayer\"/><g class=\"imagelayer\"/></g><g class=\"minor-gridlayer\"><g class=\"x3\"/><g class=\"y3\"/></g><g class=\"gridlayer\"><g class=\"x3\"><path class=\"x3grid crisp\" transform=\"translate(736.1133333333333,0)\" d=\"M0,100v235\" style=\"stroke: rgb(255, 255, 255); stroke-opacity: 1; stroke-width: 1px;\"/><path class=\"x3grid crisp\" transform=\"translate(815.2633333333333,0)\" d=\"M0,100v235\" style=\"stroke: rgb(255, 255, 255); stroke-opacity: 1; stroke-width: 1px;\"/><path class=\"x3grid crisp\" transform=\"translate(894.4233333333333,0)\" d=\"M0,100v235\" style=\"stroke: rgb(255, 255, 255); stroke-opacity: 1; stroke-width: 1px;\"/></g><g class=\"y3\"><path class=\"y3grid crisp\" transform=\"translate(0,295.83000000000004)\" d=\"M696.5333333333333,0h237.46666666666664\" style=\"stroke: rgb(255, 255, 255); stroke-opacity: 1; stroke-width: 1px;\"/><path class=\"y3grid crisp\" transform=\"translate(0,217.5)\" d=\"M696.5333333333333,0h237.46666666666664\" style=\"stroke: rgb(255, 255, 255); stroke-opacity: 1; stroke-width: 1px;\"/><path class=\"y3grid crisp\" transform=\"translate(0,139.17000000000002)\" d=\"M696.5333333333333,0h237.46666666666664\" style=\"stroke: rgb(255, 255, 255); stroke-opacity: 1; stroke-width: 1px;\"/></g></g><g class=\"zerolinelayer\"/><path class=\"xlines-below\"/><path class=\"ylines-below\"/><g class=\"overlines-below\"/><g class=\"xaxislayer-below\"/><g class=\"yaxislayer-below\"/><g class=\"overaxes-below\"/><g class=\"plot\" transform=\"translate(696.5333333333333,100)\" clip-path=\"url(#clipc159e3x3y3plot)\"><g class=\"heatmaplayer mlayer\"><g class=\"hm\"><image xmlns=\"http://www.w3.org/2000/svg\" preserveAspectRatio=\"none\" height=\"235\" width=\"237\" x=\"0\" y=\"0\" xlink:href=\"data:image/png;base64,iVBORw0KGgoAAAANSUhEUgAAAAMAAAADCAYAAABWKLW/AAAAMklEQVQYVwEnANj/Afr9uP/l9NsAmtXSAAHp9qL/pdnFAG0uUwAB2/CN/wMBBQCMztEA2TYU47rd930AAAAASUVORK5CYII=\" style=\"image-rendering: pixelated; opacity: 1;\"/><g class=\"heatmap-label\"><text text-anchor=\"middle\" data-notex=\"1\" x=\"40\" y=\"200.2\" style=\"font-family: 'Open Sans', verdana, arial, sans-serif; font-size: 12px; fill: rgb(68, 68, 68); fill-opacity: 1; white-space: pre;\">0.595</text></g><g class=\"heatmap-label\"><text text-anchor=\"middle\" data-notex=\"1\" x=\"119\" y=\"200.2\" style=\"font-family: 'Open Sans', verdana, arial, sans-serif; font-size: 12px; fill: rgb(68, 68, 68); fill-opacity: 1; white-space: pre;\">0.587</text></g><g class=\"heatmap-label\"><text text-anchor=\"middle\" data-notex=\"1\" x=\"198\" y=\"200.2\" style=\"font-family: 'Open Sans', verdana, arial, sans-serif; font-size: 12px; fill: rgb(68, 68, 68); fill-opacity: 1; white-space: pre;\">0.793</text></g><g class=\"heatmap-label\"><text text-anchor=\"middle\" data-notex=\"1\" x=\"40\" y=\"122.2\" style=\"font-family: 'Open Sans', verdana, arial, sans-serif; font-size: 12px; fill: rgb(68, 68, 68); fill-opacity: 1; white-space: pre;\">0.557</text></g><g class=\"heatmap-label\"><text text-anchor=\"middle\" data-notex=\"1\" x=\"119\" y=\"122.2\" style=\"font-family: 'Open Sans', verdana, arial, sans-serif; font-size: 12px; fill: rgb(68, 68, 68); fill-opacity: 1; white-space: pre;\">0.737</text></g><g class=\"heatmap-label\"><text text-anchor=\"middle\" data-notex=\"1\" x=\"198\" y=\"122.2\" style=\"font-family: 'Open Sans', verdana, arial, sans-serif; font-size: 12px; fill: rgb(68, 68, 68); fill-opacity: 1; white-space: pre;\">0.510</text></g><g class=\"heatmap-label\"><text text-anchor=\"middle\" data-notex=\"1\" x=\"40\" y=\"43.2\" style=\"font-family: 'Open Sans', verdana, arial, sans-serif; font-size: 12px; fill: rgb(68, 68, 68); fill-opacity: 1; white-space: pre;\">0.514</text></g><g class=\"heatmap-label\"><text text-anchor=\"middle\" data-notex=\"1\" x=\"119\" y=\"43.2\" style=\"font-family: 'Open Sans', verdana, arial, sans-serif; font-size: 12px; fill: rgb(68, 68, 68); fill-opacity: 1; white-space: pre;\">0.585</text></g><g class=\"heatmap-label\"><text text-anchor=\"middle\" data-notex=\"1\" x=\"198\" y=\"43.2\" style=\"font-family: 'Open Sans', verdana, arial, sans-serif; font-size: 12px; fill: rgb(68, 68, 68); fill-opacity: 1; white-space: pre;\">0.770</text></g></g></g></g><g class=\"overplot\"/><path class=\"xlines-above crisp\" style=\"fill: none;\" d=\"M0,0\"/><path class=\"ylines-above crisp\" style=\"fill: none;\" d=\"M0,0\"/><g class=\"overlines-above\"/><g class=\"xaxislayer-above\"><g class=\"x3tick\"><text text-anchor=\"middle\" x=\"0\" y=\"348\" transform=\"translate(736.1133333333333,0)\" style=\"font-family: 'Open Sans', verdana, arial, sans-serif; font-size: 12px; fill: rgb(42, 63, 95); fill-opacity: 1; white-space: pre; opacity: 1;\">[33, 54]</text></g><g class=\"x3tick\"><text text-anchor=\"middle\" x=\"0\" y=\"348\" transform=\"translate(815.2633333333333,0)\" style=\"font-family: 'Open Sans', verdana, arial, sans-serif; font-size: 12px; fill: rgb(42, 63, 95); fill-opacity: 1; white-space: pre; opacity: 1;\">(54, 120]</text></g><g class=\"x3tick\"><text text-anchor=\"middle\" x=\"0\" y=\"348\" transform=\"translate(894.4233333333333,0)\" style=\"font-family: 'Open Sans', verdana, arial, sans-serif; font-size: 12px; fill: rgb(42, 63, 95); fill-opacity: 1; white-space: pre; opacity: 1;\">(120, 20056]</text></g></g><g class=\"yaxislayer-above\"/><g class=\"overaxes-above\"/></g></g><g class=\"polarlayer\"/><g class=\"smithlayer\"/><g class=\"ternarylayer\"/><g class=\"geolayer\"/><g class=\"funnelarealayer\"/><g class=\"pielayer\"/><g class=\"iciclelayer\"/><g class=\"treemaplayer\"/><g class=\"sunburstlayer\"/><g class=\"glimages\"/><defs id=\"topdefs-c159e3\"><g class=\"clips\"/></defs><g class=\"layer-above\"><g class=\"imagelayer\"/><g class=\"shapelayer\"/></g><g class=\"infolayer\"><g class=\"cbf7decd colorbar\" transform=\"translate(112,100)\"><rect class=\"cbbg\" x=\"838\" y=\"0\" width=\"88.046875\" height=\"235\" style=\"fill: rgb(0, 0, 0); fill-opacity: 0; stroke: rgb(68, 68, 68); stroke-opacity: 1; stroke-width: 0;\"/><g class=\"cbfills\" transform=\"translate(0,33)\"><rect class=\"cbfill gradient_filled\" style=\"fill: url('#gc159e3-cbf7decd');\" x=\"848\" y=\"0\" width=\"30\" height=\"192\"/></g><g class=\"cblines\" transform=\"translate(0,33)\"/><g class=\"cbaxis crisp\" transform=\"translate(0,-100)\"><g class=\"ycbf7decdtick\"><text text-anchor=\"start\" x=\"880.9\" y=\"4.199999999999999\" transform=\"translate(0,324.999375)\" style=\"font-family: 'Open Sans', verdana, arial, sans-serif; font-size: 12px; fill: rgb(42, 63, 95); fill-opacity: 1; white-space: pre; opacity: 1;\">0</text></g><g class=\"ycbf7decdtick\"><text text-anchor=\"start\" x=\"880.9\" y=\"4.199999999999999\" style=\"font-family: 'Open Sans', verdana, arial, sans-serif; font-size: 12px; fill: rgb(42, 63, 95); fill-opacity: 1; white-space: pre; opacity: 1;\" transform=\"translate(0,286.51937499999997)\">0.2</text></g><g class=\"ycbf7decdtick\"><text text-anchor=\"start\" x=\"880.9\" y=\"4.199999999999999\" style=\"font-family: 'Open Sans', verdana, arial, sans-serif; font-size: 12px; fill: rgb(42, 63, 95); fill-opacity: 1; white-space: pre; opacity: 1;\" transform=\"translate(0,248.03937499999998)\">0.4</text></g><g class=\"ycbf7decdtick\"><text text-anchor=\"start\" x=\"880.9\" y=\"4.199999999999999\" style=\"font-family: 'Open Sans', verdana, arial, sans-serif; font-size: 12px; fill: rgb(42, 63, 95); fill-opacity: 1; white-space: pre; opacity: 1;\" transform=\"translate(0,209.56937499999998)\">0.6</text></g><g class=\"ycbf7decdtick\"><text text-anchor=\"start\" x=\"880.9\" y=\"4.199999999999999\" style=\"font-family: 'Open Sans', verdana, arial, sans-serif; font-size: 12px; fill: rgb(42, 63, 95); fill-opacity: 1; white-space: pre; opacity: 1;\" transform=\"translate(0,171.08937499999996)\">0.8</text></g><g class=\"ycbf7decdtick\"><text text-anchor=\"start\" x=\"880.9\" y=\"4.199999999999999\" style=\"font-family: 'Open Sans', verdana, arial, sans-serif; font-size: 12px; fill: rgb(42, 63, 95); fill-opacity: 1; white-space: pre; opacity: 1;\" transform=\"translate(0,132.60937499999997)\">1</text></g></g><g class=\"cbtitleunshift\" transform=\"translate(-112,-100)\"><g class=\"cbtitle\" transform=\"\"><text class=\"ycbf7decdtitle\" x=\"960.44\" y=\"123.5\" text-anchor=\"start\" style=\"font-family: 'Open Sans', verdana, arial, sans-serif; font-size: 14px; fill: rgb(42, 63, 95); opacity: 1; font-weight: normal; white-space: pre;\">Pearson r</text></g></g><rect class=\"cboutline\" x=\"848\" y=\"32.609375\" width=\"30\" height=\"192.390625\" style=\"stroke: rgb(68, 68, 68); stroke-opacity: 1; fill: none; stroke-width: 0;\"/></g><g class=\"g-gtitle\"/><g class=\"g-xtitle\"><text class=\"xtitle\" x=\"230.73333333333335\" y=\"417.65761642456056\" text-anchor=\"middle\" style=\"font-family: 'Open Sans', verdana, arial, sans-serif; font-size: 14px; fill: rgb(42, 63, 95); opacity: 1; font-weight: normal; white-space: pre;\">#compound-target pairs per accession</text></g><g class=\"g-x2title\"><text class=\"x2title\" x=\"523\" y=\"417.65761642456056\" text-anchor=\"middle\" style=\"font-family: 'Open Sans', verdana, arial, sans-serif; font-size: 14px; fill: rgb(42, 63, 95); opacity: 1; font-weight: normal; white-space: pre;\">#compound-target pairs per accession</text></g><g class=\"g-x3title\"><text class=\"x3title\" x=\"815.2666666666667\" y=\"374.70625\" text-anchor=\"middle\" style=\"font-family: 'Open Sans', verdana, arial, sans-serif; font-size: 14px; fill: rgb(42, 63, 95); opacity: 1; font-weight: normal; white-space: pre;\">#compound-target pairs per accession</text></g><g class=\"g-ytitle\" transform=\"translate(1.7060546875,0)\"><text class=\"ytitle\" transform=\"rotate(-90,12.700000000000003,217.5)\" x=\"12.700000000000003\" y=\"217.5\" text-anchor=\"middle\" style=\"font-family: 'Open Sans', verdana, arial, sans-serif; font-size: 14px; fill: rgb(42, 63, 95); opacity: 1; font-weight: normal; white-space: pre;\">Minority class (WT/mutant) %</text></g><g class=\"g-y2title\"/><g class=\"g-y3title\"/><g class=\"annotation\" data-index=\"0\" style=\"opacity: 1;\"><g class=\"annotation-text-g\" transform=\"rotate(0,230.73333333333335,88.5)\"><g class=\"cursor-pointer\" transform=\"translate(159,77)\"><rect class=\"bg\" x=\"0.5\" y=\"0.5\" width=\"142\" height=\"22\" style=\"stroke-width: 1px; stroke: rgb(0, 0, 0); stroke-opacity: 0; fill: rgb(0, 0, 0); fill-opacity: 0;\"/><text class=\"annotation-text\" text-anchor=\"middle\" x=\"71.3125\" y=\"18\" style=\"font-family: 'Open Sans', verdana, arial, sans-serif; font-size: 16px; fill: rgb(42, 63, 95); fill-opacity: 1; white-space: pre;\">complete dataset</text></g></g></g><g class=\"annotation\" data-index=\"1\" style=\"opacity: 1;\"><g class=\"annotation-text-g\" transform=\"rotate(0,523,88.5)\"><g class=\"cursor-pointer\" transform=\"translate(479,77)\"><rect class=\"bg\" x=\"0.5\" y=\"0.5\" width=\"87\" height=\"22\" style=\"stroke-width: 1px; stroke: rgb(0, 0, 0); stroke-opacity: 0; fill: rgb(0, 0, 0); fill-opacity: 0;\"/><text class=\"annotation-text\" text-anchor=\"middle\" x=\"43.75\" y=\"18\" style=\"font-family: 'Open Sans', verdana, arial, sans-serif; font-size: 16px; fill: rgb(42, 63, 95); fill-opacity: 1; white-space: pre;\">no mutant</text></g></g></g><g class=\"annotation\" data-index=\"2\" style=\"opacity: 1;\"><g class=\"annotation-text-g\" transform=\"rotate(0,815.2666666666668,88.5)\"><g class=\"cursor-pointer\" transform=\"translate(750,77)\"><rect class=\"bg\" x=\"0.5\" y=\"0.5\" width=\"130\" height=\"22\" style=\"stroke-width: 1px; stroke: rgb(0, 0, 0); stroke-opacity: 0; fill: rgb(0, 0, 0); fill-opacity: 0;\"/><text class=\"annotation-text\" text-anchor=\"middle\" x=\"65.625\" y=\"18\" style=\"font-family: 'Open Sans', verdana, arial, sans-serif; font-size: 16px; fill: rgb(42, 63, 95); fill-opacity: 1; white-space: pre;\">common subset</text></g></g></g></g></svg>"
      ],
      "text/plain": [
       "<IPython.core.display.SVG object>"
      ]
     },
     "metadata": {},
     "output_type": "display_data"
    }
   ],
   "source": [
    "if USE_PERCENTILE:\n",
    "    #Nums  = [0, 33.34%], (33.34%, 66.67%], (66.67%, 100.0%]\n",
    "    #Ratios= [0, 16.67%], (16,67%, 33.34%], (33.34%, 50.0%]\n",
    "    update_avg_bar_chart((0, num_33_percentile, num_66_percentile, 20056), (0, 15, 30, 50),\n",
    "                         (0, num_33_percentile_common, num_66_percentile_common, 20056), (0, 15, 30, 50)\n",
    "                 ).write_image(os.path.join(modelling_data_dir, 'heatmaps/bin_avg_heatmapspercentiles.svg'), engine='orca')\n",
    "    #Nums  = [0, 11.12%], (11.12%, 22.23%], (22.23%, 33.34%]\n",
    "    #Ratios= [0, 16.67%], (16,67%, 33.34%], (33.34%, 50.0%]\n",
    "    update_avg_bar_chart((0, num_11_percentile, num_22_percentile, num_33_percentile), (0, 15, 30, 50),\n",
    "                         (0, num_11_percentile_common, num_22_percentile_common, num_33_percentile_common), (0, 15, 30, 50)\n",
    "                     ).write_image(os.path.join(modelling_data_dir, 'heatmaps/bin_avg_heatmapspercentiles_0-33-zoomin.svg'), engine='orca')\n",
    "    #Nums  = [33.34, 44.45%], (44.45%, 55.56%], (55.56%, 66.67%]\n",
    "    #Ratios= [0, 16.67%],     (16,67%, 33.34%], (33.34%, 50.0%]\n",
    "    update_avg_bar_chart((num_33_percentile, num_44_percentile, num_55_percentile, num_66_percentile), (0, 15, 30, 50),\n",
    "                         (num_33_percentile_common, num_44_percentile_common, num_55_percentile_common, num_66_percentile_common), (0, 15, 30, 50)\n",
    "                     ).write_image(os.path.join(modelling_data_dir, 'heatmaps/bin_avg_heatmapspercentiles_33-66-zoomin.svg'), engine='orca') \n",
    "    #Nums  = [66.67, 77.78%], (77.78%, 88.89%], (88.89%, 100.0%]\n",
    "    #Ratios= [0, 16.67%], (16,67%, 33.34%], (33.34%, 50.0%]\n",
    "    update_avg_bar_chart((num_66_percentile, num_77_percentile, num_88_percentile, subplot1_data.num_datapoints_total.max()), (0, 15, 30, 50),\n",
    "                         (num_66_percentile_common, num_77_percentile_common, num_88_percentile_common, subplot1_data.num_datapoints_total.max()), (0, 15, 30, 50)\n",
    "                     ).write_image(os.path.join(modelling_data_dir, 'heatmaps/bin_avg_heatmapspercentiles_66-100-zoomin.svg'), engine='orca')\n",
    "    display(SVG(data=os.path.join(modelling_data_dir, 'heatmaps/bin_avg_heatmapspercentiles.svg')))\n",
    "    display(SVG(data=os.path.join(modelling_data_dir, 'heatmaps/bin_avg_heatmapspercentiles_0-33-zoomin.svg')))\n",
    "    display(SVG(data=os.path.join(modelling_data_dir, 'heatmaps/bin_avg_heatmapspercentiles_33-66-zoomin.svg')))\n",
    "    display(SVG(data=os.path.join(modelling_data_dir, 'heatmaps/bin_avg_heatmapspercentiles_66-100-zoomin.svg')))\n",
    "else:\n",
    "    #Nums  = [0, 1_000],  (1_000, 10_000],  (10_000, 75_211]\n",
    "    #Ratios= [0, 16.67%], (16,67%, 33.34%], (33.34%, 50.0%]\n",
    "    update_avg_bar_chart((0, 1_000, 10_000, 20056), (0, 15, 30, 50), (0, 100, 500, 2854), (0, 15, 30, 50),\n",
    "                     ).write_image(os.path.join(modelling_data_dir, 'heatmaps/bin_avg_heatmapsnum-0-20k.svg'), engine='orca')\n",
    "    #Nums  = [0, 100],    (100, 500],       (500, 1_000]\n",
    "    #Ratios= [0, 16.67%], (16,67%, 33.34%], (33.34%, 50.0%]\n",
    "    update_avg_bar_chart((0, 100, 500, 1000), (0, 15, 30, 50), (0, 100, 500, 2854), (0, 15, 30, 50),\n",
    "                     ).write_image(os.path.join(modelling_data_dir, 'heatmaps/bin_avg_heatmapsnum-0k-1k-zoomin.svg'), engine='orca')\n",
    "    #Nums  = [1_000, 2_000],  (2_000, 5_000],  (5_000, 10_000]\n",
    "    #Ratios= [0, 16.67%], (16,67%, 33.34%], (33.34%, 50.0%]\n",
    "    update_avg_bar_chart((1_000, 2_000, 5_000, 10_000), (0, 15, 30, 50), (0, 100, 500, 2854), (0, 15, 30, 50),\n",
    "                     ).write_image(os.path.join(modelling_data_dir, 'heatmaps/bin_avg_heatmapsnum-1k-10k-zoomin.svg'), engine='orca')\n",
    "    #Nums  = [10_000, 15_000],  (15_000, 50_000],  (50_000, 75_211]\n",
    "    #Ratios= [0, 16.67%],       (16,67%, 33.34%],  (33.34%, 50.0%]\n",
    "    update_avg_bar_chart((10_000, 14000, 18000, 20056), (0, 15, 30, 50), (0, 100, 500, 2854), (0, 15, 30, 50),\n",
    "                     ).write_image(os.path.join(modelling_data_dir, 'heatmaps/bin_avg_heatmapsnum-10k-20k-zoomin.svg'), engine='orca')\n",
    "    display(SVG(data=os.path.join(modelling_data_dir, 'heatmaps/bin_avg_heatmapsnum-0-20k.svg')))\n",
    "    display(SVG(data=os.path.join(modelling_data_dir, 'heatmaps/bin_avg_heatmapsnum-0k-1k-zoomin.svg')))\n",
    "    display(SVG(data=os.path.join(modelling_data_dir, 'heatmaps/bin_avg_heatmapsnum-1k-10k-zoomin.svg')))\n",
    "    display(SVG(data=os.path.join(modelling_data_dir, 'heatmaps/bin_avg_heatmapsnum-10k-20k-zoomin.svg')))"
   ]
  },
  {
   "cell_type": "markdown",
   "id": "a0e98292414ab5a",
   "metadata": {},
   "source": [
    "R² for #compound target pairs < 1000"
   ]
  },
  {
   "cell_type": "code",
   "execution_count": 19,
   "id": "894f60c5ab4a2c1c",
   "metadata": {
    "ExecuteTime": {
     "end_time": "2023-09-13T09:29:00.247168100Z",
     "start_time": "2023-09-13T09:29:00.065169900Z"
    }
   },
   "outputs": [
    {
     "data": {
      "text/plain": [
       "0.5274634684093057"
      ]
     },
     "execution_count": 19,
     "metadata": {},
     "output_type": "execute_result"
    }
   ],
   "source": [
    "(data[(data.crossval == 'random') & (data.folds == 'Mean') & ~((data.subset == 'common') & ~data.contains_mutants)]\n",
    "                 .drop(columns=[col for col in data.columns if  col not in ['Pearson r', 'modeltype', 'accession']]).merge(data_counts, on='accession')\n",
    "                 .drop(columns=['accession'])).query('num_datapoints_total < 1000')['Pearson r'].mean()"
   ]
  },
  {
   "cell_type": "code",
   "execution_count": 20,
   "id": "6aa4192ab5217fc6",
   "metadata": {
    "ExecuteTime": {
     "end_time": "2023-09-13T09:29:00.429178400Z",
     "start_time": "2023-09-13T09:29:00.230170900Z"
    }
   },
   "outputs": [
    {
     "data": {
      "text/plain": [
       "0.6950122606865566"
      ]
     },
     "execution_count": 20,
     "metadata": {},
     "output_type": "execute_result"
    }
   ],
   "source": [
    "(data[(data.crossval == 'random') & (data.folds == 'Mean') & ~((data.subset == 'common') & ~data.contains_mutants)]\n",
    "                 .drop(columns=[col for col in data.columns if  col not in ['Pearson r', 'modeltype', 'accession']]).merge(data_counts, on='accession')\n",
    "                 .drop(columns=['accession'])).query('1000 <= num_datapoints_total < 10_000')['Pearson r'].mean()"
   ]
  },
  {
   "cell_type": "code",
   "execution_count": 21,
   "id": "be70b67a1190ffec",
   "metadata": {
    "ExecuteTime": {
     "end_time": "2023-09-13T09:29:00.564169600Z",
     "start_time": "2023-09-13T09:29:00.415171100Z"
    }
   },
   "outputs": [
    {
     "data": {
      "text/plain": [
       "0.7193234512801298"
      ]
     },
     "execution_count": 21,
     "metadata": {},
     "output_type": "execute_result"
    }
   ],
   "source": [
    "(data[(data.crossval == 'random') & (data.folds == 'Mean') & ~((data.subset == 'common') & ~data.contains_mutants)]\n",
    "                 .drop(columns=[col for col in data.columns if  col not in ['Pearson r', 'modeltype', 'accession']]).merge(data_counts, on='accession')\n",
    "                 .drop(columns=['accession'])).query('num_datapoints_total >= 10_000')['Pearson r'].mean()"
   ]
  },
  {
   "cell_type": "code",
   "execution_count": 22,
   "id": "283b1012be3f632",
   "metadata": {
    "ExecuteTime": {
     "end_time": "2023-09-13T09:29:00.729168300Z",
     "start_time": "2023-09-13T09:29:00.558172900Z"
    }
   },
   "outputs": [
    {
     "data": {
      "text/html": [
       "<div>\n",
       "<style scoped>\n",
       "    .dataframe tbody tr th:only-of-type {\n",
       "        vertical-align: middle;\n",
       "    }\n",
       "\n",
       "    .dataframe tbody tr th {\n",
       "        vertical-align: top;\n",
       "    }\n",
       "\n",
       "    .dataframe thead th {\n",
       "        text-align: right;\n",
       "    }\n",
       "</style>\n",
       "<table border=\"1\" class=\"dataframe\">\n",
       "  <thead>\n",
       "    <tr style=\"text-align: right;\">\n",
       "      <th></th>\n",
       "      <th>Pearson r</th>\n",
       "      <th>accession</th>\n",
       "      <th>subset</th>\n",
       "      <th>contains_mutants</th>\n",
       "      <th>modeltype</th>\n",
       "      <th>num_datapoints_total</th>\n",
       "      <th>num_datapoints_WT</th>\n",
       "      <th>num_datapoints_mutants</th>\n",
       "      <th>datapoints_WT_percentage</th>\n",
       "      <th>minority_percentage</th>\n",
       "    </tr>\n",
       "  </thead>\n",
       "  <tbody>\n",
       "    <tr>\n",
       "      <th>0</th>\n",
       "      <td>0.686389</td>\n",
       "      <td>P42336</td>\n",
       "      <td>common</td>\n",
       "      <td>False</td>\n",
       "      <td>PCM</td>\n",
       "      <td>14050.0</td>\n",
       "      <td>13802.0</td>\n",
       "      <td>248.0</td>\n",
       "      <td>98.234875</td>\n",
       "      <td>1.765125</td>\n",
       "    </tr>\n",
       "    <tr>\n",
       "      <th>1</th>\n",
       "      <td>0.970715</td>\n",
       "      <td>P42336</td>\n",
       "      <td>common</td>\n",
       "      <td>True</td>\n",
       "      <td>PCM</td>\n",
       "      <td>14050.0</td>\n",
       "      <td>13802.0</td>\n",
       "      <td>248.0</td>\n",
       "      <td>98.234875</td>\n",
       "      <td>1.765125</td>\n",
       "    </tr>\n",
       "    <tr>\n",
       "      <th>2</th>\n",
       "      <td>0.842513</td>\n",
       "      <td>P42336</td>\n",
       "      <td>complete</td>\n",
       "      <td>False</td>\n",
       "      <td>PCM</td>\n",
       "      <td>14050.0</td>\n",
       "      <td>13802.0</td>\n",
       "      <td>248.0</td>\n",
       "      <td>98.234875</td>\n",
       "      <td>1.765125</td>\n",
       "    </tr>\n",
       "    <tr>\n",
       "      <th>3</th>\n",
       "      <td>0.846230</td>\n",
       "      <td>P42336</td>\n",
       "      <td>complete</td>\n",
       "      <td>True</td>\n",
       "      <td>PCM</td>\n",
       "      <td>14050.0</td>\n",
       "      <td>13802.0</td>\n",
       "      <td>248.0</td>\n",
       "      <td>98.234875</td>\n",
       "      <td>1.765125</td>\n",
       "    </tr>\n",
       "    <tr>\n",
       "      <th>4</th>\n",
       "      <td>0.686389</td>\n",
       "      <td>P42336</td>\n",
       "      <td>common</td>\n",
       "      <td>False</td>\n",
       "      <td>QSAR</td>\n",
       "      <td>14050.0</td>\n",
       "      <td>13802.0</td>\n",
       "      <td>248.0</td>\n",
       "      <td>98.234875</td>\n",
       "      <td>1.765125</td>\n",
       "    </tr>\n",
       "    <tr>\n",
       "      <th>5</th>\n",
       "      <td>0.972541</td>\n",
       "      <td>P42336</td>\n",
       "      <td>common</td>\n",
       "      <td>True</td>\n",
       "      <td>QSAR</td>\n",
       "      <td>14050.0</td>\n",
       "      <td>13802.0</td>\n",
       "      <td>248.0</td>\n",
       "      <td>98.234875</td>\n",
       "      <td>1.765125</td>\n",
       "    </tr>\n",
       "    <tr>\n",
       "      <th>6</th>\n",
       "      <td>0.842513</td>\n",
       "      <td>P42336</td>\n",
       "      <td>complete</td>\n",
       "      <td>False</td>\n",
       "      <td>QSAR</td>\n",
       "      <td>14050.0</td>\n",
       "      <td>13802.0</td>\n",
       "      <td>248.0</td>\n",
       "      <td>98.234875</td>\n",
       "      <td>1.765125</td>\n",
       "    </tr>\n",
       "    <tr>\n",
       "      <th>7</th>\n",
       "      <td>0.850579</td>\n",
       "      <td>P42336</td>\n",
       "      <td>complete</td>\n",
       "      <td>True</td>\n",
       "      <td>QSAR</td>\n",
       "      <td>14050.0</td>\n",
       "      <td>13802.0</td>\n",
       "      <td>248.0</td>\n",
       "      <td>98.234875</td>\n",
       "      <td>1.765125</td>\n",
       "    </tr>\n",
       "    <tr>\n",
       "      <th>8</th>\n",
       "      <td>0.373305</td>\n",
       "      <td>P00352</td>\n",
       "      <td>complete</td>\n",
       "      <td>False</td>\n",
       "      <td>PCM</td>\n",
       "      <td>20056.0</td>\n",
       "      <td>20054.0</td>\n",
       "      <td>2.0</td>\n",
       "      <td>99.990028</td>\n",
       "      <td>0.009972</td>\n",
       "    </tr>\n",
       "    <tr>\n",
       "      <th>9</th>\n",
       "      <td>0.365299</td>\n",
       "      <td>P00352</td>\n",
       "      <td>complete</td>\n",
       "      <td>True</td>\n",
       "      <td>PCM</td>\n",
       "      <td>20056.0</td>\n",
       "      <td>20054.0</td>\n",
       "      <td>2.0</td>\n",
       "      <td>99.990028</td>\n",
       "      <td>0.009972</td>\n",
       "    </tr>\n",
       "    <tr>\n",
       "      <th>10</th>\n",
       "      <td>0.373305</td>\n",
       "      <td>P00352</td>\n",
       "      <td>complete</td>\n",
       "      <td>False</td>\n",
       "      <td>QSAR</td>\n",
       "      <td>20056.0</td>\n",
       "      <td>20054.0</td>\n",
       "      <td>2.0</td>\n",
       "      <td>99.990028</td>\n",
       "      <td>0.009972</td>\n",
       "    </tr>\n",
       "    <tr>\n",
       "      <th>11</th>\n",
       "      <td>0.366324</td>\n",
       "      <td>P00352</td>\n",
       "      <td>complete</td>\n",
       "      <td>True</td>\n",
       "      <td>QSAR</td>\n",
       "      <td>20056.0</td>\n",
       "      <td>20054.0</td>\n",
       "      <td>2.0</td>\n",
       "      <td>99.990028</td>\n",
       "      <td>0.009972</td>\n",
       "    </tr>\n",
       "  </tbody>\n",
       "</table>\n",
       "</div>"
      ],
      "text/plain": [
       "    Pearson r accession    subset  contains_mutants modeltype  \\\n",
       "0    0.686389    P42336    common             False       PCM   \n",
       "1    0.970715    P42336    common              True       PCM   \n",
       "2    0.842513    P42336  complete             False       PCM   \n",
       "3    0.846230    P42336  complete              True       PCM   \n",
       "4    0.686389    P42336    common             False      QSAR   \n",
       "5    0.972541    P42336    common              True      QSAR   \n",
       "6    0.842513    P42336  complete             False      QSAR   \n",
       "7    0.850579    P42336  complete              True      QSAR   \n",
       "8    0.373305    P00352  complete             False       PCM   \n",
       "9    0.365299    P00352  complete              True       PCM   \n",
       "10   0.373305    P00352  complete             False      QSAR   \n",
       "11   0.366324    P00352  complete              True      QSAR   \n",
       "\n",
       "    num_datapoints_total  num_datapoints_WT  num_datapoints_mutants  \\\n",
       "0                14050.0            13802.0                   248.0   \n",
       "1                14050.0            13802.0                   248.0   \n",
       "2                14050.0            13802.0                   248.0   \n",
       "3                14050.0            13802.0                   248.0   \n",
       "4                14050.0            13802.0                   248.0   \n",
       "5                14050.0            13802.0                   248.0   \n",
       "6                14050.0            13802.0                   248.0   \n",
       "7                14050.0            13802.0                   248.0   \n",
       "8                20056.0            20054.0                     2.0   \n",
       "9                20056.0            20054.0                     2.0   \n",
       "10               20056.0            20054.0                     2.0   \n",
       "11               20056.0            20054.0                     2.0   \n",
       "\n",
       "    datapoints_WT_percentage  minority_percentage  \n",
       "0                  98.234875             1.765125  \n",
       "1                  98.234875             1.765125  \n",
       "2                  98.234875             1.765125  \n",
       "3                  98.234875             1.765125  \n",
       "4                  98.234875             1.765125  \n",
       "5                  98.234875             1.765125  \n",
       "6                  98.234875             1.765125  \n",
       "7                  98.234875             1.765125  \n",
       "8                  99.990028             0.009972  \n",
       "9                  99.990028             0.009972  \n",
       "10                 99.990028             0.009972  \n",
       "11                 99.990028             0.009972  "
      ]
     },
     "execution_count": 22,
     "metadata": {},
     "output_type": "execute_result"
    }
   ],
   "source": [
    "(data[(data.crossval == 'random') & (data.folds == 'Mean')]\n",
    " .drop(columns=[col for col in data.columns if  col not in ['Pearson r', 'modeltype', 'accession', 'contains_mutants', 'subset']])\n",
    " .merge(data_counts.query('num_datapoints_total >= 10_000').query('minority_percentage < 15'))\n",
    " )"
   ]
  },
  {
   "cell_type": "code",
   "execution_count": 82,
   "id": "1399164aff382cae",
   "metadata": {
    "ExecuteTime": {
     "end_time": "2023-09-13T09:29:00.978168800Z",
     "start_time": "2023-09-13T09:29:00.718169Z"
    }
   },
   "outputs": [
    {
     "data": {
      "text/plain": [
       "0.46289064341665076"
      ]
     },
     "execution_count": 82,
     "metadata": {},
     "output_type": "execute_result"
    }
   ],
   "source": [
    "(data[(data.crossval == 'random') & (data.folds == 'Mean') & (data.subset == 'complete') & ~data.contains_mutants]\n",
    "                 .drop(columns=[col for col in data.columns if  col not in ['Pearson r', 'modeltype', 'accession']]).merge(data_counts, on='accession')\n",
    "                 .drop(columns=['accession'])).query('num_datapoints_total <= 198')['Pearson r'].mean()"
   ]
  },
  {
   "cell_type": "code",
   "execution_count": 83,
   "id": "46b36789",
   "metadata": {},
   "outputs": [
    {
     "data": {
      "text/plain": [
       "0.700994829584767"
      ]
     },
     "execution_count": 83,
     "metadata": {},
     "output_type": "execute_result"
    }
   ],
   "source": [
    "(data[(data.crossval == 'random') & (data.folds == 'Mean') & (data.subset == 'complete') & ~data.contains_mutants]\n",
    "                 .drop(columns=[col for col in data.columns if  col not in ['Pearson r', 'modeltype', 'accession']]).merge(data_counts, on='accession')\n",
    "                 .drop(columns=['accession'])).query('198 < num_datapoints_total <= 694')['Pearson r'].mean()"
   ]
  },
  {
   "cell_type": "code",
   "execution_count": 84,
   "id": "1587bdd9",
   "metadata": {},
   "outputs": [
    {
     "data": {
      "text/plain": [
       "0.7631738233928057"
      ]
     },
     "execution_count": 84,
     "metadata": {},
     "output_type": "execute_result"
    }
   ],
   "source": [
    "(data[(data.crossval == 'random') & (data.folds == 'Mean') & (data.subset == 'complete') & ~data.contains_mutants]\n",
    "                 .drop(columns=[col for col in data.columns if  col not in ['Pearson r', 'modeltype', 'accession']]).merge(data_counts, on='accession')\n",
    "                 .drop(columns=['accession'])).query('694 < num_datapoints_total')['Pearson r'].mean()"
   ]
  },
  {
   "cell_type": "code",
   "execution_count": 85,
   "id": "61192ac178b7ab1a",
   "metadata": {
    "ExecuteTime": {
     "end_time": "2023-09-13T09:29:01.300168600Z",
     "start_time": "2023-09-13T09:29:01.018168800Z"
    }
   },
   "outputs": [
    {
     "data": {
      "text/plain": [
       "0.057344415339005916"
      ]
     },
     "execution_count": 85,
     "metadata": {},
     "output_type": "execute_result"
    }
   ],
   "source": [
    "((data[(data.crossval == 'random') & (data.folds == 'Mean') & (data.subset == 'complete') & data.contains_mutants]\n",
    "                 .drop(columns=[col for col in data.columns if  col not in ['Pearson r', 'modeltype', 'accession']]).merge(data_counts, on='accession')\n",
    "                 .drop(columns=['accession'])).query('minority_percentage > 30 and modeltype == \"PCM\"')['Pearson r'].mean()\n",
    "-\n",
    "(data[(data.crossval == 'random') & (data.folds == 'Mean') & (data.subset == 'complete') & data.contains_mutants]\n",
    "                 .drop(columns=[col for col in data.columns if  col not in ['Pearson r', 'modeltype', 'accession']]).merge(data_counts, on='accession')\n",
    "                 .drop(columns=['accession'])).query('minority_percentage > 30 and modeltype == \"QSAR\"')['Pearson r'].mean())"
   ]
  },
  {
   "cell_type": "code",
   "execution_count": 86,
   "id": "31f16f49",
   "metadata": {},
   "outputs": [
    {
     "data": {
      "text/plain": [
       "0.014858765538807828"
      ]
     },
     "execution_count": 86,
     "metadata": {},
     "output_type": "execute_result"
    }
   ],
   "source": [
    "((data[(data.crossval == 'random') & (data.folds == 'Mean') & (data.subset == 'complete') & data.contains_mutants]\n",
    "                 .drop(columns=[col for col in data.columns if  col not in ['Pearson r', 'modeltype', 'accession']]).merge(data_counts, on='accession')\n",
    "                 .drop(columns=['accession'])).query('minority_percentage <= 30 and modeltype == \"PCM\"')['Pearson r'].mean()\n",
    "-\n",
    "(data[(data.crossval == 'random') & (data.folds == 'Mean') & (data.subset == 'complete') & data.contains_mutants]\n",
    "                 .drop(columns=[col for col in data.columns if  col not in ['Pearson r', 'modeltype', 'accession']]).merge(data_counts, on='accession')\n",
    "                 .drop(columns=['accession'])).query('minority_percentage <= 30 and modeltype == \"QSAR\"')['Pearson r'].mean())"
   ]
  },
  {
   "cell_type": "code",
   "execution_count": 109,
   "id": "8f5c8f17",
   "metadata": {
    "scrolled": true
   },
   "outputs": [
    {
     "data": {
      "text/plain": [
       "0.5129136192690376"
      ]
     },
     "execution_count": 109,
     "metadata": {},
     "output_type": "execute_result"
    }
   ],
   "source": [
    "(subplot3_data[(subplot3_data.minority_percentage > 30)]\n",
    " ['Pearson r']\n",
    " .mean()\n",
    ")"
   ]
  },
  {
   "cell_type": "code",
   "execution_count": 110,
   "id": "220e61b6",
   "metadata": {},
   "outputs": [
    {
     "data": {
      "text/plain": [
       "0.3028435821445919"
      ]
     },
     "execution_count": 110,
     "metadata": {},
     "output_type": "execute_result"
    }
   ],
   "source": [
    "(subplot3_data[(subplot3_data.num_common_datapoints_total <= 33)]\n",
    " ['Pearson r']\n",
    " .mean()\n",
    ")"
   ]
  },
  {
   "cell_type": "code",
   "execution_count": 111,
   "id": "c48184f7",
   "metadata": {},
   "outputs": [
    {
     "data": {
      "text/plain": [
       "0.621251998147438"
      ]
     },
     "execution_count": 111,
     "metadata": {},
     "output_type": "execute_result"
    }
   ],
   "source": [
    "(subplot3_data[(subplot3_data.num_common_datapoints_total > 33)]\n",
    " ['Pearson r']\n",
    " .mean()\n",
    ")"
   ]
  },
  {
   "cell_type": "code",
   "execution_count": 113,
   "id": "51b9949b",
   "metadata": {},
   "outputs": [
    {
     "data": {
      "text/plain": [
       "0.16348441713318368"
      ]
     },
     "execution_count": 113,
     "metadata": {},
     "output_type": "execute_result"
    }
   ],
   "source": [
    "(subplot3_data\n",
    " .sort_values(['accession', 'modeltype'], ascending=[True, False])\n",
    " .reset_index(drop=True)\n",
    " ['Pearson r']\n",
    " .diff()\n",
    " [1::2]\n",
    " .mean()\n",
    ")"
   ]
  },
  {
   "cell_type": "code",
   "execution_count": null,
   "id": "7b136898",
   "metadata": {},
   "outputs": [],
   "source": [
    "(subplot3_data[(subplot3_data.num_common_datapoints_total <= 33)]\n",
    " .sort_values(['accession', 'modeltype'], ascending=[True, False])\n",
    " .reset_index(drop=True)\n",
    " ['Pearson r']\n",
    " .diff()\n",
    " [1::2]\n",
    " .mean()\n",
    ")"
   ]
  },
  {
   "cell_type": "code",
   "execution_count": 26,
   "id": "337793c0a3c84eb5",
   "metadata": {
    "ExecuteTime": {
     "end_time": "2023-09-13T09:30:12.570220500Z",
     "start_time": "2023-09-13T09:30:12.439222900Z"
    }
   },
   "outputs": [
    {
     "data": {
      "text/html": [
       "<div>\n",
       "<style scoped>\n",
       "    .dataframe tbody tr th:only-of-type {\n",
       "        vertical-align: middle;\n",
       "    }\n",
       "\n",
       "    .dataframe tbody tr th {\n",
       "        vertical-align: top;\n",
       "    }\n",
       "\n",
       "    .dataframe thead th {\n",
       "        text-align: right;\n",
       "    }\n",
       "</style>\n",
       "<table border=\"1\" class=\"dataframe\">\n",
       "  <thead>\n",
       "    <tr style=\"text-align: right;\">\n",
       "      <th></th>\n",
       "      <th>Pearson r</th>\n",
       "    </tr>\n",
       "    <tr>\n",
       "      <th>minority_percentage</th>\n",
       "      <th></th>\n",
       "    </tr>\n",
       "  </thead>\n",
       "  <tbody>\n",
       "    <tr>\n",
       "      <th>(-1, 30]</th>\n",
       "      <td>0.003285</td>\n",
       "    </tr>\n",
       "    <tr>\n",
       "      <th>(30, 50]</th>\n",
       "      <td>0.049191</td>\n",
       "    </tr>\n",
       "  </tbody>\n",
       "</table>\n",
       "</div>"
      ],
      "text/plain": [
       "                     Pearson r\n",
       "minority_percentage           \n",
       "(-1, 30]              0.003285\n",
       "(30, 50]              0.049191"
      ]
     },
     "execution_count": 26,
     "metadata": {},
     "output_type": "execute_result"
    }
   ],
   "source": [
    "pd.concat([pd.cut(subplot2_data.sort_values(by='accession').drop(columns=['Pearson r', 'contains_mutants'])[1::2]['minority_percentage'], [-1, 30, 50]),\n",
    "           subplot2_data.sort_values(by='accession').query('contains_mutants')['Pearson r'].reset_index(drop=True) - subplot2_data.sort_values(by='accession').query('not contains_mutants')['Pearson r'].reset_index(drop=True)\n",
    "           ],\n",
    "          axis=1).groupby('minority_percentage').agg('mean')"
   ]
  },
  {
   "cell_type": "code",
   "execution_count": 27,
   "id": "d17085e2f61420d7",
   "metadata": {
    "ExecuteTime": {
     "end_time": "2023-09-13T09:29:01.593185Z",
     "start_time": "2023-09-13T09:29:01.326170400Z"
    }
   },
   "outputs": [
    {
     "data": {
      "text/html": [
       "<div>\n",
       "<style scoped>\n",
       "    .dataframe tbody tr th:only-of-type {\n",
       "        vertical-align: middle;\n",
       "    }\n",
       "\n",
       "    .dataframe tbody tr th {\n",
       "        vertical-align: top;\n",
       "    }\n",
       "\n",
       "    .dataframe thead th {\n",
       "        text-align: right;\n",
       "    }\n",
       "</style>\n",
       "<table border=\"1\" class=\"dataframe\">\n",
       "  <thead>\n",
       "    <tr style=\"text-align: right;\">\n",
       "      <th></th>\n",
       "      <th>Pearson r</th>\n",
       "      <th>accession</th>\n",
       "      <th>contains_mutants</th>\n",
       "      <th>num_datapoints_total</th>\n",
       "      <th>num_datapoints_WT</th>\n",
       "      <th>num_datapoints_mutants</th>\n",
       "      <th>datapoints_WT_percentage</th>\n",
       "      <th>minority_percentage</th>\n",
       "    </tr>\n",
       "  </thead>\n",
       "  <tbody>\n",
       "    <tr>\n",
       "      <th>0</th>\n",
       "      <td>0.866612</td>\n",
       "      <td>A0A045ISB3</td>\n",
       "      <td>True</td>\n",
       "      <td>261.0</td>\n",
       "      <td>245.0</td>\n",
       "      <td>16.0</td>\n",
       "      <td>93.869732</td>\n",
       "      <td>6.130268</td>\n",
       "    </tr>\n",
       "    <tr>\n",
       "      <th>1</th>\n",
       "      <td>0.917751</td>\n",
       "      <td>A0A045ISB3</td>\n",
       "      <td>False</td>\n",
       "      <td>261.0</td>\n",
       "      <td>245.0</td>\n",
       "      <td>16.0</td>\n",
       "      <td>93.869732</td>\n",
       "      <td>6.130268</td>\n",
       "    </tr>\n",
       "    <tr>\n",
       "      <th>2</th>\n",
       "      <td>0.037062</td>\n",
       "      <td>A2RI47</td>\n",
       "      <td>True</td>\n",
       "      <td>23.0</td>\n",
       "      <td>17.0</td>\n",
       "      <td>6.0</td>\n",
       "      <td>73.913043</td>\n",
       "      <td>26.086957</td>\n",
       "    </tr>\n",
       "    <tr>\n",
       "      <th>3</th>\n",
       "      <td>-0.148715</td>\n",
       "      <td>A2RI47</td>\n",
       "      <td>False</td>\n",
       "      <td>23.0</td>\n",
       "      <td>17.0</td>\n",
       "      <td>6.0</td>\n",
       "      <td>73.913043</td>\n",
       "      <td>26.086957</td>\n",
       "    </tr>\n",
       "    <tr>\n",
       "      <th>4</th>\n",
       "      <td>0.824915</td>\n",
       "      <td>A3EZI9</td>\n",
       "      <td>True</td>\n",
       "      <td>794.0</td>\n",
       "      <td>673.0</td>\n",
       "      <td>121.0</td>\n",
       "      <td>84.760705</td>\n",
       "      <td>15.239295</td>\n",
       "    </tr>\n",
       "    <tr>\n",
       "      <th>...</th>\n",
       "      <td>...</td>\n",
       "      <td>...</td>\n",
       "      <td>...</td>\n",
       "      <td>...</td>\n",
       "      <td>...</td>\n",
       "      <td>...</td>\n",
       "      <td>...</td>\n",
       "      <td>...</td>\n",
       "    </tr>\n",
       "    <tr>\n",
       "      <th>503</th>\n",
       "      <td>0.667533</td>\n",
       "      <td>Q9Y2R2</td>\n",
       "      <td>False</td>\n",
       "      <td>279.0</td>\n",
       "      <td>272.0</td>\n",
       "      <td>7.0</td>\n",
       "      <td>97.491039</td>\n",
       "      <td>2.508961</td>\n",
       "    </tr>\n",
       "    <tr>\n",
       "      <th>504</th>\n",
       "      <td>0.574212</td>\n",
       "      <td>Q9Y5X5</td>\n",
       "      <td>True</td>\n",
       "      <td>129.0</td>\n",
       "      <td>116.0</td>\n",
       "      <td>13.0</td>\n",
       "      <td>89.922481</td>\n",
       "      <td>10.077519</td>\n",
       "    </tr>\n",
       "    <tr>\n",
       "      <th>505</th>\n",
       "      <td>0.634026</td>\n",
       "      <td>Q9Y5X5</td>\n",
       "      <td>False</td>\n",
       "      <td>129.0</td>\n",
       "      <td>116.0</td>\n",
       "      <td>13.0</td>\n",
       "      <td>89.922481</td>\n",
       "      <td>10.077519</td>\n",
       "    </tr>\n",
       "    <tr>\n",
       "      <th>509</th>\n",
       "      <td>0.878640</td>\n",
       "      <td>Q9YQ12</td>\n",
       "      <td>False</td>\n",
       "      <td>1168.0</td>\n",
       "      <td>1092.0</td>\n",
       "      <td>76.0</td>\n",
       "      <td>93.493151</td>\n",
       "      <td>6.506849</td>\n",
       "    </tr>\n",
       "    <tr>\n",
       "      <th>508</th>\n",
       "      <td>0.862882</td>\n",
       "      <td>Q9YQ12</td>\n",
       "      <td>True</td>\n",
       "      <td>1168.0</td>\n",
       "      <td>1092.0</td>\n",
       "      <td>76.0</td>\n",
       "      <td>93.493151</td>\n",
       "      <td>6.506849</td>\n",
       "    </tr>\n",
       "  </tbody>\n",
       "</table>\n",
       "<p>616 rows × 8 columns</p>\n",
       "</div>"
      ],
      "text/plain": [
       "     Pearson r   accession  contains_mutants  num_datapoints_total  \\\n",
       "0     0.866612  A0A045ISB3              True                 261.0   \n",
       "1     0.917751  A0A045ISB3             False                 261.0   \n",
       "2     0.037062      A2RI47              True                  23.0   \n",
       "3    -0.148715      A2RI47             False                  23.0   \n",
       "4     0.824915      A3EZI9              True                 794.0   \n",
       "..         ...         ...               ...                   ...   \n",
       "503   0.667533      Q9Y2R2             False                 279.0   \n",
       "504   0.574212      Q9Y5X5              True                 129.0   \n",
       "505   0.634026      Q9Y5X5             False                 129.0   \n",
       "509   0.878640      Q9YQ12             False                1168.0   \n",
       "508   0.862882      Q9YQ12              True                1168.0   \n",
       "\n",
       "     num_datapoints_WT  num_datapoints_mutants  datapoints_WT_percentage  \\\n",
       "0                245.0                    16.0                 93.869732   \n",
       "1                245.0                    16.0                 93.869732   \n",
       "2                 17.0                     6.0                 73.913043   \n",
       "3                 17.0                     6.0                 73.913043   \n",
       "4                673.0                   121.0                 84.760705   \n",
       "..                 ...                     ...                       ...   \n",
       "503              272.0                     7.0                 97.491039   \n",
       "504              116.0                    13.0                 89.922481   \n",
       "505              116.0                    13.0                 89.922481   \n",
       "509             1092.0                    76.0                 93.493151   \n",
       "508             1092.0                    76.0                 93.493151   \n",
       "\n",
       "     minority_percentage  \n",
       "0               6.130268  \n",
       "1               6.130268  \n",
       "2              26.086957  \n",
       "3              26.086957  \n",
       "4              15.239295  \n",
       "..                   ...  \n",
       "503             2.508961  \n",
       "504            10.077519  \n",
       "505            10.077519  \n",
       "509             6.506849  \n",
       "508             6.506849  \n",
       "\n",
       "[616 rows x 8 columns]"
      ]
     },
     "execution_count": 27,
     "metadata": {},
     "output_type": "execute_result"
    }
   ],
   "source": [
    "subplot2_data.sort_values(by='accession')"
   ]
  },
  {
   "cell_type": "code",
   "execution_count": 28,
   "id": "b5b7ca610c844b20",
   "metadata": {
    "ExecuteTime": {
     "end_time": "2023-09-13T09:29:01.790168500Z",
     "start_time": "2023-09-13T09:29:01.479169Z"
    }
   },
   "outputs": [
    {
     "data": {
      "text/plain": [
       "0     -0.051139\n",
       "1      0.185776\n",
       "2     -0.016673\n",
       "3      0.042106\n",
       "4     -0.751997\n",
       "         ...   \n",
       "303    0.002481\n",
       "304   -0.001304\n",
       "305   -0.018965\n",
       "306   -0.059814\n",
       "307   -0.015758\n",
       "Name: Pearson r, Length: 308, dtype: float64"
      ]
     },
     "execution_count": 28,
     "metadata": {},
     "output_type": "execute_result"
    }
   ],
   "source": [
    "(subplot2_data.sort_values(by='accession').query('contains_mutants')['Pearson r'].reset_index(drop=True) - subplot2_data.sort_values(by='accession').query('~contains_mutants')['Pearson r'].reset_index(drop=True))"
   ]
  },
  {
   "cell_type": "code",
   "execution_count": 29,
   "id": "650f75709be0008c",
   "metadata": {
    "ExecuteTime": {
     "end_time": "2023-09-13T09:29:01.889168700Z",
     "start_time": "2023-09-13T09:29:01.620173100Z"
    }
   },
   "outputs": [
    {
     "data": {
      "text/plain": [
       "0.049190845221482246"
      ]
     },
     "execution_count": 29,
     "metadata": {},
     "output_type": "execute_result"
    }
   ],
   "source": [
    "pd.concat([subplot2_data.sort_values(by='accession').drop(columns=['Pearson r', 'contains_mutants'])[1::2],\n",
    "           (subplot2_data.sort_values(by='accession').query('contains_mutants')['Pearson r'].reset_index(drop=True) - subplot2_data.sort_values(by='accession').query('~contains_mutants')['Pearson r'].reset_index(drop=True))#subplot2_data.sort_values(by='accession')['Pearson r'].diff(periods=1)[1::2]\n",
    "           ],\n",
    "          axis=1).query('minority_percentage > 30')['Pearson r'].mean()"
   ]
  },
  {
   "cell_type": "code",
   "execution_count": 30,
   "id": "1f922cf6168091e8",
   "metadata": {
    "ExecuteTime": {
     "end_time": "2023-09-13T09:29:02.405167600Z",
     "start_time": "2023-09-13T09:29:01.762168900Z"
    }
   },
   "outputs": [
    {
     "data": {
      "text/html": [
       "\n",
       "        <iframe\n",
       "            width=\"100%\"\n",
       "            height=\"650\"\n",
       "            src=\"http://127.0.0.1:8050/\"\n",
       "            frameborder=\"0\"\n",
       "            allowfullscreen\n",
       "            \n",
       "        ></iframe>\n",
       "        "
      ],
      "text/plain": [
       "<IPython.lib.display.IFrame at 0x13d0c079f10>"
      ]
     },
     "metadata": {},
     "output_type": "display_data"
    }
   ],
   "source": [
    "app = Dash(__name__)\n",
    "\n",
    "app.layout = html.Div([\n",
    "                       dcc.Graph(id=\"heatmap-graph\"),\n",
    "                       html.P(\"#datapoints:\"),\n",
    "                       dcc.RangeSlider(\n",
    "                           id='heatmap-x-range-slider',\n",
    "                           min=subplot1_data.num_datapoints_total.min(),\n",
    "                           max=subplot1_data.num_datapoints_total.max(),\n",
    "                           step=1000,\n",
    "                           value=[subplot1_data.num_datapoints_total.min(), 1_000, 10_000, subplot1_data.num_datapoints_total.max()]\n",
    "                           ),\n",
    "                       html.P(\"balance ratio:\"),\n",
    "                       dcc.RangeSlider(\n",
    "                            id='heatmap-y-range-slider',\n",
    "                            min=0, max=50, step=1,\n",
    "                           value=[0, 15, 30, 50]\n",
    "                            ),\n",
    "                       html.P(\"num datapoints (common)\"),\n",
    "                       dcc.RangeSlider(\n",
    "                            id='heatmap-binscommon-slider',\n",
    "                            min=subplot3_data.num_common_datapoints_total.min(),\n",
    "                            max=subplot3_data.num_common_datapoints_total.max(),\n",
    "                            step=10,\n",
    "                            value=[subplot3_data.num_common_datapoints_total.min(), 100, 500, subplot3_data.num_common_datapoints_total.max()]\n",
    "                            ),\n",
    "                       html.P(\"balance ratio (common)\"),\n",
    "                       dcc.RangeSlider(\n",
    "                            id='heatmap-balancecommon-slider',\n",
    "                            min=0, max=50, step=1,\n",
    "                            value=[0, 15, 30, 50]\n",
    "                            ),\n",
    "                       ])\n",
    "\n",
    "\n",
    "@app.callback(\n",
    "    Output(\"heatmap-graph\", \"figure\"),\n",
    "    [Input(\"heatmap-x-range-slider\", \"value\"),\n",
    "     Input(\"heatmap-y-range-slider\", \"value\"),\n",
    "     Input(\"heatmap-binscommon-slider\", \"value\"),\n",
    "     Input(\"heatmap-balancecommon-slider\", \"value\"),\n",
    "     ])\n",
    "def update_count_bar_chart(slider_x, slider_y, slider_x_common, slider_y_common):\n",
    "    # Obtain data\n",
    "    global subplot2_data, subplot3_data, subplot4_data\n",
    "    subplot_data1 = subplot1_data.copy().drop_duplicates(subset=['accession']).drop(columns='accession')\n",
    "    subplot_data2 = subplot4_data.copy().drop_duplicates(subset=['accession']).drop(columns='accession')\n",
    "    subplot_data3 = subplot3_data.copy().drop_duplicates(subset=['accession']).drop(columns='accession')\n",
    "    # Slider values\n",
    "    min_x, low_x, high_x, max_x = slider_x\n",
    "    min_y, low_y, high_y, max_y = slider_y\n",
    "    \n",
    "    min_x_common, low_x_common, high_x_common, max_x_common = slider_x_common\n",
    "    min_y_common, low_y_common, high_y_common, max_y_common = slider_y_common\n",
    "       \n",
    "    # Obtain categories\n",
    "    intervals_num_datapoints = [(min_x - 0.1, low_x),\n",
    "                            (low_x, high_x),\n",
    "                            (high_x, max_x)]\n",
    "    intervals_ratio = [(min_y - 0.1, low_y),\n",
    "                       (low_y, high_y),\n",
    "                       (high_y, max_y)]\n",
    "    \n",
    "    intervals_num_datapoints_common = [(min_x_common - 0.1, low_x_common),\n",
    "                            (low_x_common, high_x_common),\n",
    "                            (high_x_common, max_x_common)]\n",
    "    intervals_ratio_common = [(min_y_common - 0.1, low_y_common),\n",
    "                       (low_y_common, high_y_common),\n",
    "                       (high_y_common, max_y_common)]\n",
    "    \n",
    "    num_intervals = pd.IntervalIndex.from_tuples(intervals_num_datapoints)\n",
    "    ratio_intervals = pd.IntervalIndex.from_tuples(intervals_ratio)\n",
    "    \n",
    "    num_intervals_common = pd.IntervalIndex.from_tuples(intervals_num_datapoints_common)\n",
    "    ratio_intervals_common = pd.IntervalIndex.from_tuples(intervals_ratio_common)\n",
    "\n",
    "    # Put data in bins\n",
    "    subplot_data1['num_bins'] = pd.cut(subplot_data1.num_datapoints_total.values, num_intervals)\n",
    "    subplot_data2['num_bins'] = pd.cut(subplot_data2.num_datapoints_WT.values, num_intervals)\n",
    "    subplot_data3['num_bins'] = pd.cut(subplot_data3.num_common_datapoints_total.values, num_intervals_common)\n",
    "    subplot_data1['ratio_bins'] = pd.cut(subplot_data1.minority_percentage.values, ratio_intervals)\n",
    "    subplot_data2['ratio_bins'] = pd.cut(subplot_data2.minority_percentage.values, ratio_intervals)\n",
    "    subplot_data3['ratio_bins'] = pd.cut(subplot_data3.minority_percentage.values, ratio_intervals_common)\n",
    "    \n",
    "    # Rename intervals\n",
    "    subplot_data1['num_bins'] = subplot_data1['num_bins'].astype(str)#.cat.rename_categories(dict(zip(num_intervals, ['low', 'medium', 'high'])))\n",
    "    subplot_data2['num_bins'] = subplot_data2['num_bins'].astype(str)#.cat.rename_categories(dict(zip(num_intervals, ['low', 'medium', 'high'])))\n",
    "    subplot_data3['num_bins'] = subplot_data3['num_bins'].astype(str)#.cat.rename_categories(dict(zip(num_intervals, ['low', 'medium', 'high'])))\n",
    "    subplot_data1['ratio_bins'] = subplot_data1['ratio_bins'].astype(str)#.cat.rename_categories(dict(zip(ratio_intervals, ['low', 'medium', 'high'])))\n",
    "    subplot_data2['ratio_bins'] = subplot_data2['ratio_bins'].astype(str)#.cat.rename_categories(dict(zip(ratio_intervals, ['low', 'medium', 'high'])))\n",
    "    subplot_data3['ratio_bins'] = subplot_data3['ratio_bins'].astype(str)#.cat.rename_categories(dict(zip(ratio_intervals, ['low', 'medium', 'high'])))\n",
    "    # Clean up columns\n",
    "    subplot_data1 = subplot_data1.drop(columns=['num_datapoints_total', 'minority_percentage'])\n",
    "    subplot_data2 = subplot_data2.drop(columns=['num_datapoints_WT', 'minority_percentage'])\n",
    "    subplot_data3 = subplot_data3.drop(columns=['num_common_datapoints_total', 'minority_percentage'])\n",
    "    \n",
    "    # Remove nan bins\n",
    "    subplot_data1 = subplot_data1[subplot_data1.num_bins != 'nan']\n",
    "    subplot_data2 = subplot_data2[subplot_data2.num_bins != 'nan']\n",
    "    subplot_data3 = subplot_data3[subplot_data3.num_bins != 'nan']\n",
    "    \n",
    "    # Group by, pivot and obtain difference\n",
    "    subplot_data1 = subplot_data1.groupby(['modeltype', 'num_bins', 'ratio_bins']).agg('count').reset_index()\n",
    "    subplot_data1 = subplot_data1.pivot(columns=['num_bins'], values='Pearson r',\n",
    "                                      index=['modeltype', 'ratio_bins']).reset_index()\n",
    "    subplot_data1 = subplot_data1.drop(columns='modeltype').groupby('ratio_bins').agg('sum')\n",
    "    # subplot_data1\n",
    "    \n",
    "    subplot_data2 = subplot_data2.groupby(['modeltype', 'num_bins', 'ratio_bins']).agg('count').reset_index()\n",
    "    subplot_data2 = subplot_data2.pivot(columns=['num_bins'], values='Pearson r',\n",
    "                                      index=['modeltype', 'ratio_bins']).reset_index()\n",
    "    subplot_data2 = subplot_data2.drop(columns='modeltype').groupby('ratio_bins').agg('sum')\n",
    "    # subplot_data2\n",
    "    \n",
    "    subplot_data3 = subplot_data3.groupby(['modeltype', 'num_bins', 'ratio_bins']).agg('count').reset_index()\n",
    "    subplot_data3 = subplot_data3.pivot(columns=['num_bins'], values='Pearson r',\n",
    "                                      index=['modeltype', 'ratio_bins']).reset_index()\n",
    "    subplot_data3 = subplot_data3.drop(columns='modeltype').groupby('ratio_bins').agg('sum')\n",
    "    # Melt dataframes \n",
    "    subplot_data1 = pd.melt(subplot_data1.reset_index(), id_vars=['ratio_bins']) \n",
    "    subplot_data2 = pd.melt(subplot_data2.reset_index(), id_vars=['ratio_bins'])\n",
    "    subplot_data3 = pd.melt(subplot_data3.reset_index(), id_vars=['ratio_bins'])\n",
    "\n",
    "    # Rename intervals\n",
    "    subplot_data1['num_bins'] = subplot_data1['num_bins'].replace({str(num_intervals[0]): f'[{intervals_num_datapoints[0][0] + 0.1:.0f}, {intervals_num_datapoints[1][0]:.0f}]'})\n",
    "    subplot_data1['num_bins'] = subplot_data1['num_bins'].replace({str(num_intervals[1]): f'({intervals_num_datapoints[1][0]:.0f}, {intervals_num_datapoints[1][1]:.0f}]'})\n",
    "    subplot_data1['num_bins'] = subplot_data1['num_bins'].replace({str(num_intervals[2]): f'({intervals_num_datapoints[2][0]:.0f}, {intervals_num_datapoints[2][1]:.0f}]'})\n",
    "    subplot_data1['ratio_bins'] = subplot_data1['ratio_bins'].replace({str(ratio_intervals[0]): f'[{intervals_ratio[0][0]:.0f}, {intervals_ratio[0][1]:.0f}]'})\n",
    "    subplot_data1['ratio_bins'] = subplot_data1['ratio_bins'].replace({str(ratio_intervals[0]): f'({intervals_ratio[1][0]:.0f}, {intervals_ratio[1][1]:.0f}]'})\n",
    "    subplot_data1['ratio_bins'] = subplot_data1['ratio_bins'].replace({str(ratio_intervals[0]): f'({intervals_ratio[2][0]:.0f}, {intervals_ratio[2][1]:.0f}]'})\n",
    "    \n",
    "    subplot_data2['num_bins'] = subplot_data2['num_bins'].replace({str(num_intervals[0]): f'[{intervals_num_datapoints[0][0] + 0.1:.0f}, {intervals_num_datapoints[1][0]:.0f}]'})\n",
    "    subplot_data2['num_bins'] = subplot_data2['num_bins'].replace({str(num_intervals[1]): f'({intervals_num_datapoints[1][0]:.0f}, {intervals_num_datapoints[1][1]:.0f}]'})\n",
    "    subplot_data2['num_bins'] = subplot_data2['num_bins'].replace({str(num_intervals[2]): f'({intervals_num_datapoints[2][0]:.0f}, {intervals_num_datapoints[2][1]:.0f}]'})\n",
    "    subplot_data2['ratio_bins'] = subplot_data2['ratio_bins'].replace({str(ratio_intervals[0]): f'[{intervals_ratio[0][0]:.0f}, {intervals_ratio[0][1]:.0f}]'})\n",
    "    subplot_data2['ratio_bins'] = subplot_data2['ratio_bins'].replace({str(ratio_intervals[0]): f'({intervals_ratio[1][0]:.0f}, {intervals_ratio[1][1]:.0f}]'})\n",
    "    subplot_data2['ratio_bins'] = subplot_data2['ratio_bins'].replace({str(ratio_intervals[0]): f'({intervals_ratio[2][0]:.0f}, {intervals_ratio[2][1]:.0f}]'})\n",
    "    \n",
    "    subplot_data3['num_bins'] = subplot_data3['num_bins'].replace({str(num_intervals_common[0]): f'[{intervals_num_datapoints_common[0][0] + 0.1:.0f}, {intervals_num_datapoints_common[1][0]:.0f}]'})\n",
    "    subplot_data3['num_bins'] = subplot_data3['num_bins'].replace({str(num_intervals_common[1]): f'({intervals_num_datapoints_common[1][0]:.0f}, {intervals_num_datapoints_common[1][1]:.0f}]'})\n",
    "    subplot_data3['num_bins'] = subplot_data3['num_bins'].replace({str(num_intervals_common[2]): f'({intervals_num_datapoints_common[2][0]:.0f}, {intervals_num_datapoints_common[2][1]:.0f}]'})\n",
    "    subplot_data3['ratio_bins'] = subplot_data3['ratio_bins'].replace({str(ratio_intervals_common[0]): f'[{intervals_ratio_common[0][0]:.0f}, {intervals_ratio_common[0][1]:.0f}]'})\n",
    "    subplot_data3['ratio_bins'] = subplot_data3['ratio_bins'].replace({str(ratio_intervals_common[0]): f'({intervals_ratio_common[1][0]:.0f}, {intervals_ratio_common[1][1]:.0f}]'})\n",
    "    subplot_data3['ratio_bins'] = subplot_data3['ratio_bins'].replace({str(ratio_intervals_common[0]): f'({intervals_ratio_common[2][0]:.0f}, {intervals_ratio_common[2][1]:.0f}]'})\n",
    "        \n",
    "    # Figure\n",
    "    fig = make_subplots(rows=1, cols=3,\n",
    "                        shared_yaxes=True,\n",
    "                        subplot_titles=['complete dataset', 'no mutant', 'common subset'],\n",
    "                       )\n",
    "    \n",
    "    fig.add_trace(go.Heatmap(x=subplot_data1.num_bins, y=subplot_data1.ratio_bins, z=subplot_data1.value, \n",
    "                             zmin=0, zmax=200,\n",
    "                             showscale=False,\n",
    "                             colorscale='RdYlGn',\n",
    "                             ),\n",
    "                  row=1, col=1)\n",
    "    \n",
    "    fig.add_trace(go.Heatmap(x=subplot_data2.num_bins, y=subplot_data2.ratio_bins, z=subplot_data2.value,\n",
    "                             zmin=0, zmax=200,\n",
    "                             showscale=False,\n",
    "                             colorscale='RdYlGn',\n",
    "                             ),\n",
    "                  row=1, col=2)\n",
    "    \n",
    "    fig.add_trace(go.Heatmap(x=subplot_data3.num_bins, y=subplot_data3.ratio_bins, z=subplot_data3.value,\n",
    "                             zmin=0, zmax=200,\n",
    "                             colorscale='RdYlGn',\n",
    "                             colorbar={\"title\": 'Pearson r'}\n",
    "                             ),\n",
    "                  row=1, col=3)\n",
    "    # Add title\n",
    "    fig.update_layout({'xaxis': {'categoryarray': [f'[{intervals_num_datapoints[0][0] + 0.1:.0f}, {intervals_num_datapoints[1][0]:.0f}]',\n",
    "                                                   f'({intervals_num_datapoints[1][0]:.0f}, {intervals_num_datapoints[1][1]:.0f}]',\n",
    "                                                   f'({intervals_num_datapoints[2][0]:.0f}, {intervals_num_datapoints[2][1]:.0f}]'],\n",
    "                                 'title': '#compound-target pairs per accession'},\n",
    "                       'xaxis2': {'categoryarray': [f'[{intervals_num_datapoints[0][0] + 0.1:.0f}, {intervals_num_datapoints[1][0]:.0f}]',\n",
    "                                                   f'({intervals_num_datapoints[1][0]:.0f}, {intervals_num_datapoints[1][1]:.0f}]',\n",
    "                                                   f'({intervals_num_datapoints[2][0]:.0f}, {intervals_num_datapoints[2][1]:.0f}]'],\n",
    "                                 'title': '#compound-target pairs per accession'},\n",
    "                       'xaxis3': {'categoryarray': [f'[{intervals_num_datapoints_common[0][0] + 0.1:.0f}, {intervals_num_datapoints_common[1][0]:.0f}]',\n",
    "                                                   f'({intervals_num_datapoints_common[1][0]:.0f}, {intervals_num_datapoints_common[1][1]:.0f}]',\n",
    "                                                   f'({intervals_num_datapoints_common[2][0]:.0f}, {intervals_num_datapoints_common[2][1]:.0f}]'],\n",
    "                                 'title': '#compound-target pairs per accession'},\n",
    "                       'yaxis': {'title': 'Minority class (WT/mutant) %'},\n",
    "                       })\n",
    "\n",
    "\n",
    "    fig.update_traces(row=1, col=1, text=subplot_data1.value, texttemplate=\"%{text:.0f}\", hovertemplate=None)\n",
    "    fig.update_traces(row=1, col=2, text=subplot_data2.value, texttemplate=\"%{text:.0f}\", hovertemplate=None)\n",
    "    fig.update_traces(row=1, col=3, text=subplot_data3.value, texttemplate=\"%{text:.0f}\", hovertemplate=None)\n",
    "\n",
    "    fig.update_layout(autosize=False, width=1050, height=430)\n",
    "\n",
    "        \n",
    "    return fig\n",
    "\n",
    "if __name__ == '__main__':\n",
    "    app.run_server(debug=False)"
   ]
  },
  {
   "cell_type": "code",
   "execution_count": 31,
   "id": "d5a6212d7547fbb6",
   "metadata": {
    "ExecuteTime": {
     "end_time": "2023-09-13T09:29:02.778207200Z",
     "start_time": "2023-09-13T09:29:02.718185800Z"
    }
   },
   "outputs": [
    {
     "data": {
      "image/svg+xml": [
       "<svg xmlns=\"http://www.w3.org/2000/svg\" xmlns:xlink=\"http://www.w3.org/1999/xlink\" class=\"main-svg\" width=\"1050\" height=\"430\" style=\"\" viewBox=\"0 0 1050 430\"><rect x=\"0\" y=\"0\" width=\"1050\" height=\"430\" style=\"fill: rgb(255, 255, 255); fill-opacity: 1;\"/><defs id=\"defs-181772\"><g class=\"clips\"><clipPath id=\"clip181772xyplot\" class=\"plotclip\"><rect width=\"237.4666666666667\" height=\"250\"/></clipPath><clipPath id=\"clip181772x2y2plot\" class=\"plotclip\"><rect width=\"237.4666666666667\" height=\"250\"/></clipPath><clipPath id=\"clip181772x3y3plot\" class=\"plotclip\"><rect width=\"237.46666666666664\" height=\"250\"/></clipPath><clipPath class=\"axesclip\" id=\"clip181772x\"><rect x=\"112\" y=\"0\" width=\"237.4666666666667\" height=\"430\"/></clipPath><clipPath class=\"axesclip\" id=\"clip181772y\"><rect x=\"0\" y=\"100\" width=\"1050\" height=\"250\"/></clipPath><clipPath class=\"axesclip\" id=\"clip181772xy\"><rect x=\"112\" y=\"100\" width=\"237.4666666666667\" height=\"250\"/></clipPath><clipPath class=\"axesclip\" id=\"clip181772y2\"><rect x=\"0\" y=\"100\" width=\"1050\" height=\"250\"/></clipPath><clipPath class=\"axesclip\" id=\"clip181772xy2\"><rect x=\"112\" y=\"100\" width=\"237.4666666666667\" height=\"250\"/></clipPath><clipPath class=\"axesclip\" id=\"clip181772y3\"><rect x=\"0\" y=\"100\" width=\"1050\" height=\"250\"/></clipPath><clipPath class=\"axesclip\" id=\"clip181772xy3\"><rect x=\"112\" y=\"100\" width=\"237.4666666666667\" height=\"250\"/></clipPath><clipPath class=\"axesclip\" id=\"clip181772x2\"><rect x=\"404.26666666666665\" y=\"0\" width=\"237.4666666666667\" height=\"430\"/></clipPath><clipPath class=\"axesclip\" id=\"clip181772x2y\"><rect x=\"404.26666666666665\" y=\"100\" width=\"237.4666666666667\" height=\"250\"/></clipPath><clipPath class=\"axesclip\" id=\"clip181772x2y2\"><rect x=\"404.26666666666665\" y=\"100\" width=\"237.4666666666667\" height=\"250\"/></clipPath><clipPath class=\"axesclip\" id=\"clip181772x2y3\"><rect x=\"404.26666666666665\" y=\"100\" width=\"237.4666666666667\" height=\"250\"/></clipPath><clipPath class=\"axesclip\" id=\"clip181772x3\"><rect x=\"696.5333333333333\" y=\"0\" width=\"237.46666666666664\" height=\"430\"/></clipPath><clipPath class=\"axesclip\" id=\"clip181772x3y\"><rect x=\"696.5333333333333\" y=\"100\" width=\"237.46666666666664\" height=\"250\"/></clipPath><clipPath class=\"axesclip\" id=\"clip181772x3y2\"><rect x=\"696.5333333333333\" y=\"100\" width=\"237.46666666666664\" height=\"250\"/></clipPath><clipPath class=\"axesclip\" id=\"clip181772x3y3\"><rect x=\"696.5333333333333\" y=\"100\" width=\"237.46666666666664\" height=\"250\"/></clipPath></g><g class=\"gradients\"><linearGradient x1=\"0\" x2=\"0\" y1=\"1\" y2=\"0\" id=\"g181772-cb1ee0ac\"><stop offset=\"0%\" stop-color=\"rgb(165, 0, 38)\" stop-opacity=\"1\"/><stop offset=\"10%\" stop-color=\"rgb(215, 48, 39)\" stop-opacity=\"1\"/><stop offset=\"20%\" stop-color=\"rgb(244, 109, 67)\" stop-opacity=\"1\"/><stop offset=\"30%\" stop-color=\"rgb(253, 174, 97)\" stop-opacity=\"1\"/><stop offset=\"40%\" stop-color=\"rgb(254, 224, 139)\" stop-opacity=\"1\"/><stop offset=\"50%\" stop-color=\"rgb(255, 255, 191)\" stop-opacity=\"1\"/><stop offset=\"60%\" stop-color=\"rgb(217, 239, 139)\" stop-opacity=\"1\"/><stop offset=\"70%\" stop-color=\"rgb(166, 217, 106)\" stop-opacity=\"1\"/><stop offset=\"80%\" stop-color=\"rgb(102, 189, 99)\" stop-opacity=\"1\"/><stop offset=\"90%\" stop-color=\"rgb(26, 152, 80)\" stop-opacity=\"1\"/><stop offset=\"100%\" stop-color=\"rgb(0, 104, 55)\" stop-opacity=\"1\"/></linearGradient></g><g class=\"patterns\"/></defs><g class=\"bglayer\"><rect class=\"bg\" x=\"112\" y=\"100\" width=\"237.4666666666667\" height=\"250\" style=\"fill: rgb(229, 236, 246); fill-opacity: 1; stroke-width: 0;\"/><rect class=\"bg\" x=\"404.26666666666665\" y=\"100\" width=\"237.4666666666667\" height=\"250\" style=\"fill: rgb(229, 236, 246); fill-opacity: 1; stroke-width: 0;\"/><rect class=\"bg\" x=\"696.5333333333333\" y=\"100\" width=\"237.46666666666664\" height=\"250\" style=\"fill: rgb(229, 236, 246); fill-opacity: 1; stroke-width: 0;\"/></g><g class=\"layer-below\"><g class=\"imagelayer\"/><g class=\"shapelayer\"/></g><g class=\"cartesianlayer\"><g class=\"subplot xy\"><g class=\"layer-subplot\"><g class=\"shapelayer\"/><g class=\"imagelayer\"/></g><g class=\"minor-gridlayer\"><g class=\"x\"/><g class=\"y\"/></g><g class=\"gridlayer\"><g class=\"x\"><path class=\"xgrid crisp\" transform=\"translate(151.57999999999998,0)\" d=\"M0,100v250\" style=\"stroke: rgb(255, 255, 255); stroke-opacity: 1; stroke-width: 1px;\"/><path class=\"xgrid crisp\" transform=\"translate(230.73000000000002,0)\" d=\"M0,100v250\" style=\"stroke: rgb(255, 255, 255); stroke-opacity: 1; stroke-width: 1px;\"/><path class=\"xgrid crisp\" transform=\"translate(309.89,0)\" d=\"M0,100v250\" style=\"stroke: rgb(255, 255, 255); stroke-opacity: 1; stroke-width: 1px;\"/></g><g class=\"y\"><path class=\"ygrid crisp\" transform=\"translate(0,308.33000000000004)\" d=\"M112,0h237.4666666666667\" style=\"stroke: rgb(255, 255, 255); stroke-opacity: 1; stroke-width: 1px;\"/><path class=\"ygrid crisp\" transform=\"translate(0,225)\" d=\"M112,0h237.4666666666667\" style=\"stroke: rgb(255, 255, 255); stroke-opacity: 1; stroke-width: 1px;\"/><path class=\"ygrid crisp\" transform=\"translate(0,141.67000000000002)\" d=\"M112,0h237.4666666666667\" style=\"stroke: rgb(255, 255, 255); stroke-opacity: 1; stroke-width: 1px;\"/></g></g><g class=\"zerolinelayer\"/><path class=\"xlines-below\"/><path class=\"ylines-below\"/><g class=\"overlines-below\"/><g class=\"xaxislayer-below\"/><g class=\"yaxislayer-below\"/><g class=\"overaxes-below\"/><g class=\"plot\" transform=\"translate(112,100)\" clip-path=\"url(#clip181772xyplot)\"><g class=\"heatmaplayer mlayer\"><g class=\"hm\"><image xmlns=\"http://www.w3.org/2000/svg\" preserveAspectRatio=\"none\" height=\"250\" width=\"237\" x=\"0\" y=\"0\" xlink:href=\"data:image/png;base64,iVBORw0KGgoAAAANSUhEUgAAAAMAAAADCAYAAABWKLW/AAAALklEQVQYV2O8pK3+/8HD/wwgwPjASf//2aPfGXh4GBgY/52q+P//3UeGswYSDABNexEKsSiSwQAAAABJRU5ErkJggg==\" style=\"image-rendering: pixelated; opacity: 1;\"/><g class=\"heatmap-label\"><text text-anchor=\"middle\" data-notex=\"1\" x=\"40\" y=\"212.2\" style=\"font-family: 'Open Sans', verdana, arial, sans-serif; font-size: 12px; fill: rgb(68, 68, 68); fill-opacity: 1; white-space: pre;\">71</text></g><g class=\"heatmap-label\"><text text-anchor=\"middle\" data-notex=\"1\" x=\"119\" y=\"212.2\" style=\"font-family: 'Open Sans', verdana, arial, sans-serif; font-size: 12px; fill: rgb(68, 68, 68); fill-opacity: 1; white-space: pre;\">64</text></g><g class=\"heatmap-label\"><text text-anchor=\"middle\" data-notex=\"1\" x=\"198\" y=\"212.2\" style=\"font-family: 'Open Sans', verdana, arial, sans-serif; font-size: 12px; fill: rgb(68, 68, 68); fill-opacity: 1; white-space: pre;\">126</text></g><g class=\"heatmap-label\"><text text-anchor=\"middle\" data-notex=\"1\" x=\"40\" y=\"129.2\" style=\"font-family: 'Open Sans', verdana, arial, sans-serif; font-size: 12px; fill: rgb(255, 255, 255); fill-opacity: 1; white-space: pre;\">26</text></g><g class=\"heatmap-label\"><text text-anchor=\"middle\" data-notex=\"1\" x=\"119\" y=\"129.2\" style=\"font-family: 'Open Sans', verdana, arial, sans-serif; font-size: 12px; fill: rgb(255, 255, 255); fill-opacity: 1; white-space: pre;\">3</text></g><g class=\"heatmap-label\"><text text-anchor=\"middle\" data-notex=\"1\" x=\"198\" y=\"129.2\" style=\"font-family: 'Open Sans', verdana, arial, sans-serif; font-size: 12px; fill: rgb(255, 255, 255); fill-opacity: 1; white-space: pre;\">8</text></g><g class=\"heatmap-label\"><text text-anchor=\"middle\" data-notex=\"1\" x=\"40\" y=\"46.2\" style=\"font-family: 'Open Sans', verdana, arial, sans-serif; font-size: 12px; fill: rgb(255, 255, 255); fill-opacity: 1; white-space: pre;\">18</text></g><g class=\"heatmap-label\"><text text-anchor=\"middle\" data-notex=\"1\" x=\"119\" y=\"46.2\" style=\"font-family: 'Open Sans', verdana, arial, sans-serif; font-size: 12px; fill: rgb(255, 255, 255); fill-opacity: 1; white-space: pre;\">5</text></g><g class=\"heatmap-label\"><text text-anchor=\"middle\" data-notex=\"1\" x=\"198\" y=\"46.2\" style=\"font-family: 'Open Sans', verdana, arial, sans-serif; font-size: 12px; fill: rgb(255, 255, 255); fill-opacity: 1; white-space: pre;\">5</text></g></g></g></g><g class=\"overplot\"/><path class=\"xlines-above crisp\" style=\"fill: none;\" d=\"M0,0\"/><path class=\"ylines-above crisp\" style=\"fill: none;\" d=\"M0,0\"/><g class=\"overlines-above\"/><g class=\"xaxislayer-above\"><g class=\"xtick\"><text text-anchor=\"middle\" x=\"0\" y=\"363\" transform=\"translate(151.57999999999998,0)\" style=\"font-family: 'Open Sans', verdana, arial, sans-serif; font-size: 12px; fill: rgb(42, 63, 95); fill-opacity: 1; white-space: pre; opacity: 1;\">[0, 198]</text></g><g class=\"xtick\"><text text-anchor=\"middle\" x=\"0\" y=\"363\" transform=\"translate(230.73000000000002,0)\" style=\"font-family: 'Open Sans', verdana, arial, sans-serif; font-size: 12px; fill: rgb(42, 63, 95); fill-opacity: 1; white-space: pre; opacity: 1;\">(198, 694]</text></g><g class=\"xtick\"><text text-anchor=\"middle\" x=\"0\" y=\"363\" transform=\"translate(309.89,0)\" style=\"font-family: 'Open Sans', verdana, arial, sans-serif; font-size: 12px; fill: rgb(42, 63, 95); fill-opacity: 1; white-space: pre; opacity: 1;\">(694, 20056]</text></g></g><g class=\"yaxislayer-above\"><g class=\"ytick\"><text text-anchor=\"end\" x=\"111\" y=\"4.199999999999999\" transform=\"translate(0,308.33000000000004)\" style=\"font-family: 'Open Sans', verdana, arial, sans-serif; font-size: 12px; fill: rgb(42, 63, 95); fill-opacity: 1; white-space: pre; opacity: 1;\">[-0, 15]</text></g><g class=\"ytick\"><text text-anchor=\"end\" x=\"111\" y=\"4.199999999999999\" transform=\"translate(0,225)\" style=\"font-family: 'Open Sans', verdana, arial, sans-serif; font-size: 12px; fill: rgb(42, 63, 95); fill-opacity: 1; white-space: pre; opacity: 1;\">(15.0, 30.0]</text></g><g class=\"ytick\"><text text-anchor=\"end\" x=\"111\" y=\"4.199999999999999\" transform=\"translate(0,141.67000000000002)\" style=\"font-family: 'Open Sans', verdana, arial, sans-serif; font-size: 12px; fill: rgb(42, 63, 95); fill-opacity: 1; white-space: pre; opacity: 1;\">(30.0, 50.0]</text></g></g><g class=\"overaxes-above\"/></g><g class=\"subplot x2y2\"><g class=\"layer-subplot\"><g class=\"shapelayer\"/><g class=\"imagelayer\"/></g><g class=\"minor-gridlayer\"><g class=\"x2\"/><g class=\"y2\"/></g><g class=\"gridlayer\"><g class=\"x2\"><path class=\"x2grid crisp\" transform=\"translate(443.84666666666664,0)\" d=\"M0,100v250\" style=\"stroke: rgb(255, 255, 255); stroke-opacity: 1; stroke-width: 1px;\"/><path class=\"x2grid crisp\" transform=\"translate(522.9966666666667,0)\" d=\"M0,100v250\" style=\"stroke: rgb(255, 255, 255); stroke-opacity: 1; stroke-width: 1px;\"/><path class=\"x2grid crisp\" transform=\"translate(602.1566666666666,0)\" d=\"M0,100v250\" style=\"stroke: rgb(255, 255, 255); stroke-opacity: 1; stroke-width: 1px;\"/></g><g class=\"y2\"><path class=\"y2grid crisp\" transform=\"translate(0,308.33000000000004)\" d=\"M404.26666666666665,0h237.4666666666667\" style=\"stroke: rgb(255, 255, 255); stroke-opacity: 1; stroke-width: 1px;\"/><path class=\"y2grid crisp\" transform=\"translate(0,225)\" d=\"M404.26666666666665,0h237.4666666666667\" style=\"stroke: rgb(255, 255, 255); stroke-opacity: 1; stroke-width: 1px;\"/><path class=\"y2grid crisp\" transform=\"translate(0,141.67000000000002)\" d=\"M404.26666666666665,0h237.4666666666667\" style=\"stroke: rgb(255, 255, 255); stroke-opacity: 1; stroke-width: 1px;\"/></g></g><g class=\"zerolinelayer\"/><path class=\"xlines-below\"/><path class=\"ylines-below\"/><g class=\"overlines-below\"/><g class=\"xaxislayer-below\"/><g class=\"yaxislayer-below\"/><g class=\"overaxes-below\"/><g class=\"plot\" transform=\"translate(404.26666666666665,100)\" clip-path=\"url(#clip181772x2y2plot)\"><g class=\"heatmaplayer mlayer\"><g class=\"hm\"><image xmlns=\"http://www.w3.org/2000/svg\" preserveAspectRatio=\"none\" height=\"250\" width=\"237\" x=\"0\" y=\"0\" xlink:href=\"data:image/png;base64,iVBORw0KGgoAAAANSUhEUgAAAAMAAAADCAYAAABWKLW/AAAAMElEQVQYV2O8Yazx/+qVfwxMzAwMjE+8Tf4f2/WJgYuTgYHx97yo/0xS/AyXjKUZADZ5DgbUBHQ1AAAAAElFTkSuQmCC\" style=\"image-rendering: pixelated; opacity: 1;\"/><g class=\"heatmap-label\"><text text-anchor=\"middle\" data-notex=\"1\" x=\"40\" y=\"212.2\" style=\"font-family: 'Open Sans', verdana, arial, sans-serif; font-size: 12px; fill: rgb(68, 68, 68); fill-opacity: 1; white-space: pre;\">55</text></g><g class=\"heatmap-label\"><text text-anchor=\"middle\" data-notex=\"1\" x=\"119\" y=\"212.2\" style=\"font-family: 'Open Sans', verdana, arial, sans-serif; font-size: 12px; fill: rgb(68, 68, 68); fill-opacity: 1; white-space: pre;\">64</text></g><g class=\"heatmap-label\"><text text-anchor=\"middle\" data-notex=\"1\" x=\"198\" y=\"212.2\" style=\"font-family: 'Open Sans', verdana, arial, sans-serif; font-size: 12px; fill: rgb(68, 68, 68); fill-opacity: 1; white-space: pre;\">124</text></g><g class=\"heatmap-label\"><text text-anchor=\"middle\" data-notex=\"1\" x=\"40\" y=\"129.2\" style=\"font-family: 'Open Sans', verdana, arial, sans-serif; font-size: 12px; fill: rgb(255, 255, 255); fill-opacity: 1; white-space: pre;\">29</text></g><g class=\"heatmap-label\"><text text-anchor=\"middle\" data-notex=\"1\" x=\"119\" y=\"129.2\" style=\"font-family: 'Open Sans', verdana, arial, sans-serif; font-size: 12px; fill: rgb(255, 255, 255); fill-opacity: 1; white-space: pre;\">2</text></g><g class=\"heatmap-label\"><text text-anchor=\"middle\" data-notex=\"1\" x=\"198\" y=\"129.2\" style=\"font-family: 'Open Sans', verdana, arial, sans-serif; font-size: 12px; fill: rgb(255, 255, 255); fill-opacity: 1; white-space: pre;\">6</text></g><g class=\"heatmap-label\"><text text-anchor=\"middle\" data-notex=\"1\" x=\"40\" y=\"46.2\" style=\"font-family: 'Open Sans', verdana, arial, sans-serif; font-size: 12px; fill: rgb(255, 255, 255); fill-opacity: 1; white-space: pre;\">21</text></g><g class=\"heatmap-label\"><text text-anchor=\"middle\" data-notex=\"1\" x=\"119\" y=\"46.2\" style=\"font-family: 'Open Sans', verdana, arial, sans-serif; font-size: 12px; fill: rgb(255, 255, 255); fill-opacity: 1; white-space: pre;\">3</text></g><g class=\"heatmap-label\"><text text-anchor=\"middle\" data-notex=\"1\" x=\"198\" y=\"46.2\" style=\"font-family: 'Open Sans', verdana, arial, sans-serif; font-size: 12px; fill: rgb(255, 255, 255); fill-opacity: 1; white-space: pre;\">4</text></g></g></g></g><g class=\"overplot\"/><path class=\"xlines-above crisp\" style=\"fill: none;\" d=\"M0,0\"/><path class=\"ylines-above crisp\" style=\"fill: none;\" d=\"M0,0\"/><g class=\"overlines-above\"/><g class=\"xaxislayer-above\"><g class=\"x2tick\"><text text-anchor=\"middle\" x=\"0\" y=\"363\" transform=\"translate(443.84666666666664,0)\" style=\"font-family: 'Open Sans', verdana, arial, sans-serif; font-size: 12px; fill: rgb(42, 63, 95); fill-opacity: 1; white-space: pre; opacity: 1;\">[0, 198]</text></g><g class=\"x2tick\"><text text-anchor=\"middle\" x=\"0\" y=\"363\" transform=\"translate(522.9966666666667,0)\" style=\"font-family: 'Open Sans', verdana, arial, sans-serif; font-size: 12px; fill: rgb(42, 63, 95); fill-opacity: 1; white-space: pre; opacity: 1;\">(198, 694]</text></g><g class=\"x2tick\"><text text-anchor=\"middle\" x=\"0\" y=\"363\" transform=\"translate(602.1566666666666,0)\" style=\"font-family: 'Open Sans', verdana, arial, sans-serif; font-size: 12px; fill: rgb(42, 63, 95); fill-opacity: 1; white-space: pre; opacity: 1;\">(694, 20056]</text></g></g><g class=\"yaxislayer-above\"/><g class=\"overaxes-above\"/></g><g class=\"subplot x3y3\"><g class=\"layer-subplot\"><g class=\"shapelayer\"/><g class=\"imagelayer\"/></g><g class=\"minor-gridlayer\"><g class=\"x3\"/><g class=\"y3\"/></g><g class=\"gridlayer\"><g class=\"x3\"><path class=\"x3grid crisp\" transform=\"translate(736.1133333333333,0)\" d=\"M0,100v250\" style=\"stroke: rgb(255, 255, 255); stroke-opacity: 1; stroke-width: 1px;\"/><path class=\"x3grid crisp\" transform=\"translate(815.2633333333333,0)\" d=\"M0,100v250\" style=\"stroke: rgb(255, 255, 255); stroke-opacity: 1; stroke-width: 1px;\"/><path class=\"x3grid crisp\" transform=\"translate(894.4233333333333,0)\" d=\"M0,100v250\" style=\"stroke: rgb(255, 255, 255); stroke-opacity: 1; stroke-width: 1px;\"/></g><g class=\"y3\"><path class=\"y3grid crisp\" transform=\"translate(0,308.33000000000004)\" d=\"M696.5333333333333,0h237.46666666666664\" style=\"stroke: rgb(255, 255, 255); stroke-opacity: 1; stroke-width: 1px;\"/><path class=\"y3grid crisp\" transform=\"translate(0,225)\" d=\"M696.5333333333333,0h237.46666666666664\" style=\"stroke: rgb(255, 255, 255); stroke-opacity: 1; stroke-width: 1px;\"/><path class=\"y3grid crisp\" transform=\"translate(0,141.67000000000002)\" d=\"M696.5333333333333,0h237.46666666666664\" style=\"stroke: rgb(255, 255, 255); stroke-opacity: 1; stroke-width: 1px;\"/></g></g><g class=\"zerolinelayer\"/><path class=\"xlines-below\"/><path class=\"ylines-below\"/><g class=\"overlines-below\"/><g class=\"xaxislayer-below\"/><g class=\"yaxislayer-below\"/><g class=\"overaxes-below\"/><g class=\"plot\" transform=\"translate(696.5333333333333,100)\" clip-path=\"url(#clip181772x3y3plot)\"><g class=\"heatmaplayer mlayer\"><g class=\"hm\"><image xmlns=\"http://www.w3.org/2000/svg\" preserveAspectRatio=\"none\" height=\"250\" width=\"237\" x=\"0\" y=\"0\" xlink:href=\"data:image/png;base64,iVBORw0KGgoAAAANSUhEUgAAAAMAAAADCAYAAABWKLW/AAAAMElEQVQYV2PcI6b23zJOgYFJgIOBcSmD2n9xMQYGHh5GBsa/u3P+3yrdzfDqFQMDAMbiC91x0obZAAAAAElFTkSuQmCC\" style=\"image-rendering: pixelated; opacity: 1;\"/><g class=\"heatmap-label\"><text text-anchor=\"middle\" data-notex=\"1\" x=\"40\" y=\"212.2\" style=\"font-family: 'Open Sans', verdana, arial, sans-serif; font-size: 12px; fill: rgb(68, 68, 68); fill-opacity: 1; white-space: pre;\">65</text></g><g class=\"heatmap-label\"><text text-anchor=\"middle\" data-notex=\"1\" x=\"119\" y=\"212.2\" style=\"font-family: 'Open Sans', verdana, arial, sans-serif; font-size: 12px; fill: rgb(255, 255, 255); fill-opacity: 1; white-space: pre;\">20</text></g><g class=\"heatmap-label\"><text text-anchor=\"middle\" data-notex=\"1\" x=\"198\" y=\"212.2\" style=\"font-family: 'Open Sans', verdana, arial, sans-serif; font-size: 12px; fill: rgb(255, 255, 255); fill-opacity: 1; white-space: pre;\">11</text></g><g class=\"heatmap-label\"><text text-anchor=\"middle\" data-notex=\"1\" x=\"40\" y=\"129.2\" style=\"font-family: 'Open Sans', verdana, arial, sans-serif; font-size: 12px; fill: rgb(255, 255, 255); fill-opacity: 1; white-space: pre;\">0</text></g><g class=\"heatmap-label\"><text text-anchor=\"middle\" data-notex=\"1\" x=\"119\" y=\"129.2\" style=\"font-family: 'Open Sans', verdana, arial, sans-serif; font-size: 12px; fill: rgb(255, 255, 255); fill-opacity: 1; white-space: pre;\">9</text></g><g class=\"heatmap-label\"><text text-anchor=\"middle\" data-notex=\"1\" x=\"198\" y=\"129.2\" style=\"font-family: 'Open Sans', verdana, arial, sans-serif; font-size: 12px; fill: rgb(255, 255, 255); fill-opacity: 1; white-space: pre;\">14</text></g><g class=\"heatmap-label\"><text text-anchor=\"middle\" data-notex=\"1\" x=\"40\" y=\"46.2\" style=\"font-family: 'Open Sans', verdana, arial, sans-serif; font-size: 12px; fill: rgb(255, 255, 255); fill-opacity: 1; white-space: pre;\">9</text></g><g class=\"heatmap-label\"><text text-anchor=\"middle\" data-notex=\"1\" x=\"119\" y=\"46.2\" style=\"font-family: 'Open Sans', verdana, arial, sans-serif; font-size: 12px; fill: rgb(68, 68, 68); fill-opacity: 1; white-space: pre;\">42</text></g><g class=\"heatmap-label\"><text text-anchor=\"middle\" data-notex=\"1\" x=\"198\" y=\"46.2\" style=\"font-family: 'Open Sans', verdana, arial, sans-serif; font-size: 12px; fill: rgb(68, 68, 68); fill-opacity: 1; white-space: pre;\">47</text></g></g></g></g><g class=\"overplot\"/><path class=\"xlines-above crisp\" style=\"fill: none;\" d=\"M0,0\"/><path class=\"ylines-above crisp\" style=\"fill: none;\" d=\"M0,0\"/><g class=\"overlines-above\"/><g class=\"xaxislayer-above\"><g class=\"x3tick\"><text text-anchor=\"middle\" x=\"0\" y=\"363\" transform=\"translate(736.1133333333333,0)\" style=\"font-family: 'Open Sans', verdana, arial, sans-serif; font-size: 12px; fill: rgb(42, 63, 95); fill-opacity: 1; white-space: pre; opacity: 1;\">[0, 13]</text></g><g class=\"x3tick\"><text text-anchor=\"middle\" x=\"0\" y=\"363\" transform=\"translate(815.2633333333333,0)\" style=\"font-family: 'Open Sans', verdana, arial, sans-serif; font-size: 12px; fill: rgb(42, 63, 95); fill-opacity: 1; white-space: pre; opacity: 1;\">(13, 33]</text></g><g class=\"x3tick\"><text text-anchor=\"middle\" x=\"0\" y=\"363\" transform=\"translate(894.4233333333333,0)\" style=\"font-family: 'Open Sans', verdana, arial, sans-serif; font-size: 12px; fill: rgb(42, 63, 95); fill-opacity: 1; white-space: pre; opacity: 1;\">(33, 20056]</text></g></g><g class=\"yaxislayer-above\"/><g class=\"overaxes-above\"/></g></g><g class=\"polarlayer\"/><g class=\"smithlayer\"/><g class=\"ternarylayer\"/><g class=\"geolayer\"/><g class=\"funnelarealayer\"/><g class=\"pielayer\"/><g class=\"iciclelayer\"/><g class=\"treemaplayer\"/><g class=\"sunburstlayer\"/><g class=\"glimages\"/><defs id=\"topdefs-181772\"><g class=\"clips\"/></defs><g class=\"layer-above\"><g class=\"imagelayer\"/><g class=\"shapelayer\"/></g><g class=\"infolayer\"><g class=\"cb1ee0ac colorbar\" transform=\"translate(112,100)\"><rect class=\"cbbg\" x=\"838\" y=\"0\" width=\"88.046875\" height=\"250\" style=\"fill: rgb(0, 0, 0); fill-opacity: 0; stroke: rgb(68, 68, 68); stroke-opacity: 1; stroke-width: 0;\"/><g class=\"cbfills\" transform=\"translate(0,33)\"><rect class=\"cbfill gradient_filled\" style=\"fill: url('#g181772-cb1ee0ac');\" x=\"848\" y=\"0\" width=\"30\" height=\"207\"/></g><g class=\"cblines\" transform=\"translate(0,33)\"/><g class=\"cbaxis crisp\" transform=\"translate(0,-100)\"><g class=\"ycb1ee0actick\"><text text-anchor=\"start\" x=\"880.9\" y=\"4.199999999999999\" transform=\"translate(0,339.999375)\" style=\"font-family: 'Open Sans', verdana, arial, sans-serif; font-size: 12px; fill: rgb(42, 63, 95); fill-opacity: 1; white-space: pre; opacity: 1;\">0</text></g><g class=\"ycb1ee0actick\"><text text-anchor=\"start\" x=\"880.9\" y=\"4.199999999999999\" style=\"font-family: 'Open Sans', verdana, arial, sans-serif; font-size: 12px; fill: rgb(42, 63, 95); fill-opacity: 1; white-space: pre; opacity: 1;\" transform=\"translate(0,288.14937499999996)\">50</text></g><g class=\"ycb1ee0actick\"><text text-anchor=\"start\" x=\"880.9\" y=\"4.199999999999999\" style=\"font-family: 'Open Sans', verdana, arial, sans-serif; font-size: 12px; fill: rgb(42, 63, 95); fill-opacity: 1; white-space: pre; opacity: 1;\" transform=\"translate(0,236.309375)\">100</text></g><g class=\"ycb1ee0actick\"><text text-anchor=\"start\" x=\"880.9\" y=\"4.199999999999999\" style=\"font-family: 'Open Sans', verdana, arial, sans-serif; font-size: 12px; fill: rgb(42, 63, 95); fill-opacity: 1; white-space: pre; opacity: 1;\" transform=\"translate(0,184.459375)\">150</text></g><g class=\"ycb1ee0actick\"><text text-anchor=\"start\" x=\"880.9\" y=\"4.199999999999999\" style=\"font-family: 'Open Sans', verdana, arial, sans-serif; font-size: 12px; fill: rgb(42, 63, 95); fill-opacity: 1; white-space: pre; opacity: 1;\" transform=\"translate(0,132.609375)\">200</text></g></g><g class=\"cbtitleunshift\" transform=\"translate(-112,-100)\"><g class=\"cbtitle\" transform=\"\"><text class=\"ycb1ee0actitle\" x=\"960.44\" y=\"123.5\" text-anchor=\"start\" style=\"font-family: 'Open Sans', verdana, arial, sans-serif; font-size: 14px; fill: rgb(42, 63, 95); opacity: 1; font-weight: normal; white-space: pre;\">Pearson r</text></g></g><rect class=\"cboutline\" x=\"848\" y=\"32.609375\" width=\"30\" height=\"207.390625\" style=\"stroke: rgb(68, 68, 68); stroke-opacity: 1; fill: none; stroke-width: 0;\"/></g><g class=\"g-gtitle\"/><g class=\"g-xtitle\"><text class=\"xtitle\" x=\"230.73333333333335\" y=\"389.70625\" text-anchor=\"middle\" style=\"font-family: 'Open Sans', verdana, arial, sans-serif; font-size: 14px; fill: rgb(42, 63, 95); opacity: 1; font-weight: normal; white-space: pre;\">#compound-target pairs per accession</text></g><g class=\"g-x2title\"><text class=\"x2title\" x=\"523\" y=\"389.70625\" text-anchor=\"middle\" style=\"font-family: 'Open Sans', verdana, arial, sans-serif; font-size: 14px; fill: rgb(42, 63, 95); opacity: 1; font-weight: normal; white-space: pre;\">#compound-target pairs per accession</text></g><g class=\"g-x3title\"><text class=\"x3title\" x=\"815.2666666666667\" y=\"389.70625\" text-anchor=\"middle\" style=\"font-family: 'Open Sans', verdana, arial, sans-serif; font-size: 14px; fill: rgb(42, 63, 95); opacity: 1; font-weight: normal; white-space: pre;\">#compound-target pairs per accession</text></g><g class=\"g-ytitle\" transform=\"translate(1.7060546875,0)\"><text class=\"ytitle\" transform=\"rotate(-90,12.700000000000003,225)\" x=\"12.700000000000003\" y=\"225\" text-anchor=\"middle\" style=\"font-family: 'Open Sans', verdana, arial, sans-serif; font-size: 14px; fill: rgb(42, 63, 95); opacity: 1; font-weight: normal; white-space: pre;\">Minority class (WT/mutant) %</text></g><g class=\"g-y2title\"/><g class=\"g-y3title\"/><g class=\"annotation\" data-index=\"0\" style=\"opacity: 1;\"><g class=\"annotation-text-g\" transform=\"rotate(0,230.73333333333335,88.5)\"><g class=\"cursor-pointer\" transform=\"translate(159,77)\"><rect class=\"bg\" x=\"0.5\" y=\"0.5\" width=\"142\" height=\"22\" style=\"stroke-width: 1px; stroke: rgb(0, 0, 0); stroke-opacity: 0; fill: rgb(0, 0, 0); fill-opacity: 0;\"/><text class=\"annotation-text\" text-anchor=\"middle\" x=\"71.3125\" y=\"18\" style=\"font-family: 'Open Sans', verdana, arial, sans-serif; font-size: 16px; fill: rgb(42, 63, 95); fill-opacity: 1; white-space: pre;\">complete dataset</text></g></g></g><g class=\"annotation\" data-index=\"1\" style=\"opacity: 1;\"><g class=\"annotation-text-g\" transform=\"rotate(0,523,88.5)\"><g class=\"cursor-pointer\" transform=\"translate(479,77)\"><rect class=\"bg\" x=\"0.5\" y=\"0.5\" width=\"87\" height=\"22\" style=\"stroke-width: 1px; stroke: rgb(0, 0, 0); stroke-opacity: 0; fill: rgb(0, 0, 0); fill-opacity: 0;\"/><text class=\"annotation-text\" text-anchor=\"middle\" x=\"43.75\" y=\"18\" style=\"font-family: 'Open Sans', verdana, arial, sans-serif; font-size: 16px; fill: rgb(42, 63, 95); fill-opacity: 1; white-space: pre;\">no mutant</text></g></g></g><g class=\"annotation\" data-index=\"2\" style=\"opacity: 1;\"><g class=\"annotation-text-g\" transform=\"rotate(0,815.2666666666668,88.5)\"><g class=\"cursor-pointer\" transform=\"translate(750,77)\"><rect class=\"bg\" x=\"0.5\" y=\"0.5\" width=\"130\" height=\"22\" style=\"stroke-width: 1px; stroke: rgb(0, 0, 0); stroke-opacity: 0; fill: rgb(0, 0, 0); fill-opacity: 0;\"/><text class=\"annotation-text\" text-anchor=\"middle\" x=\"65.625\" y=\"18\" style=\"font-family: 'Open Sans', verdana, arial, sans-serif; font-size: 16px; fill: rgb(42, 63, 95); fill-opacity: 1; white-space: pre;\">common subset</text></g></g></g></g></svg>"
      ],
      "text/plain": [
       "<IPython.core.display.SVG object>"
      ]
     },
     "metadata": {},
     "output_type": "display_data"
    },
    {
     "data": {
      "image/svg+xml": [
       "<svg xmlns=\"http://www.w3.org/2000/svg\" xmlns:xlink=\"http://www.w3.org/1999/xlink\" class=\"main-svg\" width=\"1050\" height=\"430\" style=\"\" viewBox=\"0 0 1050 430\"><rect x=\"0\" y=\"0\" width=\"1050\" height=\"430\" style=\"fill: rgb(255, 255, 255); fill-opacity: 1;\"/><defs id=\"defs-f3f8e3\"><g class=\"clips\"><clipPath id=\"clipf3f8e3xyplot\" class=\"plotclip\"><rect width=\"237.4666666666667\" height=\"250\"/></clipPath><clipPath id=\"clipf3f8e3x2y2plot\" class=\"plotclip\"><rect width=\"237.4666666666667\" height=\"250\"/></clipPath><clipPath id=\"clipf3f8e3x3y3plot\" class=\"plotclip\"><rect width=\"237.46666666666664\" height=\"250\"/></clipPath><clipPath class=\"axesclip\" id=\"clipf3f8e3x\"><rect x=\"112\" y=\"0\" width=\"237.4666666666667\" height=\"430\"/></clipPath><clipPath class=\"axesclip\" id=\"clipf3f8e3y\"><rect x=\"0\" y=\"100\" width=\"1050\" height=\"250\"/></clipPath><clipPath class=\"axesclip\" id=\"clipf3f8e3xy\"><rect x=\"112\" y=\"100\" width=\"237.4666666666667\" height=\"250\"/></clipPath><clipPath class=\"axesclip\" id=\"clipf3f8e3y2\"><rect x=\"0\" y=\"100\" width=\"1050\" height=\"250\"/></clipPath><clipPath class=\"axesclip\" id=\"clipf3f8e3xy2\"><rect x=\"112\" y=\"100\" width=\"237.4666666666667\" height=\"250\"/></clipPath><clipPath class=\"axesclip\" id=\"clipf3f8e3y3\"><rect x=\"0\" y=\"100\" width=\"1050\" height=\"250\"/></clipPath><clipPath class=\"axesclip\" id=\"clipf3f8e3xy3\"><rect x=\"112\" y=\"100\" width=\"237.4666666666667\" height=\"250\"/></clipPath><clipPath class=\"axesclip\" id=\"clipf3f8e3x2\"><rect x=\"404.26666666666665\" y=\"0\" width=\"237.4666666666667\" height=\"430\"/></clipPath><clipPath class=\"axesclip\" id=\"clipf3f8e3x2y\"><rect x=\"404.26666666666665\" y=\"100\" width=\"237.4666666666667\" height=\"250\"/></clipPath><clipPath class=\"axesclip\" id=\"clipf3f8e3x2y2\"><rect x=\"404.26666666666665\" y=\"100\" width=\"237.4666666666667\" height=\"250\"/></clipPath><clipPath class=\"axesclip\" id=\"clipf3f8e3x2y3\"><rect x=\"404.26666666666665\" y=\"100\" width=\"237.4666666666667\" height=\"250\"/></clipPath><clipPath class=\"axesclip\" id=\"clipf3f8e3x3\"><rect x=\"696.5333333333333\" y=\"0\" width=\"237.46666666666664\" height=\"430\"/></clipPath><clipPath class=\"axesclip\" id=\"clipf3f8e3x3y\"><rect x=\"696.5333333333333\" y=\"100\" width=\"237.46666666666664\" height=\"250\"/></clipPath><clipPath class=\"axesclip\" id=\"clipf3f8e3x3y2\"><rect x=\"696.5333333333333\" y=\"100\" width=\"237.46666666666664\" height=\"250\"/></clipPath><clipPath class=\"axesclip\" id=\"clipf3f8e3x3y3\"><rect x=\"696.5333333333333\" y=\"100\" width=\"237.46666666666664\" height=\"250\"/></clipPath></g><g class=\"gradients\"><linearGradient x1=\"0\" x2=\"0\" y1=\"1\" y2=\"0\" id=\"gf3f8e3-cbcf4294\"><stop offset=\"0%\" stop-color=\"rgb(165, 0, 38)\" stop-opacity=\"1\"/><stop offset=\"10%\" stop-color=\"rgb(215, 48, 39)\" stop-opacity=\"1\"/><stop offset=\"20%\" stop-color=\"rgb(244, 109, 67)\" stop-opacity=\"1\"/><stop offset=\"30%\" stop-color=\"rgb(253, 174, 97)\" stop-opacity=\"1\"/><stop offset=\"40%\" stop-color=\"rgb(254, 224, 139)\" stop-opacity=\"1\"/><stop offset=\"50%\" stop-color=\"rgb(255, 255, 191)\" stop-opacity=\"1\"/><stop offset=\"60%\" stop-color=\"rgb(217, 239, 139)\" stop-opacity=\"1\"/><stop offset=\"70%\" stop-color=\"rgb(166, 217, 106)\" stop-opacity=\"1\"/><stop offset=\"80%\" stop-color=\"rgb(102, 189, 99)\" stop-opacity=\"1\"/><stop offset=\"90%\" stop-color=\"rgb(26, 152, 80)\" stop-opacity=\"1\"/><stop offset=\"100%\" stop-color=\"rgb(0, 104, 55)\" stop-opacity=\"1\"/></linearGradient></g><g class=\"patterns\"/></defs><g class=\"bglayer\"><rect class=\"bg\" x=\"112\" y=\"100\" width=\"237.4666666666667\" height=\"250\" style=\"fill: rgb(229, 236, 246); fill-opacity: 1; stroke-width: 0;\"/><rect class=\"bg\" x=\"404.26666666666665\" y=\"100\" width=\"237.4666666666667\" height=\"250\" style=\"fill: rgb(229, 236, 246); fill-opacity: 1; stroke-width: 0;\"/><rect class=\"bg\" x=\"696.5333333333333\" y=\"100\" width=\"237.46666666666664\" height=\"250\" style=\"fill: rgb(229, 236, 246); fill-opacity: 1; stroke-width: 0;\"/></g><g class=\"layer-below\"><g class=\"imagelayer\"/><g class=\"shapelayer\"/></g><g class=\"cartesianlayer\"><g class=\"subplot xy\"><g class=\"layer-subplot\"><g class=\"shapelayer\"/><g class=\"imagelayer\"/></g><g class=\"minor-gridlayer\"><g class=\"x\"/><g class=\"y\"/></g><g class=\"gridlayer\"><g class=\"x\"><path class=\"xgrid crisp\" transform=\"translate(151.57999999999998,0)\" d=\"M0,100v250\" style=\"stroke: rgb(255, 255, 255); stroke-opacity: 1; stroke-width: 1px;\"/><path class=\"xgrid crisp\" transform=\"translate(230.73000000000002,0)\" d=\"M0,100v250\" style=\"stroke: rgb(255, 255, 255); stroke-opacity: 1; stroke-width: 1px;\"/><path class=\"xgrid crisp\" transform=\"translate(309.89,0)\" d=\"M0,100v250\" style=\"stroke: rgb(255, 255, 255); stroke-opacity: 1; stroke-width: 1px;\"/></g><g class=\"y\"><path class=\"ygrid crisp\" transform=\"translate(0,308.33000000000004)\" d=\"M112,0h237.4666666666667\" style=\"stroke: rgb(255, 255, 255); stroke-opacity: 1; stroke-width: 1px;\"/><path class=\"ygrid crisp\" transform=\"translate(0,225)\" d=\"M112,0h237.4666666666667\" style=\"stroke: rgb(255, 255, 255); stroke-opacity: 1; stroke-width: 1px;\"/><path class=\"ygrid crisp\" transform=\"translate(0,141.67000000000002)\" d=\"M112,0h237.4666666666667\" style=\"stroke: rgb(255, 255, 255); stroke-opacity: 1; stroke-width: 1px;\"/></g></g><g class=\"zerolinelayer\"/><path class=\"xlines-below\"/><path class=\"ylines-below\"/><g class=\"overlines-below\"/><g class=\"xaxislayer-below\"/><g class=\"yaxislayer-below\"/><g class=\"overaxes-below\"/><g class=\"plot\" transform=\"translate(112,100)\" clip-path=\"url(#clipf3f8e3xyplot)\"><g class=\"heatmaplayer mlayer\"><g class=\"hm\"><image xmlns=\"http://www.w3.org/2000/svg\" preserveAspectRatio=\"none\" height=\"250\" width=\"237\" x=\"0\" y=\"0\" xlink:href=\"data:image/png;base64,iVBORw0KGgoAAAANSUhEUgAAAAMAAAADCAYAAABWKLW/AAAAMklEQVQYVwEnANj/AbkTJv/7+wAA+/wAAAHGHyf/9vf/APP0AAAB3j8u//Ts+QARHQsAeIMSHOPv3LQAAAAASUVORK5CYII=\" style=\"image-rendering: pixelated; opacity: 1;\"/><g class=\"heatmap-label\"><text text-anchor=\"middle\" data-notex=\"1\" x=\"40\" y=\"212.2\" style=\"font-family: 'Open Sans', verdana, arial, sans-serif; font-size: 12px; fill: rgb(255, 255, 255); fill-opacity: 1; white-space: pre;\">25</text></g><g class=\"heatmap-label\"><text text-anchor=\"middle\" data-notex=\"1\" x=\"119\" y=\"212.2\" style=\"font-family: 'Open Sans', verdana, arial, sans-serif; font-size: 12px; fill: rgb(255, 255, 255); fill-opacity: 1; white-space: pre;\">18</text></g><g class=\"heatmap-label\"><text text-anchor=\"middle\" data-notex=\"1\" x=\"198\" y=\"212.2\" style=\"font-family: 'Open Sans', verdana, arial, sans-serif; font-size: 12px; fill: rgb(255, 255, 255); fill-opacity: 1; white-space: pre;\">28</text></g><g class=\"heatmap-label\"><text text-anchor=\"middle\" data-notex=\"1\" x=\"40\" y=\"129.2\" style=\"font-family: 'Open Sans', verdana, arial, sans-serif; font-size: 12px; fill: rgb(255, 255, 255); fill-opacity: 1; white-space: pre;\">13</text></g><g class=\"heatmap-label\"><text text-anchor=\"middle\" data-notex=\"1\" x=\"119\" y=\"129.2\" style=\"font-family: 'Open Sans', verdana, arial, sans-serif; font-size: 12px; fill: rgb(255, 255, 255); fill-opacity: 1; white-space: pre;\">9</text></g><g class=\"heatmap-label\"><text text-anchor=\"middle\" data-notex=\"1\" x=\"198\" y=\"129.2\" style=\"font-family: 'Open Sans', verdana, arial, sans-serif; font-size: 12px; fill: rgb(255, 255, 255); fill-opacity: 1; white-space: pre;\">4</text></g><g class=\"heatmap-label\"><text text-anchor=\"middle\" data-notex=\"1\" x=\"40\" y=\"46.2\" style=\"font-family: 'Open Sans', verdana, arial, sans-serif; font-size: 12px; fill: rgb(255, 255, 255); fill-opacity: 1; white-space: pre;\">8</text></g><g class=\"heatmap-label\"><text text-anchor=\"middle\" data-notex=\"1\" x=\"119\" y=\"46.2\" style=\"font-family: 'Open Sans', verdana, arial, sans-serif; font-size: 12px; fill: rgb(255, 255, 255); fill-opacity: 1; white-space: pre;\">6</text></g><g class=\"heatmap-label\"><text text-anchor=\"middle\" data-notex=\"1\" x=\"198\" y=\"46.2\" style=\"font-family: 'Open Sans', verdana, arial, sans-serif; font-size: 12px; fill: rgb(255, 255, 255); fill-opacity: 1; white-space: pre;\">4</text></g></g></g></g><g class=\"overplot\"/><path class=\"xlines-above crisp\" style=\"fill: none;\" d=\"M0,0\"/><path class=\"ylines-above crisp\" style=\"fill: none;\" d=\"M0,0\"/><g class=\"overlines-above\"/><g class=\"xaxislayer-above\"><g class=\"xtick\"><text text-anchor=\"middle\" x=\"0\" y=\"363\" transform=\"translate(151.57999999999998,0)\" style=\"font-family: 'Open Sans', verdana, arial, sans-serif; font-size: 12px; fill: rgb(42, 63, 95); fill-opacity: 1; white-space: pre; opacity: 1;\">[0, 37]</text></g><g class=\"xtick\"><text text-anchor=\"middle\" x=\"0\" y=\"363\" transform=\"translate(230.73000000000002,0)\" style=\"font-family: 'Open Sans', verdana, arial, sans-serif; font-size: 12px; fill: rgb(42, 63, 95); fill-opacity: 1; white-space: pre; opacity: 1;\">(37, 88]</text></g><g class=\"xtick\"><text text-anchor=\"middle\" x=\"0\" y=\"363\" transform=\"translate(309.89,0)\" style=\"font-family: 'Open Sans', verdana, arial, sans-serif; font-size: 12px; fill: rgb(42, 63, 95); fill-opacity: 1; white-space: pre; opacity: 1;\">(88, 198]</text></g></g><g class=\"yaxislayer-above\"><g class=\"ytick\"><text text-anchor=\"end\" x=\"111\" y=\"4.199999999999999\" transform=\"translate(0,308.33000000000004)\" style=\"font-family: 'Open Sans', verdana, arial, sans-serif; font-size: 12px; fill: rgb(42, 63, 95); fill-opacity: 1; white-space: pre; opacity: 1;\">[-0, 15]</text></g><g class=\"ytick\"><text text-anchor=\"end\" x=\"111\" y=\"4.199999999999999\" transform=\"translate(0,225)\" style=\"font-family: 'Open Sans', verdana, arial, sans-serif; font-size: 12px; fill: rgb(42, 63, 95); fill-opacity: 1; white-space: pre; opacity: 1;\">(15.0, 30.0]</text></g><g class=\"ytick\"><text text-anchor=\"end\" x=\"111\" y=\"4.199999999999999\" transform=\"translate(0,141.67000000000002)\" style=\"font-family: 'Open Sans', verdana, arial, sans-serif; font-size: 12px; fill: rgb(42, 63, 95); fill-opacity: 1; white-space: pre; opacity: 1;\">(30.0, 50.0]</text></g></g><g class=\"overaxes-above\"/></g><g class=\"subplot x2y2\"><g class=\"layer-subplot\"><g class=\"shapelayer\"/><g class=\"imagelayer\"/></g><g class=\"minor-gridlayer\"><g class=\"x2\"/><g class=\"y2\"/></g><g class=\"gridlayer\"><g class=\"x2\"><path class=\"x2grid crisp\" transform=\"translate(443.84666666666664,0)\" d=\"M0,100v250\" style=\"stroke: rgb(255, 255, 255); stroke-opacity: 1; stroke-width: 1px;\"/><path class=\"x2grid crisp\" transform=\"translate(522.9966666666667,0)\" d=\"M0,100v250\" style=\"stroke: rgb(255, 255, 255); stroke-opacity: 1; stroke-width: 1px;\"/><path class=\"x2grid crisp\" transform=\"translate(602.1566666666666,0)\" d=\"M0,100v250\" style=\"stroke: rgb(255, 255, 255); stroke-opacity: 1; stroke-width: 1px;\"/></g><g class=\"y2\"><path class=\"y2grid crisp\" transform=\"translate(0,308.33000000000004)\" d=\"M404.26666666666665,0h237.4666666666667\" style=\"stroke: rgb(255, 255, 255); stroke-opacity: 1; stroke-width: 1px;\"/><path class=\"y2grid crisp\" transform=\"translate(0,225)\" d=\"M404.26666666666665,0h237.4666666666667\" style=\"stroke: rgb(255, 255, 255); stroke-opacity: 1; stroke-width: 1px;\"/><path class=\"y2grid crisp\" transform=\"translate(0,141.67000000000002)\" d=\"M404.26666666666665,0h237.4666666666667\" style=\"stroke: rgb(255, 255, 255); stroke-opacity: 1; stroke-width: 1px;\"/></g></g><g class=\"zerolinelayer\"/><path class=\"xlines-below\"/><path class=\"ylines-below\"/><g class=\"overlines-below\"/><g class=\"xaxislayer-below\"/><g class=\"yaxislayer-below\"/><g class=\"overaxes-below\"/><g class=\"plot\" transform=\"translate(404.26666666666665,100)\" clip-path=\"url(#clipf3f8e3x2y2plot)\"><g class=\"heatmaplayer mlayer\"><g class=\"hm\"><image xmlns=\"http://www.w3.org/2000/svg\" preserveAspectRatio=\"none\" height=\"250\" width=\"237\" x=\"0\" y=\"0\" xlink:href=\"data:image/png;base64,iVBORw0KGgoAAAANSUhEUgAAAAMAAAADCAYAAABWKLW/AAAALklEQVQYV2M8LKv+/83b/wzMTAwMjFf11P/fvfefAQQY90mo/xcSZGAQludmAAAnegwmKqptMQAAAABJRU5ErkJggg==\" style=\"image-rendering: pixelated; opacity: 1;\"/><g class=\"heatmap-label\"><text text-anchor=\"middle\" data-notex=\"1\" x=\"40\" y=\"212.2\" style=\"font-family: 'Open Sans', verdana, arial, sans-serif; font-size: 12px; fill: rgb(255, 255, 255); fill-opacity: 1; white-space: pre;\">10</text></g><g class=\"heatmap-label\"><text text-anchor=\"middle\" data-notex=\"1\" x=\"119\" y=\"212.2\" style=\"font-family: 'Open Sans', verdana, arial, sans-serif; font-size: 12px; fill: rgb(255, 255, 255); fill-opacity: 1; white-space: pre;\">17</text></g><g class=\"heatmap-label\"><text text-anchor=\"middle\" data-notex=\"1\" x=\"198\" y=\"212.2\" style=\"font-family: 'Open Sans', verdana, arial, sans-serif; font-size: 12px; fill: rgb(255, 255, 255); fill-opacity: 1; white-space: pre;\">28</text></g><g class=\"heatmap-label\"><text text-anchor=\"middle\" data-notex=\"1\" x=\"40\" y=\"129.2\" style=\"font-family: 'Open Sans', verdana, arial, sans-serif; font-size: 12px; fill: rgb(255, 255, 255); fill-opacity: 1; white-space: pre;\">19</text></g><g class=\"heatmap-label\"><text text-anchor=\"middle\" data-notex=\"1\" x=\"119\" y=\"129.2\" style=\"font-family: 'Open Sans', verdana, arial, sans-serif; font-size: 12px; fill: rgb(255, 255, 255); fill-opacity: 1; white-space: pre;\">5</text></g><g class=\"heatmap-label\"><text text-anchor=\"middle\" data-notex=\"1\" x=\"198\" y=\"129.2\" style=\"font-family: 'Open Sans', verdana, arial, sans-serif; font-size: 12px; fill: rgb(255, 255, 255); fill-opacity: 1; white-space: pre;\">5</text></g><g class=\"heatmap-label\"><text text-anchor=\"middle\" data-notex=\"1\" x=\"40\" y=\"46.2\" style=\"font-family: 'Open Sans', verdana, arial, sans-serif; font-size: 12px; fill: rgb(255, 255, 255); fill-opacity: 1; white-space: pre;\">12</text></g><g class=\"heatmap-label\"><text text-anchor=\"middle\" data-notex=\"1\" x=\"119\" y=\"46.2\" style=\"font-family: 'Open Sans', verdana, arial, sans-serif; font-size: 12px; fill: rgb(255, 255, 255); fill-opacity: 1; white-space: pre;\">4</text></g><g class=\"heatmap-label\"><text text-anchor=\"middle\" data-notex=\"1\" x=\"198\" y=\"46.2\" style=\"font-family: 'Open Sans', verdana, arial, sans-serif; font-size: 12px; fill: rgb(255, 255, 255); fill-opacity: 1; white-space: pre;\">5</text></g></g></g></g><g class=\"overplot\"/><path class=\"xlines-above crisp\" style=\"fill: none;\" d=\"M0,0\"/><path class=\"ylines-above crisp\" style=\"fill: none;\" d=\"M0,0\"/><g class=\"overlines-above\"/><g class=\"xaxislayer-above\"><g class=\"x2tick\"><text text-anchor=\"middle\" x=\"0\" y=\"363\" transform=\"translate(443.84666666666664,0)\" style=\"font-family: 'Open Sans', verdana, arial, sans-serif; font-size: 12px; fill: rgb(42, 63, 95); fill-opacity: 1; white-space: pre; opacity: 1;\">[0, 37]</text></g><g class=\"x2tick\"><text text-anchor=\"middle\" x=\"0\" y=\"363\" transform=\"translate(522.9966666666667,0)\" style=\"font-family: 'Open Sans', verdana, arial, sans-serif; font-size: 12px; fill: rgb(42, 63, 95); fill-opacity: 1; white-space: pre; opacity: 1;\">(37, 88]</text></g><g class=\"x2tick\"><text text-anchor=\"middle\" x=\"0\" y=\"363\" transform=\"translate(602.1566666666666,0)\" style=\"font-family: 'Open Sans', verdana, arial, sans-serif; font-size: 12px; fill: rgb(42, 63, 95); fill-opacity: 1; white-space: pre; opacity: 1;\">(88, 198]</text></g></g><g class=\"yaxislayer-above\"/><g class=\"overaxes-above\"/></g><g class=\"subplot x3y3\"><g class=\"layer-subplot\"><g class=\"shapelayer\"/><g class=\"imagelayer\"/></g><g class=\"minor-gridlayer\"><g class=\"x3\"/><g class=\"y3\"/></g><g class=\"gridlayer\"><g class=\"x3\"><path class=\"x3grid crisp\" transform=\"translate(736.1133333333333,0)\" d=\"M0,100v250\" style=\"stroke: rgb(255, 255, 255); stroke-opacity: 1; stroke-width: 1px;\"/><path class=\"x3grid crisp\" transform=\"translate(815.2633333333333,0)\" d=\"M0,100v250\" style=\"stroke: rgb(255, 255, 255); stroke-opacity: 1; stroke-width: 1px;\"/><path class=\"x3grid crisp\" transform=\"translate(894.4233333333333,0)\" d=\"M0,100v250\" style=\"stroke: rgb(255, 255, 255); stroke-opacity: 1; stroke-width: 1px;\"/></g><g class=\"y3\"><path class=\"y3grid crisp\" transform=\"translate(0,308.33000000000004)\" d=\"M696.5333333333333,0h237.46666666666664\" style=\"stroke: rgb(255, 255, 255); stroke-opacity: 1; stroke-width: 1px;\"/><path class=\"y3grid crisp\" transform=\"translate(0,225)\" d=\"M696.5333333333333,0h237.46666666666664\" style=\"stroke: rgb(255, 255, 255); stroke-opacity: 1; stroke-width: 1px;\"/><path class=\"y3grid crisp\" transform=\"translate(0,141.67000000000002)\" d=\"M696.5333333333333,0h237.46666666666664\" style=\"stroke: rgb(255, 255, 255); stroke-opacity: 1; stroke-width: 1px;\"/></g></g><g class=\"zerolinelayer\"/><path class=\"xlines-below\"/><path class=\"ylines-below\"/><g class=\"overlines-below\"/><g class=\"xaxislayer-below\"/><g class=\"yaxislayer-below\"/><g class=\"overaxes-below\"/><g class=\"plot\" transform=\"translate(696.5333333333333,100)\" clip-path=\"url(#clipf3f8e3x3y3plot)\"><g class=\"heatmaplayer mlayer\"><g class=\"hm\"><image xmlns=\"http://www.w3.org/2000/svg\" preserveAspectRatio=\"none\" height=\"250\" width=\"237\" x=\"0\" y=\"0\" xlink:href=\"data:image/png;base64,iVBORw0KGgoAAAANSUhEUgAAAAMAAAADCAYAAABWKLW/AAAAJ0lEQVQYV2NcyqD2n4GBgUFcjIGBEcSAAcbHHkb/v7/7wfDx3V8GAHuRChDnMFolAAAAAElFTkSuQmCC\" style=\"image-rendering: pixelated; opacity: 1;\"/><g class=\"heatmap-label\"><text text-anchor=\"middle\" data-notex=\"1\" x=\"40\" y=\"212.2\" style=\"font-family: 'Open Sans', verdana, arial, sans-serif; font-size: 12px; fill: rgb(255, 255, 255); fill-opacity: 1; white-space: pre;\">28</text></g><g class=\"heatmap-label\"><text text-anchor=\"middle\" data-notex=\"1\" x=\"119\" y=\"212.2\" style=\"font-family: 'Open Sans', verdana, arial, sans-serif; font-size: 12px; fill: rgb(255, 255, 255); fill-opacity: 1; white-space: pre;\">22</text></g><g class=\"heatmap-label\"><text text-anchor=\"middle\" data-notex=\"1\" x=\"198\" y=\"212.2\" style=\"font-family: 'Open Sans', verdana, arial, sans-serif; font-size: 12px; fill: rgb(255, 255, 255); fill-opacity: 1; white-space: pre;\">15</text></g><g class=\"heatmap-label\"><text text-anchor=\"middle\" data-notex=\"1\" x=\"40\" y=\"129.2\" style=\"font-family: 'Open Sans', verdana, arial, sans-serif; font-size: 12px; fill: rgb(255, 255, 255); fill-opacity: 1; white-space: pre;\">0</text></g><g class=\"heatmap-label\"><text text-anchor=\"middle\" data-notex=\"1\" x=\"119\" y=\"129.2\" style=\"font-family: 'Open Sans', verdana, arial, sans-serif; font-size: 12px; fill: rgb(255, 255, 255); fill-opacity: 1; white-space: pre;\">0</text></g><g class=\"heatmap-label\"><text text-anchor=\"middle\" data-notex=\"1\" x=\"198\" y=\"129.2\" style=\"font-family: 'Open Sans', verdana, arial, sans-serif; font-size: 12px; fill: rgb(255, 255, 255); fill-opacity: 1; white-space: pre;\">9</text></g><g class=\"heatmap-label\"><text text-anchor=\"middle\" data-notex=\"1\" x=\"40\" y=\"46.2\" style=\"font-family: 'Open Sans', verdana, arial, sans-serif; font-size: 12px; fill: rgb(255, 255, 255); fill-opacity: 1; white-space: pre;\">0</text></g><g class=\"heatmap-label\"><text text-anchor=\"middle\" data-notex=\"1\" x=\"119\" y=\"46.2\" style=\"font-family: 'Open Sans', verdana, arial, sans-serif; font-size: 12px; fill: rgb(255, 255, 255); fill-opacity: 1; white-space: pre;\">0</text></g><g class=\"heatmap-label\"><text text-anchor=\"middle\" data-notex=\"1\" x=\"198\" y=\"46.2\" style=\"font-family: 'Open Sans', verdana, arial, sans-serif; font-size: 12px; fill: rgb(255, 255, 255); fill-opacity: 1; white-space: pre;\">0</text></g></g></g></g><g class=\"overplot\"/><path class=\"xlines-above crisp\" style=\"fill: none;\" d=\"M0,0\"/><path class=\"ylines-above crisp\" style=\"fill: none;\" d=\"M0,0\"/><g class=\"overlines-above\"/><g class=\"xaxislayer-above\"><g class=\"x3tick\"><text text-anchor=\"middle\" x=\"0\" y=\"363\" transform=\"translate(736.1133333333333,0)\" style=\"font-family: 'Open Sans', verdana, arial, sans-serif; font-size: 12px; fill: rgb(42, 63, 95); fill-opacity: 1; white-space: pre; opacity: 1;\">[0, 6]</text></g><g class=\"x3tick\"><text text-anchor=\"middle\" x=\"0\" y=\"363\" transform=\"translate(815.2633333333333,0)\" style=\"font-family: 'Open Sans', verdana, arial, sans-serif; font-size: 12px; fill: rgb(42, 63, 95); fill-opacity: 1; white-space: pre; opacity: 1;\">(6, 9]</text></g><g class=\"x3tick\"><text text-anchor=\"middle\" x=\"0\" y=\"363\" transform=\"translate(894.4233333333333,0)\" style=\"font-family: 'Open Sans', verdana, arial, sans-serif; font-size: 12px; fill: rgb(42, 63, 95); fill-opacity: 1; white-space: pre; opacity: 1;\">(9, 13]</text></g></g><g class=\"yaxislayer-above\"/><g class=\"overaxes-above\"/></g></g><g class=\"polarlayer\"/><g class=\"smithlayer\"/><g class=\"ternarylayer\"/><g class=\"geolayer\"/><g class=\"funnelarealayer\"/><g class=\"pielayer\"/><g class=\"iciclelayer\"/><g class=\"treemaplayer\"/><g class=\"sunburstlayer\"/><g class=\"glimages\"/><defs id=\"topdefs-f3f8e3\"><g class=\"clips\"/></defs><g class=\"layer-above\"><g class=\"imagelayer\"/><g class=\"shapelayer\"/></g><g class=\"infolayer\"><g class=\"cbcf4294 colorbar\" transform=\"translate(112,100)\"><rect class=\"cbbg\" x=\"838\" y=\"0\" width=\"88.046875\" height=\"250\" style=\"fill: rgb(0, 0, 0); fill-opacity: 0; stroke: rgb(68, 68, 68); stroke-opacity: 1; stroke-width: 0;\"/><g class=\"cbfills\" transform=\"translate(0,33)\"><rect class=\"cbfill gradient_filled\" style=\"fill: url('#gf3f8e3-cbcf4294');\" x=\"848\" y=\"0\" width=\"30\" height=\"207\"/></g><g class=\"cblines\" transform=\"translate(0,33)\"/><g class=\"cbaxis crisp\" transform=\"translate(0,-100)\"><g class=\"ycbcf4294tick\"><text text-anchor=\"start\" x=\"880.9\" y=\"4.199999999999999\" transform=\"translate(0,339.999375)\" style=\"font-family: 'Open Sans', verdana, arial, sans-serif; font-size: 12px; fill: rgb(42, 63, 95); fill-opacity: 1; white-space: pre; opacity: 1;\">0</text></g><g class=\"ycbcf4294tick\"><text text-anchor=\"start\" x=\"880.9\" y=\"4.199999999999999\" style=\"font-family: 'Open Sans', verdana, arial, sans-serif; font-size: 12px; fill: rgb(42, 63, 95); fill-opacity: 1; white-space: pre; opacity: 1;\" transform=\"translate(0,288.14937499999996)\">50</text></g><g class=\"ycbcf4294tick\"><text text-anchor=\"start\" x=\"880.9\" y=\"4.199999999999999\" style=\"font-family: 'Open Sans', verdana, arial, sans-serif; font-size: 12px; fill: rgb(42, 63, 95); fill-opacity: 1; white-space: pre; opacity: 1;\" transform=\"translate(0,236.309375)\">100</text></g><g class=\"ycbcf4294tick\"><text text-anchor=\"start\" x=\"880.9\" y=\"4.199999999999999\" style=\"font-family: 'Open Sans', verdana, arial, sans-serif; font-size: 12px; fill: rgb(42, 63, 95); fill-opacity: 1; white-space: pre; opacity: 1;\" transform=\"translate(0,184.459375)\">150</text></g><g class=\"ycbcf4294tick\"><text text-anchor=\"start\" x=\"880.9\" y=\"4.199999999999999\" style=\"font-family: 'Open Sans', verdana, arial, sans-serif; font-size: 12px; fill: rgb(42, 63, 95); fill-opacity: 1; white-space: pre; opacity: 1;\" transform=\"translate(0,132.609375)\">200</text></g></g><g class=\"cbtitleunshift\" transform=\"translate(-112,-100)\"><g class=\"cbtitle\" transform=\"\"><text class=\"ycbcf4294title\" x=\"960.44\" y=\"123.5\" text-anchor=\"start\" style=\"font-family: 'Open Sans', verdana, arial, sans-serif; font-size: 14px; fill: rgb(42, 63, 95); opacity: 1; font-weight: normal; white-space: pre;\">Pearson r</text></g></g><rect class=\"cboutline\" x=\"848\" y=\"32.609375\" width=\"30\" height=\"207.390625\" style=\"stroke: rgb(68, 68, 68); stroke-opacity: 1; fill: none; stroke-width: 0;\"/></g><g class=\"g-gtitle\"/><g class=\"g-xtitle\"><text class=\"xtitle\" x=\"230.73333333333335\" y=\"389.70625\" text-anchor=\"middle\" style=\"font-family: 'Open Sans', verdana, arial, sans-serif; font-size: 14px; fill: rgb(42, 63, 95); opacity: 1; font-weight: normal; white-space: pre;\">#compound-target pairs per accession</text></g><g class=\"g-x2title\"><text class=\"x2title\" x=\"523\" y=\"389.70625\" text-anchor=\"middle\" style=\"font-family: 'Open Sans', verdana, arial, sans-serif; font-size: 14px; fill: rgb(42, 63, 95); opacity: 1; font-weight: normal; white-space: pre;\">#compound-target pairs per accession</text></g><g class=\"g-x3title\"><text class=\"x3title\" x=\"815.2666666666667\" y=\"389.70625\" text-anchor=\"middle\" style=\"font-family: 'Open Sans', verdana, arial, sans-serif; font-size: 14px; fill: rgb(42, 63, 95); opacity: 1; font-weight: normal; white-space: pre;\">#compound-target pairs per accession</text></g><g class=\"g-ytitle\" transform=\"translate(1.7060546875,0)\"><text class=\"ytitle\" transform=\"rotate(-90,12.700000000000003,225)\" x=\"12.700000000000003\" y=\"225\" text-anchor=\"middle\" style=\"font-family: 'Open Sans', verdana, arial, sans-serif; font-size: 14px; fill: rgb(42, 63, 95); opacity: 1; font-weight: normal; white-space: pre;\">Minority class (WT/mutant) %</text></g><g class=\"g-y2title\"/><g class=\"g-y3title\"/><g class=\"annotation\" data-index=\"0\" style=\"opacity: 1;\"><g class=\"annotation-text-g\" transform=\"rotate(0,230.73333333333335,88.5)\"><g class=\"cursor-pointer\" transform=\"translate(159,77)\"><rect class=\"bg\" x=\"0.5\" y=\"0.5\" width=\"142\" height=\"22\" style=\"stroke-width: 1px; stroke: rgb(0, 0, 0); stroke-opacity: 0; fill: rgb(0, 0, 0); fill-opacity: 0;\"/><text class=\"annotation-text\" text-anchor=\"middle\" x=\"71.3125\" y=\"18\" style=\"font-family: 'Open Sans', verdana, arial, sans-serif; font-size: 16px; fill: rgb(42, 63, 95); fill-opacity: 1; white-space: pre;\">complete dataset</text></g></g></g><g class=\"annotation\" data-index=\"1\" style=\"opacity: 1;\"><g class=\"annotation-text-g\" transform=\"rotate(0,523,88.5)\"><g class=\"cursor-pointer\" transform=\"translate(479,77)\"><rect class=\"bg\" x=\"0.5\" y=\"0.5\" width=\"87\" height=\"22\" style=\"stroke-width: 1px; stroke: rgb(0, 0, 0); stroke-opacity: 0; fill: rgb(0, 0, 0); fill-opacity: 0;\"/><text class=\"annotation-text\" text-anchor=\"middle\" x=\"43.75\" y=\"18\" style=\"font-family: 'Open Sans', verdana, arial, sans-serif; font-size: 16px; fill: rgb(42, 63, 95); fill-opacity: 1; white-space: pre;\">no mutant</text></g></g></g><g class=\"annotation\" data-index=\"2\" style=\"opacity: 1;\"><g class=\"annotation-text-g\" transform=\"rotate(0,815.2666666666668,88.5)\"><g class=\"cursor-pointer\" transform=\"translate(750,77)\"><rect class=\"bg\" x=\"0.5\" y=\"0.5\" width=\"130\" height=\"22\" style=\"stroke-width: 1px; stroke: rgb(0, 0, 0); stroke-opacity: 0; fill: rgb(0, 0, 0); fill-opacity: 0;\"/><text class=\"annotation-text\" text-anchor=\"middle\" x=\"65.625\" y=\"18\" style=\"font-family: 'Open Sans', verdana, arial, sans-serif; font-size: 16px; fill: rgb(42, 63, 95); fill-opacity: 1; white-space: pre;\">common subset</text></g></g></g></g></svg>"
      ],
      "text/plain": [
       "<IPython.core.display.SVG object>"
      ]
     },
     "metadata": {},
     "output_type": "display_data"
    },
    {
     "data": {
      "image/svg+xml": [
       "<svg xmlns=\"http://www.w3.org/2000/svg\" xmlns:xlink=\"http://www.w3.org/1999/xlink\" class=\"main-svg\" width=\"1050\" height=\"430\" style=\"\" viewBox=\"0 0 1050 430\"><rect x=\"0\" y=\"0\" width=\"1050\" height=\"430\" style=\"fill: rgb(255, 255, 255); fill-opacity: 1;\"/><defs id=\"defs-360bbd\"><g class=\"clips\"><clipPath id=\"clip360bbdxyplot\" class=\"plotclip\"><rect width=\"237.4666666666667\" height=\"250\"/></clipPath><clipPath id=\"clip360bbdx2y2plot\" class=\"plotclip\"><rect width=\"237.4666666666667\" height=\"250\"/></clipPath><clipPath id=\"clip360bbdx3y3plot\" class=\"plotclip\"><rect width=\"237.46666666666664\" height=\"250\"/></clipPath><clipPath class=\"axesclip\" id=\"clip360bbdx\"><rect x=\"112\" y=\"0\" width=\"237.4666666666667\" height=\"430\"/></clipPath><clipPath class=\"axesclip\" id=\"clip360bbdy\"><rect x=\"0\" y=\"100\" width=\"1050\" height=\"250\"/></clipPath><clipPath class=\"axesclip\" id=\"clip360bbdxy\"><rect x=\"112\" y=\"100\" width=\"237.4666666666667\" height=\"250\"/></clipPath><clipPath class=\"axesclip\" id=\"clip360bbdy2\"><rect x=\"0\" y=\"100\" width=\"1050\" height=\"250\"/></clipPath><clipPath class=\"axesclip\" id=\"clip360bbdxy2\"><rect x=\"112\" y=\"100\" width=\"237.4666666666667\" height=\"250\"/></clipPath><clipPath class=\"axesclip\" id=\"clip360bbdy3\"><rect x=\"0\" y=\"100\" width=\"1050\" height=\"250\"/></clipPath><clipPath class=\"axesclip\" id=\"clip360bbdxy3\"><rect x=\"112\" y=\"100\" width=\"237.4666666666667\" height=\"250\"/></clipPath><clipPath class=\"axesclip\" id=\"clip360bbdx2\"><rect x=\"404.26666666666665\" y=\"0\" width=\"237.4666666666667\" height=\"430\"/></clipPath><clipPath class=\"axesclip\" id=\"clip360bbdx2y\"><rect x=\"404.26666666666665\" y=\"100\" width=\"237.4666666666667\" height=\"250\"/></clipPath><clipPath class=\"axesclip\" id=\"clip360bbdx2y2\"><rect x=\"404.26666666666665\" y=\"100\" width=\"237.4666666666667\" height=\"250\"/></clipPath><clipPath class=\"axesclip\" id=\"clip360bbdx2y3\"><rect x=\"404.26666666666665\" y=\"100\" width=\"237.4666666666667\" height=\"250\"/></clipPath><clipPath class=\"axesclip\" id=\"clip360bbdx3\"><rect x=\"696.5333333333333\" y=\"0\" width=\"237.46666666666664\" height=\"430\"/></clipPath><clipPath class=\"axesclip\" id=\"clip360bbdx3y\"><rect x=\"696.5333333333333\" y=\"100\" width=\"237.46666666666664\" height=\"250\"/></clipPath><clipPath class=\"axesclip\" id=\"clip360bbdx3y2\"><rect x=\"696.5333333333333\" y=\"100\" width=\"237.46666666666664\" height=\"250\"/></clipPath><clipPath class=\"axesclip\" id=\"clip360bbdx3y3\"><rect x=\"696.5333333333333\" y=\"100\" width=\"237.46666666666664\" height=\"250\"/></clipPath></g><g class=\"gradients\"><linearGradient x1=\"0\" x2=\"0\" y1=\"1\" y2=\"0\" id=\"g360bbd-cbbb81c7\"><stop offset=\"0%\" stop-color=\"rgb(165, 0, 38)\" stop-opacity=\"1\"/><stop offset=\"10%\" stop-color=\"rgb(215, 48, 39)\" stop-opacity=\"1\"/><stop offset=\"20%\" stop-color=\"rgb(244, 109, 67)\" stop-opacity=\"1\"/><stop offset=\"30%\" stop-color=\"rgb(253, 174, 97)\" stop-opacity=\"1\"/><stop offset=\"40%\" stop-color=\"rgb(254, 224, 139)\" stop-opacity=\"1\"/><stop offset=\"50%\" stop-color=\"rgb(255, 255, 191)\" stop-opacity=\"1\"/><stop offset=\"60%\" stop-color=\"rgb(217, 239, 139)\" stop-opacity=\"1\"/><stop offset=\"70%\" stop-color=\"rgb(166, 217, 106)\" stop-opacity=\"1\"/><stop offset=\"80%\" stop-color=\"rgb(102, 189, 99)\" stop-opacity=\"1\"/><stop offset=\"90%\" stop-color=\"rgb(26, 152, 80)\" stop-opacity=\"1\"/><stop offset=\"100%\" stop-color=\"rgb(0, 104, 55)\" stop-opacity=\"1\"/></linearGradient></g><g class=\"patterns\"/></defs><g class=\"bglayer\"><rect class=\"bg\" x=\"112\" y=\"100\" width=\"237.4666666666667\" height=\"250\" style=\"fill: rgb(229, 236, 246); fill-opacity: 1; stroke-width: 0;\"/><rect class=\"bg\" x=\"404.26666666666665\" y=\"100\" width=\"237.4666666666667\" height=\"250\" style=\"fill: rgb(229, 236, 246); fill-opacity: 1; stroke-width: 0;\"/><rect class=\"bg\" x=\"696.5333333333333\" y=\"100\" width=\"237.46666666666664\" height=\"250\" style=\"fill: rgb(229, 236, 246); fill-opacity: 1; stroke-width: 0;\"/></g><g class=\"layer-below\"><g class=\"imagelayer\"/><g class=\"shapelayer\"/></g><g class=\"cartesianlayer\"><g class=\"subplot xy\"><g class=\"layer-subplot\"><g class=\"shapelayer\"/><g class=\"imagelayer\"/></g><g class=\"minor-gridlayer\"><g class=\"x\"/><g class=\"y\"/></g><g class=\"gridlayer\"><g class=\"x\"><path class=\"xgrid crisp\" transform=\"translate(151.57999999999998,0)\" d=\"M0,100v250\" style=\"stroke: rgb(255, 255, 255); stroke-opacity: 1; stroke-width: 1px;\"/><path class=\"xgrid crisp\" transform=\"translate(230.73000000000002,0)\" d=\"M0,100v250\" style=\"stroke: rgb(255, 255, 255); stroke-opacity: 1; stroke-width: 1px;\"/><path class=\"xgrid crisp\" transform=\"translate(309.89,0)\" d=\"M0,100v250\" style=\"stroke: rgb(255, 255, 255); stroke-opacity: 1; stroke-width: 1px;\"/></g><g class=\"y\"><path class=\"ygrid crisp\" transform=\"translate(0,308.33000000000004)\" d=\"M112,0h237.4666666666667\" style=\"stroke: rgb(255, 255, 255); stroke-opacity: 1; stroke-width: 1px;\"/><path class=\"ygrid crisp\" transform=\"translate(0,225)\" d=\"M112,0h237.4666666666667\" style=\"stroke: rgb(255, 255, 255); stroke-opacity: 1; stroke-width: 1px;\"/><path class=\"ygrid crisp\" transform=\"translate(0,141.67000000000002)\" d=\"M112,0h237.4666666666667\" style=\"stroke: rgb(255, 255, 255); stroke-opacity: 1; stroke-width: 1px;\"/></g></g><g class=\"zerolinelayer\"/><path class=\"xlines-below\"/><path class=\"ylines-below\"/><g class=\"overlines-below\"/><g class=\"xaxislayer-below\"/><g class=\"yaxislayer-below\"/><g class=\"overaxes-below\"/><g class=\"plot\" transform=\"translate(112,100)\" clip-path=\"url(#clip360bbdxyplot)\"><g class=\"heatmaplayer mlayer\"><g class=\"hm\"><image xmlns=\"http://www.w3.org/2000/svg\" preserveAspectRatio=\"none\" height=\"250\" width=\"237\" x=\"0\" y=\"0\" xlink:href=\"data:image/png;base64,iVBORw0KGgoAAAANSUhEUgAAAAMAAAADCAYAAABWKLW/AAAALklEQVQYV2Ncy672/+8/BobfvxkYGFexqv3/95eBASTA+CLU4j8DAwPDoQ3vGABT6hBsJOWh/gAAAABJRU5ErkJggg==\" style=\"image-rendering: pixelated; opacity: 1;\"/><g class=\"heatmap-label\"><text text-anchor=\"middle\" data-notex=\"1\" x=\"40\" y=\"212.2\" style=\"font-family: 'Open Sans', verdana, arial, sans-serif; font-size: 12px; fill: rgb(255, 255, 255); fill-opacity: 1; white-space: pre;\">32</text></g><g class=\"heatmap-label\"><text text-anchor=\"middle\" data-notex=\"1\" x=\"119\" y=\"212.2\" style=\"font-family: 'Open Sans', verdana, arial, sans-serif; font-size: 12px; fill: rgb(255, 255, 255); fill-opacity: 1; white-space: pre;\">32</text></g><g class=\"heatmap-label\"><text text-anchor=\"middle\" data-notex=\"1\" x=\"198\" y=\"212.2\" style=\"font-family: 'Open Sans', verdana, arial, sans-serif; font-size: 12px; fill: rgb(255, 255, 255); fill-opacity: 1; white-space: pre;\">2</text></g><g class=\"heatmap-label\"><text text-anchor=\"middle\" data-notex=\"1\" x=\"40\" y=\"129.2\" style=\"font-family: 'Open Sans', verdana, arial, sans-serif; font-size: 12px; fill: rgb(255, 255, 255); fill-opacity: 1; white-space: pre;\">2</text></g><g class=\"heatmap-label\"><text text-anchor=\"middle\" data-notex=\"1\" x=\"119\" y=\"129.2\" style=\"font-family: 'Open Sans', verdana, arial, sans-serif; font-size: 12px; fill: rgb(255, 255, 255); fill-opacity: 1; white-space: pre;\">1</text></g><g class=\"heatmap-label\"><text text-anchor=\"middle\" data-notex=\"1\" x=\"198\" y=\"129.2\" style=\"font-family: 'Open Sans', verdana, arial, sans-serif; font-size: 12px; fill: rgb(255, 255, 255); fill-opacity: 1; white-space: pre;\">0</text></g><g class=\"heatmap-label\"><text text-anchor=\"middle\" data-notex=\"1\" x=\"40\" y=\"46.2\" style=\"font-family: 'Open Sans', verdana, arial, sans-serif; font-size: 12px; fill: rgb(255, 255, 255); fill-opacity: 1; white-space: pre;\">3</text></g><g class=\"heatmap-label\"><text text-anchor=\"middle\" data-notex=\"1\" x=\"119\" y=\"46.2\" style=\"font-family: 'Open Sans', verdana, arial, sans-serif; font-size: 12px; fill: rgb(255, 255, 255); fill-opacity: 1; white-space: pre;\">2</text></g><g class=\"heatmap-label\"><text text-anchor=\"middle\" data-notex=\"1\" x=\"198\" y=\"46.2\" style=\"font-family: 'Open Sans', verdana, arial, sans-serif; font-size: 12px; fill: rgb(255, 255, 255); fill-opacity: 1; white-space: pre;\">0</text></g></g></g></g><g class=\"overplot\"/><path class=\"xlines-above crisp\" style=\"fill: none;\" d=\"M0,0\"/><path class=\"ylines-above crisp\" style=\"fill: none;\" d=\"M0,0\"/><g class=\"overlines-above\"/><g class=\"xaxislayer-above\"><g class=\"xtick\"><text text-anchor=\"middle\" x=\"0\" y=\"363\" transform=\"translate(151.57999999999998,0)\" style=\"font-family: 'Open Sans', verdana, arial, sans-serif; font-size: 12px; fill: rgb(42, 63, 95); fill-opacity: 1; white-space: pre; opacity: 1;\">[198, 400]</text></g><g class=\"xtick\"><text text-anchor=\"middle\" x=\"0\" y=\"363\" transform=\"translate(230.73000000000002,0)\" style=\"font-family: 'Open Sans', verdana, arial, sans-serif; font-size: 12px; fill: rgb(42, 63, 95); fill-opacity: 1; white-space: pre; opacity: 1;\">(400, 680]</text></g><g class=\"xtick\"><text text-anchor=\"middle\" x=\"0\" y=\"363\" transform=\"translate(309.89,0)\" style=\"font-family: 'Open Sans', verdana, arial, sans-serif; font-size: 12px; fill: rgb(42, 63, 95); fill-opacity: 1; white-space: pre; opacity: 1;\">(680, 694]</text></g></g><g class=\"yaxislayer-above\"><g class=\"ytick\"><text text-anchor=\"end\" x=\"111\" y=\"4.199999999999999\" transform=\"translate(0,308.33000000000004)\" style=\"font-family: 'Open Sans', verdana, arial, sans-serif; font-size: 12px; fill: rgb(42, 63, 95); fill-opacity: 1; white-space: pre; opacity: 1;\">[-0, 15]</text></g><g class=\"ytick\"><text text-anchor=\"end\" x=\"111\" y=\"4.199999999999999\" transform=\"translate(0,225)\" style=\"font-family: 'Open Sans', verdana, arial, sans-serif; font-size: 12px; fill: rgb(42, 63, 95); fill-opacity: 1; white-space: pre; opacity: 1;\">(15.0, 30.0]</text></g><g class=\"ytick\"><text text-anchor=\"end\" x=\"111\" y=\"4.199999999999999\" transform=\"translate(0,141.67000000000002)\" style=\"font-family: 'Open Sans', verdana, arial, sans-serif; font-size: 12px; fill: rgb(42, 63, 95); fill-opacity: 1; white-space: pre; opacity: 1;\">(30.0, 50.0]</text></g></g><g class=\"overaxes-above\"/></g><g class=\"subplot x2y2\"><g class=\"layer-subplot\"><g class=\"shapelayer\"/><g class=\"imagelayer\"/></g><g class=\"minor-gridlayer\"><g class=\"x2\"/><g class=\"y2\"/></g><g class=\"gridlayer\"><g class=\"x2\"><path class=\"x2grid crisp\" transform=\"translate(443.84666666666664,0)\" d=\"M0,100v250\" style=\"stroke: rgb(255, 255, 255); stroke-opacity: 1; stroke-width: 1px;\"/><path class=\"x2grid crisp\" transform=\"translate(522.9966666666667,0)\" d=\"M0,100v250\" style=\"stroke: rgb(255, 255, 255); stroke-opacity: 1; stroke-width: 1px;\"/><path class=\"x2grid crisp\" transform=\"translate(602.1566666666666,0)\" d=\"M0,100v250\" style=\"stroke: rgb(255, 255, 255); stroke-opacity: 1; stroke-width: 1px;\"/></g><g class=\"y2\"><path class=\"y2grid crisp\" transform=\"translate(0,308.33000000000004)\" d=\"M404.26666666666665,0h237.4666666666667\" style=\"stroke: rgb(255, 255, 255); stroke-opacity: 1; stroke-width: 1px;\"/><path class=\"y2grid crisp\" transform=\"translate(0,225)\" d=\"M404.26666666666665,0h237.4666666666667\" style=\"stroke: rgb(255, 255, 255); stroke-opacity: 1; stroke-width: 1px;\"/><path class=\"y2grid crisp\" transform=\"translate(0,141.67000000000002)\" d=\"M404.26666666666665,0h237.4666666666667\" style=\"stroke: rgb(255, 255, 255); stroke-opacity: 1; stroke-width: 1px;\"/></g></g><g class=\"zerolinelayer\"/><path class=\"xlines-below\"/><path class=\"ylines-below\"/><g class=\"overlines-below\"/><g class=\"xaxislayer-below\"/><g class=\"yaxislayer-below\"/><g class=\"overaxes-below\"/><g class=\"plot\" transform=\"translate(404.26666666666665,100)\" clip-path=\"url(#clip360bbdx2y2plot)\"><g class=\"heatmaplayer mlayer\"><g class=\"hm\"><image xmlns=\"http://www.w3.org/2000/svg\" preserveAspectRatio=\"none\" height=\"250\" width=\"237\" x=\"0\" y=\"0\" xlink:href=\"data:image/png;base64,iVBORw0KGgoAAAANSUhEUgAAAAMAAAADCAYAAABWKLW/AAAAK0lEQVQYV2NcwaT2n4mZgeH3bwYGxqUMav9ZWaGc50Fm/xmZmRgOrH3HAADndgxnozJRygAAAABJRU5ErkJggg==\" style=\"image-rendering: pixelated; opacity: 1;\"/><g class=\"heatmap-label\"><text text-anchor=\"middle\" data-notex=\"1\" x=\"40\" y=\"212.2\" style=\"font-family: 'Open Sans', verdana, arial, sans-serif; font-size: 12px; fill: rgb(255, 255, 255); fill-opacity: 1; white-space: pre;\">31</text></g><g class=\"heatmap-label\"><text text-anchor=\"middle\" data-notex=\"1\" x=\"119\" y=\"212.2\" style=\"font-family: 'Open Sans', verdana, arial, sans-serif; font-size: 12px; fill: rgb(255, 255, 255); fill-opacity: 1; white-space: pre;\">32</text></g><g class=\"heatmap-label\"><text text-anchor=\"middle\" data-notex=\"1\" x=\"198\" y=\"212.2\" style=\"font-family: 'Open Sans', verdana, arial, sans-serif; font-size: 12px; fill: rgb(255, 255, 255); fill-opacity: 1; white-space: pre;\">1</text></g><g class=\"heatmap-label\"><text text-anchor=\"middle\" data-notex=\"1\" x=\"40\" y=\"129.2\" style=\"font-family: 'Open Sans', verdana, arial, sans-serif; font-size: 12px; fill: rgb(255, 255, 255); fill-opacity: 1; white-space: pre;\">0</text></g><g class=\"heatmap-label\"><text text-anchor=\"middle\" data-notex=\"1\" x=\"119\" y=\"129.2\" style=\"font-family: 'Open Sans', verdana, arial, sans-serif; font-size: 12px; fill: rgb(255, 255, 255); fill-opacity: 1; white-space: pre;\">2</text></g><g class=\"heatmap-label\"><text text-anchor=\"middle\" data-notex=\"1\" x=\"198\" y=\"129.2\" style=\"font-family: 'Open Sans', verdana, arial, sans-serif; font-size: 12px; fill: rgb(255, 255, 255); fill-opacity: 1; white-space: pre;\">0</text></g><g class=\"heatmap-label\"><text text-anchor=\"middle\" data-notex=\"1\" x=\"40\" y=\"46.2\" style=\"font-family: 'Open Sans', verdana, arial, sans-serif; font-size: 12px; fill: rgb(255, 255, 255); fill-opacity: 1; white-space: pre;\">1</text></g><g class=\"heatmap-label\"><text text-anchor=\"middle\" data-notex=\"1\" x=\"119\" y=\"46.2\" style=\"font-family: 'Open Sans', verdana, arial, sans-serif; font-size: 12px; fill: rgb(255, 255, 255); fill-opacity: 1; white-space: pre;\">2</text></g><g class=\"heatmap-label\"><text text-anchor=\"middle\" data-notex=\"1\" x=\"198\" y=\"46.2\" style=\"font-family: 'Open Sans', verdana, arial, sans-serif; font-size: 12px; fill: rgb(255, 255, 255); fill-opacity: 1; white-space: pre;\">0</text></g></g></g></g><g class=\"overplot\"/><path class=\"xlines-above crisp\" style=\"fill: none;\" d=\"M0,0\"/><path class=\"ylines-above crisp\" style=\"fill: none;\" d=\"M0,0\"/><g class=\"overlines-above\"/><g class=\"xaxislayer-above\"><g class=\"x2tick\"><text text-anchor=\"middle\" x=\"0\" y=\"363\" transform=\"translate(443.84666666666664,0)\" style=\"font-family: 'Open Sans', verdana, arial, sans-serif; font-size: 12px; fill: rgb(42, 63, 95); fill-opacity: 1; white-space: pre; opacity: 1;\">[198, 400]</text></g><g class=\"x2tick\"><text text-anchor=\"middle\" x=\"0\" y=\"363\" transform=\"translate(522.9966666666667,0)\" style=\"font-family: 'Open Sans', verdana, arial, sans-serif; font-size: 12px; fill: rgb(42, 63, 95); fill-opacity: 1; white-space: pre; opacity: 1;\">(400, 680]</text></g><g class=\"x2tick\"><text text-anchor=\"middle\" x=\"0\" y=\"363\" transform=\"translate(602.1566666666666,0)\" style=\"font-family: 'Open Sans', verdana, arial, sans-serif; font-size: 12px; fill: rgb(42, 63, 95); fill-opacity: 1; white-space: pre; opacity: 1;\">(680, 694]</text></g></g><g class=\"yaxislayer-above\"/><g class=\"overaxes-above\"/></g><g class=\"subplot x3y3\"><g class=\"layer-subplot\"><g class=\"shapelayer\"/><g class=\"imagelayer\"/></g><g class=\"minor-gridlayer\"><g class=\"x3\"/><g class=\"y3\"/></g><g class=\"gridlayer\"><g class=\"x3\"><path class=\"x3grid crisp\" transform=\"translate(736.1133333333333,0)\" d=\"M0,100v250\" style=\"stroke: rgb(255, 255, 255); stroke-opacity: 1; stroke-width: 1px;\"/><path class=\"x3grid crisp\" transform=\"translate(815.2633333333333,0)\" d=\"M0,100v250\" style=\"stroke: rgb(255, 255, 255); stroke-opacity: 1; stroke-width: 1px;\"/><path class=\"x3grid crisp\" transform=\"translate(894.4233333333333,0)\" d=\"M0,100v250\" style=\"stroke: rgb(255, 255, 255); stroke-opacity: 1; stroke-width: 1px;\"/></g><g class=\"y3\"><path class=\"y3grid crisp\" transform=\"translate(0,308.33000000000004)\" d=\"M696.5333333333333,0h237.46666666666664\" style=\"stroke: rgb(255, 255, 255); stroke-opacity: 1; stroke-width: 1px;\"/><path class=\"y3grid crisp\" transform=\"translate(0,225)\" d=\"M696.5333333333333,0h237.46666666666664\" style=\"stroke: rgb(255, 255, 255); stroke-opacity: 1; stroke-width: 1px;\"/><path class=\"y3grid crisp\" transform=\"translate(0,141.67000000000002)\" d=\"M696.5333333333333,0h237.46666666666664\" style=\"stroke: rgb(255, 255, 255); stroke-opacity: 1; stroke-width: 1px;\"/></g></g><g class=\"zerolinelayer\"/><path class=\"xlines-below\"/><path class=\"ylines-below\"/><g class=\"overlines-below\"/><g class=\"xaxislayer-below\"/><g class=\"yaxislayer-below\"/><g class=\"overaxes-below\"/><g class=\"plot\" transform=\"translate(696.5333333333333,100)\" clip-path=\"url(#clip360bbdx3y3plot)\"><g class=\"heatmaplayer mlayer\"><g class=\"hm\"><image xmlns=\"http://www.w3.org/2000/svg\" preserveAspectRatio=\"none\" height=\"250\" width=\"237\" x=\"0\" y=\"0\" xlink:href=\"data:image/png;base64,iVBORw0KGgoAAAANSUhEUgAAAAMAAAADCAYAAABWKLW/AAAAMElEQVQYV2O8bqD+n42HjUH5yGVGxhVMav8FBRkY3N/eYmTcKaz2n5eHkcHq4U1GAOstDATBxhGxAAAAAElFTkSuQmCC\" style=\"image-rendering: pixelated; opacity: 1;\"/><g class=\"heatmap-label\"><text text-anchor=\"middle\" data-notex=\"1\" x=\"40\" y=\"212.2\" style=\"font-family: 'Open Sans', verdana, arial, sans-serif; font-size: 12px; fill: rgb(255, 255, 255); fill-opacity: 1; white-space: pre;\">8</text></g><g class=\"heatmap-label\"><text text-anchor=\"middle\" data-notex=\"1\" x=\"119\" y=\"212.2\" style=\"font-family: 'Open Sans', verdana, arial, sans-serif; font-size: 12px; fill: rgb(255, 255, 255); fill-opacity: 1; white-space: pre;\">13</text></g><g class=\"heatmap-label\"><text text-anchor=\"middle\" data-notex=\"1\" x=\"198\" y=\"212.2\" style=\"font-family: 'Open Sans', verdana, arial, sans-serif; font-size: 12px; fill: rgb(255, 255, 255); fill-opacity: 1; white-space: pre;\">0</text></g><g class=\"heatmap-label\"><text text-anchor=\"middle\" data-notex=\"1\" x=\"40\" y=\"129.2\" style=\"font-family: 'Open Sans', verdana, arial, sans-serif; font-size: 12px; fill: rgb(255, 255, 255); fill-opacity: 1; white-space: pre;\">1</text></g><g class=\"heatmap-label\"><text text-anchor=\"middle\" data-notex=\"1\" x=\"119\" y=\"129.2\" style=\"font-family: 'Open Sans', verdana, arial, sans-serif; font-size: 12px; fill: rgb(255, 255, 255); fill-opacity: 1; white-space: pre;\">8</text></g><g class=\"heatmap-label\"><text text-anchor=\"middle\" data-notex=\"1\" x=\"198\" y=\"129.2\" style=\"font-family: 'Open Sans', verdana, arial, sans-serif; font-size: 12px; fill: rgb(255, 255, 255); fill-opacity: 1; white-space: pre;\">0</text></g><g class=\"heatmap-label\"><text text-anchor=\"middle\" data-notex=\"1\" x=\"40\" y=\"46.2\" style=\"font-family: 'Open Sans', verdana, arial, sans-serif; font-size: 12px; fill: rgb(255, 255, 255); fill-opacity: 1; white-space: pre;\">20</text></g><g class=\"heatmap-label\"><text text-anchor=\"middle\" data-notex=\"1\" x=\"119\" y=\"46.2\" style=\"font-family: 'Open Sans', verdana, arial, sans-serif; font-size: 12px; fill: rgb(255, 255, 255); fill-opacity: 1; white-space: pre;\">24</text></g><g class=\"heatmap-label\"><text text-anchor=\"middle\" data-notex=\"1\" x=\"198\" y=\"46.2\" style=\"font-family: 'Open Sans', verdana, arial, sans-serif; font-size: 12px; fill: rgb(255, 255, 255); fill-opacity: 1; white-space: pre;\">0</text></g></g></g></g><g class=\"overplot\"/><path class=\"xlines-above crisp\" style=\"fill: none;\" d=\"M0,0\"/><path class=\"ylines-above crisp\" style=\"fill: none;\" d=\"M0,0\"/><g class=\"overlines-above\"/><g class=\"xaxislayer-above\"><g class=\"x3tick\"><text text-anchor=\"middle\" x=\"0\" y=\"363\" transform=\"translate(736.1133333333333,0)\" style=\"font-family: 'Open Sans', verdana, arial, sans-serif; font-size: 12px; fill: rgb(42, 63, 95); fill-opacity: 1; white-space: pre; opacity: 1;\">[13, 17]</text></g><g class=\"x3tick\"><text text-anchor=\"middle\" x=\"0\" y=\"363\" transform=\"translate(815.2633333333333,0)\" style=\"font-family: 'Open Sans', verdana, arial, sans-serif; font-size: 12px; fill: rgb(42, 63, 95); fill-opacity: 1; white-space: pre; opacity: 1;\">(17, 33]</text></g><g class=\"x3tick\"><text text-anchor=\"middle\" x=\"0\" y=\"363\" transform=\"translate(894.4233333333333,0)\" style=\"font-family: 'Open Sans', verdana, arial, sans-serif; font-size: 12px; fill: rgb(42, 63, 95); fill-opacity: 1; white-space: pre; opacity: 1;\">(33, 33]</text></g></g><g class=\"yaxislayer-above\"/><g class=\"overaxes-above\"/></g></g><g class=\"polarlayer\"/><g class=\"smithlayer\"/><g class=\"ternarylayer\"/><g class=\"geolayer\"/><g class=\"funnelarealayer\"/><g class=\"pielayer\"/><g class=\"iciclelayer\"/><g class=\"treemaplayer\"/><g class=\"sunburstlayer\"/><g class=\"glimages\"/><defs id=\"topdefs-360bbd\"><g class=\"clips\"/></defs><g class=\"layer-above\"><g class=\"imagelayer\"/><g class=\"shapelayer\"/></g><g class=\"infolayer\"><g class=\"cbbb81c7 colorbar\" transform=\"translate(112,100)\"><rect class=\"cbbg\" x=\"838\" y=\"0\" width=\"88.046875\" height=\"250\" style=\"fill: rgb(0, 0, 0); fill-opacity: 0; stroke: rgb(68, 68, 68); stroke-opacity: 1; stroke-width: 0;\"/><g class=\"cbfills\" transform=\"translate(0,33)\"><rect class=\"cbfill gradient_filled\" style=\"fill: url('#g360bbd-cbbb81c7');\" x=\"848\" y=\"0\" width=\"30\" height=\"207\"/></g><g class=\"cblines\" transform=\"translate(0,33)\"/><g class=\"cbaxis crisp\" transform=\"translate(0,-100)\"><g class=\"ycbbb81c7tick\"><text text-anchor=\"start\" x=\"880.9\" y=\"4.199999999999999\" transform=\"translate(0,339.999375)\" style=\"font-family: 'Open Sans', verdana, arial, sans-serif; font-size: 12px; fill: rgb(42, 63, 95); fill-opacity: 1; white-space: pre; opacity: 1;\">0</text></g><g class=\"ycbbb81c7tick\"><text text-anchor=\"start\" x=\"880.9\" y=\"4.199999999999999\" style=\"font-family: 'Open Sans', verdana, arial, sans-serif; font-size: 12px; fill: rgb(42, 63, 95); fill-opacity: 1; white-space: pre; opacity: 1;\" transform=\"translate(0,288.14937499999996)\">50</text></g><g class=\"ycbbb81c7tick\"><text text-anchor=\"start\" x=\"880.9\" y=\"4.199999999999999\" style=\"font-family: 'Open Sans', verdana, arial, sans-serif; font-size: 12px; fill: rgb(42, 63, 95); fill-opacity: 1; white-space: pre; opacity: 1;\" transform=\"translate(0,236.309375)\">100</text></g><g class=\"ycbbb81c7tick\"><text text-anchor=\"start\" x=\"880.9\" y=\"4.199999999999999\" style=\"font-family: 'Open Sans', verdana, arial, sans-serif; font-size: 12px; fill: rgb(42, 63, 95); fill-opacity: 1; white-space: pre; opacity: 1;\" transform=\"translate(0,184.459375)\">150</text></g><g class=\"ycbbb81c7tick\"><text text-anchor=\"start\" x=\"880.9\" y=\"4.199999999999999\" style=\"font-family: 'Open Sans', verdana, arial, sans-serif; font-size: 12px; fill: rgb(42, 63, 95); fill-opacity: 1; white-space: pre; opacity: 1;\" transform=\"translate(0,132.609375)\">200</text></g></g><g class=\"cbtitleunshift\" transform=\"translate(-112,-100)\"><g class=\"cbtitle\" transform=\"\"><text class=\"ycbbb81c7title\" x=\"960.44\" y=\"123.5\" text-anchor=\"start\" style=\"font-family: 'Open Sans', verdana, arial, sans-serif; font-size: 14px; fill: rgb(42, 63, 95); opacity: 1; font-weight: normal; white-space: pre;\">Pearson r</text></g></g><rect class=\"cboutline\" x=\"848\" y=\"32.609375\" width=\"30\" height=\"207.390625\" style=\"stroke: rgb(68, 68, 68); stroke-opacity: 1; fill: none; stroke-width: 0;\"/></g><g class=\"g-gtitle\"/><g class=\"g-xtitle\"><text class=\"xtitle\" x=\"230.73333333333335\" y=\"389.70625\" text-anchor=\"middle\" style=\"font-family: 'Open Sans', verdana, arial, sans-serif; font-size: 14px; fill: rgb(42, 63, 95); opacity: 1; font-weight: normal; white-space: pre;\">#compound-target pairs per accession</text></g><g class=\"g-x2title\"><text class=\"x2title\" x=\"523\" y=\"389.70625\" text-anchor=\"middle\" style=\"font-family: 'Open Sans', verdana, arial, sans-serif; font-size: 14px; fill: rgb(42, 63, 95); opacity: 1; font-weight: normal; white-space: pre;\">#compound-target pairs per accession</text></g><g class=\"g-x3title\"><text class=\"x3title\" x=\"815.2666666666667\" y=\"389.70625\" text-anchor=\"middle\" style=\"font-family: 'Open Sans', verdana, arial, sans-serif; font-size: 14px; fill: rgb(42, 63, 95); opacity: 1; font-weight: normal; white-space: pre;\">#compound-target pairs per accession</text></g><g class=\"g-ytitle\" transform=\"translate(1.7060546875,0)\"><text class=\"ytitle\" transform=\"rotate(-90,12.700000000000003,225)\" x=\"12.700000000000003\" y=\"225\" text-anchor=\"middle\" style=\"font-family: 'Open Sans', verdana, arial, sans-serif; font-size: 14px; fill: rgb(42, 63, 95); opacity: 1; font-weight: normal; white-space: pre;\">Minority class (WT/mutant) %</text></g><g class=\"g-y2title\"/><g class=\"g-y3title\"/><g class=\"annotation\" data-index=\"0\" style=\"opacity: 1;\"><g class=\"annotation-text-g\" transform=\"rotate(0,230.73333333333335,88.5)\"><g class=\"cursor-pointer\" transform=\"translate(159,77)\"><rect class=\"bg\" x=\"0.5\" y=\"0.5\" width=\"142\" height=\"22\" style=\"stroke-width: 1px; stroke: rgb(0, 0, 0); stroke-opacity: 0; fill: rgb(0, 0, 0); fill-opacity: 0;\"/><text class=\"annotation-text\" text-anchor=\"middle\" x=\"71.3125\" y=\"18\" style=\"font-family: 'Open Sans', verdana, arial, sans-serif; font-size: 16px; fill: rgb(42, 63, 95); fill-opacity: 1; white-space: pre;\">complete dataset</text></g></g></g><g class=\"annotation\" data-index=\"1\" style=\"opacity: 1;\"><g class=\"annotation-text-g\" transform=\"rotate(0,523,88.5)\"><g class=\"cursor-pointer\" transform=\"translate(479,77)\"><rect class=\"bg\" x=\"0.5\" y=\"0.5\" width=\"87\" height=\"22\" style=\"stroke-width: 1px; stroke: rgb(0, 0, 0); stroke-opacity: 0; fill: rgb(0, 0, 0); fill-opacity: 0;\"/><text class=\"annotation-text\" text-anchor=\"middle\" x=\"43.75\" y=\"18\" style=\"font-family: 'Open Sans', verdana, arial, sans-serif; font-size: 16px; fill: rgb(42, 63, 95); fill-opacity: 1; white-space: pre;\">no mutant</text></g></g></g><g class=\"annotation\" data-index=\"2\" style=\"opacity: 1;\"><g class=\"annotation-text-g\" transform=\"rotate(0,815.2666666666668,88.5)\"><g class=\"cursor-pointer\" transform=\"translate(750,77)\"><rect class=\"bg\" x=\"0.5\" y=\"0.5\" width=\"130\" height=\"22\" style=\"stroke-width: 1px; stroke: rgb(0, 0, 0); stroke-opacity: 0; fill: rgb(0, 0, 0); fill-opacity: 0;\"/><text class=\"annotation-text\" text-anchor=\"middle\" x=\"65.625\" y=\"18\" style=\"font-family: 'Open Sans', verdana, arial, sans-serif; font-size: 16px; fill: rgb(42, 63, 95); fill-opacity: 1; white-space: pre;\">common subset</text></g></g></g></g></svg>"
      ],
      "text/plain": [
       "<IPython.core.display.SVG object>"
      ]
     },
     "metadata": {},
     "output_type": "display_data"
    },
    {
     "data": {
      "image/svg+xml": [
       "<svg xmlns=\"http://www.w3.org/2000/svg\" xmlns:xlink=\"http://www.w3.org/1999/xlink\" class=\"main-svg\" width=\"1050\" height=\"430\" style=\"\" viewBox=\"0 0 1050 430\"><rect x=\"0\" y=\"0\" width=\"1050\" height=\"430\" style=\"fill: rgb(255, 255, 255); fill-opacity: 1;\"/><defs id=\"defs-089431\"><g class=\"clips\"><clipPath id=\"clip089431xyplot\" class=\"plotclip\"><rect width=\"237.4666666666667\" height=\"235\"/></clipPath><clipPath id=\"clip089431x2y2plot\" class=\"plotclip\"><rect width=\"237.4666666666667\" height=\"235\"/></clipPath><clipPath id=\"clip089431x3y3plot\" class=\"plotclip\"><rect width=\"237.46666666666664\" height=\"235\"/></clipPath><clipPath class=\"axesclip\" id=\"clip089431x\"><rect x=\"112\" y=\"0\" width=\"237.4666666666667\" height=\"430\"/></clipPath><clipPath class=\"axesclip\" id=\"clip089431y\"><rect x=\"0\" y=\"100\" width=\"1050\" height=\"235\"/></clipPath><clipPath class=\"axesclip\" id=\"clip089431xy\"><rect x=\"112\" y=\"100\" width=\"237.4666666666667\" height=\"235\"/></clipPath><clipPath class=\"axesclip\" id=\"clip089431y2\"><rect x=\"0\" y=\"100\" width=\"1050\" height=\"235\"/></clipPath><clipPath class=\"axesclip\" id=\"clip089431xy2\"><rect x=\"112\" y=\"100\" width=\"237.4666666666667\" height=\"235\"/></clipPath><clipPath class=\"axesclip\" id=\"clip089431y3\"><rect x=\"0\" y=\"100\" width=\"1050\" height=\"235\"/></clipPath><clipPath class=\"axesclip\" id=\"clip089431xy3\"><rect x=\"112\" y=\"100\" width=\"237.4666666666667\" height=\"235\"/></clipPath><clipPath class=\"axesclip\" id=\"clip089431x2\"><rect x=\"404.26666666666665\" y=\"0\" width=\"237.4666666666667\" height=\"430\"/></clipPath><clipPath class=\"axesclip\" id=\"clip089431x2y\"><rect x=\"404.26666666666665\" y=\"100\" width=\"237.4666666666667\" height=\"235\"/></clipPath><clipPath class=\"axesclip\" id=\"clip089431x2y2\"><rect x=\"404.26666666666665\" y=\"100\" width=\"237.4666666666667\" height=\"235\"/></clipPath><clipPath class=\"axesclip\" id=\"clip089431x2y3\"><rect x=\"404.26666666666665\" y=\"100\" width=\"237.4666666666667\" height=\"235\"/></clipPath><clipPath class=\"axesclip\" id=\"clip089431x3\"><rect x=\"696.5333333333333\" y=\"0\" width=\"237.46666666666664\" height=\"430\"/></clipPath><clipPath class=\"axesclip\" id=\"clip089431x3y\"><rect x=\"696.5333333333333\" y=\"100\" width=\"237.46666666666664\" height=\"235\"/></clipPath><clipPath class=\"axesclip\" id=\"clip089431x3y2\"><rect x=\"696.5333333333333\" y=\"100\" width=\"237.46666666666664\" height=\"235\"/></clipPath><clipPath class=\"axesclip\" id=\"clip089431x3y3\"><rect x=\"696.5333333333333\" y=\"100\" width=\"237.46666666666664\" height=\"235\"/></clipPath></g><g class=\"gradients\"><linearGradient x1=\"0\" x2=\"0\" y1=\"1\" y2=\"0\" id=\"g089431-cb6f98ea\"><stop offset=\"0%\" stop-color=\"rgb(165, 0, 38)\" stop-opacity=\"1\"/><stop offset=\"10%\" stop-color=\"rgb(215, 48, 39)\" stop-opacity=\"1\"/><stop offset=\"20%\" stop-color=\"rgb(244, 109, 67)\" stop-opacity=\"1\"/><stop offset=\"30%\" stop-color=\"rgb(253, 174, 97)\" stop-opacity=\"1\"/><stop offset=\"40%\" stop-color=\"rgb(254, 224, 139)\" stop-opacity=\"1\"/><stop offset=\"50%\" stop-color=\"rgb(255, 255, 191)\" stop-opacity=\"1\"/><stop offset=\"60%\" stop-color=\"rgb(217, 239, 139)\" stop-opacity=\"1\"/><stop offset=\"70%\" stop-color=\"rgb(166, 217, 106)\" stop-opacity=\"1\"/><stop offset=\"80%\" stop-color=\"rgb(102, 189, 99)\" stop-opacity=\"1\"/><stop offset=\"90%\" stop-color=\"rgb(26, 152, 80)\" stop-opacity=\"1\"/><stop offset=\"100%\" stop-color=\"rgb(0, 104, 55)\" stop-opacity=\"1\"/></linearGradient></g><g class=\"patterns\"/></defs><g class=\"bglayer\"><rect class=\"bg\" x=\"112\" y=\"100\" width=\"237.4666666666667\" height=\"235\" style=\"fill: rgb(229, 236, 246); fill-opacity: 1; stroke-width: 0;\"/><rect class=\"bg\" x=\"404.26666666666665\" y=\"100\" width=\"237.4666666666667\" height=\"235\" style=\"fill: rgb(229, 236, 246); fill-opacity: 1; stroke-width: 0;\"/><rect class=\"bg\" x=\"696.5333333333333\" y=\"100\" width=\"237.46666666666664\" height=\"235\" style=\"fill: rgb(229, 236, 246); fill-opacity: 1; stroke-width: 0;\"/></g><g class=\"layer-below\"><g class=\"imagelayer\"/><g class=\"shapelayer\"/></g><g class=\"cartesianlayer\"><g class=\"subplot xy\"><g class=\"layer-subplot\"><g class=\"shapelayer\"/><g class=\"imagelayer\"/></g><g class=\"minor-gridlayer\"><g class=\"x\"/><g class=\"y\"/></g><g class=\"gridlayer\"><g class=\"x\"><path class=\"xgrid crisp\" transform=\"translate(151.57999999999998,0)\" d=\"M0,100v235\" style=\"stroke: rgb(255, 255, 255); stroke-opacity: 1; stroke-width: 1px;\"/><path class=\"xgrid crisp\" transform=\"translate(230.73000000000002,0)\" d=\"M0,100v235\" style=\"stroke: rgb(255, 255, 255); stroke-opacity: 1; stroke-width: 1px;\"/><path class=\"xgrid crisp\" transform=\"translate(309.89,0)\" d=\"M0,100v235\" style=\"stroke: rgb(255, 255, 255); stroke-opacity: 1; stroke-width: 1px;\"/></g><g class=\"y\"><path class=\"ygrid crisp\" transform=\"translate(0,295.83000000000004)\" d=\"M112,0h237.4666666666667\" style=\"stroke: rgb(255, 255, 255); stroke-opacity: 1; stroke-width: 1px;\"/><path class=\"ygrid crisp\" transform=\"translate(0,217.5)\" d=\"M112,0h237.4666666666667\" style=\"stroke: rgb(255, 255, 255); stroke-opacity: 1; stroke-width: 1px;\"/><path class=\"ygrid crisp\" transform=\"translate(0,139.17000000000002)\" d=\"M112,0h237.4666666666667\" style=\"stroke: rgb(255, 255, 255); stroke-opacity: 1; stroke-width: 1px;\"/></g></g><g class=\"zerolinelayer\"/><path class=\"xlines-below\"/><path class=\"ylines-below\"/><g class=\"overlines-below\"/><g class=\"xaxislayer-below\"/><g class=\"yaxislayer-below\"/><g class=\"overaxes-below\"/><g class=\"plot\" transform=\"translate(112,100)\" clip-path=\"url(#clip089431xyplot)\"><g class=\"heatmaplayer mlayer\"><g class=\"hm\"><image xmlns=\"http://www.w3.org/2000/svg\" preserveAspectRatio=\"none\" height=\"235\" width=\"237\" x=\"0\" y=\"0\" xlink:href=\"data:image/png;base64,iVBORw0KGgoAAAANSUhEUgAAAAMAAAADCAYAAABWKLW/AAAAJ0lEQVQYV2NcwaT2n4mZAQwYV7Gq/WdmgnK+lnv8Z1XgZ3iz4x4DAJKuCRoZZjNsAAAAAElFTkSuQmCC\" style=\"image-rendering: pixelated; opacity: 1;\"/><g class=\"heatmap-label\"><text text-anchor=\"middle\" data-notex=\"1\" x=\"40\" y=\"200.2\" style=\"font-family: 'Open Sans', verdana, arial, sans-serif; font-size: 12px; fill: rgb(68, 68, 68); fill-opacity: 1; white-space: pre;\">43</text></g><g class=\"heatmap-label\"><text text-anchor=\"middle\" data-notex=\"1\" x=\"119\" y=\"200.2\" style=\"font-family: 'Open Sans', verdana, arial, sans-serif; font-size: 12px; fill: rgb(68, 68, 68); fill-opacity: 1; white-space: pre;\">53</text></g><g class=\"heatmap-label\"><text text-anchor=\"middle\" data-notex=\"1\" x=\"198\" y=\"200.2\" style=\"font-family: 'Open Sans', verdana, arial, sans-serif; font-size: 12px; fill: rgb(255, 255, 255); fill-opacity: 1; white-space: pre;\">30</text></g><g class=\"heatmap-label\"><text text-anchor=\"middle\" data-notex=\"1\" x=\"40\" y=\"122.2\" style=\"font-family: 'Open Sans', verdana, arial, sans-serif; font-size: 12px; fill: rgb(255, 255, 255); fill-opacity: 1; white-space: pre;\">2</text></g><g class=\"heatmap-label\"><text text-anchor=\"middle\" data-notex=\"1\" x=\"119\" y=\"122.2\" style=\"font-family: 'Open Sans', verdana, arial, sans-serif; font-size: 12px; fill: rgb(255, 255, 255); fill-opacity: 1; white-space: pre;\">3</text></g><g class=\"heatmap-label\"><text text-anchor=\"middle\" data-notex=\"1\" x=\"198\" y=\"122.2\" style=\"font-family: 'Open Sans', verdana, arial, sans-serif; font-size: 12px; fill: rgb(255, 255, 255); fill-opacity: 1; white-space: pre;\">3</text></g><g class=\"heatmap-label\"><text text-anchor=\"middle\" data-notex=\"1\" x=\"40\" y=\"43.2\" style=\"font-family: 'Open Sans', verdana, arial, sans-serif; font-size: 12px; fill: rgb(255, 255, 255); fill-opacity: 1; white-space: pre;\">1</text></g><g class=\"heatmap-label\"><text text-anchor=\"middle\" data-notex=\"1\" x=\"119\" y=\"43.2\" style=\"font-family: 'Open Sans', verdana, arial, sans-serif; font-size: 12px; fill: rgb(255, 255, 255); fill-opacity: 1; white-space: pre;\">2</text></g><g class=\"heatmap-label\"><text text-anchor=\"middle\" data-notex=\"1\" x=\"198\" y=\"43.2\" style=\"font-family: 'Open Sans', verdana, arial, sans-serif; font-size: 12px; fill: rgb(255, 255, 255); fill-opacity: 1; white-space: pre;\">2</text></g></g></g></g><g class=\"overplot\"/><path class=\"xlines-above crisp\" style=\"fill: none;\" d=\"M0,0\"/><path class=\"ylines-above crisp\" style=\"fill: none;\" d=\"M0,0\"/><g class=\"overlines-above\"/><g class=\"xaxislayer-above\"><g class=\"xtick\"><text text-anchor=\"start\" x=\"0\" y=\"348\" transform=\"translate(151.57999999999998,0) rotate(30,0,342)\" style=\"font-family: 'Open Sans', verdana, arial, sans-serif; font-size: 12px; fill: rgb(42, 63, 95); fill-opacity: 1; white-space: pre; opacity: 1;\">[694, 1408]</text></g><g class=\"xtick\"><text text-anchor=\"start\" x=\"0\" y=\"348\" transform=\"translate(230.73000000000002,0) rotate(30,0,342)\" style=\"font-family: 'Open Sans', verdana, arial, sans-serif; font-size: 12px; fill: rgb(42, 63, 95); fill-opacity: 1; white-space: pre; opacity: 1;\">(1408, 3467]</text></g><g class=\"xtick\"><text text-anchor=\"start\" x=\"0\" y=\"348\" transform=\"translate(309.89,0) rotate(30,0,342)\" style=\"font-family: 'Open Sans', verdana, arial, sans-serif; font-size: 12px; fill: rgb(42, 63, 95); fill-opacity: 1; white-space: pre; opacity: 1;\">(3467, 20056]</text></g></g><g class=\"yaxislayer-above\"><g class=\"ytick\"><text text-anchor=\"end\" x=\"111\" y=\"4.199999999999999\" transform=\"translate(0,295.83000000000004)\" style=\"font-family: 'Open Sans', verdana, arial, sans-serif; font-size: 12px; fill: rgb(42, 63, 95); fill-opacity: 1; white-space: pre; opacity: 1;\">[-0, 15]</text></g><g class=\"ytick\"><text text-anchor=\"end\" x=\"111\" y=\"4.199999999999999\" transform=\"translate(0,217.5)\" style=\"font-family: 'Open Sans', verdana, arial, sans-serif; font-size: 12px; fill: rgb(42, 63, 95); fill-opacity: 1; white-space: pre; opacity: 1;\">(15.0, 30.0]</text></g><g class=\"ytick\"><text text-anchor=\"end\" x=\"111\" y=\"4.199999999999999\" transform=\"translate(0,139.17000000000002)\" style=\"font-family: 'Open Sans', verdana, arial, sans-serif; font-size: 12px; fill: rgb(42, 63, 95); fill-opacity: 1; white-space: pre; opacity: 1;\">(30.0, 50.0]</text></g></g><g class=\"overaxes-above\"/></g><g class=\"subplot x2y2\"><g class=\"layer-subplot\"><g class=\"shapelayer\"/><g class=\"imagelayer\"/></g><g class=\"minor-gridlayer\"><g class=\"x2\"/><g class=\"y2\"/></g><g class=\"gridlayer\"><g class=\"x2\"><path class=\"x2grid crisp\" transform=\"translate(443.84666666666664,0)\" d=\"M0,100v235\" style=\"stroke: rgb(255, 255, 255); stroke-opacity: 1; stroke-width: 1px;\"/><path class=\"x2grid crisp\" transform=\"translate(522.9966666666667,0)\" d=\"M0,100v235\" style=\"stroke: rgb(255, 255, 255); stroke-opacity: 1; stroke-width: 1px;\"/><path class=\"x2grid crisp\" transform=\"translate(602.1566666666666,0)\" d=\"M0,100v235\" style=\"stroke: rgb(255, 255, 255); stroke-opacity: 1; stroke-width: 1px;\"/></g><g class=\"y2\"><path class=\"y2grid crisp\" transform=\"translate(0,295.83000000000004)\" d=\"M404.26666666666665,0h237.4666666666667\" style=\"stroke: rgb(255, 255, 255); stroke-opacity: 1; stroke-width: 1px;\"/><path class=\"y2grid crisp\" transform=\"translate(0,217.5)\" d=\"M404.26666666666665,0h237.4666666666667\" style=\"stroke: rgb(255, 255, 255); stroke-opacity: 1; stroke-width: 1px;\"/><path class=\"y2grid crisp\" transform=\"translate(0,139.17000000000002)\" d=\"M404.26666666666665,0h237.4666666666667\" style=\"stroke: rgb(255, 255, 255); stroke-opacity: 1; stroke-width: 1px;\"/></g></g><g class=\"zerolinelayer\"/><path class=\"xlines-below\"/><path class=\"ylines-below\"/><g class=\"overlines-below\"/><g class=\"xaxislayer-below\"/><g class=\"yaxislayer-below\"/><g class=\"overaxes-below\"/><g class=\"plot\" transform=\"translate(404.26666666666665,100)\" clip-path=\"url(#clip089431x2y2plot)\"><g class=\"heatmaplayer mlayer\"><g class=\"hm\"><image xmlns=\"http://www.w3.org/2000/svg\" preserveAspectRatio=\"none\" height=\"235\" width=\"237\" x=\"0\" y=\"0\" xlink:href=\"data:image/png;base64,iVBORw0KGgoAAAANSUhEUgAAAAMAAAADCAYAAABWKLW/AAAAMElEQVQYV2NcwaT2n4mZgeHfXwYGxqUMav+5uBgYfv9mYGD8Wu7xn0WKh+HtvocMAO2MDRCXuNqcAAAAAElFTkSuQmCC\" style=\"image-rendering: pixelated; opacity: 1;\"/><g class=\"heatmap-label\"><text text-anchor=\"middle\" data-notex=\"1\" x=\"40\" y=\"200.2\" style=\"font-family: 'Open Sans', verdana, arial, sans-serif; font-size: 12px; fill: rgb(68, 68, 68); fill-opacity: 1; white-space: pre;\">43</text></g><g class=\"heatmap-label\"><text text-anchor=\"middle\" data-notex=\"1\" x=\"119\" y=\"200.2\" style=\"font-family: 'Open Sans', verdana, arial, sans-serif; font-size: 12px; fill: rgb(68, 68, 68); fill-opacity: 1; white-space: pre;\">51</text></g><g class=\"heatmap-label\"><text text-anchor=\"middle\" data-notex=\"1\" x=\"198\" y=\"200.2\" style=\"font-family: 'Open Sans', verdana, arial, sans-serif; font-size: 12px; fill: rgb(255, 255, 255); fill-opacity: 1; white-space: pre;\">30</text></g><g class=\"heatmap-label\"><text text-anchor=\"middle\" data-notex=\"1\" x=\"40\" y=\"122.2\" style=\"font-family: 'Open Sans', verdana, arial, sans-serif; font-size: 12px; fill: rgb(255, 255, 255); fill-opacity: 1; white-space: pre;\">0</text></g><g class=\"heatmap-label\"><text text-anchor=\"middle\" data-notex=\"1\" x=\"119\" y=\"122.2\" style=\"font-family: 'Open Sans', verdana, arial, sans-serif; font-size: 12px; fill: rgb(255, 255, 255); fill-opacity: 1; white-space: pre;\">4</text></g><g class=\"heatmap-label\"><text text-anchor=\"middle\" data-notex=\"1\" x=\"198\" y=\"122.2\" style=\"font-family: 'Open Sans', verdana, arial, sans-serif; font-size: 12px; fill: rgb(255, 255, 255); fill-opacity: 1; white-space: pre;\">2</text></g><g class=\"heatmap-label\"><text text-anchor=\"middle\" data-notex=\"1\" x=\"40\" y=\"43.2\" style=\"font-family: 'Open Sans', verdana, arial, sans-serif; font-size: 12px; fill: rgb(255, 255, 255); fill-opacity: 1; white-space: pre;\">1</text></g><g class=\"heatmap-label\"><text text-anchor=\"middle\" data-notex=\"1\" x=\"119\" y=\"43.2\" style=\"font-family: 'Open Sans', verdana, arial, sans-serif; font-size: 12px; fill: rgb(255, 255, 255); fill-opacity: 1; white-space: pre;\">2</text></g><g class=\"heatmap-label\"><text text-anchor=\"middle\" data-notex=\"1\" x=\"198\" y=\"43.2\" style=\"font-family: 'Open Sans', verdana, arial, sans-serif; font-size: 12px; fill: rgb(255, 255, 255); fill-opacity: 1; white-space: pre;\">1</text></g></g></g></g><g class=\"overplot\"/><path class=\"xlines-above crisp\" style=\"fill: none;\" d=\"M0,0\"/><path class=\"ylines-above crisp\" style=\"fill: none;\" d=\"M0,0\"/><g class=\"overlines-above\"/><g class=\"xaxislayer-above\"><g class=\"x2tick\"><text text-anchor=\"start\" x=\"0\" y=\"348\" transform=\"translate(443.84666666666664,0) rotate(30,0,342)\" style=\"font-family: 'Open Sans', verdana, arial, sans-serif; font-size: 12px; fill: rgb(42, 63, 95); fill-opacity: 1; white-space: pre; opacity: 1;\">[694, 1408]</text></g><g class=\"x2tick\"><text text-anchor=\"start\" x=\"0\" y=\"348\" transform=\"translate(522.9966666666667,0) rotate(30,0,342)\" style=\"font-family: 'Open Sans', verdana, arial, sans-serif; font-size: 12px; fill: rgb(42, 63, 95); fill-opacity: 1; white-space: pre; opacity: 1;\">(1408, 3467]</text></g><g class=\"x2tick\"><text text-anchor=\"start\" x=\"0\" y=\"348\" transform=\"translate(602.1566666666666,0) rotate(30,0,342)\" style=\"font-family: 'Open Sans', verdana, arial, sans-serif; font-size: 12px; fill: rgb(42, 63, 95); fill-opacity: 1; white-space: pre; opacity: 1;\">(3467, 20056]</text></g></g><g class=\"yaxislayer-above\"/><g class=\"overaxes-above\"/></g><g class=\"subplot x3y3\"><g class=\"layer-subplot\"><g class=\"shapelayer\"/><g class=\"imagelayer\"/></g><g class=\"minor-gridlayer\"><g class=\"x3\"/><g class=\"y3\"/></g><g class=\"gridlayer\"><g class=\"x3\"><path class=\"x3grid crisp\" transform=\"translate(736.1133333333333,0)\" d=\"M0,100v235\" style=\"stroke: rgb(255, 255, 255); stroke-opacity: 1; stroke-width: 1px;\"/><path class=\"x3grid crisp\" transform=\"translate(815.2633333333333,0)\" d=\"M0,100v235\" style=\"stroke: rgb(255, 255, 255); stroke-opacity: 1; stroke-width: 1px;\"/><path class=\"x3grid crisp\" transform=\"translate(894.4233333333333,0)\" d=\"M0,100v235\" style=\"stroke: rgb(255, 255, 255); stroke-opacity: 1; stroke-width: 1px;\"/></g><g class=\"y3\"><path class=\"y3grid crisp\" transform=\"translate(0,295.83000000000004)\" d=\"M696.5333333333333,0h237.46666666666664\" style=\"stroke: rgb(255, 255, 255); stroke-opacity: 1; stroke-width: 1px;\"/><path class=\"y3grid crisp\" transform=\"translate(0,217.5)\" d=\"M696.5333333333333,0h237.46666666666664\" style=\"stroke: rgb(255, 255, 255); stroke-opacity: 1; stroke-width: 1px;\"/><path class=\"y3grid crisp\" transform=\"translate(0,139.17000000000002)\" d=\"M696.5333333333333,0h237.46666666666664\" style=\"stroke: rgb(255, 255, 255); stroke-opacity: 1; stroke-width: 1px;\"/></g></g><g class=\"zerolinelayer\"/><path class=\"xlines-below\"/><path class=\"ylines-below\"/><g class=\"overlines-below\"/><g class=\"xaxislayer-below\"/><g class=\"yaxislayer-below\"/><g class=\"overaxes-below\"/><g class=\"plot\" transform=\"translate(696.5333333333333,100)\" clip-path=\"url(#clip089431x3y3plot)\"><g class=\"heatmaplayer mlayer\"><g class=\"hm\"><image xmlns=\"http://www.w3.org/2000/svg\" preserveAspectRatio=\"none\" height=\"235\" width=\"237\" x=\"0\" y=\"0\" xlink:href=\"data:image/png;base64,iVBORw0KGgoAAAANSUhEUgAAAAMAAAADCAYAAABWKLW/AAAAKklEQVQYV2M8raL+n4mJAQwYtwuq/f/2jYGBlZWBgXEtu9p/EOP3bwYGALuECdn9TktEAAAAAElFTkSuQmCC\" style=\"image-rendering: pixelated; opacity: 1;\"/><g class=\"heatmap-label\"><text text-anchor=\"middle\" data-notex=\"1\" x=\"40\" y=\"200.2\" style=\"font-family: 'Open Sans', verdana, arial, sans-serif; font-size: 12px; fill: rgb(255, 255, 255); fill-opacity: 1; white-space: pre;\">3</text></g><g class=\"heatmap-label\"><text text-anchor=\"middle\" data-notex=\"1\" x=\"119\" y=\"200.2\" style=\"font-family: 'Open Sans', verdana, arial, sans-serif; font-size: 12px; fill: rgb(255, 255, 255); fill-opacity: 1; white-space: pre;\">5</text></g><g class=\"heatmap-label\"><text text-anchor=\"middle\" data-notex=\"1\" x=\"198\" y=\"200.2\" style=\"font-family: 'Open Sans', verdana, arial, sans-serif; font-size: 12px; fill: rgb(255, 255, 255); fill-opacity: 1; white-space: pre;\">3</text></g><g class=\"heatmap-label\"><text text-anchor=\"middle\" data-notex=\"1\" x=\"40\" y=\"122.2\" style=\"font-family: 'Open Sans', verdana, arial, sans-serif; font-size: 12px; fill: rgb(255, 255, 255); fill-opacity: 1; white-space: pre;\">7</text></g><g class=\"heatmap-label\"><text text-anchor=\"middle\" data-notex=\"1\" x=\"119\" y=\"122.2\" style=\"font-family: 'Open Sans', verdana, arial, sans-serif; font-size: 12px; fill: rgb(255, 255, 255); fill-opacity: 1; white-space: pre;\">3</text></g><g class=\"heatmap-label\"><text text-anchor=\"middle\" data-notex=\"1\" x=\"198\" y=\"122.2\" style=\"font-family: 'Open Sans', verdana, arial, sans-serif; font-size: 12px; fill: rgb(255, 255, 255); fill-opacity: 1; white-space: pre;\">5</text></g><g class=\"heatmap-label\"><text text-anchor=\"middle\" data-notex=\"1\" x=\"40\" y=\"43.2\" style=\"font-family: 'Open Sans', verdana, arial, sans-serif; font-size: 12px; fill: rgb(255, 255, 255); fill-opacity: 1; white-space: pre;\">15</text></g><g class=\"heatmap-label\"><text text-anchor=\"middle\" data-notex=\"1\" x=\"119\" y=\"43.2\" style=\"font-family: 'Open Sans', verdana, arial, sans-serif; font-size: 12px; fill: rgb(255, 255, 255); fill-opacity: 1; white-space: pre;\">16</text></g><g class=\"heatmap-label\"><text text-anchor=\"middle\" data-notex=\"1\" x=\"198\" y=\"43.2\" style=\"font-family: 'Open Sans', verdana, arial, sans-serif; font-size: 12px; fill: rgb(255, 255, 255); fill-opacity: 1; white-space: pre;\">16</text></g></g></g></g><g class=\"overplot\"/><path class=\"xlines-above crisp\" style=\"fill: none;\" d=\"M0,0\"/><path class=\"ylines-above crisp\" style=\"fill: none;\" d=\"M0,0\"/><g class=\"overlines-above\"/><g class=\"xaxislayer-above\"><g class=\"x3tick\"><text text-anchor=\"middle\" x=\"0\" y=\"348\" transform=\"translate(736.1133333333333,0)\" style=\"font-family: 'Open Sans', verdana, arial, sans-serif; font-size: 12px; fill: rgb(42, 63, 95); fill-opacity: 1; white-space: pre; opacity: 1;\">[33, 54]</text></g><g class=\"x3tick\"><text text-anchor=\"middle\" x=\"0\" y=\"348\" transform=\"translate(815.2633333333333,0)\" style=\"font-family: 'Open Sans', verdana, arial, sans-serif; font-size: 12px; fill: rgb(42, 63, 95); fill-opacity: 1; white-space: pre; opacity: 1;\">(54, 120]</text></g><g class=\"x3tick\"><text text-anchor=\"middle\" x=\"0\" y=\"348\" transform=\"translate(894.4233333333333,0)\" style=\"font-family: 'Open Sans', verdana, arial, sans-serif; font-size: 12px; fill: rgb(42, 63, 95); fill-opacity: 1; white-space: pre; opacity: 1;\">(120, 20056]</text></g></g><g class=\"yaxislayer-above\"/><g class=\"overaxes-above\"/></g></g><g class=\"polarlayer\"/><g class=\"smithlayer\"/><g class=\"ternarylayer\"/><g class=\"geolayer\"/><g class=\"funnelarealayer\"/><g class=\"pielayer\"/><g class=\"iciclelayer\"/><g class=\"treemaplayer\"/><g class=\"sunburstlayer\"/><g class=\"glimages\"/><defs id=\"topdefs-089431\"><g class=\"clips\"/></defs><g class=\"layer-above\"><g class=\"imagelayer\"/><g class=\"shapelayer\"/></g><g class=\"infolayer\"><g class=\"cb6f98ea colorbar\" transform=\"translate(112,100)\"><rect class=\"cbbg\" x=\"838\" y=\"0\" width=\"88.046875\" height=\"235\" style=\"fill: rgb(0, 0, 0); fill-opacity: 0; stroke: rgb(68, 68, 68); stroke-opacity: 1; stroke-width: 0;\"/><g class=\"cbfills\" transform=\"translate(0,33)\"><rect class=\"cbfill gradient_filled\" style=\"fill: url('#g089431-cb6f98ea');\" x=\"848\" y=\"0\" width=\"30\" height=\"192\"/></g><g class=\"cblines\" transform=\"translate(0,33)\"/><g class=\"cbaxis crisp\" transform=\"translate(0,-100)\"><g class=\"ycb6f98eatick\"><text text-anchor=\"start\" x=\"880.9\" y=\"4.199999999999999\" transform=\"translate(0,324.999375)\" style=\"font-family: 'Open Sans', verdana, arial, sans-serif; font-size: 12px; fill: rgb(42, 63, 95); fill-opacity: 1; white-space: pre; opacity: 1;\">0</text></g><g class=\"ycb6f98eatick\"><text text-anchor=\"start\" x=\"880.9\" y=\"4.199999999999999\" style=\"font-family: 'Open Sans', verdana, arial, sans-serif; font-size: 12px; fill: rgb(42, 63, 95); fill-opacity: 1; white-space: pre; opacity: 1;\" transform=\"translate(0,276.89937499999996)\">50</text></g><g class=\"ycb6f98eatick\"><text text-anchor=\"start\" x=\"880.9\" y=\"4.199999999999999\" style=\"font-family: 'Open Sans', verdana, arial, sans-serif; font-size: 12px; fill: rgb(42, 63, 95); fill-opacity: 1; white-space: pre; opacity: 1;\" transform=\"translate(0,228.809375)\">100</text></g><g class=\"ycb6f98eatick\"><text text-anchor=\"start\" x=\"880.9\" y=\"4.199999999999999\" style=\"font-family: 'Open Sans', verdana, arial, sans-serif; font-size: 12px; fill: rgb(42, 63, 95); fill-opacity: 1; white-space: pre; opacity: 1;\" transform=\"translate(0,180.70937499999997)\">150</text></g><g class=\"ycb6f98eatick\"><text text-anchor=\"start\" x=\"880.9\" y=\"4.199999999999999\" style=\"font-family: 'Open Sans', verdana, arial, sans-serif; font-size: 12px; fill: rgb(42, 63, 95); fill-opacity: 1; white-space: pre; opacity: 1;\" transform=\"translate(0,132.60937499999997)\">200</text></g></g><g class=\"cbtitleunshift\" transform=\"translate(-112,-100)\"><g class=\"cbtitle\" transform=\"\"><text class=\"ycb6f98eatitle\" x=\"960.44\" y=\"123.5\" text-anchor=\"start\" style=\"font-family: 'Open Sans', verdana, arial, sans-serif; font-size: 14px; fill: rgb(42, 63, 95); opacity: 1; font-weight: normal; white-space: pre;\">Pearson r</text></g></g><rect class=\"cboutline\" x=\"848\" y=\"32.609375\" width=\"30\" height=\"192.390625\" style=\"stroke: rgb(68, 68, 68); stroke-opacity: 1; fill: none; stroke-width: 0;\"/></g><g class=\"g-gtitle\"/><g class=\"g-xtitle\"><text class=\"xtitle\" x=\"230.73333333333335\" y=\"417.65761642456056\" text-anchor=\"middle\" style=\"font-family: 'Open Sans', verdana, arial, sans-serif; font-size: 14px; fill: rgb(42, 63, 95); opacity: 1; font-weight: normal; white-space: pre;\">#compound-target pairs per accession</text></g><g class=\"g-x2title\"><text class=\"x2title\" x=\"523\" y=\"417.65761642456056\" text-anchor=\"middle\" style=\"font-family: 'Open Sans', verdana, arial, sans-serif; font-size: 14px; fill: rgb(42, 63, 95); opacity: 1; font-weight: normal; white-space: pre;\">#compound-target pairs per accession</text></g><g class=\"g-x3title\"><text class=\"x3title\" x=\"815.2666666666667\" y=\"374.70625\" text-anchor=\"middle\" style=\"font-family: 'Open Sans', verdana, arial, sans-serif; font-size: 14px; fill: rgb(42, 63, 95); opacity: 1; font-weight: normal; white-space: pre;\">#compound-target pairs per accession</text></g><g class=\"g-ytitle\" transform=\"translate(1.7060546875,0)\"><text class=\"ytitle\" transform=\"rotate(-90,12.700000000000003,217.5)\" x=\"12.700000000000003\" y=\"217.5\" text-anchor=\"middle\" style=\"font-family: 'Open Sans', verdana, arial, sans-serif; font-size: 14px; fill: rgb(42, 63, 95); opacity: 1; font-weight: normal; white-space: pre;\">Minority class (WT/mutant) %</text></g><g class=\"g-y2title\"/><g class=\"g-y3title\"/><g class=\"annotation\" data-index=\"0\" style=\"opacity: 1;\"><g class=\"annotation-text-g\" transform=\"rotate(0,230.73333333333335,88.5)\"><g class=\"cursor-pointer\" transform=\"translate(159,77)\"><rect class=\"bg\" x=\"0.5\" y=\"0.5\" width=\"142\" height=\"22\" style=\"stroke-width: 1px; stroke: rgb(0, 0, 0); stroke-opacity: 0; fill: rgb(0, 0, 0); fill-opacity: 0;\"/><text class=\"annotation-text\" text-anchor=\"middle\" x=\"71.3125\" y=\"18\" style=\"font-family: 'Open Sans', verdana, arial, sans-serif; font-size: 16px; fill: rgb(42, 63, 95); fill-opacity: 1; white-space: pre;\">complete dataset</text></g></g></g><g class=\"annotation\" data-index=\"1\" style=\"opacity: 1;\"><g class=\"annotation-text-g\" transform=\"rotate(0,523,88.5)\"><g class=\"cursor-pointer\" transform=\"translate(479,77)\"><rect class=\"bg\" x=\"0.5\" y=\"0.5\" width=\"87\" height=\"22\" style=\"stroke-width: 1px; stroke: rgb(0, 0, 0); stroke-opacity: 0; fill: rgb(0, 0, 0); fill-opacity: 0;\"/><text class=\"annotation-text\" text-anchor=\"middle\" x=\"43.75\" y=\"18\" style=\"font-family: 'Open Sans', verdana, arial, sans-serif; font-size: 16px; fill: rgb(42, 63, 95); fill-opacity: 1; white-space: pre;\">no mutant</text></g></g></g><g class=\"annotation\" data-index=\"2\" style=\"opacity: 1;\"><g class=\"annotation-text-g\" transform=\"rotate(0,815.2666666666668,88.5)\"><g class=\"cursor-pointer\" transform=\"translate(750,77)\"><rect class=\"bg\" x=\"0.5\" y=\"0.5\" width=\"130\" height=\"22\" style=\"stroke-width: 1px; stroke: rgb(0, 0, 0); stroke-opacity: 0; fill: rgb(0, 0, 0); fill-opacity: 0;\"/><text class=\"annotation-text\" text-anchor=\"middle\" x=\"65.625\" y=\"18\" style=\"font-family: 'Open Sans', verdana, arial, sans-serif; font-size: 16px; fill: rgb(42, 63, 95); fill-opacity: 1; white-space: pre;\">common subset</text></g></g></g></g></svg>"
      ],
      "text/plain": [
       "<IPython.core.display.SVG object>"
      ]
     },
     "metadata": {},
     "output_type": "display_data"
    }
   ],
   "source": [
    "if USE_PERCENTILE:\n",
    "    #Nums  = [0, 33.34%], (33.34%, 66.67%], (66.67%, 100.0%]\n",
    "    #Ratios= [0, 16.67%], (16,67%, 33.34%], (33.34%, 50.0%]\n",
    "    update_count_bar_chart((0, num_33_percentile, num_66_percentile, 20056), (0, 15, 30, 50),\n",
    "                         (0, num_33_percentile_common, num_66_percentile_common, 20056), (0, 15, 30, 50)\n",
    "                 ).write_image(os.path.join(modelling_data_dir, 'heatmaps/counts_heatmapspercentiles.svg'), engine='orca')\n",
    "    #Nums  = [0, 11.12%], (11.12%, 22.23%], (22.23%, 33.34%]\n",
    "    #Ratios= [0, 16.67%], (16,67%, 33.34%], (33.34%, 50.0%]\n",
    "    update_count_bar_chart((0, num_11_percentile, num_22_percentile, num_33_percentile), (0, 15, 30, 50),\n",
    "                         (0, num_11_percentile_common, num_22_percentile_common, num_33_percentile_common), (0, 15, 30, 50)\n",
    "                     ).write_image(os.path.join(modelling_data_dir, 'heatmaps/counts_heatmapspercentiles_0-33-zoomin.svg'), engine='orca')\n",
    "    #Nums  = [33.34, 44.45%], (44.45%, 55.56%], (55.56%, 66.67%]\n",
    "    #Ratios= [0, 16.67%],     (16,67%, 33.34%], (33.34%, 50.0%]\n",
    "    update_count_bar_chart((num_33_percentile, num_44_percentile, num_55_percentile, num_66_percentile), (0, 15, 30, 50),\n",
    "                         (num_33_percentile_common, num_44_percentile_common, num_55_percentile_common, num_66_percentile_common), (0, 15, 30, 50)\n",
    "                     ).write_image(os.path.join(modelling_data_dir, 'heatmaps/counts_heatmapspercentiles_33-66-zoomin.svg'), engine='orca') \n",
    "    #Nums  = [66.67, 77.78%], (77.78%, 88.89%], (88.89%, 100.0%]\n",
    "    #Ratios= [0, 16.67%], (16,67%, 33.34%], (33.34%, 50.0%]\n",
    "    update_count_bar_chart((num_66_percentile, num_77_percentile, num_88_percentile, subplot1_data.num_datapoints_total.max()), (0, 15, 30, 50),\n",
    "                         (num_66_percentile_common, num_77_percentile_common, num_88_percentile_common, subplot1_data.num_datapoints_total.max()), (0, 15, 30, 50)\n",
    "                     ).write_image(os.path.join(modelling_data_dir, 'heatmaps/counts_heatmapspercentiles_66-100-zoomin.svg'), engine='orca')\n",
    "    display(SVG(data=os.path.join(modelling_data_dir, 'heatmaps/counts_heatmapspercentiles.svg')))\n",
    "    display(SVG(data=os.path.join(modelling_data_dir, 'heatmaps/counts_heatmapspercentiles_0-33-zoomin.svg')))\n",
    "    display(SVG(data=os.path.join(modelling_data_dir, 'heatmaps/counts_heatmapspercentiles_33-66-zoomin.svg')))\n",
    "    display(SVG(data=os.path.join(modelling_data_dir, 'heatmaps/counts_heatmapspercentiles_66-100-zoomin.svg')))\n",
    "else:\n",
    "    #Nums  = [0, 1_000],  (1_000, 10_000],  (10_000, 75_211]\n",
    "    #Ratios= [0, 16.67%], (16,67%, 33.34%], (33.34%, 50.0%]\n",
    "    update_count_bar_chart((0, 1_000, 10_000, 20056), (0, 15, 30, 50), (0, 100, 500, 2854), (0, 15, 30, 50),\n",
    "                     ).write_image(os.path.join(modelling_data_dir, 'heatmaps/counts_heatmapsnum-0-20k.svg'), engine='orca')\n",
    "    #Nums  = [0, 100],    (100, 500],       (500, 1_000]\n",
    "    #Ratios= [0, 16.67%], (16,67%, 33.34%], (33.34%, 50.0%]\n",
    "    update_count_bar_chart((0, 100, 500, 1000), (0, 15, 30, 50), (0, 100, 500, 2854), (0, 15, 30, 50),\n",
    "                     ).write_image(os.path.join(modelling_data_dir, 'heatmaps/counts_heatmapsnum-0k-1k-zoomin.svg'), engine='orca')\n",
    "    #Nums  = [1_000, 2_000],  (2_000, 5_000],  (5_000, 10_000]\n",
    "    #Ratios= [0, 16.67%], (16,67%, 33.34%], (33.34%, 50.0%]\n",
    "    update_count_bar_chart((1_000, 2_000, 5_000, 10_000), (0, 15, 30, 50), (0, 100, 500, 2854), (0, 15, 30, 50),\n",
    "                     ).write_image(os.path.join(modelling_data_dir, 'heatmaps/counts_heatmapsnum-1k-10k-zoomin.svg'), engine='orca')\n",
    "    #Nums  = [10_000, 15_000],  (15_000, 50_000],  (50_000, 75_211]\n",
    "    #Ratios= [0, 16.67%],       (16,67%, 33.34%],  (33.34%, 50.0%]\n",
    "    update_count_bar_chart((10_000, 14000, 18000, 20056), (0, 15, 30, 50), (0, 100, 500, 2854), (0, 15, 30, 50),\n",
    "                     ).write_image(os.path.join(modelling_data_dir, 'heatmaps/counts_heatmapsnum-10k-20k-zoomin.svg'), engine='orca')\n",
    "    display(SVG(data=os.path.join(modelling_data_dir, 'heatmaps/counts_heatmapsnum-0-20k.svg')))\n",
    "    display(SVG(data=os.path.join(modelling_data_dir, 'heatmaps/counts_heatmapsnum-0k-1k-zoomin.svg')))\n",
    "    display(SVG(data=os.path.join(modelling_data_dir, 'heatmaps/counts_heatmapsnum-1k-10k-zoomin.svg')))\n",
    "    display(SVG(data=os.path.join(modelling_data_dir, 'heatmaps/counts_heatmapsnum-10k-20k-zoomin.svg')))"
   ]
  },
  {
   "cell_type": "code",
   "execution_count": null,
   "id": "094afd37",
   "metadata": {},
   "outputs": [],
   "source": []
  }
 ],
 "metadata": {
  "kernelspec": {
   "display_name": "Python 3 (ipykernel)",
   "language": "python",
   "name": "python3"
  },
  "language_info": {
   "codemirror_mode": {
    "name": "ipython",
    "version": 3
   },
   "file_extension": ".py",
   "mimetype": "text/x-python",
   "name": "python",
   "nbconvert_exporter": "python",
   "pygments_lexer": "ipython3",
   "version": "3.9.17"
  }
 },
 "nbformat": 4,
 "nbformat_minor": 5
}
