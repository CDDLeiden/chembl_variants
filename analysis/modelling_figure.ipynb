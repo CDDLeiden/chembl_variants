{
 "cells": [
  {
   "cell_type": "code",
   "execution_count": null,
   "outputs": [],
   "source": [
    "%reload_ext autoreload\n",
    "%autoreload 2"
   ],
   "metadata": {
    "collapsed": false
   },
   "id": "ab36dc985289ab13"
  },
  {
   "cell_type": "code",
   "execution_count": null,
   "outputs": [],
   "source": [
    "!pip install plotly dash dash-html-components dash-core-components dash-table\n",
    "!conda install -y plotly-orca -c plotly"
   ],
   "metadata": {
    "collapsed": false
   },
   "id": "a805e34f9f14b4b3"
  },
  {
   "cell_type": "code",
   "execution_count": 1,
   "outputs": [],
   "source": [
    "from base64 import b64encode\n",
    "\n",
    "import numpy as np\n",
    "import pandas as pd\n",
    "from dash import Dash, dcc, html, Input, Output\n",
    "import plotly.graph_objects as go\n",
    "from plotly.subplots import  make_subplots"
   ],
   "metadata": {
    "collapsed": false,
    "ExecuteTime": {
     "end_time": "2023-08-03T07:26:42.634781600Z",
     "start_time": "2023-08-03T07:26:41.606151600Z"
    }
   },
   "id": "1aba5b4e8bbabddc"
  },
  {
   "cell_type": "code",
   "execution_count": 2,
   "outputs": [],
   "source": [
    "# Obtain data and format\n",
    "data = pd.read_csv('../../data/AllData.tsv.xz', sep='\\t')\n",
    "data_counts = pd.read_csv('../../data/stats_per_accession.txt', sep='\\t', usecols=['accession', 'num_datapoints', 'datapoints_mutant_percentage'])\n",
    "data_counts['datapoints_WT_percentage'] = 100 - data_counts.datapoints_mutant_percentage\n",
    "data_counts['minority_percentage'] = data_counts[['datapoints_mutant_percentage', 'datapoints_WT_percentage']].min(axis=1)\n",
    "# # Balance ratio between 0 and 1 (0 -> full imbalance, 1 -> full balance)\n",
    "# data_counts['balance_ratio'] = (1 - (2 * (50 - data_counts.datapoints_mutant_percentage) / 100).abs())\n",
    "# Add data counts and minority percentage\n",
    "data_counts = data_counts.drop(columns='datapoints_mutant_percentage')\n",
    "subplot1_data = (data[(data.crossval == 'random') & (data.folds == 'Mean') & (data.subset == 'complete')]\n",
    "                 .drop(columns=[col for col in data.columns if  col not in ['Pearson r', 'modeltype', 'accession']]))\n",
    "subplot1_data = (subplot1_data.merge(data_counts, on='accession')\n",
    "                 .drop(columns=['accession']))"
   ],
   "metadata": {
    "collapsed": false,
    "ExecuteTime": {
     "end_time": "2023-08-03T07:26:42.774776800Z",
     "start_time": "2023-08-03T07:26:42.639407700Z"
    }
   },
   "id": "8976e0f04b994dde"
  },
  {
   "cell_type": "code",
   "execution_count": 3,
   "outputs": [],
   "source": [
    "subplot2_data = (pd.concat([data[(data.crossval == 'random') & (data.folds == 'Mean') & (data.subset == 'complete') & (data.modeltype == 'QSAR')],\n",
    "                            data[(data.crossval == 'random') & (data.folds == 'Mean') & (data.subset == 'no mutant') & (data.modeltype == 'QSAR')]])\n",
    "                 .drop(columns=[col for col in data.columns if col not in ['Pearson r', 'accession', 'subset']]))\n",
    "subplot2_data = (subplot2_data.merge(data_counts, on='accession')\n",
    "                 .drop(columns=['accession']))"
   ],
   "metadata": {
    "collapsed": false,
    "ExecuteTime": {
     "end_time": "2023-08-03T07:26:42.810269900Z",
     "start_time": "2023-08-03T07:26:42.777793Z"
    }
   },
   "id": "94e9d2216b787959"
  },
  {
   "cell_type": "code",
   "execution_count": 4,
   "outputs": [],
   "source": [
    "subplot3_data = (pd.concat([data[(data.crossval == 'random') & (data.folds == 'Mean') & (data.subset == 'common') & (data.modeltype == 'PCM')],\n",
    "                            data[(data.crossval == 'random') & (data.folds == 'Mean') & (data.subset == 'common') & (data.modeltype == 'QSAR')]])\n",
    "                 .drop(columns=[col for col in data.columns if col not in ['Pearson r', 'accession', 'modeltype']]))\n",
    "subplot3_data = (subplot3_data.merge(data_counts, on='accession')\n",
    "                 .drop(columns=['accession']))"
   ],
   "metadata": {
    "collapsed": false,
    "ExecuteTime": {
     "end_time": "2023-08-03T07:26:42.850002Z",
     "start_time": "2023-08-03T07:26:42.809270400Z"
    }
   },
   "id": "4bb1d0ad3fa561ff"
  },
  {
   "cell_type": "code",
   "execution_count": 5,
   "outputs": [],
   "source": [
    "# Obtain 33rd and 66th percentiles\n",
    "num_33_percentile = round(pd.concat([subplot1_data.num_datapoints, subplot2_data.num_datapoints, subplot3_data.num_datapoints]).quantile(1/3), 0)\n",
    "num_66_percentile = round(pd.concat([subplot1_data.num_datapoints, subplot2_data.num_datapoints, subplot3_data.num_datapoints]).quantile(2/3), 0)\n",
    "ratio_33_percentile = round(pd.concat([subplot1_data.minority_percentage, subplot2_data.minority_percentage, subplot3_data.minority_percentage]).quantile(1/3), 0)\n",
    "ratio_66_percentile = round(pd.concat([subplot1_data.minority_percentage, subplot2_data.minority_percentage, subplot3_data.minority_percentage]).quantile(2/3), 0)"
   ],
   "metadata": {
    "collapsed": false,
    "ExecuteTime": {
     "end_time": "2023-08-03T07:26:42.860020300Z",
     "start_time": "2023-08-03T07:26:42.839989500Z"
    }
   },
   "id": "78995f71edcb22"
  },
  {
   "cell_type": "code",
   "execution_count": 6,
   "id": "initial_id",
   "metadata": {
    "collapsed": true,
    "ExecuteTime": {
     "end_time": "2023-08-03T07:26:43.089100300Z",
     "start_time": "2023-08-03T07:26:43.060844500Z"
    }
   },
   "outputs": [
    {
     "data": {
      "text/plain": "<IPython.lib.display.IFrame at 0x2465849c310>",
      "text/html": "\n        <iframe\n            width=\"100%\"\n            height=\"650\"\n            src=\"http://127.0.0.1:8050/\"\n            frameborder=\"0\"\n            allowfullscreen\n            \n        ></iframe>\n        "
     },
     "metadata": {},
     "output_type": "display_data"
    }
   ],
   "source": [
    "app = Dash(__name__)\n",
    "\n",
    "app.layout = html.Div([\n",
    "                       dcc.Graph(id=\"heatmap-graph\"),\n",
    "                       html.P(\"#datapoints:\"),\n",
    "                       dcc.RangeSlider(\n",
    "                           id='heatmap-x-range-slider',\n",
    "                           min=subplot1_data.num_datapoints.min(),\n",
    "                           max=subplot1_data.num_datapoints.max(),\n",
    "                           step=1000,\n",
    "                           value=[subplot1_data.num_datapoints.min(), num_33_percentile, num_66_percentile, subplot1_data.num_datapoints.max()]\n",
    "                           # value=[3000, 5000]\n",
    "                           ),\n",
    "                       html.P(\"balance ratio:\"),\n",
    "                       dcc.RangeSlider(\n",
    "                            id='heatmap-y-range-slider',\n",
    "                            min=0, max=50, step=1,\n",
    "                           value=[0, ratio_33_percentile, ratio_66_percentile, 50]\n",
    "                            # value=[12, 40]\n",
    "                            ),\n",
    "                       ])\n",
    "\n",
    "\n",
    "@app.callback(\n",
    "    Output(\"heatmap-graph\", \"figure\"),\n",
    "    [Input(\"heatmap-x-range-slider\", \"value\"),\n",
    "     Input(\"heatmap-y-range-slider\", \"value\")])\n",
    "def update_bar_chart(slider_x, slider_y):\n",
    "    # Obtain data\n",
    "    global subplot1_data, subplot2_data, subplot3_data\n",
    "    subplot_data1 = subplot1_data.copy()\n",
    "    subplot_data2 = subplot2_data.copy()\n",
    "    subplot_data3 = subplot3_data.copy()\n",
    "    # Slider values\n",
    "    min_x, low_x, high_x, max_x = slider_x\n",
    "    min_y, low_y, high_y, max_y = slider_y\n",
    "    # Obtain categories\n",
    "    intervals_num_datapoints = [(min_x - 0.1, low_x),\n",
    "                            (low_x, high_x),\n",
    "                            (high_x, max_x)]\n",
    "    intervals_ratio = [(min_y - 0.1, low_y),\n",
    "                       (low_y, high_y),\n",
    "                       (high_y, max_y)]\n",
    "    num_intervals = pd.IntervalIndex.from_tuples(intervals_num_datapoints)\n",
    "    ratio_intervals = pd.IntervalIndex.from_tuples(intervals_ratio)\n",
    "    # Put data in bins\n",
    "    subplot_data1['num_bins'] = pd.cut(subplot_data1.num_datapoints.values, num_intervals)\n",
    "    subplot_data2['num_bins'] = pd.cut(subplot_data2.num_datapoints.values, num_intervals)\n",
    "    subplot_data3['num_bins'] = pd.cut(subplot_data3.num_datapoints.values, num_intervals)\n",
    "    subplot_data1['ratio_bins'] = pd.cut(subplot_data1.minority_percentage.values, ratio_intervals)\n",
    "    subplot_data2['ratio_bins'] = pd.cut(subplot_data2.minority_percentage.values, ratio_intervals)\n",
    "    subplot_data3['ratio_bins'] = pd.cut(subplot_data3.minority_percentage.values, ratio_intervals)\n",
    "    # Rename intervals\n",
    "    subplot_data1['num_bins'] = subplot_data1['num_bins'].astype(str)#.cat.rename_categories(dict(zip(num_intervals, ['low', 'medium', 'high'])))\n",
    "    subplot_data2['num_bins'] = subplot_data2['num_bins'].astype(str)#.cat.rename_categories(dict(zip(num_intervals, ['low', 'medium', 'high'])))\n",
    "    subplot_data3['num_bins'] = subplot_data3['num_bins'].astype(str)#.cat.rename_categories(dict(zip(num_intervals, ['low', 'medium', 'high'])))\n",
    "    subplot_data1['ratio_bins'] = subplot_data1['ratio_bins'].astype(str)#.cat.rename_categories(dict(zip(ratio_intervals, ['low', 'medium', 'high'])))\n",
    "    subplot_data2['ratio_bins'] = subplot_data2['ratio_bins'].astype(str)#.cat.rename_categories(dict(zip(ratio_intervals, ['low', 'medium', 'high'])))\n",
    "    subplot_data3['ratio_bins'] = subplot_data3['ratio_bins'].astype(str)#.cat.rename_categories(dict(zip(ratio_intervals, ['low', 'medium', 'high'])))\n",
    "    # Clean up columns\n",
    "    subplot_data1 = subplot_data1.drop(columns=['num_datapoints', 'minority_percentage'])\n",
    "    subplot_data2 = subplot_data2.drop(columns=['num_datapoints', 'minority_percentage'])\n",
    "    subplot_data3 = subplot_data3.drop(columns=['num_datapoints', 'minority_percentage'])\n",
    "    \n",
    "    # Remove nan bins\n",
    "    subplot_data1 = subplot_data1[subplot_data1.num_bins != 'nan']\n",
    "    subplot_data2 = subplot_data2[subplot_data2.num_bins != 'nan']\n",
    "    subplot_data3 = subplot_data3[subplot_data3.num_bins != 'nan']\n",
    "    \n",
    "    # Group by, pivot and obtain difference\n",
    "    subplot_data1 = subplot_data1.groupby(['modeltype', 'num_bins', 'ratio_bins']).agg('mean').reset_index()\n",
    "    subplot_data1 = subplot_data1.pivot(columns=['num_bins'], values='Pearson r',\n",
    "                                      index=['modeltype', 'ratio_bins']).reset_index()\n",
    "    subplot_data1.iloc[np.where(subplot_data1.modeltype == 'QSAR')[0], 2:] = -subplot_data1.iloc[np.where(subplot_data1.modeltype == 'QSAR')[0], 2:]\n",
    "    subplot_data1 = subplot_data1.drop(columns='modeltype').groupby('ratio_bins').agg('sum')\n",
    "    # subplot_data1\n",
    "    \n",
    "    subplot_data2 = subplot_data2.groupby(['subset', 'num_bins', 'ratio_bins']).agg('mean').reset_index()\n",
    "    subplot_data2 = subplot_data2.pivot(columns=['num_bins'], values='Pearson r',\n",
    "                                      index=['subset', 'ratio_bins']).reset_index()\n",
    "    subplot_data2.iloc[np.where(subplot_data2.subset == 'no mutant')[0], 2:] = -subplot_data2.iloc[np.where(subplot_data2.subset == 'no mutant')[0], 2:]\n",
    "    subplot_data2 = subplot_data2.drop(columns='subset').groupby('ratio_bins').agg('sum')\n",
    "    # subplot_data2\n",
    "    \n",
    "    subplot_data3 = subplot_data3.groupby(['modeltype', 'num_bins', 'ratio_bins']).agg('mean').reset_index()\n",
    "    subplot_data3 = subplot_data3.pivot(columns=['num_bins'], values='Pearson r',\n",
    "                                      index=['modeltype', 'ratio_bins']).reset_index()\n",
    "    subplot_data3.iloc[np.where(subplot_data3.modeltype == 'QSAR')[0], 2:] = -subplot_data3.iloc[np.where(subplot_data3.modeltype == 'QSAR')[0], 2:]\n",
    "    subplot_data3 = subplot_data3.drop(columns='modeltype').groupby('ratio_bins').agg('sum')\n",
    "    # Melt dataframes \n",
    "    subplot_data1 = pd.melt(subplot_data1.reset_index(), id_vars=['ratio_bins']) \n",
    "    subplot_data2 = pd.melt(subplot_data2.reset_index(), id_vars=['ratio_bins'])\n",
    "    subplot_data3 = pd.melt(subplot_data3.reset_index(), id_vars=['ratio_bins'])\n",
    "    \n",
    "    # Rename intervals\n",
    "    subplot_data1['num_bins'] = subplot_data1['num_bins'].replace({str(num_intervals[0]): f'[{intervals_num_datapoints[0][0] + 0.1:.0f}, {intervals_num_datapoints[1][0]:.0f}]'})\n",
    "    subplot_data1['num_bins'] = subplot_data1['num_bins'].replace({str(num_intervals[1]): f'({intervals_num_datapoints[1][0]:.0f}, {intervals_num_datapoints[1][1]:.0f}]'})\n",
    "    subplot_data1['num_bins'] = subplot_data1['num_bins'].replace({str(num_intervals[2]): f'({intervals_num_datapoints[2][0]:.0f}, {intervals_num_datapoints[2][1]:.0f}]'})\n",
    "    subplot_data1['ratio_bins'] = subplot_data1['ratio_bins'].replace({str(ratio_intervals[0]): f'[{intervals_ratio[0][0]:.0f}, {intervals_ratio[0][1]:.0f}]'})\n",
    "    subplot_data1['ratio_bins'] = subplot_data1['ratio_bins'].replace({str(ratio_intervals[0]): f'({intervals_ratio[1][0]:.0f}, {intervals_ratio[1][1]:.0f}]'})\n",
    "    subplot_data1['ratio_bins'] = subplot_data1['ratio_bins'].replace({str(ratio_intervals[0]): f'({intervals_ratio[2][0]:.0f}, {intervals_ratio[2][1]:.0f}]'})\n",
    "    \n",
    "    subplot_data2['num_bins'] = subplot_data2['num_bins'].replace({str(num_intervals[0]): f'[{intervals_num_datapoints[0][0] + 0.1:.0f}, {intervals_num_datapoints[1][0]:.0f}]'})\n",
    "    subplot_data2['num_bins'] = subplot_data2['num_bins'].replace({str(num_intervals[1]): f'({intervals_num_datapoints[1][0]:.0f}, {intervals_num_datapoints[1][1]:.0f}]'})\n",
    "    subplot_data2['num_bins'] = subplot_data2['num_bins'].replace({str(num_intervals[2]): f'({intervals_num_datapoints[2][0]:.0f}, {intervals_num_datapoints[2][1]:.0f}]'})\n",
    "    subplot_data2['ratio_bins'] = subplot_data2['ratio_bins'].replace({str(ratio_intervals[0]): f'[{intervals_ratio[0][0]:.0f}, {intervals_ratio[0][1]:.0f}]'})\n",
    "    subplot_data2['ratio_bins'] = subplot_data2['ratio_bins'].replace({str(ratio_intervals[0]): f'({intervals_ratio[1][0]:.0f}, {intervals_ratio[1][1]:.0f}]'})\n",
    "    subplot_data2['ratio_bins'] = subplot_data2['ratio_bins'].replace({str(ratio_intervals[0]): f'({intervals_ratio[2][0]:.0f}, {intervals_ratio[2][1]:.0f}]'})\n",
    "    \n",
    "    subplot_data3['num_bins'] = subplot_data3['num_bins'].replace({str(num_intervals[0]): f'[{intervals_num_datapoints[0][0] + 0.1:.0f}, {intervals_num_datapoints[1][0]:.0f}]'})\n",
    "    subplot_data3['num_bins'] = subplot_data3['num_bins'].replace({str(num_intervals[1]): f'({intervals_num_datapoints[1][0]:.0f}, {intervals_num_datapoints[1][1]:.0f}]'})\n",
    "    subplot_data3['num_bins'] = subplot_data3['num_bins'].replace({str(num_intervals[2]): f'({intervals_num_datapoints[2][0]:.0f}, {intervals_num_datapoints[2][1]:.0f}]'})\n",
    "    subplot_data3['ratio_bins'] = subplot_data3['ratio_bins'].replace({str(ratio_intervals[0]): f'[{intervals_ratio[0][0]:.0f}, {intervals_ratio[0][1]:.0f}]'})\n",
    "    subplot_data3['ratio_bins'] = subplot_data3['ratio_bins'].replace({str(ratio_intervals[0]): f'({intervals_ratio[1][0]:.0f}, {intervals_ratio[1][1]:.0f}]'})\n",
    "    subplot_data3['ratio_bins'] = subplot_data3['ratio_bins'].replace({str(ratio_intervals[0]): f'({intervals_ratio[2][0]:.0f}, {intervals_ratio[2][1]:.0f}]'})\n",
    "    \n",
    "    # Determine zmax for colorbar\n",
    "    zmax = max((subplot_data1.value.max(),\n",
    "                subplot_data2.value.max(),\n",
    "                subplot_data3.value.max()))\n",
    "    \n",
    "    # Figure\n",
    "    fig = make_subplots(rows=1, cols=3,\n",
    "                        shared_yaxes=True,\n",
    "                        subplot_titles=['PCM complete - QSAR complete', 'QSAR complete - QSAR no mutant', 'PCM common - QSAR common'])\n",
    "    \n",
    "    fig.add_trace(go.Heatmap(x=subplot_data1.num_bins, y=subplot_data1.ratio_bins, z=subplot_data1.value, \n",
    "                             zmin=0, zmax=zmax,\n",
    "                             showscale=False,\n",
    "                             colorscale='RdYlGn',\n",
    "                             ),\n",
    "                  row=1, col=1)\n",
    "    \n",
    "    fig.add_trace(go.Heatmap(x=subplot_data2.num_bins, y=subplot_data2.ratio_bins, z=subplot_data2.value,\n",
    "                             zmin=0, zmax=zmax,\n",
    "                             showscale=False,\n",
    "                             colorscale='RdYlGn',\n",
    "                             ),\n",
    "                  row=1, col=2)\n",
    "    \n",
    "    fig.add_trace(go.Heatmap(x=subplot_data3.num_bins, y=subplot_data3.ratio_bins, z=subplot_data3.value,\n",
    "                             zmin=0, zmax=zmax,\n",
    "                             colorscale='RdYlGn',\n",
    "                             colorbar={\"title\": 'Pearson r'}\n",
    "                             ),\n",
    "                  row=1, col=3)\n",
    "    # Add title\n",
    "    fig.update_layout({'xaxis': {'categoryarray': [f'[{intervals_num_datapoints[0][0] + 0.1:.0f}, {intervals_num_datapoints[1][0]:.0f}]',\n",
    "                                                   f'({intervals_num_datapoints[1][0]:.0f}, {intervals_num_datapoints[1][1]:.0f}]',\n",
    "                                                   f'({intervals_num_datapoints[2][0]:.0f}, {intervals_num_datapoints[2][1]:.0f}]'],\n",
    "                                 'title': '#compound-target pairs per accession'},\n",
    "                       'xaxis2': {'categoryarray': [f'[{intervals_num_datapoints[0][0] + 0.1:.0f}, {intervals_num_datapoints[1][0]:.0f}]',\n",
    "                                                   f'({intervals_num_datapoints[1][0]:.0f}, {intervals_num_datapoints[1][1]:.0f}]',\n",
    "                                                   f'({intervals_num_datapoints[2][0]:.0f}, {intervals_num_datapoints[2][1]:.0f}]'],\n",
    "                                 'title': '#compound-target pairs per accession'},\n",
    "                       'xaxis3': {'categoryarray': [f'[{intervals_num_datapoints[0][0] + 0.1:.0f}, {intervals_num_datapoints[1][0]:.0f}]',\n",
    "                                                   f'({intervals_num_datapoints[1][0]:.0f}, {intervals_num_datapoints[1][1]:.0f}]',\n",
    "                                                   f'({intervals_num_datapoints[2][0]:.0f}, {intervals_num_datapoints[2][1]:.0f}]'],\n",
    "                                 'title': '#compound-target pairs per accession'},\n",
    "                       'yaxis': {'title': 'Minority class (WT/mutant) %'}\n",
    "                       })\n",
    "\n",
    "    fig.update_traces(row=1, col=1, text=subplot_data1.value, texttemplate=\"%{text:.3f}\", hovertemplate=None)\n",
    "    fig.update_traces(row=1, col=2, text=subplot_data2.value, texttemplate=\"%{text:.3f}\", hovertemplate=None)\n",
    "    fig.update_traces(row=1, col=3, text=subplot_data3.value, texttemplate=\"%{text:.3f}\", hovertemplate=None)\n",
    "        \n",
    "    return fig\n",
    "\n",
    "if __name__ == '__main__':\n",
    "    app.run_server(debug=False)"
   ]
  },
  {
   "cell_type": "code",
   "execution_count": 13,
   "outputs": [
    {
     "data": {
      "application/vnd.plotly.v1+json": {
       "data": [
        {
         "colorscale": [
          [
           0.0,
           "rgb(165,0,38)"
          ],
          [
           0.1,
           "rgb(215,48,39)"
          ],
          [
           0.2,
           "rgb(244,109,67)"
          ],
          [
           0.3,
           "rgb(253,174,97)"
          ],
          [
           0.4,
           "rgb(254,224,139)"
          ],
          [
           0.5,
           "rgb(255,255,191)"
          ],
          [
           0.6,
           "rgb(217,239,139)"
          ],
          [
           0.7,
           "rgb(166,217,106)"
          ],
          [
           0.8,
           "rgb(102,189,99)"
          ],
          [
           0.9,
           "rgb(26,152,80)"
          ],
          [
           1.0,
           "rgb(0,104,55)"
          ]
         ],
         "showscale": false,
         "x": [
          "(1991, 75211]",
          "(1991, 75211]",
          "(1991, 75211]",
          "(386, 1991]",
          "(386, 1991]",
          "(386, 1991]",
          "[7, 386]",
          "[7, 386]",
          "[7, 386]"
         ],
         "y": [
          "[-0, 1]",
          "(1.0, 4.0]",
          "(4.0, 50.0]",
          "[-0, 1]",
          "(1.0, 4.0]",
          "(4.0, 50.0]",
          "[-0, 1]",
          "(1.0, 4.0]",
          "(4.0, 50.0]"
         ],
         "z": [
          3.8440371020065367E-4,
          0.003075035181478336,
          0.030204841103973923,
          8.343098327630027E-4,
          0.005074093119937673,
          0.020700764589055787,
          0.03599155386025121,
          -0.0026302028516870246,
          0.045666574479398814
         ],
         "zmax": 0.3098660622824142,
         "zmin": 0,
         "type": "heatmap",
         "xaxis": "x",
         "yaxis": "y",
         "text": [
          3.8440371020065367E-4,
          0.003075035181478336,
          0.030204841103973923,
          8.343098327630027E-4,
          0.005074093119937673,
          0.020700764589055787,
          0.03599155386025121,
          -0.0026302028516870246,
          0.045666574479398814
         ],
         "texttemplate": "%{text:.3f}"
        },
        {
         "colorscale": [
          [
           0.0,
           "rgb(165,0,38)"
          ],
          [
           0.1,
           "rgb(215,48,39)"
          ],
          [
           0.2,
           "rgb(244,109,67)"
          ],
          [
           0.3,
           "rgb(253,174,97)"
          ],
          [
           0.4,
           "rgb(254,224,139)"
          ],
          [
           0.5,
           "rgb(255,255,191)"
          ],
          [
           0.6,
           "rgb(217,239,139)"
          ],
          [
           0.7,
           "rgb(166,217,106)"
          ],
          [
           0.8,
           "rgb(102,189,99)"
          ],
          [
           0.9,
           "rgb(26,152,80)"
          ],
          [
           1.0,
           "rgb(0,104,55)"
          ]
         ],
         "showscale": false,
         "x": [
          "(1991, 75211]",
          "(1991, 75211]",
          "(1991, 75211]",
          "(386, 1991]",
          "(386, 1991]",
          "(386, 1991]",
          "[7, 386]",
          "[7, 386]",
          "[7, 386]"
         ],
         "y": [
          "[-0, 1]",
          "(1.0, 4.0]",
          "(4.0, 50.0]",
          "[-0, 1]",
          "(1.0, 4.0]",
          "(4.0, 50.0]",
          "[-0, 1]",
          "(1.0, 4.0]",
          "(4.0, 50.0]"
         ],
         "z": [
          7.787666102269108E-4,
          -0.0024332126930181053,
          0.00390671678443788,
          -0.0013716335564443183,
          -0.01020608977957449,
          -0.015625670156330762,
          -0.06126216406931684,
          0.05266442684432293,
          0.18256775714527573
         ],
         "zmax": 0.3098660622824142,
         "zmin": 0,
         "type": "heatmap",
         "xaxis": "x2",
         "yaxis": "y2",
         "text": [
          7.787666102269108E-4,
          -0.0024332126930181053,
          0.00390671678443788,
          -0.0013716335564443183,
          -0.01020608977957449,
          -0.015625670156330762,
          -0.06126216406931684,
          0.05266442684432293,
          0.18256775714527573
         ],
         "texttemplate": "%{text:.3f}"
        },
        {
         "colorbar": {
          "title": {
           "text": "Pearson r"
          }
         },
         "colorscale": [
          [
           0.0,
           "rgb(165,0,38)"
          ],
          [
           0.1,
           "rgb(215,48,39)"
          ],
          [
           0.2,
           "rgb(244,109,67)"
          ],
          [
           0.3,
           "rgb(253,174,97)"
          ],
          [
           0.4,
           "rgb(254,224,139)"
          ],
          [
           0.5,
           "rgb(255,255,191)"
          ],
          [
           0.6,
           "rgb(217,239,139)"
          ],
          [
           0.7,
           "rgb(166,217,106)"
          ],
          [
           0.8,
           "rgb(102,189,99)"
          ],
          [
           0.9,
           "rgb(26,152,80)"
          ],
          [
           1.0,
           "rgb(0,104,55)"
          ]
         ],
         "x": [
          "(1991, 75211]",
          "(1991, 75211]",
          "(1991, 75211]",
          "(386, 1991]",
          "(386, 1991]",
          "(386, 1991]",
          "[7, 386]",
          "[7, 386]",
          "[7, 386]"
         ],
         "y": [
          "[-0, 1]",
          "(1.0, 4.0]",
          "(4.0, 50.0]",
          "[-0, 1]",
          "(1.0, 4.0]",
          "(4.0, 50.0]",
          "[-0, 1]",
          "(1.0, 4.0]",
          "(4.0, 50.0]"
         ],
         "z": [
          0.18490503414874715,
          0.12928840305740175,
          0.20519388743982392,
          -0.12455987217740172,
          0.030736757228570277,
          0.3098660622824142,
          0.020422902243942942,
          0.0030526475930504338,
          0.2781112319847116
         ],
         "zmax": 0.3098660622824142,
         "zmin": 0,
         "type": "heatmap",
         "xaxis": "x3",
         "yaxis": "y3",
         "text": [
          0.18490503414874715,
          0.12928840305740175,
          0.20519388743982392,
          -0.12455987217740172,
          0.030736757228570277,
          0.3098660622824142,
          0.020422902243942942,
          0.0030526475930504338,
          0.2781112319847116
         ],
         "texttemplate": "%{text:.3f}"
        }
       ],
       "layout": {
        "template": {
         "data": {
          "histogram2dcontour": [
           {
            "type": "histogram2dcontour",
            "colorbar": {
             "outlinewidth": 0,
             "ticks": ""
            },
            "colorscale": [
             [
              0.0,
              "#0d0887"
             ],
             [
              0.1111111111111111,
              "#46039f"
             ],
             [
              0.2222222222222222,
              "#7201a8"
             ],
             [
              0.3333333333333333,
              "#9c179e"
             ],
             [
              0.4444444444444444,
              "#bd3786"
             ],
             [
              0.5555555555555556,
              "#d8576b"
             ],
             [
              0.6666666666666666,
              "#ed7953"
             ],
             [
              0.7777777777777778,
              "#fb9f3a"
             ],
             [
              0.8888888888888888,
              "#fdca26"
             ],
             [
              1.0,
              "#f0f921"
             ]
            ]
           }
          ],
          "choropleth": [
           {
            "type": "choropleth",
            "colorbar": {
             "outlinewidth": 0,
             "ticks": ""
            }
           }
          ],
          "histogram2d": [
           {
            "type": "histogram2d",
            "colorbar": {
             "outlinewidth": 0,
             "ticks": ""
            },
            "colorscale": [
             [
              0.0,
              "#0d0887"
             ],
             [
              0.1111111111111111,
              "#46039f"
             ],
             [
              0.2222222222222222,
              "#7201a8"
             ],
             [
              0.3333333333333333,
              "#9c179e"
             ],
             [
              0.4444444444444444,
              "#bd3786"
             ],
             [
              0.5555555555555556,
              "#d8576b"
             ],
             [
              0.6666666666666666,
              "#ed7953"
             ],
             [
              0.7777777777777778,
              "#fb9f3a"
             ],
             [
              0.8888888888888888,
              "#fdca26"
             ],
             [
              1.0,
              "#f0f921"
             ]
            ]
           }
          ],
          "heatmap": [
           {
            "type": "heatmap",
            "colorbar": {
             "outlinewidth": 0,
             "ticks": ""
            },
            "colorscale": [
             [
              0.0,
              "#0d0887"
             ],
             [
              0.1111111111111111,
              "#46039f"
             ],
             [
              0.2222222222222222,
              "#7201a8"
             ],
             [
              0.3333333333333333,
              "#9c179e"
             ],
             [
              0.4444444444444444,
              "#bd3786"
             ],
             [
              0.5555555555555556,
              "#d8576b"
             ],
             [
              0.6666666666666666,
              "#ed7953"
             ],
             [
              0.7777777777777778,
              "#fb9f3a"
             ],
             [
              0.8888888888888888,
              "#fdca26"
             ],
             [
              1.0,
              "#f0f921"
             ]
            ]
           }
          ],
          "heatmapgl": [
           {
            "type": "heatmapgl",
            "colorbar": {
             "outlinewidth": 0,
             "ticks": ""
            },
            "colorscale": [
             [
              0.0,
              "#0d0887"
             ],
             [
              0.1111111111111111,
              "#46039f"
             ],
             [
              0.2222222222222222,
              "#7201a8"
             ],
             [
              0.3333333333333333,
              "#9c179e"
             ],
             [
              0.4444444444444444,
              "#bd3786"
             ],
             [
              0.5555555555555556,
              "#d8576b"
             ],
             [
              0.6666666666666666,
              "#ed7953"
             ],
             [
              0.7777777777777778,
              "#fb9f3a"
             ],
             [
              0.8888888888888888,
              "#fdca26"
             ],
             [
              1.0,
              "#f0f921"
             ]
            ]
           }
          ],
          "contourcarpet": [
           {
            "type": "contourcarpet",
            "colorbar": {
             "outlinewidth": 0,
             "ticks": ""
            }
           }
          ],
          "contour": [
           {
            "type": "contour",
            "colorbar": {
             "outlinewidth": 0,
             "ticks": ""
            },
            "colorscale": [
             [
              0.0,
              "#0d0887"
             ],
             [
              0.1111111111111111,
              "#46039f"
             ],
             [
              0.2222222222222222,
              "#7201a8"
             ],
             [
              0.3333333333333333,
              "#9c179e"
             ],
             [
              0.4444444444444444,
              "#bd3786"
             ],
             [
              0.5555555555555556,
              "#d8576b"
             ],
             [
              0.6666666666666666,
              "#ed7953"
             ],
             [
              0.7777777777777778,
              "#fb9f3a"
             ],
             [
              0.8888888888888888,
              "#fdca26"
             ],
             [
              1.0,
              "#f0f921"
             ]
            ]
           }
          ],
          "surface": [
           {
            "type": "surface",
            "colorbar": {
             "outlinewidth": 0,
             "ticks": ""
            },
            "colorscale": [
             [
              0.0,
              "#0d0887"
             ],
             [
              0.1111111111111111,
              "#46039f"
             ],
             [
              0.2222222222222222,
              "#7201a8"
             ],
             [
              0.3333333333333333,
              "#9c179e"
             ],
             [
              0.4444444444444444,
              "#bd3786"
             ],
             [
              0.5555555555555556,
              "#d8576b"
             ],
             [
              0.6666666666666666,
              "#ed7953"
             ],
             [
              0.7777777777777778,
              "#fb9f3a"
             ],
             [
              0.8888888888888888,
              "#fdca26"
             ],
             [
              1.0,
              "#f0f921"
             ]
            ]
           }
          ],
          "mesh3d": [
           {
            "type": "mesh3d",
            "colorbar": {
             "outlinewidth": 0,
             "ticks": ""
            }
           }
          ],
          "scatter": [
           {
            "fillpattern": {
             "fillmode": "overlay",
             "size": 10,
             "solidity": 0.2
            },
            "type": "scatter"
           }
          ],
          "parcoords": [
           {
            "type": "parcoords",
            "line": {
             "colorbar": {
              "outlinewidth": 0,
              "ticks": ""
             }
            }
           }
          ],
          "scatterpolargl": [
           {
            "type": "scatterpolargl",
            "marker": {
             "colorbar": {
              "outlinewidth": 0,
              "ticks": ""
             }
            }
           }
          ],
          "bar": [
           {
            "error_x": {
             "color": "#2a3f5f"
            },
            "error_y": {
             "color": "#2a3f5f"
            },
            "marker": {
             "line": {
              "color": "#E5ECF6",
              "width": 0.5
             },
             "pattern": {
              "fillmode": "overlay",
              "size": 10,
              "solidity": 0.2
             }
            },
            "type": "bar"
           }
          ],
          "scattergeo": [
           {
            "type": "scattergeo",
            "marker": {
             "colorbar": {
              "outlinewidth": 0,
              "ticks": ""
             }
            }
           }
          ],
          "scatterpolar": [
           {
            "type": "scatterpolar",
            "marker": {
             "colorbar": {
              "outlinewidth": 0,
              "ticks": ""
             }
            }
           }
          ],
          "histogram": [
           {
            "marker": {
             "pattern": {
              "fillmode": "overlay",
              "size": 10,
              "solidity": 0.2
             }
            },
            "type": "histogram"
           }
          ],
          "scattergl": [
           {
            "type": "scattergl",
            "marker": {
             "colorbar": {
              "outlinewidth": 0,
              "ticks": ""
             }
            }
           }
          ],
          "scatter3d": [
           {
            "type": "scatter3d",
            "line": {
             "colorbar": {
              "outlinewidth": 0,
              "ticks": ""
             }
            },
            "marker": {
             "colorbar": {
              "outlinewidth": 0,
              "ticks": ""
             }
            }
           }
          ],
          "scattermapbox": [
           {
            "type": "scattermapbox",
            "marker": {
             "colorbar": {
              "outlinewidth": 0,
              "ticks": ""
             }
            }
           }
          ],
          "scatterternary": [
           {
            "type": "scatterternary",
            "marker": {
             "colorbar": {
              "outlinewidth": 0,
              "ticks": ""
             }
            }
           }
          ],
          "scattercarpet": [
           {
            "type": "scattercarpet",
            "marker": {
             "colorbar": {
              "outlinewidth": 0,
              "ticks": ""
             }
            }
           }
          ],
          "carpet": [
           {
            "aaxis": {
             "endlinecolor": "#2a3f5f",
             "gridcolor": "white",
             "linecolor": "white",
             "minorgridcolor": "white",
             "startlinecolor": "#2a3f5f"
            },
            "baxis": {
             "endlinecolor": "#2a3f5f",
             "gridcolor": "white",
             "linecolor": "white",
             "minorgridcolor": "white",
             "startlinecolor": "#2a3f5f"
            },
            "type": "carpet"
           }
          ],
          "table": [
           {
            "cells": {
             "fill": {
              "color": "#EBF0F8"
             },
             "line": {
              "color": "white"
             }
            },
            "header": {
             "fill": {
              "color": "#C8D4E3"
             },
             "line": {
              "color": "white"
             }
            },
            "type": "table"
           }
          ],
          "barpolar": [
           {
            "marker": {
             "line": {
              "color": "#E5ECF6",
              "width": 0.5
             },
             "pattern": {
              "fillmode": "overlay",
              "size": 10,
              "solidity": 0.2
             }
            },
            "type": "barpolar"
           }
          ],
          "pie": [
           {
            "automargin": true,
            "type": "pie"
           }
          ]
         },
         "layout": {
          "autotypenumbers": "strict",
          "colorway": [
           "#636efa",
           "#EF553B",
           "#00cc96",
           "#ab63fa",
           "#FFA15A",
           "#19d3f3",
           "#FF6692",
           "#B6E880",
           "#FF97FF",
           "#FECB52"
          ],
          "font": {
           "color": "#2a3f5f"
          },
          "hovermode": "closest",
          "hoverlabel": {
           "align": "left"
          },
          "paper_bgcolor": "white",
          "plot_bgcolor": "#E5ECF6",
          "polar": {
           "bgcolor": "#E5ECF6",
           "angularaxis": {
            "gridcolor": "white",
            "linecolor": "white",
            "ticks": ""
           },
           "radialaxis": {
            "gridcolor": "white",
            "linecolor": "white",
            "ticks": ""
           }
          },
          "ternary": {
           "bgcolor": "#E5ECF6",
           "aaxis": {
            "gridcolor": "white",
            "linecolor": "white",
            "ticks": ""
           },
           "baxis": {
            "gridcolor": "white",
            "linecolor": "white",
            "ticks": ""
           },
           "caxis": {
            "gridcolor": "white",
            "linecolor": "white",
            "ticks": ""
           }
          },
          "coloraxis": {
           "colorbar": {
            "outlinewidth": 0,
            "ticks": ""
           }
          },
          "colorscale": {
           "sequential": [
            [
             0.0,
             "#0d0887"
            ],
            [
             0.1111111111111111,
             "#46039f"
            ],
            [
             0.2222222222222222,
             "#7201a8"
            ],
            [
             0.3333333333333333,
             "#9c179e"
            ],
            [
             0.4444444444444444,
             "#bd3786"
            ],
            [
             0.5555555555555556,
             "#d8576b"
            ],
            [
             0.6666666666666666,
             "#ed7953"
            ],
            [
             0.7777777777777778,
             "#fb9f3a"
            ],
            [
             0.8888888888888888,
             "#fdca26"
            ],
            [
             1.0,
             "#f0f921"
            ]
           ],
           "sequentialminus": [
            [
             0.0,
             "#0d0887"
            ],
            [
             0.1111111111111111,
             "#46039f"
            ],
            [
             0.2222222222222222,
             "#7201a8"
            ],
            [
             0.3333333333333333,
             "#9c179e"
            ],
            [
             0.4444444444444444,
             "#bd3786"
            ],
            [
             0.5555555555555556,
             "#d8576b"
            ],
            [
             0.6666666666666666,
             "#ed7953"
            ],
            [
             0.7777777777777778,
             "#fb9f3a"
            ],
            [
             0.8888888888888888,
             "#fdca26"
            ],
            [
             1.0,
             "#f0f921"
            ]
           ],
           "diverging": [
            [
             0,
             "#8e0152"
            ],
            [
             0.1,
             "#c51b7d"
            ],
            [
             0.2,
             "#de77ae"
            ],
            [
             0.3,
             "#f1b6da"
            ],
            [
             0.4,
             "#fde0ef"
            ],
            [
             0.5,
             "#f7f7f7"
            ],
            [
             0.6,
             "#e6f5d0"
            ],
            [
             0.7,
             "#b8e186"
            ],
            [
             0.8,
             "#7fbc41"
            ],
            [
             0.9,
             "#4d9221"
            ],
            [
             1,
             "#276419"
            ]
           ]
          },
          "xaxis": {
           "gridcolor": "white",
           "linecolor": "white",
           "ticks": "",
           "title": {
            "standoff": 15
           },
           "zerolinecolor": "white",
           "automargin": true,
           "zerolinewidth": 2
          },
          "yaxis": {
           "gridcolor": "white",
           "linecolor": "white",
           "ticks": "",
           "title": {
            "standoff": 15
           },
           "zerolinecolor": "white",
           "automargin": true,
           "zerolinewidth": 2
          },
          "scene": {
           "xaxis": {
            "backgroundcolor": "#E5ECF6",
            "gridcolor": "white",
            "linecolor": "white",
            "showbackground": true,
            "ticks": "",
            "zerolinecolor": "white",
            "gridwidth": 2
           },
           "yaxis": {
            "backgroundcolor": "#E5ECF6",
            "gridcolor": "white",
            "linecolor": "white",
            "showbackground": true,
            "ticks": "",
            "zerolinecolor": "white",
            "gridwidth": 2
           },
           "zaxis": {
            "backgroundcolor": "#E5ECF6",
            "gridcolor": "white",
            "linecolor": "white",
            "showbackground": true,
            "ticks": "",
            "zerolinecolor": "white",
            "gridwidth": 2
           }
          },
          "shapedefaults": {
           "line": {
            "color": "#2a3f5f"
           }
          },
          "annotationdefaults": {
           "arrowcolor": "#2a3f5f",
           "arrowhead": 0,
           "arrowwidth": 1
          },
          "geo": {
           "bgcolor": "white",
           "landcolor": "#E5ECF6",
           "subunitcolor": "white",
           "showland": true,
           "showlakes": true,
           "lakecolor": "white"
          },
          "title": {
           "x": 0.05
          },
          "mapbox": {
           "style": "light"
          }
         }
        },
        "xaxis": {
         "anchor": "y",
         "domain": [
          0.0,
          0.2888888888888889
         ],
         "categoryarray": [
          "[7, 386]",
          "(386, 1991]",
          "(1991, 75211]"
         ],
         "title": {
          "text": "#compound-target pairs per accession"
         }
        },
        "yaxis": {
         "anchor": "x",
         "domain": [
          0.0,
          1.0
         ],
         "title": {
          "text": "Minority class (WT/mutant) %"
         }
        },
        "xaxis2": {
         "anchor": "y2",
         "domain": [
          0.35555555555555557,
          0.6444444444444445
         ],
         "categoryarray": [
          "[7, 386]",
          "(386, 1991]",
          "(1991, 75211]"
         ],
         "title": {
          "text": "#compound-target pairs per accession"
         }
        },
        "yaxis2": {
         "anchor": "x2",
         "domain": [
          0.0,
          1.0
         ],
         "matches": "y",
         "showticklabels": false
        },
        "xaxis3": {
         "anchor": "y3",
         "domain": [
          0.7111111111111111,
          1.0
         ],
         "categoryarray": [
          "[7, 386]",
          "(386, 1991]",
          "(1991, 75211]"
         ],
         "title": {
          "text": "#compound-target pairs per accession"
         }
        },
        "yaxis3": {
         "anchor": "x3",
         "domain": [
          0.0,
          1.0
         ],
         "matches": "y",
         "showticklabels": false
        },
        "annotations": [
         {
          "font": {
           "size": 16
          },
          "showarrow": false,
          "text": "PCM complete - QSAR complete",
          "x": 0.14444444444444446,
          "xanchor": "center",
          "xref": "paper",
          "y": 1.0,
          "yanchor": "bottom",
          "yref": "paper"
         },
         {
          "font": {
           "size": 16
          },
          "showarrow": false,
          "text": "QSAR complete - QSAR no mutant",
          "x": 0.5,
          "xanchor": "center",
          "xref": "paper",
          "y": 1.0,
          "yanchor": "bottom",
          "yref": "paper"
         },
         {
          "font": {
           "size": 16
          },
          "showarrow": false,
          "text": "PCM common - QSAR common",
          "x": 0.8555555555555556,
          "xanchor": "center",
          "xref": "paper",
          "y": 1.0,
          "yanchor": "bottom",
          "yref": "paper"
         }
        ]
       },
       "config": {
        "plotlyServerURL": "https://plot.ly"
       }
      },
      "text/html": "<div>                            <div id=\"6c49a9a2-e792-4e5f-9e04-911fa5d9a0cf\" class=\"plotly-graph-div\" style=\"height:525px; width:100%;\"></div>            <script type=\"text/javascript\">                require([\"plotly\"], function(Plotly) {                    window.PLOTLYENV=window.PLOTLYENV || {};                                    if (document.getElementById(\"6c49a9a2-e792-4e5f-9e04-911fa5d9a0cf\")) {                    Plotly.newPlot(                        \"6c49a9a2-e792-4e5f-9e04-911fa5d9a0cf\",                        [{\"colorscale\":[[0.0,\"rgb(165,0,38)\"],[0.1,\"rgb(215,48,39)\"],[0.2,\"rgb(244,109,67)\"],[0.3,\"rgb(253,174,97)\"],[0.4,\"rgb(254,224,139)\"],[0.5,\"rgb(255,255,191)\"],[0.6,\"rgb(217,239,139)\"],[0.7,\"rgb(166,217,106)\"],[0.8,\"rgb(102,189,99)\"],[0.9,\"rgb(26,152,80)\"],[1.0,\"rgb(0,104,55)\"]],\"showscale\":false,\"x\":[\"(1991, 75211]\",\"(1991, 75211]\",\"(1991, 75211]\",\"(386, 1991]\",\"(386, 1991]\",\"(386, 1991]\",\"[7, 386]\",\"[7, 386]\",\"[7, 386]\"],\"y\":[\"[-0, 1]\",\"(1.0, 4.0]\",\"(4.0, 50.0]\",\"[-0, 1]\",\"(1.0, 4.0]\",\"(4.0, 50.0]\",\"[-0, 1]\",\"(1.0, 4.0]\",\"(4.0, 50.0]\"],\"z\":[0.00038440371020065367,0.003075035181478336,0.030204841103973923,0.0008343098327630027,0.005074093119937673,0.020700764589055787,0.03599155386025121,-0.0026302028516870246,0.045666574479398814],\"zmax\":0.3098660622824142,\"zmin\":0,\"type\":\"heatmap\",\"xaxis\":\"x\",\"yaxis\":\"y\",\"text\":[0.00038440371020065367,0.003075035181478336,0.030204841103973923,0.0008343098327630027,0.005074093119937673,0.020700764589055787,0.03599155386025121,-0.0026302028516870246,0.045666574479398814],\"texttemplate\":\"%{text:.3f}\"},{\"colorscale\":[[0.0,\"rgb(165,0,38)\"],[0.1,\"rgb(215,48,39)\"],[0.2,\"rgb(244,109,67)\"],[0.3,\"rgb(253,174,97)\"],[0.4,\"rgb(254,224,139)\"],[0.5,\"rgb(255,255,191)\"],[0.6,\"rgb(217,239,139)\"],[0.7,\"rgb(166,217,106)\"],[0.8,\"rgb(102,189,99)\"],[0.9,\"rgb(26,152,80)\"],[1.0,\"rgb(0,104,55)\"]],\"showscale\":false,\"x\":[\"(1991, 75211]\",\"(1991, 75211]\",\"(1991, 75211]\",\"(386, 1991]\",\"(386, 1991]\",\"(386, 1991]\",\"[7, 386]\",\"[7, 386]\",\"[7, 386]\"],\"y\":[\"[-0, 1]\",\"(1.0, 4.0]\",\"(4.0, 50.0]\",\"[-0, 1]\",\"(1.0, 4.0]\",\"(4.0, 50.0]\",\"[-0, 1]\",\"(1.0, 4.0]\",\"(4.0, 50.0]\"],\"z\":[0.0007787666102269108,-0.0024332126930181053,0.00390671678443788,-0.0013716335564443183,-0.01020608977957449,-0.015625670156330762,-0.06126216406931684,0.05266442684432293,0.18256775714527573],\"zmax\":0.3098660622824142,\"zmin\":0,\"type\":\"heatmap\",\"xaxis\":\"x2\",\"yaxis\":\"y2\",\"text\":[0.0007787666102269108,-0.0024332126930181053,0.00390671678443788,-0.0013716335564443183,-0.01020608977957449,-0.015625670156330762,-0.06126216406931684,0.05266442684432293,0.18256775714527573],\"texttemplate\":\"%{text:.3f}\"},{\"colorbar\":{\"title\":{\"text\":\"Pearson r\"}},\"colorscale\":[[0.0,\"rgb(165,0,38)\"],[0.1,\"rgb(215,48,39)\"],[0.2,\"rgb(244,109,67)\"],[0.3,\"rgb(253,174,97)\"],[0.4,\"rgb(254,224,139)\"],[0.5,\"rgb(255,255,191)\"],[0.6,\"rgb(217,239,139)\"],[0.7,\"rgb(166,217,106)\"],[0.8,\"rgb(102,189,99)\"],[0.9,\"rgb(26,152,80)\"],[1.0,\"rgb(0,104,55)\"]],\"x\":[\"(1991, 75211]\",\"(1991, 75211]\",\"(1991, 75211]\",\"(386, 1991]\",\"(386, 1991]\",\"(386, 1991]\",\"[7, 386]\",\"[7, 386]\",\"[7, 386]\"],\"y\":[\"[-0, 1]\",\"(1.0, 4.0]\",\"(4.0, 50.0]\",\"[-0, 1]\",\"(1.0, 4.0]\",\"(4.0, 50.0]\",\"[-0, 1]\",\"(1.0, 4.0]\",\"(4.0, 50.0]\"],\"z\":[0.18490503414874715,0.12928840305740175,0.20519388743982392,-0.12455987217740172,0.030736757228570277,0.3098660622824142,0.020422902243942942,0.0030526475930504338,0.2781112319847116],\"zmax\":0.3098660622824142,\"zmin\":0,\"type\":\"heatmap\",\"xaxis\":\"x3\",\"yaxis\":\"y3\",\"text\":[0.18490503414874715,0.12928840305740175,0.20519388743982392,-0.12455987217740172,0.030736757228570277,0.3098660622824142,0.020422902243942942,0.0030526475930504338,0.2781112319847116],\"texttemplate\":\"%{text:.3f}\"}],                        {\"template\":{\"data\":{\"histogram2dcontour\":[{\"type\":\"histogram2dcontour\",\"colorbar\":{\"outlinewidth\":0,\"ticks\":\"\"},\"colorscale\":[[0.0,\"#0d0887\"],[0.1111111111111111,\"#46039f\"],[0.2222222222222222,\"#7201a8\"],[0.3333333333333333,\"#9c179e\"],[0.4444444444444444,\"#bd3786\"],[0.5555555555555556,\"#d8576b\"],[0.6666666666666666,\"#ed7953\"],[0.7777777777777778,\"#fb9f3a\"],[0.8888888888888888,\"#fdca26\"],[1.0,\"#f0f921\"]]}],\"choropleth\":[{\"type\":\"choropleth\",\"colorbar\":{\"outlinewidth\":0,\"ticks\":\"\"}}],\"histogram2d\":[{\"type\":\"histogram2d\",\"colorbar\":{\"outlinewidth\":0,\"ticks\":\"\"},\"colorscale\":[[0.0,\"#0d0887\"],[0.1111111111111111,\"#46039f\"],[0.2222222222222222,\"#7201a8\"],[0.3333333333333333,\"#9c179e\"],[0.4444444444444444,\"#bd3786\"],[0.5555555555555556,\"#d8576b\"],[0.6666666666666666,\"#ed7953\"],[0.7777777777777778,\"#fb9f3a\"],[0.8888888888888888,\"#fdca26\"],[1.0,\"#f0f921\"]]}],\"heatmap\":[{\"type\":\"heatmap\",\"colorbar\":{\"outlinewidth\":0,\"ticks\":\"\"},\"colorscale\":[[0.0,\"#0d0887\"],[0.1111111111111111,\"#46039f\"],[0.2222222222222222,\"#7201a8\"],[0.3333333333333333,\"#9c179e\"],[0.4444444444444444,\"#bd3786\"],[0.5555555555555556,\"#d8576b\"],[0.6666666666666666,\"#ed7953\"],[0.7777777777777778,\"#fb9f3a\"],[0.8888888888888888,\"#fdca26\"],[1.0,\"#f0f921\"]]}],\"heatmapgl\":[{\"type\":\"heatmapgl\",\"colorbar\":{\"outlinewidth\":0,\"ticks\":\"\"},\"colorscale\":[[0.0,\"#0d0887\"],[0.1111111111111111,\"#46039f\"],[0.2222222222222222,\"#7201a8\"],[0.3333333333333333,\"#9c179e\"],[0.4444444444444444,\"#bd3786\"],[0.5555555555555556,\"#d8576b\"],[0.6666666666666666,\"#ed7953\"],[0.7777777777777778,\"#fb9f3a\"],[0.8888888888888888,\"#fdca26\"],[1.0,\"#f0f921\"]]}],\"contourcarpet\":[{\"type\":\"contourcarpet\",\"colorbar\":{\"outlinewidth\":0,\"ticks\":\"\"}}],\"contour\":[{\"type\":\"contour\",\"colorbar\":{\"outlinewidth\":0,\"ticks\":\"\"},\"colorscale\":[[0.0,\"#0d0887\"],[0.1111111111111111,\"#46039f\"],[0.2222222222222222,\"#7201a8\"],[0.3333333333333333,\"#9c179e\"],[0.4444444444444444,\"#bd3786\"],[0.5555555555555556,\"#d8576b\"],[0.6666666666666666,\"#ed7953\"],[0.7777777777777778,\"#fb9f3a\"],[0.8888888888888888,\"#fdca26\"],[1.0,\"#f0f921\"]]}],\"surface\":[{\"type\":\"surface\",\"colorbar\":{\"outlinewidth\":0,\"ticks\":\"\"},\"colorscale\":[[0.0,\"#0d0887\"],[0.1111111111111111,\"#46039f\"],[0.2222222222222222,\"#7201a8\"],[0.3333333333333333,\"#9c179e\"],[0.4444444444444444,\"#bd3786\"],[0.5555555555555556,\"#d8576b\"],[0.6666666666666666,\"#ed7953\"],[0.7777777777777778,\"#fb9f3a\"],[0.8888888888888888,\"#fdca26\"],[1.0,\"#f0f921\"]]}],\"mesh3d\":[{\"type\":\"mesh3d\",\"colorbar\":{\"outlinewidth\":0,\"ticks\":\"\"}}],\"scatter\":[{\"fillpattern\":{\"fillmode\":\"overlay\",\"size\":10,\"solidity\":0.2},\"type\":\"scatter\"}],\"parcoords\":[{\"type\":\"parcoords\",\"line\":{\"colorbar\":{\"outlinewidth\":0,\"ticks\":\"\"}}}],\"scatterpolargl\":[{\"type\":\"scatterpolargl\",\"marker\":{\"colorbar\":{\"outlinewidth\":0,\"ticks\":\"\"}}}],\"bar\":[{\"error_x\":{\"color\":\"#2a3f5f\"},\"error_y\":{\"color\":\"#2a3f5f\"},\"marker\":{\"line\":{\"color\":\"#E5ECF6\",\"width\":0.5},\"pattern\":{\"fillmode\":\"overlay\",\"size\":10,\"solidity\":0.2}},\"type\":\"bar\"}],\"scattergeo\":[{\"type\":\"scattergeo\",\"marker\":{\"colorbar\":{\"outlinewidth\":0,\"ticks\":\"\"}}}],\"scatterpolar\":[{\"type\":\"scatterpolar\",\"marker\":{\"colorbar\":{\"outlinewidth\":0,\"ticks\":\"\"}}}],\"histogram\":[{\"marker\":{\"pattern\":{\"fillmode\":\"overlay\",\"size\":10,\"solidity\":0.2}},\"type\":\"histogram\"}],\"scattergl\":[{\"type\":\"scattergl\",\"marker\":{\"colorbar\":{\"outlinewidth\":0,\"ticks\":\"\"}}}],\"scatter3d\":[{\"type\":\"scatter3d\",\"line\":{\"colorbar\":{\"outlinewidth\":0,\"ticks\":\"\"}},\"marker\":{\"colorbar\":{\"outlinewidth\":0,\"ticks\":\"\"}}}],\"scattermapbox\":[{\"type\":\"scattermapbox\",\"marker\":{\"colorbar\":{\"outlinewidth\":0,\"ticks\":\"\"}}}],\"scatterternary\":[{\"type\":\"scatterternary\",\"marker\":{\"colorbar\":{\"outlinewidth\":0,\"ticks\":\"\"}}}],\"scattercarpet\":[{\"type\":\"scattercarpet\",\"marker\":{\"colorbar\":{\"outlinewidth\":0,\"ticks\":\"\"}}}],\"carpet\":[{\"aaxis\":{\"endlinecolor\":\"#2a3f5f\",\"gridcolor\":\"white\",\"linecolor\":\"white\",\"minorgridcolor\":\"white\",\"startlinecolor\":\"#2a3f5f\"},\"baxis\":{\"endlinecolor\":\"#2a3f5f\",\"gridcolor\":\"white\",\"linecolor\":\"white\",\"minorgridcolor\":\"white\",\"startlinecolor\":\"#2a3f5f\"},\"type\":\"carpet\"}],\"table\":[{\"cells\":{\"fill\":{\"color\":\"#EBF0F8\"},\"line\":{\"color\":\"white\"}},\"header\":{\"fill\":{\"color\":\"#C8D4E3\"},\"line\":{\"color\":\"white\"}},\"type\":\"table\"}],\"barpolar\":[{\"marker\":{\"line\":{\"color\":\"#E5ECF6\",\"width\":0.5},\"pattern\":{\"fillmode\":\"overlay\",\"size\":10,\"solidity\":0.2}},\"type\":\"barpolar\"}],\"pie\":[{\"automargin\":true,\"type\":\"pie\"}]},\"layout\":{\"autotypenumbers\":\"strict\",\"colorway\":[\"#636efa\",\"#EF553B\",\"#00cc96\",\"#ab63fa\",\"#FFA15A\",\"#19d3f3\",\"#FF6692\",\"#B6E880\",\"#FF97FF\",\"#FECB52\"],\"font\":{\"color\":\"#2a3f5f\"},\"hovermode\":\"closest\",\"hoverlabel\":{\"align\":\"left\"},\"paper_bgcolor\":\"white\",\"plot_bgcolor\":\"#E5ECF6\",\"polar\":{\"bgcolor\":\"#E5ECF6\",\"angularaxis\":{\"gridcolor\":\"white\",\"linecolor\":\"white\",\"ticks\":\"\"},\"radialaxis\":{\"gridcolor\":\"white\",\"linecolor\":\"white\",\"ticks\":\"\"}},\"ternary\":{\"bgcolor\":\"#E5ECF6\",\"aaxis\":{\"gridcolor\":\"white\",\"linecolor\":\"white\",\"ticks\":\"\"},\"baxis\":{\"gridcolor\":\"white\",\"linecolor\":\"white\",\"ticks\":\"\"},\"caxis\":{\"gridcolor\":\"white\",\"linecolor\":\"white\",\"ticks\":\"\"}},\"coloraxis\":{\"colorbar\":{\"outlinewidth\":0,\"ticks\":\"\"}},\"colorscale\":{\"sequential\":[[0.0,\"#0d0887\"],[0.1111111111111111,\"#46039f\"],[0.2222222222222222,\"#7201a8\"],[0.3333333333333333,\"#9c179e\"],[0.4444444444444444,\"#bd3786\"],[0.5555555555555556,\"#d8576b\"],[0.6666666666666666,\"#ed7953\"],[0.7777777777777778,\"#fb9f3a\"],[0.8888888888888888,\"#fdca26\"],[1.0,\"#f0f921\"]],\"sequentialminus\":[[0.0,\"#0d0887\"],[0.1111111111111111,\"#46039f\"],[0.2222222222222222,\"#7201a8\"],[0.3333333333333333,\"#9c179e\"],[0.4444444444444444,\"#bd3786\"],[0.5555555555555556,\"#d8576b\"],[0.6666666666666666,\"#ed7953\"],[0.7777777777777778,\"#fb9f3a\"],[0.8888888888888888,\"#fdca26\"],[1.0,\"#f0f921\"]],\"diverging\":[[0,\"#8e0152\"],[0.1,\"#c51b7d\"],[0.2,\"#de77ae\"],[0.3,\"#f1b6da\"],[0.4,\"#fde0ef\"],[0.5,\"#f7f7f7\"],[0.6,\"#e6f5d0\"],[0.7,\"#b8e186\"],[0.8,\"#7fbc41\"],[0.9,\"#4d9221\"],[1,\"#276419\"]]},\"xaxis\":{\"gridcolor\":\"white\",\"linecolor\":\"white\",\"ticks\":\"\",\"title\":{\"standoff\":15},\"zerolinecolor\":\"white\",\"automargin\":true,\"zerolinewidth\":2},\"yaxis\":{\"gridcolor\":\"white\",\"linecolor\":\"white\",\"ticks\":\"\",\"title\":{\"standoff\":15},\"zerolinecolor\":\"white\",\"automargin\":true,\"zerolinewidth\":2},\"scene\":{\"xaxis\":{\"backgroundcolor\":\"#E5ECF6\",\"gridcolor\":\"white\",\"linecolor\":\"white\",\"showbackground\":true,\"ticks\":\"\",\"zerolinecolor\":\"white\",\"gridwidth\":2},\"yaxis\":{\"backgroundcolor\":\"#E5ECF6\",\"gridcolor\":\"white\",\"linecolor\":\"white\",\"showbackground\":true,\"ticks\":\"\",\"zerolinecolor\":\"white\",\"gridwidth\":2},\"zaxis\":{\"backgroundcolor\":\"#E5ECF6\",\"gridcolor\":\"white\",\"linecolor\":\"white\",\"showbackground\":true,\"ticks\":\"\",\"zerolinecolor\":\"white\",\"gridwidth\":2}},\"shapedefaults\":{\"line\":{\"color\":\"#2a3f5f\"}},\"annotationdefaults\":{\"arrowcolor\":\"#2a3f5f\",\"arrowhead\":0,\"arrowwidth\":1},\"geo\":{\"bgcolor\":\"white\",\"landcolor\":\"#E5ECF6\",\"subunitcolor\":\"white\",\"showland\":true,\"showlakes\":true,\"lakecolor\":\"white\"},\"title\":{\"x\":0.05},\"mapbox\":{\"style\":\"light\"}}},\"xaxis\":{\"anchor\":\"y\",\"domain\":[0.0,0.2888888888888889],\"categoryarray\":[\"[7, 386]\",\"(386, 1991]\",\"(1991, 75211]\"],\"title\":{\"text\":\"#compound-target pairs per accession\"}},\"yaxis\":{\"anchor\":\"x\",\"domain\":[0.0,1.0],\"title\":{\"text\":\"Minority class (WT\\u002fmutant) %\"}},\"xaxis2\":{\"anchor\":\"y2\",\"domain\":[0.35555555555555557,0.6444444444444445],\"categoryarray\":[\"[7, 386]\",\"(386, 1991]\",\"(1991, 75211]\"],\"title\":{\"text\":\"#compound-target pairs per accession\"}},\"yaxis2\":{\"anchor\":\"x2\",\"domain\":[0.0,1.0],\"matches\":\"y\",\"showticklabels\":false},\"xaxis3\":{\"anchor\":\"y3\",\"domain\":[0.7111111111111111,1.0],\"categoryarray\":[\"[7, 386]\",\"(386, 1991]\",\"(1991, 75211]\"],\"title\":{\"text\":\"#compound-target pairs per accession\"}},\"yaxis3\":{\"anchor\":\"x3\",\"domain\":[0.0,1.0],\"matches\":\"y\",\"showticklabels\":false},\"annotations\":[{\"font\":{\"size\":16},\"showarrow\":false,\"text\":\"PCM complete - QSAR complete\",\"x\":0.14444444444444446,\"xanchor\":\"center\",\"xref\":\"paper\",\"y\":1.0,\"yanchor\":\"bottom\",\"yref\":\"paper\"},{\"font\":{\"size\":16},\"showarrow\":false,\"text\":\"QSAR complete - QSAR no mutant\",\"x\":0.5,\"xanchor\":\"center\",\"xref\":\"paper\",\"y\":1.0,\"yanchor\":\"bottom\",\"yref\":\"paper\"},{\"font\":{\"size\":16},\"showarrow\":false,\"text\":\"PCM common - QSAR common\",\"x\":0.8555555555555556,\"xanchor\":\"center\",\"xref\":\"paper\",\"y\":1.0,\"yanchor\":\"bottom\",\"yref\":\"paper\"}]},                        {\"responsive\": true}                    ).then(function(){\n                            \nvar gd = document.getElementById('6c49a9a2-e792-4e5f-9e04-911fa5d9a0cf');\nvar x = new MutationObserver(function (mutations, observer) {{\n        var display = window.getComputedStyle(gd).display;\n        if (!display || display === 'none') {{\n            console.log([gd, 'removed!']);\n            Plotly.purge(gd);\n            observer.disconnect();\n        }}\n}});\n\n// Listen for the removal of the full notebook cells\nvar notebookContainer = gd.closest('#notebook-container');\nif (notebookContainer) {{\n    x.observe(notebookContainer, {childList: true});\n}}\n\n// Listen for the clearing of the current output cell\nvar outputEl = gd.closest('.output');\nif (outputEl) {{\n    x.observe(outputEl, {childList: true});\n}}\n\n                        })                };                });            </script>        </div>"
     },
     "metadata": {},
     "output_type": "display_data"
    }
   ],
   "source": [
    "update_bar_chart((7, 386, 1991, 75_211),\n",
    "                 (0, 1, 4, 50)\n",
    "                 )"
   ],
   "metadata": {
    "collapsed": false,
    "ExecuteTime": {
     "end_time": "2023-08-03T07:28:09.601803800Z",
     "start_time": "2023-08-03T07:28:09.503954200Z"
    }
   },
   "id": "b3252b40ec7a65fb"
  },
  {
   "cell_type": "markdown",
   "source": [
    "Export heatmaps to SVG "
   ],
   "metadata": {
    "collapsed": false
   },
   "id": "2f3c6971e57f02b3"
  },
  {
   "cell_type": "code",
   "execution_count": 7,
   "outputs": [],
   "source": [
    "# Default percentile\n",
    "update_bar_chart((7, num_33_percentile, num_66_percentile, 75_211), (0, ratio_33_percentile, ratio_66_percentile, 50)\n",
    "                 ).write_image('../../data/bin_heatmaps_percentiles.svg', engine='orca')"
   ],
   "metadata": {
    "collapsed": false,
    "ExecuteTime": {
     "end_time": "2023-08-03T07:26:52.628785300Z",
     "start_time": "2023-08-03T07:26:49.454556Z"
    }
   },
   "id": "c56cc0b430beca67"
  },
  {
   "cell_type": "code",
   "execution_count": 8,
   "outputs": [],
   "source": [
    "#Nums  = [0, 1_000],  (1_000, 10_000],  (10_000, 75_211]\n",
    "#Ratios= [0, 16.67%], (16,67%, 33.34%], (33.34%, 50.0%]\n",
    "update_bar_chart((0, 1_000, 10_000, 75_211), (0, 17, 33, 50)\n",
    "                 ).write_image('../../data/bin_heatmaps_num-1k-10k.svg', engine='orca')"
   ],
   "metadata": {
    "collapsed": false,
    "ExecuteTime": {
     "end_time": "2023-08-03T07:26:52.789038700Z",
     "start_time": "2023-08-03T07:26:52.619207Z"
    }
   },
   "id": "1be2479bce271468"
  },
  {
   "cell_type": "code",
   "execution_count": 9,
   "outputs": [],
   "source": [
    "#Nums  = [0, 100],    (100, 500],       (500, 1_000]\n",
    "#Ratios= [0, 16.67%], (16,67%, 33.34%], (33.34%, 50.0%]\n",
    "update_bar_chart((0, 100, 500, 1000), (0, 17, 33, 50)\n",
    "                 ).write_image('../../data/bin_heatmaps_num-0-1k-zoomin.svg', engine='orca')"
   ],
   "metadata": {
    "collapsed": false,
    "ExecuteTime": {
     "end_time": "2023-08-03T07:26:52.944686700Z",
     "start_time": "2023-08-03T07:26:52.796551900Z"
    }
   },
   "id": "f43695714a342d02"
  },
  {
   "cell_type": "code",
   "execution_count": 10,
   "outputs": [],
   "source": [
    "#Nums  = [1_000, 2_000],  (2_000, 5_000],  (5_000, 10_000]\n",
    "#Ratios= [0, 16.67%], (16,67%, 33.34%], (33.34%, 50.0%]\n",
    "update_bar_chart((1_000, 2_000, 5_000, 10_000), (0, 17, 33, 50)\n",
    "                 ).write_image('../../data/bin_heatmaps_num-1k-10k-zoomin.svg', engine='orca')"
   ],
   "metadata": {
    "collapsed": false,
    "ExecuteTime": {
     "end_time": "2023-08-03T07:26:53.089791400Z",
     "start_time": "2023-08-03T07:26:52.946195Z"
    }
   },
   "id": "9aebf5bc16369a98"
  },
  {
   "cell_type": "code",
   "execution_count": 11,
   "outputs": [],
   "source": [
    "#Nums  = [10_000, 15_000],  (15_000, 50_000],  (50_000, 75_211]\n",
    "#Ratios= [0, 16.67%],       (16,67%, 33.34%],  (33.34%, 50.0%]\n",
    "update_bar_chart((10_000, 15_000, 50_000, 75_211), (0, 17, 33, 50)\n",
    "                 ).write_image('../../data/bin_heatmaps_num-10k-max-zoomin.svg', engine='orca')"
   ],
   "metadata": {
    "collapsed": false,
    "ExecuteTime": {
     "end_time": "2023-08-03T07:26:53.229732200Z",
     "start_time": "2023-08-03T07:26:53.084766400Z"
    }
   },
   "id": "51163be5c546c889"
  },
  {
   "cell_type": "code",
   "execution_count": null,
   "outputs": [],
   "source": [],
   "metadata": {
    "collapsed": false
   },
   "id": "b6374f17ff6b185c"
  }
 ],
 "metadata": {
  "kernelspec": {
   "display_name": "Python 3",
   "language": "python",
   "name": "python3"
  },
  "language_info": {
   "codemirror_mode": {
    "name": "ipython",
    "version": 2
   },
   "file_extension": ".py",
   "mimetype": "text/x-python",
   "name": "python",
   "nbconvert_exporter": "python",
   "pygments_lexer": "ipython2",
   "version": "2.7.6"
  }
 },
 "nbformat": 4,
 "nbformat_minor": 5
}
