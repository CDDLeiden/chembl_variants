{
 "cells": [
  {
   "cell_type": "code",
   "execution_count": 191,
   "outputs": [],
   "source": [
    "%reload_ext autoreload\n",
    "%autoreload 2"
   ],
   "metadata": {
    "collapsed": false,
    "ExecuteTime": {
     "end_time": "2023-12-06T16:30:00.244861600Z",
     "start_time": "2023-12-06T16:29:59.195571Z"
    }
   }
  },
  {
   "cell_type": "code",
   "execution_count": 192,
   "outputs": [],
   "source": [
    "# Define ChEMBL and PaPyRus versions\n",
    "chembl_version = '31'\n",
    "papyrus_version = '05.5'\n",
    "papyrus_flavor = 'nostereo'"
   ],
   "metadata": {
    "collapsed": false,
    "ExecuteTime": {
     "end_time": "2023-12-06T16:30:01.260580300Z",
     "start_time": "2023-12-06T16:30:00.250882Z"
    }
   }
  },
  {
   "cell_type": "code",
   "execution_count": 193,
   "outputs": [],
   "source": [
    "# Define annotation round\n",
    "annotation_round = 2"
   ],
   "metadata": {
    "collapsed": false,
    "ExecuteTime": {
     "end_time": "2023-12-06T16:30:02.310573300Z",
     "start_time": "2023-12-06T16:30:01.260580300Z"
    }
   }
  },
  {
   "cell_type": "code",
   "execution_count": 194,
   "outputs": [],
   "source": [
    "# Define protein for analysis\n",
    "analysis_accession = 'P00533' #EGFR\n",
    "# analysis_accession = 'Q72547' #HIV\n",
    "# analysis_accession = 'P00519' #ABL1\n",
    "# analysis_accession = 'O60885' #BRD4\n",
    "# analysis_accession = 'O75874' #IDH1"
   ],
   "metadata": {
    "collapsed": false,
    "ExecuteTime": {
     "end_time": "2023-12-06T16:30:03.234573500Z",
     "start_time": "2023-12-06T16:30:02.310573300Z"
    }
   }
  },
  {
   "cell_type": "code",
   "execution_count": 195,
   "outputs": [],
   "source": [
    "# Define butina cutoff used for clustering\n",
    "butina_cutoff = {'P00533':0.7, #EGFR\n",
    "                 'Q72547':0.5, #HIV\n",
    "                 'P00519':0.5, #ABL1\n",
    "                 'O60885':0.7, #BRD4\n",
    "                 'O75874':0.7 #IDH1\n",
    "                }"
   ],
   "metadata": {
    "collapsed": false,
    "ExecuteTime": {
     "end_time": "2023-12-06T16:30:04.190889800Z",
     "start_time": "2023-12-06T16:30:03.239459700Z"
    }
   }
  },
  {
   "cell_type": "code",
   "execution_count": 196,
   "outputs": [],
   "source": [
    "# Define directories of interest\n",
    "from mutants_in_pcm import data_path\n",
    "data_path.data_dir = '../data'\n",
    "from utils import get_mutant_analysis_path\n",
    "data_dir = '1_mutant_statistics'\n",
    "common_analysis_dir = get_mutant_analysis_path(data_dir, 'common', annotation_round)\n",
    "bioactivity_analysis_dir = get_mutant_analysis_path(data_dir, 'bioactivity', annotation_round)"
   ],
   "metadata": {
    "collapsed": false,
    "ExecuteTime": {
     "end_time": "2023-12-06T16:30:38.772500900Z",
     "start_time": "2023-12-06T16:30:04.190889800Z"
    }
   }
  },
  {
   "cell_type": "code",
   "execution_count": 197,
   "outputs": [],
   "source": [
    "# Import libraries and analysis functions\n",
    "import os\n",
    "import pandas as pd\n",
    "import numpy as np"
   ],
   "metadata": {
    "collapsed": false,
    "ExecuteTime": {
     "end_time": "2023-12-06T16:30:38.772500900Z",
     "start_time": "2023-12-06T16:30:05.170889300Z"
    }
   }
  },
  {
   "cell_type": "code",
   "execution_count": 198,
   "outputs": [],
   "source": [
    "from mutants_in_pcm.mutant_analysis_compounds import get_clustering_stats,map_chembl_compounds,group_unique_df,explore_cluster_compound_info,annotate_cluster_compounds\n",
    "from mutants_in_pcm.mutant_analysis_common_subsets import read_common_subset\n",
    "from mutants_in_pcm.mutant_analysis_clustermaps import pivot_bioactivity_data"
   ],
   "metadata": {
    "collapsed": false,
    "ExecuteTime": {
     "end_time": "2023-12-06T16:30:38.772500900Z",
     "start_time": "2023-12-06T16:30:06.085105400Z"
    }
   }
  },
  {
   "cell_type": "markdown",
   "source": [
    "### Check bioactivity values of compounds in clustermap"
   ],
   "metadata": {
    "collapsed": false
   }
  },
  {
   "cell_type": "code",
   "execution_count": 199,
   "outputs": [],
   "source": [
    "# Read common subset \n",
    "common_subset_args = {'all':{'common':False,\n",
    "                             'sim':False,\n",
    "                             'sim_thres':None,\n",
    "                             'threshold':None,\n",
    "                             'variant_coverage':None}\n",
    "                      }\n",
    "\n",
    "common_subset = read_common_subset(accession =analysis_accession,\n",
    "                                   output_dir=common_analysis_dir,\n",
    "                                   **common_subset_args['all'])"
   ],
   "metadata": {
    "collapsed": false,
    "ExecuteTime": {
     "end_time": "2023-12-06T16:30:38.786039800Z",
     "start_time": "2023-12-06T16:30:06.950957200Z"
    }
   }
  },
  {
   "cell_type": "code",
   "execution_count": 200,
   "outputs": [],
   "source": [
    "# Define stricter thresholds used in analysis \n",
    "stricter_thresholds = {'P00533': {'threshold': 3,\n",
    "                                  'variant_coverage': 0.1}, #EGFR\n",
    "                       'Q72547': {'threshold': 0,\n",
    "                                  'variant_coverage': 0.03}, #HIV\n",
    "                       'P00519': {'threshold': 0,\n",
    "                                  'variant_coverage': 0.02}, #ABL1\n",
    "                       'O60885': {'threshold': 0,\n",
    "                                  'variant_coverage': 0.02}, #BRD4\n",
    "                       'O75874': {'threshold': 2,\n",
    "                                  'variant_coverage': 0.2} #IDH1\n",
    "                          }"
   ],
   "metadata": {
    "collapsed": false,
    "ExecuteTime": {
     "end_time": "2023-12-06T16:30:38.786039800Z",
     "start_time": "2023-12-06T16:30:08.061071200Z"
    }
   }
  },
  {
   "cell_type": "code",
   "execution_count": 201,
   "outputs": [
    {
     "data": {
      "text/plain": "                    AAKJLRGGTJKAMG  BCFGMOOMADDAQU  BIIVYFLTOXDAOV  \\\ntarget_id                                                            \nP00533_A750P              9.282000        8.659000        5.639000   \nP00533_G719C              9.070500        9.038000        5.961000   \nP00533_G719S              9.282000        8.679000        5.399000   \nP00533_L858R              8.422409        8.265250        5.577500   \nP00533_L861Q              8.920500        8.920500        5.690000   \nP00533_P753S              9.329000        8.409500        5.494500   \nP00533_T790M              6.808667        6.213000        5.798000   \nP00533_T790M_L858R        6.375000        6.225000        6.120000   \nP00533_WT                 7.893985        7.884286        5.359375   \n\n                    BMGQWWVMWDBQGC  CDMGBJANTYXAIV  CXQHYVUVSFXTMY  \\\ntarget_id                                                            \nP00533_A750P               6.20900          5.7700          6.7980   \nP00533_G719C               5.82200          6.1495          6.9205   \nP00533_G719S               5.27800          5.8880          6.4310   \nP00533_L858R               6.11950          5.7205          6.7205   \nP00533_L861Q               5.55150          5.4975          7.0680   \nP00533_P753S               5.77000          5.7980          6.6790   \nP00533_T790M               8.00950          5.6010          6.3290   \nP00533_T790M_L858R         7.82000          5.8900          5.7500   \nP00533_WT                  5.73563          5.7080          5.8730   \n\n                    HKSZLNNOFSGOKW  JWNPDZNEKVCWMY  MFAQYJIYDMLAIM  \\\ntarget_id                                                            \nP00533_A750P              7.019000        9.212500          6.0115   \nP00533_G719C              5.959500        9.431000          5.4095   \nP00533_G719S              5.959500        9.040500          5.5215   \nP00533_L858R              6.900929        9.373667          6.0000   \nP00533_L861Q              6.221000        9.431000          5.8520   \nP00533_P753S              6.521500        9.031000          5.6200   \nP00533_T790M              8.987000        8.822000          5.6200   \nP00533_T790M_L858R        8.610000        8.092500          6.1800   \nP00533_WT                 7.283167        8.105238          5.8135   \n\n                    ODPGGGTTYSGTGO  ...  UBPYILGKFZZVDX  UHTHHESEBZOYNR  \\\ntarget_id                           ...                                   \nP00533_A750P              6.659000  ...          7.5390        7.920500   \nP00533_G719C              6.659000  ...          7.0095        8.019000   \nP00533_G719S              6.282000  ...          7.5825        8.229500   \nP00533_L858R              5.582500  ...          7.6390        8.060000   \nP00533_L861Q              6.011500  ...          7.1495        7.959500   \nP00533_P753S              6.260000  ...          7.4200        8.101000   \nP00533_T790M              5.679000  ...          6.4295        7.000000   \nP00533_T790M_L858R        5.800000  ...          6.4100        6.640000   \nP00533_WT                 6.100167  ...          7.4050        7.106429   \n\n                    UIARLYUEJFELEN  UJIAQDJKSXQLIT  ULXXDDBFHOBEHA  \\\ntarget_id                                                            \nP00533_A750P                6.4975          5.8880        9.852000   \nP00533_G719C                5.9205          5.8520       10.000000   \nP00533_G719S                5.9595          5.0680        9.720500   \nP00533_L858R                6.0680          5.8520        9.502524   \nP00533_L861Q                6.0985          5.7205        9.639000   \nP00533_P753S                5.8520          5.6010        9.920500   \nP00533_T790M                7.7980          5.1605        8.825000   \nP00533_T790M_L858R          7.8150          5.6600        8.068333   \nP00533_WT                   6.2010          5.6395        8.919444   \n\n                    WINHZLLDWRZWRT  XGALLCVXEZPNRQ  XQVVPGYIWAGRNI  \\\ntarget_id                                                            \nP00533_A750P               5.00000        9.242000          5.9595   \nP00533_G719C               5.16850        8.699500          6.2005   \nP00533_G719S               5.00000        8.959500          5.8880   \nP00533_L858R               5.00000        8.897500          5.8880   \nP00533_L861Q               5.00000        8.852000          5.5695   \nP00533_P753S               5.00000        9.242000          5.2005   \nP00533_T790M               5.62000        6.880538          6.4420   \nP00533_T790M_L858R         6.07000        6.091379          6.6200   \nP00533_WT                  6.41375        7.960872          5.9870   \n\n                    XXJWYDDUDKYVKI  ZBNZXTGUTAYRHI  \ntarget_id                                           \nP00533_A750P                6.1575        6.966500  \nP00533_G719C                6.8220        6.758000  \nP00533_G719S                7.0780        7.100000  \nP00533_L858R                6.8520        6.933500  \nP00533_L861Q                6.9205        6.966500  \nP00533_P753S                6.0680        6.502000  \nP00533_T790M                5.8880        5.639000  \nP00533_T790M_L858R          5.1300        5.660000  \nP00533_WT                   6.0920        6.652857  \n\n[9 rows x 22 columns]",
      "text/html": "<div>\n<style scoped>\n    .dataframe tbody tr th:only-of-type {\n        vertical-align: middle;\n    }\n\n    .dataframe tbody tr th {\n        vertical-align: top;\n    }\n\n    .dataframe thead th {\n        text-align: right;\n    }\n</style>\n<table border=\"1\" class=\"dataframe\">\n  <thead>\n    <tr style=\"text-align: right;\">\n      <th></th>\n      <th>AAKJLRGGTJKAMG</th>\n      <th>BCFGMOOMADDAQU</th>\n      <th>BIIVYFLTOXDAOV</th>\n      <th>BMGQWWVMWDBQGC</th>\n      <th>CDMGBJANTYXAIV</th>\n      <th>CXQHYVUVSFXTMY</th>\n      <th>HKSZLNNOFSGOKW</th>\n      <th>JWNPDZNEKVCWMY</th>\n      <th>MFAQYJIYDMLAIM</th>\n      <th>ODPGGGTTYSGTGO</th>\n      <th>...</th>\n      <th>UBPYILGKFZZVDX</th>\n      <th>UHTHHESEBZOYNR</th>\n      <th>UIARLYUEJFELEN</th>\n      <th>UJIAQDJKSXQLIT</th>\n      <th>ULXXDDBFHOBEHA</th>\n      <th>WINHZLLDWRZWRT</th>\n      <th>XGALLCVXEZPNRQ</th>\n      <th>XQVVPGYIWAGRNI</th>\n      <th>XXJWYDDUDKYVKI</th>\n      <th>ZBNZXTGUTAYRHI</th>\n    </tr>\n    <tr>\n      <th>target_id</th>\n      <th></th>\n      <th></th>\n      <th></th>\n      <th></th>\n      <th></th>\n      <th></th>\n      <th></th>\n      <th></th>\n      <th></th>\n      <th></th>\n      <th></th>\n      <th></th>\n      <th></th>\n      <th></th>\n      <th></th>\n      <th></th>\n      <th></th>\n      <th></th>\n      <th></th>\n      <th></th>\n      <th></th>\n    </tr>\n  </thead>\n  <tbody>\n    <tr>\n      <th>P00533_A750P</th>\n      <td>9.282000</td>\n      <td>8.659000</td>\n      <td>5.639000</td>\n      <td>6.20900</td>\n      <td>5.7700</td>\n      <td>6.7980</td>\n      <td>7.019000</td>\n      <td>9.212500</td>\n      <td>6.0115</td>\n      <td>6.659000</td>\n      <td>...</td>\n      <td>7.5390</td>\n      <td>7.920500</td>\n      <td>6.4975</td>\n      <td>5.8880</td>\n      <td>9.852000</td>\n      <td>5.00000</td>\n      <td>9.242000</td>\n      <td>5.9595</td>\n      <td>6.1575</td>\n      <td>6.966500</td>\n    </tr>\n    <tr>\n      <th>P00533_G719C</th>\n      <td>9.070500</td>\n      <td>9.038000</td>\n      <td>5.961000</td>\n      <td>5.82200</td>\n      <td>6.1495</td>\n      <td>6.9205</td>\n      <td>5.959500</td>\n      <td>9.431000</td>\n      <td>5.4095</td>\n      <td>6.659000</td>\n      <td>...</td>\n      <td>7.0095</td>\n      <td>8.019000</td>\n      <td>5.9205</td>\n      <td>5.8520</td>\n      <td>10.000000</td>\n      <td>5.16850</td>\n      <td>8.699500</td>\n      <td>6.2005</td>\n      <td>6.8220</td>\n      <td>6.758000</td>\n    </tr>\n    <tr>\n      <th>P00533_G719S</th>\n      <td>9.282000</td>\n      <td>8.679000</td>\n      <td>5.399000</td>\n      <td>5.27800</td>\n      <td>5.8880</td>\n      <td>6.4310</td>\n      <td>5.959500</td>\n      <td>9.040500</td>\n      <td>5.5215</td>\n      <td>6.282000</td>\n      <td>...</td>\n      <td>7.5825</td>\n      <td>8.229500</td>\n      <td>5.9595</td>\n      <td>5.0680</td>\n      <td>9.720500</td>\n      <td>5.00000</td>\n      <td>8.959500</td>\n      <td>5.8880</td>\n      <td>7.0780</td>\n      <td>7.100000</td>\n    </tr>\n    <tr>\n      <th>P00533_L858R</th>\n      <td>8.422409</td>\n      <td>8.265250</td>\n      <td>5.577500</td>\n      <td>6.11950</td>\n      <td>5.7205</td>\n      <td>6.7205</td>\n      <td>6.900929</td>\n      <td>9.373667</td>\n      <td>6.0000</td>\n      <td>5.582500</td>\n      <td>...</td>\n      <td>7.6390</td>\n      <td>8.060000</td>\n      <td>6.0680</td>\n      <td>5.8520</td>\n      <td>9.502524</td>\n      <td>5.00000</td>\n      <td>8.897500</td>\n      <td>5.8880</td>\n      <td>6.8520</td>\n      <td>6.933500</td>\n    </tr>\n    <tr>\n      <th>P00533_L861Q</th>\n      <td>8.920500</td>\n      <td>8.920500</td>\n      <td>5.690000</td>\n      <td>5.55150</td>\n      <td>5.4975</td>\n      <td>7.0680</td>\n      <td>6.221000</td>\n      <td>9.431000</td>\n      <td>5.8520</td>\n      <td>6.011500</td>\n      <td>...</td>\n      <td>7.1495</td>\n      <td>7.959500</td>\n      <td>6.0985</td>\n      <td>5.7205</td>\n      <td>9.639000</td>\n      <td>5.00000</td>\n      <td>8.852000</td>\n      <td>5.5695</td>\n      <td>6.9205</td>\n      <td>6.966500</td>\n    </tr>\n    <tr>\n      <th>P00533_P753S</th>\n      <td>9.329000</td>\n      <td>8.409500</td>\n      <td>5.494500</td>\n      <td>5.77000</td>\n      <td>5.7980</td>\n      <td>6.6790</td>\n      <td>6.521500</td>\n      <td>9.031000</td>\n      <td>5.6200</td>\n      <td>6.260000</td>\n      <td>...</td>\n      <td>7.4200</td>\n      <td>8.101000</td>\n      <td>5.8520</td>\n      <td>5.6010</td>\n      <td>9.920500</td>\n      <td>5.00000</td>\n      <td>9.242000</td>\n      <td>5.2005</td>\n      <td>6.0680</td>\n      <td>6.502000</td>\n    </tr>\n    <tr>\n      <th>P00533_T790M</th>\n      <td>6.808667</td>\n      <td>6.213000</td>\n      <td>5.798000</td>\n      <td>8.00950</td>\n      <td>5.6010</td>\n      <td>6.3290</td>\n      <td>8.987000</td>\n      <td>8.822000</td>\n      <td>5.6200</td>\n      <td>5.679000</td>\n      <td>...</td>\n      <td>6.4295</td>\n      <td>7.000000</td>\n      <td>7.7980</td>\n      <td>5.1605</td>\n      <td>8.825000</td>\n      <td>5.62000</td>\n      <td>6.880538</td>\n      <td>6.4420</td>\n      <td>5.8880</td>\n      <td>5.639000</td>\n    </tr>\n    <tr>\n      <th>P00533_T790M_L858R</th>\n      <td>6.375000</td>\n      <td>6.225000</td>\n      <td>6.120000</td>\n      <td>7.82000</td>\n      <td>5.8900</td>\n      <td>5.7500</td>\n      <td>8.610000</td>\n      <td>8.092500</td>\n      <td>6.1800</td>\n      <td>5.800000</td>\n      <td>...</td>\n      <td>6.4100</td>\n      <td>6.640000</td>\n      <td>7.8150</td>\n      <td>5.6600</td>\n      <td>8.068333</td>\n      <td>6.07000</td>\n      <td>6.091379</td>\n      <td>6.6200</td>\n      <td>5.1300</td>\n      <td>5.660000</td>\n    </tr>\n    <tr>\n      <th>P00533_WT</th>\n      <td>7.893985</td>\n      <td>7.884286</td>\n      <td>5.359375</td>\n      <td>5.73563</td>\n      <td>5.7080</td>\n      <td>5.8730</td>\n      <td>7.283167</td>\n      <td>8.105238</td>\n      <td>5.8135</td>\n      <td>6.100167</td>\n      <td>...</td>\n      <td>7.4050</td>\n      <td>7.106429</td>\n      <td>6.2010</td>\n      <td>5.6395</td>\n      <td>8.919444</td>\n      <td>6.41375</td>\n      <td>7.960872</td>\n      <td>5.9870</td>\n      <td>6.0920</td>\n      <td>6.652857</td>\n    </tr>\n  </tbody>\n</table>\n<p>9 rows × 22 columns</p>\n</div>"
     },
     "execution_count": 201,
     "metadata": {},
     "output_type": "execute_result"
    }
   ],
   "source": [
    "# Read clustermap dataframe\n",
    "strictly_common_subset_df = pivot_bioactivity_data(data = common_subset, \n",
    "                                                   strictly_common = True,\n",
    "                                                   threshold_update = stricter_thresholds[analysis_accession]['threshold'],\n",
    "                                                    variant_coverage_update = \n",
    "                                                   stricter_thresholds[analysis_accession]['variant_coverage'],\n",
    "                                                   save = True,\n",
    "                                                   output_dir = os.path.join(bioactivity_analysis_dir, \n",
    "                                                                             analysis_accession))\n",
    "strictly_common_subset_df"
   ],
   "metadata": {
    "collapsed": false,
    "ExecuteTime": {
     "end_time": "2023-12-06T16:30:38.786039800Z",
     "start_time": "2023-12-06T16:30:08.965295Z"
    }
   }
  },
  {
   "cell_type": "code",
   "execution_count": 202,
   "outputs": [],
   "source": [
    "# Extract compounds in clustermap\n",
    "clustermap_compounds = strictly_common_subset_df.columns.to_list()\n",
    "# Extract variants in clustermap\n",
    "clustermap_variants = strictly_common_subset_df.index.to_list()"
   ],
   "metadata": {
    "collapsed": false,
    "ExecuteTime": {
     "end_time": "2023-12-06T16:30:38.786039800Z",
     "start_time": "2023-12-06T16:30:09.962792200Z"
    }
   }
  },
  {
   "cell_type": "code",
   "execution_count": 203,
   "outputs": [
    {
     "name": "stdout",
     "output_type": "stream",
     "text": [
      "---SUBSET 1: 3 compounds---\n",
      "---MIN---\n",
      "8.068333333333333\n",
      "-----\n",
      "target_id\n",
      "P00533_A750P          9.212500\n",
      "P00533_G719C          9.431000\n",
      "P00533_G719S          9.040500\n",
      "P00533_L858R          9.373667\n",
      "P00533_L861Q          9.431000\n",
      "P00533_P753S          9.031000\n",
      "P00533_T790M          8.822000\n",
      "P00533_T790M_L858R    8.068333\n",
      "P00533_WT             8.105238\n",
      "dtype: float64\n",
      "---MAX---\n",
      "10.0\n",
      "-----\n",
      "target_id\n",
      "P00533_A750P           9.852000\n",
      "P00533_G719C          10.000000\n",
      "P00533_G719S           9.720500\n",
      "P00533_L858R           9.531000\n",
      "P00533_L861Q           9.659000\n",
      "P00533_P753S           9.920500\n",
      "P00533_T790M          10.000000\n",
      "P00533_T790M_L858R     8.902000\n",
      "P00533_WT              8.930833\n",
      "dtype: float64\n",
      "---SUBSET 2: 7 compounds---\n",
      "---MIN---\n",
      "5.0\n",
      "-----\n",
      "target_id\n",
      "P00533_A750P          5.000000\n",
      "P00533_G719C          5.168500\n",
      "P00533_G719S          5.000000\n",
      "P00533_L858R          5.000000\n",
      "P00533_L861Q          5.000000\n",
      "P00533_P753S          5.000000\n",
      "P00533_T790M          5.160500\n",
      "P00533_T790M_L858R    5.660000\n",
      "P00533_WT             5.359375\n",
      "dtype: float64\n",
      "---MAX---\n",
      "6.659000000000001\n",
      "-----\n",
      "target_id\n",
      "P00533_A750P          6.65900\n",
      "P00533_G719C          6.65900\n",
      "P00533_G719S          6.28200\n",
      "P00533_L858R          6.00000\n",
      "P00533_L861Q          6.01150\n",
      "P00533_P753S          6.26000\n",
      "P00533_T790M          6.44200\n",
      "P00533_T790M_L858R    6.62000\n",
      "P00533_WT             6.41375\n",
      "dtype: float64\n",
      "---SUBSET 3: 4 compounds---\n",
      "---MIN---\n",
      "5.2780000000000005\n",
      "-----\n",
      "target_id\n",
      "P00533_A750P          6.20900\n",
      "P00533_G719C          5.69950\n",
      "P00533_G719S          5.27800\n",
      "P00533_L858R          6.06800\n",
      "P00533_L861Q          5.55150\n",
      "P00533_P753S          5.77000\n",
      "P00533_T790M          7.79800\n",
      "P00533_T790M_L858R    7.81500\n",
      "P00533_WT             5.73563\n",
      "dtype: float64\n",
      "---MAX---\n",
      "8.987\n",
      "-----\n",
      "target_id\n",
      "P00533_A750P          7.141500\n",
      "P00533_G719C          5.959500\n",
      "P00533_G719S          5.959500\n",
      "P00533_L858R          7.338500\n",
      "P00533_L861Q          7.009500\n",
      "P00533_P753S          6.959500\n",
      "P00533_T790M          8.987000\n",
      "P00533_T790M_L858R    8.610000\n",
      "P00533_WT             7.283167\n",
      "dtype: float64\n",
      "---SUBSET 4: 5 compounds---\n",
      "---MIN---\n",
      "6.091379310344828\n",
      "-----\n",
      "target_id\n",
      "P00533_A750P          7.539000\n",
      "P00533_G719C          7.009500\n",
      "P00533_G719S          7.582500\n",
      "P00533_L858R          7.639000\n",
      "P00533_L861Q          7.149500\n",
      "P00533_P753S          7.420000\n",
      "P00533_T790M          6.213000\n",
      "P00533_T790M_L858R    6.091379\n",
      "P00533_WT             7.106429\n",
      "dtype: float64\n",
      "---MAX---\n",
      "9.329\n",
      "-----\n",
      "target_id\n",
      "P00533_A750P          9.282000\n",
      "P00533_G719C          9.070500\n",
      "P00533_G719S          9.282000\n",
      "P00533_L858R          8.897500\n",
      "P00533_L861Q          8.920500\n",
      "P00533_P753S          9.329000\n",
      "P00533_T790M          7.000000\n",
      "P00533_T790M_L858R    6.640000\n",
      "P00533_WT             7.960872\n",
      "dtype: float64\n"
     ]
    }
   ],
   "source": [
    "if analysis_accession == 'P00533':\n",
    "    # Define list of compounds in clustermap to check manually \n",
    "    egfr_subset_lists =[\n",
    "        ['JWNPDZNEKVCWMY',\n",
    "         'OMZCMEYTWSXEPZ',\n",
    "         'ULXXDDBFHOBEHA'],\n",
    "        \n",
    "        ['WINHZLLDWRZWRT',\n",
    "        'ODPGGGTTYSGTGO',\n",
    "        'XQVVPGYIWAGRNI',\n",
    "        'BIIVYFLTOXDAOV',\n",
    "        'CDMGBJANTYXAIV',\n",
    "        'MFAQYJIYDMLAIM',\n",
    "        'UJIAQDJKSXQLIT'],\n",
    "        \n",
    "        ['BMGQWWVMWDBQGC',\n",
    "        'UIARLYUEJFELEN',\n",
    "        'HKSZLNNOFSGOKW',\n",
    "        'QQWUGDVOUVUTOY'],\n",
    "        \n",
    "        ['BCFGMOOMADDAQU',\n",
    "        'AAKJLRGGTJKAMG',\n",
    "        'XGALLCVXEZPNRQ',\n",
    "        'UBPYILGKFZZVDX',\n",
    "        'UHTHHESEBZOYNR']\n",
    "    ]\n",
    "    # Print stats for each of the subsets to check\n",
    "    for i,check_list in enumerate(egfr_subset_lists):\n",
    "        print(f'---SUBSET {i+1}: {len(check_list)} compounds---')\n",
    "        \n",
    "        check = strictly_common_subset_df[check_list]\n",
    "        \n",
    "        # Print min bioactivity values of compounds in subset \n",
    "        print('---MIN---')\n",
    "        print(min(check.min(axis=1)))\n",
    "        print('-----')\n",
    "        print(check.min(axis=1))\n",
    "        \n",
    "        # Print max bioactivity values of compounds in subset \n",
    "        print('---MAX---')\n",
    "        print(max(check.max(axis=1)))\n",
    "        print('-----')\n",
    "        print(check.max(axis=1))    \n",
    "else:\n",
    "    print('Define the right subset lists for the accession of interest')"
   ],
   "metadata": {
    "collapsed": false,
    "ExecuteTime": {
     "end_time": "2023-12-06T16:30:38.786039800Z",
     "start_time": "2023-12-06T16:30:10.880622700Z"
    }
   }
  },
  {
   "cell_type": "code",
   "execution_count": 204,
   "outputs": [
    {
     "name": "stdout",
     "output_type": "stream",
     "text": [
      "---SUBSET 1: 14 compounds---\n",
      "---MIN---\n",
      "5.0\n",
      "-----\n",
      "target_id\n",
      "P00533_A750P    5.000000\n",
      "P00533_G719C    5.168500\n",
      "P00533_G719S    5.000000\n",
      "P00533_L858R    5.000000\n",
      "P00533_L861Q    5.000000\n",
      "P00533_P753S    5.000000\n",
      "P00533_WT       5.359375\n",
      "dtype: float64\n",
      "---MAX---\n",
      "7.3385\n",
      "-----\n",
      "target_id\n",
      "P00533_A750P    7.141500\n",
      "P00533_G719C    6.920500\n",
      "P00533_G719S    7.100000\n",
      "P00533_L858R    7.338500\n",
      "P00533_L861Q    7.068000\n",
      "P00533_P753S    6.959500\n",
      "P00533_WT       7.283167\n",
      "dtype: float64\n",
      "---SUBSET 2: 8 compounds---\n",
      "---MIN---\n",
      "7.0095\n",
      "-----\n",
      "target_id\n",
      "P00533_A750P    7.539000\n",
      "P00533_G719C    7.009500\n",
      "P00533_G719S    7.582500\n",
      "P00533_L858R    7.639000\n",
      "P00533_L861Q    7.149500\n",
      "P00533_P753S    7.420000\n",
      "P00533_WT       7.106429\n",
      "dtype: float64\n",
      "---MAX---\n",
      "10.0\n",
      "-----\n",
      "target_id\n",
      "P00533_A750P     9.852000\n",
      "P00533_G719C    10.000000\n",
      "P00533_G719S     9.720500\n",
      "P00533_L858R     9.531000\n",
      "P00533_L861Q     9.659000\n",
      "P00533_P753S     9.920500\n",
      "P00533_WT        8.930833\n",
      "dtype: float64\n"
     ]
    }
   ],
   "source": [
    "if analysis_accession == 'P00533':\n",
    "    # Subset bioactivity without T790M-containing variants\n",
    "    pivot_no790 = strictly_common_subset_df[~strictly_common_subset_df.index.str.contains('T790')]\n",
    "    \n",
    "    # Define list of compounds in clustermap to check manually\n",
    "    egfr_no790_subset_lists =[\n",
    "        ['BMGQWWVMWDBQGC',\n",
    "        'UIARLYUEJFELEN',\n",
    "        'HKSZLNNOFSGOKW',\n",
    "        'QQWUGDVOUVUTOY',\n",
    "        'CXQHYVUVSFXTMY',\n",
    "        'XXJWYDDUDKYVKI',\n",
    "        'ZBNZXTGUTAYRHI',\n",
    "        'WINHZLLDWRZWRT',\n",
    "        'ODPGGGTTYSGTGO',\n",
    "        'XQVVPGYIWAGRNI',\n",
    "        'BIIVYFLTOXDAOV',\n",
    "        'CDMGBJANTYXAIV',\n",
    "        'MFAQYJIYDMLAIM',\n",
    "        'UJIAQDJKSXQLIT'],\n",
    "        \n",
    "        ['JWNPDZNEKVCWMY',\n",
    "        'OMZCMEYTWSXEPZ',\n",
    "        'ULXXDDBFHOBEHA',\n",
    "        'BCFGMOOMADDAQU',\n",
    "        'AAKJLRGGTJKAMG',\n",
    "        'XGALLCVXEZPNRQ',\n",
    "        'UBPYILGKFZZVDX',\n",
    "        'UHTHHESEBZOYNR']\n",
    "        ]\n",
    "    \n",
    "    # Print stats for each of the subsets to check\n",
    "    for i,check_list in enumerate(egfr_no790_subset_lists):\n",
    "        print(f'---SUBSET {i+1}: {len(check_list)} compounds---')\n",
    "        \n",
    "        check = pivot_no790[check_list]\n",
    "        \n",
    "        # Print min bioactivity values of compounds in subset \n",
    "        print('---MIN---')\n",
    "        print(min(check.min(axis=1)))\n",
    "        print('-----')\n",
    "        print(check.min(axis=1))\n",
    "        \n",
    "        # Print max bioactivity values of compounds in subset \n",
    "        print('---MAX---')\n",
    "        print(max(check.max(axis=1)))\n",
    "        print('-----')\n",
    "        print(check.max(axis=1))"
   ],
   "metadata": {
    "collapsed": false,
    "pycharm": {
     "name": "#%%\n"
    },
    "ExecuteTime": {
     "end_time": "2023-12-06T16:30:38.786039800Z",
     "start_time": "2023-12-06T16:30:11.780783700Z"
    }
   }
  },
  {
   "cell_type": "markdown",
   "source": [
    "## Check approval status of compounds in clustermap"
   ],
   "metadata": {
    "collapsed": false
   }
  },
  {
   "cell_type": "code",
   "execution_count": 205,
   "outputs": [
    {
     "name": "stdout",
     "output_type": "stream",
     "text": [
      "ChEMBL/Papyrus compound mapping file already exists. Reading it.\n"
     ]
    },
    {
     "name": "stderr",
     "output_type": "stream",
     "text": [
      "C:\\Users\\gorostiolam\\AppData\\Local\\Continuum\\anaconda3\\envs\\mutants-in-pcm\\lib\\site-packages\\ipykernel_launcher.py:2: DtypeWarning: Columns (20,22,27,32,36) have mixed types.Specify dtype option on import or set low_memory=False.\n",
      "  \n"
     ]
    },
    {
     "data": {
      "text/plain": "          connectivity            CID      chembl_id  molregno pref_name  \\\n0       AAAAZQPHATYWOK   CHEMBL175513   CHEMBL175513    299040       NaN   \n1       AAABHMIRDIOYOK  CHEMBL1527551  CHEMBL1527551    951435       NaN   \n2       AAABTPAECTZDET   CHEMBL221553   CHEMBL221553    368668       NaN   \n3       AAACBXVBBDAYRQ  CHEMBL4067228  CHEMBL4067228   2207139       NaN   \n4       AAADPBLPXCELKR   CHEMBL495028   CHEMBL495028    478485       NaN   \n...                ...            ...            ...       ...       ...   \n317276  ZZZNVZMIBLYSAK  CHEMBL1309011  CHEMBL1309011    732895       NaN   \n317277  ZZZOPDYSYWKLLT  CHEMBL1779477  CHEMBL1779477   1147950       NaN   \n317278  ZZZQZZTYLVXHSC  CHEMBL1165483  CHEMBL1165483    644719       NaN   \n317279  ZZZZEECYUGCIIB  CHEMBL4098540  CHEMBL4098540   2238451       NaN   \n317280  ZZZZEJJXQQRZBH  CHEMBL4751316  CHEMBL4751316   2498653       NaN   \n\n        max_phase  therapeutic_flag  natural_product   molecule_type  \\\n0               0                 0               -1  Small molecule   \n1               0                 0               -1  Small molecule   \n2               0                 0               -1  Small molecule   \n3               0                 0               -1  Small molecule   \n4               0                 0               -1  Small molecule   \n...           ...               ...              ...             ...   \n317276          0                 0               -1  Small molecule   \n317277          0                 0               -1  Small molecule   \n317278          0                 0               -1  Small molecule   \n317279          0                 0               -1  Small molecule   \n317280          0                 0               -1             NaN   \n\n        first_approval  ...  chembl_id_child  pref_name_child  \\\n0                  NaN  ...              NaN              NaN   \n1                  NaN  ...              NaN              NaN   \n2                  NaN  ...              NaN              NaN   \n3                  NaN  ...              NaN              NaN   \n4                  NaN  ...              NaN              NaN   \n...                ...  ...              ...              ...   \n317276             NaN  ...              NaN              NaN   \n317277             NaN  ...              NaN              NaN   \n317278             NaN  ...              NaN              NaN   \n317279             NaN  ...              NaN              NaN   \n317280             NaN  ...              NaN              NaN   \n\n        max_phase_child  accession_child mutation_child  \\\n0                   NaN              NaN            NaN   \n1                   NaN              NaN            NaN   \n2                   NaN              NaN            NaN   \n3                   NaN              NaN            NaN   \n4                   NaN              NaN            NaN   \n...                 ...              ...            ...   \n317276              NaN              NaN            NaN   \n317277              NaN              NaN            NaN   \n317278              NaN              NaN            NaN   \n317279              NaN              NaN            NaN   \n317280              NaN              NaN            NaN   \n\n       mechanism_of_action_child action_type_child mechanism_comment_child  \\\n0                            NaN               NaN                     NaN   \n1                            NaN               NaN                     NaN   \n2                            NaN               NaN                     NaN   \n3                            NaN               NaN                     NaN   \n4                            NaN               NaN                     NaN   \n...                          ...               ...                     ...   \n317276                       NaN               NaN                     NaN   \n317277                       NaN               NaN                     NaN   \n317278                       NaN               NaN                     NaN   \n317279                       NaN               NaN                     NaN   \n317280                       NaN               NaN                     NaN   \n\n       selectivity_comment_child indications_child  \n0                            NaN               NaN  \n1                            NaN               NaN  \n2                            NaN               NaN  \n3                            NaN               NaN  \n4                            NaN               NaN  \n...                          ...               ...  \n317276                       NaN               NaN  \n317277                       NaN               NaN  \n317278                       NaN               NaN  \n317279                       NaN               NaN  \n317280                       NaN               NaN  \n\n[317281 rows x 38 columns]",
      "text/html": "<div>\n<style scoped>\n    .dataframe tbody tr th:only-of-type {\n        vertical-align: middle;\n    }\n\n    .dataframe tbody tr th {\n        vertical-align: top;\n    }\n\n    .dataframe thead th {\n        text-align: right;\n    }\n</style>\n<table border=\"1\" class=\"dataframe\">\n  <thead>\n    <tr style=\"text-align: right;\">\n      <th></th>\n      <th>connectivity</th>\n      <th>CID</th>\n      <th>chembl_id</th>\n      <th>molregno</th>\n      <th>pref_name</th>\n      <th>max_phase</th>\n      <th>therapeutic_flag</th>\n      <th>natural_product</th>\n      <th>molecule_type</th>\n      <th>first_approval</th>\n      <th>...</th>\n      <th>chembl_id_child</th>\n      <th>pref_name_child</th>\n      <th>max_phase_child</th>\n      <th>accession_child</th>\n      <th>mutation_child</th>\n      <th>mechanism_of_action_child</th>\n      <th>action_type_child</th>\n      <th>mechanism_comment_child</th>\n      <th>selectivity_comment_child</th>\n      <th>indications_child</th>\n    </tr>\n  </thead>\n  <tbody>\n    <tr>\n      <th>0</th>\n      <td>AAAAZQPHATYWOK</td>\n      <td>CHEMBL175513</td>\n      <td>CHEMBL175513</td>\n      <td>299040</td>\n      <td>NaN</td>\n      <td>0</td>\n      <td>0</td>\n      <td>-1</td>\n      <td>Small molecule</td>\n      <td>NaN</td>\n      <td>...</td>\n      <td>NaN</td>\n      <td>NaN</td>\n      <td>NaN</td>\n      <td>NaN</td>\n      <td>NaN</td>\n      <td>NaN</td>\n      <td>NaN</td>\n      <td>NaN</td>\n      <td>NaN</td>\n      <td>NaN</td>\n    </tr>\n    <tr>\n      <th>1</th>\n      <td>AAABHMIRDIOYOK</td>\n      <td>CHEMBL1527551</td>\n      <td>CHEMBL1527551</td>\n      <td>951435</td>\n      <td>NaN</td>\n      <td>0</td>\n      <td>0</td>\n      <td>-1</td>\n      <td>Small molecule</td>\n      <td>NaN</td>\n      <td>...</td>\n      <td>NaN</td>\n      <td>NaN</td>\n      <td>NaN</td>\n      <td>NaN</td>\n      <td>NaN</td>\n      <td>NaN</td>\n      <td>NaN</td>\n      <td>NaN</td>\n      <td>NaN</td>\n      <td>NaN</td>\n    </tr>\n    <tr>\n      <th>2</th>\n      <td>AAABTPAECTZDET</td>\n      <td>CHEMBL221553</td>\n      <td>CHEMBL221553</td>\n      <td>368668</td>\n      <td>NaN</td>\n      <td>0</td>\n      <td>0</td>\n      <td>-1</td>\n      <td>Small molecule</td>\n      <td>NaN</td>\n      <td>...</td>\n      <td>NaN</td>\n      <td>NaN</td>\n      <td>NaN</td>\n      <td>NaN</td>\n      <td>NaN</td>\n      <td>NaN</td>\n      <td>NaN</td>\n      <td>NaN</td>\n      <td>NaN</td>\n      <td>NaN</td>\n    </tr>\n    <tr>\n      <th>3</th>\n      <td>AAACBXVBBDAYRQ</td>\n      <td>CHEMBL4067228</td>\n      <td>CHEMBL4067228</td>\n      <td>2207139</td>\n      <td>NaN</td>\n      <td>0</td>\n      <td>0</td>\n      <td>-1</td>\n      <td>Small molecule</td>\n      <td>NaN</td>\n      <td>...</td>\n      <td>NaN</td>\n      <td>NaN</td>\n      <td>NaN</td>\n      <td>NaN</td>\n      <td>NaN</td>\n      <td>NaN</td>\n      <td>NaN</td>\n      <td>NaN</td>\n      <td>NaN</td>\n      <td>NaN</td>\n    </tr>\n    <tr>\n      <th>4</th>\n      <td>AAADPBLPXCELKR</td>\n      <td>CHEMBL495028</td>\n      <td>CHEMBL495028</td>\n      <td>478485</td>\n      <td>NaN</td>\n      <td>0</td>\n      <td>0</td>\n      <td>-1</td>\n      <td>Small molecule</td>\n      <td>NaN</td>\n      <td>...</td>\n      <td>NaN</td>\n      <td>NaN</td>\n      <td>NaN</td>\n      <td>NaN</td>\n      <td>NaN</td>\n      <td>NaN</td>\n      <td>NaN</td>\n      <td>NaN</td>\n      <td>NaN</td>\n      <td>NaN</td>\n    </tr>\n    <tr>\n      <th>...</th>\n      <td>...</td>\n      <td>...</td>\n      <td>...</td>\n      <td>...</td>\n      <td>...</td>\n      <td>...</td>\n      <td>...</td>\n      <td>...</td>\n      <td>...</td>\n      <td>...</td>\n      <td>...</td>\n      <td>...</td>\n      <td>...</td>\n      <td>...</td>\n      <td>...</td>\n      <td>...</td>\n      <td>...</td>\n      <td>...</td>\n      <td>...</td>\n      <td>...</td>\n      <td>...</td>\n    </tr>\n    <tr>\n      <th>317276</th>\n      <td>ZZZNVZMIBLYSAK</td>\n      <td>CHEMBL1309011</td>\n      <td>CHEMBL1309011</td>\n      <td>732895</td>\n      <td>NaN</td>\n      <td>0</td>\n      <td>0</td>\n      <td>-1</td>\n      <td>Small molecule</td>\n      <td>NaN</td>\n      <td>...</td>\n      <td>NaN</td>\n      <td>NaN</td>\n      <td>NaN</td>\n      <td>NaN</td>\n      <td>NaN</td>\n      <td>NaN</td>\n      <td>NaN</td>\n      <td>NaN</td>\n      <td>NaN</td>\n      <td>NaN</td>\n    </tr>\n    <tr>\n      <th>317277</th>\n      <td>ZZZOPDYSYWKLLT</td>\n      <td>CHEMBL1779477</td>\n      <td>CHEMBL1779477</td>\n      <td>1147950</td>\n      <td>NaN</td>\n      <td>0</td>\n      <td>0</td>\n      <td>-1</td>\n      <td>Small molecule</td>\n      <td>NaN</td>\n      <td>...</td>\n      <td>NaN</td>\n      <td>NaN</td>\n      <td>NaN</td>\n      <td>NaN</td>\n      <td>NaN</td>\n      <td>NaN</td>\n      <td>NaN</td>\n      <td>NaN</td>\n      <td>NaN</td>\n      <td>NaN</td>\n    </tr>\n    <tr>\n      <th>317278</th>\n      <td>ZZZQZZTYLVXHSC</td>\n      <td>CHEMBL1165483</td>\n      <td>CHEMBL1165483</td>\n      <td>644719</td>\n      <td>NaN</td>\n      <td>0</td>\n      <td>0</td>\n      <td>-1</td>\n      <td>Small molecule</td>\n      <td>NaN</td>\n      <td>...</td>\n      <td>NaN</td>\n      <td>NaN</td>\n      <td>NaN</td>\n      <td>NaN</td>\n      <td>NaN</td>\n      <td>NaN</td>\n      <td>NaN</td>\n      <td>NaN</td>\n      <td>NaN</td>\n      <td>NaN</td>\n    </tr>\n    <tr>\n      <th>317279</th>\n      <td>ZZZZEECYUGCIIB</td>\n      <td>CHEMBL4098540</td>\n      <td>CHEMBL4098540</td>\n      <td>2238451</td>\n      <td>NaN</td>\n      <td>0</td>\n      <td>0</td>\n      <td>-1</td>\n      <td>Small molecule</td>\n      <td>NaN</td>\n      <td>...</td>\n      <td>NaN</td>\n      <td>NaN</td>\n      <td>NaN</td>\n      <td>NaN</td>\n      <td>NaN</td>\n      <td>NaN</td>\n      <td>NaN</td>\n      <td>NaN</td>\n      <td>NaN</td>\n      <td>NaN</td>\n    </tr>\n    <tr>\n      <th>317280</th>\n      <td>ZZZZEJJXQQRZBH</td>\n      <td>CHEMBL4751316</td>\n      <td>CHEMBL4751316</td>\n      <td>2498653</td>\n      <td>NaN</td>\n      <td>0</td>\n      <td>0</td>\n      <td>-1</td>\n      <td>NaN</td>\n      <td>NaN</td>\n      <td>...</td>\n      <td>NaN</td>\n      <td>NaN</td>\n      <td>NaN</td>\n      <td>NaN</td>\n      <td>NaN</td>\n      <td>NaN</td>\n      <td>NaN</td>\n      <td>NaN</td>\n      <td>NaN</td>\n      <td>NaN</td>\n    </tr>\n  </tbody>\n</table>\n<p>317281 rows × 38 columns</p>\n</div>"
     },
     "execution_count": 205,
     "metadata": {},
     "output_type": "execute_result"
    }
   ],
   "source": [
    "# Read compound information retrieved from ChEMBL\n",
    "mapped_compounds = map_chembl_compounds('31', '05.5', 'nostereo', 1_000_000, annotation_round=annotation_round)\n",
    "mapped_compounds"
   ],
   "metadata": {
    "collapsed": false,
    "ExecuteTime": {
     "end_time": "2023-12-06T16:30:38.791099500Z",
     "start_time": "2023-12-06T16:30:12.772413400Z"
    }
   }
  },
  {
   "cell_type": "code",
   "execution_count": 206,
   "outputs": [
    {
     "name": "stdout",
     "output_type": "stream",
     "text": [
      "Number of clusters: 6\n",
      "Number of compounds in clusters: 22\n",
      "Number of compounds per cluster:\n",
      "Cluster 1: 13 compounds\n",
      "Cluster 2: 3 compounds\n",
      "Cluster 3: 3 compounds\n",
      "Cluster 4: 1 compounds\n",
      "Cluster 5: 1 compounds\n",
      "Cluster 6: 1 compounds\n"
     ]
    },
    {
     "data": {
      "text/plain": "{'AAKJLRGGTJKAMG': 1,\n 'BCFGMOOMADDAQU': 1,\n 'BIIVYFLTOXDAOV': 6,\n 'BMGQWWVMWDBQGC': 3,\n 'CDMGBJANTYXAIV': 2,\n 'CXQHYVUVSFXTMY': 1,\n 'HKSZLNNOFSGOKW': 3,\n 'JWNPDZNEKVCWMY': 1,\n 'MFAQYJIYDMLAIM': 2,\n 'ODPGGGTTYSGTGO': 4,\n 'OMZCMEYTWSXEPZ': 1,\n 'QQWUGDVOUVUTOY': 1,\n 'UBPYILGKFZZVDX': 1,\n 'UHTHHESEBZOYNR': 1,\n 'UIARLYUEJFELEN': 3,\n 'UJIAQDJKSXQLIT': 2,\n 'ULXXDDBFHOBEHA': 1,\n 'WINHZLLDWRZWRT': 5,\n 'XGALLCVXEZPNRQ': 1,\n 'XQVVPGYIWAGRNI': 1,\n 'XXJWYDDUDKYVKI': 1,\n 'ZBNZXTGUTAYRHI': 1}"
     },
     "execution_count": 206,
     "metadata": {},
     "output_type": "execute_result"
    }
   ],
   "source": [
    "# Read compounds in clustermap and the clusters they are in\n",
    "cluster_compounds = get_clustering_stats(accession = analysis_accession, \n",
    "                                         output_dir = bioactivity_analysis_dir, \n",
    "                                         subset_alias = 'strictly_common_subset', \n",
    "                                         cutoff = butina_cutoff[analysis_accession])\n",
    "cluster_compounds"
   ],
   "metadata": {
    "collapsed": false,
    "ExecuteTime": {
     "end_time": "2023-12-06T16:30:38.791099500Z",
     "start_time": "2023-12-06T16:30:15.900899900Z"
    }
   }
  },
  {
   "cell_type": "code",
   "execution_count": 207,
   "outputs": [
    {
     "data": {
      "text/plain": "      connectivity                                                CID  \\\n0   AAKJLRGGTJKAMG                                          CHEMBL553   \n1   BCFGMOOMADDAQU                                          CHEMBL554   \n2   BIIVYFLTOXDAOV  CHEMBL422897;CHEMBL418203;CHEMBL428690;CHEMBL1...   \n3   BMGQWWVMWDBQGC                          CHEMBL338448;CHEMBL608533   \n4   CDMGBJANTYXAIV                                           CHEMBL10   \n5   CXQHYVUVSFXTMY                                      CHEMBL1230609   \n6   HKSZLNNOFSGOKW  CHEMBL1537489;CHEMBL388978;CHEMBL162;CHEMBL198...   \n7   JWNPDZNEKVCWMY                                       CHEMBL180022   \n8   MFAQYJIYDMLAIM                                      CHEMBL1241674   \n9   ODPGGGTTYSGTGO                                       CHEMBL574738   \n10  OMZCMEYTWSXEPZ                                        CHEMBL31965   \n11  QQWUGDVOUVUTOY                                       CHEMBL509032   \n12  UBPYILGKFZZVDX                                       CHEMBL288441   \n13  UHTHHESEBZOYNR                                        CHEMBL24828   \n14  UIARLYUEJFELEN                                       CHEMBL603469   \n15  UJIAQDJKSXQLIT                                       CHEMBL230011   \n16  ULXXDDBFHOBEHA                                      CHEMBL1173655   \n17  WINHZLLDWRZWRT                            CHEMBL1990885;CHEMBL535   \n18  XGALLCVXEZPNRQ                                          CHEMBL939   \n19  XQVVPGYIWAGRNI           CHEMBL3609305;CHEMBL1968380;CHEMBL513909   \n20  XXJWYDDUDKYVKI                                       CHEMBL491473   \n21  ZBNZXTGUTAYRHI                                         CHEMBL1421   \n\n                                            chembl_id  \\\n0                                           CHEMBL553   \n1                                           CHEMBL554   \n2   CHEMBL422897;CHEMBL418203;CHEMBL428690;CHEMBL1...   \n3                           CHEMBL338448;CHEMBL608533   \n4                                            CHEMBL10   \n5                                       CHEMBL1230609   \n6   CHEMBL1537489;CHEMBL388978;CHEMBL162;CHEMBL198...   \n7                                        CHEMBL180022   \n8                                       CHEMBL1241674   \n9                                        CHEMBL574738   \n10                                        CHEMBL31965   \n11                                       CHEMBL509032   \n12                                       CHEMBL288441   \n13                                        CHEMBL24828   \n14                                       CHEMBL603469   \n15                                       CHEMBL230011   \n16                                      CHEMBL1173655   \n17                            CHEMBL1990885;CHEMBL535   \n18                                          CHEMBL939   \n19           CHEMBL3609305;CHEMBL1968380;CHEMBL513909   \n20                                       CHEMBL491473   \n21                                         CHEMBL1421   \n\n                       molregno          pref_name max_phase therapeutic_flag  \\\n0                         14785          ERLOTINIB         4                1   \n1                         14805          LAPATINIB         4                1   \n2    285177;35542;14366;1089820      nan;ALVOCIDIB       0;3              0;1   \n3                 215528;608601    nan;MIDOSTAURIN       0;4              0;1   \n4                           250          SB-203580         0                0   \n5                        692959          FORETINIB         2                1   \n6   961373;373381;86358;1302286  nan;STAUROSPORINE         0                0   \n7                        299120          NERATINIB         4                1   \n8                        700895                NaN         0                0   \n9                        568339            AST-487         1                1   \n10                        41764         CANERTINIB         3                1   \n11                       447450            TAE-684         0                0   \n12                        62111          BOSUTINIB         4                1   \n13                        33576         VANDETANIB         4                1   \n14                       597145       LESTAURTINIB         3                1   \n15                       387990          TG100-115         2                1   \n16                       650126           AFATINIB         4                1   \n17                1312176;13048      nan;SUNITINIB       0;4              0;1   \n18                        88232          GEFITINIB         4                1   \n19       1960167;1289671;490644        nan;BI-2536       0;2              0;1   \n20                       456867          CEDIRANIB         3                1   \n21                       361469          DASATINIB         4                1   \n\n   natural_product   molecule_type first_approval  ...  \\\n0                0  Small molecule         2004.0  ...   \n1                0  Small molecule         2007.0  ...   \n2             -1;0  Small molecule            NaN  ...   \n3             -1;0  Small molecule     nan;2017.0  ...   \n4               -1  Small molecule            NaN  ...   \n5                0  Small molecule            NaN  ...   \n6               -1  Small molecule            NaN  ...   \n7                0  Small molecule         2017.0  ...   \n8               -1  Small molecule            NaN  ...   \n9                0  Small molecule            NaN  ...   \n10               0  Small molecule            NaN  ...   \n11              -1  Small molecule            NaN  ...   \n12               0  Small molecule         2010.0  ...   \n13               0  Small molecule         2011.0  ...   \n14               0  Small molecule            NaN  ...   \n15               1  Small molecule            NaN  ...   \n16               0  Small molecule         2013.0  ...   \n17            -1;0  Small molecule     nan;2006.0  ...   \n18               0  Small molecule         2003.0  ...   \n19            -1;0  Small molecule            NaN  ...   \n20               0  Small molecule            NaN  ...   \n21               0  Small molecule         2006.0  ...   \n\n               pref_name_child  max_phase_child  \\\n0      ERLOTINIB HYDROCHLORIDE                4   \n1     nan;LAPATINIB DITOSYLATE              0;4   \n2                          NaN              NaN   \n3                          NaN              NaN   \n4                          NaN              NaN   \n5                          NaN              NaN   \n6                          NaN              NaN   \n7                          NaN              NaN   \n8                          NaN              NaN   \n9                          NaN              NaN   \n10  CANERTINIB DIHYDROCHLORIDE                3   \n11                         NaN              NaN   \n12                         NaN              NaN   \n13                         NaN              NaN   \n14                         NaN              NaN   \n15                         NaN              NaN   \n16          AFATINIB DIMALEATE                4   \n17    nan;SUNITINIB MALATE;nan          nan;4;0   \n18                         NaN              NaN   \n19                         NaN              NaN   \n20                         NaN              NaN   \n21                         NaN              NaN   \n\n                                      accession_child mutation_child  \\\n0                                              P00533            NaN   \n1                                   nan;P00533;P04626            NaN   \n2                                                 NaN            NaN   \n3                                                 NaN            NaN   \n4                                                 NaN            NaN   \n5                                                 NaN            NaN   \n6                                                 NaN            NaN   \n7                                                 NaN            NaN   \n8                                                 NaN            NaN   \n9                                                 NaN            NaN   \n10                               P00533;P04626;Q15303            NaN   \n11                                                NaN            NaN   \n12                                                NaN            NaN   \n13                                                NaN            NaN   \n14                                                NaN            NaN   \n15                                                NaN            NaN   \n16                               P00533;P04626;Q15303            NaN   \n17  nan;P07333;P07949;P09619;P10721;P16234;P17948;...            NaN   \n18                                                NaN            NaN   \n19                                                NaN            NaN   \n20                                                NaN            NaN   \n21                                                NaN            NaN   \n\n                            mechanism_of_action_child  action_type_child  \\\n0    Epidermal growth factor receptor erbB1 inhibitor          INHIBITOR   \n1   nan;Epidermal growth factor receptor erbB1 inh...      nan;INHIBITOR   \n2                                                 NaN                NaN   \n3                                                 NaN                NaN   \n4                                                 NaN                NaN   \n5                                                 NaN                NaN   \n6                                                 NaN                NaN   \n7                                                 NaN                NaN   \n8                                                 NaN                NaN   \n9                                                 NaN                NaN   \n10  Epidermal growth factor receptor erbB1 inhibit...          INHIBITOR   \n11                                                NaN                NaN   \n12                                                NaN                NaN   \n13                                                NaN                NaN   \n14                                                NaN                NaN   \n15                                                NaN                NaN   \n16  Epidermal growth factor receptor erbB1 inhibit...          INHIBITOR   \n17  nan;Macrophage colony stimulating factor recep...  nan;INHIBITOR;nan   \n18                                                NaN                NaN   \n19                                                NaN                NaN   \n20                                                NaN                NaN   \n21                                                NaN                NaN   \n\n                              mechanism_comment_child  \\\n0                                                 NaN   \n1                                                 NaN   \n2                                                 NaN   \n3                                                 NaN   \n4                                                 NaN   \n5                                                 NaN   \n6                                                 NaN   \n7                                                 NaN   \n8                                                 NaN   \n9                                                 NaN   \n10  Canertinib is an irreversible pan-ErbB tyrosin...   \n11                                                NaN   \n12                                                NaN   \n13                                                NaN   \n14                                                NaN   \n15                                                NaN   \n16  Afatinib covalently binds to the kinase domain...   \n17                                                NaN   \n18                                                NaN   \n19                                                NaN   \n20                                                NaN   \n21                                                NaN   \n\n   selectivity_comment_child  \\\n0                        NaN   \n1                        NaN   \n2                        NaN   \n3                        NaN   \n4                        NaN   \n5                        NaN   \n6                        NaN   \n7                        NaN   \n8                        NaN   \n9                        NaN   \n10                       NaN   \n11                       NaN   \n12                       NaN   \n13                       NaN   \n14                       NaN   \n15                       NaN   \n16                       NaN   \n17                       NaN   \n18                       NaN   \n19                       NaN   \n20                       NaN   \n21                       NaN   \n\n                                    indications_child cluster  \n0   Astrocytoma (1.0);Glioma (1.0);Meningioma (1.0...       1  \n1   None (nan);Central Nervous System Neoplasms (1...       1  \n2                                                 NaN       6  \n3                                                 NaN       3  \n4                                                 NaN       2  \n5                                                 NaN       1  \n6                                                 NaN       3  \n7                                                 NaN       1  \n8                                                 NaN       2  \n9                                                 NaN       4  \n10  Carcinoma, Non-Small-Cell Lung (1.0);Breast Ne...       1  \n11                                                NaN       1  \n12                                                NaN       1  \n13                                                NaN       1  \n14                                                NaN       3  \n15                                                NaN       2  \n16  Multiple Myeloma (2.0);Carcinoma, Non-Small-Ce...       1  \n17  nan;Colorectal Neoplasms (1.0);Leukemia, Myelo...       5  \n18                                                NaN       1  \n19                                                NaN       1  \n20                                                NaN       1  \n21                                                NaN       1  \n\n[22 rows x 39 columns]",
      "text/html": "<div>\n<style scoped>\n    .dataframe tbody tr th:only-of-type {\n        vertical-align: middle;\n    }\n\n    .dataframe tbody tr th {\n        vertical-align: top;\n    }\n\n    .dataframe thead th {\n        text-align: right;\n    }\n</style>\n<table border=\"1\" class=\"dataframe\">\n  <thead>\n    <tr style=\"text-align: right;\">\n      <th></th>\n      <th>connectivity</th>\n      <th>CID</th>\n      <th>chembl_id</th>\n      <th>molregno</th>\n      <th>pref_name</th>\n      <th>max_phase</th>\n      <th>therapeutic_flag</th>\n      <th>natural_product</th>\n      <th>molecule_type</th>\n      <th>first_approval</th>\n      <th>...</th>\n      <th>pref_name_child</th>\n      <th>max_phase_child</th>\n      <th>accession_child</th>\n      <th>mutation_child</th>\n      <th>mechanism_of_action_child</th>\n      <th>action_type_child</th>\n      <th>mechanism_comment_child</th>\n      <th>selectivity_comment_child</th>\n      <th>indications_child</th>\n      <th>cluster</th>\n    </tr>\n  </thead>\n  <tbody>\n    <tr>\n      <th>0</th>\n      <td>AAKJLRGGTJKAMG</td>\n      <td>CHEMBL553</td>\n      <td>CHEMBL553</td>\n      <td>14785</td>\n      <td>ERLOTINIB</td>\n      <td>4</td>\n      <td>1</td>\n      <td>0</td>\n      <td>Small molecule</td>\n      <td>2004.0</td>\n      <td>...</td>\n      <td>ERLOTINIB HYDROCHLORIDE</td>\n      <td>4</td>\n      <td>P00533</td>\n      <td>NaN</td>\n      <td>Epidermal growth factor receptor erbB1 inhibitor</td>\n      <td>INHIBITOR</td>\n      <td>NaN</td>\n      <td>NaN</td>\n      <td>Astrocytoma (1.0);Glioma (1.0);Meningioma (1.0...</td>\n      <td>1</td>\n    </tr>\n    <tr>\n      <th>1</th>\n      <td>BCFGMOOMADDAQU</td>\n      <td>CHEMBL554</td>\n      <td>CHEMBL554</td>\n      <td>14805</td>\n      <td>LAPATINIB</td>\n      <td>4</td>\n      <td>1</td>\n      <td>0</td>\n      <td>Small molecule</td>\n      <td>2007.0</td>\n      <td>...</td>\n      <td>nan;LAPATINIB DITOSYLATE</td>\n      <td>0;4</td>\n      <td>nan;P00533;P04626</td>\n      <td>NaN</td>\n      <td>nan;Epidermal growth factor receptor erbB1 inh...</td>\n      <td>nan;INHIBITOR</td>\n      <td>NaN</td>\n      <td>NaN</td>\n      <td>None (nan);Central Nervous System Neoplasms (1...</td>\n      <td>1</td>\n    </tr>\n    <tr>\n      <th>2</th>\n      <td>BIIVYFLTOXDAOV</td>\n      <td>CHEMBL422897;CHEMBL418203;CHEMBL428690;CHEMBL1...</td>\n      <td>CHEMBL422897;CHEMBL418203;CHEMBL428690;CHEMBL1...</td>\n      <td>285177;35542;14366;1089820</td>\n      <td>nan;ALVOCIDIB</td>\n      <td>0;3</td>\n      <td>0;1</td>\n      <td>-1;0</td>\n      <td>Small molecule</td>\n      <td>NaN</td>\n      <td>...</td>\n      <td>NaN</td>\n      <td>NaN</td>\n      <td>NaN</td>\n      <td>NaN</td>\n      <td>NaN</td>\n      <td>NaN</td>\n      <td>NaN</td>\n      <td>NaN</td>\n      <td>NaN</td>\n      <td>6</td>\n    </tr>\n    <tr>\n      <th>3</th>\n      <td>BMGQWWVMWDBQGC</td>\n      <td>CHEMBL338448;CHEMBL608533</td>\n      <td>CHEMBL338448;CHEMBL608533</td>\n      <td>215528;608601</td>\n      <td>nan;MIDOSTAURIN</td>\n      <td>0;4</td>\n      <td>0;1</td>\n      <td>-1;0</td>\n      <td>Small molecule</td>\n      <td>nan;2017.0</td>\n      <td>...</td>\n      <td>NaN</td>\n      <td>NaN</td>\n      <td>NaN</td>\n      <td>NaN</td>\n      <td>NaN</td>\n      <td>NaN</td>\n      <td>NaN</td>\n      <td>NaN</td>\n      <td>NaN</td>\n      <td>3</td>\n    </tr>\n    <tr>\n      <th>4</th>\n      <td>CDMGBJANTYXAIV</td>\n      <td>CHEMBL10</td>\n      <td>CHEMBL10</td>\n      <td>250</td>\n      <td>SB-203580</td>\n      <td>0</td>\n      <td>0</td>\n      <td>-1</td>\n      <td>Small molecule</td>\n      <td>NaN</td>\n      <td>...</td>\n      <td>NaN</td>\n      <td>NaN</td>\n      <td>NaN</td>\n      <td>NaN</td>\n      <td>NaN</td>\n      <td>NaN</td>\n      <td>NaN</td>\n      <td>NaN</td>\n      <td>NaN</td>\n      <td>2</td>\n    </tr>\n    <tr>\n      <th>5</th>\n      <td>CXQHYVUVSFXTMY</td>\n      <td>CHEMBL1230609</td>\n      <td>CHEMBL1230609</td>\n      <td>692959</td>\n      <td>FORETINIB</td>\n      <td>2</td>\n      <td>1</td>\n      <td>0</td>\n      <td>Small molecule</td>\n      <td>NaN</td>\n      <td>...</td>\n      <td>NaN</td>\n      <td>NaN</td>\n      <td>NaN</td>\n      <td>NaN</td>\n      <td>NaN</td>\n      <td>NaN</td>\n      <td>NaN</td>\n      <td>NaN</td>\n      <td>NaN</td>\n      <td>1</td>\n    </tr>\n    <tr>\n      <th>6</th>\n      <td>HKSZLNNOFSGOKW</td>\n      <td>CHEMBL1537489;CHEMBL388978;CHEMBL162;CHEMBL198...</td>\n      <td>CHEMBL1537489;CHEMBL388978;CHEMBL162;CHEMBL198...</td>\n      <td>961373;373381;86358;1302286</td>\n      <td>nan;STAUROSPORINE</td>\n      <td>0</td>\n      <td>0</td>\n      <td>-1</td>\n      <td>Small molecule</td>\n      <td>NaN</td>\n      <td>...</td>\n      <td>NaN</td>\n      <td>NaN</td>\n      <td>NaN</td>\n      <td>NaN</td>\n      <td>NaN</td>\n      <td>NaN</td>\n      <td>NaN</td>\n      <td>NaN</td>\n      <td>NaN</td>\n      <td>3</td>\n    </tr>\n    <tr>\n      <th>7</th>\n      <td>JWNPDZNEKVCWMY</td>\n      <td>CHEMBL180022</td>\n      <td>CHEMBL180022</td>\n      <td>299120</td>\n      <td>NERATINIB</td>\n      <td>4</td>\n      <td>1</td>\n      <td>0</td>\n      <td>Small molecule</td>\n      <td>2017.0</td>\n      <td>...</td>\n      <td>NaN</td>\n      <td>NaN</td>\n      <td>NaN</td>\n      <td>NaN</td>\n      <td>NaN</td>\n      <td>NaN</td>\n      <td>NaN</td>\n      <td>NaN</td>\n      <td>NaN</td>\n      <td>1</td>\n    </tr>\n    <tr>\n      <th>8</th>\n      <td>MFAQYJIYDMLAIM</td>\n      <td>CHEMBL1241674</td>\n      <td>CHEMBL1241674</td>\n      <td>700895</td>\n      <td>NaN</td>\n      <td>0</td>\n      <td>0</td>\n      <td>-1</td>\n      <td>Small molecule</td>\n      <td>NaN</td>\n      <td>...</td>\n      <td>NaN</td>\n      <td>NaN</td>\n      <td>NaN</td>\n      <td>NaN</td>\n      <td>NaN</td>\n      <td>NaN</td>\n      <td>NaN</td>\n      <td>NaN</td>\n      <td>NaN</td>\n      <td>2</td>\n    </tr>\n    <tr>\n      <th>9</th>\n      <td>ODPGGGTTYSGTGO</td>\n      <td>CHEMBL574738</td>\n      <td>CHEMBL574738</td>\n      <td>568339</td>\n      <td>AST-487</td>\n      <td>1</td>\n      <td>1</td>\n      <td>0</td>\n      <td>Small molecule</td>\n      <td>NaN</td>\n      <td>...</td>\n      <td>NaN</td>\n      <td>NaN</td>\n      <td>NaN</td>\n      <td>NaN</td>\n      <td>NaN</td>\n      <td>NaN</td>\n      <td>NaN</td>\n      <td>NaN</td>\n      <td>NaN</td>\n      <td>4</td>\n    </tr>\n    <tr>\n      <th>10</th>\n      <td>OMZCMEYTWSXEPZ</td>\n      <td>CHEMBL31965</td>\n      <td>CHEMBL31965</td>\n      <td>41764</td>\n      <td>CANERTINIB</td>\n      <td>3</td>\n      <td>1</td>\n      <td>0</td>\n      <td>Small molecule</td>\n      <td>NaN</td>\n      <td>...</td>\n      <td>CANERTINIB DIHYDROCHLORIDE</td>\n      <td>3</td>\n      <td>P00533;P04626;Q15303</td>\n      <td>NaN</td>\n      <td>Epidermal growth factor receptor erbB1 inhibit...</td>\n      <td>INHIBITOR</td>\n      <td>Canertinib is an irreversible pan-ErbB tyrosin...</td>\n      <td>NaN</td>\n      <td>Carcinoma, Non-Small-Cell Lung (1.0);Breast Ne...</td>\n      <td>1</td>\n    </tr>\n    <tr>\n      <th>11</th>\n      <td>QQWUGDVOUVUTOY</td>\n      <td>CHEMBL509032</td>\n      <td>CHEMBL509032</td>\n      <td>447450</td>\n      <td>TAE-684</td>\n      <td>0</td>\n      <td>0</td>\n      <td>-1</td>\n      <td>Small molecule</td>\n      <td>NaN</td>\n      <td>...</td>\n      <td>NaN</td>\n      <td>NaN</td>\n      <td>NaN</td>\n      <td>NaN</td>\n      <td>NaN</td>\n      <td>NaN</td>\n      <td>NaN</td>\n      <td>NaN</td>\n      <td>NaN</td>\n      <td>1</td>\n    </tr>\n    <tr>\n      <th>12</th>\n      <td>UBPYILGKFZZVDX</td>\n      <td>CHEMBL288441</td>\n      <td>CHEMBL288441</td>\n      <td>62111</td>\n      <td>BOSUTINIB</td>\n      <td>4</td>\n      <td>1</td>\n      <td>0</td>\n      <td>Small molecule</td>\n      <td>2010.0</td>\n      <td>...</td>\n      <td>NaN</td>\n      <td>NaN</td>\n      <td>NaN</td>\n      <td>NaN</td>\n      <td>NaN</td>\n      <td>NaN</td>\n      <td>NaN</td>\n      <td>NaN</td>\n      <td>NaN</td>\n      <td>1</td>\n    </tr>\n    <tr>\n      <th>13</th>\n      <td>UHTHHESEBZOYNR</td>\n      <td>CHEMBL24828</td>\n      <td>CHEMBL24828</td>\n      <td>33576</td>\n      <td>VANDETANIB</td>\n      <td>4</td>\n      <td>1</td>\n      <td>0</td>\n      <td>Small molecule</td>\n      <td>2011.0</td>\n      <td>...</td>\n      <td>NaN</td>\n      <td>NaN</td>\n      <td>NaN</td>\n      <td>NaN</td>\n      <td>NaN</td>\n      <td>NaN</td>\n      <td>NaN</td>\n      <td>NaN</td>\n      <td>NaN</td>\n      <td>1</td>\n    </tr>\n    <tr>\n      <th>14</th>\n      <td>UIARLYUEJFELEN</td>\n      <td>CHEMBL603469</td>\n      <td>CHEMBL603469</td>\n      <td>597145</td>\n      <td>LESTAURTINIB</td>\n      <td>3</td>\n      <td>1</td>\n      <td>0</td>\n      <td>Small molecule</td>\n      <td>NaN</td>\n      <td>...</td>\n      <td>NaN</td>\n      <td>NaN</td>\n      <td>NaN</td>\n      <td>NaN</td>\n      <td>NaN</td>\n      <td>NaN</td>\n      <td>NaN</td>\n      <td>NaN</td>\n      <td>NaN</td>\n      <td>3</td>\n    </tr>\n    <tr>\n      <th>15</th>\n      <td>UJIAQDJKSXQLIT</td>\n      <td>CHEMBL230011</td>\n      <td>CHEMBL230011</td>\n      <td>387990</td>\n      <td>TG100-115</td>\n      <td>2</td>\n      <td>1</td>\n      <td>1</td>\n      <td>Small molecule</td>\n      <td>NaN</td>\n      <td>...</td>\n      <td>NaN</td>\n      <td>NaN</td>\n      <td>NaN</td>\n      <td>NaN</td>\n      <td>NaN</td>\n      <td>NaN</td>\n      <td>NaN</td>\n      <td>NaN</td>\n      <td>NaN</td>\n      <td>2</td>\n    </tr>\n    <tr>\n      <th>16</th>\n      <td>ULXXDDBFHOBEHA</td>\n      <td>CHEMBL1173655</td>\n      <td>CHEMBL1173655</td>\n      <td>650126</td>\n      <td>AFATINIB</td>\n      <td>4</td>\n      <td>1</td>\n      <td>0</td>\n      <td>Small molecule</td>\n      <td>2013.0</td>\n      <td>...</td>\n      <td>AFATINIB DIMALEATE</td>\n      <td>4</td>\n      <td>P00533;P04626;Q15303</td>\n      <td>NaN</td>\n      <td>Epidermal growth factor receptor erbB1 inhibit...</td>\n      <td>INHIBITOR</td>\n      <td>Afatinib covalently binds to the kinase domain...</td>\n      <td>NaN</td>\n      <td>Multiple Myeloma (2.0);Carcinoma, Non-Small-Ce...</td>\n      <td>1</td>\n    </tr>\n    <tr>\n      <th>17</th>\n      <td>WINHZLLDWRZWRT</td>\n      <td>CHEMBL1990885;CHEMBL535</td>\n      <td>CHEMBL1990885;CHEMBL535</td>\n      <td>1312176;13048</td>\n      <td>nan;SUNITINIB</td>\n      <td>0;4</td>\n      <td>0;1</td>\n      <td>-1;0</td>\n      <td>Small molecule</td>\n      <td>nan;2006.0</td>\n      <td>...</td>\n      <td>nan;SUNITINIB MALATE;nan</td>\n      <td>nan;4;0</td>\n      <td>nan;P07333;P07949;P09619;P10721;P16234;P17948;...</td>\n      <td>NaN</td>\n      <td>nan;Macrophage colony stimulating factor recep...</td>\n      <td>nan;INHIBITOR;nan</td>\n      <td>NaN</td>\n      <td>NaN</td>\n      <td>nan;Colorectal Neoplasms (1.0);Leukemia, Myelo...</td>\n      <td>5</td>\n    </tr>\n    <tr>\n      <th>18</th>\n      <td>XGALLCVXEZPNRQ</td>\n      <td>CHEMBL939</td>\n      <td>CHEMBL939</td>\n      <td>88232</td>\n      <td>GEFITINIB</td>\n      <td>4</td>\n      <td>1</td>\n      <td>0</td>\n      <td>Small molecule</td>\n      <td>2003.0</td>\n      <td>...</td>\n      <td>NaN</td>\n      <td>NaN</td>\n      <td>NaN</td>\n      <td>NaN</td>\n      <td>NaN</td>\n      <td>NaN</td>\n      <td>NaN</td>\n      <td>NaN</td>\n      <td>NaN</td>\n      <td>1</td>\n    </tr>\n    <tr>\n      <th>19</th>\n      <td>XQVVPGYIWAGRNI</td>\n      <td>CHEMBL3609305;CHEMBL1968380;CHEMBL513909</td>\n      <td>CHEMBL3609305;CHEMBL1968380;CHEMBL513909</td>\n      <td>1960167;1289671;490644</td>\n      <td>nan;BI-2536</td>\n      <td>0;2</td>\n      <td>0;1</td>\n      <td>-1;0</td>\n      <td>Small molecule</td>\n      <td>NaN</td>\n      <td>...</td>\n      <td>NaN</td>\n      <td>NaN</td>\n      <td>NaN</td>\n      <td>NaN</td>\n      <td>NaN</td>\n      <td>NaN</td>\n      <td>NaN</td>\n      <td>NaN</td>\n      <td>NaN</td>\n      <td>1</td>\n    </tr>\n    <tr>\n      <th>20</th>\n      <td>XXJWYDDUDKYVKI</td>\n      <td>CHEMBL491473</td>\n      <td>CHEMBL491473</td>\n      <td>456867</td>\n      <td>CEDIRANIB</td>\n      <td>3</td>\n      <td>1</td>\n      <td>0</td>\n      <td>Small molecule</td>\n      <td>NaN</td>\n      <td>...</td>\n      <td>NaN</td>\n      <td>NaN</td>\n      <td>NaN</td>\n      <td>NaN</td>\n      <td>NaN</td>\n      <td>NaN</td>\n      <td>NaN</td>\n      <td>NaN</td>\n      <td>NaN</td>\n      <td>1</td>\n    </tr>\n    <tr>\n      <th>21</th>\n      <td>ZBNZXTGUTAYRHI</td>\n      <td>CHEMBL1421</td>\n      <td>CHEMBL1421</td>\n      <td>361469</td>\n      <td>DASATINIB</td>\n      <td>4</td>\n      <td>1</td>\n      <td>0</td>\n      <td>Small molecule</td>\n      <td>2006.0</td>\n      <td>...</td>\n      <td>NaN</td>\n      <td>NaN</td>\n      <td>NaN</td>\n      <td>NaN</td>\n      <td>NaN</td>\n      <td>NaN</td>\n      <td>NaN</td>\n      <td>NaN</td>\n      <td>NaN</td>\n      <td>1</td>\n    </tr>\n  </tbody>\n</table>\n<p>22 rows × 39 columns</p>\n</div>"
     },
     "execution_count": 207,
     "metadata": {},
     "output_type": "execute_result"
    }
   ],
   "source": [
    "# Annotate compounds in clustermap with ChEMBL information\n",
    "cluster_df_unique = annotate_cluster_compounds(cluster_compounds, mapped_compounds)\n",
    "cluster_df_unique"
   ],
   "metadata": {
    "collapsed": false,
    "ExecuteTime": {
     "end_time": "2023-12-06T16:30:38.791099500Z",
     "start_time": "2023-12-06T16:30:16.680959Z"
    }
   }
  },
  {
   "cell_type": "code",
   "execution_count": 208,
   "outputs": [
    {
     "name": "stdout",
     "output_type": "stream",
     "text": [
      "Number of clusters with at least one (parent or child) compound satisfying the condition: 1 (0.17%)\n"
     ]
    },
    {
     "data": {
      "text/plain": "         P00533_MOA  P00533_MOA_child  P00533_MOA_total\ncluster                                                \n1                 3                 4                 7\n2                 0                 0                 0\n3                 0                 0                 0\n4                 0                 0                 0\n5                 0                 0                 0\n6                 0                 0                 0",
      "text/html": "<div>\n<style scoped>\n    .dataframe tbody tr th:only-of-type {\n        vertical-align: middle;\n    }\n\n    .dataframe tbody tr th {\n        vertical-align: top;\n    }\n\n    .dataframe thead th {\n        text-align: right;\n    }\n</style>\n<table border=\"1\" class=\"dataframe\">\n  <thead>\n    <tr style=\"text-align: right;\">\n      <th></th>\n      <th>P00533_MOA</th>\n      <th>P00533_MOA_child</th>\n      <th>P00533_MOA_total</th>\n    </tr>\n    <tr>\n      <th>cluster</th>\n      <th></th>\n      <th></th>\n      <th></th>\n    </tr>\n  </thead>\n  <tbody>\n    <tr>\n      <th>1</th>\n      <td>3</td>\n      <td>4</td>\n      <td>7</td>\n    </tr>\n    <tr>\n      <th>2</th>\n      <td>0</td>\n      <td>0</td>\n      <td>0</td>\n    </tr>\n    <tr>\n      <th>3</th>\n      <td>0</td>\n      <td>0</td>\n      <td>0</td>\n    </tr>\n    <tr>\n      <th>4</th>\n      <td>0</td>\n      <td>0</td>\n      <td>0</td>\n    </tr>\n    <tr>\n      <th>5</th>\n      <td>0</td>\n      <td>0</td>\n      <td>0</td>\n    </tr>\n    <tr>\n      <th>6</th>\n      <td>0</td>\n      <td>0</td>\n      <td>0</td>\n    </tr>\n  </tbody>\n</table>\n</div>"
     },
     "execution_count": 208,
     "metadata": {},
     "output_type": "execute_result"
    }
   ],
   "source": [
    "# Check how many compounds per cluster are linked to the analysis accession in their MOA\n",
    "explore_cluster_compound_info(cluster_df_unique, analysis_accession, analysis_type='MOA', output_type='stats', \n",
    "                              sort='both')"
   ],
   "metadata": {
    "collapsed": false,
    "ExecuteTime": {
     "end_time": "2023-12-06T16:30:38.791099500Z",
     "start_time": "2023-12-06T16:30:17.662497500Z"
    }
   }
  },
  {
   "cell_type": "code",
   "execution_count": 209,
   "outputs": [
    {
     "data": {
      "text/plain": "      connectivity   pref_name  \\\n0   AAKJLRGGTJKAMG   ERLOTINIB   \n1   BCFGMOOMADDAQU   LAPATINIB   \n7   JWNPDZNEKVCWMY   NERATINIB   \n10  OMZCMEYTWSXEPZ  CANERTINIB   \n13  UHTHHESEBZOYNR  VANDETANIB   \n16  ULXXDDBFHOBEHA    AFATINIB   \n18  XGALLCVXEZPNRQ   GEFITINIB   \n\n                                            accession       accession_child  \\\n0                                                 NaN                P00533   \n1                                                 NaN     nan;P00533;P04626   \n7                                P00533;P04626;Q15303                   NaN   \n10                                                NaN  P00533;P04626;Q15303   \n13  P29317;P29323;P54756;P54764;P29322;Q9UF33;Q153...                   NaN   \n16                                                NaN  P00533;P04626;Q15303   \n18                                             P00533                   NaN   \n\n    mutation max_phase  cluster  \n0        NaN         4        1  \n1        NaN         4        1  \n7        NaN         4        1  \n10       NaN         3        1  \n13       NaN         4        1  \n16       NaN         4        1  \n18       NaN         4        1  ",
      "text/html": "<div>\n<style scoped>\n    .dataframe tbody tr th:only-of-type {\n        vertical-align: middle;\n    }\n\n    .dataframe tbody tr th {\n        vertical-align: top;\n    }\n\n    .dataframe thead th {\n        text-align: right;\n    }\n</style>\n<table border=\"1\" class=\"dataframe\">\n  <thead>\n    <tr style=\"text-align: right;\">\n      <th></th>\n      <th>connectivity</th>\n      <th>pref_name</th>\n      <th>accession</th>\n      <th>accession_child</th>\n      <th>mutation</th>\n      <th>max_phase</th>\n      <th>cluster</th>\n    </tr>\n  </thead>\n  <tbody>\n    <tr>\n      <th>0</th>\n      <td>AAKJLRGGTJKAMG</td>\n      <td>ERLOTINIB</td>\n      <td>NaN</td>\n      <td>P00533</td>\n      <td>NaN</td>\n      <td>4</td>\n      <td>1</td>\n    </tr>\n    <tr>\n      <th>1</th>\n      <td>BCFGMOOMADDAQU</td>\n      <td>LAPATINIB</td>\n      <td>NaN</td>\n      <td>nan;P00533;P04626</td>\n      <td>NaN</td>\n      <td>4</td>\n      <td>1</td>\n    </tr>\n    <tr>\n      <th>7</th>\n      <td>JWNPDZNEKVCWMY</td>\n      <td>NERATINIB</td>\n      <td>P00533;P04626;Q15303</td>\n      <td>NaN</td>\n      <td>NaN</td>\n      <td>4</td>\n      <td>1</td>\n    </tr>\n    <tr>\n      <th>10</th>\n      <td>OMZCMEYTWSXEPZ</td>\n      <td>CANERTINIB</td>\n      <td>NaN</td>\n      <td>P00533;P04626;Q15303</td>\n      <td>NaN</td>\n      <td>3</td>\n      <td>1</td>\n    </tr>\n    <tr>\n      <th>13</th>\n      <td>UHTHHESEBZOYNR</td>\n      <td>VANDETANIB</td>\n      <td>P29317;P29323;P54756;P54764;P29322;Q9UF33;Q153...</td>\n      <td>NaN</td>\n      <td>NaN</td>\n      <td>4</td>\n      <td>1</td>\n    </tr>\n    <tr>\n      <th>16</th>\n      <td>ULXXDDBFHOBEHA</td>\n      <td>AFATINIB</td>\n      <td>NaN</td>\n      <td>P00533;P04626;Q15303</td>\n      <td>NaN</td>\n      <td>4</td>\n      <td>1</td>\n    </tr>\n    <tr>\n      <th>18</th>\n      <td>XGALLCVXEZPNRQ</td>\n      <td>GEFITINIB</td>\n      <td>P00533</td>\n      <td>NaN</td>\n      <td>NaN</td>\n      <td>4</td>\n      <td>1</td>\n    </tr>\n  </tbody>\n</table>\n</div>"
     },
     "execution_count": 209,
     "metadata": {},
     "output_type": "execute_result"
    }
   ],
   "source": [
    "# Check which compounds are linked to the analysis accession in their MOA\n",
    "explore_cluster_compound_info(cluster_df_unique, analysis_accession, analysis_type='MOA', output_type='df', \n",
    "                              sort='both')"
   ],
   "metadata": {
    "collapsed": false,
    "ExecuteTime": {
     "end_time": "2023-12-06T16:30:38.791099500Z",
     "start_time": "2023-12-06T16:30:18.461016700Z"
    }
   }
  },
  {
   "cell_type": "code",
   "execution_count": 210,
   "outputs": [
    {
     "name": "stdout",
     "output_type": "stream",
     "text": [
      "Number of clusters with at least one (parent or child) compound satisfying the condition: 0 (0.00%)\n"
     ]
    },
    {
     "data": {
      "text/plain": "         P00533_mutation  P00533_mutation_child  P00533_mutation_total\ncluster                                                               \n1                      0                      0                      0\n2                      0                      0                      0\n3                      0                      0                      0\n4                      0                      0                      0\n5                      0                      0                      0\n6                      0                      0                      0",
      "text/html": "<div>\n<style scoped>\n    .dataframe tbody tr th:only-of-type {\n        vertical-align: middle;\n    }\n\n    .dataframe tbody tr th {\n        vertical-align: top;\n    }\n\n    .dataframe thead th {\n        text-align: right;\n    }\n</style>\n<table border=\"1\" class=\"dataframe\">\n  <thead>\n    <tr style=\"text-align: right;\">\n      <th></th>\n      <th>P00533_mutation</th>\n      <th>P00533_mutation_child</th>\n      <th>P00533_mutation_total</th>\n    </tr>\n    <tr>\n      <th>cluster</th>\n      <th></th>\n      <th></th>\n      <th></th>\n    </tr>\n  </thead>\n  <tbody>\n    <tr>\n      <th>1</th>\n      <td>0</td>\n      <td>0</td>\n      <td>0</td>\n    </tr>\n    <tr>\n      <th>2</th>\n      <td>0</td>\n      <td>0</td>\n      <td>0</td>\n    </tr>\n    <tr>\n      <th>3</th>\n      <td>0</td>\n      <td>0</td>\n      <td>0</td>\n    </tr>\n    <tr>\n      <th>4</th>\n      <td>0</td>\n      <td>0</td>\n      <td>0</td>\n    </tr>\n    <tr>\n      <th>5</th>\n      <td>0</td>\n      <td>0</td>\n      <td>0</td>\n    </tr>\n    <tr>\n      <th>6</th>\n      <td>0</td>\n      <td>0</td>\n      <td>0</td>\n    </tr>\n  </tbody>\n</table>\n</div>"
     },
     "execution_count": 210,
     "metadata": {},
     "output_type": "execute_result"
    }
   ],
   "source": [
    "# Check how many compounds per cluster are linked to a mutation in their MOA\n",
    "explore_cluster_compound_info(cluster_df_unique, analysis_accession, analysis_type='mutation', \n",
    "                              output_type='stats', sort='both')"
   ],
   "metadata": {
    "collapsed": false,
    "ExecuteTime": {
     "end_time": "2023-12-06T16:30:38.791099500Z",
     "start_time": "2023-12-06T16:30:19.296792Z"
    }
   }
  },
  {
   "cell_type": "code",
   "execution_count": 211,
   "outputs": [
    {
     "data": {
      "text/plain": "Empty DataFrame\nColumns: [connectivity, pref_name, accession, mutation, mutation_child, max_phase, cluster]\nIndex: []",
      "text/html": "<div>\n<style scoped>\n    .dataframe tbody tr th:only-of-type {\n        vertical-align: middle;\n    }\n\n    .dataframe tbody tr th {\n        vertical-align: top;\n    }\n\n    .dataframe thead th {\n        text-align: right;\n    }\n</style>\n<table border=\"1\" class=\"dataframe\">\n  <thead>\n    <tr style=\"text-align: right;\">\n      <th></th>\n      <th>connectivity</th>\n      <th>pref_name</th>\n      <th>accession</th>\n      <th>mutation</th>\n      <th>mutation_child</th>\n      <th>max_phase</th>\n      <th>cluster</th>\n    </tr>\n  </thead>\n  <tbody>\n  </tbody>\n</table>\n</div>"
     },
     "execution_count": 211,
     "metadata": {},
     "output_type": "execute_result"
    }
   ],
   "source": [
    "# Check which mutations\n",
    "explore_cluster_compound_info(cluster_df_unique, analysis_accession, analysis_type='mutation', output_type='df', \n",
    "                              sort='both')"
   ],
   "metadata": {
    "collapsed": false,
    "ExecuteTime": {
     "end_time": "2023-12-06T16:30:38.791099500Z",
     "start_time": "2023-12-06T16:30:20.100616300Z"
    }
   }
  },
  {
   "cell_type": "code",
   "execution_count": 212,
   "outputs": [
    {
     "name": "stdout",
     "output_type": "stream",
     "text": [
      "Number of clusters with at least one (parent or child) compound satisfying the condition: 3 (0.50%)\n"
     ]
    },
    {
     "data": {
      "text/plain": "         approved  approved_child  approved_total\ncluster                                          \n1               8               0               8\n3               1               0               1\n5               1               0               1\n2               0               0               0\n4               0               0               0\n6               0               0               0",
      "text/html": "<div>\n<style scoped>\n    .dataframe tbody tr th:only-of-type {\n        vertical-align: middle;\n    }\n\n    .dataframe tbody tr th {\n        vertical-align: top;\n    }\n\n    .dataframe thead th {\n        text-align: right;\n    }\n</style>\n<table border=\"1\" class=\"dataframe\">\n  <thead>\n    <tr style=\"text-align: right;\">\n      <th></th>\n      <th>approved</th>\n      <th>approved_child</th>\n      <th>approved_total</th>\n    </tr>\n    <tr>\n      <th>cluster</th>\n      <th></th>\n      <th></th>\n      <th></th>\n    </tr>\n  </thead>\n  <tbody>\n    <tr>\n      <th>1</th>\n      <td>8</td>\n      <td>0</td>\n      <td>8</td>\n    </tr>\n    <tr>\n      <th>3</th>\n      <td>1</td>\n      <td>0</td>\n      <td>1</td>\n    </tr>\n    <tr>\n      <th>5</th>\n      <td>1</td>\n      <td>0</td>\n      <td>1</td>\n    </tr>\n    <tr>\n      <th>2</th>\n      <td>0</td>\n      <td>0</td>\n      <td>0</td>\n    </tr>\n    <tr>\n      <th>4</th>\n      <td>0</td>\n      <td>0</td>\n      <td>0</td>\n    </tr>\n    <tr>\n      <th>6</th>\n      <td>0</td>\n      <td>0</td>\n      <td>0</td>\n    </tr>\n  </tbody>\n</table>\n</div>"
     },
     "execution_count": 212,
     "metadata": {},
     "output_type": "execute_result"
    }
   ],
   "source": [
    "# Check how many compounds per cluster are approved\n",
    "explore_cluster_compound_info(cluster_df_unique, analysis_accession, analysis_type='approval', \n",
    "                              output_type='stats',sort='both')"
   ],
   "metadata": {
    "collapsed": false,
    "ExecuteTime": {
     "end_time": "2023-12-06T16:30:38.791099500Z",
     "start_time": "2023-12-06T16:30:20.901056300Z"
    }
   }
  },
  {
   "cell_type": "code",
   "execution_count": 213,
   "outputs": [
    {
     "data": {
      "text/plain": "      connectivity        pref_name  \\\n0   AAKJLRGGTJKAMG        ERLOTINIB   \n1   BCFGMOOMADDAQU        LAPATINIB   \n7   JWNPDZNEKVCWMY        NERATINIB   \n12  UBPYILGKFZZVDX        BOSUTINIB   \n13  UHTHHESEBZOYNR       VANDETANIB   \n16  ULXXDDBFHOBEHA         AFATINIB   \n18  XGALLCVXEZPNRQ        GEFITINIB   \n21  ZBNZXTGUTAYRHI        DASATINIB   \n3   BMGQWWVMWDBQGC  nan;MIDOSTAURIN   \n17  WINHZLLDWRZWRT    nan;SUNITINIB   \n\n                                            accession  mutation max_phase  \\\n0                                                 NaN       NaN         4   \n1                                                 NaN       NaN         4   \n7                                P00533;P04626;Q15303       NaN         4   \n12                 P00519;P11274;P08631;P07948;P12931       NaN         4   \n13  P29317;P29323;P54756;P54764;P29322;Q9UF33;Q153...       NaN         4   \n16                                                NaN       NaN         4   \n18                                             P00533       NaN         4   \n21  P00519;P11274;P29317;P09619;P06241;P12931;P062...       NaN         4   \n3   nan;P09619;P16234;O94806;P41743;P17252;P05129;...       NaN       0;4   \n17                                                NaN       NaN       0;4   \n\n   max_phase_child  cluster  \n0                4        1  \n1              0;4        1  \n7              NaN        1  \n12             NaN        1  \n13             NaN        1  \n16               4        1  \n18             NaN        1  \n21             NaN        1  \n3              NaN        3  \n17         nan;4;0        5  ",
      "text/html": "<div>\n<style scoped>\n    .dataframe tbody tr th:only-of-type {\n        vertical-align: middle;\n    }\n\n    .dataframe tbody tr th {\n        vertical-align: top;\n    }\n\n    .dataframe thead th {\n        text-align: right;\n    }\n</style>\n<table border=\"1\" class=\"dataframe\">\n  <thead>\n    <tr style=\"text-align: right;\">\n      <th></th>\n      <th>connectivity</th>\n      <th>pref_name</th>\n      <th>accession</th>\n      <th>mutation</th>\n      <th>max_phase</th>\n      <th>max_phase_child</th>\n      <th>cluster</th>\n    </tr>\n  </thead>\n  <tbody>\n    <tr>\n      <th>0</th>\n      <td>AAKJLRGGTJKAMG</td>\n      <td>ERLOTINIB</td>\n      <td>NaN</td>\n      <td>NaN</td>\n      <td>4</td>\n      <td>4</td>\n      <td>1</td>\n    </tr>\n    <tr>\n      <th>1</th>\n      <td>BCFGMOOMADDAQU</td>\n      <td>LAPATINIB</td>\n      <td>NaN</td>\n      <td>NaN</td>\n      <td>4</td>\n      <td>0;4</td>\n      <td>1</td>\n    </tr>\n    <tr>\n      <th>7</th>\n      <td>JWNPDZNEKVCWMY</td>\n      <td>NERATINIB</td>\n      <td>P00533;P04626;Q15303</td>\n      <td>NaN</td>\n      <td>4</td>\n      <td>NaN</td>\n      <td>1</td>\n    </tr>\n    <tr>\n      <th>12</th>\n      <td>UBPYILGKFZZVDX</td>\n      <td>BOSUTINIB</td>\n      <td>P00519;P11274;P08631;P07948;P12931</td>\n      <td>NaN</td>\n      <td>4</td>\n      <td>NaN</td>\n      <td>1</td>\n    </tr>\n    <tr>\n      <th>13</th>\n      <td>UHTHHESEBZOYNR</td>\n      <td>VANDETANIB</td>\n      <td>P29317;P29323;P54756;P54764;P29322;Q9UF33;Q153...</td>\n      <td>NaN</td>\n      <td>4</td>\n      <td>NaN</td>\n      <td>1</td>\n    </tr>\n    <tr>\n      <th>16</th>\n      <td>ULXXDDBFHOBEHA</td>\n      <td>AFATINIB</td>\n      <td>NaN</td>\n      <td>NaN</td>\n      <td>4</td>\n      <td>4</td>\n      <td>1</td>\n    </tr>\n    <tr>\n      <th>18</th>\n      <td>XGALLCVXEZPNRQ</td>\n      <td>GEFITINIB</td>\n      <td>P00533</td>\n      <td>NaN</td>\n      <td>4</td>\n      <td>NaN</td>\n      <td>1</td>\n    </tr>\n    <tr>\n      <th>21</th>\n      <td>ZBNZXTGUTAYRHI</td>\n      <td>DASATINIB</td>\n      <td>P00519;P11274;P29317;P09619;P06241;P12931;P062...</td>\n      <td>NaN</td>\n      <td>4</td>\n      <td>NaN</td>\n      <td>1</td>\n    </tr>\n    <tr>\n      <th>3</th>\n      <td>BMGQWWVMWDBQGC</td>\n      <td>nan;MIDOSTAURIN</td>\n      <td>nan;P09619;P16234;O94806;P41743;P17252;P05129;...</td>\n      <td>NaN</td>\n      <td>0;4</td>\n      <td>NaN</td>\n      <td>3</td>\n    </tr>\n    <tr>\n      <th>17</th>\n      <td>WINHZLLDWRZWRT</td>\n      <td>nan;SUNITINIB</td>\n      <td>NaN</td>\n      <td>NaN</td>\n      <td>0;4</td>\n      <td>nan;4;0</td>\n      <td>5</td>\n    </tr>\n  </tbody>\n</table>\n</div>"
     },
     "execution_count": 213,
     "metadata": {},
     "output_type": "execute_result"
    }
   ],
   "source": [
    "# Check which compounds are approved\n",
    "explore_cluster_compound_info(cluster_df_unique, analysis_accession, analysis_type='approval', output_type='df', \n",
    "                              sort='both')"
   ],
   "metadata": {
    "collapsed": false,
    "ExecuteTime": {
     "end_time": "2023-12-06T16:30:38.772500900Z",
     "start_time": "2023-12-06T16:30:21.730796100Z"
    }
   }
  },
  {
   "cell_type": "code",
   "execution_count": 214,
   "outputs": [
    {
     "data": {
      "text/plain": "                   connectivity  \\\ncluster max_phase                 \n1       0                     1   \n        2                     1   \n        3                     2   \n        4                     8   \n        0;2                   1   \n2       0                     2   \n        2                     1   \n3       0                     1   \n        3                     1   \n        0;4                   1   \n4       1                     1   \n5       0;4                   1   \n6       0;3                   1   \n\n                                                           pref_name  \ncluster max_phase                                                     \n1       0                                                  [TAE-684]  \n        2                                                [FORETINIB]  \n        3                                    [CANERTINIB, CEDIRANIB]  \n        4          [ERLOTINIB, LAPATINIB, NERATINIB, BOSUTINIB, V...  \n        0;2                                            [nan;BI-2536]  \n2       0                                           [SB-203580, nan]  \n        2                                                [TG100-115]  \n3       0                                        [nan;STAUROSPORINE]  \n        3                                             [LESTAURTINIB]  \n        0;4                                        [nan;MIDOSTAURIN]  \n4       1                                                  [AST-487]  \n5       0;4                                          [nan;SUNITINIB]  \n6       0;3                                          [nan;ALVOCIDIB]  ",
      "text/html": "<div>\n<style scoped>\n    .dataframe tbody tr th:only-of-type {\n        vertical-align: middle;\n    }\n\n    .dataframe tbody tr th {\n        vertical-align: top;\n    }\n\n    .dataframe thead th {\n        text-align: right;\n    }\n</style>\n<table border=\"1\" class=\"dataframe\">\n  <thead>\n    <tr style=\"text-align: right;\">\n      <th></th>\n      <th></th>\n      <th>connectivity</th>\n      <th>pref_name</th>\n    </tr>\n    <tr>\n      <th>cluster</th>\n      <th>max_phase</th>\n      <th></th>\n      <th></th>\n    </tr>\n  </thead>\n  <tbody>\n    <tr>\n      <th rowspan=\"5\" valign=\"top\">1</th>\n      <th>0</th>\n      <td>1</td>\n      <td>[TAE-684]</td>\n    </tr>\n    <tr>\n      <th>2</th>\n      <td>1</td>\n      <td>[FORETINIB]</td>\n    </tr>\n    <tr>\n      <th>3</th>\n      <td>2</td>\n      <td>[CANERTINIB, CEDIRANIB]</td>\n    </tr>\n    <tr>\n      <th>4</th>\n      <td>8</td>\n      <td>[ERLOTINIB, LAPATINIB, NERATINIB, BOSUTINIB, V...</td>\n    </tr>\n    <tr>\n      <th>0;2</th>\n      <td>1</td>\n      <td>[nan;BI-2536]</td>\n    </tr>\n    <tr>\n      <th rowspan=\"2\" valign=\"top\">2</th>\n      <th>0</th>\n      <td>2</td>\n      <td>[SB-203580, nan]</td>\n    </tr>\n    <tr>\n      <th>2</th>\n      <td>1</td>\n      <td>[TG100-115]</td>\n    </tr>\n    <tr>\n      <th rowspan=\"3\" valign=\"top\">3</th>\n      <th>0</th>\n      <td>1</td>\n      <td>[nan;STAUROSPORINE]</td>\n    </tr>\n    <tr>\n      <th>3</th>\n      <td>1</td>\n      <td>[LESTAURTINIB]</td>\n    </tr>\n    <tr>\n      <th>0;4</th>\n      <td>1</td>\n      <td>[nan;MIDOSTAURIN]</td>\n    </tr>\n    <tr>\n      <th>4</th>\n      <th>1</th>\n      <td>1</td>\n      <td>[AST-487]</td>\n    </tr>\n    <tr>\n      <th>5</th>\n      <th>0;4</th>\n      <td>1</td>\n      <td>[nan;SUNITINIB]</td>\n    </tr>\n    <tr>\n      <th>6</th>\n      <th>0;3</th>\n      <td>1</td>\n      <td>[nan;ALVOCIDIB]</td>\n    </tr>\n  </tbody>\n</table>\n</div>"
     },
     "execution_count": 214,
     "metadata": {},
     "output_type": "execute_result"
    }
   ],
   "source": [
    "# Check how many compounds per cluster are in different states of clinical trials\n",
    "(cluster_df_unique.groupby(['cluster','max_phase']).agg({'connectivity':'nunique','pref_name':'unique'}))"
   ],
   "metadata": {
    "collapsed": false,
    "ExecuteTime": {
     "end_time": "2023-12-06T16:30:38.772500900Z",
     "start_time": "2023-12-06T16:30:22.551777600Z"
    }
   }
  }
 ],
 "metadata": {
  "kernelspec": {
   "display_name": "Python 3",
   "language": "python",
   "name": "python3"
  },
  "language_info": {
   "codemirror_mode": {
    "name": "ipython",
    "version": 2
   },
   "file_extension": ".py",
   "mimetype": "text/x-python",
   "name": "python",
   "nbconvert_exporter": "python",
   "pygments_lexer": "ipython2",
   "version": "2.7.6"
  }
 },
 "nbformat": 4,
 "nbformat_minor": 0
}
