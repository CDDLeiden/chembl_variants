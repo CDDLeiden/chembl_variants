{
 "cells": [
  {
   "cell_type": "code",
   "execution_count": 1,
   "id": "initial_id",
   "metadata": {
    "collapsed": true,
    "ExecuteTime": {
     "end_time": "2023-12-19T18:28:00.591672Z",
     "start_time": "2023-12-19T18:28:00.458294Z"
    }
   },
   "outputs": [],
   "source": [
    "%reload_ext autoreload\n",
    "%autoreload 2"
   ]
  },
  {
   "cell_type": "code",
   "execution_count": 2,
   "outputs": [],
   "source": [
    "# Define ChEMBL and PaPyRus versions\n",
    "chembl_version = '31'\n",
    "papyrus_version = '05.5'\n",
    "papyrus_flavor = 'nostereo'"
   ],
   "metadata": {
    "collapsed": false,
    "ExecuteTime": {
     "end_time": "2023-12-19T18:28:00.591672Z",
     "start_time": "2023-12-19T18:28:00.527936300Z"
    }
   },
   "id": "91282d6d80da6f1f"
  },
  {
   "cell_type": "code",
   "execution_count": 3,
   "outputs": [],
   "source": [
    "# Define annotation round\n",
    "annotation_round = 2"
   ],
   "metadata": {
    "collapsed": false,
    "ExecuteTime": {
     "end_time": "2023-12-19T18:28:00.667939600Z",
     "start_time": "2023-12-19T18:28:00.591672Z"
    }
   },
   "id": "32dc1b10848d7620"
  },
  {
   "cell_type": "code",
   "execution_count": 4,
   "outputs": [],
   "source": [
    "# Define protein for analysis\n",
    "analysis_accession = 'P00533' #EGFR\n",
    "# analysis_accession = 'Q72547'  #HIV\n",
    "# analysis_accession = 'P00519' #ABL1\n",
    "# analysis_accession = 'O60885' #BRD4\n",
    "# analysis_accession = 'O75874' #IDH1"
   ],
   "metadata": {
    "collapsed": false,
    "ExecuteTime": {
     "end_time": "2023-12-19T18:28:00.727351100Z",
     "start_time": "2023-12-19T18:28:00.667939600Z"
    }
   },
   "id": "23c432805bb91d9c"
  },
  {
   "cell_type": "code",
   "execution_count": 5,
   "outputs": [],
   "source": [
    "# Define butina cutoff used for clustering\n",
    "butina_cutoff = {'P00533': 0.7,  #EGFR\n",
    "                 'Q72547': 0.5,  #HIV\n",
    "                 'P00519': 0.5,  #ABL1\n",
    "                 'O60885': 0.7,  #BRD4\n",
    "                 'O75874': 0.7  #IDH1\n",
    "                 }"
   ],
   "metadata": {
    "collapsed": false,
    "ExecuteTime": {
     "end_time": "2023-12-19T18:28:00.789843100Z",
     "start_time": "2023-12-19T18:28:00.727351100Z"
    }
   },
   "id": "20d6a946afc8b59a"
  },
  {
   "cell_type": "code",
   "execution_count": 6,
   "outputs": [],
   "source": [
    "# Define directories of interest\n",
    "from mutants_in_pcm import data_path\n",
    "data_path.data_dir = '../data'"
   ],
   "metadata": {
    "collapsed": false,
    "ExecuteTime": {
     "end_time": "2023-12-19T18:28:00.990316500Z",
     "start_time": "2023-12-19T18:28:00.789843100Z"
    }
   },
   "id": "bc12efb434b4b862"
  },
  {
   "cell_type": "code",
   "execution_count": 7,
   "outputs": [],
   "source": [
    "from utils import get_mutant_analysis_path\n",
    "data_dir = '1_mutant_statistics'"
   ],
   "metadata": {
    "collapsed": false,
    "ExecuteTime": {
     "end_time": "2023-12-19T18:28:01.062943500Z",
     "start_time": "2023-12-19T18:28:00.990316500Z"
    }
   },
   "id": "1271911ca0e3f5e2"
  },
  {
   "cell_type": "code",
   "execution_count": 8,
   "outputs": [],
   "source": [
    "compound_analysis_dir = get_mutant_analysis_path(data_dir, 'compound', annotation_round)"
   ],
   "metadata": {
    "collapsed": false,
    "ExecuteTime": {
     "end_time": "2023-12-19T18:28:01.128101400Z",
     "start_time": "2023-12-19T18:28:01.064104100Z"
    }
   },
   "id": "a8c2051fabda2404"
  },
  {
   "cell_type": "code",
   "execution_count": 9,
   "outputs": [],
   "source": [
    "# Import libraries and analysis functions\n",
    "import os\n",
    "import pandas as pd\n",
    "import numpy as np"
   ],
   "metadata": {
    "collapsed": false,
    "ExecuteTime": {
     "end_time": "2023-12-19T18:28:01.628973400Z",
     "start_time": "2023-12-19T18:28:01.128101400Z"
    }
   },
   "id": "ab3f690362874c9d"
  },
  {
   "cell_type": "code",
   "execution_count": 10,
   "outputs": [],
   "source": [
    "from mutants_in_pcm.mutant_analysis_compounds import get_clustering_stats,map_chembl_compounds,group_unique_df,explore_cluster_compound_info,annotate_cluster_compounds"
   ],
   "metadata": {
    "collapsed": false,
    "ExecuteTime": {
     "end_time": "2023-12-19T18:28:04.226883800Z",
     "start_time": "2023-12-19T18:28:01.628973400Z"
    }
   },
   "id": "5215b0c2c737a94d"
  },
  {
   "cell_type": "markdown",
   "source": [
    "### Check approval status in cluster analysis "
   ],
   "metadata": {
    "collapsed": false
   },
   "id": "1e1858846a370940"
  },
  {
   "cell_type": "code",
   "execution_count": 11,
   "outputs": [
    {
     "name": "stdout",
     "output_type": "stream",
     "text": [
      "ChEMBL/Papyrus compound mapping file already exists. Reading it.\n"
     ]
    },
    {
     "name": "stderr",
     "output_type": "stream",
     "text": [
      "C:\\Users\\gorostiolam\\AppData\\Local\\Continuum\\anaconda3\\envs\\mutants-in-pcm\\lib\\site-packages\\ipykernel_launcher.py:2: DtypeWarning: Columns (20,22,27,32,36) have mixed types.Specify dtype option on import or set low_memory=False.\n",
      "  \n"
     ]
    },
    {
     "data": {
      "text/plain": "          connectivity            CID      chembl_id  molregno pref_name  \\\n0       AAAAZQPHATYWOK   CHEMBL175513   CHEMBL175513    299040       NaN   \n1       AAABHMIRDIOYOK  CHEMBL1527551  CHEMBL1527551    951435       NaN   \n2       AAABTPAECTZDET   CHEMBL221553   CHEMBL221553    368668       NaN   \n3       AAACBXVBBDAYRQ  CHEMBL4067228  CHEMBL4067228   2207139       NaN   \n4       AAADPBLPXCELKR   CHEMBL495028   CHEMBL495028    478485       NaN   \n...                ...            ...            ...       ...       ...   \n317276  ZZZNVZMIBLYSAK  CHEMBL1309011  CHEMBL1309011    732895       NaN   \n317277  ZZZOPDYSYWKLLT  CHEMBL1779477  CHEMBL1779477   1147950       NaN   \n317278  ZZZQZZTYLVXHSC  CHEMBL1165483  CHEMBL1165483    644719       NaN   \n317279  ZZZZEECYUGCIIB  CHEMBL4098540  CHEMBL4098540   2238451       NaN   \n317280  ZZZZEJJXQQRZBH  CHEMBL4751316  CHEMBL4751316   2498653       NaN   \n\n        max_phase  therapeutic_flag  natural_product   molecule_type  \\\n0               0                 0               -1  Small molecule   \n1               0                 0               -1  Small molecule   \n2               0                 0               -1  Small molecule   \n3               0                 0               -1  Small molecule   \n4               0                 0               -1  Small molecule   \n...           ...               ...              ...             ...   \n317276          0                 0               -1  Small molecule   \n317277          0                 0               -1  Small molecule   \n317278          0                 0               -1  Small molecule   \n317279          0                 0               -1  Small molecule   \n317280          0                 0               -1             NaN   \n\n        first_approval  ...  chembl_id_child  pref_name_child  \\\n0                  NaN  ...              NaN              NaN   \n1                  NaN  ...              NaN              NaN   \n2                  NaN  ...              NaN              NaN   \n3                  NaN  ...              NaN              NaN   \n4                  NaN  ...              NaN              NaN   \n...                ...  ...              ...              ...   \n317276             NaN  ...              NaN              NaN   \n317277             NaN  ...              NaN              NaN   \n317278             NaN  ...              NaN              NaN   \n317279             NaN  ...              NaN              NaN   \n317280             NaN  ...              NaN              NaN   \n\n        max_phase_child  accession_child mutation_child  \\\n0                   NaN              NaN            NaN   \n1                   NaN              NaN            NaN   \n2                   NaN              NaN            NaN   \n3                   NaN              NaN            NaN   \n4                   NaN              NaN            NaN   \n...                 ...              ...            ...   \n317276              NaN              NaN            NaN   \n317277              NaN              NaN            NaN   \n317278              NaN              NaN            NaN   \n317279              NaN              NaN            NaN   \n317280              NaN              NaN            NaN   \n\n       mechanism_of_action_child action_type_child mechanism_comment_child  \\\n0                            NaN               NaN                     NaN   \n1                            NaN               NaN                     NaN   \n2                            NaN               NaN                     NaN   \n3                            NaN               NaN                     NaN   \n4                            NaN               NaN                     NaN   \n...                          ...               ...                     ...   \n317276                       NaN               NaN                     NaN   \n317277                       NaN               NaN                     NaN   \n317278                       NaN               NaN                     NaN   \n317279                       NaN               NaN                     NaN   \n317280                       NaN               NaN                     NaN   \n\n       selectivity_comment_child indications_child  \n0                            NaN               NaN  \n1                            NaN               NaN  \n2                            NaN               NaN  \n3                            NaN               NaN  \n4                            NaN               NaN  \n...                          ...               ...  \n317276                       NaN               NaN  \n317277                       NaN               NaN  \n317278                       NaN               NaN  \n317279                       NaN               NaN  \n317280                       NaN               NaN  \n\n[317281 rows x 38 columns]",
      "text/html": "<div>\n<style scoped>\n    .dataframe tbody tr th:only-of-type {\n        vertical-align: middle;\n    }\n\n    .dataframe tbody tr th {\n        vertical-align: top;\n    }\n\n    .dataframe thead th {\n        text-align: right;\n    }\n</style>\n<table border=\"1\" class=\"dataframe\">\n  <thead>\n    <tr style=\"text-align: right;\">\n      <th></th>\n      <th>connectivity</th>\n      <th>CID</th>\n      <th>chembl_id</th>\n      <th>molregno</th>\n      <th>pref_name</th>\n      <th>max_phase</th>\n      <th>therapeutic_flag</th>\n      <th>natural_product</th>\n      <th>molecule_type</th>\n      <th>first_approval</th>\n      <th>...</th>\n      <th>chembl_id_child</th>\n      <th>pref_name_child</th>\n      <th>max_phase_child</th>\n      <th>accession_child</th>\n      <th>mutation_child</th>\n      <th>mechanism_of_action_child</th>\n      <th>action_type_child</th>\n      <th>mechanism_comment_child</th>\n      <th>selectivity_comment_child</th>\n      <th>indications_child</th>\n    </tr>\n  </thead>\n  <tbody>\n    <tr>\n      <th>0</th>\n      <td>AAAAZQPHATYWOK</td>\n      <td>CHEMBL175513</td>\n      <td>CHEMBL175513</td>\n      <td>299040</td>\n      <td>NaN</td>\n      <td>0</td>\n      <td>0</td>\n      <td>-1</td>\n      <td>Small molecule</td>\n      <td>NaN</td>\n      <td>...</td>\n      <td>NaN</td>\n      <td>NaN</td>\n      <td>NaN</td>\n      <td>NaN</td>\n      <td>NaN</td>\n      <td>NaN</td>\n      <td>NaN</td>\n      <td>NaN</td>\n      <td>NaN</td>\n      <td>NaN</td>\n    </tr>\n    <tr>\n      <th>1</th>\n      <td>AAABHMIRDIOYOK</td>\n      <td>CHEMBL1527551</td>\n      <td>CHEMBL1527551</td>\n      <td>951435</td>\n      <td>NaN</td>\n      <td>0</td>\n      <td>0</td>\n      <td>-1</td>\n      <td>Small molecule</td>\n      <td>NaN</td>\n      <td>...</td>\n      <td>NaN</td>\n      <td>NaN</td>\n      <td>NaN</td>\n      <td>NaN</td>\n      <td>NaN</td>\n      <td>NaN</td>\n      <td>NaN</td>\n      <td>NaN</td>\n      <td>NaN</td>\n      <td>NaN</td>\n    </tr>\n    <tr>\n      <th>2</th>\n      <td>AAABTPAECTZDET</td>\n      <td>CHEMBL221553</td>\n      <td>CHEMBL221553</td>\n      <td>368668</td>\n      <td>NaN</td>\n      <td>0</td>\n      <td>0</td>\n      <td>-1</td>\n      <td>Small molecule</td>\n      <td>NaN</td>\n      <td>...</td>\n      <td>NaN</td>\n      <td>NaN</td>\n      <td>NaN</td>\n      <td>NaN</td>\n      <td>NaN</td>\n      <td>NaN</td>\n      <td>NaN</td>\n      <td>NaN</td>\n      <td>NaN</td>\n      <td>NaN</td>\n    </tr>\n    <tr>\n      <th>3</th>\n      <td>AAACBXVBBDAYRQ</td>\n      <td>CHEMBL4067228</td>\n      <td>CHEMBL4067228</td>\n      <td>2207139</td>\n      <td>NaN</td>\n      <td>0</td>\n      <td>0</td>\n      <td>-1</td>\n      <td>Small molecule</td>\n      <td>NaN</td>\n      <td>...</td>\n      <td>NaN</td>\n      <td>NaN</td>\n      <td>NaN</td>\n      <td>NaN</td>\n      <td>NaN</td>\n      <td>NaN</td>\n      <td>NaN</td>\n      <td>NaN</td>\n      <td>NaN</td>\n      <td>NaN</td>\n    </tr>\n    <tr>\n      <th>4</th>\n      <td>AAADPBLPXCELKR</td>\n      <td>CHEMBL495028</td>\n      <td>CHEMBL495028</td>\n      <td>478485</td>\n      <td>NaN</td>\n      <td>0</td>\n      <td>0</td>\n      <td>-1</td>\n      <td>Small molecule</td>\n      <td>NaN</td>\n      <td>...</td>\n      <td>NaN</td>\n      <td>NaN</td>\n      <td>NaN</td>\n      <td>NaN</td>\n      <td>NaN</td>\n      <td>NaN</td>\n      <td>NaN</td>\n      <td>NaN</td>\n      <td>NaN</td>\n      <td>NaN</td>\n    </tr>\n    <tr>\n      <th>...</th>\n      <td>...</td>\n      <td>...</td>\n      <td>...</td>\n      <td>...</td>\n      <td>...</td>\n      <td>...</td>\n      <td>...</td>\n      <td>...</td>\n      <td>...</td>\n      <td>...</td>\n      <td>...</td>\n      <td>...</td>\n      <td>...</td>\n      <td>...</td>\n      <td>...</td>\n      <td>...</td>\n      <td>...</td>\n      <td>...</td>\n      <td>...</td>\n      <td>...</td>\n      <td>...</td>\n    </tr>\n    <tr>\n      <th>317276</th>\n      <td>ZZZNVZMIBLYSAK</td>\n      <td>CHEMBL1309011</td>\n      <td>CHEMBL1309011</td>\n      <td>732895</td>\n      <td>NaN</td>\n      <td>0</td>\n      <td>0</td>\n      <td>-1</td>\n      <td>Small molecule</td>\n      <td>NaN</td>\n      <td>...</td>\n      <td>NaN</td>\n      <td>NaN</td>\n      <td>NaN</td>\n      <td>NaN</td>\n      <td>NaN</td>\n      <td>NaN</td>\n      <td>NaN</td>\n      <td>NaN</td>\n      <td>NaN</td>\n      <td>NaN</td>\n    </tr>\n    <tr>\n      <th>317277</th>\n      <td>ZZZOPDYSYWKLLT</td>\n      <td>CHEMBL1779477</td>\n      <td>CHEMBL1779477</td>\n      <td>1147950</td>\n      <td>NaN</td>\n      <td>0</td>\n      <td>0</td>\n      <td>-1</td>\n      <td>Small molecule</td>\n      <td>NaN</td>\n      <td>...</td>\n      <td>NaN</td>\n      <td>NaN</td>\n      <td>NaN</td>\n      <td>NaN</td>\n      <td>NaN</td>\n      <td>NaN</td>\n      <td>NaN</td>\n      <td>NaN</td>\n      <td>NaN</td>\n      <td>NaN</td>\n    </tr>\n    <tr>\n      <th>317278</th>\n      <td>ZZZQZZTYLVXHSC</td>\n      <td>CHEMBL1165483</td>\n      <td>CHEMBL1165483</td>\n      <td>644719</td>\n      <td>NaN</td>\n      <td>0</td>\n      <td>0</td>\n      <td>-1</td>\n      <td>Small molecule</td>\n      <td>NaN</td>\n      <td>...</td>\n      <td>NaN</td>\n      <td>NaN</td>\n      <td>NaN</td>\n      <td>NaN</td>\n      <td>NaN</td>\n      <td>NaN</td>\n      <td>NaN</td>\n      <td>NaN</td>\n      <td>NaN</td>\n      <td>NaN</td>\n    </tr>\n    <tr>\n      <th>317279</th>\n      <td>ZZZZEECYUGCIIB</td>\n      <td>CHEMBL4098540</td>\n      <td>CHEMBL4098540</td>\n      <td>2238451</td>\n      <td>NaN</td>\n      <td>0</td>\n      <td>0</td>\n      <td>-1</td>\n      <td>Small molecule</td>\n      <td>NaN</td>\n      <td>...</td>\n      <td>NaN</td>\n      <td>NaN</td>\n      <td>NaN</td>\n      <td>NaN</td>\n      <td>NaN</td>\n      <td>NaN</td>\n      <td>NaN</td>\n      <td>NaN</td>\n      <td>NaN</td>\n      <td>NaN</td>\n    </tr>\n    <tr>\n      <th>317280</th>\n      <td>ZZZZEJJXQQRZBH</td>\n      <td>CHEMBL4751316</td>\n      <td>CHEMBL4751316</td>\n      <td>2498653</td>\n      <td>NaN</td>\n      <td>0</td>\n      <td>0</td>\n      <td>-1</td>\n      <td>NaN</td>\n      <td>NaN</td>\n      <td>...</td>\n      <td>NaN</td>\n      <td>NaN</td>\n      <td>NaN</td>\n      <td>NaN</td>\n      <td>NaN</td>\n      <td>NaN</td>\n      <td>NaN</td>\n      <td>NaN</td>\n      <td>NaN</td>\n      <td>NaN</td>\n    </tr>\n  </tbody>\n</table>\n<p>317281 rows × 38 columns</p>\n</div>"
     },
     "execution_count": 11,
     "metadata": {},
     "output_type": "execute_result"
    }
   ],
   "source": [
    "# Read compound information retrieved from ChEMBL\n",
    "mapped_compounds = map_chembl_compounds('31', '05.5', 'nostereo', 1_000_000, annotation_round=annotation_round)\n",
    "mapped_compounds"
   ],
   "metadata": {
    "collapsed": false,
    "ExecuteTime": {
     "end_time": "2023-12-19T18:28:06.967033400Z",
     "start_time": "2023-12-19T18:28:04.226883800Z"
    }
   },
   "id": "a114c5111e32b9e7"
  },
  {
   "cell_type": "code",
   "execution_count": 12,
   "outputs": [
    {
     "name": "stdout",
     "output_type": "stream",
     "text": [
      "Number of clusters: 118\n",
      "Number of compounds in clusters: 1219\n",
      "Number of compounds per cluster:\n",
      "Cluster 1: 253 compounds\n",
      "Cluster 2: 236 compounds\n",
      "Cluster 3: 91 compounds\n",
      "Cluster 4: 78 compounds\n",
      "Cluster 5: 35 compounds\n",
      "Cluster 6: 35 compounds\n",
      "Cluster 7: 30 compounds\n",
      "Cluster 8: 29 compounds\n",
      "Cluster 9: 28 compounds\n",
      "Cluster 10: 26 compounds\n",
      "Cluster 11: 24 compounds\n",
      "Cluster 12: 23 compounds\n",
      "Cluster 13: 20 compounds\n",
      "Cluster 14: 20 compounds\n",
      "Cluster 15: 19 compounds\n",
      "Cluster 16: 19 compounds\n",
      "Cluster 17: 16 compounds\n",
      "Cluster 18: 13 compounds\n",
      "Cluster 19: 12 compounds\n",
      "Cluster 20: 12 compounds\n",
      "Cluster 21: 11 compounds\n",
      "Cluster 22: 10 compounds\n",
      "Cluster 23: 7 compounds\n",
      "Cluster 24: 6 compounds\n",
      "Cluster 25: 6 compounds\n",
      "Cluster 26: 5 compounds\n",
      "Cluster 27: 5 compounds\n",
      "Cluster 28: 5 compounds\n",
      "Cluster 29: 5 compounds\n",
      "Cluster 30: 4 compounds\n",
      "Cluster 31: 4 compounds\n",
      "Cluster 32: 4 compounds\n",
      "Cluster 33: 4 compounds\n",
      "Cluster 34: 4 compounds\n",
      "Cluster 35: 4 compounds\n",
      "Cluster 36: 4 compounds\n",
      "Cluster 37: 4 compounds\n",
      "Cluster 38: 3 compounds\n",
      "Cluster 39: 3 compounds\n",
      "Cluster 40: 3 compounds\n",
      "Cluster 41: 3 compounds\n",
      "Cluster 42: 3 compounds\n",
      "Cluster 43: 3 compounds\n",
      "Cluster 44: 3 compounds\n",
      "Cluster 45: 2 compounds\n",
      "Cluster 46: 2 compounds\n",
      "Cluster 47: 2 compounds\n",
      "Cluster 48: 2 compounds\n",
      "Cluster 49: 2 compounds\n",
      "Cluster 50: 2 compounds\n",
      "Cluster 51: 2 compounds\n",
      "Cluster 52: 2 compounds\n",
      "Cluster 53: 2 compounds\n",
      "Cluster 54: 2 compounds\n",
      "Cluster 55: 2 compounds\n",
      "Cluster 56: 2 compounds\n",
      "Cluster 57: 2 compounds\n",
      "Cluster 58: 1 compounds\n",
      "Cluster 59: 1 compounds\n",
      "Cluster 60: 1 compounds\n",
      "Cluster 61: 1 compounds\n",
      "Cluster 62: 1 compounds\n",
      "Cluster 63: 1 compounds\n",
      "Cluster 64: 1 compounds\n",
      "Cluster 65: 1 compounds\n",
      "Cluster 66: 1 compounds\n",
      "Cluster 67: 1 compounds\n",
      "Cluster 68: 1 compounds\n",
      "Cluster 69: 1 compounds\n",
      "Cluster 70: 1 compounds\n",
      "Cluster 71: 1 compounds\n",
      "Cluster 72: 1 compounds\n",
      "Cluster 73: 1 compounds\n",
      "Cluster 74: 1 compounds\n",
      "Cluster 75: 1 compounds\n",
      "Cluster 76: 1 compounds\n",
      "Cluster 77: 1 compounds\n",
      "Cluster 78: 1 compounds\n",
      "Cluster 79: 1 compounds\n",
      "Cluster 80: 1 compounds\n",
      "Cluster 81: 1 compounds\n",
      "Cluster 82: 1 compounds\n",
      "Cluster 83: 1 compounds\n",
      "Cluster 84: 1 compounds\n",
      "Cluster 85: 1 compounds\n",
      "Cluster 86: 1 compounds\n",
      "Cluster 87: 1 compounds\n",
      "Cluster 88: 1 compounds\n",
      "Cluster 89: 1 compounds\n",
      "Cluster 90: 1 compounds\n",
      "Cluster 91: 1 compounds\n",
      "Cluster 92: 1 compounds\n",
      "Cluster 93: 1 compounds\n",
      "Cluster 94: 1 compounds\n",
      "Cluster 95: 1 compounds\n",
      "Cluster 96: 1 compounds\n",
      "Cluster 97: 1 compounds\n",
      "Cluster 98: 1 compounds\n",
      "Cluster 99: 1 compounds\n",
      "Cluster 100: 1 compounds\n",
      "Cluster 101: 1 compounds\n",
      "Cluster 102: 1 compounds\n",
      "Cluster 103: 1 compounds\n",
      "Cluster 104: 1 compounds\n",
      "Cluster 105: 1 compounds\n",
      "Cluster 106: 1 compounds\n",
      "Cluster 107: 1 compounds\n",
      "Cluster 108: 1 compounds\n",
      "Cluster 109: 1 compounds\n",
      "Cluster 110: 1 compounds\n",
      "Cluster 111: 1 compounds\n",
      "Cluster 112: 1 compounds\n",
      "Cluster 113: 1 compounds\n",
      "Cluster 114: 1 compounds\n",
      "Cluster 115: 1 compounds\n",
      "Cluster 116: 1 compounds\n",
      "Cluster 117: 1 compounds\n",
      "Cluster 118: 1 compounds\n"
     ]
    }
   ],
   "source": [
    "# Read cluster statistics and compound-cluster mapping\n",
    "cluster_compounds = get_clustering_stats(accession = analysis_accession, \n",
    "                                     output_dir = compound_analysis_dir, \n",
    "                                     subset_alias = 'full_dual_tested_set', # Full set still refers to compounds tested\n",
    "                                         # at least \n",
    "                                     # in two variants (normally WT and another)\n",
    "                                     cutoff = '0.5') # Butina cutoff was always 0.5 for clustering in this analysis"
   ],
   "metadata": {
    "collapsed": false,
    "ExecuteTime": {
     "end_time": "2023-12-19T18:28:07.123063900Z",
     "start_time": "2023-12-19T18:28:06.948900200Z"
    }
   },
   "id": "7c159479a131b30"
  },
  {
   "cell_type": "code",
   "execution_count": 13,
   "outputs": [
    {
     "data": {
      "text/plain": "        connectivity                         CID                   chembl_id  \\\n0     AAFHSECTTHOVFV               CHEMBL2029442               CHEMBL2029442   \n1     AAKJLRGGTJKAMG                   CHEMBL553                   CHEMBL553   \n2     ABEGTFCLSXRJQE               CHEMBL4077228               CHEMBL4077228   \n3     ABGXDJDXYCHCQN               CHEMBL4778502               CHEMBL4778502   \n4     ABHDYLBMXLXCKE               CHEMBL4548481               CHEMBL4548481   \n...              ...                         ...                         ...   \n1214  ZYZAJOCFJDOSLF               CHEMBL3353406               CHEMBL3353406   \n1215  ZZGGOXMEIWLVTJ               CHEMBL2029432               CHEMBL2029432   \n1216  ZZHGYQVOTUDVEE               CHEMBL4276842               CHEMBL4276842   \n1217  ZZSBPGIGIUFJRA  CHEMBL338956;CHEMBL1240703  CHEMBL338956;CHEMBL1240703   \n1218  ZZVIASMIOWABNB               CHEMBL4570293               CHEMBL4570293   \n\n           molregno      pref_name max_phase therapeutic_flag natural_product  \\\n0           1341486            NaN         0                0              -1   \n1             14785      ERLOTINIB         4                1               0   \n2           2217139            NaN         0                0              -1   \n3           2515093            NaN         0                0              -1   \n4           2418909            NaN         0                0              -1   \n...             ...            ...       ...              ...             ...   \n1214        1817514            NaN         0                0              -1   \n1215        1341476            NaN         0                0              -1   \n1216        2316293            NaN         0                0              -1   \n1217  215441;699914  nan;CGP-52421         0                0              -1   \n1218        2440724            NaN         0                0              -1   \n\n       molecule_type first_approval  ...          pref_name_child  \\\n0     Small molecule            NaN  ...                      NaN   \n1     Small molecule         2004.0  ...  ERLOTINIB HYDROCHLORIDE   \n2     Small molecule            NaN  ...                      NaN   \n3                NaN            NaN  ...                      NaN   \n4                NaN            NaN  ...                      NaN   \n...              ...            ...  ...                      ...   \n1214  Small molecule            NaN  ...                      NaN   \n1215  Small molecule            NaN  ...                      NaN   \n1216  Small molecule            NaN  ...                      NaN   \n1217  Small molecule            NaN  ...                      NaN   \n1218             NaN            NaN  ...                      NaN   \n\n      max_phase_child  accession_child mutation_child  \\\n0                 NaN              NaN            NaN   \n1                   4           P00533            NaN   \n2                 NaN              NaN            NaN   \n3                 NaN              NaN            NaN   \n4                 NaN              NaN            NaN   \n...               ...              ...            ...   \n1214              NaN              NaN            NaN   \n1215              NaN              NaN            NaN   \n1216              NaN              NaN            NaN   \n1217              NaN              NaN            NaN   \n1218              NaN              NaN            NaN   \n\n                             mechanism_of_action_child action_type_child  \\\n0                                                  NaN               NaN   \n1     Epidermal growth factor receptor erbB1 inhibitor         INHIBITOR   \n2                                                  NaN               NaN   \n3                                                  NaN               NaN   \n4                                                  NaN               NaN   \n...                                                ...               ...   \n1214                                               NaN               NaN   \n1215                                               NaN               NaN   \n1216                                               NaN               NaN   \n1217                                               NaN               NaN   \n1218                                               NaN               NaN   \n\n     mechanism_comment_child selectivity_comment_child  \\\n0                        NaN                       NaN   \n1                        NaN                       NaN   \n2                        NaN                       NaN   \n3                        NaN                       NaN   \n4                        NaN                       NaN   \n...                      ...                       ...   \n1214                     NaN                       NaN   \n1215                     NaN                       NaN   \n1216                     NaN                       NaN   \n1217                     NaN                       NaN   \n1218                     NaN                       NaN   \n\n                                      indications_child cluster  \n0                                                   NaN       1  \n1     Astrocytoma (1.0);Glioma (1.0);Meningioma (1.0...       2  \n2                                                   NaN      10  \n3                                                   NaN       7  \n4                                                   NaN      38  \n...                                                 ...     ...  \n1214                                                NaN       1  \n1215                                                NaN       1  \n1216                                                NaN       3  \n1217                                                NaN      37  \n1218                                                NaN       1  \n\n[1219 rows x 39 columns]",
      "text/html": "<div>\n<style scoped>\n    .dataframe tbody tr th:only-of-type {\n        vertical-align: middle;\n    }\n\n    .dataframe tbody tr th {\n        vertical-align: top;\n    }\n\n    .dataframe thead th {\n        text-align: right;\n    }\n</style>\n<table border=\"1\" class=\"dataframe\">\n  <thead>\n    <tr style=\"text-align: right;\">\n      <th></th>\n      <th>connectivity</th>\n      <th>CID</th>\n      <th>chembl_id</th>\n      <th>molregno</th>\n      <th>pref_name</th>\n      <th>max_phase</th>\n      <th>therapeutic_flag</th>\n      <th>natural_product</th>\n      <th>molecule_type</th>\n      <th>first_approval</th>\n      <th>...</th>\n      <th>pref_name_child</th>\n      <th>max_phase_child</th>\n      <th>accession_child</th>\n      <th>mutation_child</th>\n      <th>mechanism_of_action_child</th>\n      <th>action_type_child</th>\n      <th>mechanism_comment_child</th>\n      <th>selectivity_comment_child</th>\n      <th>indications_child</th>\n      <th>cluster</th>\n    </tr>\n  </thead>\n  <tbody>\n    <tr>\n      <th>0</th>\n      <td>AAFHSECTTHOVFV</td>\n      <td>CHEMBL2029442</td>\n      <td>CHEMBL2029442</td>\n      <td>1341486</td>\n      <td>NaN</td>\n      <td>0</td>\n      <td>0</td>\n      <td>-1</td>\n      <td>Small molecule</td>\n      <td>NaN</td>\n      <td>...</td>\n      <td>NaN</td>\n      <td>NaN</td>\n      <td>NaN</td>\n      <td>NaN</td>\n      <td>NaN</td>\n      <td>NaN</td>\n      <td>NaN</td>\n      <td>NaN</td>\n      <td>NaN</td>\n      <td>1</td>\n    </tr>\n    <tr>\n      <th>1</th>\n      <td>AAKJLRGGTJKAMG</td>\n      <td>CHEMBL553</td>\n      <td>CHEMBL553</td>\n      <td>14785</td>\n      <td>ERLOTINIB</td>\n      <td>4</td>\n      <td>1</td>\n      <td>0</td>\n      <td>Small molecule</td>\n      <td>2004.0</td>\n      <td>...</td>\n      <td>ERLOTINIB HYDROCHLORIDE</td>\n      <td>4</td>\n      <td>P00533</td>\n      <td>NaN</td>\n      <td>Epidermal growth factor receptor erbB1 inhibitor</td>\n      <td>INHIBITOR</td>\n      <td>NaN</td>\n      <td>NaN</td>\n      <td>Astrocytoma (1.0);Glioma (1.0);Meningioma (1.0...</td>\n      <td>2</td>\n    </tr>\n    <tr>\n      <th>2</th>\n      <td>ABEGTFCLSXRJQE</td>\n      <td>CHEMBL4077228</td>\n      <td>CHEMBL4077228</td>\n      <td>2217139</td>\n      <td>NaN</td>\n      <td>0</td>\n      <td>0</td>\n      <td>-1</td>\n      <td>Small molecule</td>\n      <td>NaN</td>\n      <td>...</td>\n      <td>NaN</td>\n      <td>NaN</td>\n      <td>NaN</td>\n      <td>NaN</td>\n      <td>NaN</td>\n      <td>NaN</td>\n      <td>NaN</td>\n      <td>NaN</td>\n      <td>NaN</td>\n      <td>10</td>\n    </tr>\n    <tr>\n      <th>3</th>\n      <td>ABGXDJDXYCHCQN</td>\n      <td>CHEMBL4778502</td>\n      <td>CHEMBL4778502</td>\n      <td>2515093</td>\n      <td>NaN</td>\n      <td>0</td>\n      <td>0</td>\n      <td>-1</td>\n      <td>NaN</td>\n      <td>NaN</td>\n      <td>...</td>\n      <td>NaN</td>\n      <td>NaN</td>\n      <td>NaN</td>\n      <td>NaN</td>\n      <td>NaN</td>\n      <td>NaN</td>\n      <td>NaN</td>\n      <td>NaN</td>\n      <td>NaN</td>\n      <td>7</td>\n    </tr>\n    <tr>\n      <th>4</th>\n      <td>ABHDYLBMXLXCKE</td>\n      <td>CHEMBL4548481</td>\n      <td>CHEMBL4548481</td>\n      <td>2418909</td>\n      <td>NaN</td>\n      <td>0</td>\n      <td>0</td>\n      <td>-1</td>\n      <td>NaN</td>\n      <td>NaN</td>\n      <td>...</td>\n      <td>NaN</td>\n      <td>NaN</td>\n      <td>NaN</td>\n      <td>NaN</td>\n      <td>NaN</td>\n      <td>NaN</td>\n      <td>NaN</td>\n      <td>NaN</td>\n      <td>NaN</td>\n      <td>38</td>\n    </tr>\n    <tr>\n      <th>...</th>\n      <td>...</td>\n      <td>...</td>\n      <td>...</td>\n      <td>...</td>\n      <td>...</td>\n      <td>...</td>\n      <td>...</td>\n      <td>...</td>\n      <td>...</td>\n      <td>...</td>\n      <td>...</td>\n      <td>...</td>\n      <td>...</td>\n      <td>...</td>\n      <td>...</td>\n      <td>...</td>\n      <td>...</td>\n      <td>...</td>\n      <td>...</td>\n      <td>...</td>\n      <td>...</td>\n    </tr>\n    <tr>\n      <th>1214</th>\n      <td>ZYZAJOCFJDOSLF</td>\n      <td>CHEMBL3353406</td>\n      <td>CHEMBL3353406</td>\n      <td>1817514</td>\n      <td>NaN</td>\n      <td>0</td>\n      <td>0</td>\n      <td>-1</td>\n      <td>Small molecule</td>\n      <td>NaN</td>\n      <td>...</td>\n      <td>NaN</td>\n      <td>NaN</td>\n      <td>NaN</td>\n      <td>NaN</td>\n      <td>NaN</td>\n      <td>NaN</td>\n      <td>NaN</td>\n      <td>NaN</td>\n      <td>NaN</td>\n      <td>1</td>\n    </tr>\n    <tr>\n      <th>1215</th>\n      <td>ZZGGOXMEIWLVTJ</td>\n      <td>CHEMBL2029432</td>\n      <td>CHEMBL2029432</td>\n      <td>1341476</td>\n      <td>NaN</td>\n      <td>0</td>\n      <td>0</td>\n      <td>-1</td>\n      <td>Small molecule</td>\n      <td>NaN</td>\n      <td>...</td>\n      <td>NaN</td>\n      <td>NaN</td>\n      <td>NaN</td>\n      <td>NaN</td>\n      <td>NaN</td>\n      <td>NaN</td>\n      <td>NaN</td>\n      <td>NaN</td>\n      <td>NaN</td>\n      <td>1</td>\n    </tr>\n    <tr>\n      <th>1216</th>\n      <td>ZZHGYQVOTUDVEE</td>\n      <td>CHEMBL4276842</td>\n      <td>CHEMBL4276842</td>\n      <td>2316293</td>\n      <td>NaN</td>\n      <td>0</td>\n      <td>0</td>\n      <td>-1</td>\n      <td>Small molecule</td>\n      <td>NaN</td>\n      <td>...</td>\n      <td>NaN</td>\n      <td>NaN</td>\n      <td>NaN</td>\n      <td>NaN</td>\n      <td>NaN</td>\n      <td>NaN</td>\n      <td>NaN</td>\n      <td>NaN</td>\n      <td>NaN</td>\n      <td>3</td>\n    </tr>\n    <tr>\n      <th>1217</th>\n      <td>ZZSBPGIGIUFJRA</td>\n      <td>CHEMBL338956;CHEMBL1240703</td>\n      <td>CHEMBL338956;CHEMBL1240703</td>\n      <td>215441;699914</td>\n      <td>nan;CGP-52421</td>\n      <td>0</td>\n      <td>0</td>\n      <td>-1</td>\n      <td>Small molecule</td>\n      <td>NaN</td>\n      <td>...</td>\n      <td>NaN</td>\n      <td>NaN</td>\n      <td>NaN</td>\n      <td>NaN</td>\n      <td>NaN</td>\n      <td>NaN</td>\n      <td>NaN</td>\n      <td>NaN</td>\n      <td>NaN</td>\n      <td>37</td>\n    </tr>\n    <tr>\n      <th>1218</th>\n      <td>ZZVIASMIOWABNB</td>\n      <td>CHEMBL4570293</td>\n      <td>CHEMBL4570293</td>\n      <td>2440724</td>\n      <td>NaN</td>\n      <td>0</td>\n      <td>0</td>\n      <td>-1</td>\n      <td>NaN</td>\n      <td>NaN</td>\n      <td>...</td>\n      <td>NaN</td>\n      <td>NaN</td>\n      <td>NaN</td>\n      <td>NaN</td>\n      <td>NaN</td>\n      <td>NaN</td>\n      <td>NaN</td>\n      <td>NaN</td>\n      <td>NaN</td>\n      <td>1</td>\n    </tr>\n  </tbody>\n</table>\n<p>1219 rows × 39 columns</p>\n</div>"
     },
     "execution_count": 13,
     "metadata": {},
     "output_type": "execute_result"
    }
   ],
   "source": [
    "# Annotate cluster compounds with ChEMBL information\n",
    "cluster_df_unique = annotate_cluster_compounds(cluster_compounds, mapped_compounds)\n",
    "cluster_df_unique"
   ],
   "metadata": {
    "collapsed": false,
    "ExecuteTime": {
     "end_time": "2023-12-19T18:28:09.501156400Z",
     "start_time": "2023-12-19T18:28:07.123063900Z"
    }
   },
   "id": "485440344923ccf3"
  },
  {
   "cell_type": "code",
   "execution_count": 14,
   "outputs": [
    {
     "name": "stdout",
     "output_type": "stream",
     "text": [
      "Number of clusters with at least one (parent or child) compound satisfying the condition: 11 (0.09%)\n"
     ]
    },
    {
     "data": {
      "text/plain": "         P00533_MOA  P00533_MOA_child  P00533_MOA_total\ncluster                                                \n2                 7                 3                10\n1                 2                 0                 2\n11                2                 0                 2\n16                1                 0                 1\n20                1                 0                 1\n...             ...               ...               ...\n113               0                 0                 0\n115               0                 0                 0\n116               0                 0                 0\n117               0                 0                 0\n118               0                 0                 0\n\n[118 rows x 3 columns]",
      "text/html": "<div>\n<style scoped>\n    .dataframe tbody tr th:only-of-type {\n        vertical-align: middle;\n    }\n\n    .dataframe tbody tr th {\n        vertical-align: top;\n    }\n\n    .dataframe thead th {\n        text-align: right;\n    }\n</style>\n<table border=\"1\" class=\"dataframe\">\n  <thead>\n    <tr style=\"text-align: right;\">\n      <th></th>\n      <th>P00533_MOA</th>\n      <th>P00533_MOA_child</th>\n      <th>P00533_MOA_total</th>\n    </tr>\n    <tr>\n      <th>cluster</th>\n      <th></th>\n      <th></th>\n      <th></th>\n    </tr>\n  </thead>\n  <tbody>\n    <tr>\n      <th>2</th>\n      <td>7</td>\n      <td>3</td>\n      <td>10</td>\n    </tr>\n    <tr>\n      <th>1</th>\n      <td>2</td>\n      <td>0</td>\n      <td>2</td>\n    </tr>\n    <tr>\n      <th>11</th>\n      <td>2</td>\n      <td>0</td>\n      <td>2</td>\n    </tr>\n    <tr>\n      <th>16</th>\n      <td>1</td>\n      <td>0</td>\n      <td>1</td>\n    </tr>\n    <tr>\n      <th>20</th>\n      <td>1</td>\n      <td>0</td>\n      <td>1</td>\n    </tr>\n    <tr>\n      <th>...</th>\n      <td>...</td>\n      <td>...</td>\n      <td>...</td>\n    </tr>\n    <tr>\n      <th>113</th>\n      <td>0</td>\n      <td>0</td>\n      <td>0</td>\n    </tr>\n    <tr>\n      <th>115</th>\n      <td>0</td>\n      <td>0</td>\n      <td>0</td>\n    </tr>\n    <tr>\n      <th>116</th>\n      <td>0</td>\n      <td>0</td>\n      <td>0</td>\n    </tr>\n    <tr>\n      <th>117</th>\n      <td>0</td>\n      <td>0</td>\n      <td>0</td>\n    </tr>\n    <tr>\n      <th>118</th>\n      <td>0</td>\n      <td>0</td>\n      <td>0</td>\n    </tr>\n  </tbody>\n</table>\n<p>118 rows × 3 columns</p>\n</div>"
     },
     "execution_count": 14,
     "metadata": {},
     "output_type": "execute_result"
    }
   ],
   "source": [
    "# Check how many compounds per cluster are linked to the analysis accession in their MOA\n",
    "explore_cluster_compound_info(cluster_df_unique, analysis_accession, analysis_type='MOA', output_type='stats', \n",
    "                              sort='both')"
   ],
   "metadata": {
    "collapsed": false,
    "ExecuteTime": {
     "end_time": "2023-12-19T18:28:09.734453200Z",
     "start_time": "2023-12-19T18:28:09.501156400Z"
    }
   },
   "id": "d4e1120a770b6cc7"
  },
  {
   "cell_type": "code",
   "execution_count": 15,
   "outputs": [
    {
     "data": {
      "text/plain": "        connectivity     pref_name  \\\n203   DUYJMQONPNNFPI   OSIMERTINIB   \n359   HUFOZJXAKZVRNJ   ROCILETINIB   \n1     AAKJLRGGTJKAMG     ERLOTINIB   \n1050  WVUNYSQLFKLYNI     PELITINIB   \n929   ULXXDDBFHOBEHA      AFATINIB   \n917   UHTHHESEBZOYNR    VANDETANIB   \n688   OMZCMEYTWSXEPZ    CANERTINIB   \n611   MXDSJQHFFDGFDK      AZD-3759   \n556   LVXJQMNHJWSHET   DACOMITINIB   \n1063  XGALLCVXEZPNRQ     GEFITINIB   \n547   LPFWVDIFUFFKJU    POZIOTINIB   \n457   JWNPDZNEKVCWMY     NERATINIB   \n221   FDMQDKQUTRLUBU     OLMUTINIB   \n935   UOFYSRZSLXWIQB   ABIVERTINIB   \n459   JYIUNVOCEFIUIU  MAVELERTINIB   \n392   IOMMMLWIABWRKL    NAZARTINIB   \n678   ODMXWZROLKITMS   PF-06459988   \n1213  ZYQXEVJIFYIBHZ       TAK-285   \n18    AILRADAXUVEEIR    BRIGATINIB   \n61    BCFGMOOMADDAQU     LAPATINIB   \n777   QKDCLUARMDUUKN    NAQUOTINIB   \n190   DKNUPRMJNUQNHR     CEP-32496   \n\n                                              accession       accession_child  \\\n203                                              P00533                   NaN   \n359                                              P00533                   NaN   \n1                                                   NaN                P00533   \n1050                                             P00533                   NaN   \n929                                                 NaN  P00533;P04626;Q15303   \n917   P29317;P29323;P54756;P54764;P29322;Q9UF33;Q153...                   NaN   \n688                                                 NaN  P00533;P04626;Q15303   \n611                                              P00533                   NaN   \n556                                P00533;P04626;Q15303                   NaN   \n1063                                             P00533                   NaN   \n547                         P04626;P00533;Q15303;P21860                   NaN   \n457                                P00533;P04626;Q15303                   NaN   \n221                                              P00533                   NaN   \n935                                       P00533;Q06187                   NaN   \n459                                              P00533                   NaN   \n392                                              P00533                   NaN   \n678                                              P00533                   NaN   \n1213                                      P00533;P04626                   NaN   \n18                                        Q9UM73;P00533                   NaN   \n61                                                  NaN     nan;P00533;P04626   \n777                                              P00533                   NaN   \n190                                P00533;P15056;P07949                   NaN   \n\n                                        mutation max_phase  cluster  \n203                                        T790M         4        1  \n359                                          NaN         3        1  \n1                                            NaN         4        2  \n1050                                         NaN         2        2  \n929                                          NaN         4        2  \n917                                          NaN         4        2  \n688                                          NaN         3        2  \n611                                          NaN         2        2  \n556                                          NaN         4        2  \n1063                                         NaN         4        2  \n547                                          NaN         2        2  \n457                                          NaN         4        2  \n221                                        T790M         2       11  \n935                 UNDEFINED MUTATION;T790M;nan         3       11  \n459   UNDEFINED MUTATION;L858R;T790M;T790M,L858M         2       16  \n392                                          NaN         2       20  \n678                                        T790M         2       29  \n1213                                         NaN         1       43  \n18                                           NaN         4       45  \n61                                           NaN         4       46  \n777                                          NaN         3       88  \n190                                          NaN         1      114  ",
      "text/html": "<div>\n<style scoped>\n    .dataframe tbody tr th:only-of-type {\n        vertical-align: middle;\n    }\n\n    .dataframe tbody tr th {\n        vertical-align: top;\n    }\n\n    .dataframe thead th {\n        text-align: right;\n    }\n</style>\n<table border=\"1\" class=\"dataframe\">\n  <thead>\n    <tr style=\"text-align: right;\">\n      <th></th>\n      <th>connectivity</th>\n      <th>pref_name</th>\n      <th>accession</th>\n      <th>accession_child</th>\n      <th>mutation</th>\n      <th>max_phase</th>\n      <th>cluster</th>\n    </tr>\n  </thead>\n  <tbody>\n    <tr>\n      <th>203</th>\n      <td>DUYJMQONPNNFPI</td>\n      <td>OSIMERTINIB</td>\n      <td>P00533</td>\n      <td>NaN</td>\n      <td>T790M</td>\n      <td>4</td>\n      <td>1</td>\n    </tr>\n    <tr>\n      <th>359</th>\n      <td>HUFOZJXAKZVRNJ</td>\n      <td>ROCILETINIB</td>\n      <td>P00533</td>\n      <td>NaN</td>\n      <td>NaN</td>\n      <td>3</td>\n      <td>1</td>\n    </tr>\n    <tr>\n      <th>1</th>\n      <td>AAKJLRGGTJKAMG</td>\n      <td>ERLOTINIB</td>\n      <td>NaN</td>\n      <td>P00533</td>\n      <td>NaN</td>\n      <td>4</td>\n      <td>2</td>\n    </tr>\n    <tr>\n      <th>1050</th>\n      <td>WVUNYSQLFKLYNI</td>\n      <td>PELITINIB</td>\n      <td>P00533</td>\n      <td>NaN</td>\n      <td>NaN</td>\n      <td>2</td>\n      <td>2</td>\n    </tr>\n    <tr>\n      <th>929</th>\n      <td>ULXXDDBFHOBEHA</td>\n      <td>AFATINIB</td>\n      <td>NaN</td>\n      <td>P00533;P04626;Q15303</td>\n      <td>NaN</td>\n      <td>4</td>\n      <td>2</td>\n    </tr>\n    <tr>\n      <th>917</th>\n      <td>UHTHHESEBZOYNR</td>\n      <td>VANDETANIB</td>\n      <td>P29317;P29323;P54756;P54764;P29322;Q9UF33;Q153...</td>\n      <td>NaN</td>\n      <td>NaN</td>\n      <td>4</td>\n      <td>2</td>\n    </tr>\n    <tr>\n      <th>688</th>\n      <td>OMZCMEYTWSXEPZ</td>\n      <td>CANERTINIB</td>\n      <td>NaN</td>\n      <td>P00533;P04626;Q15303</td>\n      <td>NaN</td>\n      <td>3</td>\n      <td>2</td>\n    </tr>\n    <tr>\n      <th>611</th>\n      <td>MXDSJQHFFDGFDK</td>\n      <td>AZD-3759</td>\n      <td>P00533</td>\n      <td>NaN</td>\n      <td>NaN</td>\n      <td>2</td>\n      <td>2</td>\n    </tr>\n    <tr>\n      <th>556</th>\n      <td>LVXJQMNHJWSHET</td>\n      <td>DACOMITINIB</td>\n      <td>P00533;P04626;Q15303</td>\n      <td>NaN</td>\n      <td>NaN</td>\n      <td>4</td>\n      <td>2</td>\n    </tr>\n    <tr>\n      <th>1063</th>\n      <td>XGALLCVXEZPNRQ</td>\n      <td>GEFITINIB</td>\n      <td>P00533</td>\n      <td>NaN</td>\n      <td>NaN</td>\n      <td>4</td>\n      <td>2</td>\n    </tr>\n    <tr>\n      <th>547</th>\n      <td>LPFWVDIFUFFKJU</td>\n      <td>POZIOTINIB</td>\n      <td>P04626;P00533;Q15303;P21860</td>\n      <td>NaN</td>\n      <td>NaN</td>\n      <td>2</td>\n      <td>2</td>\n    </tr>\n    <tr>\n      <th>457</th>\n      <td>JWNPDZNEKVCWMY</td>\n      <td>NERATINIB</td>\n      <td>P00533;P04626;Q15303</td>\n      <td>NaN</td>\n      <td>NaN</td>\n      <td>4</td>\n      <td>2</td>\n    </tr>\n    <tr>\n      <th>221</th>\n      <td>FDMQDKQUTRLUBU</td>\n      <td>OLMUTINIB</td>\n      <td>P00533</td>\n      <td>NaN</td>\n      <td>T790M</td>\n      <td>2</td>\n      <td>11</td>\n    </tr>\n    <tr>\n      <th>935</th>\n      <td>UOFYSRZSLXWIQB</td>\n      <td>ABIVERTINIB</td>\n      <td>P00533;Q06187</td>\n      <td>NaN</td>\n      <td>UNDEFINED MUTATION;T790M;nan</td>\n      <td>3</td>\n      <td>11</td>\n    </tr>\n    <tr>\n      <th>459</th>\n      <td>JYIUNVOCEFIUIU</td>\n      <td>MAVELERTINIB</td>\n      <td>P00533</td>\n      <td>NaN</td>\n      <td>UNDEFINED MUTATION;L858R;T790M;T790M,L858M</td>\n      <td>2</td>\n      <td>16</td>\n    </tr>\n    <tr>\n      <th>392</th>\n      <td>IOMMMLWIABWRKL</td>\n      <td>NAZARTINIB</td>\n      <td>P00533</td>\n      <td>NaN</td>\n      <td>NaN</td>\n      <td>2</td>\n      <td>20</td>\n    </tr>\n    <tr>\n      <th>678</th>\n      <td>ODMXWZROLKITMS</td>\n      <td>PF-06459988</td>\n      <td>P00533</td>\n      <td>NaN</td>\n      <td>T790M</td>\n      <td>2</td>\n      <td>29</td>\n    </tr>\n    <tr>\n      <th>1213</th>\n      <td>ZYQXEVJIFYIBHZ</td>\n      <td>TAK-285</td>\n      <td>P00533;P04626</td>\n      <td>NaN</td>\n      <td>NaN</td>\n      <td>1</td>\n      <td>43</td>\n    </tr>\n    <tr>\n      <th>18</th>\n      <td>AILRADAXUVEEIR</td>\n      <td>BRIGATINIB</td>\n      <td>Q9UM73;P00533</td>\n      <td>NaN</td>\n      <td>NaN</td>\n      <td>4</td>\n      <td>45</td>\n    </tr>\n    <tr>\n      <th>61</th>\n      <td>BCFGMOOMADDAQU</td>\n      <td>LAPATINIB</td>\n      <td>NaN</td>\n      <td>nan;P00533;P04626</td>\n      <td>NaN</td>\n      <td>4</td>\n      <td>46</td>\n    </tr>\n    <tr>\n      <th>777</th>\n      <td>QKDCLUARMDUUKN</td>\n      <td>NAQUOTINIB</td>\n      <td>P00533</td>\n      <td>NaN</td>\n      <td>NaN</td>\n      <td>3</td>\n      <td>88</td>\n    </tr>\n    <tr>\n      <th>190</th>\n      <td>DKNUPRMJNUQNHR</td>\n      <td>CEP-32496</td>\n      <td>P00533;P15056;P07949</td>\n      <td>NaN</td>\n      <td>NaN</td>\n      <td>1</td>\n      <td>114</td>\n    </tr>\n  </tbody>\n</table>\n</div>"
     },
     "execution_count": 15,
     "metadata": {},
     "output_type": "execute_result"
    }
   ],
   "source": [
    "# Check which compounds are linked to the analysis accession in their MOA\n",
    "explore_cluster_compound_info(cluster_df_unique, analysis_accession, analysis_type='MOA', output_type='df', \n",
    "                              sort='both')"
   ],
   "metadata": {
    "collapsed": false,
    "ExecuteTime": {
     "end_time": "2023-12-19T18:28:09.987278300Z",
     "start_time": "2023-12-19T18:28:09.734453200Z"
    }
   },
   "id": "f83c9bd5a52d4422"
  },
  {
   "cell_type": "code",
   "execution_count": 16,
   "outputs": [
    {
     "name": "stdout",
     "output_type": "stream",
     "text": [
      "Number of clusters with at least one (parent or child) compound satisfying the condition: 4 (0.03%)\n"
     ]
    },
    {
     "data": {
      "text/plain": "         P00533_mutation  P00533_mutation_child  P00533_mutation_total\ncluster                                                               \n11                     2                      0                      2\n1                      1                      0                      1\n16                     1                      0                      1\n29                     1                      0                      1\n2                      0                      0                      0\n...                  ...                    ...                    ...\n114                    0                      0                      0\n115                    0                      0                      0\n116                    0                      0                      0\n117                    0                      0                      0\n118                    0                      0                      0\n\n[118 rows x 3 columns]",
      "text/html": "<div>\n<style scoped>\n    .dataframe tbody tr th:only-of-type {\n        vertical-align: middle;\n    }\n\n    .dataframe tbody tr th {\n        vertical-align: top;\n    }\n\n    .dataframe thead th {\n        text-align: right;\n    }\n</style>\n<table border=\"1\" class=\"dataframe\">\n  <thead>\n    <tr style=\"text-align: right;\">\n      <th></th>\n      <th>P00533_mutation</th>\n      <th>P00533_mutation_child</th>\n      <th>P00533_mutation_total</th>\n    </tr>\n    <tr>\n      <th>cluster</th>\n      <th></th>\n      <th></th>\n      <th></th>\n    </tr>\n  </thead>\n  <tbody>\n    <tr>\n      <th>11</th>\n      <td>2</td>\n      <td>0</td>\n      <td>2</td>\n    </tr>\n    <tr>\n      <th>1</th>\n      <td>1</td>\n      <td>0</td>\n      <td>1</td>\n    </tr>\n    <tr>\n      <th>16</th>\n      <td>1</td>\n      <td>0</td>\n      <td>1</td>\n    </tr>\n    <tr>\n      <th>29</th>\n      <td>1</td>\n      <td>0</td>\n      <td>1</td>\n    </tr>\n    <tr>\n      <th>2</th>\n      <td>0</td>\n      <td>0</td>\n      <td>0</td>\n    </tr>\n    <tr>\n      <th>...</th>\n      <td>...</td>\n      <td>...</td>\n      <td>...</td>\n    </tr>\n    <tr>\n      <th>114</th>\n      <td>0</td>\n      <td>0</td>\n      <td>0</td>\n    </tr>\n    <tr>\n      <th>115</th>\n      <td>0</td>\n      <td>0</td>\n      <td>0</td>\n    </tr>\n    <tr>\n      <th>116</th>\n      <td>0</td>\n      <td>0</td>\n      <td>0</td>\n    </tr>\n    <tr>\n      <th>117</th>\n      <td>0</td>\n      <td>0</td>\n      <td>0</td>\n    </tr>\n    <tr>\n      <th>118</th>\n      <td>0</td>\n      <td>0</td>\n      <td>0</td>\n    </tr>\n  </tbody>\n</table>\n<p>118 rows × 3 columns</p>\n</div>"
     },
     "execution_count": 16,
     "metadata": {},
     "output_type": "execute_result"
    }
   ],
   "source": [
    "# Check how many compounds per cluster are linked to a mutation in their MOA\n",
    "explore_cluster_compound_info(cluster_df_unique, analysis_accession, analysis_type='mutation', \n",
    "                              output_type='stats', sort='both')"
   ],
   "metadata": {
    "collapsed": false,
    "ExecuteTime": {
     "end_time": "2023-12-19T18:28:10.278939600Z",
     "start_time": "2023-12-19T18:28:09.987278300Z"
    }
   },
   "id": "b896a453dd93274d"
  },
  {
   "cell_type": "code",
   "execution_count": 17,
   "outputs": [
    {
     "data": {
      "text/plain": "       connectivity     pref_name      accession  \\\n203  DUYJMQONPNNFPI   OSIMERTINIB         P00533   \n221  FDMQDKQUTRLUBU     OLMUTINIB         P00533   \n935  UOFYSRZSLXWIQB   ABIVERTINIB  P00533;Q06187   \n459  JYIUNVOCEFIUIU  MAVELERTINIB         P00533   \n678  ODMXWZROLKITMS   PF-06459988         P00533   \n\n                                       mutation  mutation_child max_phase  \\\n203                                       T790M             NaN         4   \n221                                       T790M             NaN         2   \n935                UNDEFINED MUTATION;T790M;nan             NaN         3   \n459  UNDEFINED MUTATION;L858R;T790M;T790M,L858M             NaN         2   \n678                                       T790M             NaN         2   \n\n     cluster  \n203        1  \n221       11  \n935       11  \n459       16  \n678       29  ",
      "text/html": "<div>\n<style scoped>\n    .dataframe tbody tr th:only-of-type {\n        vertical-align: middle;\n    }\n\n    .dataframe tbody tr th {\n        vertical-align: top;\n    }\n\n    .dataframe thead th {\n        text-align: right;\n    }\n</style>\n<table border=\"1\" class=\"dataframe\">\n  <thead>\n    <tr style=\"text-align: right;\">\n      <th></th>\n      <th>connectivity</th>\n      <th>pref_name</th>\n      <th>accession</th>\n      <th>mutation</th>\n      <th>mutation_child</th>\n      <th>max_phase</th>\n      <th>cluster</th>\n    </tr>\n  </thead>\n  <tbody>\n    <tr>\n      <th>203</th>\n      <td>DUYJMQONPNNFPI</td>\n      <td>OSIMERTINIB</td>\n      <td>P00533</td>\n      <td>T790M</td>\n      <td>NaN</td>\n      <td>4</td>\n      <td>1</td>\n    </tr>\n    <tr>\n      <th>221</th>\n      <td>FDMQDKQUTRLUBU</td>\n      <td>OLMUTINIB</td>\n      <td>P00533</td>\n      <td>T790M</td>\n      <td>NaN</td>\n      <td>2</td>\n      <td>11</td>\n    </tr>\n    <tr>\n      <th>935</th>\n      <td>UOFYSRZSLXWIQB</td>\n      <td>ABIVERTINIB</td>\n      <td>P00533;Q06187</td>\n      <td>UNDEFINED MUTATION;T790M;nan</td>\n      <td>NaN</td>\n      <td>3</td>\n      <td>11</td>\n    </tr>\n    <tr>\n      <th>459</th>\n      <td>JYIUNVOCEFIUIU</td>\n      <td>MAVELERTINIB</td>\n      <td>P00533</td>\n      <td>UNDEFINED MUTATION;L858R;T790M;T790M,L858M</td>\n      <td>NaN</td>\n      <td>2</td>\n      <td>16</td>\n    </tr>\n    <tr>\n      <th>678</th>\n      <td>ODMXWZROLKITMS</td>\n      <td>PF-06459988</td>\n      <td>P00533</td>\n      <td>T790M</td>\n      <td>NaN</td>\n      <td>2</td>\n      <td>29</td>\n    </tr>\n  </tbody>\n</table>\n</div>"
     },
     "execution_count": 17,
     "metadata": {},
     "output_type": "execute_result"
    }
   ],
   "source": [
    "# Check which mutations\n",
    "explore_cluster_compound_info(cluster_df_unique, analysis_accession, analysis_type='mutation', output_type='df', \n",
    "                              sort='both')"
   ],
   "metadata": {
    "collapsed": false,
    "ExecuteTime": {
     "end_time": "2023-12-19T18:28:10.503334900Z",
     "start_time": "2023-12-19T18:28:10.278939600Z"
    }
   },
   "id": "321164f4e17f0305"
  },
  {
   "cell_type": "code",
   "execution_count": 18,
   "outputs": [
    {
     "name": "stdout",
     "output_type": "stream",
     "text": [
      "Number of clusters with at least one (parent or child) compound satisfying the condition: 18 (0.15%)\n"
     ]
    },
    {
     "data": {
      "text/plain": "         approved  approved_child  approved_total\ncluster                                          \n2               6               0               6\n1               1               0               1\n6               1               0               1\n13              1               0               1\n27              1               0               1\n...           ...             ...             ...\n112             0               0               0\n113             0               0               0\n114             0               0               0\n116             0               0               0\n118             0               0               0\n\n[118 rows x 3 columns]",
      "text/html": "<div>\n<style scoped>\n    .dataframe tbody tr th:only-of-type {\n        vertical-align: middle;\n    }\n\n    .dataframe tbody tr th {\n        vertical-align: top;\n    }\n\n    .dataframe thead th {\n        text-align: right;\n    }\n</style>\n<table border=\"1\" class=\"dataframe\">\n  <thead>\n    <tr style=\"text-align: right;\">\n      <th></th>\n      <th>approved</th>\n      <th>approved_child</th>\n      <th>approved_total</th>\n    </tr>\n    <tr>\n      <th>cluster</th>\n      <th></th>\n      <th></th>\n      <th></th>\n    </tr>\n  </thead>\n  <tbody>\n    <tr>\n      <th>2</th>\n      <td>6</td>\n      <td>0</td>\n      <td>6</td>\n    </tr>\n    <tr>\n      <th>1</th>\n      <td>1</td>\n      <td>0</td>\n      <td>1</td>\n    </tr>\n    <tr>\n      <th>6</th>\n      <td>1</td>\n      <td>0</td>\n      <td>1</td>\n    </tr>\n    <tr>\n      <th>13</th>\n      <td>1</td>\n      <td>0</td>\n      <td>1</td>\n    </tr>\n    <tr>\n      <th>27</th>\n      <td>1</td>\n      <td>0</td>\n      <td>1</td>\n    </tr>\n    <tr>\n      <th>...</th>\n      <td>...</td>\n      <td>...</td>\n      <td>...</td>\n    </tr>\n    <tr>\n      <th>112</th>\n      <td>0</td>\n      <td>0</td>\n      <td>0</td>\n    </tr>\n    <tr>\n      <th>113</th>\n      <td>0</td>\n      <td>0</td>\n      <td>0</td>\n    </tr>\n    <tr>\n      <th>114</th>\n      <td>0</td>\n      <td>0</td>\n      <td>0</td>\n    </tr>\n    <tr>\n      <th>116</th>\n      <td>0</td>\n      <td>0</td>\n      <td>0</td>\n    </tr>\n    <tr>\n      <th>118</th>\n      <td>0</td>\n      <td>0</td>\n      <td>0</td>\n    </tr>\n  </tbody>\n</table>\n<p>118 rows × 3 columns</p>\n</div>"
     },
     "execution_count": 18,
     "metadata": {},
     "output_type": "execute_result"
    }
   ],
   "source": [
    "# Check how many compounds per cluster are approved\n",
    "# Check how many compounds per cluster are approved\n",
    "explore_cluster_compound_info(cluster_df_unique, analysis_accession, analysis_type='approval', \n",
    "                              output_type='stats',sort='both')"
   ],
   "metadata": {
    "collapsed": false,
    "ExecuteTime": {
     "end_time": "2023-12-19T18:28:10.988504700Z",
     "start_time": "2023-12-19T18:28:10.503334900Z"
    }
   },
   "id": "c884d3b8e669d636"
  },
  {
   "cell_type": "code",
   "execution_count": 19,
   "outputs": [
    {
     "data": {
      "text/plain": "        connectivity        pref_name  \\\n203   DUYJMQONPNNFPI      OSIMERTINIB   \n1     AAKJLRGGTJKAMG        ERLOTINIB   \n1063  XGALLCVXEZPNRQ        GEFITINIB   \n929   ULXXDDBFHOBEHA         AFATINIB   \n917   UHTHHESEBZOYNR       VANDETANIB   \n457   JWNPDZNEKVCWMY        NERATINIB   \n556   LVXJQMNHJWSHET      DACOMITINIB   \n1101  XYFPWWZEPKGCCK        IBRUTINIB   \n903   UBPYILGKFZZVDX        BOSUTINIB   \n505   KTUFNOKKBVMGRW     nan;IMATINIB   \n86    BMGQWWVMWDBQGC  nan;MIDOSTAURIN   \n18    AILRADAXUVEEIR       BRIGATINIB   \n61    BCFGMOOMADDAQU        LAPATINIB   \n819   RITAVMQDGBJQJZ     nan;AXITINIB   \n1027  WINHZLLDWRZWRT    nan;SUNITINIB   \n969   VERWOWGGCGHDQE        CERITINIB   \n922   UJLAWZDWDVHWOW      TOFACITINIB   \n504   KTEIFNKAUNYNJU   CRIZOTINIB;nan   \n440   JOOXLOJCABQBSG       FEDRATINIB   \n1168  ZBNZXTGUTAYRHI        DASATINIB   \n581   MLDQJTXFUGDVEO        SORAFENIB   \n174   CYOHGALHFOKKQC      SELUMETINIB   \n164   CUIHSIWYWATEQL        PAZOPANIB   \n\n                                              accession mutation max_phase  \\\n203                                              P00533    T790M         4   \n1                                                   NaN      NaN         4   \n1063                                             P00533      NaN         4   \n929                                                 NaN      NaN         4   \n917   P29317;P29323;P54756;P54764;P29322;Q9UF33;Q153...      NaN         4   \n457                                P00533;P04626;Q15303      NaN         4   \n556                                P00533;P04626;Q15303      NaN         4   \n1101                                             Q06187      NaN         4   \n903                  P00519;P11274;P08631;P07948;P12931      NaN         4   \n505                                                 NaN      NaN       0;4   \n86    nan;P09619;P16234;O94806;P41743;P17252;P05129;...      NaN       0;4   \n18                                        Q9UM73;P00533      NaN         4   \n61                                                  NaN      NaN         4   \n819                            nan;P17948;P35916;P35968      NaN       0;4   \n1027                                                NaN      NaN       0;4   \n969                                Q9UM73;Q9HC35;P06748      NaN         4   \n922                                                 NaN      NaN         4   \n504                     Q9UM73;Q9HC35;P08581;P06748;nan      NaN       4;0   \n440                                       O60674;P36888      NaN         4   \n1168  P00519;P11274;P29317;P09619;P06241;P12931;P062...      NaN         4   \n581                                                 NaN      NaN         4   \n174                                       Q02750;P36507      NaN         4   \n164                                                 NaN      NaN         4   \n\n     max_phase_child  cluster  \n203              NaN        1  \n1                  4        2  \n1063             NaN        2  \n929                4        2  \n917              NaN        2  \n457              NaN        2  \n556              NaN        2  \n1101             NaN        6  \n903              NaN       13  \n505          nan;4;0       27  \n86               NaN       37  \n18               NaN       45  \n61               0;4       46  \n819              NaN       55  \n1027         nan;4;0       56  \n969              NaN       69  \n922                4       73  \n504              NaN       79  \n440              NaN       81  \n1168             NaN       99  \n581            4;0;3      110  \n174              NaN      115  \n164                4      117  ",
      "text/html": "<div>\n<style scoped>\n    .dataframe tbody tr th:only-of-type {\n        vertical-align: middle;\n    }\n\n    .dataframe tbody tr th {\n        vertical-align: top;\n    }\n\n    .dataframe thead th {\n        text-align: right;\n    }\n</style>\n<table border=\"1\" class=\"dataframe\">\n  <thead>\n    <tr style=\"text-align: right;\">\n      <th></th>\n      <th>connectivity</th>\n      <th>pref_name</th>\n      <th>accession</th>\n      <th>mutation</th>\n      <th>max_phase</th>\n      <th>max_phase_child</th>\n      <th>cluster</th>\n    </tr>\n  </thead>\n  <tbody>\n    <tr>\n      <th>203</th>\n      <td>DUYJMQONPNNFPI</td>\n      <td>OSIMERTINIB</td>\n      <td>P00533</td>\n      <td>T790M</td>\n      <td>4</td>\n      <td>NaN</td>\n      <td>1</td>\n    </tr>\n    <tr>\n      <th>1</th>\n      <td>AAKJLRGGTJKAMG</td>\n      <td>ERLOTINIB</td>\n      <td>NaN</td>\n      <td>NaN</td>\n      <td>4</td>\n      <td>4</td>\n      <td>2</td>\n    </tr>\n    <tr>\n      <th>1063</th>\n      <td>XGALLCVXEZPNRQ</td>\n      <td>GEFITINIB</td>\n      <td>P00533</td>\n      <td>NaN</td>\n      <td>4</td>\n      <td>NaN</td>\n      <td>2</td>\n    </tr>\n    <tr>\n      <th>929</th>\n      <td>ULXXDDBFHOBEHA</td>\n      <td>AFATINIB</td>\n      <td>NaN</td>\n      <td>NaN</td>\n      <td>4</td>\n      <td>4</td>\n      <td>2</td>\n    </tr>\n    <tr>\n      <th>917</th>\n      <td>UHTHHESEBZOYNR</td>\n      <td>VANDETANIB</td>\n      <td>P29317;P29323;P54756;P54764;P29322;Q9UF33;Q153...</td>\n      <td>NaN</td>\n      <td>4</td>\n      <td>NaN</td>\n      <td>2</td>\n    </tr>\n    <tr>\n      <th>457</th>\n      <td>JWNPDZNEKVCWMY</td>\n      <td>NERATINIB</td>\n      <td>P00533;P04626;Q15303</td>\n      <td>NaN</td>\n      <td>4</td>\n      <td>NaN</td>\n      <td>2</td>\n    </tr>\n    <tr>\n      <th>556</th>\n      <td>LVXJQMNHJWSHET</td>\n      <td>DACOMITINIB</td>\n      <td>P00533;P04626;Q15303</td>\n      <td>NaN</td>\n      <td>4</td>\n      <td>NaN</td>\n      <td>2</td>\n    </tr>\n    <tr>\n      <th>1101</th>\n      <td>XYFPWWZEPKGCCK</td>\n      <td>IBRUTINIB</td>\n      <td>Q06187</td>\n      <td>NaN</td>\n      <td>4</td>\n      <td>NaN</td>\n      <td>6</td>\n    </tr>\n    <tr>\n      <th>903</th>\n      <td>UBPYILGKFZZVDX</td>\n      <td>BOSUTINIB</td>\n      <td>P00519;P11274;P08631;P07948;P12931</td>\n      <td>NaN</td>\n      <td>4</td>\n      <td>NaN</td>\n      <td>13</td>\n    </tr>\n    <tr>\n      <th>505</th>\n      <td>KTUFNOKKBVMGRW</td>\n      <td>nan;IMATINIB</td>\n      <td>NaN</td>\n      <td>NaN</td>\n      <td>0;4</td>\n      <td>nan;4;0</td>\n      <td>27</td>\n    </tr>\n    <tr>\n      <th>86</th>\n      <td>BMGQWWVMWDBQGC</td>\n      <td>nan;MIDOSTAURIN</td>\n      <td>nan;P09619;P16234;O94806;P41743;P17252;P05129;...</td>\n      <td>NaN</td>\n      <td>0;4</td>\n      <td>NaN</td>\n      <td>37</td>\n    </tr>\n    <tr>\n      <th>18</th>\n      <td>AILRADAXUVEEIR</td>\n      <td>BRIGATINIB</td>\n      <td>Q9UM73;P00533</td>\n      <td>NaN</td>\n      <td>4</td>\n      <td>NaN</td>\n      <td>45</td>\n    </tr>\n    <tr>\n      <th>61</th>\n      <td>BCFGMOOMADDAQU</td>\n      <td>LAPATINIB</td>\n      <td>NaN</td>\n      <td>NaN</td>\n      <td>4</td>\n      <td>0;4</td>\n      <td>46</td>\n    </tr>\n    <tr>\n      <th>819</th>\n      <td>RITAVMQDGBJQJZ</td>\n      <td>nan;AXITINIB</td>\n      <td>nan;P17948;P35916;P35968</td>\n      <td>NaN</td>\n      <td>0;4</td>\n      <td>NaN</td>\n      <td>55</td>\n    </tr>\n    <tr>\n      <th>1027</th>\n      <td>WINHZLLDWRZWRT</td>\n      <td>nan;SUNITINIB</td>\n      <td>NaN</td>\n      <td>NaN</td>\n      <td>0;4</td>\n      <td>nan;4;0</td>\n      <td>56</td>\n    </tr>\n    <tr>\n      <th>969</th>\n      <td>VERWOWGGCGHDQE</td>\n      <td>CERITINIB</td>\n      <td>Q9UM73;Q9HC35;P06748</td>\n      <td>NaN</td>\n      <td>4</td>\n      <td>NaN</td>\n      <td>69</td>\n    </tr>\n    <tr>\n      <th>922</th>\n      <td>UJLAWZDWDVHWOW</td>\n      <td>TOFACITINIB</td>\n      <td>NaN</td>\n      <td>NaN</td>\n      <td>4</td>\n      <td>4</td>\n      <td>73</td>\n    </tr>\n    <tr>\n      <th>504</th>\n      <td>KTEIFNKAUNYNJU</td>\n      <td>CRIZOTINIB;nan</td>\n      <td>Q9UM73;Q9HC35;P08581;P06748;nan</td>\n      <td>NaN</td>\n      <td>4;0</td>\n      <td>NaN</td>\n      <td>79</td>\n    </tr>\n    <tr>\n      <th>440</th>\n      <td>JOOXLOJCABQBSG</td>\n      <td>FEDRATINIB</td>\n      <td>O60674;P36888</td>\n      <td>NaN</td>\n      <td>4</td>\n      <td>NaN</td>\n      <td>81</td>\n    </tr>\n    <tr>\n      <th>1168</th>\n      <td>ZBNZXTGUTAYRHI</td>\n      <td>DASATINIB</td>\n      <td>P00519;P11274;P29317;P09619;P06241;P12931;P062...</td>\n      <td>NaN</td>\n      <td>4</td>\n      <td>NaN</td>\n      <td>99</td>\n    </tr>\n    <tr>\n      <th>581</th>\n      <td>MLDQJTXFUGDVEO</td>\n      <td>SORAFENIB</td>\n      <td>NaN</td>\n      <td>NaN</td>\n      <td>4</td>\n      <td>4;0;3</td>\n      <td>110</td>\n    </tr>\n    <tr>\n      <th>174</th>\n      <td>CYOHGALHFOKKQC</td>\n      <td>SELUMETINIB</td>\n      <td>Q02750;P36507</td>\n      <td>NaN</td>\n      <td>4</td>\n      <td>NaN</td>\n      <td>115</td>\n    </tr>\n    <tr>\n      <th>164</th>\n      <td>CUIHSIWYWATEQL</td>\n      <td>PAZOPANIB</td>\n      <td>NaN</td>\n      <td>NaN</td>\n      <td>4</td>\n      <td>4</td>\n      <td>117</td>\n    </tr>\n  </tbody>\n</table>\n</div>"
     },
     "execution_count": 19,
     "metadata": {},
     "output_type": "execute_result"
    }
   ],
   "source": [
    "# Check which compounds are approved\n",
    "explore_cluster_compound_info(cluster_df_unique, analysis_accession, analysis_type='approval', output_type='df', \n",
    "                              sort='both')"
   ],
   "metadata": {
    "collapsed": false,
    "ExecuteTime": {
     "end_time": "2023-12-19T18:28:11.194188100Z",
     "start_time": "2023-12-19T18:28:10.750213200Z"
    }
   },
   "id": "5e3282fd79dd4450"
  },
  {
   "cell_type": "code",
   "execution_count": 20,
   "outputs": [
    {
     "data": {
      "text/plain": "                   connectivity             pref_name\ncluster max_phase                                    \n1       0                   250                 [nan]\n        3                     1         [ROCILETINIB]\n        4                     1         [OSIMERTINIB]\n        0;2                   1         [nan;BI-2536]\n2       0                   226  [nan, AZD-1152-HQPA]\n...                         ...                   ...\n114     1                     1           [CEP-32496]\n115     4                     1         [SELUMETINIB]\n116     3                     1         [QUIZARTINIB]\n117     4                     1           [PAZOPANIB]\n118     0;3                   1       [nan;ALVOCIDIB]\n\n[145 rows x 2 columns]",
      "text/html": "<div>\n<style scoped>\n    .dataframe tbody tr th:only-of-type {\n        vertical-align: middle;\n    }\n\n    .dataframe tbody tr th {\n        vertical-align: top;\n    }\n\n    .dataframe thead th {\n        text-align: right;\n    }\n</style>\n<table border=\"1\" class=\"dataframe\">\n  <thead>\n    <tr style=\"text-align: right;\">\n      <th></th>\n      <th></th>\n      <th>connectivity</th>\n      <th>pref_name</th>\n    </tr>\n    <tr>\n      <th>cluster</th>\n      <th>max_phase</th>\n      <th></th>\n      <th></th>\n    </tr>\n  </thead>\n  <tbody>\n    <tr>\n      <th rowspan=\"4\" valign=\"top\">1</th>\n      <th>0</th>\n      <td>250</td>\n      <td>[nan]</td>\n    </tr>\n    <tr>\n      <th>3</th>\n      <td>1</td>\n      <td>[ROCILETINIB]</td>\n    </tr>\n    <tr>\n      <th>4</th>\n      <td>1</td>\n      <td>[OSIMERTINIB]</td>\n    </tr>\n    <tr>\n      <th>0;2</th>\n      <td>1</td>\n      <td>[nan;BI-2536]</td>\n    </tr>\n    <tr>\n      <th>2</th>\n      <th>0</th>\n      <td>226</td>\n      <td>[nan, AZD-1152-HQPA]</td>\n    </tr>\n    <tr>\n      <th>...</th>\n      <th>...</th>\n      <td>...</td>\n      <td>...</td>\n    </tr>\n    <tr>\n      <th>114</th>\n      <th>1</th>\n      <td>1</td>\n      <td>[CEP-32496]</td>\n    </tr>\n    <tr>\n      <th>115</th>\n      <th>4</th>\n      <td>1</td>\n      <td>[SELUMETINIB]</td>\n    </tr>\n    <tr>\n      <th>116</th>\n      <th>3</th>\n      <td>1</td>\n      <td>[QUIZARTINIB]</td>\n    </tr>\n    <tr>\n      <th>117</th>\n      <th>4</th>\n      <td>1</td>\n      <td>[PAZOPANIB]</td>\n    </tr>\n    <tr>\n      <th>118</th>\n      <th>0;3</th>\n      <td>1</td>\n      <td>[nan;ALVOCIDIB]</td>\n    </tr>\n  </tbody>\n</table>\n<p>145 rows × 2 columns</p>\n</div>"
     },
     "execution_count": 20,
     "metadata": {},
     "output_type": "execute_result"
    }
   ],
   "source": [
    "# Check how many compounds per cluster are in different states of clinical trials\n",
    "(cluster_df_unique.groupby(['cluster','max_phase']).agg({'connectivity':'nunique','pref_name':'unique'}))"
   ],
   "metadata": {
    "collapsed": false,
    "ExecuteTime": {
     "end_time": "2023-12-19T18:28:11.320321800Z",
     "start_time": "2023-12-19T18:28:11.119992600Z"
    }
   },
   "id": "51397678714a3727"
  }
 ],
 "metadata": {
  "kernelspec": {
   "display_name": "Python 3",
   "language": "python",
   "name": "python3"
  },
  "language_info": {
   "codemirror_mode": {
    "name": "ipython",
    "version": 2
   },
   "file_extension": ".py",
   "mimetype": "text/x-python",
   "name": "python",
   "nbconvert_exporter": "python",
   "pygments_lexer": "ipython2",
   "version": "2.7.6"
  }
 },
 "nbformat": 4,
 "nbformat_minor": 5
}
